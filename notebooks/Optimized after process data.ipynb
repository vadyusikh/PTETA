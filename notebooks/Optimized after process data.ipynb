{
 "cells": [
  {
   "cell_type": "code",
   "execution_count": 7,
   "id": "fef48cae",
   "metadata": {},
   "outputs": [],
   "source": [
    "import numpy as np\n",
    "import matplotlib.pyplot as plt\n",
    "\n",
    "# !pip install folium\n",
    "import folium\n",
    "\n",
    "\n",
    "\n",
    "from collections import Counter"
   ]
  },
  {
   "cell_type": "code",
   "execution_count": null,
   "id": "f6ed2f25",
   "metadata": {
    "scrolled": true
   },
   "outputs": [],
   "source": []
  },
  {
   "cell_type": "code",
   "execution_count": 3,
   "id": "f6883ac5",
   "metadata": {},
   "outputs": [],
   "source": [
    "# DATEBASE_NAME = '18_SEP_2022'\n",
    "# path = pathlib.Path(f\"trans_data_{DATEBASE_NAME}/\")\n",
    "# files_list = list(path.iterdir())\n",
    "\n",
    "# files_list = sorted(files_list)\n",
    "\n",
    "# len(files_list)"
   ]
  },
  {
   "cell_type": "code",
   "execution_count": 5,
   "id": "e3611e94-1624-4b39-83e4-99f52a3daf3e",
   "metadata": {},
   "outputs": [
    {
     "data": {
      "text/plain": [
       "5788"
      ]
     },
     "execution_count": 5,
     "metadata": {},
     "output_type": "execute_result"
    }
   ],
   "source": [
    "len(fpath_list)//10"
   ]
  },
  {
   "cell_type": "code",
   "execution_count": 4,
   "id": "b2a53240-306f-45d5-b511-d75de610476d",
   "metadata": {
    "tags": []
   },
   "outputs": [
    {
     "data": {
      "application/vnd.jupyter.widget-view+json": {
       "model_id": "937ea3f78e064077af479c288eab9a01",
       "version_major": 2,
       "version_minor": 0
      },
      "text/plain": [
       "  0%|          | 0/2 [00:00<?, ?it/s]"
      ]
     },
     "metadata": {},
     "output_type": "display_data"
    },
    {
     "data": {
      "application/vnd.jupyter.widget-view+json": {
       "model_id": "f49684a57ea94a9f937ef478719e3cd7",
       "version_major": 2,
       "version_minor": 0
      },
      "text/plain": [
       "Read trans_data_30_SEP_2022 to write df:   0%|          | 0/57584 [00:00<?, ?it/s]"
      ]
     },
     "metadata": {},
     "output_type": "display_data"
    },
    {
     "name": "stdout",
     "output_type": "stream",
     "text": [
      "Total duplicates are 198 of 272365\n"
     ]
    },
    {
     "data": {
      "application/vnd.jupyter.widget-view+json": {
       "model_id": "9bb54629c8ec45f0a826da90fa903bd5",
       "version_major": 2,
       "version_minor": 0
      },
      "text/plain": [
       "Zip trans_data_30_SEP_2022:   0%|          | 0/57584 [00:00<?, ?it/s]"
      ]
     },
     "metadata": {},
     "output_type": "display_data"
    },
    {
     "data": {
      "application/vnd.jupyter.widget-view+json": {
       "model_id": "0ba3e5eb2c8b400087bdb5275fce5969",
       "version_major": 2,
       "version_minor": 0
      },
      "text/plain": [
       "Read trans_data_01_OCT_2022 to write df:   0%|          | 0/55162 [00:00<?, ?it/s]"
      ]
     },
     "metadata": {},
     "output_type": "display_data"
    },
    {
     "name": "stdout",
     "output_type": "stream",
     "text": [
      "Total duplicates are 1612 of 185718\n"
     ]
    },
    {
     "data": {
      "application/vnd.jupyter.widget-view+json": {
       "model_id": "4b12c774d8ae4ee0b2b6ee53f9ed483b",
       "version_major": 2,
       "version_minor": 0
      },
      "text/plain": [
       "Zip trans_data_01_OCT_2022:   0%|          | 0/55162 [00:00<?, ?it/s]"
      ]
     },
     "metadata": {},
     "output_type": "display_data"
    }
   ],
   "source": [
    "import os\n",
    "import json\n",
    "import pandas as pd\n",
    "import zipfile\n",
    "from concurrent.futures import ThreadPoolExecutor\n",
    "from tqdm.auto import tqdm\n",
    "from datetime import datetime, timedelta\n",
    "import pathlib\n",
    "import shutil\n",
    "\n",
    "\n",
    "def read_json_TPE(f_path): \n",
    "    try:\n",
    "        with open(f_path, 'r', encoding = 'utf-8') as file: \n",
    "            return (json.load(file), None)\n",
    "    except Exception as e: \n",
    "        print(f\"Unable to open : {f_path}\")\n",
    "        print(f\"Exception is '{e}'\")\n",
    "        return (None, file)\n",
    "    \n",
    "\n",
    "def get_df(jsons_content):\n",
    "    data = list()\n",
    "    for r in jsons_content: \n",
    "        if r[1] is None:\n",
    "            data += [val for _, val in r[0].items()]\n",
    "\n",
    "    df = pd.DataFrame(data)\n",
    "    print(f\"Total duplicates are {df.duplicated().value_counts().get(True, 0)} of {len(df)}\")   \n",
    "    return df.drop_duplicates()\n",
    "\n",
    "\n",
    "def folder_to_df(folder):\n",
    "    fpaths_list = list(folder.iterdir())\n",
    "    fpaths_list = sorted(fpaths_list)\n",
    "    \n",
    "    with ThreadPoolExecutor(max_workers=40) as executor:\n",
    "        fpath_list = fpaths_list\n",
    "        results = list(tqdm(executor.map(read_json_TPE, fpath_list), \n",
    "                            total=len(fpath_list), \n",
    "                            miniters=int(len(fpath_list)//10),\n",
    "                            desc=f\"Read {str(folder)} to write df\", ascii=True \n",
    "                           )\n",
    "                      )\n",
    "            \n",
    "    df = get_df(results)\n",
    "    df.to_csv(f\"tables\\data_for_{str(folder)[11:]}.csv\", \n",
    "              encoding='utf-8', index=False, header='true')\n",
    "\n",
    "\n",
    "def zipdir(path, ziph):\n",
    "    # ziph is zipfile handle\n",
    "    for root, dirs, files in os.walk(path):\n",
    "        for file in tqdm(files, position=0, leave=True, desc=f\"Zip {path}\"):\n",
    "            ziph.write(os.path.join(root, file), \n",
    "                       os.path.relpath(os.path.join(root, file), \n",
    "                                       os.path.join(path, '..')))\n",
    "\n",
    "\n",
    "def write_zip_archive(folder): \n",
    "    zip_fname = f\"archives/{folder}.zip\"\n",
    "    with zipfile.ZipFile(zip_fname, 'w', zipfile.ZIP_DEFLATED) as zipf:\n",
    "        zipdir(f\"{folder}\", zipf)\n",
    "    \n",
    "\n",
    "\n",
    "folders_list = [p for p in pathlib.Path().iterdir() if 'trans_data_' in str(p)]\n",
    "folders_list = sorted(folders_list, key=lambda x: datetime.strptime(str(x)[11:], '%d_%b_%Y'))[:-1]\n",
    "\n",
    "pbar = tqdm(folders_list, leave=False)\n",
    "for folder in pbar:\n",
    "    folder_to_df(folder)\n",
    "    write_zip_archive(folder)\n",
    "    print(f\"Start delete {folder}\")\n",
    "    shutil.rmtree(folder)\n",
    "    print(f\"{folder} is deleted\")"
   ]
  },
  {
   "cell_type": "code",
   "execution_count": 2,
   "id": "f32effb4-548e-414a-a2eb-42151e8a9aa5",
   "metadata": {},
   "outputs": [],
   "source": [
    "# ziph"
   ]
  },
  {
   "cell_type": "code",
   "execution_count": 67,
   "id": "9ec9f6ee-170d-4966-b722-5c7c17de3b52",
   "metadata": {},
   "outputs": [
    {
     "name": "stdout",
     "output_type": "stream",
     "text": [
      "Total duplicates are 2387 of 173295\n"
     ]
    }
   ],
   "source": [
    "df = get_df(results)"
   ]
  },
  {
   "cell_type": "code",
   "execution_count": 73,
   "id": "cc4bd049-b0cc-4fc5-8f65-36ca2268a508",
   "metadata": {},
   "outputs": [
    {
     "data": {
      "text/plain": [
       "WindowsPath('trans_data_18_SEP_2022')"
      ]
     },
     "execution_count": 73,
     "metadata": {},
     "output_type": "execute_result"
    }
   ],
   "source": [
    "folder"
   ]
  },
  {
   "cell_type": "code",
   "execution_count": 15,
   "id": "fb618234-8a9c-4ce1-8b02-19b7dd06c0f5",
   "metadata": {},
   "outputs": [
    {
     "name": "stderr",
     "output_type": "stream",
     "text": [
      "c:\\program files\\python38\\lib\\site-packages\\IPython\\core\\interactiveshell.py:3169: DtypeWarning: Columns (14) have mixed types.Specify dtype option on import or set low_memory=False.\n",
      "  has_raised = await self.run_ast_nodes(code_ast.body, cell_name,\n"
     ]
    }
   ],
   "source": [
    "df = pd.read_table('tables/data_for_30_SEP_2022.csv', sep=',')"
   ]
  },
  {
   "cell_type": "code",
   "execution_count": 16,
   "id": "94cdc407-1205-41dd-b50e-2b3064647441",
   "metadata": {},
   "outputs": [
    {
     "data": {
      "text/plain": [
       "Index(['id', 'imei', 'name', 'stateCode', 'stateName', 'lat', 'lng', 'speed',\n",
       "       'orientation', 'gpstime', 'routeId', 'routeName', 'routeColour',\n",
       "       'inDepo', 'busNumber', 'perevId', 'perevName', 'remark', 'online',\n",
       "       'idBusTypes'],\n",
       "      dtype='object')"
      ]
     },
     "execution_count": 16,
     "metadata": {},
     "output_type": "execute_result"
    }
   ],
   "source": [
    "df.keys()"
   ]
  },
  {
   "cell_type": "code",
   "execution_count": null,
   "id": "9b10e917-6d3c-4ef0-9b93-9547731f8972",
   "metadata": {},
   "outputs": [],
   "source": [
    "'id', 'imei', 'name', 'stateCode', 'stateName', , \n",
    "        'busNumber', 'perevId', 'perevName', 'remark', 'online',\n",
    "       'idBusTypes'"
   ]
  },
  {
   "cell_type": "code",
   "execution_count": null,
   "id": "9bd59523-1d20-4423-801a-6df4c5462b3c",
   "metadata": {},
   "outputs": [],
   "source": [
    "gpsdata\n",
    "'lat', 'lng', 'speed', 'orientation', 'gpstime', 'inDepo', | 'routeId',\n",
    "entity \n",
    "'entityId', 'imei', 'name', 'busNumber', | 'perevId', 'routeId'\n",
    "owner \n",
    "\"perevId\", 'perevName', 'remark'\n",
    "route\n",
    "'routeId', 'routeName', 'routeColour',\n",
    "\n",
    "stateCode stateName"
   ]
  },
  {
   "cell_type": "code",
   "execution_count": 17,
   "id": "8b9ab612-1b4b-4460-b107-cf002764869f",
   "metadata": {},
   "outputs": [
    {
     "data": {
      "text/plain": [
       "355227046453387    4782\n",
       "355228042084283    4753\n",
       "355227045539541    4328\n",
       "355227046450904    4197\n",
       "355227046283032    4177\n",
       "                   ... \n",
       "355227046451043      73\n",
       "355227046451399      23\n",
       "355227046451670      21\n",
       "355227046451506      18\n",
       "355228043198777       6\n",
       "Name: imei, Length: 97, dtype: int64"
      ]
     },
     "execution_count": 17,
     "metadata": {},
     "output_type": "execute_result"
    }
   ],
   "source": [
    "df['imei'].value_counts() "
   ]
  },
  {
   "cell_type": "code",
   "execution_count": 18,
   "id": "2ddef9bb-68f2-4fb3-8f88-c1c5697b9145",
   "metadata": {},
   "outputs": [
    {
     "data": {
      "text/plain": [
       "busNumber\n",
       "3627         4512\n",
       "1032         4222\n",
       "6159         4185\n",
       "6001         4164\n",
       "1181         3935\n",
       "             ... \n",
       "335             5\n",
       "1098            4\n",
       "364             4\n",
       "8716            3\n",
       "1031            3\n",
       "Length: 164, dtype: int64"
      ]
     },
     "execution_count": 18,
     "metadata": {},
     "output_type": "execute_result"
    }
   ],
   "source": [
    "# sel_df = df[df[\"imei\"] == 355227045371655][['imei', 'busNumber', \"name\"]].value_counts()\n",
    "# sel_df = df[['imei', 'busNumber', \"name\"]].value_counts()\n",
    "sel_df = df[['busNumber']].value_counts()\n",
    "\n",
    "sel_df\n",
    "\n",
    "\n",
    "#   "
   ]
  },
  {
   "cell_type": "code",
   "execution_count": 20,
   "id": "c70294cb-7733-47d4-96db-c3f1fba3b51a",
   "metadata": {},
   "outputs": [
    {
     "data": {
      "text/html": [
       "<div>\n",
       "<style scoped>\n",
       "    .dataframe tbody tr th:only-of-type {\n",
       "        vertical-align: middle;\n",
       "    }\n",
       "\n",
       "    .dataframe tbody tr th {\n",
       "        vertical-align: top;\n",
       "    }\n",
       "\n",
       "    .dataframe thead th {\n",
       "        text-align: right;\n",
       "    }\n",
       "</style>\n",
       "<table border=\"1\" class=\"dataframe\">\n",
       "  <thead>\n",
       "    <tr style=\"text-align: right;\">\n",
       "      <th></th>\n",
       "      <th>id</th>\n",
       "      <th>imei</th>\n",
       "      <th>name</th>\n",
       "      <th>stateCode</th>\n",
       "      <th>stateName</th>\n",
       "      <th>lat</th>\n",
       "      <th>lng</th>\n",
       "      <th>speed</th>\n",
       "      <th>orientation</th>\n",
       "      <th>gpstime</th>\n",
       "      <th>routeId</th>\n",
       "      <th>routeName</th>\n",
       "      <th>routeColour</th>\n",
       "      <th>inDepo</th>\n",
       "      <th>busNumber</th>\n",
       "      <th>perevId</th>\n",
       "      <th>perevName</th>\n",
       "      <th>remark</th>\n",
       "      <th>online</th>\n",
       "      <th>idBusTypes</th>\n",
       "    </tr>\n",
       "  </thead>\n",
       "  <tbody>\n",
       "  </tbody>\n",
       "</table>\n",
       "</div>"
      ],
      "text/plain": [
       "Empty DataFrame\n",
       "Columns: [id, imei, name, stateCode, stateName, lat, lng, speed, orientation, gpstime, routeId, routeName, routeColour, inDepo, busNumber, perevId, perevName, remark, online, idBusTypes]\n",
       "Index: []"
      ]
     },
     "execution_count": 20,
     "metadata": {},
     "output_type": "execute_result"
    }
   ],
   "source": [
    "df[df[\"imei\"] == '']"
   ]
  },
  {
   "cell_type": "code",
   "execution_count": 21,
   "id": "50a6a606",
   "metadata": {},
   "outputs": [
    {
     "ename": "NameError",
     "evalue": "name 'total_records_num' is not defined",
     "output_type": "error",
     "traceback": [
      "\u001b[1;31m---------------------------------------------------------------------------\u001b[0m",
      "\u001b[1;31mNameError\u001b[0m                                 Traceback (most recent call last)",
      "\u001b[1;32m<ipython-input-21-b30634c6772b>\u001b[0m in \u001b[0;36m<module>\u001b[1;34m\u001b[0m\n\u001b[1;32m----> 1\u001b[1;33m \u001b[0mplt\u001b[0m\u001b[1;33m.\u001b[0m\u001b[0mplot\u001b[0m\u001b[1;33m(\u001b[0m\u001b[0mtotal_records_num\u001b[0m\u001b[1;33m)\u001b[0m\u001b[1;33m\u001b[0m\u001b[1;33m\u001b[0m\u001b[0m\n\u001b[0m",
      "\u001b[1;31mNameError\u001b[0m: name 'total_records_num' is not defined"
     ]
    }
   ],
   "source": [
    "plt.plot(total_records_num)"
   ]
  },
  {
   "cell_type": "code",
   "execution_count": 12,
   "id": "0213398e",
   "metadata": {},
   "outputs": [
    {
     "data": {
      "text/plain": [
       "355227046638821    5016\n",
       "355227046450946    4328\n",
       "355227045539921    4174\n",
       "355227046504098    4052\n",
       "355227045600871    3920\n",
       "355227046447371    3870\n",
       "355227046451290    3833\n",
       "355227045600988    3829\n",
       "355227045540192    3800\n",
       "355227046451530    3591\n",
       "Name: imei, dtype: int64"
      ]
     },
     "execution_count": 12,
     "metadata": {},
     "output_type": "execute_result"
    }
   ],
   "source": [
    "sum_df['imei'].value_counts()[:10]"
   ]
  },
  {
   "cell_type": "code",
   "execution_count": 173,
   "id": "693261aa",
   "metadata": {},
   "outputs": [
    {
     "data": {
      "text/plain": [
       "355227045371655    554\n",
       "355227046451464    461\n",
       "355227046505244    390\n",
       "355227046283032    312\n",
       "355227045600830    301\n",
       "355227045369527    298\n",
       "355227046451332    290\n",
       "355227046507810    230\n",
       "355227045540127    185\n",
       "355227045540234    102\n",
       "Name: imei, dtype: int64"
      ]
     },
     "execution_count": 173,
     "metadata": {},
     "output_type": "execute_result"
    }
   ],
   "source": [
    "sum_df['imei'].value_counts()[-20:-10]"
   ]
  },
  {
   "cell_type": "code",
   "execution_count": 25,
   "id": "763788fb",
   "metadata": {},
   "outputs": [
    {
     "data": {
      "text/html": [
       "<div>\n",
       "<style scoped>\n",
       "    .dataframe tbody tr th:only-of-type {\n",
       "        vertical-align: middle;\n",
       "    }\n",
       "\n",
       "    .dataframe tbody tr th {\n",
       "        vertical-align: top;\n",
       "    }\n",
       "\n",
       "    .dataframe thead th {\n",
       "        text-align: right;\n",
       "    }\n",
       "</style>\n",
       "<table border=\"1\" class=\"dataframe\">\n",
       "  <thead>\n",
       "    <tr style=\"text-align: right;\">\n",
       "      <th></th>\n",
       "      <th>id</th>\n",
       "      <th>imei</th>\n",
       "      <th>name</th>\n",
       "      <th>stateCode</th>\n",
       "      <th>stateName</th>\n",
       "      <th>lat</th>\n",
       "      <th>lng</th>\n",
       "      <th>speed</th>\n",
       "      <th>orientation</th>\n",
       "      <th>gpstime</th>\n",
       "      <th>routeId</th>\n",
       "      <th>routeName</th>\n",
       "      <th>routeColour</th>\n",
       "      <th>inDepo</th>\n",
       "      <th>busNumber</th>\n",
       "      <th>perevId</th>\n",
       "      <th>perevName</th>\n",
       "      <th>remark</th>\n",
       "      <th>online</th>\n",
       "      <th>idBusTypes</th>\n",
       "    </tr>\n",
       "  </thead>\n",
       "  <tbody>\n",
       "    <tr>\n",
       "      <th>2</th>\n",
       "      <td>243</td>\n",
       "      <td>355227045600988</td>\n",
       "      <td>A158</td>\n",
       "      <td>used</td>\n",
       "      <td>used</td>\n",
       "      <td>48.276937</td>\n",
       "      <td>25.943095</td>\n",
       "      <td>13.0</td>\n",
       "      <td>160.25</td>\n",
       "      <td>2022-09-29 23:00:05</td>\n",
       "      <td>33</td>\n",
       "      <td>8T</td>\n",
       "      <td>coral</td>\n",
       "      <td>False</td>\n",
       "      <td>324</td>\n",
       "      <td>6</td>\n",
       "      <td>ЧТУ</td>\n",
       "      <td>Тролейбус 324 DNSNK</td>\n",
       "      <td>True</td>\n",
       "      <td>2</td>\n",
       "    </tr>\n",
       "    <tr>\n",
       "      <th>3</th>\n",
       "      <td>243</td>\n",
       "      <td>355227045600988</td>\n",
       "      <td>A158</td>\n",
       "      <td>used</td>\n",
       "      <td>used</td>\n",
       "      <td>48.275840</td>\n",
       "      <td>25.943697</td>\n",
       "      <td>15.0</td>\n",
       "      <td>158.38</td>\n",
       "      <td>2022-09-29 23:00:35</td>\n",
       "      <td>33</td>\n",
       "      <td>8T</td>\n",
       "      <td>coral</td>\n",
       "      <td>False</td>\n",
       "      <td>324</td>\n",
       "      <td>6</td>\n",
       "      <td>ЧТУ</td>\n",
       "      <td>Тролейбус 324 DNSNK</td>\n",
       "      <td>True</td>\n",
       "      <td>2</td>\n",
       "    </tr>\n",
       "    <tr>\n",
       "      <th>4</th>\n",
       "      <td>243</td>\n",
       "      <td>355227045600988</td>\n",
       "      <td>A158</td>\n",
       "      <td>used</td>\n",
       "      <td>used</td>\n",
       "      <td>48.275478</td>\n",
       "      <td>25.943930</td>\n",
       "      <td>14.8</td>\n",
       "      <td>161.61</td>\n",
       "      <td>2022-09-29 23:00:45</td>\n",
       "      <td>33</td>\n",
       "      <td>8T</td>\n",
       "      <td>coral</td>\n",
       "      <td>False</td>\n",
       "      <td>324</td>\n",
       "      <td>6</td>\n",
       "      <td>ЧТУ</td>\n",
       "      <td>Тролейбус 324 DNSNK</td>\n",
       "      <td>True</td>\n",
       "      <td>2</td>\n",
       "    </tr>\n",
       "    <tr>\n",
       "      <th>5</th>\n",
       "      <td>243</td>\n",
       "      <td>355227045600988</td>\n",
       "      <td>A158</td>\n",
       "      <td>used</td>\n",
       "      <td>used</td>\n",
       "      <td>48.275170</td>\n",
       "      <td>25.944118</td>\n",
       "      <td>10.5</td>\n",
       "      <td>163.50</td>\n",
       "      <td>2022-09-29 23:00:55</td>\n",
       "      <td>33</td>\n",
       "      <td>8T</td>\n",
       "      <td>coral</td>\n",
       "      <td>False</td>\n",
       "      <td>324</td>\n",
       "      <td>6</td>\n",
       "      <td>ЧТУ</td>\n",
       "      <td>Тролейбус 324 DNSNK</td>\n",
       "      <td>True</td>\n",
       "      <td>2</td>\n",
       "    </tr>\n",
       "    <tr>\n",
       "      <th>6</th>\n",
       "      <td>243</td>\n",
       "      <td>355227045600988</td>\n",
       "      <td>A158</td>\n",
       "      <td>used</td>\n",
       "      <td>used</td>\n",
       "      <td>48.274850</td>\n",
       "      <td>25.944343</td>\n",
       "      <td>16.6</td>\n",
       "      <td>158.42</td>\n",
       "      <td>2022-09-29 23:01:05</td>\n",
       "      <td>33</td>\n",
       "      <td>8T</td>\n",
       "      <td>coral</td>\n",
       "      <td>False</td>\n",
       "      <td>324</td>\n",
       "      <td>6</td>\n",
       "      <td>ЧТУ</td>\n",
       "      <td>Тролейбус 324 DNSNK</td>\n",
       "      <td>True</td>\n",
       "      <td>2</td>\n",
       "    </tr>\n",
       "  </tbody>\n",
       "</table>\n",
       "</div>"
      ],
      "text/plain": [
       "    id             imei  name stateCode stateName        lat        lng  \\\n",
       "2  243  355227045600988  A158      used      used  48.276937  25.943095   \n",
       "3  243  355227045600988  A158      used      used  48.275840  25.943697   \n",
       "4  243  355227045600988  A158      used      used  48.275478  25.943930   \n",
       "5  243  355227045600988  A158      used      used  48.275170  25.944118   \n",
       "6  243  355227045600988  A158      used      used  48.274850  25.944343   \n",
       "\n",
       "   speed  orientation              gpstime  routeId routeName routeColour  \\\n",
       "2   13.0       160.25  2022-09-29 23:00:05       33        8T       coral   \n",
       "3   15.0       158.38  2022-09-29 23:00:35       33        8T       coral   \n",
       "4   14.8       161.61  2022-09-29 23:00:45       33        8T       coral   \n",
       "5   10.5       163.50  2022-09-29 23:00:55       33        8T       coral   \n",
       "6   16.6       158.42  2022-09-29 23:01:05       33        8T       coral   \n",
       "\n",
       "   inDepo busNumber  perevId perevName               remark  online  \\\n",
       "2   False       324        6       ЧТУ  Тролейбус 324 DNSNK    True   \n",
       "3   False       324        6       ЧТУ  Тролейбус 324 DNSNK    True   \n",
       "4   False       324        6       ЧТУ  Тролейбус 324 DNSNK    True   \n",
       "5   False       324        6       ЧТУ  Тролейбус 324 DNSNK    True   \n",
       "6   False       324        6       ЧТУ  Тролейбус 324 DNSNK    True   \n",
       "\n",
       "   idBusTypes  \n",
       "2           2  \n",
       "3           2  \n",
       "4           2  \n",
       "5           2  \n",
       "6           2  "
      ]
     },
     "execution_count": 25,
     "metadata": {},
     "output_type": "execute_result"
    }
   ],
   "source": [
    "vehicle_df = df[df['imei'] == 355227045600988]\n",
    "# vehicle_df = sum_df[sum_df['imei'] == '355227045369527']\n",
    "\n",
    "vehicle_df.head(5)"
   ]
  },
  {
   "cell_type": "code",
   "execution_count": 27,
   "id": "ee5db220",
   "metadata": {},
   "outputs": [
    {
     "data": {
      "text/plain": [
       "routeName  routeColour\n",
       "8T         coral          2057\n",
       "dtype: int64"
      ]
     },
     "execution_count": 27,
     "metadata": {},
     "output_type": "execute_result"
    }
   ],
   "source": [
    "vehicle_df[['routeName', 'routeColour']].value_counts()"
   ]
  },
  {
   "cell_type": "code",
   "execution_count": 28,
   "id": "fbcc9cf6",
   "metadata": {},
   "outputs": [],
   "source": [
    "import matplotlib as mpl\n",
    "\n",
    "cm = mpl.cm.get_cmap('jet')\n",
    "# viridis = mpl.colormaps['viridis'].resampled(8)"
   ]
  },
  {
   "cell_type": "code",
   "execution_count": 32,
   "id": "907316a9",
   "metadata": {
    "scrolled": true
   },
   "outputs": [
    {
     "data": {
      "text/html": [
       "<div style=\"width:100%;\"><div style=\"position:relative;width:100%;height:0;padding-bottom:60%;\"><span style=\"color:#565656\">Make this Notebook Trusted to load map: File -> Trust Notebook</span><iframe srcdoc=\"&lt;!DOCTYPE html&gt;\n",
       "&lt;head&gt;    \n",
       "    &lt;meta http-equiv=&quot;content-type&quot; content=&quot;text/html; charset=UTF-8&quot; /&gt;\n",
       "    \n",
       "        &lt;script&gt;\n",
       "            L_NO_TOUCH = false;\n",
       "            L_DISABLE_3D = false;\n",
       "        &lt;/script&gt;\n",
       "    \n",
       "    &lt;style&gt;html, body {width: 100%;height: 100%;margin: 0;padding: 0;}&lt;/style&gt;\n",
       "    &lt;style&gt;#map {position:absolute;top:0;bottom:0;right:0;left:0;}&lt;/style&gt;\n",
       "    &lt;script src=&quot;https://cdn.jsdelivr.net/npm/leaflet@1.6.0/dist/leaflet.js&quot;&gt;&lt;/script&gt;\n",
       "    &lt;script src=&quot;https://code.jquery.com/jquery-1.12.4.min.js&quot;&gt;&lt;/script&gt;\n",
       "    &lt;script src=&quot;https://maxcdn.bootstrapcdn.com/bootstrap/3.2.0/js/bootstrap.min.js&quot;&gt;&lt;/script&gt;\n",
       "    &lt;script src=&quot;https://cdnjs.cloudflare.com/ajax/libs/Leaflet.awesome-markers/2.0.2/leaflet.awesome-markers.js&quot;&gt;&lt;/script&gt;\n",
       "    &lt;link rel=&quot;stylesheet&quot; href=&quot;https://cdn.jsdelivr.net/npm/leaflet@1.6.0/dist/leaflet.css&quot;/&gt;\n",
       "    &lt;link rel=&quot;stylesheet&quot; href=&quot;https://maxcdn.bootstrapcdn.com/bootstrap/3.2.0/css/bootstrap.min.css&quot;/&gt;\n",
       "    &lt;link rel=&quot;stylesheet&quot; href=&quot;https://maxcdn.bootstrapcdn.com/bootstrap/3.2.0/css/bootstrap-theme.min.css&quot;/&gt;\n",
       "    &lt;link rel=&quot;stylesheet&quot; href=&quot;https://maxcdn.bootstrapcdn.com/font-awesome/4.6.3/css/font-awesome.min.css&quot;/&gt;\n",
       "    &lt;link rel=&quot;stylesheet&quot; href=&quot;https://cdnjs.cloudflare.com/ajax/libs/Leaflet.awesome-markers/2.0.2/leaflet.awesome-markers.css&quot;/&gt;\n",
       "    &lt;link rel=&quot;stylesheet&quot; href=&quot;https://cdn.jsdelivr.net/gh/python-visualization/folium/folium/templates/leaflet.awesome.rotate.min.css&quot;/&gt;\n",
       "    \n",
       "            &lt;meta name=&quot;viewport&quot; content=&quot;width=device-width,\n",
       "                initial-scale=1.0, maximum-scale=1.0, user-scalable=no&quot; /&gt;\n",
       "            &lt;style&gt;\n",
       "                #map_01a3c60f35c839baf1aae479ca3e7187 {\n",
       "                    position: relative;\n",
       "                    width: 55.0%;\n",
       "                    height: 50.0%;\n",
       "                    left: 0.0%;\n",
       "                    top: 0.0%;\n",
       "                }\n",
       "            &lt;/style&gt;\n",
       "        \n",
       "&lt;/head&gt;\n",
       "&lt;body&gt;    \n",
       "    \n",
       "            &lt;div class=&quot;folium-map&quot; id=&quot;map_01a3c60f35c839baf1aae479ca3e7187&quot; &gt;&lt;/div&gt;\n",
       "        \n",
       "&lt;/body&gt;\n",
       "&lt;script&gt;    \n",
       "    \n",
       "            var map_01a3c60f35c839baf1aae479ca3e7187 = L.map(\n",
       "                &quot;map_01a3c60f35c839baf1aae479ca3e7187&quot;,\n",
       "                {\n",
       "                    center: [48.27620267460703, 25.94630147950089],\n",
       "                    crs: L.CRS.EPSG3857,\n",
       "                    zoom: 12,\n",
       "                    zoomControl: true,\n",
       "                    preferCanvas: false,\n",
       "                }\n",
       "            );\n",
       "\n",
       "            \n",
       "\n",
       "        \n",
       "    \n",
       "            var tile_layer_e0155c371589fbdd91d79be4538de4fb = L.tileLayer(\n",
       "                &quot;https://{s}.tile.openstreetmap.org/{z}/{x}/{y}.png&quot;,\n",
       "                {&quot;attribution&quot;: &quot;Data by \\u0026copy; \\u003ca href=\\&quot;http://openstreetmap.org\\&quot;\\u003eOpenStreetMap\\u003c/a\\u003e, under \\u003ca href=\\&quot;http://www.openstreetmap.org/copyright\\&quot;\\u003eODbL\\u003c/a\\u003e.&quot;, &quot;detectRetina&quot;: false, &quot;maxNativeZoom&quot;: 18, &quot;maxZoom&quot;: 18, &quot;minZoom&quot;: 0, &quot;noWrap&quot;: false, &quot;opacity&quot;: 1, &quot;subdomains&quot;: &quot;abc&quot;, &quot;tms&quot;: false}\n",
       "            ).addTo(map_01a3c60f35c839baf1aae479ca3e7187);\n",
       "        \n",
       "    \n",
       "            var poly_line_7e8514649bfc005c9e013709b0ba2fd7 = L.polyline(\n",
       "                [[48.27693666666666, 25.943095], [48.27584, 25.943696666666668], [48.27547833333333, 25.94393], [48.27517, 25.94411833333333], [48.27485, 25.94434333333333], [48.274495, 25.94455], [48.27416166666666, 25.94474333333333], [48.273825, 25.945045], [48.27351, 25.945285], [48.27312333333333, 25.94557], [48.27281666666666, 25.945771666666666], [48.27245666666666, 25.945996666666662], [48.27203833333333, 25.94623333333333], [48.270498333333336, 25.94735], [48.270356666666665, 25.947516666666665], [48.27012333333333, 25.94764333333333], [48.26985166666667, 25.94781833333333], [48.269423333333336, 25.948073333333333], [48.26923333333333, 25.948161666666667], [48.26890333333333, 25.948363333333333], [48.26849333333333, 25.948585], [48.26813, 25.948841666666667], [48.26728333333333, 25.94949666666667], [48.26658166666667, 25.949915], [48.2659, 25.95029], [48.26527166666666, 25.95074333333333], [48.26465833333334, 25.95129333333333], [48.26415333333333, 25.95165], [48.263875, 25.951888333333333], [48.26362, 25.952086666666663], [48.26305166666667, 25.952503333333333], [48.261633333333336, 25.953486666666667], [48.26089833333333, 25.95403], [48.26015833333334, 25.95456833333333], [48.25942666666667, 25.955058333333334], [48.258833333333335, 25.955391666666667], [48.258046666666665, 25.955908333333333], [48.25723333333333, 25.956445], [48.25647, 25.956956666666667], [48.25577333333333, 25.957421666666665], [48.25513333333333, 25.957906666666663], [48.25459833333333, 25.958358333333333], [48.25414333333333, 25.958641666666665], [48.25386833333334, 25.95884333333333], [48.25313333333333, 25.959308333333333], [48.25298333333333, 25.959043333333334], [48.25278333333333, 25.958385], [48.25248833333333, 25.957463333333333], [48.25219666666667, 25.956566666666667], [48.25210333333333, 25.95624], [48.25207833333333, 25.95619], [48.25197, 25.955856666666666], [48.25167833333333, 25.954871666666666], [48.251176666666666, 25.953178333333334], [48.25107333333333, 25.95257833333333], [48.25109833333333, 25.952058333333333], [48.251145, 25.95189833333333], [48.25124666666667, 25.951705], [48.25132, 25.950965], [48.25114666666666, 25.950796666666665], [48.25105, 25.95157833333333], [48.251016666666665, 25.95240666666667], [48.251105, 25.953076666666668], [48.251335, 25.95386333333333], [48.251621666666665, 25.95487], [48.25192, 25.955851666666668], [48.252255, 25.956903333333333], [48.252545, 25.95790333333333], [48.25287166666666, 25.958761666666668], [48.253035, 25.959285], [48.253346666666665, 25.95935], [48.25372, 25.959125], [48.25400333333333, 25.95890333333333], [48.254305, 25.95868833333333], [48.25481, 25.95832833333333], [48.25590666666667, 25.957536666666662], [48.25639666666667, 25.95714333333333], [48.25689333333333, 25.95669], [48.257468333333335, 25.95631833333333], [48.25801, 25.95598333333333], [48.25850666666667, 25.95568833333333], [48.258898333333335, 25.955421666666663], [48.259505, 25.954968333333333], [48.260215, 25.95461333333333], [48.260893333333335, 25.954161666666668], [48.26143166666667, 25.95367333333333], [48.26195166666667, 25.95330166666667], [48.26225, 25.953126666666662], [48.262585, 25.95289333333333], [48.26307333333333, 25.952586666666665], [48.26362833333334, 25.95218333333333], [48.26398666666667, 25.95188333333333], [48.26410333333333, 25.95153], [48.26397333333333, 25.95107], [48.263955, 25.95103333333333], [48.263895, 25.950675], [48.263885, 25.950641666666662], [48.26390333333333, 25.950531666666667], [48.26384333333333, 25.950386666666667], [48.263595, 25.94974], [48.263325, 25.948923333333333], [48.263115, 25.948325], [48.26298666666667, 25.947905], [48.26280333333333, 25.947216666666662], [48.262456666666665, 25.946176666666663], [48.26212666666667, 25.945161666666667], [48.26188166666667, 25.94433], [48.26158333333333, 25.943451666666668], [48.261365, 25.942705], [48.26101333333333, 25.94141], [48.26086, 25.9409], [48.26061666666666, 25.940285], [48.26034666666666, 25.93957], [48.26004666666667, 25.93881333333333], [48.259675, 25.93793833333333], [48.259245, 25.937066666666663], [48.25889166666666, 25.93636833333333], [48.258678333333336, 25.935886666666665], [48.258275, 25.93448666666667], [48.25810166666667, 25.933551666666663], [48.25799833333333, 25.932655], [48.25795333333333, 25.931991666666665], [48.25790833333333, 25.93125], [48.25786166666666, 25.93071], [48.25779833333333, 25.929906666666668], [48.257745, 25.92914833333333], [48.25771, 25.9286], [48.25765, 25.92828], [48.257305, 25.92800666666667], [48.25727833333333, 25.928026666666668], [48.25721, 25.92804], [48.256905, 25.928115], [48.25639, 25.92836833333333], [48.25572666666667, 25.928765], [48.25492833333333, 25.929241666666663], [48.25408333333333, 25.929755], [48.25337666666667, 25.930146666666666], [48.25276, 25.930468333333334], [48.252435, 25.93056], [48.25233833333333, 25.931075], [48.252318333333335, 25.931608333333333], [48.25226333333333, 25.93238833333333], [48.2522, 25.9332], [48.25214666666667, 25.93411833333333], [48.25209666666667, 25.93491], [48.25204333333333, 25.935791666666667], [48.25201333333333, 25.93662833333333], [48.251965, 25.93740333333333], [48.25192166666667, 25.93806333333333], [48.251855, 25.93854], [48.251825, 25.939045], [48.251781666666666, 25.939461666666663], [48.25159333333333, 25.940405], [48.25159333333333, 25.940405], [48.25159333333333, 25.940405], [48.25160833333333, 25.94049], [48.25163, 25.940763333333333], [48.251668333333335, 25.940761666666667], [48.2517, 25.940728333333333], [48.25180833333334, 25.940435], [48.25188, 25.93970333333333], [48.25192166666667, 25.939115], [48.25195, 25.938546666666667], [48.25196833333333, 25.937988333333333], [48.25205, 25.936906666666665], [48.25208666666666, 25.93657333333333], [48.25211, 25.936556666666668], [48.25206833333333, 25.93646333333333], [48.25207833333333, 25.936125], [48.25212333333333, 25.93554], [48.25219166666667, 25.93484], [48.252298333333336, 25.933263333333333], [48.252335, 25.93256333333333], [48.25240166666666, 25.931781666666662], [48.252471666666665, 25.931191666666667], [48.252645, 25.930805], [48.25288333333334, 25.93059333333333], [48.25322333333333, 25.93036833333333], [48.25378833333333, 25.93002], [48.25447333333334, 25.929595], [48.25500666666667, 25.92926333333333], [48.25539666666667, 25.929035], [48.255941666666665, 25.928695], [48.25658666666666, 25.928336666666667], [48.25718, 25.92814333333333], [48.25737, 25.928183333333333], [48.25765833333333, 25.928148333333333], [48.257958333333335, 25.92806], [48.25806666666666, 25.92806333333333], [48.25823, 25.92806], [48.25866666666667, 25.928011666666663], [48.25890833333333, 25.92797], [48.259971666666665, 25.92776333333333], [48.260646666666666, 25.92760833333333], [48.2613, 25.927501666666668], [48.261915, 25.927416666666662], [48.26247166666667, 25.92729333333333], [48.26302333333334, 25.927196666666667], [48.263603333333336, 25.92713333333333], [48.264181666666666, 25.92702833333333], [48.26468333333333, 25.926795], [48.26516333333333, 25.92661333333333], [48.265695, 25.926495], [48.26623, 25.92654333333333], [48.266686666666665, 25.926538333333333], [48.26741833333333, 25.926841666666668]],\n",
       "                {&quot;bubblingMouseEvents&quot;: true, &quot;color&quot;: &quot;#00007f&quot;, &quot;dashArray&quot;: null, &quot;dashOffset&quot;: null, &quot;fill&quot;: false, &quot;fillColor&quot;: &quot;#00007f&quot;, &quot;fillOpacity&quot;: 0.2, &quot;fillRule&quot;: &quot;evenodd&quot;, &quot;lineCap&quot;: &quot;round&quot;, &quot;lineJoin&quot;: &quot;round&quot;, &quot;noClip&quot;: false, &quot;opacity&quot;: 0.8, &quot;smoothFactor&quot;: 1.0, &quot;stroke&quot;: true, &quot;weight&quot;: 2}\n",
       "            ).addTo(map_01a3c60f35c839baf1aae479ca3e7187);\n",
       "        \n",
       "    \n",
       "            var poly_line_03d3537351cdcd2a428b550b4ebdfcff = L.polyline(\n",
       "                [[48.26741833333333, 25.926841666666668], [48.267768333333336, 25.926975], [48.268051666666665, 25.92711], [48.268328333333336, 25.927285], [48.26851666666666, 25.92758333333333], [48.26893166666667, 25.9278], [48.269095, 25.92772833333333], [48.269115, 25.92772666666667], [48.26921333333333, 25.92729], [48.269016666666666, 25.926916666666667], [48.26870666666667, 25.92694], [48.268323333333335, 25.92706833333333], [48.26799333333334, 25.926925], [48.26782833333333, 25.92684333333333], [48.267615, 25.926795], [48.26726833333333, 25.926693333333333], [48.26656166666667, 25.92651833333333], [48.266185, 25.926548333333333], [48.26571, 25.92662333333333], [48.265231666666665, 25.926695], [48.26479666666667, 25.926735], [48.264275, 25.92683333333333], [48.26369, 25.926956666666666], [48.26309666666667, 25.92707], [48.26250833333334, 25.927156666666665], [48.261895, 25.927261666666663], [48.26132166666667, 25.92736], [48.26101, 25.92740833333333], [48.26091666666667, 25.92744833333333], [48.26053, 25.927505], [48.26003666666666, 25.92759333333333], [48.259535, 25.92768166666667], [48.25905, 25.927766666666667], [48.25856666666667, 25.92785333333333], [48.258226666666665, 25.927911666666667], [48.25788166666667, 25.927958333333333], [48.257675, 25.928121666666662], [48.2577, 25.928926666666666], [48.257735, 25.929465], [48.257815, 25.93028], [48.25782333333333, 25.930701666666668], [48.257855, 25.93093], [48.25788, 25.931131666666666], [48.257915, 25.93158833333333], [48.257963333333336, 25.932015], [48.25799166666667, 25.93240833333333], [48.258035, 25.93283], [48.25815166666667, 25.933385], [48.25821333333333, 25.93401], [48.25847, 25.93534], [48.25868166666667, 25.935935], [48.25877833333333, 25.93634833333333], [48.25885, 25.93651833333333], [48.25906, 25.936811666666667], [48.25935333333334, 25.937393333333333], [48.25969333333333, 25.93810833333333], [48.260088333333336, 25.93898], [48.260405, 25.939876666666667], [48.26067833333333, 25.940755], [48.26093333333333, 25.94154], [48.26152666666667, 25.943245], [48.26159833333333, 25.943583333333333], [48.26184, 25.944288333333333], [48.26209333333333, 25.94515], [48.262321666666665, 25.945966666666667], [48.26254333333333, 25.94678833333333], [48.26287833333333, 25.94758833333333], [48.26311666666667, 25.948441666666668], [48.263375, 25.94931833333333], [48.263925, 25.951085], [48.26403833333333, 25.951491666666666], [48.264046666666665, 25.951508333333333], [48.26395, 25.95189], [48.26340166666667, 25.952331666666662], [48.262865, 25.952711666666666], [48.26222166666667, 25.95311], [48.261515, 25.95363], [48.2608, 25.954126666666667], [48.26013833333333, 25.95460333333333], [48.25951, 25.954996666666663], [48.258316666666666, 25.955815], [48.25755333333333, 25.95639], [48.25678833333333, 25.956956666666667], [48.25605, 25.95740333333333], [48.25535833333333, 25.95788333333333], [48.25480833333334, 25.95828833333333], [48.254241666666665, 25.958666666666662], [48.253888333333336, 25.9589], [48.253598333333336, 25.959085], [48.25304666666667, 25.95921333333333], [48.25291166666667, 25.95875833333333], [48.252741666666665, 25.958175], [48.25263666666667, 25.957985], [48.25247333333333, 25.957491666666662], [48.25222, 25.956678333333333], [48.25194666666667, 25.95578], [48.251665, 25.95479], [48.25140833333333, 25.953903333333333], [48.251235, 25.95322833333333], [48.25112166666667, 25.95273333333333], [48.25111666666667, 25.952293333333333], [48.251175, 25.95189], [48.25130166666667, 25.951586666666667], [48.2513, 25.951163333333334], [48.251306666666665, 25.95086], [48.251268333333336, 25.950806666666665], [48.25125166666667, 25.950781666666668], [48.25105833333333, 25.951128333333333], [48.25102166666667, 25.951598333333333], [48.25101833333333, 25.952211666666667], [48.25101833333333, 25.952756666666662], [48.251178333333336, 25.953315], [48.251375, 25.954036666666667], [48.251575, 25.95473833333333], [48.25177333333333, 25.955496666666665], [48.25201166666667, 25.95622], [48.252295, 25.957056666666663], [48.25254, 25.95793], [48.25281, 25.95872333333333], [48.252986666666665, 25.959245], [48.253295, 25.959371666666662], [48.25365333333333, 25.95913833333333], [48.25392833333333, 25.958891666666663], [48.25429, 25.958595], [48.25477833333333, 25.95823833333333], [48.25529, 25.957836666666665], [48.255608333333335, 25.95765833333333], [48.25611666666666, 25.957436666666663], [48.25670333333333, 25.95697333333333], [48.257365, 25.956475], [48.25801333333333, 25.95603], [48.25855333333333, 25.955725], [48.25868, 25.95565], [48.25892833333333, 25.955441666666665], [48.25935666666667, 25.955148333333334], [48.25991833333333, 25.954731666666667], [48.26068, 25.95422], [48.261363333333335, 25.95371833333333], [48.26221833333334, 25.953131666666668], [48.26260666666667, 25.952863333333333], [48.26313833333333, 25.952526666666667], [48.263665, 25.95217333333333], [48.264205, 25.95181], [48.26476666666667, 25.951408333333333], [48.265323333333335, 25.951041666666665], [48.265935, 25.950623333333333], [48.266376666666666, 25.95034666666667], [48.266668333333335, 25.95004], [48.266668333333335, 25.95004], [48.26722, 25.949656666666662], [48.267808333333335, 25.94926], [48.26831666666666, 25.94893666666667], [48.26881333333333, 25.94861333333333], [48.26919166666666, 25.94831333333333], [48.26937, 25.948111666666662], [48.26953, 25.94801333333333], [48.269776666666665, 25.947891666666667], [48.27002333333333, 25.94773], [48.27037666666666, 25.947546666666668], [48.27057166666667, 25.947378333333333], [48.27074666666667, 25.947261666666662], [48.271015, 25.947021666666668], [48.27128166666667, 25.94675833333333], [48.27152333333333, 25.946551666666668], [48.271995, 25.94627333333333], [48.272371666666665, 25.945986666666663], [48.27277, 25.945733333333333], [48.273875, 25.945101666666663], [48.27435333333333, 25.9448], [48.27485166666666, 25.944503333333333], [48.27530333333333, 25.94419], [48.27547333333333, 25.944053333333333], [48.275711666666666, 25.943845], [48.27613166666666, 25.943591666666663], [48.276608333333336, 25.943241666666665], [48.27717666666667, 25.94289333333333], [48.277593333333336, 25.942595], [48.277895, 25.94234833333333], [48.2783, 25.94208], [48.27872833333333, 25.94179], [48.27923166666667, 25.941405], [48.27986833333333, 25.940946666666665], [48.28051333333333, 25.94048], [48.281081666666665, 25.940075], [48.28169166666667, 25.939671666666666], [48.28220833333334, 25.93937], [48.28245666666667, 25.93918833333333], [48.282653333333336, 25.938986666666665], [48.28335833333333, 25.938531666666663], [48.28368666666667, 25.93824333333333], [48.28403333333333, 25.937953333333333], [48.28453833333333, 25.93761], [48.284956666666666, 25.937301666666663], [48.28518, 25.93708833333333], [48.28537166666667, 25.936935], [48.28568833333333, 25.93674333333333], [48.286098333333335, 25.93646333333333], [48.28654, 25.93615833333333], [48.28703333333333, 25.9358], [48.287545, 25.935546666666667], [48.28796666666667, 25.93523666666667], [48.288273333333336, 25.935065], [48.288625, 25.93478333333333], [48.28901666666667, 25.93455], [48.289315, 25.93449], [48.289631666666665, 25.93454], [48.29001333333333, 25.93460333333333]],\n",
       "                {&quot;bubblingMouseEvents&quot;: true, &quot;color&quot;: &quot;#0000f1&quot;, &quot;dashArray&quot;: null, &quot;dashOffset&quot;: null, &quot;fill&quot;: false, &quot;fillColor&quot;: &quot;#0000f1&quot;, &quot;fillOpacity&quot;: 0.2, &quot;fillRule&quot;: &quot;evenodd&quot;, &quot;lineCap&quot;: &quot;round&quot;, &quot;lineJoin&quot;: &quot;round&quot;, &quot;noClip&quot;: false, &quot;opacity&quot;: 0.8, &quot;smoothFactor&quot;: 1.0, &quot;stroke&quot;: true, &quot;weight&quot;: 2}\n",
       "            ).addTo(map_01a3c60f35c839baf1aae479ca3e7187);\n",
       "        \n",
       "    \n",
       "            var poly_line_00af88aa80f1c2ea65273a8ef46eb536 = L.polyline(\n",
       "                [[48.29001333333333, 25.93460333333333], [48.290355, 25.934698333333333], [48.290765, 25.934831666666668], [48.29159666666666, 25.935256666666668], [48.29204, 25.935455], [48.29234, 25.93557], [48.292456666666666, 25.93575333333333], [48.29249333333333, 25.93569], [48.29246166666667, 25.935845], [48.292253333333335, 25.936435], [48.29217833333333, 25.937], [48.29195833333333, 25.937663333333333], [48.291691666666665, 25.938491666666668], [48.291491666666666, 25.93937333333333], [48.291266666666665, 25.940235], [48.29118833333333, 25.941078333333333], [48.291021666666666, 25.942061666666667], [48.290855, 25.94330833333333], [48.29067, 25.94455333333333], [48.29049166666667, 25.9457], [48.290315, 25.94679], [48.29009833333333, 25.947821666666663], [48.28987166666667, 25.94888], [48.289615, 25.950063333333333], [48.28938333333333, 25.951118333333334], [48.289186666666666, 25.95193833333333], [48.28911, 25.952435], [48.28856666666667, 25.955], [48.28842, 25.955663333333334], [48.28832833333333, 25.95611333333333], [48.288223333333335, 25.95659], [48.28810833333333, 25.95703333333333], [48.287866666666666, 25.957796666666667], [48.28751333333334, 25.958986666666668], [48.287145, 25.96027], [48.286785, 25.961525], [48.28605833333334, 25.963936666666665], [48.28574, 25.965026666666667], [48.285426666666666, 25.96601], [48.285155, 25.966986666666667], [48.28486, 25.96797833333333], [48.28451833333333, 25.969031666666663], [48.2842, 25.970068333333334], [48.283928333333336, 25.970975], [48.28368666666667, 25.97163833333333], [48.28338, 25.97234], [48.28301833333333, 25.973186666666667], [48.28262, 25.974128333333333], [48.282158333333335, 25.9751], [48.28118666666667, 25.977186666666668], [48.280973333333336, 25.97769], [48.28096833333333, 25.977706666666663], [48.28088666666667, 25.97790833333333], [48.28050833333333, 25.978798333333334], [48.280123333333336, 25.979756666666667], [48.27966833333333, 25.980665], [48.279336666666666, 25.981136666666668], [48.27926333333333, 25.981276666666663], [48.27778666666666, 25.984113333333333], [48.27778666666666, 25.984113333333333], [48.27724833333333, 25.985133333333334], [48.276651666666666, 25.98627833333333], [48.276073333333336, 25.987366666666667], [48.275445, 25.988515], [48.27487833333333, 25.98956833333333], [48.27436166666666, 25.990526666666668], [48.27388166666667, 25.991426666666666], [48.27341166666667, 25.992316666666667], [48.27295166666666, 25.993135], [48.27279333333333, 25.993403333333333], [48.27278, 25.993445], [48.27211166666667, 25.99472], [48.27187666666666, 25.99515833333333], [48.27162, 25.995641666666668], [48.271438333333336, 25.995996666666667], [48.27113333333333, 25.99656833333333], [48.270895, 25.997025], [48.27066333333333, 25.997256666666665], [48.27056833333334, 25.997191666666662], [48.270445, 25.997055], [48.26944666666667, 25.995981666666665], [48.26875, 25.99522333333333], [48.26804166666667, 25.994461666666663], [48.26742166666666, 25.99380333333333], [48.266956666666665, 25.993316666666665], [48.266695, 25.99300333333333], [48.26666333333333, 25.992875], [48.26674, 25.99268333333333], [48.26697, 25.992316666666667], [48.26697333333333, 25.992216666666668], [48.26719333333333, 25.991741666666663], [48.267293333333335, 25.99151], [48.26745666666667, 25.99117], [48.26745666666667, 25.99117], [48.26777333333333, 25.990531666666666], [48.267943333333335, 25.990223333333333], [48.26777166666667, 25.98992833333333], [48.26764, 25.989825], [48.26753166666666, 25.98975833333333], [48.267428333333335, 25.989706666666667], [48.267298333333336, 25.989656666666665], [48.26690166666667, 25.98940333333333], [48.266846666666666, 25.98935833333333], [48.26676666666667, 25.98926833333333], [48.26660666666667, 25.98913333333333], [48.26643166666667, 25.989055], [48.26629333333333, 25.988966666666663], [48.26611333333334, 25.988851666666665], [48.26588, 25.98894], [48.26576333333333, 25.989185], [48.265701666666665, 25.98936833333333], [48.26562, 25.989525], [48.26539833333333, 25.98998333333333], [48.26533166666667, 25.990101666666668], [48.265321666666665, 25.99015333333333], [48.26519166666667, 25.990393333333333], [48.265165, 25.990861666666667], [48.265295, 25.99102166666667], [48.26545166666666, 25.991215], [48.26556333333333, 25.99131333333333], [48.26569, 25.991441666666667], [48.26587166666667, 25.991686666666663], [48.2661, 25.991691666666668], [48.26629666666667, 25.9915], [48.26639333333333, 25.99112833333333], [48.266396666666665, 25.99108], [48.26640833333333, 25.991008333333333], [48.26643666666666, 25.99097833333333], [48.266485, 25.990908333333334], [48.26659, 25.990711666666662], [48.266595, 25.99066833333333], [48.266595, 25.99066833333333], [48.266595, 25.99066833333333], [48.266595, 25.99066833333333], [48.266595, 25.99066833333333], [48.266595, 25.99066833333333], [48.266595, 25.99066833333333], [48.266595, 25.99066833333333], [48.266595, 25.99066833333333], [48.266595, 25.99066833333333], [48.266666666666666, 25.990446666666667], [48.266688333333335, 25.990401666666667], [48.266688333333335, 25.990401666666667], [48.266688333333335, 25.990401666666667], [48.266688333333335, 25.990401666666667], [48.266688333333335, 25.990401666666667], [48.266688333333335, 25.990401666666667], [48.266688333333335, 25.990401666666667], [48.266688333333335, 25.990401666666667], [48.266688333333335, 25.990401666666667], [48.266688333333335, 25.990401666666667], [48.266688333333335, 25.990401666666667], [48.266688333333335, 25.990401666666667], [48.266688333333335, 25.990401666666667], [48.266688333333335, 25.990401666666667], [48.266688333333335, 25.990401666666667], [48.266688333333335, 25.990401666666667], [48.266688333333335, 25.990401666666667], [48.266688333333335, 25.990401666666667], [48.266688333333335, 25.990401666666667], [48.266688333333335, 25.990401666666667], [48.266688333333335, 25.990401666666667], [48.266688333333335, 25.990401666666667], [48.266688333333335, 25.990401666666667], [48.266688333333335, 25.990401666666667], [48.266688333333335, 25.990401666666667], [48.266688333333335, 25.990401666666667], [48.266688333333335, 25.990401666666667], [48.266688333333335, 25.990401666666667], [48.266688333333335, 25.990401666666667], [48.266688333333335, 25.990401666666667], [48.266688333333335, 25.990401666666667], [48.266688333333335, 25.990401666666667], [48.26678166666667, 25.99037], [48.26676166666667, 25.99039], [48.26676166666667, 25.99039], [48.26676166666667, 25.99039], [48.266755, 25.990311666666667], [48.266846666666666, 25.990246666666668], [48.267005, 25.99010333333333], [48.26701333333333, 25.99008], [48.26704166666666, 25.989815], [48.26688333333333, 25.989573333333333], [48.26667666666667, 25.98927], [48.26652333333333, 25.98906], [48.26652333333333, 25.98906], [48.266423333333336, 25.988948333333333], [48.26623666666666, 25.988848333333333], [48.26601, 25.98882833333333], [48.265881666666665, 25.98901833333333], [48.265775, 25.98932], [48.265515, 25.989821666666668], [48.265365, 25.990068333333333], [48.265225, 25.99041666666667], [48.26515833333333, 25.99075], [48.26519833333333, 25.990876666666665], [48.265275, 25.990998333333334], [48.26542, 25.991191666666666], [48.26559833333334, 25.99140833333333], [48.266016666666665, 25.99188333333333], [48.26604833333333, 25.991895], [48.26609333333333, 25.99194333333333], [48.26612833333333, 25.992003333333333], [48.266218333333335, 25.99207833333333], [48.26638, 25.99220833333333], [48.266435, 25.99213], [48.26653666666667, 25.991946666666667]],\n",
       "                {&quot;bubblingMouseEvents&quot;: true, &quot;color&quot;: &quot;#004cff&quot;, &quot;dashArray&quot;: null, &quot;dashOffset&quot;: null, &quot;fill&quot;: false, &quot;fillColor&quot;: &quot;#004cff&quot;, &quot;fillOpacity&quot;: 0.2, &quot;fillRule&quot;: &quot;evenodd&quot;, &quot;lineCap&quot;: &quot;round&quot;, &quot;lineJoin&quot;: &quot;round&quot;, &quot;noClip&quot;: false, &quot;opacity&quot;: 0.8, &quot;smoothFactor&quot;: 1.0, &quot;stroke&quot;: true, &quot;weight&quot;: 2}\n",
       "            ).addTo(map_01a3c60f35c839baf1aae479ca3e7187);\n",
       "        \n",
       "    \n",
       "            var poly_line_f2d7238e0894ea26b357320348d64346 = L.polyline(\n",
       "                [[48.26653666666667, 25.991946666666667], [48.26666166666666, 25.99197], [48.26667333333333, 25.991971666666668], [48.266675, 25.99196833333333], [48.26681166666667, 25.99219833333333], [48.26683, 25.992248333333333], [48.26676833333333, 25.99243], [48.26677, 25.99244833333333], [48.26677, 25.992441666666668], [48.26682666666667, 25.99316], [48.26716666666667, 25.99356166666667], [48.26772, 25.994153333333333], [48.26844, 25.994941666666666], [48.26918333333333, 25.995736666666662], [48.26983166666667, 25.99645333333333], [48.27036, 25.997086666666668], [48.27061666666667, 25.99733833333333], [48.27070333333333, 25.997335], [48.271025, 25.996915], [48.27122833333333, 25.996555], [48.271335, 25.996361666666665], [48.271445, 25.99613833333333], [48.27183333333333, 25.995426666666667], [48.27202333333334, 25.99508], [48.272225, 25.99467], [48.27257166666666, 25.994051666666667], [48.27270166666667, 25.993796666666668], [48.272975, 25.993258333333333], [48.273285, 25.992605], [48.27375166666667, 25.99176333333333], [48.274231666666665, 25.99085333333333], [48.27442166666667, 25.990531666666666], [48.27467166666667, 25.990091666666668], [48.27510333333333, 25.989336666666667], [48.27561833333333, 25.988336666666665], [48.27611666666667, 25.987385], [48.2763, 25.98700333333333], [48.27629833333334, 25.98697333333333], [48.27659666666667, 25.9864], [48.27702833333333, 25.985605], [48.278, 25.983855], [48.278218333333335, 25.98344833333333], [48.27823333333333, 25.98342333333333], [48.27830333333333, 25.98324833333333], [48.27863666666666, 25.982613333333333], [48.27903833333333, 25.98185833333333], [48.279235, 25.98148833333333], [48.27957333333333, 25.98094], [48.27996666666667, 25.980191666666663], [48.28029333333333, 25.97942833333333], [48.280586666666665, 25.97884833333333], [48.28064, 25.97877833333333], [48.28066166666667, 25.978716666666667], [48.28123166666666, 25.977488333333334], [48.281241666666666, 25.97747], [48.28152333333333, 25.97675], [48.28181666666666, 25.976106666666663], [48.28215166666666, 25.97532], [48.28247, 25.974733333333333], [48.28266833333333, 25.974273333333333], [48.28289166666666, 25.97365333333333], [48.28315666666666, 25.97305], [48.28324833333333, 25.97286], [48.28339666666667, 25.97254333333333], [48.28360166666667, 25.97208333333333], [48.28362166666667, 25.972045], [48.28396833333333, 25.97103333333333], [48.284275, 25.97000333333333], [48.28458833333333, 25.968913333333333], [48.284905, 25.96778833333333], [48.28526166666666, 25.966646666666666], [48.28556833333333, 25.96564833333333], [48.28572333333334, 25.965195], [48.285945, 25.964371666666665], [48.286276666666666, 25.96334166666667], [48.286985, 25.961096666666663], [48.287305, 25.96006], [48.28741, 25.959633333333333], [48.287635, 25.958955], [48.28792333333333, 25.957915], [48.288065, 25.95743], [48.28811, 25.95730333333333], [48.288138333333336, 25.957236666666667], [48.28819666666666, 25.957011666666663], [48.28829833333333, 25.956658333333333], [48.28838666666667, 25.95630333333333], [48.28845333333334, 25.9559], [48.28849833333334, 25.955618333333334], [48.288605, 25.955055], [48.288673333333335, 25.954786666666667], [48.28874666666667, 25.954398333333334], [48.288835, 25.954001666666667], [48.288935, 25.953626666666665], [48.28899333333333, 25.953306666666663], [48.28908166666667, 25.95296833333333], [48.28913333333333, 25.95274833333333], [48.28925666666667, 25.952315], [48.28944, 25.95117], [48.289525, 25.950611666666667], [48.28966, 25.949886666666668], [48.289883333333336, 25.94872833333333], [48.29012, 25.947586666666663], [48.29030333333333, 25.9464], [48.290515, 25.945126666666667], [48.29065833333333, 25.94408333333333], [48.290805, 25.94326833333333], [48.29094666666667, 25.942388333333334], [48.29106166666666, 25.94147], [48.29115, 25.940605], [48.29120666666667, 25.940321666666662], [48.29124, 25.940135], [48.29139333333333, 25.939396666666667], [48.291585, 25.938646666666667], [48.29186333333333, 25.937696666666668], [48.29219166666667, 25.93671833333333], [48.292325, 25.936176666666668], [48.29229333333333, 25.936041666666668], [48.29233666666666, 25.935981666666667], [48.292555, 25.935425], [48.292703333333336, 25.935], [48.29281666666667, 25.934695], [48.29291833333333, 25.934176666666666], [48.292945, 25.933886666666663], [48.29296333333333, 25.933331666666668], [48.293, 25.933308333333333], [48.29303333333333, 25.933181666666663], [48.293095, 25.932836666666667], [48.29307166666667, 25.932548333333333], [48.29308666666667, 25.932345], [48.292945, 25.931408333333334], [48.292876666666665, 25.930896666666666], [48.29283333333333, 25.93043833333333], [48.292985, 25.930055], [48.293063333333336, 25.92978833333333], [48.293225, 25.92937], [48.29345, 25.92879333333333], [48.29358833333333, 25.928555], [48.293705, 25.928401666666662], [48.29389666666667, 25.928126666666667], [48.29412666666666, 25.927901666666667], [48.29421333333333, 25.927758333333333], [48.29431, 25.927626666666665], [48.29488166666667, 25.92699333333333], [48.29497, 25.926825], [48.295278333333336, 25.92643333333333], [48.29562333333333, 25.926096666666663], [48.29595, 25.925698333333333], [48.296205, 25.925375], [48.296236666666665, 25.925191666666667], [48.29622833333333, 25.925116666666668], [48.29599, 25.92456], [48.29533833333333, 25.92399], [48.29504333333333, 25.924425], [48.294735, 25.925003333333333], [48.29447166666667, 25.92564833333333], [48.294383333333336, 25.926006666666662], [48.29439666666666, 25.92623], [48.29438, 25.92632833333333], [48.29441, 25.92658833333333], [48.29446166666666, 25.92673], [48.29448, 25.926885], [48.29449666666667, 25.92689], [48.294473333333336, 25.926851666666668], [48.294545, 25.927165], [48.29448666666666, 25.927278333333334], [48.29449, 25.927361666666663], [48.29431666666667, 25.92762833333333], [48.294115, 25.927936666666668], [48.29401, 25.92819666666667], [48.29374333333333, 25.928401666666662], [48.293481666666665, 25.92887333333333], [48.293065, 25.92951833333333], [48.292901666666666, 25.929928333333333], [48.29300666666666, 25.93048333333333], [48.29304333333333, 25.930866666666667], [48.292995, 25.930956666666667], [48.29298666666666, 25.93115166666667], [48.29300166666667, 25.931415], [48.29302833333333, 25.93163], [48.29303166666666, 25.931795], [48.293035, 25.931885], [48.29304333333333, 25.93190166666667], [48.29303333333333, 25.93193833333333], [48.29305166666666, 25.931951666666667], [48.29305166666666, 25.931951666666667], [48.29305166666666, 25.931951666666667], [48.29305166666666, 25.931951666666667], [48.29305166666666, 25.931951666666667], [48.293075, 25.931953333333333], [48.293103333333335, 25.932221666666667], [48.29308833333333, 25.932728333333333], [48.29292333333333, 25.93279666666667], [48.29279666666667, 25.932845], [48.29253166666667, 25.932871666666667], [48.2923, 25.93288666666667], [48.29213166666667, 25.932865], [48.29186333333333, 25.932925], [48.29161166666667, 25.93294833333333], [48.291376666666665, 25.932876666666665], [48.29105166666667, 25.932851666666668], [48.29071, 25.932911666666666], [48.29065666666666, 25.933], [48.29061166666666, 25.933245], [48.290455, 25.933533333333333], [48.29027666666666, 25.93354666666667], [48.29001, 25.933521666666667]],\n",
       "                {&quot;bubblingMouseEvents&quot;: true, &quot;color&quot;: &quot;#00b0ff&quot;, &quot;dashArray&quot;: null, &quot;dashOffset&quot;: null, &quot;fill&quot;: false, &quot;fillColor&quot;: &quot;#00b0ff&quot;, &quot;fillOpacity&quot;: 0.2, &quot;fillRule&quot;: &quot;evenodd&quot;, &quot;lineCap&quot;: &quot;round&quot;, &quot;lineJoin&quot;: &quot;round&quot;, &quot;noClip&quot;: false, &quot;opacity&quot;: 0.8, &quot;smoothFactor&quot;: 1.0, &quot;stroke&quot;: true, &quot;weight&quot;: 2}\n",
       "            ).addTo(map_01a3c60f35c839baf1aae479ca3e7187);\n",
       "        \n",
       "    \n",
       "            var poly_line_04bd62a1196d32322fbf36e12ccc4476 = L.polyline(\n",
       "                [[48.29001, 25.933521666666667], [48.28972666666667, 25.93345], [48.28916666666667, 25.93346833333333], [48.28884166666667, 25.933308333333333], [48.28843, 25.933176666666668], [48.288068333333335, 25.933016666666667], [48.28778166666667, 25.932971666666667], [48.28778333333333, 25.932963333333333], [48.287758333333336, 25.93297], [48.28756833333333, 25.932921666666665], [48.28748, 25.93296833333333], [48.28746, 25.933041666666668], [48.287328333333335, 25.93359], [48.28717, 25.933906666666665], [48.286856666666665, 25.933825], [48.28646833333333, 25.9337], [48.28622166666667, 25.933581666666665], [48.286155, 25.933576666666667], [48.28590333333333, 25.93353833333333], [48.2857, 25.93346833333333], [48.285606666666666, 25.93341333333333], [48.28539, 25.933343333333333], [48.285338333333335, 25.93331], [48.28468333333333, 25.933116666666667], [48.284173333333335, 25.932891666666663], [48.28361833333334, 25.93264333333333], [48.28330166666667, 25.932445], [48.283251666666665, 25.932446666666667], [48.283168333333336, 25.93247833333333], [48.282765, 25.93235333333333], [48.282401666666665, 25.93221833333333], [48.28196833333333, 25.93202833333333], [48.281641666666665, 25.931936666666665], [48.28134333333333, 25.931851666666667], [48.28109833333333, 25.931753333333333], [48.28074, 25.93158833333333], [48.28035333333333, 25.93142333333333], [48.28021, 25.93139], [48.27973833333333, 25.9312], [48.279375, 25.931005], [48.27936, 25.931021666666663], [48.27930166666667, 25.931076666666662], [48.27909666666667, 25.93100833333333], [48.278353333333335, 25.930733333333333], [48.27753333333333, 25.930411666666668], [48.27680333333333, 25.93016], [48.27664, 25.93013833333333], [48.27576666666667, 25.92981333333333], [48.275015, 25.92950833333333], [48.274115, 25.92922], [48.273111666666665, 25.92892833333333], [48.272535, 25.928801666666665], [48.27218166666667, 25.92871833333333], [48.27160333333333, 25.928463333333333], [48.27076, 25.928105], [48.27007, 25.927841666666662], [48.26996333333334, 25.927721666666667], [48.26998, 25.927691666666668], [48.269198333333335, 25.927366666666668], [48.26898333333333, 25.926991666666662], [48.26872, 25.927], [48.26858, 25.92733833333333], [48.26869333333333, 25.927865], [48.26862666666667, 25.92858333333333], [48.26853, 25.929291666666668], [48.268483333333336, 25.929593333333333], [48.268505, 25.929595], [48.26846166666667, 25.930135], [48.268283333333336, 25.931271666666667], [48.26819166666667, 25.931871666666662], [48.26808166666667, 25.932705], [48.26790333333334, 25.933931666666663], [48.267715, 25.935231666666667], [48.267561666666666, 25.93631833333333], [48.267536666666665, 25.936441666666667], [48.26743833333333, 25.937283333333333], [48.26731166666666, 25.93822833333333], [48.26729666666667, 25.938368333333333], [48.26725666666667, 25.938436666666668], [48.267225, 25.938641666666665], [48.267203333333335, 25.94000833333333], [48.26724333333333, 25.940141666666666], [48.26733166666666, 25.94030833333333], [48.267655, 25.941206666666663], [48.26797166666667, 25.942265], [48.268255, 25.943196666666665], [48.268548333333335, 25.94428333333333], [48.268663333333336, 25.94457166666667], [48.26873, 25.944693333333333], [48.26914666666666, 25.945951666666662], [48.26945166666667, 25.946963333333333], [48.26960833333333, 25.947435], [48.269815, 25.94804333333333], [48.269981666666666, 25.94855833333333], [48.270271666666666, 25.949401666666667], [48.270425, 25.94996], [48.27045, 25.949976666666668], [48.27049333333333, 25.950025], [48.27057666666666, 25.950086666666667], [48.27061666666667, 25.95001333333333], [48.27054166666667, 25.949891666666662], [48.27045, 25.94976], [48.270316666666666, 25.94969833333333], [48.270105, 25.94917333333333], [48.26995166666666, 25.948601666666665], [48.26987833333333, 25.948326666666667], [48.26976833333333, 25.94787833333333], [48.269605, 25.94733], [48.26956, 25.94722833333333], [48.26929666666667, 25.946476666666666], [48.26909666666667, 25.945835], [48.26892, 25.94516833333333], [48.26882833333333, 25.94485333333333], [48.268816666666666, 25.944851666666665], [48.26873, 25.944751666666665], [48.26864333333333, 25.944495], [48.26853, 25.94416333333333], [48.26799333333334, 25.94237], [48.267725, 25.941478333333333], [48.26753833333333, 25.940843333333333], [48.267435, 25.94049], [48.267453333333336, 25.940446666666663], [48.267445, 25.94036333333333], [48.267285, 25.93978], [48.267315, 25.938906666666668], [48.26752166666667, 25.93759333333333], [48.26773666666666, 25.93623333333333], [48.267795, 25.93589], [48.26777666666667, 25.935863333333334], [48.26775, 25.935801666666663], [48.267905, 25.934925], [48.26813666666666, 25.93360833333333], [48.268325, 25.932313333333333], [48.26847166666667, 25.931183333333333], [48.26860666666666, 25.93022833333333], [48.268655, 25.929851666666668], [48.26867, 25.929616666666668], [48.26889, 25.928396666666668], [48.269025, 25.928005], [48.26925166666667, 25.927745], [48.26937, 25.92768833333333], [48.26961666666666, 25.9277], [48.27032166666667, 25.927936666666668], [48.27065666666667, 25.928096666666665], [48.270675, 25.92810833333333], [48.271006666666665, 25.92820833333333], [48.27151333333333, 25.928383333333333], [48.27180166666667, 25.92847666666667], [48.273118333333336, 25.928955], [48.274015, 25.92914833333333], [48.274765, 25.929205], [48.27498833333333, 25.92944], [48.275495, 25.92965833333333], [48.27590666666666, 25.92979833333333], [48.27596833333333, 25.92981333333333], [48.276226666666666, 25.929908333333334], [48.27697333333333, 25.930176666666668], [48.27778166666667, 25.930441666666667], [48.27854833333333, 25.930756666666667], [48.279273333333336, 25.93109], [48.28002166666667, 25.93138833333333], [48.28054, 25.931573333333333], [48.280948333333335, 25.93172833333333], [48.281688333333335, 25.932055], [48.281888333333335, 25.932135], [48.28187333333333, 25.932121666666667], [48.281886666666665, 25.932136666666665], [48.28217, 25.932216666666665], [48.28279333333333, 25.932425], [48.28427, 25.932885], [48.28455, 25.933005], [48.284745, 25.93308], [48.28529, 25.933286666666667], [48.28552833333333, 25.933385], [48.28570333333333, 25.933515], [48.28575333333333, 25.933515], [48.28593166666667, 25.933541666666667], [48.286305, 25.93369333333333], [48.28675166666667, 25.933845], [48.28721166666666, 25.93401], [48.28733833333333, 25.93375], [48.28738666666667, 25.933305], [48.28747166666667, 25.933116666666667], [48.287595, 25.93303166666667], [48.28780166666667, 25.933075], [48.28782666666667, 25.93307666666667], [48.28798, 25.933081666666663], [48.288305, 25.93314], [48.28872833333333, 25.933241666666667], [48.288873333333335, 25.933241666666667], [48.289045, 25.933341666666667], [48.289335, 25.93340333333333], [48.28943, 25.933431666666667], [48.2897, 25.933533333333333], [48.29001, 25.93367333333333], [48.29035666666667, 25.93378], [48.290645, 25.93391], [48.29102666666667, 25.934116666666668], [48.29138833333333, 25.93430833333333], [48.291691666666665, 25.93458333333333], [48.29201833333333, 25.93475833333333], [48.29240833333333, 25.935026666666666], [48.292515, 25.935068333333334], [48.292588333333335, 25.934985], [48.29267, 25.934698333333333], [48.29282833333333, 25.93403], [48.29297, 25.93336833333333]],\n",
       "                {&quot;bubblingMouseEvents&quot;: true, &quot;color&quot;: &quot;#29ffcd&quot;, &quot;dashArray&quot;: null, &quot;dashOffset&quot;: null, &quot;fill&quot;: false, &quot;fillColor&quot;: &quot;#29ffcd&quot;, &quot;fillOpacity&quot;: 0.2, &quot;fillRule&quot;: &quot;evenodd&quot;, &quot;lineCap&quot;: &quot;round&quot;, &quot;lineJoin&quot;: &quot;round&quot;, &quot;noClip&quot;: false, &quot;opacity&quot;: 0.8, &quot;smoothFactor&quot;: 1.0, &quot;stroke&quot;: true, &quot;weight&quot;: 2}\n",
       "            ).addTo(map_01a3c60f35c839baf1aae479ca3e7187);\n",
       "        \n",
       "    \n",
       "            var poly_line_7952a82aab8df1357dac89a2a6121e43 = L.polyline(\n",
       "                [[48.29297, 25.93336833333333], [48.292965, 25.93329333333333], [48.29304, 25.933016666666667], [48.29300666666666, 25.932836666666667], [48.29301666666667, 25.932405], [48.292966666666665, 25.931941666666667], [48.292965, 25.93129833333333], [48.292948333333335, 25.93065333333333], [48.29297666666667, 25.930095], [48.29318, 25.929603333333333], [48.29354666666666, 25.928896666666667], [48.29388166666666, 25.92825833333333], [48.29419, 25.92791], [48.294331666666665, 25.92760833333333], [48.294356666666665, 25.927376666666667], [48.295055, 25.92675833333333], [48.29508, 25.92663333333333], [48.29543833333334, 25.92619833333333], [48.29588, 25.92579333333333], [48.29624666666667, 25.92543], [48.296261666666666, 25.925315], [48.29623, 25.925246666666663], [48.29602333333333, 25.92470833333333], [48.295946666666666, 25.924466666666667], [48.295928333333336, 25.924456666666668], [48.295928333333336, 25.924456666666668], [48.29580833333333, 25.924343333333333], [48.29559666666667, 25.923891666666663], [48.295505, 25.92380333333333], [48.29539333333334, 25.923891666666663], [48.29515166666667, 25.924191666666665], [48.294825, 25.924795], [48.29447, 25.925491666666662], [48.29427833333333, 25.926006666666662], [48.29439666666666, 25.92670833333333], [48.29442333333333, 25.92683333333333], [48.29442333333333, 25.92689333333333], [48.294448333333335, 25.92692333333333], [48.29450666666666, 25.927246666666665], [48.2943, 25.92750333333333], [48.29398, 25.927845], [48.293708333333335, 25.928305], [48.29365666666666, 25.928416666666667], [48.29334833333333, 25.928981666666665], [48.29304666666667, 25.929486666666666], [48.29288833333333, 25.92987833333333], [48.292766666666665, 25.930266666666668], [48.292748333333336, 25.93096], [48.29283333333333, 25.93169333333333], [48.292926666666666, 25.93214333333333], [48.29288666666667, 25.932656666666663], [48.29285166666666, 25.932703333333333], [48.292515, 25.932801666666663], [48.29237833333333, 25.932831666666665], [48.29229, 25.93294833333333], [48.29224666666666, 25.932941666666668], [48.292123333333336, 25.932955], [48.291855, 25.932941666666668], [48.291628333333335, 25.932911666666666], [48.29132333333333, 25.932945], [48.29123666666667, 25.932896666666668], [48.29105166666667, 25.93292], [48.29076, 25.932875], [48.29066, 25.93301], [48.29063166666667, 25.933255], [48.29056, 25.933421666666668], [48.29011, 25.933555], [48.28980666666666, 25.93351333333333], [48.28955666666667, 25.93351], [48.28926666666667, 25.93342], [48.288941666666666, 25.933256666666665], [48.28854, 25.933105], [48.28811833333334, 25.932973333333333], [48.287886666666665, 25.93296], [48.28771833333333, 25.93301], [48.28752, 25.932966666666665], [48.28742666666667, 25.933051666666668], [48.2874, 25.93318], [48.28730166666666, 25.933625], [48.286795, 25.933831666666663], [48.28642666666666, 25.93369333333333], [48.28597333333333, 25.93358333333333], [48.28572333333334, 25.933488333333333], [48.28522333333333, 25.93330333333333], [48.28483833333333, 25.933165], [48.28469, 25.933106666666667], [48.28420333333333, 25.93292], [48.284015, 25.932851666666668], [48.28338333333333, 25.932531666666662], [48.28327166666666, 25.932461666666665], [48.28309333333333, 25.93238], [48.282498333333336, 25.93221], [48.28172166666667, 25.93194], [48.28135, 25.93182], [48.28068, 25.931575], [48.27985833333334, 25.931266666666662], [48.279338333333335, 25.93106833333333], [48.279195, 25.931065], [48.27856833333333, 25.930845], [48.27778, 25.93056], [48.27695833333333, 25.93028], [48.276655, 25.930308333333333], [48.27650833333333, 25.93023], [48.27590666666666, 25.92995], [48.275635, 25.929866666666666], [48.27563666666666, 25.929835], [48.27553833333333, 25.92981], [48.27502833333333, 25.929583333333333], [48.27432666666667, 25.929421666666663], [48.273225, 25.929088333333333], [48.27214166666667, 25.928815], [48.27039666666667, 25.928061666666668], [48.26996666666667, 25.927855], [48.269821666666665, 25.927755], [48.26980833333333, 25.9277], [48.269688333333335, 25.927678333333333], [48.269345, 25.927515], [48.26914166666667, 25.927205], [48.26889333333333, 25.926905], [48.268625, 25.927071666666667], [48.26864833333333, 25.92809], [48.268545, 25.928641666666667], [48.268475, 25.929165], [48.26843, 25.929648333333333], [48.26840833333333, 25.929845], [48.26835833333333, 25.930308333333333], [48.268185, 25.931426666666667], [48.26804, 25.93251], [48.26802833333333, 25.932676666666666], [48.26785, 25.933665], [48.26769333333333, 25.934788333333334], [48.267561666666666, 25.93572333333333], [48.26746333333333, 25.936436666666665], [48.26747666666667, 25.936481666666666], [48.26733166666666, 25.937755], [48.26721333333333, 25.938565], [48.267183333333335, 25.938725], [48.26717, 25.93877833333333], [48.26711333333333, 25.93911333333333], [48.26708, 25.939825], [48.267175, 25.940148333333333], [48.267575, 25.94132833333333], [48.26782333333333, 25.942251666666667], [48.267945, 25.942543333333333], [48.268105, 25.943101666666667], [48.26822, 25.943376666666666], [48.268425, 25.94410333333333], [48.268571666666666, 25.94455333333333], [48.26857666666667, 25.94459833333333], [48.26867833333333, 25.94481833333333], [48.26885833333333, 25.945351666666667], [48.26915833333333, 25.946321666666663], [48.26949666666667, 25.94749333333333], [48.269495, 25.94751], [48.269595, 25.94793], [48.269733333333335, 25.94842], [48.27003166666667, 25.949315], [48.27026, 25.95], [48.270295, 25.95004], [48.270545, 25.95007], [48.27059666666667, 25.94999333333333], [48.27054166666667, 25.94986833333333], [48.27049333333333, 25.949785], [48.27042, 25.949783333333333], [48.270365, 25.949711666666666], [48.27024166666666, 25.949485], [48.27006, 25.94894333333333], [48.26994, 25.94847333333333], [48.2698, 25.947866666666663], [48.269641666666665, 25.94732833333333], [48.2696, 25.94724666666667], [48.269578333333335, 25.947178333333333], [48.26952833333333, 25.947041666666667], [48.26913666666667, 25.945823333333333], [48.26891666666667, 25.94503], [48.26886833333333, 25.944881666666667], [48.268836666666665, 25.94482333333333], [48.26872, 25.944486666666663], [48.268591666666666, 25.94407333333333], [48.268521666666665, 25.94382333333333], [48.26818166666666, 25.94277333333333], [48.26779, 25.941523333333333], [48.267541666666666, 25.940605], [48.26746166666667, 25.940371666666667], [48.26736666666667, 25.940015], [48.26736, 25.939996666666666], [48.267345, 25.93990833333333], [48.267318333333336, 25.93924], [48.267473333333335, 25.938036666666665], [48.267625, 25.936936666666668], [48.26768833333333, 25.936541666666667], [48.26779, 25.93580833333333], [48.267788333333336, 25.935613333333333], [48.267923333333336, 25.93468833333333], [48.26810833333333, 25.9335], [48.268188333333335, 25.933036666666663], [48.26834166666666, 25.931906666666663], [48.26851833333333, 25.930633333333333], [48.26868833333333, 25.92948], [48.2688, 25.928771666666663], [48.26891833333333, 25.92813333333333], [48.26913666666667, 25.927835], [48.269396666666665, 25.92767333333333], [48.269705, 25.92778], [48.270115, 25.92792], [48.270575, 25.928128333333333], [48.270588333333336, 25.928106666666668]],\n",
       "                {&quot;bubblingMouseEvents&quot;: true, &quot;color&quot;: &quot;#7cff79&quot;, &quot;dashArray&quot;: null, &quot;dashOffset&quot;: null, &quot;fill&quot;: false, &quot;fillColor&quot;: &quot;#7cff79&quot;, &quot;fillOpacity&quot;: 0.2, &quot;fillRule&quot;: &quot;evenodd&quot;, &quot;lineCap&quot;: &quot;round&quot;, &quot;lineJoin&quot;: &quot;round&quot;, &quot;noClip&quot;: false, &quot;opacity&quot;: 0.8, &quot;smoothFactor&quot;: 1.0, &quot;stroke&quot;: true, &quot;weight&quot;: 2}\n",
       "            ).addTo(map_01a3c60f35c839baf1aae479ca3e7187);\n",
       "        \n",
       "    \n",
       "            var poly_line_79c8814f44f65f9c7bcc31ef66e2251a = L.polyline(\n",
       "                [[48.270588333333336, 25.928106666666668], [48.27050333333333, 25.92791666666667], [48.27060333333333, 25.927925], [48.271275, 25.928205], [48.27179833333334, 25.928396666666668], [48.27213666666667, 25.92854833333333], [48.27283833333333, 25.928835], [48.27368833333333, 25.92909], [48.274548333333335, 25.92939833333333], [48.275371666666665, 25.92971333333333], [48.27583166666667, 25.929881666666667], [48.27596166666667, 25.92989333333333], [48.27754333333333, 25.93040166666667], [48.27843833333333, 25.93072833333333], [48.27898, 25.93101833333333], [48.27933, 25.93117], [48.27960333333333, 25.931275], [48.27964, 25.931283333333333], [48.280143333333335, 25.931461666666667], [48.28089, 25.93173833333333], [48.281635, 25.93201333333333], [48.28195, 25.93218], [48.28198166666667, 25.932141666666663], [48.28205333333333, 25.932145], [48.28212, 25.93214333333333], [48.283116666666665, 25.932521666666663], [48.28382, 25.932773333333333], [48.28431333333333, 25.932935], [48.28460833333333, 25.93305], [48.28513333333333, 25.933245], [48.28561, 25.93349], [48.28570333333333, 25.933491666666665], [48.286245, 25.933676666666667], [48.286655, 25.933813333333333], [48.28739333333333, 25.93350833333333], [48.28749, 25.933115], [48.28757333333333, 25.933063333333333], [48.287821666666666, 25.933096666666668], [48.28787, 25.933085], [48.287935, 25.93307833333333], [48.28820833333333, 25.933145], [48.28853166666666, 25.933143333333334], [48.28876666666667, 25.933185], [48.28916, 25.933276666666668], [48.28955666666667, 25.933405], [48.29006, 25.93356], [48.29025666666666, 25.93359833333333], [48.29033166666667, 25.933596666666663], [48.29058333333333, 25.933701666666668], [48.29098666666667, 25.93395333333333], [48.29138833333333, 25.934236666666667], [48.291718333333336, 25.93453333333333], [48.29206333333333, 25.934771666666663], [48.292366666666666, 25.935006666666663], [48.29250666666667, 25.935101666666668], [48.29255166666667, 25.935121666666667], [48.29264666666667, 25.93505333333333], [48.29267166666666, 25.93477], [48.29296166666666, 25.93346333333333], [48.293015, 25.93320333333333], [48.293035, 25.93307666666667], [48.293058333333335, 25.932565], [48.292966666666665, 25.932215], [48.292883333333336, 25.93151], [48.292836666666666, 25.93091], [48.292838333333336, 25.93023833333333], [48.29301666666667, 25.929746666666663], [48.293686666666666, 25.928495], [48.29394833333333, 25.928021666666663], [48.294113333333335, 25.92787333333333], [48.29412, 25.927746666666668], [48.29423166666667, 25.927651666666662], [48.29446, 25.927423333333333], [48.29472, 25.92714], [48.294925, 25.926886666666668], [48.29505833333333, 25.92672333333333], [48.29520333333333, 25.92658], [48.295476666666666, 25.92627], [48.2958, 25.925951666666663], [48.29613666666667, 25.925586666666668], [48.29629166666667, 25.92526], [48.29625333333333, 25.925115], [48.296083333333335, 25.92482333333333], [48.295965, 25.92453833333333], [48.295965, 25.92453833333333], [48.295965, 25.92453833333333], [48.295965, 25.92453833333333], [48.295965, 25.92453833333333], [48.295965, 25.92453833333333], [48.295965, 25.92453833333333], [48.295965, 25.92453833333333], [48.295965, 25.92453833333333], [48.295965, 25.92453833333333], [48.29598, 25.92452833333333], [48.29573833333333, 25.924108333333333], [48.29549166666666, 25.92387], [48.29542833333333, 25.92396], [48.295295, 25.924105], [48.295055, 25.924411666666668], [48.294806666666666, 25.92491], [48.29448666666666, 25.92556833333333], [48.29430166666667, 25.925985], [48.294365, 25.926236666666668], [48.294415, 25.926525], [48.29441666666666, 25.926705], [48.294518333333336, 25.926861666666667], [48.29457666666666, 25.92702], [48.294565, 25.92709333333333], [48.29440833333334, 25.927436666666665], [48.2941, 25.927758333333333], [48.29378333333333, 25.92819833333333], [48.293665, 25.928336666666667], [48.293643333333335, 25.928395], [48.29355666666667, 25.928606666666667], [48.29326833333333, 25.929178333333333], [48.29297833333333, 25.92974], [48.29292, 25.929895], [48.29297666666667, 25.930855], [48.29302333333333, 25.930968333333333], [48.293005, 25.931216666666668], [48.29300166666667, 25.931485], [48.29301333333333, 25.931551666666667], [48.29305, 25.93164833333333], [48.29306666666667, 25.93201], [48.29307333333333, 25.932493333333333], [48.29276333333333, 25.932831666666665], [48.29246166666667, 25.932911666666666], [48.292195, 25.93294333333333], [48.29192666666667, 25.932986666666668], [48.29162333333333, 25.93304333333333], [48.291335, 25.93305833333333], [48.291023333333335, 25.93315], [48.290751666666665, 25.93321333333333], [48.29070166666666, 25.933301666666665], [48.29064666666667, 25.93347333333333], [48.29049333333333, 25.93358333333333], [48.29031333333333, 25.933561666666662], [48.289973333333336, 25.933535], [48.28935833333333, 25.933421666666668], [48.28905666666667, 25.93332333333333], [48.288755, 25.933201666666665], [48.288585, 25.93307666666667], [48.288381666666666, 25.93306], [48.287995, 25.932986666666668], [48.28781166666667, 25.93295833333333], [48.287795, 25.932975], [48.28777333333333, 25.933001666666662], [48.28769333333334, 25.932983333333333], [48.287375, 25.933333333333334], [48.28729333333333, 25.933668333333333], [48.287261666666666, 25.933855], [48.286745, 25.93377333333333], [48.28641, 25.93368], [48.286115, 25.933578333333333], [48.285835, 25.93345], [48.2855, 25.933343333333333], [48.285041666666665, 25.933196666666667], [48.284795, 25.93312833333333], [48.28447166666667, 25.933001666666662], [48.283845, 25.932726666666667], [48.283296666666665, 25.932466666666667], [48.283026666666665, 25.932461666666665], [48.28291333333333, 25.932451666666665], [48.282898333333335, 25.932451666666665], [48.28257, 25.932331666666663], [48.28246, 25.932301666666667], [48.282185, 25.93219833333333], [48.28180166666667, 25.932043333333333], [48.281623333333336, 25.931998333333333], [48.281288333333336, 25.93188333333333], [48.280655, 25.931651666666667], [48.28021, 25.931461666666667], [48.28021, 25.931461666666667], [48.279691666666665, 25.93126], [48.27936, 25.931086666666666], [48.27926833333333, 25.931066666666663], [48.27894166666667, 25.931026666666668], [48.27834666666666, 25.9308], [48.277593333333336, 25.930523333333333], [48.276855, 25.930198333333333], [48.276741666666666, 25.93017333333333], [48.27647, 25.93009333333333], [48.27598166666667, 25.929921666666665], [48.27543333333333, 25.92969833333333], [48.27388166666667, 25.92924], [48.273118333333336, 25.929015], [48.272535, 25.928843333333333], [48.272308333333335, 25.92880333333333], [48.27186, 25.928696666666667], [48.27111333333333, 25.92834333333333], [48.27032666666667, 25.927991666666667], [48.26981833333333, 25.927758333333333], [48.26981666666666, 25.927731666666663], [48.26927666666667, 25.92744666666667], [48.269016666666666, 25.927008333333333], [48.26876, 25.92695833333333], [48.268595, 25.927301666666665], [48.26866, 25.927801666666667], [48.268555, 25.92853], [48.26846666666667, 25.929375], [48.26847833333333, 25.92955333333333], [48.268438333333336, 25.930053333333333], [48.26828833333333, 25.931236666666667], [48.268105, 25.932656666666663], [48.26788666666667, 25.93407], [48.26766166666667, 25.935395]],\n",
       "                {&quot;bubblingMouseEvents&quot;: true, &quot;color&quot;: &quot;#cdff29&quot;, &quot;dashArray&quot;: null, &quot;dashOffset&quot;: null, &quot;fill&quot;: false, &quot;fillColor&quot;: &quot;#cdff29&quot;, &quot;fillOpacity&quot;: 0.2, &quot;fillRule&quot;: &quot;evenodd&quot;, &quot;lineCap&quot;: &quot;round&quot;, &quot;lineJoin&quot;: &quot;round&quot;, &quot;noClip&quot;: false, &quot;opacity&quot;: 0.8, &quot;smoothFactor&quot;: 1.0, &quot;stroke&quot;: true, &quot;weight&quot;: 2}\n",
       "            ).addTo(map_01a3c60f35c839baf1aae479ca3e7187);\n",
       "        \n",
       "    \n",
       "            var poly_line_b5ae89aa25f4960e4ca387ab36b77110 = L.polyline(\n",
       "                [[48.26766166666667, 25.935395], [48.267625, 25.935728333333333], [48.267561666666666, 25.936405], [48.267543333333336, 25.93658], [48.267415, 25.937636666666663], [48.26726833333333, 25.938513333333333], [48.26723, 25.93881], [48.26724, 25.938856666666663], [48.267201666666665, 25.939245], [48.26716166666667, 25.93951], [48.26720666666667, 25.939915], [48.26725166666667, 25.940171666666668], [48.26769, 25.941416666666665], [48.268006666666665, 25.942496666666667], [48.268233333333335, 25.94318833333333], [48.26827166666666, 25.943326666666668], [48.268431666666665, 25.943955], [48.268635, 25.944545], [48.268701666666665, 25.94472333333333], [48.268861666666666, 25.94520333333333], [48.26904833333333, 25.945905], [48.26960666666667, 25.94766], [48.26960666666667, 25.94766], [48.26960833333333, 25.947726666666668], [48.269705, 25.948018333333334], [48.269868333333335, 25.948453333333333], [48.27014166666667, 25.949236666666668], [48.270385, 25.949905], [48.27044833333333, 25.950043333333333], [48.27056666666667, 25.94994833333333], [48.27047, 25.949836666666663], [48.270275, 25.94957], [48.26996333333334, 25.948491666666666], [48.26984333333333, 25.94794], [48.26966333333333, 25.947413333333333], [48.269635, 25.947365], [48.26953, 25.947051666666667], [48.26933, 25.946356666666667], [48.2692, 25.94588], [48.26900166666667, 25.945246666666662], [48.268895, 25.944866666666663], [48.268785, 25.94455], [48.268591666666666, 25.94404833333333], [48.26837166666667, 25.943328333333334], [48.26821833333333, 25.942761666666662], [48.267755, 25.941275], [48.26753333333333, 25.940546666666663], [48.26752833333333, 25.94052], [48.26747833333334, 25.94033333333333], [48.267365, 25.939936666666668], [48.26734, 25.939911666666667], [48.267295, 25.9396], [48.26738666666667, 25.93876833333333], [48.26757333333333, 25.937401666666663], [48.26772166666667, 25.936405], [48.26777666666667, 25.935995], [48.267813333333336, 25.935835], [48.267858333333336, 25.935396666666666], [48.26804166666667, 25.934261666666668], [48.268165, 25.933485], [48.268283333333336, 25.93253], [48.26844833333333, 25.931246666666667], [48.26860333333333, 25.930131666666668], [48.268816666666666, 25.92863], [48.26880833333333, 25.92856833333333], [48.26882333333333, 25.928455], [48.26899333333333, 25.92795], [48.26923166666667, 25.927705], [48.26951666666667, 25.92767333333333], [48.26976666666667, 25.927756666666667], [48.27017666666666, 25.92790833333333], [48.270545, 25.928083333333333], [48.27067666666667, 25.928115], [48.270673333333335, 25.92806333333333], [48.271255, 25.928255], [48.27186666666667, 25.92848833333333], [48.27202833333333, 25.928543333333334], [48.272641666666665, 25.92882333333333], [48.27350833333333, 25.92911], [48.27435666666667, 25.929366666666667], [48.27500333333333, 25.929565], [48.27545666666666, 25.92977], [48.275895, 25.929961666666667], [48.27598166666667, 25.929973333333333], [48.276055, 25.93003833333333], [48.276745, 25.93021], [48.278365, 25.93081833333333], [48.27912333333333, 25.93111333333333], [48.27985833333334, 25.93136], [48.280303333333336, 25.931521666666665], [48.28043666666667, 25.931566666666665], [48.28046333333333, 25.931573333333333], [48.28069166666667, 25.931651666666667], [48.281306666666666, 25.93185833333333], [48.28185666666667, 25.93210333333333], [48.28205, 25.932185], [48.2821, 25.93218], [48.28225833333333, 25.93219], [48.282646666666665, 25.932331666666663], [48.283098333333335, 25.932531666666662], [48.283883333333335, 25.93279666666667], [48.28443333333333, 25.933001666666662], [48.2849, 25.933166666666665], [48.28545166666667, 25.93339], [48.28572666666667, 25.933511666666668], [48.285745, 25.933515], [48.28669333333333, 25.933881666666668], [48.28669333333333, 25.933881666666668], [48.28706, 25.934001666666667], [48.28727166666667, 25.93399833333333], [48.28738, 25.933758333333333], [48.287418333333335, 25.933436666666665], [48.28755, 25.933105], [48.287625, 25.933085], [48.28786166666666, 25.933098333333334], [48.288203333333335, 25.933166666666665], [48.28846333333333, 25.93320333333333], [48.288715, 25.933296666666667], [48.28899666666667, 25.9333], [48.289566666666666, 25.933491666666665], [48.28987166666667, 25.933525], [48.29015166666667, 25.93361], [48.290553333333335, 25.933841666666662], [48.29091666666667, 25.933965], [48.291293333333336, 25.934173333333334], [48.29163333333333, 25.934393333333333], [48.291925, 25.934606666666667], [48.29217833333333, 25.934835], [48.29260333333333, 25.934961666666663], [48.29260833333333, 25.934843333333333], [48.29260666666666, 25.934653333333333], [48.292683333333336, 25.934081666666668], [48.29290833333334, 25.933336666666666], [48.293056666666665, 25.933055], [48.293036666666666, 25.93274], [48.29300833333333, 25.93243], [48.292928333333336, 25.932086666666667], [48.29291833333333, 25.931506666666667], [48.292875, 25.93088833333333], [48.29281666666667, 25.930321666666668], [48.29304, 25.929815], [48.29332166666666, 25.92919], [48.29364666666667, 25.928615], [48.293925, 25.928105], [48.29414833333333, 25.927886666666662], [48.294275, 25.927748333333334], [48.29456833333333, 25.927305], [48.29496833333334, 25.92690333333333], [48.29513666666666, 25.92674333333333], [48.295321666666666, 25.926465], [48.29569, 25.926066666666667], [48.29608666666667, 25.92560333333333], [48.296215, 25.925238333333333], [48.296055, 25.924866666666667], [48.295735, 25.924161666666667], [48.29558166666666, 25.923916666666667], [48.29545666666667, 25.923961666666667], [48.295185, 25.924241666666667], [48.29488, 25.924803333333333], [48.29455166666666, 25.925516666666667], [48.294331666666665, 25.926091666666668], [48.294455, 25.92651], [48.29452833333333, 25.926875], [48.294556666666665, 25.927226666666662], [48.29428333333333, 25.927565], [48.29390833333333, 25.927975], [48.293668333333336, 25.928481666666663], [48.293385, 25.92901833333333], [48.29269166666667, 25.930646666666668], [48.29269166666667, 25.930646666666668], [48.29268, 25.93092], [48.29274166666666, 25.93136833333333], [48.29295, 25.93201833333333], [48.29302, 25.932501666666667], [48.292721666666665, 25.932776666666665], [48.292406666666665, 25.93276333333333], [48.292335, 25.932885], [48.29210333333333, 25.93296], [48.29185833333333, 25.93300333333333], [48.29161833333333, 25.93303166666667], [48.29139166666667, 25.93306], [48.29113, 25.933101666666666], [48.290805, 25.93325], [48.29059166666666, 25.933353333333333], [48.290525, 25.9336], [48.29041166666666, 25.93366], [48.290126666666666, 25.933615], [48.28984666666667, 25.9336], [48.28957833333333, 25.933498333333333], [48.28928666666667, 25.933391666666665], [48.288995, 25.933333333333334], [48.28868333333333, 25.9332], [48.288285, 25.933166666666665], [48.28801666666666, 25.933095], [48.28777, 25.933036666666663], [48.287475, 25.93298], [48.287335, 25.933355], [48.28724, 25.933613333333334], [48.28717666666667, 25.93392], [48.28691166666667, 25.933851666666666], [48.28648333333334, 25.93369333333333], [48.28611333333333, 25.933568333333334], [48.285828333333335, 25.93346833333333], [48.28559333333333, 25.933385], [48.28505166666667, 25.93319333333333], [48.28441333333333, 25.932973333333333], [48.283766666666665, 25.93272333333333]],\n",
       "                {&quot;bubblingMouseEvents&quot;: true, &quot;color&quot;: &quot;#ffc400&quot;, &quot;dashArray&quot;: null, &quot;dashOffset&quot;: null, &quot;fill&quot;: false, &quot;fillColor&quot;: &quot;#ffc400&quot;, &quot;fillOpacity&quot;: 0.2, &quot;fillRule&quot;: &quot;evenodd&quot;, &quot;lineCap&quot;: &quot;round&quot;, &quot;lineJoin&quot;: &quot;round&quot;, &quot;noClip&quot;: false, &quot;opacity&quot;: 0.8, &quot;smoothFactor&quot;: 1.0, &quot;stroke&quot;: true, &quot;weight&quot;: 2}\n",
       "            ).addTo(map_01a3c60f35c839baf1aae479ca3e7187);\n",
       "        \n",
       "    \n",
       "            var poly_line_ab3aafd78faedbc2a826a1a7e4c16564 = L.polyline(\n",
       "                [[48.283766666666665, 25.93272333333333], [48.283315, 25.93248833333333], [48.28328, 25.93248], [48.28314, 25.93247], [48.282743333333336, 25.93233333333333], [48.281625, 25.931923333333334], [48.28138666666667, 25.931836666666666], [48.2808, 25.931626666666663], [48.279995, 25.931311666666662], [48.27941666666667, 25.93104], [48.27899666666666, 25.930931666666662], [48.27876, 25.930881666666668], [48.278265, 25.930713333333333], [48.27760333333333, 25.930478333333333], [48.27693833333333, 25.930206666666667], [48.27674666666667, 25.930151666666667], [48.275866666666666, 25.929811666666662], [48.27575333333333, 25.92977833333333], [48.275365, 25.929661666666668], [48.274708333333336, 25.929451666666665], [48.27388333333333, 25.929258333333333], [48.27298166666667, 25.92892833333333], [48.27243166666667, 25.92870333333333], [48.27185833333333, 25.928416666666667], [48.271078333333335, 25.928111666666663], [48.27051, 25.927885], [48.27001166666667, 25.927686666666663], [48.269891666666666, 25.92765], [48.26958833333333, 25.927601666666668], [48.26926666666667, 25.92736833333333], [48.26902833333333, 25.92695], [48.26875, 25.92692], [48.26856, 25.927261666666663], [48.26863, 25.927796666666666], [48.26867666666666, 25.928116666666668], [48.26860333333333, 25.929015], [48.26851666666666, 25.92963333333333], [48.268476666666665, 25.92976], [48.26847166666667, 25.929835], [48.268438333333336, 25.930046666666662], [48.26829333333333, 25.931086666666666], [48.26808833333333, 25.932295], [48.26795666666667, 25.933166666666665], [48.267765, 25.934365], [48.267608333333335, 25.93569833333333], [48.26749, 25.936481666666666], [48.26750333333333, 25.93649], [48.26734166666667, 25.937705], [48.26723166666667, 25.9384], [48.26721333333333, 25.938521666666663], [48.2672, 25.93858], [48.26717833333333, 25.938781666666667], [48.26712166666667, 25.93932333333333], [48.26718, 25.939951666666666], [48.26744833333333, 25.940665], [48.26774666666667, 25.941581666666668], [48.268011666666666, 25.942496666666667], [48.26826, 25.943438333333333], [48.268325, 25.943605], [48.26852333333333, 25.944358333333334], [48.26858333333333, 25.94457], [48.26857833333333, 25.944593333333334], [48.26875833333333, 25.94477333333333], [48.268926666666665, 25.945275], [48.26917666666667, 25.946121666666667], [48.26951833333333, 25.94726], [48.269605, 25.94766], [48.269711666666666, 25.948015], [48.26985833333333, 25.94843333333333], [48.270045, 25.949068333333333], [48.270135, 25.949356666666667], [48.270226666666666, 25.94950333333333], [48.270383333333335, 25.949895], [48.27039833333333, 25.949935], [48.27052666666667, 25.950046666666665], [48.270561666666666, 25.949971666666663], [48.27055833333333, 25.9499], [48.270505, 25.949731666666665], [48.27009666666667, 25.94876333333333], [48.27008166666667, 25.94871333333333], [48.26992833333333, 25.948235], [48.269803333333336, 25.947846666666667], [48.26964, 25.947343333333333], [48.26949333333334, 25.94696666666667], [48.26928, 25.946311666666663], [48.26900333333333, 25.94540333333333], [48.26889666666667, 25.944946666666667], [48.26831833333333, 25.943191666666667], [48.268025, 25.94228333333333], [48.26772, 25.941296666666663], [48.267555, 25.94063333333333], [48.267535, 25.94057], [48.26750166666667, 25.94055], [48.26734666666667, 25.940141666666666], [48.267345, 25.94011], [48.26729666666667, 25.93973833333333], [48.26741, 25.93848333333333], [48.26759, 25.937273333333334], [48.267741666666666, 25.93615], [48.26779, 25.935793333333333], [48.26779333333333, 25.935786666666665], [48.267831666666666, 25.9355], [48.267955, 25.934591666666662], [48.26810666666667, 25.933661666666666], [48.26824166666667, 25.93261333333333], [48.268431666666665, 25.931261666666668], [48.268615, 25.929925], [48.26874333333333, 25.928996666666663], [48.26882666666667, 25.92844], [48.26884166666667, 25.928361666666667], [48.269895, 25.92779833333333], [48.27037666666666, 25.92798833333333], [48.27064166666667, 25.928111666666663], [48.27064833333333, 25.928106666666668], [48.270725, 25.92803333333333], [48.27159833333333, 25.92834], [48.27239333333333, 25.928616666666667], [48.27326, 25.92890833333333], [48.27409166666666, 25.929176666666667], [48.274818333333336, 25.929306666666665], [48.274955, 25.92931833333333], [48.27502, 25.92955], [48.275315, 25.929718333333334], [48.275866666666666, 25.92988833333333], [48.27607833333333, 25.929981666666663], [48.276786666666666, 25.930205], [48.277555, 25.930476666666667], [48.279138333333336, 25.93112333333333], [48.27946166666667, 25.931245], [48.27975833333333, 25.931345], [48.28018, 25.931498333333334], [48.28048833333333, 25.93160333333333], [48.28051833333333, 25.93159333333333], [48.280985, 25.93175], [48.28169833333333, 25.932056666666668], [48.28190166666667, 25.932156666666668], [48.28228, 25.932233333333333], [48.28293166666667, 25.932445], [48.283705, 25.932721666666662], [48.284085, 25.932855], [48.284468333333336, 25.933008333333333], [48.28481166666667, 25.93314], [48.285375, 25.933345], [48.28566333333333, 25.93352], [48.28586833333333, 25.933523333333333], [48.286188333333335, 25.933641666666663], [48.286946666666665, 25.933916666666665], [48.287191666666665, 25.934005], [48.287261666666666, 25.933965], [48.28731, 25.93382], [48.28738166666667, 25.933523333333333], [48.28747, 25.933211666666665], [48.28768166666666, 25.933046666666662], [48.28785166666667, 25.93307], [48.28818666666667, 25.93315], [48.28855333333333, 25.933185], [48.288891666666665, 25.933298333333333], [48.289026666666665, 25.93326833333333], [48.28915166666667, 25.933296666666667], [48.28979, 25.93345], [48.290061666666666, 25.933525], [48.290396666666666, 25.93369], [48.29076666666667, 25.93379333333333], [48.29112333333333, 25.93398333333333], [48.29149, 25.934228333333333], [48.29185833333333, 25.934565], [48.29213, 25.93476833333333], [48.29234666666667, 25.934945], [48.29254666666667, 25.93489], [48.29264666666667, 25.93462333333333], [48.29283, 25.93389833333333], [48.29303, 25.933085], [48.29306833333333, 25.93289833333333], [48.293101666666665, 25.932641666666665], [48.29308, 25.932348333333334], [48.29304333333333, 25.93202833333333], [48.29300333333333, 25.931561666666667], [48.29293166666667, 25.931141666666665], [48.292876666666665, 25.93062833333333], [48.29287833333333, 25.930175], [48.29306, 25.929725], [48.294113333333335, 25.927865], [48.29414333333333, 25.92780833333333], [48.29414, 25.927736666666668], [48.29422, 25.927625], [48.294536666666666, 25.927276666666668], [48.294853333333336, 25.92695833333333], [48.29514833333333, 25.926596666666665], [48.29551166666667, 25.92621], [48.29584, 25.925821666666668], [48.2961, 25.925498333333334], [48.296245, 25.925261666666668], [48.29609, 25.924871666666668], [48.295973333333336, 25.92458], [48.29597166666667, 25.924546666666668], [48.296, 25.9245], [48.29595833333333, 25.924533333333333], [48.29600333333333, 25.924526666666665], [48.295985, 25.92454833333333], [48.2959, 25.9244], [48.295675, 25.923935], [48.29541, 25.923885], [48.295175, 25.924206666666667], [48.29496666666667, 25.924623333333333], [48.294756666666665, 25.92504333333333], [48.29458666666667, 25.925395], [48.29434, 25.92594833333333]],\n",
       "                {&quot;bubblingMouseEvents&quot;: true, &quot;color&quot;: &quot;#ff6700&quot;, &quot;dashArray&quot;: null, &quot;dashOffset&quot;: null, &quot;fill&quot;: false, &quot;fillColor&quot;: &quot;#ff6700&quot;, &quot;fillOpacity&quot;: 0.2, &quot;fillRule&quot;: &quot;evenodd&quot;, &quot;lineCap&quot;: &quot;round&quot;, &quot;lineJoin&quot;: &quot;round&quot;, &quot;noClip&quot;: false, &quot;opacity&quot;: 0.8, &quot;smoothFactor&quot;: 1.0, &quot;stroke&quot;: true, &quot;weight&quot;: 2}\n",
       "            ).addTo(map_01a3c60f35c839baf1aae479ca3e7187);\n",
       "        \n",
       "    \n",
       "            var poly_line_52af71fe9291d585338650662dd1b252 = L.polyline(\n",
       "                [[48.29434, 25.92594833333333], [48.29434333333333, 25.926115], [48.29437833333333, 25.92624], [48.294395, 25.926326666666668], [48.29442333333333, 25.92654333333333], [48.29445166666667, 25.92679333333333], [48.294525, 25.92712], [48.294515, 25.927251666666667], [48.29441166666667, 25.927388333333333], [48.294105, 25.92774333333333], [48.293798333333335, 25.92815166666667], [48.29345, 25.928853333333333], [48.29304333333333, 25.9296], [48.29288833333333, 25.92984833333333], [48.29289833333333, 25.929876666666665], [48.292883333333336, 25.929955], [48.292865, 25.930131666666668], [48.29284833333333, 25.93027333333333], [48.29277666666667, 25.930655], [48.292785, 25.931335], [48.29282, 25.93171], [48.292903333333335, 25.931771666666663], [48.29298833333333, 25.93221833333333], [48.29301, 25.932525], [48.292915, 25.933361666666663], [48.29274166666666, 25.934151666666665], [48.29257, 25.934941666666667], [48.29254, 25.93525], [48.29254, 25.93525], [48.29251333333333, 25.93544], [48.29242666666666, 25.93587833333333], [48.29229333333333, 25.936385], [48.29207, 25.937131666666662], [48.291895, 25.937788333333334], [48.29154, 25.938806666666668], [48.291358333333335, 25.93933833333333], [48.29135, 25.93936833333333], [48.29135333333333, 25.93951], [48.29117333333333, 25.940335], [48.291055, 25.941341666666663], [48.29086, 25.94249333333333], [48.290745, 25.94367666666667], [48.29057333333333, 25.94477333333333], [48.290398333333336, 25.946055], [48.28959, 25.950075], [48.289555, 25.950306666666663], [48.28949, 25.95062], [48.2893, 25.951551666666667], [48.28912, 25.95237333333333], [48.28901166666667, 25.952865], [48.28890833333333, 25.953368333333334], [48.28878666666667, 25.953876666666662], [48.28867833333333, 25.954391666666663], [48.288555, 25.955001666666668], [48.288425, 25.955673333333333], [48.288376666666665, 25.955941666666668], [48.288376666666665, 25.955941666666668], [48.28826166666666, 25.956416666666662], [48.28815333333333, 25.956785], [48.28794333333333, 25.95750333333333], [48.28763666666666, 25.958581666666667], [48.28751166666667, 25.959006666666667], [48.287285, 25.959795], [48.28692333333333, 25.960921666666668], [48.286585, 25.962096666666667], [48.28625666666667, 25.963183333333333], [48.28601666666667, 25.964025], [48.285763333333335, 25.96484], [48.28539833333333, 25.96606], [48.28520833333334, 25.966641666666668], [48.28498666666667, 25.967371666666665], [48.28474833333333, 25.968241666666668], [48.28446666666667, 25.96915333333333], [48.28420333333333, 25.969901666666665], [48.284065, 25.970368333333333], [48.28395166666667, 25.97084], [48.283928333333336, 25.97102333333333], [48.28325, 25.97258], [48.282805, 25.97359833333333], [48.282325, 25.97462833333333], [48.282005, 25.975335], [48.281598333333335, 25.97634333333333], [48.28109833333333, 25.977445], [48.28076166666666, 25.978246666666667], [48.28032833333334, 25.979316666666666], [48.27984, 25.980271666666667], [48.279228333333336, 25.981461666666668], [48.278666666666666, 25.982516666666665], [48.27755833333333, 25.98459666666667], [48.27702666666666, 25.98559333333333], [48.27674, 25.986155], [48.276345, 25.986913333333334], [48.27572666666666, 25.988035], [48.27516166666667, 25.989086666666665], [48.27471166666667, 25.989866666666668], [48.27456, 25.99013833333333], [48.2741, 25.991018333333333], [48.27299833333333, 25.993106666666662], [48.27256166666667, 25.993865], [48.27208, 25.994791666666668], [48.271863333333336, 25.995236666666667], [48.27174166666666, 25.995506666666667], [48.271701666666665, 25.995608333333333], [48.271431666666665, 25.996095], [48.27099166666667, 25.996906666666668], [48.27074833333333, 25.997245], [48.27066, 25.997216666666667], [48.270536666666665, 25.997105], [48.27005333333334, 25.996583333333334], [48.26943166666667, 25.995898333333333], [48.26805, 25.99441833333333], [48.267428333333335, 25.99377833333333], [48.26694833333333, 25.993261666666665], [48.26671666666667, 25.99282], [48.26688666666666, 25.992425], [48.26722, 25.99171], [48.26773166666667, 25.990645], [48.267898333333335, 25.990085], [48.267845, 25.989996666666663], [48.26719333333333, 25.989581666666663], [48.26703166666667, 25.989463333333333], [48.266936666666666, 25.989371666666667], [48.266936666666666, 25.989371666666667], [48.266936666666666, 25.989371666666667], [48.266936666666666, 25.989371666666667], [48.266868333333335, 25.98930333333333], [48.266801666666666, 25.989255], [48.26678833333333, 25.989238333333333], [48.26678166666667, 25.98922], [48.2667, 25.98913], [48.26648166666666, 25.988871666666668], [48.26641333333333, 25.988868333333333], [48.26642, 25.988805], [48.26631166666667, 25.98872], [48.26637166666666, 25.988633333333333], [48.26629166666667, 25.988601666666668], [48.26604666666667, 25.988366666666668], [48.26592333333333, 25.98830833333333], [48.26581166666666, 25.988341666666667], [48.26573, 25.98849166666667], [48.26559666666667, 25.98877833333333], [48.26532666666667, 25.98927], [48.26513166666667, 25.98968], [48.26495, 25.990141666666663], [48.264885, 25.99041], [48.26495833333333, 25.99062], [48.26495666666667, 25.990656666666663], [48.26494833333334, 25.990655], [48.265076666666666, 25.990796666666668], [48.265213333333335, 25.99094833333333], [48.26534, 25.99112166666667], [48.26546166666667, 25.99126833333333], [48.265616666666666, 25.991433333333333], [48.265863333333336, 25.99168333333333], [48.26620833333333, 25.992146666666667], [48.26620833333333, 25.992146666666667], [48.26620833333333, 25.992146666666667], [48.26620833333333, 25.992146666666667], [48.26620833333333, 25.992146666666667], [48.26620833333333, 25.992146666666667], [48.26620833333333, 25.992146666666667], [48.26620833333333, 25.992146666666667], [48.26620833333333, 25.992146666666667], [48.26620833333333, 25.992146666666667], [48.26620833333333, 25.992146666666667], [48.26620833333333, 25.992146666666667], [48.26620833333333, 25.992146666666667], [48.26620833333333, 25.992146666666667], [48.26620833333333, 25.992146666666667], [48.26620833333333, 25.992146666666667], [48.26620833333333, 25.992146666666667], [48.26620833333333, 25.992146666666667], [48.26620833333333, 25.992146666666667], [48.26620833333333, 25.992146666666667], [48.26620833333333, 25.992146666666667], [48.26620833333333, 25.992146666666667], [48.26620833333333, 25.992146666666667], [48.26634833333333, 25.992171666666668], [48.26641833333333, 25.99215833333333], [48.26639333333333, 25.99216333333333], [48.26645833333333, 25.992115], [48.26649333333334, 25.992028333333334], [48.26656666666667, 25.991931666666662], [48.26669166666667, 25.99196333333333], [48.26668166666666, 25.991971666666668], [48.26668166666666, 25.991971666666668], [48.26668166666666, 25.991971666666668], [48.26668166666666, 25.991971666666668], [48.26668166666666, 25.991971666666668], [48.26668166666666, 25.991971666666668], [48.26668166666666, 25.991971666666668], [48.26669833333333, 25.99201], [48.266815, 25.992136666666667], [48.266835, 25.992173333333334], [48.266835, 25.992173333333334], [48.266835, 25.992173333333334], [48.266835, 25.992173333333334], [48.266835, 25.992173333333334], [48.266835, 25.992173333333334], [48.266835, 25.992173333333334], [48.266835, 25.992173333333334], [48.266835, 25.992173333333334], [48.266835, 25.992173333333334], [48.266835, 25.992173333333334], [48.266835, 25.992173333333334], [48.266835, 25.992173333333334]],\n",
       "                {&quot;bubblingMouseEvents&quot;: true, &quot;color&quot;: &quot;#f10700&quot;, &quot;dashArray&quot;: null, &quot;dashOffset&quot;: null, &quot;fill&quot;: false, &quot;fillColor&quot;: &quot;#f10700&quot;, &quot;fillOpacity&quot;: 0.2, &quot;fillRule&quot;: &quot;evenodd&quot;, &quot;lineCap&quot;: &quot;round&quot;, &quot;lineJoin&quot;: &quot;round&quot;, &quot;noClip&quot;: false, &quot;opacity&quot;: 0.8, &quot;smoothFactor&quot;: 1.0, &quot;stroke&quot;: true, &quot;weight&quot;: 2}\n",
       "            ).addTo(map_01a3c60f35c839baf1aae479ca3e7187);\n",
       "        \n",
       "&lt;/script&gt;\" style=\"position:absolute;width:100%;height:100%;left:0;top:0;border:none !important;\" allowfullscreen webkitallowfullscreen mozallowfullscreen></iframe></div></div>"
      ],
      "text/plain": [
       "<folium.folium.Map at 0x24969d1eca0>"
      ]
     },
     "execution_count": 32,
     "metadata": {},
     "output_type": "execute_result"
    }
   ],
   "source": [
    "trace = vehicle_df[['lat', 'lng']].values\n",
    "\n",
    "m = folium.Map(\n",
    "    location=np.mean(trace, axis=0), \n",
    "    zoom_start=12, height='50%', width='55%'\n",
    "    )\n",
    "\n",
    "plot_coloured_route(trace, m)\n",
    "\n",
    "m"
   ]
  },
  {
   "cell_type": "code",
   "execution_count": 31,
   "id": "7dc93c5a",
   "metadata": {},
   "outputs": [],
   "source": [
    "def rgb_to_hex(r, g, b):\n",
    "    return f'{r:02x}{g:02x}{b:02x}'\n",
    "\n",
    "\n",
    "def plot_coloured_route(route, folium_map, color_map=mpl.cm.get_cmap('jet'), bins=10):\n",
    "    bins = min(bins, len(route))\n",
    "    \n",
    "    lspace = np.linspace(0, len(route), num=bins+1, dtype=int)\n",
    "    \n",
    "    for i, (lb, rb) in enumerate(zip(lspace[:-1], lspace[1:]) ):\n",
    "        clr = rgb_to_hex(*tuple(map(lambda x : int(x*255), cm(i/bins) ))[:3])\n",
    "        folium.PolyLine(\n",
    "            route[lb:rb+1, :],\n",
    "            color=f\"#{clr}\", weight=2,\n",
    "            opacity=0.8\n",
    "        ).add_to(folium_map)"
   ]
  },
  {
   "cell_type": "code",
   "execution_count": null,
   "id": "64dafe41",
   "metadata": {},
   "outputs": [],
   "source": []
  },
  {
   "cell_type": "code",
   "execution_count": null,
   "id": "63bde5ad",
   "metadata": {},
   "outputs": [],
   "source": []
  },
  {
   "cell_type": "code",
   "execution_count": null,
   "id": "ffa6d621",
   "metadata": {},
   "outputs": [],
   "source": []
  },
  {
   "cell_type": "code",
   "execution_count": 16,
   "id": "56490aa9",
   "metadata": {},
   "outputs": [],
   "source": [
    "# result_list"
   ]
  },
  {
   "cell_type": "code",
   "execution_count": 20,
   "id": "c8898831",
   "metadata": {},
   "outputs": [
    {
     "data": {
      "text/plain": [
       "Index(['id', 'imei', 'name', 'stateCode', 'stateName', 'lat', 'lng', 'speed',\n",
       "       'orientation', 'gpstime', 'routeId', 'routeName', 'routeColour',\n",
       "       'inDepo', 'busNumber', 'perevId', 'perevName', 'remark', 'online',\n",
       "       'idBusTypes'],\n",
       "      dtype='object')"
      ]
     },
     "execution_count": 20,
     "metadata": {},
     "output_type": "execute_result"
    }
   ],
   "source": [
    "# df.value_counts()\n",
    "'id', 'imei', 'name', 'stateCode', 'stateName', 'lat', 'lng', 'speed',\n",
    "       'orientation', 'gpstime', 'routeId', 'routeName', 'routeColour',\n",
    "       'inDepo', 'busNumber', 'perevId', 'perevName', 'remark', 'online',\n",
    "       'idBusTypes'\n",
    "df.keys()"
   ]
  },
  {
   "cell_type": "code",
   "execution_count": 34,
   "id": "ba1e2709",
   "metadata": {},
   "outputs": [
    {
     "data": {
      "text/plain": [
       "('2022-09-29 23:00:05', '2022-09-30 22:55:38')"
      ]
     },
     "execution_count": 34,
     "metadata": {},
     "output_type": "execute_result"
    }
   ],
   "source": [
    "# df['gpstime'].value_counts()\n",
    "min(vehicle_df['gpstime']), max(vehicle_df['gpstime'])"
   ]
  },
  {
   "cell_type": "code",
   "execution_count": 37,
   "id": "30926224-e1fa-4c15-9583-d1be7774925a",
   "metadata": {},
   "outputs": [
    {
     "data": {
      "text/plain": [
       "Index(['id', 'imei', 'name', 'stateCode', 'stateName', 'lat', 'lng', 'speed',\n",
       "       'orientation', 'gpstime', 'routeId', 'routeName', 'routeColour',\n",
       "       'inDepo', 'busNumber', 'perevId', 'perevName', 'remark', 'online',\n",
       "       'idBusTypes'],\n",
       "      dtype='object')"
      ]
     },
     "execution_count": 37,
     "metadata": {},
     "output_type": "execute_result"
    }
   ],
   "source": [
    "vehicle_df.keys()"
   ]
  },
  {
   "cell_type": "code",
   "execution_count": 38,
   "id": "0c463da7",
   "metadata": {},
   "outputs": [
    {
     "ename": "AttributeError",
     "evalue": "'DataFrame' object has no attribute 'unique'",
     "output_type": "error",
     "traceback": [
      "\u001b[1;31m---------------------------------------------------------------------------\u001b[0m",
      "\u001b[1;31mAttributeError\u001b[0m                            Traceback (most recent call last)",
      "\u001b[1;32m<ipython-input-38-5caea80e34ec>\u001b[0m in \u001b[0;36m<module>\u001b[1;34m\u001b[0m\n\u001b[0;32m      1\u001b[0m \u001b[0mlen\u001b[0m\u001b[1;33m(\u001b[0m\u001b[0mvehicle_df\u001b[0m\u001b[1;33m[\u001b[0m\u001b[1;34m'gpstime'\u001b[0m\u001b[1;33m]\u001b[0m\u001b[1;33m.\u001b[0m\u001b[0munique\u001b[0m\u001b[1;33m(\u001b[0m\u001b[1;33m)\u001b[0m\u001b[1;33m)\u001b[0m\u001b[1;33m,\u001b[0m \u001b[0mlen\u001b[0m\u001b[1;33m(\u001b[0m\u001b[0mvehicle_df\u001b[0m\u001b[1;33m[\u001b[0m\u001b[1;34m'gpstime'\u001b[0m\u001b[1;33m]\u001b[0m\u001b[1;33m)\u001b[0m\u001b[1;33m\u001b[0m\u001b[1;33m\u001b[0m\u001b[0m\n\u001b[1;32m----> 2\u001b[1;33m \u001b[0mlen\u001b[0m\u001b[1;33m(\u001b[0m\u001b[0mvehicle_df\u001b[0m\u001b[1;33m[\u001b[0m\u001b[1;33m[\u001b[0m\u001b[1;34m'lat'\u001b[0m\u001b[1;33m,\u001b[0m \u001b[1;34m'lng'\u001b[0m\u001b[1;33m]\u001b[0m\u001b[1;33m]\u001b[0m\u001b[1;33m.\u001b[0m\u001b[0munique\u001b[0m\u001b[1;33m(\u001b[0m\u001b[1;33m)\u001b[0m\u001b[1;33m)\u001b[0m\u001b[1;33m,\u001b[0m \u001b[0mlen\u001b[0m\u001b[1;33m(\u001b[0m\u001b[0mvehicle_df\u001b[0m\u001b[1;33m[\u001b[0m\u001b[1;34m'gpstime'\u001b[0m\u001b[1;33m]\u001b[0m\u001b[1;33m)\u001b[0m\u001b[1;33m\u001b[0m\u001b[1;33m\u001b[0m\u001b[0m\n\u001b[0m",
      "\u001b[1;32m~\\AppData\\Roaming\\Python\\Python38\\site-packages\\pandas\\core\\generic.py\u001b[0m in \u001b[0;36m__getattr__\u001b[1;34m(self, name)\u001b[0m\n\u001b[0;32m   5463\u001b[0m             \u001b[1;32mif\u001b[0m \u001b[0mself\u001b[0m\u001b[1;33m.\u001b[0m\u001b[0m_info_axis\u001b[0m\u001b[1;33m.\u001b[0m\u001b[0m_can_hold_identifiers_and_holds_name\u001b[0m\u001b[1;33m(\u001b[0m\u001b[0mname\u001b[0m\u001b[1;33m)\u001b[0m\u001b[1;33m:\u001b[0m\u001b[1;33m\u001b[0m\u001b[1;33m\u001b[0m\u001b[0m\n\u001b[0;32m   5464\u001b[0m                 \u001b[1;32mreturn\u001b[0m \u001b[0mself\u001b[0m\u001b[1;33m[\u001b[0m\u001b[0mname\u001b[0m\u001b[1;33m]\u001b[0m\u001b[1;33m\u001b[0m\u001b[1;33m\u001b[0m\u001b[0m\n\u001b[1;32m-> 5465\u001b[1;33m             \u001b[1;32mreturn\u001b[0m \u001b[0mobject\u001b[0m\u001b[1;33m.\u001b[0m\u001b[0m__getattribute__\u001b[0m\u001b[1;33m(\u001b[0m\u001b[0mself\u001b[0m\u001b[1;33m,\u001b[0m \u001b[0mname\u001b[0m\u001b[1;33m)\u001b[0m\u001b[1;33m\u001b[0m\u001b[1;33m\u001b[0m\u001b[0m\n\u001b[0m\u001b[0;32m   5466\u001b[0m \u001b[1;33m\u001b[0m\u001b[0m\n\u001b[0;32m   5467\u001b[0m     \u001b[1;32mdef\u001b[0m \u001b[0m__setattr__\u001b[0m\u001b[1;33m(\u001b[0m\u001b[0mself\u001b[0m\u001b[1;33m,\u001b[0m \u001b[0mname\u001b[0m\u001b[1;33m:\u001b[0m \u001b[0mstr\u001b[0m\u001b[1;33m,\u001b[0m \u001b[0mvalue\u001b[0m\u001b[1;33m)\u001b[0m \u001b[1;33m->\u001b[0m \u001b[1;32mNone\u001b[0m\u001b[1;33m:\u001b[0m\u001b[1;33m\u001b[0m\u001b[1;33m\u001b[0m\u001b[0m\n",
      "\u001b[1;31mAttributeError\u001b[0m: 'DataFrame' object has no attribute 'unique'"
     ]
    }
   ],
   "source": [
    "len(vehicle_df['gpstime'].unique()), len(vehicle_df['gpstime'])\n",
    "len(vehicle_df[['lat', 'lng']].unique()), len(vehicle_df['gpstime'])"
   ]
  },
  {
   "cell_type": "code",
   "execution_count": 39,
   "id": "ec9994d6",
   "metadata": {},
   "outputs": [],
   "source": [
    "updata_tm = [datetime.strptime(dt, '%Y-%m-%d %H:%M:%S').timestamp() \n",
    "             for dt in vehicle_df['gpstime'].unique() ]\n",
    "updata_tm_np = np.array(updata_tm)"
   ]
  },
  {
   "cell_type": "code",
   "execution_count": 40,
   "id": "ce5ee466",
   "metadata": {},
   "outputs": [
    {
     "data": {
      "text/plain": [
       "15532.0"
      ]
     },
     "execution_count": 40,
     "metadata": {},
     "output_type": "execute_result"
    }
   ],
   "source": [
    "max(updata_tm_np[1:] - updata_tm_np[:-1])"
   ]
  },
  {
   "cell_type": "code",
   "execution_count": 41,
   "id": "f168b0d4",
   "metadata": {},
   "outputs": [
    {
     "data": {
      "text/plain": [
       "array([ 30.,  10.,  10., ..., 300., 300., 301.])"
      ]
     },
     "execution_count": 41,
     "metadata": {},
     "output_type": "execute_result"
    }
   ],
   "source": [
    "updata_tm_np[1:] - updata_tm_np[:-1]"
   ]
  },
  {
   "cell_type": "code",
   "execution_count": 42,
   "id": "b359fed6",
   "metadata": {
    "tags": []
   },
   "outputs": [
    {
     "data": {
      "image/png": "[encoded data removed]",
      "text/plain": [
       "<Figure size 1080x360 with 1 Axes>"
      ]
     },
     "metadata": {
      "needs_background": "light"
     },
     "output_type": "display_data"
    }
   ],
   "source": [
    "plt.figure(figsize=(15, 5))\n",
    "plt.hist(updata_tm_np[1:] - updata_tm_np[:-1], bins=391)\n",
    "plt.xlim(0, 60)\n",
    "plt.show()"
   ]
  },
  {
   "cell_type": "code",
   "execution_count": 36,
   "id": "f363c7a8",
   "metadata": {},
   "outputs": [
    {
     "ename": "NameError",
     "evalue": "name 'df' is not defined",
     "output_type": "error",
     "traceback": [
      "\u001b[1;31m---------------------------------------------------------------------------\u001b[0m",
      "\u001b[1;31mNameError\u001b[0m                                 Traceback (most recent call last)",
      "\u001b[1;32m<ipython-input-36-844b92ecfe0f>\u001b[0m in \u001b[0;36m<module>\u001b[1;34m\u001b[0m\n\u001b[1;32m----> 1\u001b[1;33m \u001b[0mdf\u001b[0m\u001b[1;33m.\u001b[0m\u001b[0mkeys\u001b[0m\u001b[1;33m(\u001b[0m\u001b[1;33m)\u001b[0m\u001b[1;33m\u001b[0m\u001b[1;33m\u001b[0m\u001b[0m\n\u001b[0m",
      "\u001b[1;31mNameError\u001b[0m: name 'df' is not defined"
     ]
    }
   ],
   "source": [
    "df.keys()"
   ]
  },
  {
   "cell_type": "code",
   "execution_count": 119,
   "id": "4dc85ff5",
   "metadata": {},
   "outputs": [],
   "source": [
    "d = datetime.now()"
   ]
  },
  {
   "cell_type": "code",
   "execution_count": 121,
   "id": "2258feb6",
   "metadata": {},
   "outputs": [
    {
     "data": {
      "text/plain": [
       "343015"
      ]
     },
     "execution_count": 121,
     "metadata": {},
     "output_type": "execute_result"
    }
   ],
   "source": [
    "d.microsecond > 1_000"
   ]
  },
  {
   "cell_type": "code",
   "execution_count": 51,
   "id": "10425b57",
   "metadata": {},
   "outputs": [
    {
     "data": {
      "text/plain": [
       "array([3.0000e+01, 4.0000e+01, 5.0000e+01, ..., 8.5532e+04, 8.5832e+04,\n",
       "       8.6133e+04])"
      ]
     },
     "execution_count": 51,
     "metadata": {},
     "output_type": "execute_result"
    }
   ],
   "source": [
    "updata_tm_np[1:]-updata_tm_np[0]"
   ]
  },
  {
   "cell_type": "code",
   "execution_count": 52,
   "id": "6b7c3673",
   "metadata": {},
   "outputs": [
    {
     "data": {
      "image/png": "[encoded data removed]",
      "text/plain": [
       "<Figure size 1080x360 with 1 Axes>"
      ]
     },
     "metadata": {
      "needs_background": "light"
     },
     "output_type": "display_data"
    }
   ],
   "source": [
    "plt.figure(figsize=(15, 5))\n",
    "plt.plot((updata_tm_np[1:]-updata_tm_np[0])/3600, updata_tm_np[1:] - updata_tm_np[:-1])\n",
    "plt.ylim(0, 1000)\n",
    "plt.show()"
   ]
  },
  {
   "cell_type": "code",
   "execution_count": 44,
   "id": "858a3c00",
   "metadata": {},
   "outputs": [
    {
     "data": {
      "text/plain": [
       "(array([1904,   34,    9,    5,    6,    6,    3,   82,    0,    1,    0,\n",
       "           0,    0,    0,    0,    0,    0,    0,    0,    0,    0,    0,\n",
       "           0,    0,    0,    0,    0,    0,    1,    0,    0,    1,    0,\n",
       "           0,    0,    0,    0,    0,    0,    0,    0,    0,    0,    0,\n",
       "           0,    0,    0,    0,    0,    0,    0,    0,    0,    0,    0,\n",
       "           0,    0,    0,    0,    0,    0,    0,    0,    0,    0,    0,\n",
       "           0,    0,    0,    0,    0,    0,    0,    0,    0,    0,    0,\n",
       "           0,    0,    0,    0,    0,    0,    0,    0,    0,    0,    0,\n",
       "           0,    0,    0,    0,    0,    0,    0,    0,    0,    0,    0,\n",
       "           0,    0,    0,    0,    0,    0,    0,    0,    0,    0,    0,\n",
       "           0,    0,    0,    0,    0,    0,    0,    0,    0,    0,    0,\n",
       "           0,    0,    0,    0,    0,    0,    0,    0,    0,    0,    0,\n",
       "           0,    0,    0,    0,    0,    0,    0,    0,    0,    0,    0,\n",
       "           0,    0,    0,    0,    0,    0,    0,    0,    0,    0,    0,\n",
       "           0,    0,    0,    0,    0,    0,    0,    0,    0,    0,    0,\n",
       "           0,    0,    0,    0,    0,    0,    0,    0,    0,    0,    0,\n",
       "           0,    0,    0,    0,    0,    0,    0,    0,    0,    0,    0,\n",
       "           0,    0,    0,    0,    0,    0,    0,    0,    0,    0,    0,\n",
       "           0,    0,    0,    0,    0,    0,    0,    0,    0,    0,    0,\n",
       "           0,    0,    0,    0,    0,    0,    0,    0,    0,    0,    0,\n",
       "           0,    0,    0,    0,    0,    0,    0,    0,    0,    0,    0,\n",
       "           0,    0,    0,    0,    0,    0,    0,    0,    0,    0,    0,\n",
       "           0,    0,    0,    0,    0,    0,    0,    0,    0,    0,    0,\n",
       "           0,    0,    0,    0,    0,    0,    0,    0,    0,    0,    0,\n",
       "           0,    0,    0,    0,    0,    0,    0,    0,    0,    0,    0,\n",
       "           0,    0,    0,    0,    0,    0,    0,    0,    0,    0,    0,\n",
       "           0,    0,    0,    0,    0,    0,    0,    0,    0,    0,    0,\n",
       "           0,    0,    0,    0,    0,    0,    0,    0,    0,    0,    0,\n",
       "           0,    0,    0,    0,    0,    0,    0,    0,    0,    0,    0,\n",
       "           0,    0,    0,    0,    0,    0,    0,    0,    0,    1,    0,\n",
       "           0,    0,    0,    0,    0,    0,    0,    0,    0,    0,    0,\n",
       "           0,    0,    0,    0,    0,    0,    0,    0,    0,    0,    0,\n",
       "           0,    0,    0,    0,    0,    0,    0,    0,    0,    0,    0,\n",
       "           0,    0,    0,    0,    0,    0,    0,    0,    0,    0,    0,\n",
       "           0,    0,    0,    0,    0,    0,    0,    0,    0,    0,    0,\n",
       "           0,    0,    0,    0,    0,    1], dtype=int64),\n",
       " array([1.00000000e+00, 4.07212276e+01, 8.04424552e+01, 1.20163683e+02,\n",
       "        1.59884910e+02, 1.99606138e+02, 2.39327366e+02, 2.79048593e+02,\n",
       "        3.18769821e+02, 3.58491049e+02, 3.98212276e+02, 4.37933504e+02,\n",
       "        4.77654731e+02, 5.17375959e+02, 5.57097187e+02, 5.96818414e+02,\n",
       "        6.36539642e+02, 6.76260870e+02, 7.15982097e+02, 7.55703325e+02,\n",
       "        7.95424552e+02, 8.35145780e+02, 8.74867008e+02, 9.14588235e+02,\n",
       "        9.54309463e+02, 9.94030691e+02, 1.03375192e+03, 1.07347315e+03,\n",
       "        1.11319437e+03, 1.15291560e+03, 1.19263683e+03, 1.23235806e+03,\n",
       "        1.27207928e+03, 1.31180051e+03, 1.35152174e+03, 1.39124297e+03,\n",
       "        1.43096419e+03, 1.47068542e+03, 1.51040665e+03, 1.55012788e+03,\n",
       "        1.58984910e+03, 1.62957033e+03, 1.66929156e+03, 1.70901279e+03,\n",
       "        1.74873402e+03, 1.78845524e+03, 1.82817647e+03, 1.86789770e+03,\n",
       "        1.90761893e+03, 1.94734015e+03, 1.98706138e+03, 2.02678261e+03,\n",
       "        2.06650384e+03, 2.10622506e+03, 2.14594629e+03, 2.18566752e+03,\n",
       "        2.22538875e+03, 2.26510997e+03, 2.30483120e+03, 2.34455243e+03,\n",
       "        2.38427366e+03, 2.42399488e+03, 2.46371611e+03, 2.50343734e+03,\n",
       "        2.54315857e+03, 2.58287980e+03, 2.62260102e+03, 2.66232225e+03,\n",
       "        2.70204348e+03, 2.74176471e+03, 2.78148593e+03, 2.82120716e+03,\n",
       "        2.86092839e+03, 2.90064962e+03, 2.94037084e+03, 2.98009207e+03,\n",
       "        3.01981330e+03, 3.05953453e+03, 3.09925575e+03, 3.13897698e+03,\n",
       "        3.17869821e+03, 3.21841944e+03, 3.25814066e+03, 3.29786189e+03,\n",
       "        3.33758312e+03, 3.37730435e+03, 3.41702558e+03, 3.45674680e+03,\n",
       "        3.49646803e+03, 3.53618926e+03, 3.57591049e+03, 3.61563171e+03,\n",
       "        3.65535294e+03, 3.69507417e+03, 3.73479540e+03, 3.77451662e+03,\n",
       "        3.81423785e+03, 3.85395908e+03, 3.89368031e+03, 3.93340153e+03,\n",
       "        3.97312276e+03, 4.01284399e+03, 4.05256522e+03, 4.09228645e+03,\n",
       "        4.13200767e+03, 4.17172890e+03, 4.21145013e+03, 4.25117136e+03,\n",
       "        4.29089258e+03, 4.33061381e+03, 4.37033504e+03, 4.41005627e+03,\n",
       "        4.44977749e+03, 4.48949872e+03, 4.52921995e+03, 4.56894118e+03,\n",
       "        4.60866240e+03, 4.64838363e+03, 4.68810486e+03, 4.72782609e+03,\n",
       "        4.76754731e+03, 4.80726854e+03, 4.84698977e+03, 4.88671100e+03,\n",
       "        4.92643223e+03, 4.96615345e+03, 5.00587468e+03, 5.04559591e+03,\n",
       "        5.08531714e+03, 5.12503836e+03, 5.16475959e+03, 5.20448082e+03,\n",
       "        5.24420205e+03, 5.28392327e+03, 5.32364450e+03, 5.36336573e+03,\n",
       "        5.40308696e+03, 5.44280818e+03, 5.48252941e+03, 5.52225064e+03,\n",
       "        5.56197187e+03, 5.60169309e+03, 5.64141432e+03, 5.68113555e+03,\n",
       "        5.72085678e+03, 5.76057801e+03, 5.80029923e+03, 5.84002046e+03,\n",
       "        5.87974169e+03, 5.91946292e+03, 5.95918414e+03, 5.99890537e+03,\n",
       "        6.03862660e+03, 6.07834783e+03, 6.11806905e+03, 6.15779028e+03,\n",
       "        6.19751151e+03, 6.23723274e+03, 6.27695396e+03, 6.31667519e+03,\n",
       "        6.35639642e+03, 6.39611765e+03, 6.43583887e+03, 6.47556010e+03,\n",
       "        6.51528133e+03, 6.55500256e+03, 6.59472379e+03, 6.63444501e+03,\n",
       "        6.67416624e+03, 6.71388747e+03, 6.75360870e+03, 6.79332992e+03,\n",
       "        6.83305115e+03, 6.87277238e+03, 6.91249361e+03, 6.95221483e+03,\n",
       "        6.99193606e+03, 7.03165729e+03, 7.07137852e+03, 7.11109974e+03,\n",
       "        7.15082097e+03, 7.19054220e+03, 7.23026343e+03, 7.26998465e+03,\n",
       "        7.30970588e+03, 7.34942711e+03, 7.38914834e+03, 7.42886957e+03,\n",
       "        7.46859079e+03, 7.50831202e+03, 7.54803325e+03, 7.58775448e+03,\n",
       "        7.62747570e+03, 7.66719693e+03, 7.70691816e+03, 7.74663939e+03,\n",
       "        7.78636061e+03, 7.82608184e+03, 7.86580307e+03, 7.90552430e+03,\n",
       "        7.94524552e+03, 7.98496675e+03, 8.02468798e+03, 8.06440921e+03,\n",
       "        8.10413043e+03, 8.14385166e+03, 8.18357289e+03, 8.22329412e+03,\n",
       "        8.26301535e+03, 8.30273657e+03, 8.34245780e+03, 8.38217903e+03,\n",
       "        8.42190026e+03, 8.46162148e+03, 8.50134271e+03, 8.54106394e+03,\n",
       "        8.58078517e+03, 8.62050639e+03, 8.66022762e+03, 8.69994885e+03,\n",
       "        8.73967008e+03, 8.77939130e+03, 8.81911253e+03, 8.85883376e+03,\n",
       "        8.89855499e+03, 8.93827621e+03, 8.97799744e+03, 9.01771867e+03,\n",
       "        9.05743990e+03, 9.09716113e+03, 9.13688235e+03, 9.17660358e+03,\n",
       "        9.21632481e+03, 9.25604604e+03, 9.29576726e+03, 9.33548849e+03,\n",
       "        9.37520972e+03, 9.41493095e+03, 9.45465217e+03, 9.49437340e+03,\n",
       "        9.53409463e+03, 9.57381586e+03, 9.61353708e+03, 9.65325831e+03,\n",
       "        9.69297954e+03, 9.73270077e+03, 9.77242199e+03, 9.81214322e+03,\n",
       "        9.85186445e+03, 9.89158568e+03, 9.93130691e+03, 9.97102813e+03,\n",
       "        1.00107494e+04, 1.00504706e+04, 1.00901918e+04, 1.01299130e+04,\n",
       "        1.01696343e+04, 1.02093555e+04, 1.02490767e+04, 1.02887980e+04,\n",
       "        1.03285192e+04, 1.03682404e+04, 1.04079616e+04, 1.04476829e+04,\n",
       "        1.04874041e+04, 1.05271253e+04, 1.05668465e+04, 1.06065678e+04,\n",
       "        1.06462890e+04, 1.06860102e+04, 1.07257315e+04, 1.07654527e+04,\n",
       "        1.08051739e+04, 1.08448951e+04, 1.08846164e+04, 1.09243376e+04,\n",
       "        1.09640588e+04, 1.10037801e+04, 1.10435013e+04, 1.10832225e+04,\n",
       "        1.11229437e+04, 1.11626650e+04, 1.12023862e+04, 1.12421074e+04,\n",
       "        1.12818286e+04, 1.13215499e+04, 1.13612711e+04, 1.14009923e+04,\n",
       "        1.14407136e+04, 1.14804348e+04, 1.15201560e+04, 1.15598772e+04,\n",
       "        1.15995985e+04, 1.16393197e+04, 1.16790409e+04, 1.17187621e+04,\n",
       "        1.17584834e+04, 1.17982046e+04, 1.18379258e+04, 1.18776471e+04,\n",
       "        1.19173683e+04, 1.19570895e+04, 1.19968107e+04, 1.20365320e+04,\n",
       "        1.20762532e+04, 1.21159744e+04, 1.21556957e+04, 1.21954169e+04,\n",
       "        1.22351381e+04, 1.22748593e+04, 1.23145806e+04, 1.23543018e+04,\n",
       "        1.23940230e+04, 1.24337442e+04, 1.24734655e+04, 1.25131867e+04,\n",
       "        1.25529079e+04, 1.25926292e+04, 1.26323504e+04, 1.26720716e+04,\n",
       "        1.27117928e+04, 1.27515141e+04, 1.27912353e+04, 1.28309565e+04,\n",
       "        1.28706777e+04, 1.29103990e+04, 1.29501202e+04, 1.29898414e+04,\n",
       "        1.30295627e+04, 1.30692839e+04, 1.31090051e+04, 1.31487263e+04,\n",
       "        1.31884476e+04, 1.32281688e+04, 1.32678900e+04, 1.33076113e+04,\n",
       "        1.33473325e+04, 1.33870537e+04, 1.34267749e+04, 1.34664962e+04,\n",
       "        1.35062174e+04, 1.35459386e+04, 1.35856598e+04, 1.36253811e+04,\n",
       "        1.36651023e+04, 1.37048235e+04, 1.37445448e+04, 1.37842660e+04,\n",
       "        1.38239872e+04, 1.38637084e+04, 1.39034297e+04, 1.39431509e+04,\n",
       "        1.39828721e+04, 1.40225934e+04, 1.40623146e+04, 1.41020358e+04,\n",
       "        1.41417570e+04, 1.41814783e+04, 1.42211995e+04, 1.42609207e+04,\n",
       "        1.43006419e+04, 1.43403632e+04, 1.43800844e+04, 1.44198056e+04,\n",
       "        1.44595269e+04, 1.44992481e+04, 1.45389693e+04, 1.45786905e+04,\n",
       "        1.46184118e+04, 1.46581330e+04, 1.46978542e+04, 1.47375754e+04,\n",
       "        1.47772967e+04, 1.48170179e+04, 1.48567391e+04, 1.48964604e+04,\n",
       "        1.49361816e+04, 1.49759028e+04, 1.50156240e+04, 1.50553453e+04,\n",
       "        1.50950665e+04, 1.51347877e+04, 1.51745090e+04, 1.52142302e+04,\n",
       "        1.52539514e+04, 1.52936726e+04, 1.53333939e+04, 1.53731151e+04,\n",
       "        1.54128363e+04, 1.54525575e+04, 1.54922788e+04, 1.55320000e+04]))"
      ]
     },
     "execution_count": 44,
     "metadata": {},
     "output_type": "execute_result"
    }
   ],
   "source": [
    "np.histogram(updata_tm_np[1:] - updata_tm_np[:-1], bins=391)"
   ]
  },
  {
   "cell_type": "code",
   "execution_count": null,
   "id": "dc493ae5",
   "metadata": {},
   "outputs": [],
   "source": [
    "datetime.strftime('%Y-%m-%d %H;%M;%S')"
   ]
  },
  {
   "cell_type": "code",
   "execution_count": 54,
   "id": "c5b560b2",
   "metadata": {},
   "outputs": [
    {
     "data": {
      "text/plain": [
       "1662404998.0"
      ]
     },
     "execution_count": 54,
     "metadata": {},
     "output_type": "execute_result"
    }
   ],
   "source": [
    "datetime.strptime('2022-09-05 22:09:58', '%Y-%m-%d %H:%M:%S').timestamp()"
   ]
  },
  {
   "cell_type": "code",
   "execution_count": 35,
   "id": "58e797b5",
   "metadata": {},
   "outputs": [
    {
     "data": {
      "text/plain": [
       "id                              75\n",
       "imei               355227045369527\n",
       "name                            A6\n",
       "stateCode                     used\n",
       "stateName                     used\n",
       "lat                      48.326433\n",
       "lng                      25.930175\n",
       "speed                        000.0\n",
       "orientation                 000.00\n",
       "gpstime        2022-09-05 22:09:58\n",
       "routeId                         17\n",
       "routeName                       23\n",
       "routeColour                    red\n",
       "inDepo                       False\n",
       "busNumber                     3557\n",
       "perevId                         12\n",
       "perevName              Vitaliy2019\n",
       "remark                 3557 DNSNK \n",
       "online                        True\n",
       "idBusTypes                       1\n",
       "Name: 47737, dtype: object"
      ]
     },
     "execution_count": 35,
     "metadata": {},
     "output_type": "execute_result"
    }
   ],
   "source": [
    "df.iloc[-1]"
   ]
  },
  {
   "cell_type": "code",
   "execution_count": 109,
   "id": "cbedb5fb",
   "metadata": {},
   "outputs": [],
   "source": [
    "# for f_path in files_list[:1]:\n",
    "#     with open(f_path, 'r', encoding = 'utf-8') as file: \n",
    "#         response = json.load(file)\n",
    "        \n",
    "# for _ in range(5):\n",
    "#     with open(\"test_mult_w.json\", 'a') as out_f: \n",
    "#         json.dump(response, out_f, ensure_ascii=False)\n",
    "#         out_f.write('\\n')"
   ]
  },
  {
   "cell_type": "code",
   "execution_count": 41,
   "id": "bc8cb58b",
   "metadata": {},
   "outputs": [],
   "source": [
    "for _ in range(5):\n",
    "    with open(\"test_mult_w.json\", 'a') as out_f: \n",
    "        json.dump(response, out_f, ensure_ascii=False)\n",
    "        out_f.write('\\n')"
   ]
  }
 ],
 "metadata": {
  "kernelspec": {
   "display_name": "Python 3",
   "language": "python",
   "name": "python3"
  },
  "language_info": {
   "codemirror_mode": {
    "name": "ipython",
    "version": 3
   },
   "file_extension": ".py",
   "mimetype": "text/x-python",
   "name": "python",
   "nbconvert_exporter": "python",
   "pygments_lexer": "ipython3",
   "version": "3.8.9"
  }
 },
 "nbformat": 4,
 "nbformat_minor": 5
}
