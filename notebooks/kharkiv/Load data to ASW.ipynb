{
 "cells": [
  {
   "cell_type": "code",
   "execution_count": 1,
   "id": "fef48cae",
   "metadata": {},
   "outputs": [],
   "source": [
    "import json\n",
    "import numpy as np\n",
    "import pandas as pd\n",
    "import psycopg2\n",
    "import os\n",
    "\n",
    "from collections import Counter\n",
    "from datetime import datetime, timedelta\n",
    "from dateutil.tz import tzlocal \n",
    "from pathlib import Path\n",
    "from tqdm import tqdm"
   ]
  },
  {
   "cell_type": "code",
   "execution_count": null,
   "id": "bac41915-fd3b-43f4-b1f8-feac09e3f2fe",
   "metadata": {},
   "outputs": [],
   "source": []
  },
  {
   "cell_type": "code",
   "execution_count": null,
   "id": "c857a275-44bf-4402-93b8-78310d31fec7",
   "metadata": {},
   "outputs": [],
   "source": []
  },
  {
   "cell_type": "markdown",
   "id": "9d5c0cac-310a-41c3-8e90-d8f8220a8f4e",
   "metadata": {},
   "source": [
    "## Analyse data"
   ]
  },
  {
   "cell_type": "code",
   "execution_count": null,
   "id": "de2b9c46-f4f3-4e7f-8318-1068397fdfeb",
   "metadata": {
    "tags": []
   },
   "outputs": [],
   "source": []
  },
  {
   "cell_type": "code",
   "execution_count": 2,
   "id": "569c1bce-bef2-4f20-a00a-7d84099a0584",
   "metadata": {},
   "outputs": [],
   "source": [
    "from concurrent.futures import ThreadPoolExecutor\n",
    "\n",
    "def load_responses(resp_path):\n",
    "    resp_tm = datetime.strptime(resp_path.name[6:-5], '%Y-%m-%d %H;%M;%S')\n",
    "    resp_tm_str = resp_tm.replace(tzinfo=tzlocal()).isoformat()\n",
    "    \n",
    "    with open(resp_path, 'r', encoding='utf-8' ) as f:\n",
    "        resp = json.load(f)\n",
    "        if (\"rows\" in resp) and (resp[\"rows\"]): \n",
    "            return [row + [resp['timestamp'], resp_tm_str] \n",
    "                    for row in resp['rows']]\n",
    "        else: \n",
    "            return []\n",
    "\n",
    "def accumulate_responses_from_folder(folder_path):\n",
    "    file_path_list = list(folder_path.iterdir())\n",
    "    with ThreadPoolExecutor(max_workers=10) as executor:\n",
    "        results = list(tqdm(executor.map(load_responses, file_path_list),\n",
    "                            total=len(file_path_list), mininterval=10, leave=False, \n",
    "                            desc=\"Accumulate responses from folder\")\n",
    "                          )\n",
    "        resp_list = []\n",
    "        for resp_ in results: \n",
    "            resp_list += resp_\n",
    "        print(f\"Accumulate responses from folder\\n\"\\\n",
    "              f\"\\t{len(resp_list)} / {len(resp_list)} [avg={len(resp_list)/len(resp_list):.2f}]\")\n",
    "    \n",
    "    \n",
    "    columns = ['imei', 'lat', 'lng', 'speed', 'gps_datetime_origin', 'orientation', 'route_name', \n",
    "               'route_type', 'vehicle_id', 'dd', 'gpstime', 'response_datetime'] \n",
    "\n",
    "    return pd.DataFrame(resp_list, columns=columns)\n",
    "    \n",
    "def clear_data(in_df):\n",
    "    unique_data = []\n",
    "    \n",
    "    imei_list = in_df['imei'].value_counts().index\n",
    "    imei_tqdm = tqdm(\n",
    "        imei_list, total=len(imei_list), mininterval=10, leave=False, desc=\"Clear data\"\n",
    "    )\n",
    "    \n",
    "    for imei in imei_tqdm: \n",
    "        row_data = in_df[ in_df['imei'] == imei].values.tolist()\n",
    "        result = [row_data[0]]\n",
    "        for row0, row1 in zip(row_data[:-1], row_data[1:]):\n",
    "            if row0[1:9] != row1[1:9]: \n",
    "                result += [row1]\n",
    "        unique_data += result\n",
    "\n",
    "    df_unique = pd.DataFrame(unique_data, columns=in_df.columns)\n",
    "    print(f\"Clear data\\n\\t{len(in_df)} / {len(df_unique)} [avg {len(in_df) / len(df_unique):.02f}]\")\n",
    "    return df_unique"
   ]
  },
  {
   "cell_type": "code",
   "execution_count": 15,
   "id": "5cbb0fce-5532-47ff-a7dd-44c0682946b3",
   "metadata": {},
   "outputs": [
    {
     "data": {
      "text/plain": [
       "'KH_REQUESTS_PATH'"
      ]
     },
     "execution_count": 15,
     "metadata": {},
     "output_type": "execute_result"
    }
   ],
   "source": [
    "\"kh_requests_path\".upper()"
   ]
  },
  {
   "cell_type": "code",
   "execution_count": 7,
   "id": "160c4ced-150b-4867-8b1e-7ab98f085cf6",
   "metadata": {
    "collapsed": true,
    "jupyter": {
     "outputs_hidden": true
    },
    "tags": []
   },
   "outputs": [
    {
     "name": "stderr",
     "output_type": "stream",
     "text": [
      "  0%|          | 0/24 [00:00<?, ?it/s]"
     ]
    },
    {
     "name": "stdout",
     "output_type": "stream",
     "text": [
      "Processing '..\\..\\data\\local\\kharkiv\\jsons\\trans_data_17_MAR_2023'\n"
     ]
    },
    {
     "name": "stderr",
     "output_type": "stream",
     "text": [
      "\n",
      "Accumulate responses from folder:   0%|          | 0/17280 [00:00<?, ?it/s]\u001b[A\n",
      "Accumulate responses from folder:  32%|███▏      | 5476/17280 [00:10<00:21, 547.18it/s]\u001b[A\n",
      "Accumulate responses from folder:  63%|██████▎   | 10948/17280 [00:23<00:13, 465.08it/s]\u001b[A\n",
      "Accumulate responses from folder:  89%|████████▉ | 15463/17280 [00:33<00:03, 459.39it/s]\u001b[A\n",
      "                                                                                        \u001b[A"
     ]
    },
    {
     "name": "stdout",
     "output_type": "stream",
     "text": [
      "Accumulate responses from folder\n",
      "\t2469322 / 2469322 [avg=1.00]\n"
     ]
    },
    {
     "name": "stderr",
     "output_type": "stream",
     "text": [
      "\n",
      "Clear data:   0%|          | 0/278 [00:00<?, ?it/s]\u001b[A\n",
      "Clear data:  38%|███▊      | 106/278 [00:10<00:16, 10.59it/s]\u001b[A\n",
      "Clear data:  83%|████████▎ | 230/278 [00:20<00:04, 11.64it/s]\u001b[A\n",
      "                                                             \u001b[A"
     ]
    },
    {
     "name": "stdout",
     "output_type": "stream",
     "text": [
      "Clear data\n",
      "\t2469322 / 234708 [avg 10.52]\n"
     ]
    },
    {
     "name": "stderr",
     "output_type": "stream",
     "text": [
      "  4%|▍         | 1/24 [01:19<30:30, 79.60s/it]"
     ]
    },
    {
     "name": "stdout",
     "output_type": "stream",
     "text": [
      "Processing '..\\..\\data\\local\\kharkiv\\jsons\\trans_data_18_MAR_2023'\n"
     ]
    },
    {
     "name": "stderr",
     "output_type": "stream",
     "text": [
      "\n",
      "Accumulate responses from folder:   0%|          | 0/17233 [00:00<?, ?it/s]\u001b[A\n",
      "Accumulate responses from folder:  23%|██▎       | 3895/17233 [00:10<00:34, 389.16it/s]\u001b[A\n",
      "Accumulate responses from folder:  39%|███▉      | 6766/17233 [00:20<00:32, 318.43it/s]\u001b[A\n",
      "Accumulate responses from folder:  39%|███▉      | 6766/17233 [00:20<00:32, 318.43it/s]\u001b[A\n",
      "Accumulate responses from folder:  39%|███▉      | 6766/17233 [00:30<00:32, 318.43it/s]\u001b[A\n",
      "Accumulate responses from folder:  54%|█████▍    | 9326/17233 [00:30<00:27, 289.36it/s]\u001b[A\n",
      "Accumulate responses from folder:  69%|██████▉   | 11865/17233 [00:41<00:20, 265.52it/s]\u001b[A\n",
      "Accumulate responses from folder:  82%|████████▏ | 14204/17233 [00:51<00:11, 254.40it/s]\u001b[A\n",
      "                                                                                        \u001b[A"
     ]
    },
    {
     "name": "stdout",
     "output_type": "stream",
     "text": [
      "Accumulate responses from folder\n",
      "\t2080642 / 2080642 [avg=1.00]\n"
     ]
    },
    {
     "name": "stderr",
     "output_type": "stream",
     "text": [
      "\n",
      "Clear data:   0%|          | 0/241 [00:00<?, ?it/s]\u001b[A\n",
      "Clear data:  44%|████▎     | 105/241 [00:10<00:12, 10.47it/s]\u001b[A\n",
      "Clear data:  89%|████████▉ | 214/241 [00:20<00:02, 10.69it/s]\u001b[A\n",
      "                                                             \u001b[A"
     ]
    },
    {
     "name": "stdout",
     "output_type": "stream",
     "text": [
      "Clear data\n",
      "\t2080642 / 196611 [avg 10.58]\n"
     ]
    },
    {
     "name": "stderr",
     "output_type": "stream",
     "text": [
      "  8%|▊         | 2/24 [03:09<35:42, 97.38s/it]"
     ]
    },
    {
     "name": "stdout",
     "output_type": "stream",
     "text": [
      "Processing '..\\..\\data\\local\\kharkiv\\jsons\\trans_data_19_MAR_2023'\n"
     ]
    },
    {
     "name": "stderr",
     "output_type": "stream",
     "text": [
      "\n",
      "Accumulate responses from folder:   0%|          | 0/17280 [00:00<?, ?it/s]\u001b[A\n",
      "Accumulate responses from folder:  19%|█▊        | 3226/17280 [00:10<00:43, 322.44it/s]\u001b[A\n",
      "Accumulate responses from folder:  37%|███▋      | 6344/17280 [00:21<00:36, 297.49it/s]\u001b[A\n",
      "Accumulate responses from folder:  37%|███▋      | 6344/17280 [00:21<00:36, 297.49it/s]\u001b[A\n",
      "Accumulate responses from folder:  49%|████▉     | 8476/17280 [00:31<00:34, 258.65it/s]\u001b[A\n",
      "Accumulate responses from folder:  49%|████▉     | 8476/17280 [00:31<00:34, 258.65it/s]\u001b[A\n",
      "Accumulate responses from folder:  64%|██████▎   | 10978/17280 [00:41<00:24, 255.16it/s]\u001b[A\n",
      "Accumulate responses from folder:  76%|███████▌  | 13122/17280 [00:51<00:17, 240.48it/s]\u001b[A\n",
      "Accumulate responses from folder:  76%|███████▌  | 13122/17280 [00:51<00:17, 240.48it/s]\u001b[A\n",
      "Accumulate responses from folder:  89%|████████▉ | 15391/17280 [01:01<00:08, 235.87it/s]\u001b[A\n",
      "                                                                                        \u001b[A"
     ]
    },
    {
     "name": "stdout",
     "output_type": "stream",
     "text": [
      "Accumulate responses from folder\n",
      "\t2059485 / 2059485 [avg=1.00]\n"
     ]
    },
    {
     "name": "stderr",
     "output_type": "stream",
     "text": [
      "\n",
      "Clear data:   0%|          | 0/234 [00:00<?, ?it/s]\u001b[A\n",
      " 12%|█▎        | 3/24 [04:39<32:57, 94.18s/it]     \u001b[A"
     ]
    },
    {
     "name": "stdout",
     "output_type": "stream",
     "text": [
      "Clear data\n",
      "\t2059485 / 195248 [avg 10.55]\n",
      "Processing '..\\..\\data\\local\\kharkiv\\jsons\\trans_data_20_MAR_2023'\n"
     ]
    },
    {
     "name": "stderr",
     "output_type": "stream",
     "text": [
      "\n",
      "Accumulate responses from folder:   0%|          | 0/17267 [00:00<?, ?it/s]\u001b[A\n",
      "Accumulate responses from folder:  26%|██▌       | 4465/17267 [00:10<00:28, 446.43it/s]\u001b[A\n",
      "Accumulate responses from folder:  47%|████▋     | 8140/17267 [00:23<00:26, 339.54it/s]\u001b[A\n",
      "Accumulate responses from folder:  47%|████▋     | 8140/17267 [00:23<00:26, 339.54it/s]\u001b[A\n",
      "Accumulate responses from folder:  64%|██████▎   | 10996/17267 [00:33<00:20, 312.21it/s]\u001b[A\n",
      "Accumulate responses from folder:  64%|██████▎   | 10996/17267 [00:33<00:20, 312.21it/s]\u001b[A\n",
      "Accumulate responses from folder:  64%|██████▎   | 10996/17267 [00:43<00:20, 312.21it/s]\u001b[A\n",
      "Accumulate responses from folder:  79%|███████▉  | 13705/17267 [00:43<00:12, 296.52it/s]\u001b[A\n",
      "Accumulate responses from folder:  79%|███████▉  | 13705/17267 [00:53<00:12, 296.52it/s]\u001b[A\n",
      "Accumulate responses from folder:  97%|█████████▋| 16803/17267 [00:53<00:01, 300.66it/s]\u001b[A\n",
      "                                                                                        \u001b[A"
     ]
    },
    {
     "name": "stdout",
     "output_type": "stream",
     "text": [
      "Accumulate responses from folder\n",
      "\t2485317 / 2485317 [avg=1.00]\n"
     ]
    },
    {
     "name": "stderr",
     "output_type": "stream",
     "text": [
      "\n",
      "Clear data:   0%|          | 0/279 [00:00<?, ?it/s]\u001b[A\n",
      "Clear data:  91%|█████████▏| 255/279 [00:10<00:00, 25.48it/s]\u001b[A\n",
      "                                                             \u001b[A"
     ]
    },
    {
     "name": "stdout",
     "output_type": "stream",
     "text": [
      "Clear data\n",
      "\t2485317 / 238214 [avg 10.43]\n"
     ]
    },
    {
     "name": "stderr",
     "output_type": "stream",
     "text": [
      " 17%|█▋        | 4/24 [05:56<29:02, 87.15s/it]"
     ]
    },
    {
     "name": "stdout",
     "output_type": "stream",
     "text": [
      "Processing '..\\..\\data\\local\\kharkiv\\jsons\\trans_data_21_MAR_2023'\n"
     ]
    },
    {
     "name": "stderr",
     "output_type": "stream",
     "text": [
      "\n",
      "Accumulate responses from folder:   0%|          | 0/17229 [00:00<?, ?it/s]\u001b[A\n",
      "Accumulate responses from folder:  26%|██▋       | 4546/17229 [00:10<00:27, 454.47it/s]\u001b[A\n",
      "Accumulate responses from folder:  53%|█████▎    | 9091/17229 [00:25<00:23, 350.85it/s]\u001b[A\n",
      "Accumulate responses from folder:  70%|███████   | 12117/17229 [00:35<00:15, 328.32it/s]\u001b[A\n",
      "Accumulate responses from folder:  87%|████████▋ | 15063/17229 [00:45<00:06, 314.53it/s]\u001b[A\n",
      "                                                                                        \u001b[A"
     ]
    },
    {
     "name": "stdout",
     "output_type": "stream",
     "text": [
      "Accumulate responses from folder\n",
      "\t2451872 / 2451872 [avg=1.00]\n"
     ]
    },
    {
     "name": "stderr",
     "output_type": "stream",
     "text": [
      "\n",
      "Clear data:   0%|          | 0/278 [00:00<?, ?it/s]\u001b[A\n",
      "Clear data:  85%|████████▌ | 237/278 [00:10<00:01, 23.65it/s]\u001b[A\n",
      "                                                             \u001b[A"
     ]
    },
    {
     "name": "stdout",
     "output_type": "stream",
     "text": [
      "Clear data\n",
      "\t2451872 / 232463 [avg 10.55]\n"
     ]
    },
    {
     "name": "stderr",
     "output_type": "stream",
     "text": [
      " 21%|██        | 5/24 [07:10<26:06, 82.45s/it]"
     ]
    },
    {
     "name": "stdout",
     "output_type": "stream",
     "text": [
      "Processing '..\\..\\data\\local\\kharkiv\\jsons\\trans_data_22_MAR_2023'\n"
     ]
    },
    {
     "name": "stderr",
     "output_type": "stream",
     "text": [
      "\n",
      "Accumulate responses from folder:   0%|          | 0/17280 [00:00<?, ?it/s]\u001b[A\n",
      "Accumulate responses from folder:  23%|██▎       | 3976/17280 [00:10<00:33, 397.03it/s]\u001b[A\n",
      "Accumulate responses from folder:  44%|████▎     | 7541/17280 [00:23<00:31, 306.95it/s]\u001b[A\n",
      "Accumulate responses from folder:  44%|████▎     | 7541/17280 [00:23<00:31, 306.95it/s]\u001b[A\n",
      "Accumulate responses from folder:  59%|█████▉    | 10163/17280 [00:33<00:24, 288.62it/s]\u001b[A\n",
      "Accumulate responses from folder:  76%|███████▌  | 13160/17280 [00:43<00:14, 292.63it/s]\u001b[A\n",
      "Accumulate responses from folder:  97%|█████████▋| 16698/17280 [00:53<00:01, 313.72it/s]\u001b[A\n",
      "                                                                                        \u001b[A"
     ]
    },
    {
     "name": "stdout",
     "output_type": "stream",
     "text": [
      "Accumulate responses from folder\n",
      "\t2475818 / 2475818 [avg=1.00]\n"
     ]
    },
    {
     "name": "stderr",
     "output_type": "stream",
     "text": [
      "\n",
      "Clear data:   0%|          | 0/281 [00:00<?, ?it/s]\u001b[A\n",
      "Clear data:  90%|█████████ | 254/281 [00:10<00:01, 25.36it/s]\u001b[A\n",
      "                                                             \u001b[A"
     ]
    },
    {
     "name": "stdout",
     "output_type": "stream",
     "text": [
      "Clear data\n",
      "\t2475818 / 231225 [avg 10.71]\n"
     ]
    },
    {
     "name": "stderr",
     "output_type": "stream",
     "text": [
      " 25%|██▌       | 6/24 [08:27<24:11, 80.65s/it]"
     ]
    },
    {
     "name": "stdout",
     "output_type": "stream",
     "text": [
      "Processing '..\\..\\data\\local\\kharkiv\\jsons\\trans_data_23_MAR_2023'\n"
     ]
    },
    {
     "name": "stderr",
     "output_type": "stream",
     "text": [
      "\n",
      "Accumulate responses from folder:   0%|          | 0/17016 [00:00<?, ?it/s]\u001b[A\n",
      "Accumulate responses from folder:  25%|██▌       | 4266/17016 [00:10<00:29, 426.57it/s]\u001b[A\n",
      "Accumulate responses from folder:  50%|█████     | 8532/17016 [00:26<00:26, 314.29it/s]\u001b[A\n",
      "Accumulate responses from folder:  67%|██████▋   | 11389/17016 [00:36<00:18, 303.34it/s]\u001b[A\n",
      "Accumulate responses from folder:  84%|████████▎ | 14246/17016 [00:46<00:09, 292.66it/s]\u001b[A\n",
      "                                                                                        \u001b[A"
     ]
    },
    {
     "name": "stdout",
     "output_type": "stream",
     "text": [
      "Accumulate responses from folder\n",
      "\t2467718 / 2467718 [avg=1.00]\n"
     ]
    },
    {
     "name": "stderr",
     "output_type": "stream",
     "text": [
      "\n",
      "Clear data:   0%|          | 0/281 [00:00<?, ?it/s]\u001b[A\n",
      "Clear data:  96%|█████████▋| 271/281 [00:10<00:00, 27.10it/s]\u001b[A\n",
      "                                                             \u001b[A"
     ]
    },
    {
     "name": "stdout",
     "output_type": "stream",
     "text": [
      "Clear data\n",
      "\t2467718 / 236117 [avg 10.45]\n"
     ]
    },
    {
     "name": "stderr",
     "output_type": "stream",
     "text": [
      " 29%|██▉       | 7/24 [09:42<22:21, 78.93s/it]"
     ]
    },
    {
     "name": "stdout",
     "output_type": "stream",
     "text": [
      "Processing '..\\..\\data\\local\\kharkiv\\jsons\\trans_data_24_MAR_2023'\n"
     ]
    },
    {
     "name": "stderr",
     "output_type": "stream",
     "text": [
      "\n",
      "Accumulate responses from folder:   0%|          | 0/17025 [00:00<?, ?it/s]\u001b[A\n",
      "Accumulate responses from folder:  27%|██▋       | 4609/17025 [00:10<00:26, 460.59it/s]\u001b[A\n",
      "Accumulate responses from folder:  27%|██▋       | 4609/17025 [00:21<00:26, 460.59it/s]\u001b[A\n",
      "Accumulate responses from folder:  47%|████▋     | 8064/17025 [00:21<00:25, 356.21it/s]\u001b[A\n",
      "Accumulate responses from folder:  47%|████▋     | 8064/17025 [00:31<00:25, 356.21it/s]\u001b[A\n",
      "Accumulate responses from folder:  64%|██████▍   | 10876/17025 [00:31<00:19, 322.98it/s]\u001b[A\n",
      "Accumulate responses from folder:  80%|████████  | 13701/17025 [00:41<00:10, 307.52it/s]\u001b[A\n",
      "Accumulate responses from folder:  99%|█████████▉| 16917/17025 [00:51<00:00, 312.42it/s]\u001b[A\n",
      "                                                                                        \u001b[A"
     ]
    },
    {
     "name": "stdout",
     "output_type": "stream",
     "text": [
      "Accumulate responses from folder\n",
      "\t2488252 / 2488252 [avg=1.00]\n"
     ]
    },
    {
     "name": "stderr",
     "output_type": "stream",
     "text": [
      "\n",
      "Clear data:   0%|          | 0/284 [00:00<?, ?it/s]\u001b[A\n",
      " 33%|███▎      | 8/24 [10:55<20:30, 76.92s/it]     \u001b[A"
     ]
    },
    {
     "name": "stdout",
     "output_type": "stream",
     "text": [
      "Clear data\n",
      "\t2488252 / 140878 [avg 17.66]\n",
      "Processing '..\\..\\data\\local\\kharkiv\\jsons\\trans_data_25_MAR_2023'\n"
     ]
    },
    {
     "name": "stderr",
     "output_type": "stream",
     "text": [
      "\n",
      "Accumulate responses from folder:   0%|          | 0/17280 [00:00<?, ?it/s]\u001b[A\n",
      "Accumulate responses from folder:  25%|██▍       | 4310/17280 [00:10<00:30, 430.86it/s]\u001b[A\n",
      "Accumulate responses from folder:  50%|████▉     | 8619/17280 [00:25<00:26, 327.88it/s]\u001b[A\n",
      "Accumulate responses from folder:  66%|██████▌   | 11428/17280 [00:35<00:19, 307.79it/s]\u001b[A\n",
      "Accumulate responses from folder:  83%|████████▎ | 14327/17280 [00:45<00:09, 301.36it/s]\u001b[A\n",
      "                                                                                        \u001b[A"
     ]
    },
    {
     "name": "stdout",
     "output_type": "stream",
     "text": [
      "Accumulate responses from folder\n",
      "\t2131992 / 2131992 [avg=1.00]\n"
     ]
    },
    {
     "name": "stderr",
     "output_type": "stream",
     "text": [
      "\n",
      "Clear data:   0%|          | 0/243 [00:00<?, ?it/s]\u001b[A\n",
      " 38%|███▊      | 9/24 [12:06<18:45, 75.05s/it]     \u001b[A"
     ]
    },
    {
     "name": "stdout",
     "output_type": "stream",
     "text": [
      "Clear data\n",
      "\t2131992 / 79924 [avg 26.68]\n",
      "Processing '..\\..\\data\\local\\kharkiv\\jsons\\trans_data_26_MAR_2023'\n"
     ]
    },
    {
     "name": "stderr",
     "output_type": "stream",
     "text": [
      "\n",
      "Accumulate responses from folder:   0%|          | 0/15839 [00:00<?, ?it/s]\u001b[A\n",
      "Accumulate responses from folder:  27%|██▋       | 4251/15839 [00:10<00:27, 424.91it/s]\u001b[A\n",
      "Accumulate responses from folder:  54%|█████▎    | 8501/15839 [00:23<00:21, 345.43it/s]\u001b[A\n",
      "Accumulate responses from folder:  73%|███████▎  | 11556/15839 [00:33<00:13, 328.56it/s]\u001b[A\n",
      "Accumulate responses from folder:  93%|█████████▎| 14771/15839 [00:43<00:03, 325.85it/s]\u001b[A\n",
      "                                                                                        \u001b[A"
     ]
    },
    {
     "name": "stdout",
     "output_type": "stream",
     "text": [
      "Accumulate responses from folder\n",
      "\t2085659 / 2085659 [avg=1.00]\n"
     ]
    },
    {
     "name": "stderr",
     "output_type": "stream",
     "text": [
      "\n",
      "Clear data:   0%|          | 0/233 [00:00<?, ?it/s]\u001b[A\n",
      " 42%|████▏     | 10/24 [13:12<16:51, 72.23s/it]    \u001b[A"
     ]
    },
    {
     "name": "stdout",
     "output_type": "stream",
     "text": [
      "Clear data\n",
      "\t2085659 / 80083 [avg 26.04]\n",
      "Processing '..\\..\\data\\local\\kharkiv\\jsons\\trans_data_27_MAR_2023'\n"
     ]
    },
    {
     "name": "stderr",
     "output_type": "stream",
     "text": [
      "\n",
      "Accumulate responses from folder:   0%|          | 0/17277 [00:00<?, ?it/s]\u001b[A\n",
      "Accumulate responses from folder:  22%|██▏       | 3793/17277 [00:10<00:35, 378.55it/s]\u001b[A\n",
      "Accumulate responses from folder:  22%|██▏       | 3793/17277 [00:23<00:35, 378.55it/s]\u001b[A\n",
      "Accumulate responses from folder:  33%|███▎      | 5641/17277 [00:23<00:51, 224.00it/s]\u001b[A\n",
      "Accumulate responses from folder:  41%|████      | 7053/17277 [00:33<00:54, 189.10it/s]\u001b[A\n",
      "Accumulate responses from folder:  51%|█████     | 8747/17277 [00:43<00:46, 181.75it/s]\u001b[A\n",
      "Accumulate responses from folder:  64%|██████▍   | 11019/17277 [00:53<00:31, 197.52it/s]\u001b[A\n",
      "Accumulate responses from folder:  77%|███████▋  | 13291/17277 [01:12<00:25, 159.00it/s]\u001b[A\n",
      "Accumulate responses from folder:  87%|████████▋ | 15101/17277 [01:22<00:13, 164.18it/s]\u001b[A\n",
      "Accumulate responses from folder:  87%|████████▋ | 15101/17277 [01:33<00:13, 164.18it/s]\u001b[A\n",
      "Accumulate responses from folder:  92%|█████████▏| 15934/17277 [01:33<00:09, 138.66it/s]\u001b[A\n",
      "                                                                                        \u001b[A"
     ]
    },
    {
     "name": "stdout",
     "output_type": "stream",
     "text": [
      "Accumulate responses from folder\n",
      "\t2460604 / 2460604 [avg=1.00]\n"
     ]
    },
    {
     "name": "stderr",
     "output_type": "stream",
     "text": [
      "\n",
      "Clear data:   0%|          | 0/280 [00:00<?, ?it/s]\u001b[A\n",
      "Clear data:  65%|██████▍   | 181/280 [00:10<00:05, 18.08it/s]\u001b[A\n",
      " 46%|████▌     | 11/24 [15:25<19:43, 91.04s/it]              \u001b[A"
     ]
    },
    {
     "name": "stdout",
     "output_type": "stream",
     "text": [
      "Clear data\n",
      "\t2460604 / 93515 [avg 26.31]\n",
      "Processing '..\\..\\data\\local\\kharkiv\\jsons\\trans_data_28_MAR_2023'\n"
     ]
    },
    {
     "name": "stderr",
     "output_type": "stream",
     "text": [
      "\n",
      "Accumulate responses from folder:   0%|          | 0/17204 [00:00<?, ?it/s]\u001b[A\n",
      "Accumulate responses from folder:  17%|█▋        | 2936/17204 [00:10<00:48, 291.35it/s]\u001b[A\n",
      "Accumulate responses from folder:  17%|█▋        | 2936/17204 [00:21<00:48, 291.35it/s]\u001b[A\n",
      "Accumulate responses from folder:  26%|██▋       | 4539/17204 [00:21<01:03, 199.99it/s]\u001b[A\n",
      "Accumulate responses from folder:  35%|███▌      | 6034/17204 [00:31<01:02, 177.70it/s]\u001b[A\n",
      "Accumulate responses from folder:  44%|████▍     | 7527/17204 [00:43<01:01, 156.09it/s]\u001b[A\n",
      "Accumulate responses from folder:  52%|█████▏    | 8981/17204 [00:53<00:53, 152.36it/s]\u001b[A\n",
      "Accumulate responses from folder:  62%|██████▏   | 10670/17204 [01:03<00:41, 157.57it/s]\u001b[A\n",
      "Accumulate responses from folder:  72%|███████▏  | 12353/17204 [01:18<00:35, 136.37it/s]\u001b[A\n",
      "Accumulate responses from folder:  80%|███████▉  | 13713/17204 [01:28<00:25, 136.16it/s]\u001b[A\n",
      "Accumulate responses from folder:  87%|████████▋ | 15021/17204 [01:43<00:18, 120.13it/s]\u001b[A\n",
      "Accumulate responses from folder:  87%|████████▋ | 15021/17204 [01:43<00:18, 120.13it/s]\u001b[A\n",
      "Accumulate responses from folder:  98%|█████████▊| 16943/17204 [01:53<00:01, 139.28it/s]\u001b[A\n",
      "                                                                                        \u001b[A"
     ]
    },
    {
     "name": "stdout",
     "output_type": "stream",
     "text": [
      "Accumulate responses from folder\n",
      "\t2450625 / 2450625 [avg=1.00]\n"
     ]
    },
    {
     "name": "stderr",
     "output_type": "stream",
     "text": [
      "\n",
      "Clear data:   0%|          | 0/275 [00:00<?, ?it/s]\u001b[A\n",
      "Clear data:  60%|█████▉    | 164/275 [00:10<00:06, 16.26it/s]\u001b[A\n",
      "                                                             \u001b[A"
     ]
    },
    {
     "name": "stdout",
     "output_type": "stream",
     "text": [
      "Clear data\n",
      "\t2450625 / 92336 [avg 26.54]\n"
     ]
    },
    {
     "name": "stderr",
     "output_type": "stream",
     "text": [
      " 50%|█████     | 12/24 [17:57<21:52, 109.41s/it]"
     ]
    },
    {
     "name": "stdout",
     "output_type": "stream",
     "text": [
      "Processing '..\\..\\data\\local\\kharkiv\\jsons\\trans_data_29_MAR_2023'\n"
     ]
    },
    {
     "name": "stderr",
     "output_type": "stream",
     "text": [
      "\n",
      "Accumulate responses from folder:   0%|          | 0/17260 [00:00<?, ?it/s]\u001b[A\n",
      "Accumulate responses from folder:  17%|█▋        | 2919/17260 [00:10<00:49, 291.71it/s]\u001b[A\n",
      "Accumulate responses from folder:  33%|███▎      | 5771/17260 [00:22<00:46, 246.23it/s]\u001b[A\n",
      "Accumulate responses from folder:  33%|███▎      | 5771/17260 [00:22<00:46, 246.23it/s]\u001b[A\n",
      "Accumulate responses from folder:  46%|████▋     | 7986/17260 [00:32<00:39, 235.88it/s]\u001b[A\n",
      "Accumulate responses from folder:  58%|█████▊    | 9956/17260 [00:42<00:33, 220.86it/s]\u001b[A\n",
      "Accumulate responses from folder:  58%|█████▊    | 9956/17260 [00:42<00:33, 220.86it/s]\u001b[A\n",
      "Accumulate responses from folder:  58%|█████▊    | 9956/17260 [00:52<00:33, 220.86it/s]\u001b[A\n",
      "Accumulate responses from folder:  71%|███████   | 12204/17260 [00:53<00:22, 221.79it/s]\u001b[A\n",
      "Accumulate responses from folder:  84%|████████▎ | 14451/17260 [01:03<00:12, 222.58it/s]\u001b[A\n",
      "Accumulate responses from folder: 100%|█████████▉| 17238/17260 [01:13<00:00, 240.51it/s]\u001b[A\n",
      "                                                                                        \u001b[A"
     ]
    },
    {
     "name": "stdout",
     "output_type": "stream",
     "text": [
      "Accumulate responses from folder\n",
      "\t2411648 / 2411648 [avg=1.00]\n"
     ]
    },
    {
     "name": "stderr",
     "output_type": "stream",
     "text": [
      "\n",
      "Clear data:   0%|          | 0/275 [00:00<?, ?it/s]\u001b[A\n",
      "Clear data:  84%|████████▎ | 230/275 [00:10<00:01, 22.98it/s]\u001b[A\n",
      " 54%|█████▍    | 13/24 [19:36<19:28, 106.27s/it]             \u001b[A"
     ]
    },
    {
     "name": "stdout",
     "output_type": "stream",
     "text": [
      "Clear data\n",
      "\t2411648 / 90164 [avg 26.75]\n",
      "Processing '..\\..\\data\\local\\kharkiv\\jsons\\trans_data_30_MAR_2023'\n"
     ]
    },
    {
     "name": "stderr",
     "output_type": "stream",
     "text": [
      "\n",
      "Accumulate responses from folder:   0%|          | 0/17269 [00:00<?, ?it/s]\u001b[A\n",
      "Accumulate responses from folder:  14%|█▍        | 2446/17269 [00:10<01:00, 244.49it/s]\u001b[A\n",
      "Accumulate responses from folder:  14%|█▍        | 2446/17269 [00:24<01:00, 244.49it/s]\u001b[A\n",
      "Accumulate responses from folder:  26%|██▌       | 4420/17269 [00:24<01:14, 172.82it/s]\u001b[A\n",
      "Accumulate responses from folder:  34%|███▎      | 5798/17269 [00:44<01:41, 113.41it/s]\u001b[A\n",
      "Accumulate responses from folder:  34%|███▎      | 5798/17269 [00:54<01:41, 113.41it/s]\u001b[A\n",
      "Accumulate responses from folder:  38%|███▊      | 6618/17269 [00:54<01:42, 104.02it/s]\u001b[A\n",
      "Accumulate responses from folder:  43%|████▎     | 7431/17269 [01:05<01:42, 95.54it/s] \u001b[A\n",
      "Accumulate responses from folder:  48%|████▊     | 8319/17269 [01:15<01:35, 93.52it/s]\u001b[A\n",
      "Accumulate responses from folder:  53%|█████▎    | 9206/17269 [01:26<01:31, 87.89it/s]\u001b[A\n",
      "Accumulate responses from folder:  58%|█████▊    | 10061/17269 [01:36<01:22, 87.04it/s]\u001b[A\n",
      "Accumulate responses from folder:  63%|██████▎   | 10911/17269 [01:48<01:18, 81.45it/s]\u001b[A\n",
      "Accumulate responses from folder:  68%|██████▊   | 11763/17269 [01:59<01:07, 82.14it/s]\u001b[A\n",
      "Accumulate responses from folder:  74%|███████▍  | 12802/17269 [02:09<00:50, 88.04it/s]\u001b[A\n",
      "Accumulate responses from folder:  80%|████████  | 13829/17269 [02:21<00:39, 86.57it/s]\u001b[A\n",
      "Accumulate responses from folder:  86%|████████▌ | 14791/17269 [02:31<00:27, 89.25it/s]\u001b[A\n",
      "Accumulate responses from folder:  93%|█████████▎| 16123/17269 [02:41<00:11, 101.75it/s]\u001b[A\n",
      "                                                                                        \u001b[A"
     ]
    },
    {
     "name": "stdout",
     "output_type": "stream",
     "text": [
      "Accumulate responses from folder\n",
      "\t2414744 / 2414744 [avg=1.00]\n"
     ]
    },
    {
     "name": "stderr",
     "output_type": "stream",
     "text": [
      "\n",
      "Clear data:   0%|          | 0/279 [00:00<?, ?it/s]\u001b[A\n",
      "Clear data:  22%|██▏       | 60/279 [00:10<00:36,  6.00it/s]\u001b[A\n",
      "Clear data:  46%|████▌     | 129/279 [00:20<00:23,  6.48it/s]\u001b[A\n",
      "Clear data:  71%|███████   | 198/279 [00:31<00:13,  6.22it/s]\u001b[A\n",
      "                                                             \u001b[A"
     ]
    },
    {
     "name": "stdout",
     "output_type": "stream",
     "text": [
      "Clear data\n",
      "\t2414744 / 91490 [avg 26.39]\n"
     ]
    },
    {
     "name": "stderr",
     "output_type": "stream",
     "text": [
      " 58%|█████▊    | 14/24 [23:45<24:54, 149.42s/it]"
     ]
    },
    {
     "name": "stdout",
     "output_type": "stream",
     "text": [
      "Processing '..\\..\\data\\local\\kharkiv\\jsons\\trans_data_31_MAR_2023'\n"
     ]
    },
    {
     "name": "stderr",
     "output_type": "stream",
     "text": [
      "\n",
      "Accumulate responses from folder:   0%|          | 0/17268 [00:00<?, ?it/s]\u001b[A\n",
      "Accumulate responses from folder:  14%|█▎        | 2340/17268 [00:10<01:03, 233.80it/s]\u001b[A\n",
      "Accumulate responses from folder:  27%|██▋       | 4678/17268 [00:20<00:56, 221.43it/s]\u001b[A\n",
      "Accumulate responses from folder:  39%|███▉      | 6814/17268 [00:35<00:58, 178.45it/s]\u001b[A\n",
      "Accumulate responses from folder:  48%|████▊     | 8318/17268 [00:45<00:53, 168.80it/s]\u001b[A\n",
      "Accumulate responses from folder:  57%|█████▋    | 9926/17268 [00:56<00:44, 166.03it/s]\u001b[A\n",
      "Accumulate responses from folder:  67%|██████▋   | 11618/17268 [01:06<00:33, 167.00it/s]\u001b[A\n",
      "Accumulate responses from folder:  67%|██████▋   | 11618/17268 [01:16<00:33, 167.00it/s]\u001b[A\n",
      "Accumulate responses from folder:  76%|███████▋  | 13186/17268 [01:16<00:25, 162.46it/s]\u001b[A\n",
      "Accumulate responses from folder:  86%|████████▋ | 14917/17268 [01:26<00:14, 165.63it/s]\u001b[A\n",
      "Accumulate responses from folder:  86%|████████▋ | 14917/17268 [01:36<00:14, 165.63it/s]\u001b[A\n",
      "Accumulate responses from folder:  96%|█████████▌| 16600/17268 [01:36<00:04, 166.08it/s]\u001b[A\n",
      "                                                                                        \u001b[A"
     ]
    },
    {
     "name": "stdout",
     "output_type": "stream",
     "text": [
      "Accumulate responses from folder\n",
      "\t2414970 / 2414970 [avg=1.00]\n"
     ]
    },
    {
     "name": "stderr",
     "output_type": "stream",
     "text": [
      "\n",
      "Clear data:   0%|          | 0/280 [00:00<?, ?it/s]\u001b[A\n",
      "Clear data:  73%|███████▎  | 205/280 [00:10<00:03, 20.47it/s]\u001b[A\n",
      " 62%|██████▎   | 15/24 [25:54<21:29, 143.24s/it]             \u001b[A"
     ]
    },
    {
     "name": "stdout",
     "output_type": "stream",
     "text": [
      "Clear data\n",
      "\t2414970 / 91490 [avg 26.40]\n",
      "Processing '..\\..\\data\\local\\kharkiv\\jsons\\trans_data_01_APR_2023'\n"
     ]
    },
    {
     "name": "stderr",
     "output_type": "stream",
     "text": [
      "\n",
      "Accumulate responses from folder:   0%|          | 0/17243 [00:00<?, ?it/s]\u001b[A\n",
      "Accumulate responses from folder:  24%|██▍       | 4180/17243 [00:10<00:31, 417.08it/s]\u001b[A\n",
      "Accumulate responses from folder:  48%|████▊     | 8351/17243 [00:25<00:28, 310.53it/s]\u001b[A\n",
      "Accumulate responses from folder:  64%|██████▍   | 11012/17243 [00:35<00:21, 293.38it/s]\u001b[A\n",
      "Accumulate responses from folder:  79%|███████▉  | 13672/17243 [00:46<00:13, 273.21it/s]\u001b[A\n",
      "Accumulate responses from folder:  96%|█████████▌| 16492/17243 [00:56<00:02, 275.76it/s]\u001b[A\n",
      "                                                                                        \u001b[A"
     ]
    },
    {
     "name": "stdout",
     "output_type": "stream",
     "text": [
      "Accumulate responses from folder\n",
      "\t2145470 / 2145470 [avg=1.00]\n"
     ]
    },
    {
     "name": "stderr",
     "output_type": "stream",
     "text": [
      "\n",
      "Clear data:   0%|          | 0/244 [00:00<?, ?it/s]\u001b[A\n",
      "Clear data:  66%|██████▌   | 161/244 [00:10<00:05, 16.08it/s]\u001b[A\n",
      "                                                             \u001b[A"
     ]
    },
    {
     "name": "stdout",
     "output_type": "stream",
     "text": [
      "Clear data\n",
      "\t2145470 / 79007 [avg 27.16]\n"
     ]
    },
    {
     "name": "stderr",
     "output_type": "stream",
     "text": [
      " 67%|██████▋   | 16/24 [27:34<17:21, 130.13s/it]"
     ]
    },
    {
     "name": "stdout",
     "output_type": "stream",
     "text": [
      "Processing '..\\..\\data\\local\\kharkiv\\jsons\\trans_data_02_APR_2023'\n"
     ]
    },
    {
     "name": "stderr",
     "output_type": "stream",
     "text": [
      "\n",
      "Accumulate responses from folder:   0%|          | 0/17280 [00:00<?, ?it/s]\u001b[A\n",
      "Accumulate responses from folder:  23%|██▎       | 3960/17280 [00:10<00:33, 395.96it/s]\u001b[A\n",
      "Accumulate responses from folder:  23%|██▎       | 3960/17280 [00:20<00:33, 395.96it/s]\u001b[A\n",
      "Accumulate responses from folder:  37%|███▋      | 6454/17280 [00:20<00:36, 297.99it/s]\u001b[A\n",
      "Accumulate responses from folder:  51%|█████     | 8731/17280 [00:30<00:32, 266.24it/s]\u001b[A\n",
      "Accumulate responses from folder:  51%|█████     | 8731/17280 [00:30<00:32, 266.24it/s]\u001b[A\n",
      "Accumulate responses from folder:  51%|█████     | 8731/17280 [00:40<00:32, 266.24it/s]\u001b[A\n",
      "Accumulate responses from folder:  64%|██████▎   | 10977/17280 [00:40<00:25, 249.34it/s]\u001b[A\n",
      "Accumulate responses from folder:  77%|███████▋  | 13358/17280 [00:50<00:15, 245.26it/s]\u001b[A\n",
      "Accumulate responses from folder:  77%|███████▋  | 13358/17280 [00:50<00:15, 245.26it/s]\u001b[A\n",
      "Accumulate responses from folder:  92%|█████████▏| 15862/17280 [01:00<00:05, 246.80it/s]\u001b[A\n",
      "                                                                                        \u001b[A"
     ]
    },
    {
     "name": "stdout",
     "output_type": "stream",
     "text": [
      "Accumulate responses from folder\n",
      "\t2110937 / 2110937 [avg=1.00]\n"
     ]
    },
    {
     "name": "stderr",
     "output_type": "stream",
     "text": [
      "\n",
      "Clear data:   0%|          | 0/241 [00:00<?, ?it/s]\u001b[A\n",
      "Clear data:  93%|█████████▎| 224/241 [00:10<00:00, 22.29it/s]\u001b[A\n",
      "                                                             \u001b[A"
     ]
    },
    {
     "name": "stdout",
     "output_type": "stream",
     "text": [
      "Clear data\n",
      "\t2110937 / 78772 [avg 26.80]\n"
     ]
    },
    {
     "name": "stderr",
     "output_type": "stream",
     "text": [
      " 71%|███████   | 17/24 [29:03<13:44, 117.80s/it]"
     ]
    },
    {
     "name": "stdout",
     "output_type": "stream",
     "text": [
      "Processing '..\\..\\data\\local\\kharkiv\\jsons\\trans_data_03_APR_2023'\n"
     ]
    },
    {
     "name": "stderr",
     "output_type": "stream",
     "text": [
      "\n",
      "Accumulate responses from folder:   0%|          | 0/17280 [00:00<?, ?it/s]\u001b[A\n",
      "Accumulate responses from folder:   7%|▋         | 1167/17280 [00:10<02:18, 116.57it/s]\u001b[A\n",
      "Accumulate responses from folder:  15%|█▍        | 2537/17280 [00:20<01:54, 128.47it/s]\u001b[A\n",
      "Accumulate responses from folder:  26%|██▌       | 4525/17280 [00:30<01:19, 160.50it/s]\u001b[A\n",
      "Accumulate responses from folder:  26%|██▌       | 4525/17280 [00:41<01:19, 160.50it/s]\u001b[A\n",
      "Accumulate responses from folder:  33%|███▎      | 5781/17280 [00:41<01:23, 138.36it/s]\u001b[A\n",
      "Accumulate responses from folder:  41%|████      | 7122/17280 [00:51<01:14, 136.74it/s]\u001b[A\n",
      "Accumulate responses from folder:  41%|████      | 7122/17280 [00:51<01:14, 136.74it/s]\u001b[A\n",
      "Accumulate responses from folder:  48%|████▊     | 8229/17280 [01:01<01:10, 127.77it/s]\u001b[A\n",
      "Accumulate responses from folder:  48%|████▊     | 8229/17280 [01:01<01:10, 127.77it/s]\u001b[A\n",
      "Accumulate responses from folder:  55%|█████▌    | 9519/17280 [01:11<01:00, 127.95it/s]\u001b[A\n",
      "Accumulate responses from folder:  62%|██████▏   | 10678/17280 [01:21<00:53, 123.85it/s]\u001b[A\n",
      "Accumulate responses from folder:  62%|██████▏   | 10678/17280 [01:21<00:53, 123.85it/s]\u001b[A\n",
      "Accumulate responses from folder:  70%|██████▉   | 12010/17280 [01:31<00:41, 126.73it/s]\u001b[A\n",
      "Accumulate responses from folder:  78%|███████▊  | 13392/17280 [01:41<00:29, 130.18it/s]\u001b[A\n",
      "Accumulate responses from folder:  89%|████████▊ | 15294/17280 [01:51<00:13, 148.41it/s]\u001b[A\n",
      "Accumulate responses from folder: 100%|██████████| 17280/17280 [02:01<00:00, 163.57it/s]\u001b[A\n",
      "                                                                                        \u001b[A"
     ]
    },
    {
     "name": "stdout",
     "output_type": "stream",
     "text": [
      "Accumulate responses from folder\n",
      "\t2451629 / 2451629 [avg=1.00]\n"
     ]
    },
    {
     "name": "stderr",
     "output_type": "stream",
     "text": [
      "\n",
      "Clear data:   0%|          | 0/282 [00:00<?, ?it/s]\u001b[A\n",
      "Clear data:  74%|███████▍  | 208/282 [00:10<00:03, 20.80it/s]\u001b[A\n",
      "                                                             \u001b[A"
     ]
    },
    {
     "name": "stdout",
     "output_type": "stream",
     "text": [
      "Clear data\n",
      "\t2451629 / 93261 [avg 26.29]\n"
     ]
    },
    {
     "name": "stderr",
     "output_type": "stream",
     "text": [
      " 75%|███████▌  | 18/24 [31:39<12:56, 129.47s/it]"
     ]
    },
    {
     "name": "stdout",
     "output_type": "stream",
     "text": [
      "Processing '..\\..\\data\\local\\kharkiv\\jsons\\trans_data_04_APR_2023'\n"
     ]
    },
    {
     "name": "stderr",
     "output_type": "stream",
     "text": [
      "\n",
      "Accumulate responses from folder:   0%|          | 0/17278 [00:00<?, ?it/s]\u001b[A\n",
      "Accumulate responses from folder:  19%|█▊        | 3230/17278 [00:10<00:43, 322.88it/s]\u001b[A\n",
      "Accumulate responses from folder:  37%|███▋      | 6459/17278 [00:23<00:41, 262.85it/s]\u001b[A\n",
      "Accumulate responses from folder:  53%|█████▎    | 9169/17278 [00:33<00:30, 266.07it/s]\u001b[A\n",
      "Accumulate responses from folder:  69%|██████▉   | 11952/17278 [00:43<00:19, 270.53it/s]\u001b[A\n",
      "Accumulate responses from folder:  85%|████████▌ | 14735/17278 [00:54<00:09, 271.75it/s]\u001b[A\n",
      "                                                                                        \u001b[A"
     ]
    },
    {
     "name": "stdout",
     "output_type": "stream",
     "text": [
      "Accumulate responses from folder\n",
      "\t2436496 / 2436496 [avg=1.00]\n"
     ]
    },
    {
     "name": "stderr",
     "output_type": "stream",
     "text": [
      "\n",
      "Clear data:   0%|          | 0/271 [00:00<?, ?it/s]\u001b[A\n",
      " 79%|███████▉  | 19/24 [33:03<09:37, 115.57s/it]   \u001b[A"
     ]
    },
    {
     "name": "stdout",
     "output_type": "stream",
     "text": [
      "Clear data\n",
      "\t2436496 / 91893 [avg 26.51]\n",
      "Processing '..\\..\\data\\local\\kharkiv\\jsons\\trans_data_05_APR_2023'\n"
     ]
    },
    {
     "name": "stderr",
     "output_type": "stream",
     "text": [
      "\n",
      "Accumulate responses from folder:   0%|          | 0/17280 [00:00<?, ?it/s]\u001b[A\n",
      "Accumulate responses from folder:  24%|██▍       | 4229/17280 [00:10<00:30, 422.85it/s]\u001b[A\n",
      "Accumulate responses from folder:  24%|██▍       | 4229/17280 [00:25<00:30, 422.85it/s]\u001b[A\n",
      "Accumulate responses from folder:  48%|████▊     | 8323/17280 [00:25<00:28, 318.88it/s]\u001b[A\n",
      "Accumulate responses from folder:  64%|██████▍   | 11045/17280 [00:35<00:20, 300.56it/s]\u001b[A\n",
      "Accumulate responses from folder:  64%|██████▍   | 11045/17280 [00:45<00:20, 300.56it/s]\u001b[A\n",
      "Accumulate responses from folder:  78%|███████▊  | 13423/17280 [00:45<00:13, 277.53it/s]\u001b[A\n",
      "Accumulate responses from folder:  96%|█████████▌| 16551/17280 [00:55<00:02, 289.42it/s]\u001b[A\n",
      "                                                                                        \u001b[A"
     ]
    },
    {
     "name": "stdout",
     "output_type": "stream",
     "text": [
      "Accumulate responses from folder\n",
      "\t2431420 / 2431420 [avg=1.00]\n"
     ]
    },
    {
     "name": "stderr",
     "output_type": "stream",
     "text": [
      "\n",
      "Clear data:   0%|          | 0/275 [00:00<?, ?it/s]\u001b[A\n",
      " 83%|████████▎ | 20/24 [34:21<06:57, 104.32s/it]   \u001b[A"
     ]
    },
    {
     "name": "stdout",
     "output_type": "stream",
     "text": [
      "Clear data\n",
      "\t2431420 / 91999 [avg 26.43]\n",
      "Processing '..\\..\\data\\local\\kharkiv\\jsons\\trans_data_06_APR_2023'\n"
     ]
    },
    {
     "name": "stderr",
     "output_type": "stream",
     "text": [
      "\n",
      "Accumulate responses from folder:   0%|          | 0/17280 [00:00<?, ?it/s]\u001b[A\n",
      "Accumulate responses from folder:  25%|██▍       | 4278/17280 [00:10<00:30, 427.78it/s]\u001b[A\n",
      "Accumulate responses from folder:  50%|████▉     | 8556/17280 [00:26<00:27, 315.69it/s]\u001b[A\n",
      "Accumulate responses from folder:  66%|██████▌   | 11328/17280 [00:36<00:19, 300.94it/s]\u001b[A\n",
      "Accumulate responses from folder:  82%|████████▏ | 14100/17280 [00:46<00:10, 290.31it/s]\u001b[A\n",
      "                                                                                        \u001b[A"
     ]
    },
    {
     "name": "stdout",
     "output_type": "stream",
     "text": [
      "Accumulate responses from folder\n",
      "\t2392553 / 2392553 [avg=1.00]\n"
     ]
    },
    {
     "name": "stderr",
     "output_type": "stream",
     "text": [
      "\n",
      "Clear data:   0%|          | 0/274 [00:00<?, ?it/s]\u001b[A\n",
      " 88%|████████▊ | 21/24 [35:37<04:47, 95.86s/it]    \u001b[A"
     ]
    },
    {
     "name": "stdout",
     "output_type": "stream",
     "text": [
      "Clear data\n",
      "\t2392553 / 90331 [avg 26.49]\n",
      "Processing '..\\..\\data\\local\\kharkiv\\jsons\\trans_data_07_APR_2023'\n"
     ]
    },
    {
     "name": "stderr",
     "output_type": "stream",
     "text": [
      "\n",
      "Accumulate responses from folder:   0%|          | 0/17280 [00:00<?, ?it/s]\u001b[A\n",
      "Accumulate responses from folder:  25%|██▌       | 4356/17280 [00:10<00:29, 434.92it/s]\u001b[A\n",
      "Accumulate responses from folder:  43%|████▎     | 7437/17280 [00:21<00:29, 335.46it/s]\u001b[A\n",
      "Accumulate responses from folder:  43%|████▎     | 7437/17280 [00:21<00:29, 335.46it/s]\u001b[A\n",
      "Accumulate responses from folder:  43%|████▎     | 7437/17280 [00:31<00:29, 335.46it/s]\u001b[A\n",
      "Accumulate responses from folder:  58%|█████▊    | 10098/17280 [00:31<00:23, 304.22it/s]\u001b[A\n",
      "Accumulate responses from folder:  74%|███████▍  | 12753/17280 [00:41<00:15, 289.32it/s]\u001b[A\n",
      "Accumulate responses from folder:  91%|█████████ | 15749/17280 [00:51<00:05, 292.78it/s]\u001b[A\n",
      "                                                                                        \u001b[A"
     ]
    },
    {
     "name": "stdout",
     "output_type": "stream",
     "text": [
      "Accumulate responses from folder\n",
      "\t2442172 / 2442172 [avg=1.00]\n"
     ]
    },
    {
     "name": "stderr",
     "output_type": "stream",
     "text": [
      "\n",
      "Clear data:   0%|          | 0/276 [00:00<?, ?it/s]\u001b[A\n",
      " 92%|█████████▏| 22/24 [36:53<03:00, 90.05s/it]    \u001b[A"
     ]
    },
    {
     "name": "stdout",
     "output_type": "stream",
     "text": [
      "Clear data\n",
      "\t2442172 / 93372 [avg 26.16]\n",
      "Processing '..\\..\\data\\local\\kharkiv\\jsons\\trans_data_08_APR_2023'\n"
     ]
    },
    {
     "name": "stderr",
     "output_type": "stream",
     "text": [
      "\n",
      "Accumulate responses from folder:   0%|          | 0/17280 [00:00<?, ?it/s]\u001b[A\n",
      "Accumulate responses from folder:  25%|██▍       | 4237/17280 [00:10<00:30, 423.56it/s]\u001b[A\n",
      "Accumulate responses from folder:  48%|████▊     | 8353/17280 [00:25<00:27, 320.20it/s]\u001b[A\n",
      "Accumulate responses from folder:  48%|████▊     | 8353/17280 [00:25<00:27, 320.20it/s]\u001b[A\n",
      "Accumulate responses from folder:  65%|██████▍   | 11168/17280 [00:35<00:20, 304.87it/s]\u001b[A\n",
      "Accumulate responses from folder:  65%|██████▍   | 11168/17280 [00:45<00:20, 304.87it/s]\u001b[A\n",
      "Accumulate responses from folder:  79%|███████▉  | 13639/17280 [00:45<00:12, 283.50it/s]\u001b[A\n",
      "Accumulate responses from folder:  97%|█████████▋| 16744/17280 [00:55<00:01, 292.60it/s]\u001b[A\n",
      "                                                                                        \u001b[A"
     ]
    },
    {
     "name": "stdout",
     "output_type": "stream",
     "text": [
      "Accumulate responses from folder\n",
      "\t2139128 / 2139128 [avg=1.00]\n"
     ]
    },
    {
     "name": "stderr",
     "output_type": "stream",
     "text": [
      "\n",
      "Clear data:   0%|          | 0/243 [00:00<?, ?it/s]\u001b[A\n",
      " 96%|█████████▌| 23/24 [38:08<01:25, 85.43s/it]    \u001b[A"
     ]
    },
    {
     "name": "stdout",
     "output_type": "stream",
     "text": [
      "Clear data\n",
      "\t2139128 / 81808 [avg 26.15]\n",
      "Processing '..\\..\\data\\local\\kharkiv\\jsons\\trans_data_09_APR_2023'\n"
     ]
    },
    {
     "name": "stderr",
     "output_type": "stream",
     "text": [
      "\n",
      "Accumulate responses from folder:   0%|          | 0/17280 [00:00<?, ?it/s]\u001b[A\n",
      "Accumulate responses from folder:  25%|██▍       | 4260/17280 [00:10<00:30, 425.96it/s]\u001b[A\n",
      "Accumulate responses from folder:  42%|████▏     | 7185/17280 [00:20<00:29, 336.78it/s]\u001b[A\n",
      "Accumulate responses from folder:  42%|████▏     | 7185/17280 [00:20<00:29, 336.78it/s]\u001b[A\n",
      "Accumulate responses from folder:  57%|█████▋    | 9841/17280 [00:30<00:24, 303.97it/s]\u001b[A\n",
      "Accumulate responses from folder:  57%|█████▋    | 9841/17280 [00:30<00:24, 303.97it/s]\u001b[A\n",
      "Accumulate responses from folder:  72%|███████▏  | 12507/17280 [00:40<00:16, 287.47it/s]\u001b[A\n",
      "Accumulate responses from folder:  72%|███████▏  | 12507/17280 [00:40<00:16, 287.47it/s]\u001b[A\n",
      "Accumulate responses from folder:  91%|█████████ | 15737/17280 [00:50<00:05, 299.92it/s]\u001b[A\n",
      "                                                                                        \u001b[A"
     ]
    },
    {
     "name": "stdout",
     "output_type": "stream",
     "text": [
      "Accumulate responses from folder\n",
      "\t2104581 / 2104581 [avg=1.00]\n"
     ]
    },
    {
     "name": "stderr",
     "output_type": "stream",
     "text": [
      "\n",
      "Clear data:   0%|          | 0/240 [00:00<?, ?it/s]\u001b[A\n",
      "100%|██████████| 24/24 [39:21<00:00, 98.41s/it]    \u001b[A"
     ]
    },
    {
     "name": "stdout",
     "output_type": "stream",
     "text": [
      "Clear data\n",
      "\t2104581 / 78996 [avg 26.64]\n"
     ]
    },
    {
     "name": "stderr",
     "output_type": "stream",
     "text": [
      "\n"
     ]
    }
   ],
   "source": [
    "KHARKIV_FOLDER_PATH = Path(\"../../data/local/kharkiv\")\n",
    "KH_REQUESTS_PATH = KHARKIV_FOLDER_PATH/\"jsons\"\n",
    "KH_TABLES_PATH = KHARKIV_FOLDER_PATH/\"tables\"\n",
    "# kharkiv_folder_path = Path(\"../../../pet_project/kharkiv\")\n",
    "kharkiv_req_list = [p for p in KH_REQUESTS_PATH.iterdir() if \"trans_data_\" in p.name]\n",
    "kharkiv_reqs_list = sorted(kharkiv_folder_list,\n",
    "                        key=lambda p: datetime.strptime(p.name[11:], '%d_%b_%Y'))\n",
    "# kharkiv_folders_list\n",
    "\n",
    "for folder_path in tqdm(kharkiv_reqs_list[:-1]):   \n",
    "    print(f\"Processing '{folder_path}'\")\n",
    "    df = accumulate_responses_from_folder(folder_path)\n",
    "    df.to_parquet(KH_TABLES_PATH/'origin'/(folder_path.name + '_origin.parquet'))\n",
    "    \n",
    "    df_u = clear_data(df)\n",
    "    df_u.to_parquet(KH_TABLES_PATH/'optimized'/(folder_path.name + '_optimized.parquet'))"
   ]
  },
  {
   "cell_type": "code",
   "execution_count": 20,
   "id": "43b1b163-03db-4a8f-83d2-018bf9d39871",
   "metadata": {},
   "outputs": [],
   "source": [
    "# [p.name[11:-18] for p in file_path_list]"
   ]
  },
  {
   "cell_type": "code",
   "execution_count": 23,
   "id": "1071f9d4-9fc3-4739-b9e1-579efaa87aa8",
   "metadata": {},
   "outputs": [
    {
     "data": {
      "text/plain": [
       "[WindowsPath('../../data/local/kharkiv/tables/optimized/trans_data_11_APR_2023_optimized.parquet'),\n",
       " WindowsPath('../../data/local/kharkiv/tables/optimized/trans_data_12_APR_2023_optimized.parquet'),\n",
       " WindowsPath('../../data/local/kharkiv/tables/optimized/trans_data_13_APR_2023_optimized.parquet')]"
      ]
     },
     "execution_count": 23,
     "metadata": {},
     "output_type": "execute_result"
    }
   ],
   "source": [
    "file_path_list = list((KH_TABLES_PATH/\"optimized\").iterdir())\n",
    "file_path_list = sorted(file_path_list,\n",
    "                        key=lambda p: datetime.strptime(p.name[11:-18], '%d_%b_%Y'))\n",
    "file_path_list[-3:]"
   ]
  },
  {
   "cell_type": "code",
   "execution_count": 24,
   "id": "464a92d6-42bb-4e0d-9cad-926f414f1645",
   "metadata": {},
   "outputs": [],
   "source": [
    "df_l = pd.read_parquet(file_path_list[-1])"
   ]
  },
  {
   "cell_type": "code",
   "execution_count": 25,
   "id": "dca653de-a74f-4680-8875-704f2c61417d",
   "metadata": {},
   "outputs": [
    {
     "data": {
      "text/plain": [
       "Index(['3', '27', '8', '20', '204', '6', '119', '1', '63', '24', '35', '16А',\n",
       "       '16', '19', '304', '272', '55', '11', '31', '45', '46', '34', '56',\n",
       "       '72', '170', '7', '13', '267', '109', '57', '106', '40', '140', '32',\n",
       "       '260', '5', '112', '7А', '51', '49', '222', '96', '58', '243', '29',\n",
       "       '80', '67', '77', '33', '12', '81', '53', '94', '25', '68', '18', '21',\n",
       "       '23', '47', '99', '64', '28', '83', '224', '241', '273', '78', '118',\n",
       "       '22', '41'],\n",
       "      dtype='object')"
      ]
     },
     "execution_count": 25,
     "metadata": {},
     "output_type": "execute_result"
    }
   ],
   "source": [
    "df['route_name'].value_counts().index"
   ]
  },
  {
   "cell_type": "code",
   "execution_count": 26,
   "id": "7d86bbcc-4ee2-40ab-8e2f-90977774064f",
   "metadata": {},
   "outputs": [
    {
     "data": {
      "text/plain": [
       "Index(['3', '27', '8', '20', '204', '6', '1', '119', '24', '35', '16А', '16',\n",
       "       '63', '19', '304', '11', '34', '272', '31', '55', '56', '45', '7', '13',\n",
       "       '170', '46', '72', '5', '7А', '40', '32', '49', '267', '112', '106',\n",
       "       '140', '260', '109', '57', '51', '222', '12', '18', '29', '58', '33',\n",
       "       '80', '81', '96', '94', '77', '68', '53', '243', '67', '23', '21', '83',\n",
       "       '241', '47', '25', '64', '78', '28', '99', '273', '118', '224', '41',\n",
       "       '22'],\n",
       "      dtype='object')"
      ]
     },
     "execution_count": 26,
     "metadata": {},
     "output_type": "execute_result"
    }
   ],
   "source": [
    "df_u['route_name'].value_counts().index"
   ]
  },
  {
   "cell_type": "code",
   "execution_count": 27,
   "id": "9fe6e86e-ac9f-4103-8c29-8ba558a4bfc1",
   "metadata": {},
   "outputs": [
    {
     "data": {
      "text/plain": [
       "Index(['3', '27', '20', '8', '204', '6', '35', '24', '63', '119', '1', '19',\n",
       "       '272', '304', '16', '16А', '34', '45', '170', '11', '13', '31', '55',\n",
       "       '7', '7А', '72', '46', '56', '112', '51', '68', '106', '58', '33', '32',\n",
       "       '49', '260', '109', '57', '96', '140', '40', '77', '5', '222', '94',\n",
       "       '267', '81', '25', '80', '52', '18', '29', '12', '53', '67', '83',\n",
       "       '243', '241', '23', '273', '47', '78', '21', '64', '22', '41', '99',\n",
       "       '28', '118', '224'],\n",
       "      dtype='object')"
      ]
     },
     "execution_count": 27,
     "metadata": {},
     "output_type": "execute_result"
    }
   ],
   "source": [
    "df_l['route_name'].value_counts().index"
   ]
  },
  {
   "cell_type": "code",
   "execution_count": 28,
   "id": "944608f8-25fb-44ea-b0a4-4c3172a05a72",
   "metadata": {},
   "outputs": [
    {
     "data": {
      "text/html": [
       "<div>\n",
       "<style scoped>\n",
       "    .dataframe tbody tr th:only-of-type {\n",
       "        vertical-align: middle;\n",
       "    }\n",
       "\n",
       "    .dataframe tbody tr th {\n",
       "        vertical-align: top;\n",
       "    }\n",
       "\n",
       "    .dataframe thead th {\n",
       "        text-align: right;\n",
       "    }\n",
       "</style>\n",
       "<table border=\"1\" class=\"dataframe\">\n",
       "  <thead>\n",
       "    <tr style=\"text-align: right;\">\n",
       "      <th></th>\n",
       "      <th>imei</th>\n",
       "      <th>lat</th>\n",
       "      <th>lng</th>\n",
       "      <th>speed</th>\n",
       "      <th>gps_datetime_origin</th>\n",
       "      <th>orientation</th>\n",
       "      <th>route_name</th>\n",
       "      <th>route_type</th>\n",
       "      <th>vehicle_id</th>\n",
       "      <th>dd</th>\n",
       "      <th>gpstime</th>\n",
       "      <th>response_datetime</th>\n",
       "    </tr>\n",
       "  </thead>\n",
       "  <tbody>\n",
       "  </tbody>\n",
       "</table>\n",
       "</div>"
      ],
      "text/plain": [
       "Empty DataFrame\n",
       "Columns: [imei, lat, lng, speed, gps_datetime_origin, orientation, route_name, route_type, vehicle_id, dd, gpstime, response_datetime]\n",
       "Index: []"
      ]
     },
     "execution_count": 28,
     "metadata": {},
     "output_type": "execute_result"
    }
   ],
   "source": [
    "df[df['route_name'] == '56А']"
   ]
  },
  {
   "cell_type": "code",
   "execution_count": 29,
   "id": "292f1a50-6e29-4fc8-93e4-2ca643f4d6b6",
   "metadata": {},
   "outputs": [
    {
     "data": {
      "text/plain": [
       "Series([], Name: route_name, dtype: string)"
      ]
     },
     "execution_count": 29,
     "metadata": {},
     "output_type": "execute_result"
    }
   ],
   "source": [
    "df[df['route_name'] == '56Рђ']['route_name'].astype('string')"
   ]
  },
  {
   "cell_type": "code",
   "execution_count": 29,
   "id": "f2e8798b-1f21-4861-89d2-3240d249bce8",
   "metadata": {},
   "outputs": [],
   "source": [
    "import pyarrow.parquet as pq\n",
    "pfile = pq.read_table(file_path_list[-2])"
   ]
  },
  {
   "cell_type": "code",
   "execution_count": 30,
   "id": "a6145552-90d3-4942-8feb-3154d13519c5",
   "metadata": {},
   "outputs": [
    {
     "data": {
      "text/plain": [
       "pyarrow.Table\n",
       "imei: int64\n",
       "lat: int64\n",
       "lng: int64\n",
       "speed: int64\n",
       "gps_datetime_origin: int64\n",
       "orientation: int64\n",
       "route_name: string\n",
       "route_type: int64\n",
       "vehicle_id: int64\n",
       "dd: int64\n",
       "gpstime: string\n",
       "response_datetime: string\n",
       "----\n",
       "imei: [[353976014023992,353976014023992,353976014023992,353976014023992,353976014023992,...,352625696583044,352625696583044,352625696583044,352625696583044,352625696583044],[352625696583044,352625696583044,352625696583044,352625696583044,352625696583044,...,353976014241727,353976014241727,353976014241727,353976014241727,353976014241727]]\n",
       "lat: [[369808,370071,368210,367470,366741,...,237099,237099,251362,253208,253410],[259300,259159,259102,259220,259090,...,260399,260410,260448,260429,260380]]\n",
       "lng: [[961990,961880,959579,958759,957932,...,984879,984879,977291,976440,976349],[970169,968700,968250,968281,967739,...,944111,944019,944099,945011,945950]]\n",
       "speed: [[0,5,17,17,12,...,13,0,21,23,17],[26,27,12,0,24,...,0,0,0,28,11]]\n",
       "gps_datetime_origin: [[0,0,0,0,0,...,0,0,0,0,0],[0,0,0,0,0,...,0,0,0,0,0]]\n",
       "orientation: [[340,194,210,211,210,...,142,142,128,124,119],[178,186,188,284,179,...,0,1,1,355,1]]\n",
       "route_name: [[\"24Рђ\",\"24Рђ\",\"24Рђ\",\"24Рђ\",\"24Рђ\",...,\"304\",\"304\",\"304\",\"304\",\"304\"],[\"304\",\"304\",\"304\",\"304\",\"304\",...,\"6\",\"6\",\"6\",\"6\",\"6\"]]\n",
       "route_type: [[2,2,2,2,2,...,2,2,2,2,2],[2,2,2,2,2,...,2,2,2,2,2]]\n",
       "vehicle_id: [[3221,3221,3221,3221,3221,...,2741,2741,2741,2741,2741],[2741,2741,2741,2741,2741,...,2605,2605,2605,2605,2605]]\n",
       "dd: [[71,25,25,29,19,...,34,64,19,15,30],[14,22,20,24,24,...,61,48,15,18,31]]\n",
       "..."
      ]
     },
     "execution_count": 30,
     "metadata": {},
     "output_type": "execute_result"
    }
   ],
   "source": [
    "pfile"
   ]
  },
  {
   "cell_type": "code",
   "execution_count": 27,
   "id": "a98ee380-6b55-4c89-9d41-8cb96a2764bc",
   "metadata": {},
   "outputs": [],
   "source": [
    "import pyarrow"
   ]
  },
  {
   "cell_type": "code",
   "execution_count": 16,
   "id": "c8cee2bb-6150-4945-a01f-5f1f307b819b",
   "metadata": {
    "collapsed": true,
    "jupyter": {
     "outputs_hidden": true
    },
    "tags": []
   },
   "outputs": [
    {
     "name": "stderr",
     "output_type": "stream",
     "text": [
      "  0%|          | 0/3 [00:00<?, ?it/s]\n",
      "Accumulate responses from folder:   0%|          | 0/12739 [00:00<?, ?it/s]\u001b[A\n",
      "Accumulate responses from folder:   3%|▎         | 433/12739 [00:02<00:58, 209.60it/s]\u001b[A\n",
      "Accumulate responses from folder:   7%|▋         | 853/12739 [00:05<01:20, 147.01it/s]\u001b[A\n",
      "Accumulate responses from folder:   9%|▉         | 1168/12739 [00:07<01:20, 143.31it/s]\u001b[A\n",
      "Accumulate responses from folder:  12%|█▏        | 1465/12739 [00:10<01:30, 125.08it/s]\u001b[A\n",
      "Accumulate responses from folder:  14%|█▎        | 1724/12739 [00:13<01:36, 113.78it/s]\u001b[A\n",
      "Accumulate responses from folder:  15%|█▌        | 1958/12739 [00:17<01:53, 95.33it/s] \u001b[A\n",
      "Accumulate responses from folder:  18%|█▊        | 2263/12739 [00:19<01:35, 109.17it/s]\u001b[A\n",
      "Accumulate responses from folder:  20%|█▉        | 2525/12739 [00:21<01:29, 113.90it/s]\u001b[A\n",
      "Accumulate responses from folder:  22%|██▏       | 2768/12739 [00:23<01:27, 114.56it/s]\u001b[A\n",
      "Accumulate responses from folder:  24%|██▍       | 3050/12739 [00:25<01:19, 121.24it/s]\u001b[A\n",
      "Accumulate responses from folder:  26%|██▌       | 3303/12739 [00:27<01:16, 122.59it/s]\u001b[A\n",
      "Accumulate responses from folder:  28%|██▊       | 3554/12739 [00:29<01:17, 119.21it/s]\u001b[A\n",
      "Accumulate responses from folder:  30%|██▉       | 3797/12739 [00:32<01:24, 106.37it/s]\u001b[A\n",
      "Accumulate responses from folder:  32%|███▏      | 4017/12739 [00:34<01:26, 101.16it/s]\u001b[A\n",
      "Accumulate responses from folder:  33%|███▎      | 4234/12739 [00:36<01:22, 102.82it/s]\u001b[A\n",
      "Accumulate responses from folder:  35%|███▍      | 4444/12739 [00:38<01:20, 103.41it/s]\u001b[A\n",
      "Accumulate responses from folder:  37%|███▋      | 4654/12739 [00:41<01:20, 100.27it/s]\u001b[A\n",
      "Accumulate responses from folder:  39%|███▉      | 4938/12739 [00:43<01:09, 111.53it/s]\u001b[A\n",
      "Accumulate responses from folder:  41%|████      | 5165/12739 [00:45<01:11, 106.64it/s]\u001b[A\n",
      "Accumulate responses from folder:  42%|████▏     | 5381/12739 [00:48<01:14, 98.72it/s] \u001b[A\n",
      "Accumulate responses from folder:  44%|████▍     | 5634/12739 [00:50<01:07, 105.83it/s]\u001b[A\n",
      "Accumulate responses from folder:  46%|████▌     | 5850/12739 [00:52<01:10, 98.17it/s] \u001b[A\n",
      "Accumulate responses from folder:  47%|████▋     | 6051/12739 [00:54<01:09, 96.55it/s]\u001b[A\n",
      "Accumulate responses from folder:  50%|████▉     | 6309/12739 [00:56<01:01, 105.19it/s]\u001b[A\n",
      "Accumulate responses from folder:  52%|█████▏    | 6672/12739 [00:58<00:48, 125.97it/s]\u001b[A\n",
      "Accumulate responses from folder:  55%|█████▍    | 6974/12739 [01:00<00:43, 132.69it/s]\u001b[A\n",
      "Accumulate responses from folder:  58%|█████▊    | 7417/12739 [01:03<00:33, 158.02it/s]\u001b[A\n",
      "Accumulate responses from folder:  62%|██████▏   | 7887/12739 [01:05<00:26, 180.19it/s]\u001b[A\n",
      "Accumulate responses from folder:  65%|██████▍   | 8252/12739 [01:07<00:26, 169.32it/s]\u001b[A\n",
      "Accumulate responses from folder:  69%|██████▊   | 8756/12739 [01:09<00:20, 192.49it/s]\u001b[A\n",
      "Accumulate responses from folder:  73%|███████▎  | 9298/12739 [01:11<00:16, 214.99it/s]\u001b[A\n",
      "Accumulate responses from folder:  76%|███████▋  | 9735/12739 [01:14<00:16, 181.02it/s]\u001b[A\n",
      "Accumulate responses from folder:  79%|███████▉  | 10120/12739 [01:17<00:15, 165.90it/s]\u001b[A\n",
      "Accumulate responses from folder:  82%|████████▏ | 10471/12739 [01:20<00:14, 151.52it/s]\u001b[A\n",
      "Accumulate responses from folder:  85%|████████▍ | 10817/12739 [01:22<00:12, 156.60it/s]\u001b[A\n",
      "Accumulate responses from folder:  89%|████████▊ | 11292/12739 [01:24<00:08, 176.78it/s]\u001b[A\n",
      "Accumulate responses from folder:  93%|█████████▎| 11787/12739 [01:26<00:04, 195.65it/s]\u001b[A\n",
      "Accumulate responses from folder:  98%|█████████▊| 12441/12739 [01:28<00:01, 231.33it/s]\u001b[A\n",
      "                                                                                        \u001b[A"
     ]
    },
    {
     "name": "stdout",
     "output_type": "stream",
     "text": [
      "Accumulate responses from folder\n",
      "\t1616588 / 1616588 [avg=1.00]\n"
     ]
    },
    {
     "name": "stderr",
     "output_type": "stream",
     "text": [
      "\n",
      "Clear data:   0%|          | 0/273 [00:00<?, ?it/s]\u001b[A\n",
      "Clear data:   8%|▊         | 23/273 [00:02<00:22, 11.36it/s]\u001b[A\n",
      "Clear data:  18%|█▊        | 48/273 [00:04<00:18, 11.89it/s]\u001b[A\n",
      "Clear data:  26%|██▋       | 72/273 [00:06<00:16, 11.93it/s]\u001b[A\n",
      "Clear data:  36%|███▋      | 99/273 [00:08<00:14, 12.06it/s]\u001b[A\n",
      "Clear data:  47%|████▋     | 127/273 [00:10<00:11, 12.61it/s]\u001b[A\n",
      "Clear data:  56%|█████▌    | 153/273 [00:12<00:09, 12.50it/s]\u001b[A\n",
      "Clear data:  66%|██████▌   | 180/273 [00:14<00:07, 12.52it/s]\u001b[A\n",
      "Clear data:  75%|███████▌  | 206/273 [00:17<00:05, 11.74it/s]\u001b[A\n",
      "Clear data:  86%|████████▌ | 235/273 [00:19<00:03, 12.44it/s]\u001b[A\n",
      "                                                             \u001b[A"
     ]
    },
    {
     "name": "stdout",
     "output_type": "stream",
     "text": [
      "Clear data\n",
      "\t1616588 / 153418 [avg 10.54]\n"
     ]
    },
    {
     "name": "stderr",
     "output_type": "stream",
     "text": [
      "\n",
      "  0%|          | 0/52 [00:00<?, ?it/s]\u001b[A\n",
      " 19%|█▉        | 10/52 [00:10<00:44,  1.05s/it]\u001b[A\n",
      " 42%|████▏     | 22/52 [00:20<00:27,  1.09it/s]\u001b[A\n",
      "100%|██████████| 52/52 [00:40<00:00,  1.28it/s]\u001b[A\n",
      " 33%|███▎      | 1/3 [02:53<05:46, 173.17s/it]\n",
      "Accumulate responses from folder:   0%|          | 0/10997 [00:00<?, ?it/s]\u001b[A\n",
      "Accumulate responses from folder:   6%|▌         | 652/10997 [00:02<00:31, 325.93it/s]\u001b[A\n",
      "Accumulate responses from folder:  12%|█▏        | 1304/10997 [00:04<00:33, 287.63it/s]\u001b[A\n",
      "Accumulate responses from folder:  17%|█▋        | 1924/10997 [00:06<00:30, 296.95it/s]\u001b[A\n",
      "Accumulate responses from folder:  23%|██▎       | 2523/10997 [00:08<00:29, 291.25it/s]\u001b[A\n",
      "Accumulate responses from folder:  28%|██▊       | 3109/10997 [00:10<00:28, 276.51it/s]\u001b[A\n",
      "Accumulate responses from folder:  34%|███▍      | 3714/10997 [00:12<00:25, 284.65it/s]\u001b[A\n",
      "Accumulate responses from folder:  39%|███▉      | 4291/10997 [00:14<00:23, 285.74it/s]\u001b[A\n",
      "Accumulate responses from folder:  44%|████▍     | 4865/10997 [00:17<00:23, 265.48it/s]\u001b[A\n",
      "Accumulate responses from folder:  49%|████▉     | 5403/10997 [00:20<00:23, 235.83it/s]\u001b[A\n",
      "Accumulate responses from folder:  54%|█████▎    | 5889/10997 [00:22<00:22, 222.82it/s]\u001b[A\n",
      "Accumulate responses from folder:  58%|█████▊    | 6345/10997 [00:24<00:20, 223.57it/s]\u001b[A\n",
      "Accumulate responses from folder:  62%|██████▏   | 6800/10997 [00:27<00:19, 213.61it/s]\u001b[A\n",
      "Accumulate responses from folder:  66%|██████▌   | 7233/10997 [00:29<00:18, 204.75it/s]\u001b[A\n",
      "Accumulate responses from folder:  70%|███████   | 7744/10997 [00:31<00:14, 218.01it/s]\u001b[A\n",
      "Accumulate responses from folder:  75%|███████▍  | 8247/10997 [00:33<00:12, 226.77it/s]\u001b[A\n",
      "Accumulate responses from folder:  80%|████████  | 8806/10997 [00:35<00:09, 241.44it/s]\u001b[A\n",
      "Accumulate responses from folder:  85%|████████▌ | 9364/10997 [00:37<00:06, 252.11it/s]\u001b[A\n",
      "Accumulate responses from folder:  90%|████████▉ | 9873/10997 [00:39<00:04, 246.72it/s]\u001b[A\n",
      "Accumulate responses from folder:  94%|█████████▍| 10370/10997 [00:41<00:02, 245.45it/s]\u001b[A\n",
      "Accumulate responses from folder:  99%|█████████▉| 10925/10997 [00:43<00:00, 254.63it/s]\u001b[A\n",
      "                                                                                        \u001b[A"
     ]
    },
    {
     "name": "stdout",
     "output_type": "stream",
     "text": [
      "Accumulate responses from folder\n",
      "\t740660 / 740660 [avg=1.00]\n"
     ]
    },
    {
     "name": "stderr",
     "output_type": "stream",
     "text": [
      "\n",
      "Clear data:   0%|          | 0/239 [00:00<?, ?it/s]\u001b[A\n",
      "Clear data:  33%|███▎      | 79/239 [00:02<00:04, 39.10it/s]\u001b[A\n",
      "Clear data:  72%|███████▏  | 171/239 [00:04<00:01, 43.07it/s]\u001b[A\n",
      "                                                             \u001b[A\n",
      "  0%|          | 0/24 [00:00<?, ?it/s]\u001b[A"
     ]
    },
    {
     "name": "stdout",
     "output_type": "stream",
     "text": [
      "Clear data\n",
      "\t740660 / 70474 [avg 10.51]\n",
      "There are 1 new <class 'PTETA.utils.transport.kharkiv.KharkivTransportVehicle.KharkivTransportVehicle'> to inserted in DB\n"
     ]
    },
    {
     "name": "stderr",
     "output_type": "stream",
     "text": [
      "\n",
      "100%|██████████| 24/24 [00:13<00:00,  1.74it/s]\u001b[A\n",
      " 67%|██████▋   | 2/3 [04:01<01:51, 111.68s/it]\n",
      "Accumulate responses from folder:   0%|          | 0/17280 [00:00<?, ?it/s]\u001b[A\n",
      "Accumulate responses from folder:   4%|▍         | 669/17280 [00:02<00:49, 333.68it/s]\u001b[A\n",
      "Accumulate responses from folder:   8%|▊         | 1344/17280 [00:04<00:47, 335.91it/s]\u001b[A\n",
      "Accumulate responses from folder:  12%|█▏        | 2016/17280 [00:06<00:47, 322.15it/s]\u001b[A\n",
      "Accumulate responses from folder:  15%|█▌        | 2662/17280 [00:08<00:46, 316.67it/s]\u001b[A\n",
      "Accumulate responses from folder:  19%|█▉        | 3298/17280 [00:10<00:44, 315.36it/s]\u001b[A\n",
      "Accumulate responses from folder:  23%|██▎       | 3930/17280 [00:12<00:43, 307.21it/s]\u001b[A\n",
      "Accumulate responses from folder:  26%|██▋       | 4546/17280 [00:14<00:43, 291.63it/s]\u001b[A\n",
      "Accumulate responses from folder:  30%|██▉       | 5132/17280 [00:17<00:46, 261.55it/s]\u001b[A\n",
      "Accumulate responses from folder:  33%|███▎      | 5666/17280 [00:20<00:48, 240.18it/s]\u001b[A\n",
      "Accumulate responses from folder:  36%|███▌      | 6158/17280 [00:22<00:48, 226.98it/s]\u001b[A\n",
      "Accumulate responses from folder:  38%|███▊      | 6639/17280 [00:24<00:46, 230.39it/s]\u001b[A\n",
      "Accumulate responses from folder:  41%|████      | 7107/17280 [00:27<00:46, 220.30it/s]\u001b[A\n",
      "Accumulate responses from folder:  44%|████▍     | 7604/17280 [00:29<00:42, 227.92it/s]\u001b[A\n",
      "Accumulate responses from folder:  47%|████▋     | 8065/17280 [00:31<00:43, 213.49it/s]\u001b[A\n",
      "Accumulate responses from folder:  49%|████▉     | 8498/17280 [00:33<00:42, 206.46it/s]\u001b[A\n",
      "Accumulate responses from folder:  52%|█████▏    | 8915/17280 [00:36<00:43, 190.74it/s]\u001b[A\n",
      "Accumulate responses from folder:  54%|█████▍    | 9302/17280 [00:38<00:43, 184.19it/s]\u001b[A\n",
      "Accumulate responses from folder:  56%|█████▌    | 9674/17280 [00:40<00:41, 183.47it/s]\u001b[A\n",
      "Accumulate responses from folder:  58%|█████▊    | 10082/17280 [00:42<00:38, 188.73it/s]\u001b[A\n",
      "Accumulate responses from folder:  61%|██████    | 10462/17280 [00:45<00:39, 173.88it/s]\u001b[A\n",
      "Accumulate responses from folder:  63%|██████▎   | 10950/17280 [00:47<00:32, 192.48it/s]\u001b[A\n",
      "Accumulate responses from folder:  67%|██████▋   | 11497/17280 [00:49<00:26, 214.88it/s]\u001b[A\n",
      "Accumulate responses from folder:  69%|██████▉   | 11936/17280 [00:52<00:27, 191.14it/s]\u001b[A\n",
      "Accumulate responses from folder:  71%|███████▏  | 12334/17280 [00:54<00:25, 190.69it/s]\u001b[A\n",
      "Accumulate responses from folder:  74%|███████▎  | 12737/17280 [00:56<00:23, 193.39it/s]\u001b[A\n",
      "Accumulate responses from folder:  76%|███████▌  | 13132/17280 [00:58<00:21, 192.77it/s]\u001b[A\n",
      "Accumulate responses from folder:  79%|███████▉  | 13608/17280 [01:00<00:17, 204.97it/s]\u001b[A\n",
      "Accumulate responses from folder:  82%|████████▏ | 14084/17280 [01:02<00:14, 214.33it/s]\u001b[A\n",
      "Accumulate responses from folder:  92%|█████████▏| 15978/17280 [01:04<00:03, 427.33it/s]\u001b[A\n",
      "                                                                                        \u001b[A"
     ]
    },
    {
     "name": "stdout",
     "output_type": "stream",
     "text": [
      "Accumulate responses from folder\n",
      "\t2075486 / 2075486 [avg=1.00]\n"
     ]
    },
    {
     "name": "stderr",
     "output_type": "stream",
     "text": [
      "\n",
      "Clear data:   0%|          | 0/241 [00:00<?, ?it/s]\u001b[A\n",
      "Clear data:  11%|█         | 27/241 [00:02<00:16, 13.02it/s]\u001b[A\n",
      "Clear data:  22%|██▏       | 54/241 [00:04<00:14, 13.15it/s]\u001b[A\n",
      "Clear data:  34%|███▎      | 81/241 [00:06<00:13, 12.19it/s]\u001b[A\n",
      "Clear data:  44%|████▍     | 106/241 [00:08<00:11, 11.93it/s]\u001b[A\n",
      "Clear data:  54%|█████▍    | 130/241 [00:10<00:09, 11.43it/s]\u001b[A\n",
      "Clear data:  63%|██████▎   | 153/241 [00:13<00:07, 11.17it/s]\u001b[A\n",
      "Clear data:  73%|███████▎  | 176/241 [00:15<00:05, 10.98it/s]\u001b[A\n",
      "Clear data:  83%|████████▎ | 199/241 [00:17<00:03, 11.09it/s]\u001b[A\n",
      "Clear data:  95%|█████████▌| 229/241 [00:19<00:00, 12.19it/s]\u001b[A\n",
      "                                                             \u001b[A\n",
      "  0%|          | 0/68 [00:00<?, ?it/s]\u001b[A"
     ]
    },
    {
     "name": "stdout",
     "output_type": "stream",
     "text": [
      "Clear data\n",
      "\t2075486 / 201332 [avg 10.31]\n"
     ]
    },
    {
     "name": "stderr",
     "output_type": "stream",
     "text": [
      "\n",
      " 15%|█▍        | 10/68 [00:10<00:59,  1.03s/it]\u001b[A\n",
      " 37%|███▋      | 25/68 [00:20<00:34,  1.24it/s]\u001b[A"
     ]
    },
    {
     "name": "stdout",
     "output_type": "stream",
     "text": [
      "There are 1 new <class 'PTETA.utils.transport.kharkiv.KharkivTransportVehicle.KharkivTransportVehicle'> to inserted in DB\n"
     ]
    },
    {
     "name": "stderr",
     "output_type": "stream",
     "text": [
      "\n",
      " 59%|█████▉    | 40/68 [00:33<00:23,  1.19it/s]\u001b[A\n",
      " 76%|███████▋  | 52/68 [00:43<00:13,  1.19it/s]\u001b[A\n",
      "100%|██████████| 68/68 [00:57<00:00,  1.19it/s]\u001b[A\n",
      "100%|██████████| 3/3 [06:44<00:00, 134.70s/it]\n"
     ]
    }
   ],
   "source": [
    "BATCH_SIZE = 3_000\n",
    "connection_config= dict({\n",
    "    'host': os.environ['RDS_HOSTNAME'],\n",
    "    'database': \"pteta_db\",\n",
    "    'user': \"postgres\",\n",
    "    'password': os.environ['RDS_PTETA_DB_PASSWORD']\n",
    "})\n",
    "\n",
    "monitor = TransGPSCVMonitor(connection_config=connection_config, data_model=\"kharkiv\")\n",
    "\n",
    "# file_path_list =list(Path(\"../data/local/tables/\").iterdir())\n",
    "file_path_list =list(Path(\"D:/projects/pet_project/tables\").iterdir())\n",
    "file_path_list = sorted(file_path_list, \n",
    "                        key=lambda p: datetime.strptime(p.name[9:-4], '%d_%b_%Y') )\n",
    "\n",
    "for folder_path in tqdm(kharkiv_folders_list[:-1]):\n",
    "    df = accumulate_responses_from_folder(folder_path)\n",
    "    df_u = clear_data(df)       \n",
    "    \n",
    "    df_cur = df_u[:]\n",
    "\n",
    "    batch_tqdm = tqdm(df_cur.groupby(np.arange(len(df_cur)) // BATCH_SIZE), \n",
    "                     mininterval=10)\n",
    "    for batch_number, batch_df in batch_tqdm:\n",
    "        batch_df = batch_df.where(pd.notnull(batch_df), None)\n",
    "        monitor.write_to_db(batch_df.to_dict('records'))"
   ]
  },
  {
   "cell_type": "code",
   "execution_count": 6,
   "id": "91375bd3-905f-444c-88d1-56aefc0e273e",
   "metadata": {
    "collapsed": true,
    "jupyter": {
     "outputs_hidden": true
    },
    "tags": []
   },
   "outputs": [
    {
     "data": {
      "text/plain": [
       "{PTETA.utils.transport.kharkiv.KharkivTransportOperator.KharkivTransportOperator: {KharkivTransportOperator(id=-1, name='UNKNOWN')},\n",
       " PTETA.utils.transport.kharkiv.KharkivTransportRoute.KharkivTransportRoute: {KharkivTransportRoute(id=-1),\n",
       "  KharkivTransportRoute(id=1),\n",
       "  KharkivTransportRoute(id=10),\n",
       "  KharkivTransportRoute(id=11),\n",
       "  KharkivTransportRoute(id=12),\n",
       "  KharkivTransportRoute(id=13),\n",
       "  KharkivTransportRoute(id=14),\n",
       "  KharkivTransportRoute(id=15),\n",
       "  KharkivTransportRoute(id=16),\n",
       "  KharkivTransportRoute(id=17),\n",
       "  KharkivTransportRoute(id=18),\n",
       "  KharkivTransportRoute(id=19),\n",
       "  KharkivTransportRoute(id=2),\n",
       "  KharkivTransportRoute(id=20),\n",
       "  KharkivTransportRoute(id=21),\n",
       "  KharkivTransportRoute(id=22),\n",
       "  KharkivTransportRoute(id=23),\n",
       "  KharkivTransportRoute(id=24),\n",
       "  KharkivTransportRoute(id=25),\n",
       "  KharkivTransportRoute(id=5),\n",
       "  KharkivTransportRoute(id=6),\n",
       "  KharkivTransportRoute(id=7),\n",
       "  KharkivTransportRoute(id=8),\n",
       "  KharkivTransportRoute(id=9)},\n",
       " PTETA.utils.transport.kharkiv.KharkivTransportVehicle.KharkivTransportVehicle: {KharkivTransportVehicle(id=1, imei='359633101209752', name='None', owner_id=-1),\n",
       "  KharkivTransportVehicle(id=10, imei='353976014238996', name='None', owner_id=-1),\n",
       "  KharkivTransportVehicle(id=11, imei='357544377520933', name='None', owner_id=-1),\n",
       "  KharkivTransportVehicle(id=12, imei='352625697708343', name='None', owner_id=-1),\n",
       "  KharkivTransportVehicle(id=13, imei='357544377516782', name='None', owner_id=-1),\n",
       "  KharkivTransportVehicle(id=14, imei='357544377507484', name='None', owner_id=-1),\n",
       "  KharkivTransportVehicle(id=15, imei='357544375057474', name='None', owner_id=-1),\n",
       "  KharkivTransportVehicle(id=16, imei='353976013858851', name='None', owner_id=-1),\n",
       "  KharkivTransportVehicle(id=17, imei='352625699910806', name='None', owner_id=-1),\n",
       "  KharkivTransportVehicle(id=18, imei='353976014019719', name='None', owner_id=-1),\n",
       "  KharkivTransportVehicle(id=19, imei='359632105001538', name='None', owner_id=-1),\n",
       "  KharkivTransportVehicle(id=2, imei='354017114780279', name='None', owner_id=-1),\n",
       "  KharkivTransportVehicle(id=20, imei='353976013846062', name='None', owner_id=-1),\n",
       "  KharkivTransportVehicle(id=21, imei='353976014316503', name='None', owner_id=-1),\n",
       "  KharkivTransportVehicle(id=22, imei='352625698689823', name='None', owner_id=-1),\n",
       "  KharkivTransportVehicle(id=23, imei='357544375034143', name='None', owner_id=-1),\n",
       "  KharkivTransportVehicle(id=24, imei='353976014210854', name='None', owner_id=-1),\n",
       "  KharkivTransportVehicle(id=25, imei='353976014205938', name='None', owner_id=-1),\n",
       "  KharkivTransportVehicle(id=26, imei='357544376209926', name='None', owner_id=-1),\n",
       "  KharkivTransportVehicle(id=27, imei='352625696031960', name='None', owner_id=-1),\n",
       "  KharkivTransportVehicle(id=28, imei='352625697679627', name='None', owner_id=-1),\n",
       "  KharkivTransportVehicle(id=29, imei='353976014023612', name='None', owner_id=-1),\n",
       "  KharkivTransportVehicle(id=3, imei='353976014023992', name='None', owner_id=-1),\n",
       "  KharkivTransportVehicle(id=30, imei='352094086897037', name='None', owner_id=-1),\n",
       "  KharkivTransportVehicle(id=31, imei='352625698599667', name='None', owner_id=-1),\n",
       "  KharkivTransportVehicle(id=32, imei='353976014195691', name='None', owner_id=-1),\n",
       "  KharkivTransportVehicle(id=33, imei='353976013846450', name='None', owner_id=-1),\n",
       "  KharkivTransportVehicle(id=34, imei='353976013861699', name='None', owner_id=-1),\n",
       "  KharkivTransportVehicle(id=35, imei='353976014021749', name='None', owner_id=-1),\n",
       "  KharkivTransportVehicle(id=36, imei='353976014249548', name='None', owner_id=-1),\n",
       "  KharkivTransportVehicle(id=4, imei='357544377505330', name='None', owner_id=-1),\n",
       "  KharkivTransportVehicle(id=5, imei='354017114829639', name='None', owner_id=-1),\n",
       "  KharkivTransportVehicle(id=6, imei='353976014016210', name='None', owner_id=-1),\n",
       "  KharkivTransportVehicle(id=7, imei='357544377521535', name='None', owner_id=-1),\n",
       "  KharkivTransportVehicle(id=8, imei='354017114785740', name='None', owner_id=-1),\n",
       "  KharkivTransportVehicle(id=9, imei='354330030970225', name='None', owner_id=-1)}}"
      ]
     },
     "execution_count": 6,
     "metadata": {},
     "output_type": "execute_result"
    }
   ],
   "source": [
    "monitor.objects_unique"
   ]
  },
  {
   "cell_type": "code",
   "execution_count": 7,
   "id": "5ae9816b-cfae-401f-b2a4-d04b20172096",
   "metadata": {},
   "outputs": [
    {
     "name": "stdout",
     "output_type": "stream",
     "text": [
      "There are 1 new <class 'PTETA.utils.transport.kharkiv.KharkivTransportRoute.KharkivTransportRoute'> to inserted in DB\n"
     ]
    },
    {
     "ename": "KeyError",
     "evalue": "KharkivTransportRoute(id=None)",
     "output_type": "error",
     "traceback": [
      "\u001b[1;31m---------------------------------------------------------------------------\u001b[0m",
      "\u001b[1;31mKeyError\u001b[0m                                  Traceback (most recent call last)",
      "\u001b[1;32m~\\AppData\\Local\\Temp\\ipykernel_12604\\3089867365.py\u001b[0m in \u001b[0;36m<module>\u001b[1;34m\u001b[0m\n\u001b[0;32m      9\u001b[0m \u001b[1;32mfor\u001b[0m \u001b[0mi\u001b[0m\u001b[1;33m,\u001b[0m \u001b[1;33m(\u001b[0m\u001b[0mvehicle\u001b[0m\u001b[1;33m,\u001b[0m \u001b[0mroute\u001b[0m\u001b[1;33m)\u001b[0m \u001b[1;32min\u001b[0m \u001b[0menumerate\u001b[0m\u001b[1;33m(\u001b[0m\u001b[0mzip\u001b[0m\u001b[1;33m(\u001b[0m\u001b[0mvehicle_list\u001b[0m\u001b[1;33m,\u001b[0m \u001b[0mroute_list\u001b[0m\u001b[1;33m)\u001b[0m\u001b[1;33m)\u001b[0m\u001b[1;33m:\u001b[0m\u001b[1;33m\u001b[0m\u001b[1;33m\u001b[0m\u001b[0m\n\u001b[0;32m     10\u001b[0m     \u001b[0mavl_data_list\u001b[0m\u001b[1;33m[\u001b[0m\u001b[0mi\u001b[0m\u001b[1;33m]\u001b[0m\u001b[1;33m.\u001b[0m\u001b[0mvehicle_id\u001b[0m \u001b[1;33m=\u001b[0m \u001b[0mmonitor\u001b[0m\u001b[1;33m.\u001b[0m\u001b[0mvehicle_to_id\u001b[0m\u001b[1;33m[\u001b[0m\u001b[0mvehicle\u001b[0m\u001b[1;33m]\u001b[0m\u001b[1;33m\u001b[0m\u001b[1;33m\u001b[0m\u001b[0m\n\u001b[1;32m---> 11\u001b[1;33m     \u001b[0mavl_data_list\u001b[0m\u001b[1;33m[\u001b[0m\u001b[0mi\u001b[0m\u001b[1;33m]\u001b[0m\u001b[1;33m.\u001b[0m\u001b[0mroute_id\u001b[0m \u001b[1;33m=\u001b[0m \u001b[0mmonitor\u001b[0m\u001b[1;33m.\u001b[0m\u001b[0mroute_to_id\u001b[0m\u001b[1;33m[\u001b[0m\u001b[0mroute\u001b[0m\u001b[1;33m]\u001b[0m\u001b[1;33m\u001b[0m\u001b[1;33m\u001b[0m\u001b[0m\n\u001b[0m",
      "\u001b[1;31mKeyError\u001b[0m: KharkivTransportRoute(id=None)"
     ]
    }
   ],
   "source": [
    "operator_list, route_list, vehicle_list, avl_data_list = monitor.decompose_response(batch_df.to_dict('records'))\n",
    "\n",
    "for obj_list in [operator_list, route_list, vehicle_list]:\n",
    "    new_obj = monitor.get_new_objs(obj_list)\n",
    "    if new_obj:\n",
    "        print(f\"There are {len(new_obj)} new {new_obj[0].__class__} to inserted in DB\")\n",
    "        monitor.update_db(new_obj)\n",
    "\n",
    "for i, (vehicle, route) in enumerate(zip(vehicle_list, route_list)):\n",
    "    avl_data_list[i].vehicle_id = monitor.vehicle_to_id[vehicle]\n",
    "    avl_data_list[i].route_id = monitor.route_to_id[route]\n"
   ]
  },
  {
   "cell_type": "code",
   "execution_count": 8,
   "id": "309ef37f-92ac-4119-b9c5-e95d910323d8",
   "metadata": {},
   "outputs": [
    {
     "data": {
      "text/plain": [
       "(732,\n",
       " (KharkivTransportVehicle(id=None, imei='353976014249548', name='None', owner_id=-1),\n",
       "  KharkivTransportRoute(id=None)))"
      ]
     },
     "execution_count": 8,
     "metadata": {},
     "output_type": "execute_result"
    }
   ],
   "source": [
    "i, (vehicle, route)"
   ]
  },
  {
   "cell_type": "code",
   "execution_count": 9,
   "id": "2f767c75-08fb-4d8a-8300-9df62cb51fee",
   "metadata": {},
   "outputs": [
    {
     "data": {
      "text/plain": [
       "(None, '27', 1)"
      ]
     },
     "execution_count": 9,
     "metadata": {},
     "output_type": "execute_result"
    }
   ],
   "source": [
    "route.id, route.name, route.type"
   ]
  },
  {
   "cell_type": "code",
   "execution_count": null,
   "id": "c9ce9570-3e86-485f-850e-5ff346fe6c21",
   "metadata": {},
   "outputs": [],
   "source": [
    "route.__"
   ]
  },
  {
   "cell_type": "code",
   "execution_count": 10,
   "id": "7edcd5fa-d602-4c3b-b64a-70f13a00a0fb",
   "metadata": {},
   "outputs": [
    {
     "data": {
      "text/plain": [
       "[(8, '8', 1),\n",
       " (25, '28', 1),\n",
       " (9, '208', 3),\n",
       " (16, '3', 2),\n",
       " (23, '75', 3),\n",
       " (6, '204', 3),\n",
       " (22, '68', 3),\n",
       " (15, '206', 3),\n",
       " (14, '212', 3),\n",
       " (19, '51', 2),\n",
       " (-1, 'UNKNOWN', -1),\n",
       " (17, '1', 2),\n",
       " (21, '20', 1),\n",
       " (18, '6', 2),\n",
       " (7, '45', 2),\n",
       " (12, '35', 2),\n",
       " (11, '46', 2),\n",
       " (1, '52', 2),\n",
       " (2, '55', 2),\n",
       " (5, '24', 2),\n",
       " (20, '13', 2),\n",
       " (13, '72', 3),\n",
       " (10, '34', 2),\n",
       " (24, '27', 2)]"
      ]
     },
     "execution_count": 10,
     "metadata": {},
     "output_type": "execute_result"
    }
   ],
   "source": [
    "[(r.id, r.name, r.type) for r in monitor.objects_unique[route.__class__]]"
   ]
  },
  {
   "cell_type": "code",
   "execution_count": 1,
   "id": "bf8fd68e-ef48-423e-8319-cb82b14567ba",
   "metadata": {},
   "outputs": [
    {
     "ename": "NameError",
     "evalue": "name 'batch_df' is not defined",
     "output_type": "error",
     "traceback": [
      "\u001b[1;31m---------------------------------------------------------------------------\u001b[0m",
      "\u001b[1;31mNameError\u001b[0m                                 Traceback (most recent call last)",
      "\u001b[1;32m~\\AppData\\Local\\Temp\\ipykernel_22432\\417631372.py\u001b[0m in \u001b[0;36m<module>\u001b[1;34m\u001b[0m\n\u001b[1;32m----> 1\u001b[1;33m \u001b[0mbatch_df\u001b[0m\u001b[1;33m\u001b[0m\u001b[1;33m\u001b[0m\u001b[0m\n\u001b[0m",
      "\u001b[1;31mNameError\u001b[0m: name 'batch_df' is not defined"
     ]
    }
   ],
   "source": []
  },
  {
   "cell_type": "code",
   "execution_count": 7,
   "id": "3f29b94c-dd47-476d-a0c0-556675f67de4",
   "metadata": {
    "collapsed": true,
    "jupyter": {
     "outputs_hidden": true
    },
    "tags": []
   },
   "outputs": [
    {
     "name": "stderr",
     "output_type": "stream",
     "text": [
      "  0%|          | 0/124 [00:00<?, ?it/s]"
     ]
    },
    {
     "name": "stdout",
     "output_type": "stream",
     "text": [
      "There are 2 new <class 'PTETA.utils.transport.kharkiv.KharkivTransportRoute.KharkivTransportRoute'> to inserted in DB\n",
      "Error raised while select <class 'PTETA.utils.transport.kharkiv.KharkivTransportRoute.KharkivTransportRoute'> '[KharkivTransportRoute(id=None, name='52', type=2), KharkivTransportRoute(id=None, name='55', type=2)]'\n"
     ]
    },
    {
     "name": "stderr",
     "output_type": "stream",
     "text": [
      "\n"
     ]
    },
    {
     "ename": "SyntaxError",
     "evalue": "syntax error at or near \"AND\"\nLINE 1: SELECT \"name\", \"type\" FROM kharkiv.route  WHERE ( AND \"name\"...\n                                                          ^\n",
     "output_type": "error",
     "traceback": [
      "\u001b[1;31m---------------------------------------------------------------------------\u001b[0m",
      "\u001b[1;31mSyntaxError\u001b[0m                               Traceback (most recent call last)",
      "\u001b[1;32m~\\AppData\\Local\\Temp\\ipykernel_12996\\2812780026.py\u001b[0m in \u001b[0;36m<module>\u001b[1;34m\u001b[0m\n\u001b[0;32m      5\u001b[0m \u001b[1;32mfor\u001b[0m \u001b[0mbatch_number\u001b[0m\u001b[1;33m,\u001b[0m \u001b[0mbatch_df\u001b[0m \u001b[1;32min\u001b[0m \u001b[0mbatch_tqdm\u001b[0m\u001b[1;33m:\u001b[0m\u001b[1;33m\u001b[0m\u001b[1;33m\u001b[0m\u001b[0m\n\u001b[0;32m      6\u001b[0m     \u001b[0mbatch_df\u001b[0m \u001b[1;33m=\u001b[0m \u001b[0mbatch_df\u001b[0m\u001b[1;33m.\u001b[0m\u001b[0mwhere\u001b[0m\u001b[1;33m(\u001b[0m\u001b[0mpd\u001b[0m\u001b[1;33m.\u001b[0m\u001b[0mnotnull\u001b[0m\u001b[1;33m(\u001b[0m\u001b[0mbatch_df\u001b[0m\u001b[1;33m)\u001b[0m\u001b[1;33m,\u001b[0m \u001b[1;32mNone\u001b[0m\u001b[1;33m)\u001b[0m\u001b[1;33m\u001b[0m\u001b[1;33m\u001b[0m\u001b[0m\n\u001b[1;32m----> 7\u001b[1;33m     \u001b[0mmonitor\u001b[0m\u001b[1;33m.\u001b[0m\u001b[0mwrite_to_db\u001b[0m\u001b[1;33m(\u001b[0m\u001b[0mbatch_df\u001b[0m\u001b[1;33m.\u001b[0m\u001b[0mto_dict\u001b[0m\u001b[1;33m(\u001b[0m\u001b[1;34m'records'\u001b[0m\u001b[1;33m)\u001b[0m\u001b[1;33m)\u001b[0m\u001b[1;33m\u001b[0m\u001b[1;33m\u001b[0m\u001b[0m\n\u001b[0m",
      "\u001b[1;32mD:\\projects\\PTETA\\aws\\src\\TransGPSCVMonitor.py\u001b[0m in \u001b[0;36mwrite_to_db\u001b[1;34m(self, response)\u001b[0m\n\u001b[0;32m    138\u001b[0m             \u001b[1;32mif\u001b[0m \u001b[0mnew_obj\u001b[0m\u001b[1;33m:\u001b[0m\u001b[1;33m\u001b[0m\u001b[1;33m\u001b[0m\u001b[0m\n\u001b[0;32m    139\u001b[0m                 \u001b[0mprint\u001b[0m\u001b[1;33m(\u001b[0m\u001b[1;34mf\"There are {len(new_obj)} new {new_obj[0].__class__} to inserted in DB\"\u001b[0m\u001b[1;33m)\u001b[0m\u001b[1;33m\u001b[0m\u001b[1;33m\u001b[0m\u001b[0m\n\u001b[1;32m--> 140\u001b[1;33m                 \u001b[0mself\u001b[0m\u001b[1;33m.\u001b[0m\u001b[0mupdate_db\u001b[0m\u001b[1;33m(\u001b[0m\u001b[0mnew_obj\u001b[0m\u001b[1;33m)\u001b[0m\u001b[1;33m\u001b[0m\u001b[1;33m\u001b[0m\u001b[0m\n\u001b[0m\u001b[0;32m    141\u001b[0m \u001b[1;33m\u001b[0m\u001b[0m\n\u001b[0;32m    142\u001b[0m         \u001b[1;32mfor\u001b[0m \u001b[0mi\u001b[0m\u001b[1;33m,\u001b[0m \u001b[1;33m(\u001b[0m\u001b[0mvehicle\u001b[0m\u001b[1;33m,\u001b[0m \u001b[0mroute\u001b[0m\u001b[1;33m)\u001b[0m \u001b[1;32min\u001b[0m \u001b[0menumerate\u001b[0m\u001b[1;33m(\u001b[0m\u001b[0mzip\u001b[0m\u001b[1;33m(\u001b[0m\u001b[0mvehicle_list\u001b[0m\u001b[1;33m,\u001b[0m \u001b[0mroute_list\u001b[0m\u001b[1;33m)\u001b[0m\u001b[1;33m)\u001b[0m\u001b[1;33m:\u001b[0m\u001b[1;33m\u001b[0m\u001b[1;33m\u001b[0m\u001b[0m\n",
      "\u001b[1;32mD:\\projects\\PTETA\\aws\\src\\TransGPSCVMonitor.py\u001b[0m in \u001b[0;36mupdate_db\u001b[1;34m(self, obj_list)\u001b[0m\n\u001b[0;32m     93\u001b[0m     \u001b[1;32mdef\u001b[0m \u001b[0mupdate_db\u001b[0m\u001b[1;33m(\u001b[0m\u001b[0mself\u001b[0m\u001b[1;33m,\u001b[0m \u001b[0mobj_list\u001b[0m\u001b[1;33m:\u001b[0m \u001b[0mList\u001b[0m\u001b[1;33m[\u001b[0m\u001b[0mBaseDBAccessDataclass\u001b[0m\u001b[1;33m]\u001b[0m\u001b[1;33m)\u001b[0m\u001b[1;33m:\u001b[0m\u001b[1;33m\u001b[0m\u001b[1;33m\u001b[0m\u001b[0m\n\u001b[0;32m     94\u001b[0m         \u001b[0mcurrent_class\u001b[0m \u001b[1;33m=\u001b[0m \u001b[0mobj_list\u001b[0m\u001b[1;33m[\u001b[0m\u001b[1;36m0\u001b[0m\u001b[1;33m]\u001b[0m\u001b[1;33m.\u001b[0m\u001b[0m__class__\u001b[0m\u001b[1;33m\u001b[0m\u001b[1;33m\u001b[0m\u001b[0m\n\u001b[1;32m---> 95\u001b[1;33m         \u001b[0mare_in_db_list\u001b[0m \u001b[1;33m=\u001b[0m \u001b[0mcurrent_class\u001b[0m\u001b[1;33m.\u001b[0m\u001b[0mare_in_table\u001b[0m\u001b[1;33m(\u001b[0m\u001b[0mself\u001b[0m\u001b[1;33m.\u001b[0m\u001b[0mdb_connection\u001b[0m\u001b[1;33m,\u001b[0m \u001b[0mobj_list\u001b[0m\u001b[1;33m)\u001b[0m\u001b[1;33m\u001b[0m\u001b[1;33m\u001b[0m\u001b[0m\n\u001b[0m\u001b[0;32m     96\u001b[0m \u001b[1;33m\u001b[0m\u001b[0m\n\u001b[0;32m     97\u001b[0m         obj_to_insert = [obj\n",
      "\u001b[1;32mD:\\projects\\PTETA\\PTETA\\utils\\transport\\BaseDBAccessDataclass.py\u001b[0m in \u001b[0;36mare_in_table\u001b[1;34m(cls, connection, obj_list)\u001b[0m\n\u001b[0;32m     40\u001b[0m                 \u001b[0mconnection\u001b[0m\u001b[1;33m.\u001b[0m\u001b[0mrollback\u001b[0m\u001b[1;33m(\u001b[0m\u001b[1;33m)\u001b[0m\u001b[1;33m\u001b[0m\u001b[1;33m\u001b[0m\u001b[0m\n\u001b[0;32m     41\u001b[0m                 \u001b[0mprint\u001b[0m\u001b[1;33m(\u001b[0m\u001b[1;34mf\"Error raised while select {cls} '{obj_list}'\"\u001b[0m\u001b[1;33m)\u001b[0m\u001b[1;33m\u001b[0m\u001b[1;33m\u001b[0m\u001b[0m\n\u001b[1;32m---> 42\u001b[1;33m                 \u001b[1;32mraise\u001b[0m \u001b[0merr\u001b[0m\u001b[1;33m\u001b[0m\u001b[1;33m\u001b[0m\u001b[0m\n\u001b[0m\u001b[0;32m     43\u001b[0m \u001b[1;33m\u001b[0m\u001b[0m\n\u001b[0;32m     44\u001b[0m     \u001b[1;32mdef\u001b[0m \u001b[0minsert_in_table\u001b[0m\u001b[1;33m(\u001b[0m\u001b[0mself\u001b[0m\u001b[1;33m,\u001b[0m \u001b[0mconnection\u001b[0m\u001b[1;33m:\u001b[0m \u001b[0mConnection\u001b[0m\u001b[1;33m)\u001b[0m \u001b[1;33m->\u001b[0m \u001b[1;32mNone\u001b[0m\u001b[1;33m:\u001b[0m\u001b[1;33m\u001b[0m\u001b[1;33m\u001b[0m\u001b[0m\n",
      "\u001b[1;32mD:\\projects\\PTETA\\PTETA\\utils\\transport\\BaseDBAccessDataclass.py\u001b[0m in \u001b[0;36mare_in_table\u001b[1;34m(cls, connection, obj_list)\u001b[0m\n\u001b[0;32m     34\u001b[0m         \u001b[1;32mwith\u001b[0m \u001b[0mconnection\u001b[0m\u001b[1;33m.\u001b[0m\u001b[0mcursor\u001b[0m\u001b[1;33m(\u001b[0m\u001b[1;33m)\u001b[0m \u001b[1;32mas\u001b[0m \u001b[0mcursor\u001b[0m\u001b[1;33m:\u001b[0m\u001b[1;33m\u001b[0m\u001b[1;33m\u001b[0m\u001b[0m\n\u001b[0;32m     35\u001b[0m             \u001b[1;32mtry\u001b[0m\u001b[1;33m:\u001b[0m\u001b[1;33m\u001b[0m\u001b[1;33m\u001b[0m\u001b[0m\n\u001b[1;32m---> 36\u001b[1;33m                 \u001b[0mcursor\u001b[0m\u001b[1;33m.\u001b[0m\u001b[0mexecute\u001b[0m\u001b[1;33m(\u001b[0m\u001b[0msql\u001b[0m\u001b[1;33m)\u001b[0m\u001b[1;33m\u001b[0m\u001b[1;33m\u001b[0m\u001b[0m\n\u001b[0m\u001b[0;32m     37\u001b[0m                 \u001b[0mresponse_set\u001b[0m \u001b[1;33m=\u001b[0m \u001b[0mset\u001b[0m\u001b[1;33m(\u001b[0m\u001b[1;33m[\u001b[0m\u001b[0mcls\u001b[0m\u001b[1;33m(\u001b[0m\u001b[1;33m*\u001b[0m\u001b[0mrow\u001b[0m\u001b[1;33m)\u001b[0m \u001b[1;32mfor\u001b[0m \u001b[0mrow\u001b[0m \u001b[1;32min\u001b[0m \u001b[0mcursor\u001b[0m\u001b[1;33m.\u001b[0m\u001b[0mfetchall\u001b[0m\u001b[1;33m(\u001b[0m\u001b[1;33m)\u001b[0m\u001b[1;33m]\u001b[0m\u001b[1;33m)\u001b[0m\u001b[1;33m\u001b[0m\u001b[1;33m\u001b[0m\u001b[0m\n\u001b[0;32m     38\u001b[0m                 \u001b[1;32mreturn\u001b[0m \u001b[1;33m[\u001b[0m\u001b[0mobj\u001b[0m \u001b[1;32min\u001b[0m \u001b[0mresponse_set\u001b[0m \u001b[1;32mfor\u001b[0m \u001b[0mobj\u001b[0m \u001b[1;32min\u001b[0m \u001b[0mobj_list\u001b[0m\u001b[1;33m]\u001b[0m\u001b[1;33m\u001b[0m\u001b[1;33m\u001b[0m\u001b[0m\n",
      "\u001b[1;31mSyntaxError\u001b[0m: syntax error at or near \"AND\"\nLINE 1: SELECT \"name\", \"type\" FROM kharkiv.route  WHERE ( AND \"name\"...\n                                                          ^\n"
     ]
    }
   ],
   "source": [
    "#     df_cur = df_u[:]\n",
    "\n",
    "batch_tqdm = tqdm(df_cur.groupby(np.arange(len(df_cur)) // BATCH_SIZE), \n",
    "                  miniters=40)\n",
    "for batch_number, batch_df in batch_tqdm:\n",
    "    batch_df = batch_df.where(pd.notnull(batch_df), None)\n",
    "    monitor.write_to_db(batch_df.to_dict('records'))"
   ]
  },
  {
   "cell_type": "code",
   "execution_count": null,
   "id": "32abd831-aef0-4831-88ca-3dfd01636b65",
   "metadata": {},
   "outputs": [],
   "source": []
  },
  {
   "cell_type": "code",
   "execution_count": null,
   "id": "1b865427-2271-4b84-97aa-b7977dda0f54",
   "metadata": {},
   "outputs": [],
   "source": []
  },
  {
   "cell_type": "code",
   "execution_count": 32,
   "id": "1f9fa05e-f3e2-483a-ba23-7f6f149f2e54",
   "metadata": {},
   "outputs": [],
   "source": [
    "from psycopg2.extras import RealDictCursor\n",
    "connection_config= dict({\n",
    "    'host': os.environ['RDS_HOSTNAME'],\n",
    "    'database': \"pteta_db\",\n",
    "    'user': \"postgres\",\n",
    "    'password': os.environ['RDS_PTETA_DB_PASSWORD']\n",
    "})\n",
    "conn = psycopg2.connect(**connection_config)\n",
    "\n",
    "# cur = connection.cursor(cursor_factory = RealDictCursor)"
   ]
  },
  {
   "cell_type": "code",
   "execution_count": 54,
   "id": "0bc04d1c-8ff7-482d-b577-dcda7ea98340",
   "metadata": {},
   "outputs": [
    {
     "name": "stdout",
     "output_type": "stream",
     "text": [
      "[{'id': -1, 'name': 'UNKNOWN', 'type': -1}, {'id': 1, 'name': '52', 'type': 2}, {'id': 2, 'name': '55', 'type': 2}, {'id': 3, 'name': '24', 'type': 2}, {'id': 4, 'name': '204', 'type': 3}, {'id': 5, 'name': '45', 'type': 2}, {'id': 6, 'name': '8', 'type': 1}, {'id': 7, 'name': '208', 'type': 3}, {'id': 8, 'name': '34', 'type': 2}, {'id': 9, 'name': '46', 'type': 2}, {'id': 10, 'name': '35', 'type': 2}, {'id': 11, 'name': '72', 'type': 3}, {'id': 12, 'name': '212', 'type': 3}, {'id': 13, 'name': '206', 'type': 3}, {'id': 14, 'name': '3', 'type': 2}, {'id': 15, 'name': '1', 'type': 2}, {'id': 16, 'name': '6', 'type': 2}, {'id': 17, 'name': '51', 'type': 2}, {'id': 18, 'name': '13', 'type': 2}, {'id': 19, 'name': '20', 'type': 1}, {'id': 20, 'name': '68', 'type': 3}, {'id': 21, 'name': '75', 'type': 3}, {'id': 22, 'name': '27', 'type': 2}, {'id': 23, 'name': '28', 'type': 1}, {'id': 24, 'name': '27', 'type': 1}, {'id': 25, 'name': '281', 'type': 3}, {'id': 26, 'name': '119', 'type': 2}, {'id': 27, 'name': '3', 'type': 1}, {'id': 28, 'name': '19', 'type': 2}, {'id': 29, 'name': '63', 'type': 3}, {'id': 30, 'name': '272', 'type': 3}, {'id': 31, 'name': '209', 'type': 3}, {'id': 32, 'name': '49', 'type': 2}, {'id': 33, 'name': '219', 'type': 3}, {'id': 34, 'name': '5', 'type': 2}, {'id': 35, 'name': '58', 'type': 3}, {'id': 36, 'name': '33', 'type': 3}, {'id': 37, 'name': '107', 'type': 3}, {'id': 38, 'name': '41', 'type': 3}, {'id': 39, 'name': '6', 'type': 1}, {'id': 40, 'name': '243', 'type': 3}, {'id': 41, 'name': '102', 'type': 3}, {'id': 42, 'name': '11', 'type': 2}, {'id': 43, 'name': '31', 'type': 2}, {'id': 44, 'name': '304', 'type': 2}, {'id': 45, 'name': '260', 'type': 3}, {'id': 46, 'name': '67', 'type': 3}, {'id': 47, 'name': '77', 'type': 3}, {'id': 48, 'name': '296', 'type': 3}, {'id': 49, 'name': '32', 'type': 3}, {'id': 50, 'name': '20', 'type': 2}, {'id': 51, 'name': '140', 'type': 3}, {'id': 52, 'name': '1', 'type': 1}, {'id': 53, 'name': '40', 'type': 2}, {'id': 54, 'name': '53', 'type': 2}, {'id': 55, 'name': '25', 'type': 2}, {'id': 56, 'name': '94', 'type': 3}, {'id': 57, 'name': '7', 'type': 2}, {'id': 58, 'name': '7', 'type': 1}, {'id': 59, 'name': '18', 'type': 2}, {'id': 60, 'name': '56', 'type': 2}, {'id': 61, 'name': '99', 'type': 3}, {'id': 62, 'name': '267', 'type': 2}, {'id': 63, 'name': '83', 'type': 3}, {'id': 64, 'name': '64', 'type': 3}, {'id': 65, 'name': '224', 'type': 3}, {'id': 66, 'name': '28', 'type': 3}, {'id': 67, 'name': '20', 'type': 3}, {'id': 68, 'name': '47', 'type': 3}, {'id': 69, 'name': '241', 'type': 3}, {'id': 70, 'name': '123', 'type': 3}, {'id': 71, 'name': '266', 'type': 3}, {'id': 72, 'name': '22', 'type': 3}, {'id': 73, 'name': '25', 'type': 3}, {'id': 74, 'name': '273', 'type': 3}, {'id': 75, 'name': '78', 'type': 3}, {'id': 76, 'name': '128', 'type': 3}, {'id': 77, 'name': '12', 'type': 2}, {'id': 78, 'name': '21', 'type': 3}]\n"
     ]
    }
   ],
   "source": [
    "with conn.cursor() as cur : \n",
    "    cur.execute('SELECT id, \"name\", \"type\" FROM kharkiv.route;')\n",
    "    columns = [desc[0] for desc in cur.description]\n",
    "    real_dict = [dict(zip(columns, row)) for row in cur.fetchall()]\n",
    "    print(real_dict)"
   ]
  },
  {
   "cell_type": "code",
   "execution_count": 55,
   "id": "5ea7d143-980c-48c1-8956-27f6d5d97e20",
   "metadata": {},
   "outputs": [
    {
     "ename": "SyntaxError",
     "evalue": "invalid syntax (2672971826.py, line 1)",
     "output_type": "error",
     "traceback": [
      "\u001b[1;36m  File \u001b[1;32m\"C:\\Users\\Вадим\\AppData\\Local\\Temp\\ipykernel_22432\\2672971826.py\"\u001b[1;36m, line \u001b[1;32m1\u001b[0m\n\u001b[1;33m    **real_dict\u001b[0m\n\u001b[1;37m    ^\u001b[0m\n\u001b[1;31mSyntaxError\u001b[0m\u001b[1;31m:\u001b[0m invalid syntax\n"
     ]
    }
   ],
   "source": [
    "**real_dict"
   ]
  },
  {
   "cell_type": "code",
   "execution_count": 48,
   "id": "a853211e-50bb-4b6b-b581-631d039a9d57",
   "metadata": {},
   "outputs": [
    {
     "data": {
      "text/plain": [
       "['id', 'name']"
      ]
     },
     "execution_count": 48,
     "metadata": {},
     "output_type": "execute_result"
    }
   ],
   "source": []
  },
  {
   "cell_type": "code",
   "execution_count": 13,
   "id": "eb3b1cc2-f3c6-4f08-91a7-31d5c5e068c0",
   "metadata": {},
   "outputs": [
    {
     "data": {
      "text/plain": [
       "(54701, 'trans_2023-02-23 14;31;48.json')"
      ]
     },
     "execution_count": 13,
     "metadata": {},
     "output_type": "execute_result"
    }
   ],
   "source": [
    "cv_req_path = Path(r\"D:\\projects\\pet_project\\trans_data_23_FEB_2023\")\n",
    "len([p.name for p in cv_req_path.iterdir()]), [p.name for p in cv_req_path.iterdir()][30_000]"
   ]
  },
  {
   "cell_type": "code",
   "execution_count": 14,
   "id": "c8e1711e-89c3-43e9-b918-41d00c806e42",
   "metadata": {},
   "outputs": [],
   "source": [
    "with open(cv_req_path/'trans_2023-02-23 14;31;48.json', 'r', encoding='utf-8') as file:\n",
    "    resp = json.load(file)"
   ]
  },
  {
   "cell_type": "code",
   "execution_count": 15,
   "id": "3cb19cd0-2fd0-4f23-acc0-968bb8e7ec39",
   "metadata": {
    "collapsed": true,
    "jupyter": {
     "outputs_hidden": true
    },
    "tags": []
   },
   "outputs": [
    {
     "data": {
      "text/plain": [
       "{'355227045533718': {'id': 156,\n",
       "  'imei': '355227045533718',\n",
       "  'name': 'A79',\n",
       "  'stateCode': 'used',\n",
       "  'stateName': 'used',\n",
       "  'lat': 48.26898333333333,\n",
       "  'lng': 25.927051666666667,\n",
       "  'speed': '022.4',\n",
       "  'orientation': '220.37',\n",
       "  'gpstime': '2023-02-23 13:31:46',\n",
       "  'routeId': 2,\n",
       "  'routeName': '11',\n",
       "  'routeColour': 'green',\n",
       "  'inDepo': False,\n",
       "  'busNumber': '9034',\n",
       "  'perevId': 1,\n",
       "  'perevName': 'Денисівка',\n",
       "  'remark': '9034 DNSNK',\n",
       "  'online': True,\n",
       "  'idBusTypes': 1},\n",
       " '355227046451662': {'id': 394,\n",
       "  'imei': '355227046451662',\n",
       "  'name': 'H76',\n",
       "  'stateCode': 'used',\n",
       "  'stateName': 'used',\n",
       "  'lat': 48.292473333333334,\n",
       "  'lng': 25.935496666666666,\n",
       "  'speed': '000.0',\n",
       "  'orientation': '089.35',\n",
       "  'gpstime': '2023-02-23 13:31:46',\n",
       "  'routeId': 31,\n",
       "  'routeName': '6/6a',\n",
       "  'routeColour': 'deeppink',\n",
       "  'inDepo': False,\n",
       "  'busNumber': '350',\n",
       "  'perevId': 6,\n",
       "  'perevName': 'ЧТУ',\n",
       "  'remark': 'Тролейбус 350 DNSNTNK',\n",
       "  'online': True,\n",
       "  'idBusTypes': 2},\n",
       " '355228042956811': {'id': 413,\n",
       "  'imei': '355228042956811',\n",
       "  'name': 'H95',\n",
       "  'stateCode': 'used',\n",
       "  'stateName': 'used',\n",
       "  'lat': 48.2687,\n",
       "  'lng': 25.948171666666667,\n",
       "  'speed': '009.4',\n",
       "  'orientation': '317.17',\n",
       "  'gpstime': '2023-02-23 13:31:46',\n",
       "  'routeId': 45,\n",
       "  'routeName': '1',\n",
       "  'routeColour': 'navy',\n",
       "  'inDepo': False,\n",
       "  'busNumber': '1097',\n",
       "  'perevId': 12,\n",
       "  'perevName': 'Vitaliy2019',\n",
       "  'remark': '1097 DNSNTNK',\n",
       "  'online': True,\n",
       "  'idBusTypes': 1},\n",
       " '355227046451035': {'id': 340,\n",
       "  'imei': '355227046451035',\n",
       "  'name': 'H22',\n",
       "  'stateCode': 'used',\n",
       "  'stateName': 'used',\n",
       "  'lat': 48.26779833333333,\n",
       "  'lng': 25.939661666666666,\n",
       "  'speed': '000.0',\n",
       "  'orientation': '167.19',\n",
       "  'gpstime': '2023-02-23 13:31:46',\n",
       "  'routeId': 4,\n",
       "  'routeName': '5',\n",
       "  'routeColour': 'orange',\n",
       "  'inDepo': False,\n",
       "  'busNumber': '8276',\n",
       "  'perevId': 1,\n",
       "  'perevName': 'Денисівка',\n",
       "  'remark': '8276 DNSNTNK',\n",
       "  'online': True,\n",
       "  'idBusTypes': 1},\n",
       " '355227046313847': {'id': 271,\n",
       "  'imei': '355227046313847',\n",
       "  'name': 'A184',\n",
       "  'stateCode': 'used',\n",
       "  'stateName': 'used',\n",
       "  'lat': 48.28424166666667,\n",
       "  'lng': 25.932843333333334,\n",
       "  'speed': '028.1',\n",
       "  'orientation': '194.22',\n",
       "  'gpstime': '2023-02-23 13:31:46',\n",
       "  'routeId': 31,\n",
       "  'routeName': '6/6a',\n",
       "  'routeColour': 'deeppink',\n",
       "  'inDepo': False,\n",
       "  'busNumber': '387',\n",
       "  'perevId': 6,\n",
       "  'perevName': 'ЧТУ',\n",
       "  'remark': ' тролейбус 387 DNSNK',\n",
       "  'online': True,\n",
       "  'idBusTypes': 2},\n",
       " '355227046299129': {'id': 273,\n",
       "  'imei': '355227046299129',\n",
       "  'name': 'A186',\n",
       "  'stateCode': 'used',\n",
       "  'stateName': 'used',\n",
       "  'lat': 48.263895,\n",
       "  'lng': 25.95057,\n",
       "  'speed': '000.2',\n",
       "  'orientation': '000.00',\n",
       "  'gpstime': '2023-02-23 13:31:46',\n",
       "  'routeId': 33,\n",
       "  'routeName': '8T',\n",
       "  'routeColour': 'coral',\n",
       "  'inDepo': False,\n",
       "  'busNumber': '389',\n",
       "  'perevId': 6,\n",
       "  'perevName': 'ЧТУ',\n",
       "  'remark': 'Тролейбус 389 DNSNK',\n",
       "  'online': True,\n",
       "  'idBusTypes': 2},\n",
       " '355227046451407': {'id': 386,\n",
       "  'imei': '355227046451407',\n",
       "  'name': 'H68',\n",
       "  'stateCode': 'used',\n",
       "  'stateName': 'used',\n",
       "  'lat': 48.2911,\n",
       "  'lng': 25.94162,\n",
       "  'speed': '024.9',\n",
       "  'orientation': '081.82',\n",
       "  'gpstime': '2023-02-23 13:31:46',\n",
       "  'routeId': 42,\n",
       "  'routeName': '39',\n",
       "  'routeColour': 'coral',\n",
       "  'inDepo': False,\n",
       "  'busNumber': '0855',\n",
       "  'perevId': 13,\n",
       "  'perevName': 'Олег Валентинович 39 марш',\n",
       "  'remark': '0855 DNSNTNK',\n",
       "  'online': True,\n",
       "  'idBusTypes': 1},\n",
       " '355227046450946': {'id': 379,\n",
       "  'imei': '355227046450946',\n",
       "  'name': 'H61',\n",
       "  'stateCode': 'used',\n",
       "  'stateName': 'used',\n",
       "  'lat': 48.272005,\n",
       "  'lng': 25.995215,\n",
       "  'speed': '007.8',\n",
       "  'orientation': '314.74',\n",
       "  'gpstime': '2023-02-23 13:31:46',\n",
       "  'routeId': 37,\n",
       "  'routeName': 'T',\n",
       "  'routeColour': 'coral',\n",
       "  'inDepo': False,\n",
       "  'busNumber': '364',\n",
       "  'perevId': 6,\n",
       "  'perevName': 'ЧТУ',\n",
       "  'remark': 'Тролейбус 364 DNSNTNK',\n",
       "  'online': True,\n",
       "  'idBusTypes': 2},\n",
       " '355227046638797': {'id': 304,\n",
       "  'imei': '355227046638797',\n",
       "  'name': 'A217',\n",
       "  'stateCode': 'used',\n",
       "  'stateName': 'used',\n",
       "  'lat': 48.283253333333334,\n",
       "  'lng': 25.972923333333334,\n",
       "  'speed': '019.2',\n",
       "  'orientation': '307.23',\n",
       "  'gpstime': '2023-02-23 13:31:46',\n",
       "  'routeId': 14,\n",
       "  'routeName': '9A',\n",
       "  'routeColour': 'magenta',\n",
       "  'inDepo': False,\n",
       "  'busNumber': '9001',\n",
       "  'perevId': 7,\n",
       "  'perevName': 'Віталій / Олег Бойко ',\n",
       "  'remark': '9001 DNSNK',\n",
       "  'online': True,\n",
       "  'idBusTypes': 1},\n",
       " '355227045539228': {'id': 143,\n",
       "  'imei': '355227045539228',\n",
       "  'name': 'Am66',\n",
       "  'stateCode': 'used',\n",
       "  'stateName': 'used',\n",
       "  'lat': 48.288158333333335,\n",
       "  'lng': 25.935518333333334,\n",
       "  'speed': '005.0',\n",
       "  'orientation': '156.02',\n",
       "  'gpstime': '2023-02-23 13:31:45',\n",
       "  'routeId': 5,\n",
       "  'routeName': '13',\n",
       "  'routeColour': 'brown',\n",
       "  'inDepo': False,\n",
       "  'busNumber': '1065',\n",
       "  'perevId': 2,\n",
       "  'perevName': 'Тарас',\n",
       "  'remark': '1065 DNSNK',\n",
       "  'online': True,\n",
       "  'idBusTypes': 1},\n",
       " '355227046451274': {'id': 355,\n",
       "  'imei': '355227046451274',\n",
       "  'name': 'H37',\n",
       "  'stateCode': 'used',\n",
       "  'stateName': 'used',\n",
       "  'lat': 48.272295,\n",
       "  'lng': 25.994221666666668,\n",
       "  'speed': '019.7',\n",
       "  'orientation': '138.06',\n",
       "  'gpstime': '2023-02-23 13:31:46',\n",
       "  'routeId': 39,\n",
       "  'routeName': '5T',\n",
       "  'routeColour': 'maroon',\n",
       "  'inDepo': False,\n",
       "  'busNumber': '361',\n",
       "  'perevId': 6,\n",
       "  'perevName': 'ЧТУ',\n",
       "  'remark': 'Тролейбус 361 DNSNTNK',\n",
       "  'online': True,\n",
       "  'idBusTypes': 2}}"
      ]
     },
     "execution_count": 15,
     "metadata": {},
     "output_type": "execute_result"
    }
   ],
   "source": [
    "resp"
   ]
  },
  {
   "cell_type": "code",
   "execution_count": 45,
   "id": "edf609a1-2b33-4df8-a4de-a03dff609af7",
   "metadata": {},
   "outputs": [
    {
     "data": {
      "text/plain": [
       "odict_items([('id', -1), ('name', 'UNKNOWN')])"
      ]
     },
     "execution_count": 45,
     "metadata": {},
     "output_type": "execute_result"
    }
   ],
   "source": [
    "response_datetime"
   ]
  },
  {
   "cell_type": "code",
   "execution_count": null,
   "id": "5d51b540-f510-43fa-9cd8-ded5d15845c7",
   "metadata": {},
   "outputs": [],
   "source": []
  },
  {
   "cell_type": "code",
   "execution_count": null,
   "id": "fa0fa139-430f-4530-8d56-736ab4ed3b4e",
   "metadata": {},
   "outputs": [],
   "source": []
  },
  {
   "cell_type": "markdown",
   "id": "803d0232-1878-42cd-abff-897330bca1eb",
   "metadata": {},
   "source": [
    "## TransportRoute"
   ]
  },
  {
   "cell_type": "code",
   "execution_count": 7,
   "id": "b2024837-e775-4f72-88c9-b09c241c0f03",
   "metadata": {},
   "outputs": [
    {
     "data": {
      "text/plain": [
       "['route_name', 'route_colour']"
      ]
     },
     "execution_count": 7,
     "metadata": {},
     "output_type": "execute_result"
    }
   ],
   "source": [
    "TransportRoute.__insert_columns__().replace('\"', '').split(', ')[1:]"
   ]
  },
  {
   "cell_type": "code",
   "execution_count": 28,
   "id": "65ef4651-6170-4469-9d80-2b457a43f825",
   "metadata": {},
   "outputs": [],
   "source": [
    "cols = [\"routeId\", 'routeName', 'routeColour']\n",
    "route_list = [TransportRoute.from_response_row(row) for row in df_sum[cols].drop_duplicates().to_dict('records')]\n",
    "len(route_list), route_list[:3]\n",
    "TransportRoute.insert_many_in_table(conn, route_list)"
   ]
  },
  {
   "cell_type": "code",
   "execution_count": 32,
   "id": "e3f3fc79-26de-4beb-b29f-c64a5403df84",
   "metadata": {
    "collapsed": true,
    "jupyter": {
     "outputs_hidden": true
    },
    "tags": []
   },
   "outputs": [
    {
     "data": {
      "text/plain": [
       "[TransportRoute(id=37, name='T', colour='coral'),\n",
       " TransportRoute(id=31, name='6/6a', colour='deeppink'),\n",
       " TransportRoute(id=21, name='38', colour='deeppink'),\n",
       " TransportRoute(id=41, name='10A', colour='black'),\n",
       " TransportRoute(id=20, name='A', colour='navy'),\n",
       " TransportRoute(id=42, name='39', colour='coral'),\n",
       " TransportRoute(id=23, name='19', colour='teal'),\n",
       " TransportRoute(id=19, name='10', colour='black'),\n",
       " TransportRoute(id=11, name='9', colour='magenta'),\n",
       " TransportRoute(id=2, name='11', colour='green'),\n",
       " TransportRoute(id=6, name='4', colour='magenta'),\n",
       " TransportRoute(id=27, name='3/3a', colour='green'),\n",
       " TransportRoute(id=16, name='2', colour='green'),\n",
       " TransportRoute(id=4, name='5', colour='orange'),\n",
       " TransportRoute(id=3, name='12', colour='blue'),\n",
       " TransportRoute(id=12, name='20', colour='maroon'),\n",
       " TransportRoute(id=7, name='6', colour='sienna'),\n",
       " TransportRoute(id=10, name='34', colour='navy'),\n",
       " TransportRoute(id=45, name='1', colour='navy'),\n",
       " TransportRoute(id=9, name='27', colour='black'),\n",
       " TransportRoute(id=38, name='1T', colour='grey'),\n",
       " TransportRoute(id=49, name='2A', colour='red'),\n",
       " TransportRoute(id=5, name='13', colour='brown'),\n",
       " TransportRoute(id=33, name='8T', colour='coral'),\n",
       " TransportRoute(id=17, name='23', colour='red'),\n",
       " TransportRoute(id=48, name='1A', colour='olive'),\n",
       " TransportRoute(id=14, name='9A', colour='magenta'),\n",
       " TransportRoute(id=26, name='4T', colour='purple'),\n",
       " TransportRoute(id=25, name='2T', colour='olive'),\n",
       " TransportRoute(id=39, name='5T', colour='maroon'),\n",
       " TransportRoute(id=34, name='11/3', colour='teal')]"
      ]
     },
     "execution_count": 32,
     "metadata": {},
     "output_type": "execute_result"
    }
   ],
   "source": [
    "TransportRoute.get_table(conn)"
   ]
  },
  {
   "cell_type": "code",
   "execution_count": 13,
   "id": "db79201d-b8f6-4210-8e5d-7a3527d99efe",
   "metadata": {},
   "outputs": [],
   "source": [
    "# df_sum[TransportRoute.__insert_columns__().replace('\"', '').split(', ')[1:]].value_counts()"
   ]
  },
  {
   "cell_type": "code",
   "execution_count": 27,
   "id": "7962a53d-4491-4335-8219-3badba381963",
   "metadata": {},
   "outputs": [],
   "source": [
    "conn.rollback()"
   ]
  },
  {
   "cell_type": "code",
   "execution_count": 45,
   "id": "656c313d-e60c-44fe-b9f7-7df2ac28af09",
   "metadata": {
    "tags": []
   },
   "outputs": [],
   "source": [
    "SQL_big_req = \" \".join([create_sql_req(t) for t in trans_vehicle_list])"
   ]
  },
  {
   "cell_type": "code",
   "execution_count": 29,
   "id": "16cd9f5e-0f22-4c03-b6a2-007dfc75471b",
   "metadata": {},
   "outputs": [
    {
     "data": {
      "text/plain": [
       "31"
      ]
     },
     "execution_count": 29,
     "metadata": {},
     "output_type": "execute_result"
    }
   ],
   "source": [
    "route_list = TransportRoute.get_table(conn)[:]\n",
    "len(route_list)"
   ]
  },
  {
   "cell_type": "code",
   "execution_count": 30,
   "id": "703e8efe-7133-46a1-a6a1-2a2a37d93fe5",
   "metadata": {
    "collapsed": true,
    "jupyter": {
     "outputs_hidden": true
    },
    "tags": []
   },
   "outputs": [
    {
     "data": {
      "text/plain": [
       "[False,\n",
       " True,\n",
       " False,\n",
       " True,\n",
       " False,\n",
       " True,\n",
       " False,\n",
       " True,\n",
       " False,\n",
       " True,\n",
       " False,\n",
       " True,\n",
       " False,\n",
       " True,\n",
       " False,\n",
       " True,\n",
       " False,\n",
       " True,\n",
       " False,\n",
       " True,\n",
       " False,\n",
       " True,\n",
       " False,\n",
       " True,\n",
       " False,\n",
       " True,\n",
       " False,\n",
       " True,\n",
       " False,\n",
       " True,\n",
       " False]"
      ]
     },
     "execution_count": 30,
     "metadata": {},
     "output_type": "execute_result"
    }
   ],
   "source": [
    "for r in route_list[::2]: \n",
    "    r.id += 1\n",
    "TransportRoute.are_in_table(conn, route_list)"
   ]
  },
  {
   "cell_type": "code",
   "execution_count": 31,
   "id": "d7a52b7b-5720-4b93-ab34-36c661fd52c8",
   "metadata": {
    "collapsed": true,
    "jupyter": {
     "outputs_hidden": true
    },
    "tags": []
   },
   "outputs": [
    {
     "data": {
      "text/plain": [
       "[False,\n",
       " True,\n",
       " False,\n",
       " True,\n",
       " False,\n",
       " True,\n",
       " False,\n",
       " True,\n",
       " False,\n",
       " True,\n",
       " False,\n",
       " True,\n",
       " False,\n",
       " True,\n",
       " False,\n",
       " True,\n",
       " False,\n",
       " True,\n",
       " False,\n",
       " True,\n",
       " False,\n",
       " True,\n",
       " False,\n",
       " True,\n",
       " False,\n",
       " True,\n",
       " False,\n",
       " True,\n",
       " False,\n",
       " True,\n",
       " False]"
      ]
     },
     "execution_count": 31,
     "metadata": {},
     "output_type": "execute_result"
    }
   ],
   "source": [
    "TransportRoute.are_in_table(conn, route_list)"
   ]
  },
  {
   "cell_type": "code",
   "execution_count": 14,
   "id": "12a3eb91-8eda-470e-b985-4d5109cb424d",
   "metadata": {},
   "outputs": [],
   "source": [
    "for r in route_list: \n",
    "    r.name += \"_\"\n",
    "    r.id += 100"
   ]
  },
  {
   "cell_type": "code",
   "execution_count": 16,
   "id": "b0b4c455-15fa-4939-a6df-6012fad411fd",
   "metadata": {},
   "outputs": [],
   "source": [
    "# sql = f\"\"\"INSERT INTO pteta.route(\"id\", \"routeName\", \"routeColour\") VALUES \"\"\" + \\\n",
    "#               \", \".join([f\"\"\"({obj.id}, '{obj.name}', '{obj.colour}')\"\"\"\n",
    "#                         for obj in route_list]) + \";\"\n",
    "# sql"
   ]
  },
  {
   "cell_type": "code",
   "execution_count": 17,
   "id": "9054b72a-afb6-4087-a95a-21c876e097ff",
   "metadata": {},
   "outputs": [],
   "source": [
    "# route_list"
   ]
  },
  {
   "cell_type": "code",
   "execution_count": 18,
   "id": "77dd36c5-49ad-4a86-9de9-5282adf24302",
   "metadata": {},
   "outputs": [],
   "source": [
    "TransportRoute.insert_many_in_table(conn, route_list)"
   ]
  },
  {
   "cell_type": "code",
   "execution_count": null,
   "id": "3dd59c3b-6a83-466c-b8f2-cce11a645f0b",
   "metadata": {},
   "outputs": [],
   "source": []
  },
  {
   "cell_type": "markdown",
   "id": "e38b678e-784c-45d1-89cb-4d9d3ae77d45",
   "metadata": {},
   "source": [
    "## Test TransportVehicle"
   ]
  },
  {
   "cell_type": "code",
   "execution_count": 33,
   "id": "37129939-f633-4b44-9c44-10b313e3fa3b",
   "metadata": {},
   "outputs": [
    {
     "data": {
      "text/plain": [
       "'\"imei\", \"name\", \"bus_number\", \"remark\", \"perev_id\"'"
      ]
     },
     "execution_count": 33,
     "metadata": {},
     "output_type": "execute_result"
    }
   ],
   "source": [
    "TransportVehicle.__insert_columns__()"
   ]
  },
  {
   "cell_type": "code",
   "execution_count": 45,
   "id": "1a237457-a881-4e69-b1d0-96cf2aec4cd2",
   "metadata": {},
   "outputs": [],
   "source": [
    "cols = [\"imei\", \"name\", \"busNumber\", \"remark\", \"perevId\"]\n",
    "vehicle_list = [TransportVehicle.from_response_row(row) for row in df_sum[cols].drop_duplicates().to_dict('records')]\n",
    "len(vehicle_list), vehicle_list[:3]\n",
    "TransportVehicle.insert_many_in_table(conn, vehicle_list)"
   ]
  },
  {
   "cell_type": "code",
   "execution_count": 47,
   "id": "0a278005-dc97-4114-af59-483e17bf6999",
   "metadata": {},
   "outputs": [
    {
     "data": {
      "text/plain": [
       "99"
      ]
     },
     "execution_count": 47,
     "metadata": {},
     "output_type": "execute_result"
    }
   ],
   "source": [
    "vehicle_list = TransportVehicle.get_table(conn)\n",
    "len(vehicle_list)"
   ]
  },
  {
   "cell_type": "code",
   "execution_count": 48,
   "id": "37989ed4-30f7-4b97-8258-6be17ba1e290",
   "metadata": {},
   "outputs": [
    {
     "data": {
      "text/plain": [
       "[True, True, True, True, True]"
      ]
     },
     "execution_count": 48,
     "metadata": {},
     "output_type": "execute_result"
    }
   ],
   "source": [
    "TransportVehicle.are_in_table(conn, vehicle_list[:5])"
   ]
  },
  {
   "cell_type": "code",
   "execution_count": 49,
   "id": "81b128d1-6b40-4c94-bf2e-874e2544693e",
   "metadata": {},
   "outputs": [
    {
     "data": {
      "text/plain": [
       "True"
      ]
     },
     "execution_count": 49,
     "metadata": {},
     "output_type": "execute_result"
    }
   ],
   "source": [
    "vehicle_list[5].is_in_table(conn)"
   ]
  },
  {
   "cell_type": "code",
   "execution_count": null,
   "id": "ba9ba8f8-9ed4-47ba-94cd-7c20ac1c33cd",
   "metadata": {},
   "outputs": [],
   "source": []
  },
  {
   "cell_type": "code",
   "execution_count": 50,
   "id": "3d5e7733-09f4-4ae0-a3b3-c62900a8dc58",
   "metadata": {},
   "outputs": [
    {
     "data": {
      "text/plain": [
       "False"
      ]
     },
     "execution_count": 50,
     "metadata": {},
     "output_type": "execute_result"
    }
   ],
   "source": [
    "obj = vehicle_list[0]\n",
    "obj.imei += \"-\"\n",
    "obj.is_in_table(conn)"
   ]
  },
  {
   "cell_type": "code",
   "execution_count": 51,
   "id": "385b8a30-87af-4551-9f70-75ea85e14bd3",
   "metadata": {},
   "outputs": [],
   "source": [
    "obj.insert_in_table(conn)"
   ]
  },
  {
   "cell_type": "code",
   "execution_count": 52,
   "id": "7d90f8bb-b0f0-4f3c-9194-0ac4af260719",
   "metadata": {},
   "outputs": [],
   "source": [
    "for v in vehicle_list[:10]: \n",
    "    v.imei += '_'"
   ]
  },
  {
   "cell_type": "code",
   "execution_count": 15,
   "id": "6c25cab4-914c-4f61-a724-f199b51f0196",
   "metadata": {},
   "outputs": [],
   "source": [
    "TransportVehicle.insert_many_in_table(conn, vehicle_list[:10])"
   ]
  },
  {
   "cell_type": "code",
   "execution_count": 31,
   "id": "2a0af8f2-07a4-4991-8bd7-3bdfeb81b952",
   "metadata": {},
   "outputs": [],
   "source": [
    "obj.insert_in_table(conn)\n",
    "obj.is_in_table(conn)"
   ]
  },
  {
   "cell_type": "code",
   "execution_count": null,
   "id": "04400c12-3466-4c91-b027-93be01673c03",
   "metadata": {},
   "outputs": [],
   "source": []
  },
  {
   "cell_type": "code",
   "execution_count": 14,
   "id": "82a79e2d-325a-4dd6-82ef-e213a1f80469",
   "metadata": {},
   "outputs": [
    {
     "name": "stdout",
     "output_type": "stream",
     "text": [
      "TransportVehicle(id=None, imei='355227045600830', name='A178', busNumber='310', remark='Тролейбус 310 DNSNK', perevId=6, routeId=37)\n",
      "TransportVehicle(id=1, imei='355227045600830', name='A178', busNumber='310', remark='Тролейбус 310 DNSNK', perevId=6, routeId=37)\n"
     ]
    }
   ],
   "source": [
    "vehicle_list[0].id = None\n",
    "print(vehicle_list[0])\n",
    "vehicle_list[0].update_id_from_table(conn)\n",
    "print(vehicle_list[0])"
   ]
  },
  {
   "cell_type": "code",
   "execution_count": null,
   "id": "65587fa2-bd59-4efc-b155-56a4472d7c1d",
   "metadata": {},
   "outputs": [],
   "source": []
  },
  {
   "cell_type": "markdown",
   "id": "12b4864c-12ee-4bdc-8fc8-0504368bfbf9",
   "metadata": {},
   "source": [
    "## TransportOperator"
   ]
  },
  {
   "cell_type": "code",
   "execution_count": null,
   "id": "c65faf98-5009-4756-8cbe-433fe345970a",
   "metadata": {},
   "outputs": [],
   "source": []
  },
  {
   "cell_type": "code",
   "execution_count": 41,
   "id": "53ccacbb-8a47-4536-9004-dd3cff1c8756",
   "metadata": {
    "tags": []
   },
   "outputs": [
    {
     "data": {
      "text/plain": [
       "6"
      ]
     },
     "execution_count": 41,
     "metadata": {},
     "output_type": "execute_result"
    }
   ],
   "source": [
    "operator_list = TransportOperator.get_table(conn)\n",
    "len(operator_list)"
   ]
  },
  {
   "cell_type": "code",
   "execution_count": 37,
   "id": "add37a17-8db0-475b-a13f-05ad71cb4b90",
   "metadata": {},
   "outputs": [
    {
     "data": {
      "text/plain": [
       "'id, \"perev_name\"'"
      ]
     },
     "execution_count": 37,
     "metadata": {},
     "output_type": "execute_result"
    }
   ],
   "source": [
    "TransportOperator.__insert_columns__()"
   ]
  },
  {
   "cell_type": "code",
   "execution_count": 40,
   "id": "58aa5906-6de7-44df-93e3-9db6a9d03d72",
   "metadata": {},
   "outputs": [],
   "source": [
    "cols = ['perevId', \"perevName\"]\n",
    "operator_list = [TransportOperator.from_response_row(row) \n",
    "              for row in df_sum[cols].drop_duplicates().to_dict('records')]\n",
    "len(operator_list), operator_list[:3]\n",
    "TransportOperator.insert_many_in_table(conn, operator_list)"
   ]
  },
  {
   "cell_type": "code",
   "execution_count": null,
   "id": "49c7f706-e9c3-472b-90bb-a46d7cc96397",
   "metadata": {},
   "outputs": [],
   "source": []
  },
  {
   "cell_type": "code",
   "execution_count": 42,
   "id": "24288a49-97b0-450c-b4b3-9fdf8729d6ef",
   "metadata": {},
   "outputs": [
    {
     "data": {
      "text/plain": [
       "[True, True, True, True, True, True]"
      ]
     },
     "execution_count": 42,
     "metadata": {},
     "output_type": "execute_result"
    }
   ],
   "source": [
    "TransportOperator.are_in_table(conn, operator_list[:])"
   ]
  },
  {
   "cell_type": "code",
   "execution_count": 43,
   "id": "606d9682-b1e9-4110-bd5b-746fb6180744",
   "metadata": {},
   "outputs": [
    {
     "data": {
      "text/plain": [
       "True"
      ]
     },
     "execution_count": 43,
     "metadata": {},
     "output_type": "execute_result"
    }
   ],
   "source": [
    "operator_list[0].is_in_table(conn)"
   ]
  },
  {
   "cell_type": "code",
   "execution_count": 44,
   "id": "5437ec19-c042-4d84-adbb-6f1251c35bdf",
   "metadata": {},
   "outputs": [
    {
     "data": {
      "text/plain": [
       "False"
      ]
     },
     "execution_count": 44,
     "metadata": {},
     "output_type": "execute_result"
    }
   ],
   "source": [
    "obj = operator_list[0]\n",
    "obj.id += 100\n",
    "obj.name = \"-_-\" + obj.name\n",
    "obj.is_in_table(conn)"
   ]
  },
  {
   "cell_type": "code",
   "execution_count": 14,
   "id": "4fd48af7-fad0-4e05-80d7-756ce77ea7e8",
   "metadata": {},
   "outputs": [],
   "source": [
    "obj.insert_in_table(conn)"
   ]
  },
  {
   "cell_type": "code",
   "execution_count": 15,
   "id": "daa1e22e-774b-4aa6-85cd-8854f1451a03",
   "metadata": {},
   "outputs": [],
   "source": [
    "for op in operator_list: \n",
    "    op.id += 100\n",
    "    op.name = \"-_-\" + op.name\n",
    "    \n",
    "TransportOperator.insert_many_in_table(conn, operator_list)"
   ]
  },
  {
   "cell_type": "code",
   "execution_count": null,
   "id": "54623c33-e180-4a15-931b-32617c32876e",
   "metadata": {},
   "outputs": [],
   "source": []
  },
  {
   "cell_type": "markdown",
   "id": "a7b4a93e-f4cf-4f72-b4de-f31350ca0fe4",
   "metadata": {},
   "source": [
    "## TransportAVLData"
   ]
  },
  {
   "cell_type": "code",
   "execution_count": 9,
   "id": "2ec67a1a-5a8e-491c-b7ef-f00cbd84cbe5",
   "metadata": {},
   "outputs": [],
   "source": [
    "avl_data_list = TransportAVLData.get_table(conn)"
   ]
  },
  {
   "cell_type": "code",
   "execution_count": 11,
   "id": "8ec55802-09a3-46c5-a951-bc33f778ae31",
   "metadata": {},
   "outputs": [],
   "source": [
    "# avl_data_list"
   ]
  },
  {
   "cell_type": "code",
   "execution_count": 14,
   "id": "35304afa-4736-4317-aa4b-c59f784e3e59",
   "metadata": {},
   "outputs": [
    {
     "name": "stdout",
     "output_type": "stream",
     "text": [
      "57.4 ms ± 3.36 ms per loop (mean ± std. dev. of 7 runs, 10 loops each)\n"
     ]
    }
   ],
   "source": [
    "%%timeit\n",
    "TransportAVLData.are_in_table(conn, avl_data_list)"
   ]
  },
  {
   "cell_type": "code",
   "execution_count": 16,
   "id": "8366b7c5-2c46-49fa-8f89-ac62b91901b3",
   "metadata": {},
   "outputs": [
    {
     "name": "stdout",
     "output_type": "stream",
     "text": [
      "42.1 ms ± 1.17 ms per loop (mean ± std. dev. of 7 runs, 10 loops each)\n"
     ]
    }
   ],
   "source": [
    "%%timeit\n",
    "avl_data_list[0].is_in_table(conn)"
   ]
  },
  {
   "cell_type": "code",
   "execution_count": 49,
   "id": "141afb93-d68e-4f6d-b05a-93ea69914eb8",
   "metadata": {},
   "outputs": [
    {
     "data": {
      "text/plain": [
       "'data_for_01_DEC_2022'"
      ]
     },
     "execution_count": 49,
     "metadata": {},
     "output_type": "execute_result"
    }
   ],
   "source": [
    "file_path_list[0].name[:-4]"
   ]
  },
  {
   "cell_type": "code",
   "execution_count": 58,
   "id": "71406ef0-4031-4934-95b5-10c527447c39",
   "metadata": {
    "collapsed": true,
    "jupyter": {
     "outputs_hidden": true
    },
    "tags": []
   },
   "outputs": [
    {
     "name": "stderr",
     "output_type": "stream",
     "text": [
      "  0%|          | 0/126 [00:00<?, ?it/s]"
     ]
    },
    {
     "name": "stdout",
     "output_type": "stream",
     "text": [
      "Processing '..\\..\\..\\pet_project\\tables\\data_for_01_DEC_2022.csv'\n"
     ]
    },
    {
     "name": "stderr",
     "output_type": "stream",
     "text": [
      "  1%|          | 1/126 [00:00<01:44,  1.20it/s]"
     ]
    },
    {
     "name": "stdout",
     "output_type": "stream",
     "text": [
      "Processing '..\\..\\..\\pet_project\\tables\\data_for_01_FEB_2023.csv'\n"
     ]
    },
    {
     "name": "stderr",
     "output_type": "stream",
     "text": [
      "  2%|▏         | 2/126 [00:01<01:22,  1.50it/s]"
     ]
    },
    {
     "name": "stdout",
     "output_type": "stream",
     "text": [
      "Processing '..\\..\\..\\pet_project\\tables\\data_for_01_JAN_2023.csv'\n"
     ]
    },
    {
     "name": "stderr",
     "output_type": "stream",
     "text": [
      "  2%|▏         | 3/126 [00:02<01:39,  1.24it/s]"
     ]
    },
    {
     "name": "stdout",
     "output_type": "stream",
     "text": [
      "Processing '..\\..\\..\\pet_project\\tables\\data_for_01_NOV_2022.csv'\n"
     ]
    },
    {
     "name": "stderr",
     "output_type": "stream",
     "text": [
      "  3%|▎         | 4/126 [00:04<02:27,  1.21s/it]"
     ]
    },
    {
     "name": "stdout",
     "output_type": "stream",
     "text": [
      "Processing '..\\..\\..\\pet_project\\tables\\data_for_02_DEC_2022.csv'\n"
     ]
    },
    {
     "name": "stderr",
     "output_type": "stream",
     "text": [
      "  4%|▍         | 5/126 [00:05<02:36,  1.30s/it]"
     ]
    },
    {
     "name": "stdout",
     "output_type": "stream",
     "text": [
      "Processing '..\\..\\..\\pet_project\\tables\\data_for_02_FEB_2023.csv'\n"
     ]
    },
    {
     "name": "stderr",
     "output_type": "stream",
     "text": [
      "  5%|▍         | 6/126 [00:06<02:35,  1.29s/it]"
     ]
    },
    {
     "name": "stdout",
     "output_type": "stream",
     "text": [
      "Processing '..\\..\\..\\pet_project\\tables\\data_for_02_JAN_2023.csv'\n"
     ]
    },
    {
     "name": "stderr",
     "output_type": "stream",
     "text": [
      "  6%|▌         | 7/126 [00:08<02:51,  1.44s/it]"
     ]
    },
    {
     "name": "stdout",
     "output_type": "stream",
     "text": [
      "Processing '..\\..\\..\\pet_project\\tables\\data_for_02_NOV_2022.csv'\n"
     ]
    },
    {
     "name": "stderr",
     "output_type": "stream",
     "text": [
      "  6%|▋         | 8/126 [00:10<03:11,  1.62s/it]"
     ]
    },
    {
     "name": "stdout",
     "output_type": "stream",
     "text": [
      "Processing '..\\..\\..\\pet_project\\tables\\data_for_03_DEC_2022.csv'\n"
     ]
    },
    {
     "name": "stderr",
     "output_type": "stream",
     "text": [
      "  7%|▋         | 9/126 [00:11<02:27,  1.26s/it]"
     ]
    },
    {
     "name": "stdout",
     "output_type": "stream",
     "text": [
      "Processing '..\\..\\..\\pet_project\\tables\\data_for_03_FEB_2023.csv'\n"
     ]
    },
    {
     "name": "stderr",
     "output_type": "stream",
     "text": [
      "  8%|▊         | 10/126 [00:12<02:16,  1.17s/it]"
     ]
    },
    {
     "name": "stdout",
     "output_type": "stream",
     "text": [
      "Processing '..\\..\\..\\pet_project\\tables\\data_for_03_JAN_2023.csv'\n"
     ]
    },
    {
     "name": "stderr",
     "output_type": "stream",
     "text": [
      "  9%|▊         | 11/126 [00:13<02:28,  1.29s/it]"
     ]
    },
    {
     "name": "stdout",
     "output_type": "stream",
     "text": [
      "Processing '..\\..\\..\\pet_project\\tables\\data_for_03_NOV_2022.csv'\n"
     ]
    },
    {
     "name": "stderr",
     "output_type": "stream",
     "text": [
      " 10%|▉         | 12/126 [00:15<02:37,  1.38s/it]"
     ]
    },
    {
     "name": "stdout",
     "output_type": "stream",
     "text": [
      "Processing '..\\..\\..\\pet_project\\tables\\data_for_04_DEC_2022.csv'\n"
     ]
    },
    {
     "name": "stderr",
     "output_type": "stream",
     "text": [
      " 10%|█         | 13/126 [00:16<02:20,  1.24s/it]"
     ]
    },
    {
     "name": "stdout",
     "output_type": "stream",
     "text": [
      "Processing '..\\..\\..\\pet_project\\tables\\data_for_04_FEB_2023.csv'\n"
     ]
    },
    {
     "name": "stderr",
     "output_type": "stream",
     "text": [
      " 11%|█         | 14/126 [00:16<01:53,  1.02s/it]"
     ]
    },
    {
     "name": "stdout",
     "output_type": "stream",
     "text": [
      "Processing '..\\..\\..\\pet_project\\tables\\data_for_04_JAN_2023.csv'\n"
     ]
    },
    {
     "name": "stderr",
     "output_type": "stream",
     "text": [
      " 12%|█▏        | 15/126 [00:18<02:10,  1.18s/it]"
     ]
    },
    {
     "name": "stdout",
     "output_type": "stream",
     "text": [
      "Processing '..\\..\\..\\pet_project\\tables\\data_for_04_NOV_2022.csv'\n"
     ]
    },
    {
     "name": "stderr",
     "output_type": "stream",
     "text": [
      " 13%|█▎        | 16/126 [00:19<02:23,  1.31s/it]"
     ]
    },
    {
     "name": "stdout",
     "output_type": "stream",
     "text": [
      "Processing '..\\..\\..\\pet_project\\tables\\data_for_05_DEC_2022.csv'\n"
     ]
    },
    {
     "name": "stderr",
     "output_type": "stream",
     "text": [
      " 13%|█▎        | 17/126 [00:21<02:49,  1.55s/it]"
     ]
    },
    {
     "name": "stdout",
     "output_type": "stream",
     "text": [
      "Processing '..\\..\\..\\pet_project\\tables\\data_for_05_FEB_2023.csv'\n"
     ]
    },
    {
     "name": "stderr",
     "output_type": "stream",
     "text": [
      " 14%|█▍        | 18/126 [00:24<03:18,  1.84s/it]"
     ]
    },
    {
     "name": "stdout",
     "output_type": "stream",
     "text": [
      "Processing '..\\..\\..\\pet_project\\tables\\data_for_05_JAN_2023.csv'\n"
     ]
    },
    {
     "name": "stderr",
     "output_type": "stream",
     "text": [
      " 15%|█▌        | 19/126 [00:26<03:15,  1.83s/it]"
     ]
    },
    {
     "name": "stdout",
     "output_type": "stream",
     "text": [
      "Processing '..\\..\\..\\pet_project\\tables\\data_for_05_NOV_2022.csv'\n"
     ]
    },
    {
     "name": "stderr",
     "output_type": "stream",
     "text": [
      " 16%|█▌        | 20/126 [00:27<03:06,  1.76s/it]"
     ]
    },
    {
     "name": "stdout",
     "output_type": "stream",
     "text": [
      "Processing '..\\..\\..\\pet_project\\tables\\data_for_06_DEC_2022.csv'\n"
     ]
    },
    {
     "name": "stderr",
     "output_type": "stream",
     "text": [
      " 17%|█▋        | 21/126 [00:29<03:05,  1.77s/it]"
     ]
    },
    {
     "name": "stdout",
     "output_type": "stream",
     "text": [
      "Processing '..\\..\\..\\pet_project\\tables\\data_for_06_FEB_2023.csv'\n"
     ]
    },
    {
     "name": "stderr",
     "output_type": "stream",
     "text": [
      " 17%|█▋        | 22/126 [00:31<02:54,  1.68s/it]"
     ]
    },
    {
     "name": "stdout",
     "output_type": "stream",
     "text": [
      "Processing '..\\..\\..\\pet_project\\tables\\data_for_06_JAN_2023.csv'\n"
     ]
    },
    {
     "name": "stderr",
     "output_type": "stream",
     "text": [
      " 18%|█▊        | 23/126 [00:32<02:43,  1.59s/it]"
     ]
    },
    {
     "name": "stdout",
     "output_type": "stream",
     "text": [
      "Processing '..\\..\\..\\pet_project\\tables\\data_for_06_NOV_2022.csv'\n"
     ]
    },
    {
     "name": "stderr",
     "output_type": "stream",
     "text": [
      " 19%|█▉        | 24/126 [00:33<02:34,  1.52s/it]"
     ]
    },
    {
     "name": "stdout",
     "output_type": "stream",
     "text": [
      "Processing '..\\..\\..\\pet_project\\tables\\data_for_07_DEC_2022.csv'\n"
     ]
    },
    {
     "name": "stderr",
     "output_type": "stream",
     "text": [
      " 20%|█▉        | 25/126 [00:35<02:36,  1.55s/it]"
     ]
    },
    {
     "name": "stdout",
     "output_type": "stream",
     "text": [
      "Processing '..\\..\\..\\pet_project\\tables\\data_for_07_FEB_2023.csv'\n"
     ]
    },
    {
     "name": "stderr",
     "output_type": "stream",
     "text": [
      " 21%|██        | 26/126 [00:37<02:34,  1.55s/it]"
     ]
    },
    {
     "name": "stdout",
     "output_type": "stream",
     "text": [
      "Processing '..\\..\\..\\pet_project\\tables\\data_for_07_JAN_2023.csv'\n"
     ]
    },
    {
     "name": "stderr",
     "output_type": "stream",
     "text": [
      " 21%|██▏       | 27/126 [00:38<02:21,  1.43s/it]"
     ]
    },
    {
     "name": "stdout",
     "output_type": "stream",
     "text": [
      "Processing '..\\..\\..\\pet_project\\tables\\data_for_07_NOV_2022.csv'\n"
     ]
    },
    {
     "name": "stderr",
     "output_type": "stream",
     "text": [
      " 22%|██▏       | 28/126 [00:38<01:45,  1.07s/it]"
     ]
    },
    {
     "name": "stdout",
     "output_type": "stream",
     "text": [
      "Processing '..\\..\\..\\pet_project\\tables\\data_for_08_DEC_2022.csv'\n"
     ]
    },
    {
     "name": "stderr",
     "output_type": "stream",
     "text": [
      " 23%|██▎       | 29/126 [00:39<01:52,  1.16s/it]"
     ]
    },
    {
     "name": "stdout",
     "output_type": "stream",
     "text": [
      "Processing '..\\..\\..\\pet_project\\tables\\data_for_08_FEB_2023.csv'\n"
     ]
    },
    {
     "name": "stderr",
     "output_type": "stream",
     "text": [
      " 24%|██▍       | 30/126 [00:41<02:18,  1.44s/it]"
     ]
    },
    {
     "name": "stdout",
     "output_type": "stream",
     "text": [
      "Processing '..\\..\\..\\pet_project\\tables\\data_for_08_JAN_2023.csv'\n"
     ]
    },
    {
     "name": "stderr",
     "output_type": "stream",
     "text": [
      " 25%|██▍       | 31/126 [00:43<02:20,  1.47s/it]"
     ]
    },
    {
     "name": "stdout",
     "output_type": "stream",
     "text": [
      "Processing '..\\..\\..\\pet_project\\tables\\data_for_08_NOV_2022.csv'\n"
     ]
    },
    {
     "name": "stderr",
     "output_type": "stream",
     "text": [
      " 25%|██▌       | 32/126 [00:45<02:30,  1.60s/it]"
     ]
    },
    {
     "name": "stdout",
     "output_type": "stream",
     "text": [
      "Processing '..\\..\\..\\pet_project\\tables\\data_for_09_DEC_2022.csv'\n"
     ]
    },
    {
     "name": "stderr",
     "output_type": "stream",
     "text": [
      " 26%|██▌       | 33/126 [00:46<02:27,  1.59s/it]"
     ]
    },
    {
     "name": "stdout",
     "output_type": "stream",
     "text": [
      "Processing '..\\..\\..\\pet_project\\tables\\data_for_09_FEB_2023.csv'\n"
     ]
    },
    {
     "name": "stderr",
     "output_type": "stream",
     "text": [
      " 27%|██▋       | 34/126 [00:48<02:30,  1.64s/it]"
     ]
    },
    {
     "name": "stdout",
     "output_type": "stream",
     "text": [
      "Processing '..\\..\\..\\pet_project\\tables\\data_for_09_JAN_2023.csv'\n"
     ]
    },
    {
     "name": "stderr",
     "output_type": "stream",
     "text": [
      " 28%|██▊       | 35/126 [00:50<02:29,  1.64s/it]"
     ]
    },
    {
     "name": "stdout",
     "output_type": "stream",
     "text": [
      "Processing '..\\..\\..\\pet_project\\tables\\data_for_09_NOV_2022.csv'\n"
     ]
    },
    {
     "name": "stderr",
     "output_type": "stream",
     "text": [
      " 29%|██▊       | 36/126 [00:52<02:32,  1.69s/it]"
     ]
    },
    {
     "name": "stdout",
     "output_type": "stream",
     "text": [
      "Processing '..\\..\\..\\pet_project\\tables\\data_for_09_OCT_2022.csv'\n"
     ]
    },
    {
     "name": "stderr",
     "output_type": "stream",
     "text": [
      " 29%|██▉       | 37/126 [00:52<01:54,  1.29s/it]"
     ]
    },
    {
     "name": "stdout",
     "output_type": "stream",
     "text": [
      "Processing '..\\..\\..\\pet_project\\tables\\data_for_10_DEC_2022.csv'\n"
     ]
    },
    {
     "name": "stderr",
     "output_type": "stream",
     "text": [
      " 30%|███       | 38/126 [00:53<01:47,  1.22s/it]"
     ]
    },
    {
     "name": "stdout",
     "output_type": "stream",
     "text": [
      "Processing '..\\..\\..\\pet_project\\tables\\data_for_10_FEB_2023.csv'\n"
     ]
    },
    {
     "name": "stderr",
     "output_type": "stream",
     "text": [
      " 31%|███       | 39/126 [00:54<01:34,  1.08s/it]"
     ]
    },
    {
     "name": "stdout",
     "output_type": "stream",
     "text": [
      "Processing '..\\..\\..\\pet_project\\tables\\data_for_10_JAN_2023.csv'\n"
     ]
    },
    {
     "name": "stderr",
     "output_type": "stream",
     "text": [
      " 32%|███▏      | 40/126 [00:55<01:45,  1.22s/it]"
     ]
    },
    {
     "name": "stdout",
     "output_type": "stream",
     "text": [
      "Processing '..\\..\\..\\pet_project\\tables\\data_for_10_NOV_2022.csv'\n"
     ]
    },
    {
     "name": "stderr",
     "output_type": "stream",
     "text": [
      " 33%|███▎      | 41/126 [00:57<02:01,  1.43s/it]"
     ]
    },
    {
     "name": "stdout",
     "output_type": "stream",
     "text": [
      "Processing '..\\..\\..\\pet_project\\tables\\data_for_10_OCT_2022.csv'\n"
     ]
    },
    {
     "name": "stderr",
     "output_type": "stream",
     "text": [
      " 33%|███▎      | 42/126 [00:59<02:03,  1.47s/it]"
     ]
    },
    {
     "name": "stdout",
     "output_type": "stream",
     "text": [
      "Processing '..\\..\\..\\pet_project\\tables\\data_for_11_DEC_2022.csv'\n"
     ]
    },
    {
     "name": "stderr",
     "output_type": "stream",
     "text": [
      " 34%|███▍      | 43/126 [01:00<01:54,  1.38s/it]"
     ]
    },
    {
     "name": "stdout",
     "output_type": "stream",
     "text": [
      "Processing '..\\..\\..\\pet_project\\tables\\data_for_11_FEB_2023.csv'\n"
     ]
    },
    {
     "name": "stderr",
     "output_type": "stream",
     "text": [
      " 35%|███▍      | 44/126 [01:01<01:33,  1.14s/it]"
     ]
    },
    {
     "name": "stdout",
     "output_type": "stream",
     "text": [
      "Processing '..\\..\\..\\pet_project\\tables\\data_for_11_JAN_2023.csv'\n"
     ]
    },
    {
     "name": "stderr",
     "output_type": "stream",
     "text": [
      " 36%|███▌      | 45/126 [01:02<01:28,  1.10s/it]"
     ]
    },
    {
     "name": "stdout",
     "output_type": "stream",
     "text": [
      "Processing '..\\..\\..\\pet_project\\tables\\data_for_11_NOV_2022.csv'\n"
     ]
    },
    {
     "name": "stderr",
     "output_type": "stream",
     "text": [
      " 37%|███▋      | 46/126 [01:03<01:43,  1.30s/it]"
     ]
    },
    {
     "name": "stdout",
     "output_type": "stream",
     "text": [
      "Processing '..\\..\\..\\pet_project\\tables\\data_for_11_OCT_2022.csv'\n"
     ]
    },
    {
     "name": "stderr",
     "output_type": "stream",
     "text": [
      " 37%|███▋      | 47/126 [01:05<01:41,  1.29s/it]"
     ]
    },
    {
     "name": "stdout",
     "output_type": "stream",
     "text": [
      "Processing '..\\..\\..\\pet_project\\tables\\data_for_12_DEC_2022.csv'\n"
     ]
    },
    {
     "name": "stderr",
     "output_type": "stream",
     "text": [
      " 38%|███▊      | 48/126 [01:06<01:38,  1.27s/it]"
     ]
    },
    {
     "name": "stdout",
     "output_type": "stream",
     "text": [
      "Processing '..\\..\\..\\pet_project\\tables\\data_for_12_FEB_2023.csv'\n"
     ]
    },
    {
     "name": "stderr",
     "output_type": "stream",
     "text": [
      " 39%|███▉      | 49/126 [01:07<01:29,  1.16s/it]"
     ]
    },
    {
     "name": "stdout",
     "output_type": "stream",
     "text": [
      "Processing '..\\..\\..\\pet_project\\tables\\data_for_12_JAN_2023.csv'\n"
     ]
    },
    {
     "name": "stderr",
     "output_type": "stream",
     "text": [
      " 40%|███▉      | 50/126 [01:08<01:34,  1.24s/it]"
     ]
    },
    {
     "name": "stdout",
     "output_type": "stream",
     "text": [
      "Processing '..\\..\\..\\pet_project\\tables\\data_for_12_NOV_2022.csv'\n"
     ]
    },
    {
     "name": "stderr",
     "output_type": "stream",
     "text": [
      " 40%|████      | 51/126 [01:08<01:09,  1.07it/s]"
     ]
    },
    {
     "name": "stdout",
     "output_type": "stream",
     "text": [
      "Processing '..\\..\\..\\pet_project\\tables\\data_for_12_OCT_2022.csv'\n"
     ]
    },
    {
     "name": "stderr",
     "output_type": "stream",
     "text": [
      " 41%|████▏     | 52/126 [01:10<01:19,  1.07s/it]"
     ]
    },
    {
     "name": "stdout",
     "output_type": "stream",
     "text": [
      "Processing '..\\..\\..\\pet_project\\tables\\data_for_13_DEC_2022.csv'\n"
     ]
    },
    {
     "name": "stderr",
     "output_type": "stream",
     "text": [
      " 42%|████▏     | 53/126 [01:11<01:29,  1.23s/it]"
     ]
    },
    {
     "name": "stdout",
     "output_type": "stream",
     "text": [
      "Processing '..\\..\\..\\pet_project\\tables\\data_for_13_FEB_2023.csv'\n"
     ]
    },
    {
     "name": "stderr",
     "output_type": "stream",
     "text": [
      " 43%|████▎     | 54/126 [01:13<01:40,  1.39s/it]"
     ]
    },
    {
     "name": "stdout",
     "output_type": "stream",
     "text": [
      "Processing '..\\..\\..\\pet_project\\tables\\data_for_13_JAN_2023.csv'\n"
     ]
    },
    {
     "name": "stderr",
     "output_type": "stream",
     "text": [
      " 44%|████▎     | 55/126 [01:15<01:40,  1.41s/it]"
     ]
    },
    {
     "name": "stdout",
     "output_type": "stream",
     "text": [
      "Processing '..\\..\\..\\pet_project\\tables\\data_for_13_NOV_2022.csv'\n"
     ]
    },
    {
     "name": "stderr",
     "output_type": "stream",
     "text": [
      " 44%|████▍     | 56/126 [01:15<01:27,  1.25s/it]"
     ]
    },
    {
     "name": "stdout",
     "output_type": "stream",
     "text": [
      "Processing '..\\..\\..\\pet_project\\tables\\data_for_13_OCT_2022.csv'\n"
     ]
    },
    {
     "name": "stderr",
     "output_type": "stream",
     "text": [
      " 45%|████▌     | 57/126 [01:17<01:39,  1.45s/it]"
     ]
    },
    {
     "name": "stdout",
     "output_type": "stream",
     "text": [
      "Processing '..\\..\\..\\pet_project\\tables\\data_for_14_DEC_2022.csv'\n"
     ]
    },
    {
     "name": "stderr",
     "output_type": "stream",
     "text": [
      " 46%|████▌     | 58/126 [01:19<01:36,  1.42s/it]"
     ]
    },
    {
     "name": "stdout",
     "output_type": "stream",
     "text": [
      "Processing '..\\..\\..\\pet_project\\tables\\data_for_14_JAN_2023.csv'\n"
     ]
    },
    {
     "name": "stderr",
     "output_type": "stream",
     "text": [
      " 47%|████▋     | 59/126 [01:20<01:31,  1.36s/it]"
     ]
    },
    {
     "name": "stdout",
     "output_type": "stream",
     "text": [
      "Processing '..\\..\\..\\pet_project\\tables\\data_for_14_NOV_2022.csv'\n"
     ]
    },
    {
     "name": "stderr",
     "output_type": "stream",
     "text": [
      " 48%|████▊     | 60/126 [01:22<01:37,  1.47s/it]"
     ]
    },
    {
     "name": "stdout",
     "output_type": "stream",
     "text": [
      "Processing '..\\..\\..\\pet_project\\tables\\data_for_14_OCT_2022.csv'\n"
     ]
    },
    {
     "name": "stderr",
     "output_type": "stream",
     "text": [
      " 48%|████▊     | 61/126 [01:23<01:33,  1.44s/it]"
     ]
    },
    {
     "name": "stdout",
     "output_type": "stream",
     "text": [
      "Processing '..\\..\\..\\pet_project\\tables\\data_for_15_DEC_2022.csv'\n"
     ]
    },
    {
     "name": "stderr",
     "output_type": "stream",
     "text": [
      " 49%|████▉     | 62/126 [01:25<01:37,  1.52s/it]"
     ]
    },
    {
     "name": "stdout",
     "output_type": "stream",
     "text": [
      "Processing '..\\..\\..\\pet_project\\tables\\data_for_15_JAN_2023.csv'\n"
     ]
    },
    {
     "name": "stderr",
     "output_type": "stream",
     "text": [
      " 50%|█████     | 63/126 [01:26<01:26,  1.37s/it]"
     ]
    },
    {
     "name": "stdout",
     "output_type": "stream",
     "text": [
      "Processing '..\\..\\..\\pet_project\\tables\\data_for_15_NOV_2022.csv'\n"
     ]
    },
    {
     "name": "stderr",
     "output_type": "stream",
     "text": [
      " 51%|█████     | 64/126 [01:26<01:04,  1.04s/it]"
     ]
    },
    {
     "name": "stdout",
     "output_type": "stream",
     "text": [
      "Processing '..\\..\\..\\pet_project\\tables\\data_for_15_OCT_2022.csv'\n"
     ]
    },
    {
     "name": "stderr",
     "output_type": "stream",
     "text": [
      " 52%|█████▏    | 65/126 [01:27<01:10,  1.15s/it]"
     ]
    },
    {
     "name": "stdout",
     "output_type": "stream",
     "text": [
      "Processing '..\\..\\..\\pet_project\\tables\\data_for_16_DEC_2022.csv'\n"
     ]
    },
    {
     "name": "stderr",
     "output_type": "stream",
     "text": [
      " 52%|█████▏    | 66/126 [01:28<01:07,  1.12s/it]"
     ]
    },
    {
     "name": "stdout",
     "output_type": "stream",
     "text": [
      "Processing '..\\..\\..\\pet_project\\tables\\data_for_16_JAN_2023.csv'\n"
     ]
    },
    {
     "name": "stderr",
     "output_type": "stream",
     "text": [
      " 53%|█████▎    | 67/126 [01:30<01:05,  1.11s/it]"
     ]
    },
    {
     "name": "stdout",
     "output_type": "stream",
     "text": [
      "Processing '..\\..\\..\\pet_project\\tables\\data_for_16_NOV_2022.csv'\n"
     ]
    },
    {
     "name": "stderr",
     "output_type": "stream",
     "text": [
      " 54%|█████▍    | 68/126 [01:31<01:13,  1.27s/it]"
     ]
    },
    {
     "name": "stdout",
     "output_type": "stream",
     "text": [
      "Processing '..\\..\\..\\pet_project\\tables\\data_for_16_OCT_2022.csv'\n"
     ]
    },
    {
     "name": "stderr",
     "output_type": "stream",
     "text": [
      " 55%|█████▍    | 69/126 [01:32<01:11,  1.25s/it]"
     ]
    },
    {
     "name": "stdout",
     "output_type": "stream",
     "text": [
      "Processing '..\\..\\..\\pet_project\\tables\\data_for_17_DEC_2022.csv'\n"
     ]
    },
    {
     "name": "stderr",
     "output_type": "stream",
     "text": [
      " 56%|█████▌    | 70/126 [01:33<00:58,  1.05s/it]"
     ]
    },
    {
     "name": "stdout",
     "output_type": "stream",
     "text": [
      "Processing '..\\..\\..\\pet_project\\tables\\data_for_17_JAN_2023.csv'\n"
     ]
    },
    {
     "name": "stderr",
     "output_type": "stream",
     "text": [
      " 56%|█████▋    | 71/126 [01:35<01:05,  1.18s/it]"
     ]
    },
    {
     "name": "stdout",
     "output_type": "stream",
     "text": [
      "Processing '..\\..\\..\\pet_project\\tables\\data_for_17_NOV_2022.csv'\n"
     ]
    },
    {
     "name": "stderr",
     "output_type": "stream",
     "text": [
      " 57%|█████▋    | 72/126 [01:36<01:05,  1.22s/it]"
     ]
    },
    {
     "name": "stdout",
     "output_type": "stream",
     "text": [
      "Processing '..\\..\\..\\pet_project\\tables\\data_for_17_OCT_2022.csv'\n"
     ]
    },
    {
     "name": "stderr",
     "output_type": "stream",
     "text": [
      " 58%|█████▊    | 73/126 [01:38<01:13,  1.38s/it]"
     ]
    },
    {
     "name": "stdout",
     "output_type": "stream",
     "text": [
      "Processing '..\\..\\..\\pet_project\\tables\\data_for_18_DEC_2022.csv'\n"
     ]
    },
    {
     "name": "stderr",
     "output_type": "stream",
     "text": [
      " 59%|█████▊    | 74/126 [01:39<01:07,  1.31s/it]"
     ]
    },
    {
     "name": "stdout",
     "output_type": "stream",
     "text": [
      "Processing '..\\..\\..\\pet_project\\tables\\data_for_18_JAN_2023.csv'\n"
     ]
    },
    {
     "name": "stderr",
     "output_type": "stream",
     "text": [
      " 60%|█████▉    | 75/126 [01:40<01:05,  1.28s/it]"
     ]
    },
    {
     "name": "stdout",
     "output_type": "stream",
     "text": [
      "Processing '..\\..\\..\\pet_project\\tables\\data_for_18_NOV_2022.csv'\n"
     ]
    },
    {
     "name": "stderr",
     "output_type": "stream",
     "text": [
      " 60%|██████    | 76/126 [01:42<01:10,  1.41s/it]"
     ]
    },
    {
     "name": "stdout",
     "output_type": "stream",
     "text": [
      "Processing '..\\..\\..\\pet_project\\tables\\data_for_18_OCT_2022.csv'\n"
     ]
    },
    {
     "name": "stderr",
     "output_type": "stream",
     "text": [
      " 61%|██████    | 77/126 [01:43<01:12,  1.48s/it]"
     ]
    },
    {
     "name": "stdout",
     "output_type": "stream",
     "text": [
      "Processing '..\\..\\..\\pet_project\\tables\\data_for_19_DEC_2022.csv'\n"
     ]
    },
    {
     "name": "stderr",
     "output_type": "stream",
     "text": [
      " 62%|██████▏   | 78/126 [01:44<01:05,  1.36s/it]"
     ]
    },
    {
     "name": "stdout",
     "output_type": "stream",
     "text": [
      "Processing '..\\..\\..\\pet_project\\tables\\data_for_19_JAN_2023.csv'\n"
     ]
    },
    {
     "name": "stderr",
     "output_type": "stream",
     "text": [
      " 63%|██████▎   | 79/126 [01:46<01:03,  1.35s/it]"
     ]
    },
    {
     "name": "stdout",
     "output_type": "stream",
     "text": [
      "Processing '..\\..\\..\\pet_project\\tables\\data_for_19_NOV_2022.csv'\n"
     ]
    },
    {
     "name": "stderr",
     "output_type": "stream",
     "text": [
      " 63%|██████▎   | 80/126 [01:47<01:01,  1.34s/it]"
     ]
    },
    {
     "name": "stdout",
     "output_type": "stream",
     "text": [
      "Processing '..\\..\\..\\pet_project\\tables\\data_for_19_OCT_2022.csv'\n"
     ]
    },
    {
     "name": "stderr",
     "output_type": "stream",
     "text": [
      " 64%|██████▍   | 81/126 [01:49<01:04,  1.44s/it]"
     ]
    },
    {
     "name": "stdout",
     "output_type": "stream",
     "text": [
      "Processing '..\\..\\..\\pet_project\\tables\\data_for_20_DEC_2022.csv'\n"
     ]
    },
    {
     "name": "stderr",
     "output_type": "stream",
     "text": [
      " 65%|██████▌   | 82/126 [01:50<01:01,  1.39s/it]"
     ]
    },
    {
     "name": "stdout",
     "output_type": "stream",
     "text": [
      "Processing '..\\..\\..\\pet_project\\tables\\data_for_20_JAN_2023.csv'\n"
     ]
    },
    {
     "name": "stderr",
     "output_type": "stream",
     "text": [
      " 66%|██████▌   | 83/126 [01:51<00:56,  1.31s/it]"
     ]
    },
    {
     "name": "stdout",
     "output_type": "stream",
     "text": [
      "Processing '..\\..\\..\\pet_project\\tables\\data_for_20_NOV_2022.csv'\n"
     ]
    },
    {
     "name": "stderr",
     "output_type": "stream",
     "text": [
      " 67%|██████▋   | 84/126 [01:52<00:54,  1.29s/it]"
     ]
    },
    {
     "name": "stdout",
     "output_type": "stream",
     "text": [
      "Processing '..\\..\\..\\pet_project\\tables\\data_for_20_OCT_2022.csv'\n"
     ]
    },
    {
     "name": "stderr",
     "output_type": "stream",
     "text": [
      " 67%|██████▋   | 85/126 [01:54<00:57,  1.40s/it]"
     ]
    },
    {
     "name": "stdout",
     "output_type": "stream",
     "text": [
      "Processing '..\\..\\..\\pet_project\\tables\\data_for_21_DEC_2022.csv'\n"
     ]
    },
    {
     "name": "stderr",
     "output_type": "stream",
     "text": [
      " 68%|██████▊   | 86/126 [01:55<00:52,  1.31s/it]"
     ]
    },
    {
     "name": "stdout",
     "output_type": "stream",
     "text": [
      "Processing '..\\..\\..\\pet_project\\tables\\data_for_21_JAN_2023.csv'\n"
     ]
    },
    {
     "name": "stderr",
     "output_type": "stream",
     "text": [
      " 69%|██████▉   | 87/126 [01:56<00:48,  1.24s/it]"
     ]
    },
    {
     "name": "stdout",
     "output_type": "stream",
     "text": [
      "Processing '..\\..\\..\\pet_project\\tables\\data_for_21_NOV_2022.csv'\n"
     ]
    },
    {
     "name": "stderr",
     "output_type": "stream",
     "text": [
      " 70%|██████▉   | 88/126 [01:58<00:52,  1.38s/it]"
     ]
    },
    {
     "name": "stdout",
     "output_type": "stream",
     "text": [
      "Processing '..\\..\\..\\pet_project\\tables\\data_for_21_OCT_2022.csv'\n"
     ]
    },
    {
     "name": "stderr",
     "output_type": "stream",
     "text": [
      " 71%|███████   | 89/126 [02:00<00:59,  1.60s/it]"
     ]
    },
    {
     "name": "stdout",
     "output_type": "stream",
     "text": [
      "Processing '..\\..\\..\\pet_project\\tables\\data_for_22_DEC_2022.csv'\n"
     ]
    },
    {
     "name": "stderr",
     "output_type": "stream",
     "text": [
      " 71%|███████▏  | 90/126 [02:02<00:59,  1.65s/it]"
     ]
    },
    {
     "name": "stdout",
     "output_type": "stream",
     "text": [
      "Processing '..\\..\\..\\pet_project\\tables\\data_for_22_JAN_2023.csv'\n"
     ]
    },
    {
     "name": "stderr",
     "output_type": "stream",
     "text": [
      " 72%|███████▏  | 91/126 [02:03<00:54,  1.55s/it]"
     ]
    },
    {
     "name": "stdout",
     "output_type": "stream",
     "text": [
      "Processing '..\\..\\..\\pet_project\\tables\\data_for_22_NOV_2022.csv'\n"
     ]
    },
    {
     "name": "stderr",
     "output_type": "stream",
     "text": [
      " 73%|███████▎  | 92/126 [02:05<00:54,  1.60s/it]"
     ]
    },
    {
     "name": "stdout",
     "output_type": "stream",
     "text": [
      "Processing '..\\..\\..\\pet_project\\tables\\data_for_22_OCT_2022.csv'\n"
     ]
    },
    {
     "name": "stderr",
     "output_type": "stream",
     "text": [
      " 74%|███████▍  | 93/126 [02:06<00:48,  1.47s/it]"
     ]
    },
    {
     "name": "stdout",
     "output_type": "stream",
     "text": [
      "Processing '..\\..\\..\\pet_project\\tables\\data_for_23_DEC_2022.csv'\n"
     ]
    },
    {
     "name": "stderr",
     "output_type": "stream",
     "text": [
      " 75%|███████▍  | 94/126 [02:07<00:47,  1.47s/it]"
     ]
    },
    {
     "name": "stdout",
     "output_type": "stream",
     "text": [
      "Processing '..\\..\\..\\pet_project\\tables\\data_for_23_JAN_2023.csv'\n"
     ]
    },
    {
     "name": "stderr",
     "output_type": "stream",
     "text": [
      " 75%|███████▌  | 95/126 [02:10<00:53,  1.73s/it]"
     ]
    },
    {
     "name": "stdout",
     "output_type": "stream",
     "text": [
      "Processing '..\\..\\..\\pet_project\\tables\\data_for_23_NOV_2022.csv'\n"
     ]
    },
    {
     "name": "stderr",
     "output_type": "stream",
     "text": [
      " 76%|███████▌  | 96/126 [02:12<00:52,  1.75s/it]"
     ]
    },
    {
     "name": "stdout",
     "output_type": "stream",
     "text": [
      "Processing '..\\..\\..\\pet_project\\tables\\data_for_23_OCT_2022.csv'\n"
     ]
    },
    {
     "name": "stderr",
     "output_type": "stream",
     "text": [
      " 77%|███████▋  | 97/126 [02:13<00:50,  1.73s/it]"
     ]
    },
    {
     "name": "stdout",
     "output_type": "stream",
     "text": [
      "Processing '..\\..\\..\\pet_project\\tables\\data_for_24_DEC_2022.csv'\n"
     ]
    },
    {
     "name": "stderr",
     "output_type": "stream",
     "text": [
      " 78%|███████▊  | 98/126 [02:14<00:44,  1.57s/it]"
     ]
    },
    {
     "name": "stdout",
     "output_type": "stream",
     "text": [
      "Processing '..\\..\\..\\pet_project\\tables\\data_for_24_JAN_2023.csv'\n"
     ]
    },
    {
     "name": "stderr",
     "output_type": "stream",
     "text": [
      " 79%|███████▊  | 99/126 [02:16<00:38,  1.43s/it]"
     ]
    },
    {
     "name": "stdout",
     "output_type": "stream",
     "text": [
      "Processing '..\\..\\..\\pet_project\\tables\\data_for_24_NOV_2022.csv'\n"
     ]
    },
    {
     "name": "stderr",
     "output_type": "stream",
     "text": [
      " 79%|███████▉  | 100/126 [02:17<00:34,  1.31s/it]"
     ]
    },
    {
     "name": "stdout",
     "output_type": "stream",
     "text": [
      "Processing '..\\..\\..\\pet_project\\tables\\data_for_24_OCT_2022.csv'\n"
     ]
    },
    {
     "name": "stderr",
     "output_type": "stream",
     "text": [
      " 80%|████████  | 101/126 [02:19<00:37,  1.52s/it]"
     ]
    },
    {
     "name": "stdout",
     "output_type": "stream",
     "text": [
      "Processing '..\\..\\..\\pet_project\\tables\\data_for_25_DEC_2022.csv'\n"
     ]
    },
    {
     "name": "stderr",
     "output_type": "stream",
     "text": [
      " 81%|████████  | 102/126 [02:20<00:33,  1.41s/it]"
     ]
    },
    {
     "name": "stdout",
     "output_type": "stream",
     "text": [
      "Processing '..\\..\\..\\pet_project\\tables\\data_for_25_JAN_2023.csv'\n"
     ]
    },
    {
     "name": "stderr",
     "output_type": "stream",
     "text": [
      " 82%|████████▏ | 103/126 [02:21<00:35,  1.52s/it]"
     ]
    },
    {
     "name": "stdout",
     "output_type": "stream",
     "text": [
      "Processing '..\\..\\..\\pet_project\\tables\\data_for_25_NOV_2022.csv'\n"
     ]
    },
    {
     "name": "stderr",
     "output_type": "stream",
     "text": [
      " 83%|████████▎ | 104/126 [02:24<00:36,  1.68s/it]"
     ]
    },
    {
     "name": "stdout",
     "output_type": "stream",
     "text": [
      "Processing '..\\..\\..\\pet_project\\tables\\data_for_25_OCT_2022.csv'\n"
     ]
    },
    {
     "name": "stderr",
     "output_type": "stream",
     "text": [
      " 83%|████████▎ | 105/126 [02:25<00:36,  1.74s/it]"
     ]
    },
    {
     "name": "stdout",
     "output_type": "stream",
     "text": [
      "Processing '..\\..\\..\\pet_project\\tables\\data_for_26_DEC_2022.csv'\n"
     ]
    },
    {
     "name": "stderr",
     "output_type": "stream",
     "text": [
      " 84%|████████▍ | 106/126 [02:27<00:34,  1.75s/it]"
     ]
    },
    {
     "name": "stdout",
     "output_type": "stream",
     "text": [
      "Processing '..\\..\\..\\pet_project\\tables\\data_for_26_NOV_2022.csv'\n"
     ]
    },
    {
     "name": "stderr",
     "output_type": "stream",
     "text": [
      " 85%|████████▍ | 107/126 [02:28<00:29,  1.58s/it]"
     ]
    },
    {
     "name": "stdout",
     "output_type": "stream",
     "text": [
      "Processing '..\\..\\..\\pet_project\\tables\\data_for_26_OCT_2022.csv'\n"
     ]
    },
    {
     "name": "stderr",
     "output_type": "stream",
     "text": [
      " 86%|████████▌ | 108/126 [02:30<00:28,  1.58s/it]"
     ]
    },
    {
     "name": "stdout",
     "output_type": "stream",
     "text": [
      "Processing '..\\..\\..\\pet_project\\tables\\data_for_27_DEC_2022.csv'\n"
     ]
    },
    {
     "name": "stderr",
     "output_type": "stream",
     "text": [
      " 87%|████████▋ | 109/126 [02:31<00:24,  1.42s/it]"
     ]
    },
    {
     "name": "stdout",
     "output_type": "stream",
     "text": [
      "Processing '..\\..\\..\\pet_project\\tables\\data_for_27_NOV_2022.csv'\n"
     ]
    },
    {
     "name": "stderr",
     "output_type": "stream",
     "text": [
      " 87%|████████▋ | 110/126 [02:32<00:20,  1.30s/it]"
     ]
    },
    {
     "name": "stdout",
     "output_type": "stream",
     "text": [
      "Processing '..\\..\\..\\pet_project\\tables\\data_for_27_OCT_2022.csv'\n"
     ]
    },
    {
     "name": "stderr",
     "output_type": "stream",
     "text": [
      " 88%|████████▊ | 111/126 [02:34<00:23,  1.59s/it]"
     ]
    },
    {
     "name": "stdout",
     "output_type": "stream",
     "text": [
      "Processing '..\\..\\..\\pet_project\\tables\\data_for_28_DEC_2022.csv'\n"
     ]
    },
    {
     "name": "stderr",
     "output_type": "stream",
     "text": [
      " 89%|████████▉ | 112/126 [02:36<00:23,  1.68s/it]"
     ]
    },
    {
     "name": "stdout",
     "output_type": "stream",
     "text": [
      "Processing '..\\..\\..\\pet_project\\tables\\data_for_28_JAN_2023.csv'\n",
      "Processing '..\\..\\..\\pet_project\\tables\\data_for_28_NOV_2022.csv'\n"
     ]
    },
    {
     "name": "stderr",
     "output_type": "stream",
     "text": [
      " 90%|█████████ | 114/126 [02:38<00:15,  1.30s/it]"
     ]
    },
    {
     "name": "stdout",
     "output_type": "stream",
     "text": [
      "Processing '..\\..\\..\\pet_project\\tables\\data_for_28_OCT_2022.csv'\n"
     ]
    },
    {
     "name": "stderr",
     "output_type": "stream",
     "text": [
      " 91%|█████████▏| 115/126 [02:40<00:16,  1.46s/it]"
     ]
    },
    {
     "name": "stdout",
     "output_type": "stream",
     "text": [
      "Processing '..\\..\\..\\pet_project\\tables\\data_for_29_DEC_2022.csv'\n"
     ]
    },
    {
     "name": "stderr",
     "output_type": "stream",
     "text": [
      " 92%|█████████▏| 116/126 [02:41<00:14,  1.47s/it]"
     ]
    },
    {
     "name": "stdout",
     "output_type": "stream",
     "text": [
      "Processing '..\\..\\..\\pet_project\\tables\\data_for_29_JAN_2023.csv'\n"
     ]
    },
    {
     "name": "stderr",
     "output_type": "stream",
     "text": [
      " 93%|█████████▎| 117/126 [02:43<00:12,  1.40s/it]"
     ]
    },
    {
     "name": "stdout",
     "output_type": "stream",
     "text": [
      "Processing '..\\..\\..\\pet_project\\tables\\data_for_29_NOV_2022.csv'\n"
     ]
    },
    {
     "name": "stderr",
     "output_type": "stream",
     "text": [
      " 94%|█████████▎| 118/126 [02:44<00:11,  1.44s/it]"
     ]
    },
    {
     "name": "stdout",
     "output_type": "stream",
     "text": [
      "Processing '..\\..\\..\\pet_project\\tables\\data_for_29_OCT_2022.csv'\n"
     ]
    },
    {
     "name": "stderr",
     "output_type": "stream",
     "text": [
      " 94%|█████████▍| 119/126 [02:45<00:09,  1.43s/it]"
     ]
    },
    {
     "name": "stdout",
     "output_type": "stream",
     "text": [
      "Processing '..\\..\\..\\pet_project\\tables\\data_for_30_DEC_2022.csv'\n"
     ]
    },
    {
     "name": "stderr",
     "output_type": "stream",
     "text": [
      " 95%|█████████▌| 120/126 [02:47<00:09,  1.54s/it]"
     ]
    },
    {
     "name": "stdout",
     "output_type": "stream",
     "text": [
      "Processing '..\\..\\..\\pet_project\\tables\\data_for_30_JAN_2023.csv'\n"
     ]
    },
    {
     "name": "stderr",
     "output_type": "stream",
     "text": [
      " 96%|█████████▌| 121/126 [02:49<00:08,  1.69s/it]"
     ]
    },
    {
     "name": "stdout",
     "output_type": "stream",
     "text": [
      "Processing '..\\..\\..\\pet_project\\tables\\data_for_30_NOV_2022.csv'\n"
     ]
    },
    {
     "name": "stderr",
     "output_type": "stream",
     "text": [
      " 97%|█████████▋| 122/126 [02:51<00:06,  1.62s/it]"
     ]
    },
    {
     "name": "stdout",
     "output_type": "stream",
     "text": [
      "Processing '..\\..\\..\\pet_project\\tables\\data_for_30_OCT_2022.csv'\n"
     ]
    },
    {
     "name": "stderr",
     "output_type": "stream",
     "text": [
      " 98%|█████████▊| 123/126 [02:52<00:04,  1.59s/it]"
     ]
    },
    {
     "name": "stdout",
     "output_type": "stream",
     "text": [
      "Processing '..\\..\\..\\pet_project\\tables\\data_for_31_DEC_2022.csv'\n"
     ]
    },
    {
     "name": "stderr",
     "output_type": "stream",
     "text": [
      " 98%|█████████▊| 124/126 [02:54<00:02,  1.48s/it]"
     ]
    },
    {
     "name": "stdout",
     "output_type": "stream",
     "text": [
      "Processing '..\\..\\..\\pet_project\\tables\\data_for_31_JAN_2023.csv'\n"
     ]
    },
    {
     "name": "stderr",
     "output_type": "stream",
     "text": [
      " 99%|█████████▉| 125/126 [02:55<00:01,  1.37s/it]"
     ]
    },
    {
     "name": "stdout",
     "output_type": "stream",
     "text": [
      "Processing '..\\..\\..\\pet_project\\tables\\data_for_31_OCT_2022.csv'\n"
     ]
    },
    {
     "name": "stderr",
     "output_type": "stream",
     "text": [
      "100%|██████████| 126/126 [02:56<00:00,  1.40s/it]\n"
     ]
    }
   ],
   "source": [
    "file_path = Path(f\"../../../pet_project/tables\")\n",
    "file_path_list = [p for p in file_path.iterdir() if \".csv\" in p.name]\n",
    "(file_path/\"parquet\").mkdir(exist_ok=True)\n",
    "\n",
    "# errors in 22\n",
    "for folder_path in tqdm(file_path_list[:]):   \n",
    "    print(f\"Processing '{folder_path}'\")\n",
    "    df = pd.read_csv(folder_path)\n",
    "    \n",
    "    df[\"busNumber\"] = df[\"busNumber\"].astype(str)\n",
    "    df.to_parquet(folder_path.parent/'parquet'/(folder_path.name[:-4] + '.parquet'))"
   ]
  },
  {
   "cell_type": "code",
   "execution_count": 53,
   "id": "66d4652d-7651-426a-89d7-ea8e73d2ac06",
   "metadata": {},
   "outputs": [
    {
     "data": {
      "text/plain": [
       "\u001b[1;31mSignature:\u001b[0m \u001b[0mPath\u001b[0m\u001b[1;33m.\u001b[0m\u001b[0mmkdir\u001b[0m\u001b[1;33m(\u001b[0m\u001b[0mself\u001b[0m\u001b[1;33m,\u001b[0m \u001b[0mmode\u001b[0m\u001b[1;33m=\u001b[0m\u001b[1;36m511\u001b[0m\u001b[1;33m,\u001b[0m \u001b[0mparents\u001b[0m\u001b[1;33m=\u001b[0m\u001b[1;32mFalse\u001b[0m\u001b[1;33m,\u001b[0m \u001b[0mexist_ok\u001b[0m\u001b[1;33m=\u001b[0m\u001b[1;32mFalse\u001b[0m\u001b[1;33m)\u001b[0m\u001b[1;33m\u001b[0m\u001b[1;33m\u001b[0m\u001b[0m\n",
       "\u001b[1;31mDocstring:\u001b[0m Create a new directory at this given path.\n",
       "\u001b[1;31mFile:\u001b[0m      c:\\program files\\python38\\lib\\pathlib.py\n",
       "\u001b[1;31mType:\u001b[0m      function\n"
      ]
     },
     "metadata": {},
     "output_type": "display_data"
    }
   ],
   "source": [
    "Path.mkdir?"
   ]
  },
  {
   "cell_type": "code",
   "execution_count": null,
   "id": "2d60d167-33b5-4867-975b-7c214d59dae7",
   "metadata": {},
   "outputs": [],
   "source": [
    "(file_path/\"parquet\").mkdir"
   ]
  }
 ],
 "metadata": {
  "kernelspec": {
   "display_name": "Python 3",
   "language": "python",
   "name": "python3"
  },
  "language_info": {
   "codemirror_mode": {
    "name": "ipython",
    "version": 3
   },
   "file_extension": ".py",
   "mimetype": "text/x-python",
   "name": "python",
   "nbconvert_exporter": "python",
   "pygments_lexer": "ipython3",
   "version": "3.8.9"
  }
 },
 "nbformat": 4,
 "nbformat_minor": 5
}
