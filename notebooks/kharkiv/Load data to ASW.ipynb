{
 "cells": [
  {
   "cell_type": "code",
   "execution_count": 1,
   "id": "fef48cae",
   "metadata": {},
   "outputs": [],
   "source": [
    "import json\n",
    "import numpy as np\n",
    "import pandas as pd\n",
    "import psycopg2\n",
    "import os\n",
    "\n",
    "from collections import Counter\n",
    "from datetime import datetime, timedelta\n",
    "from dateutil.tz import tzlocal \n",
    "from pathlib import Path\n",
    "from tqdm import tqdm"
   ]
  },
  {
   "cell_type": "markdown",
   "id": "9d5c0cac-310a-41c3-8e90-d8f8220a8f4e",
   "metadata": {},
   "source": [
    "## Analyse data"
   ]
  },
  {
   "cell_type": "code",
   "execution_count": 2,
   "id": "74b9e45f-b532-43a9-bf92-430b40e95b93",
   "metadata": {
    "collapsed": true,
    "jupyter": {
     "outputs_hidden": true
    },
    "tags": []
   },
   "outputs": [
    {
     "data": {
      "text/plain": [
       "[WindowsPath('../../../pet_project/kharkiv/new 1.txt'),\n",
       " WindowsPath('../../../pet_project/kharkiv/trans_data_01_FEB_2023'),\n",
       " WindowsPath('../../../pet_project/kharkiv/trans_data_02_FEB_2023'),\n",
       " WindowsPath('../../../pet_project/kharkiv/trans_data_03_FEB_2023'),\n",
       " WindowsPath('../../../pet_project/kharkiv/trans_data_25_JAN_2023'),\n",
       " WindowsPath('../../../pet_project/kharkiv/trans_data_26_JAN_2023'),\n",
       " WindowsPath('../../../pet_project/kharkiv/trans_data_27_JAN_2023'),\n",
       " WindowsPath('../../../pet_project/kharkiv/trans_data_28_JAN_2023'),\n",
       " WindowsPath('../../../pet_project/kharkiv/trans_data_29_JAN_2023'),\n",
       " WindowsPath('../../../pet_project/kharkiv/trans_data_30_JAN_2023'),\n",
       " WindowsPath('../../../pet_project/kharkiv/trans_data_31_JAN_2023')]"
      ]
     },
     "execution_count": 2,
     "metadata": {},
     "output_type": "execute_result"
    }
   ],
   "source": [
    "[p for p in kharkiv_folder_path.iterdir()]"
   ]
  },
  {
   "cell_type": "code",
   "execution_count": 25,
   "id": "f2422d59-127a-4d9c-b65d-3ed3a97b4a85",
   "metadata": {
    "tags": []
   },
   "outputs": [
    {
     "data": {
      "text/plain": [
       "[WindowsPath('../../../pet_project/kharkiv/archive'),\n",
       " WindowsPath('../../../pet_project/kharkiv/new 1.txt')]"
      ]
     },
     "execution_count": 25,
     "metadata": {},
     "output_type": "execute_result"
    }
   ],
   "source": [
    "[p for p in Path(\"../../../pet_project/kharkiv\").iterdir()]"
   ]
  },
  {
   "cell_type": "code",
   "execution_count": null,
   "id": "de2b9c46-f4f3-4e7f-8318-1068397fdfeb",
   "metadata": {
    "tags": []
   },
   "outputs": [],
   "source": []
  },
  {
   "cell_type": "code",
   "execution_count": 2,
   "id": "569c1bce-bef2-4f20-a00a-7d84099a0584",
   "metadata": {},
   "outputs": [],
   "source": [
    "from concurrent.futures import ThreadPoolExecutor\n",
    "\n",
    "def load_responses(resp_path):\n",
    "    resp_tm = datetime.strptime(resp_path.name[6:-5], '%Y-%m-%d %H;%M;%S')\n",
    "    resp_tm_str = resp_tm.replace(tzinfo=tzlocal()).isoformat()\n",
    "    \n",
    "    with open(resp_path) as f:\n",
    "        resp = json.load(f)\n",
    "        if (\"rows\" in resp) and (resp[\"rows\"]): \n",
    "            return [row + [resp['timestamp'], resp_tm_str] \n",
    "                    for row in resp['rows']]\n",
    "        else: \n",
    "            return []\n",
    "\n",
    "def accumulate_responses_from_folder(folder_path):\n",
    "    file_path_list = list(folder_path.iterdir())\n",
    "    with ThreadPoolExecutor(max_workers=10) as executor:\n",
    "        results = list(tqdm(executor.map(load_responses, file_path_list),\n",
    "                            total=len(file_path_list), mininterval=10, leave=False, \n",
    "                            desc=\"Accumulate responses from folder\")\n",
    "                          )\n",
    "        resp_list = []\n",
    "        for resp_ in results: \n",
    "            resp_list += resp_\n",
    "        print(f\"Accumulate responses from folder\\n\"\\\n",
    "              f\"\\t{len(resp_list)} / {len(resp_list)} [avg={len(resp_list)/len(resp_list):.2f}]\")\n",
    "    \n",
    "    \n",
    "    columns = ['imei', 'lat', 'lng', 'speed', 'gps_datetime_origin', 'orientation', 'route_name', \n",
    "               'route_type', 'vehicle_id', 'dd', 'gpstime', 'response_datetime'] \n",
    "\n",
    "    return pd.DataFrame(resp_list, columns=columns)\n",
    "    \n",
    "def clear_data(in_df):\n",
    "    unique_data = []\n",
    "    \n",
    "    imei_list = in_df['imei'].value_counts().index\n",
    "    imei_tqdm = tqdm(\n",
    "        imei_list, total=len(imei_list), mininterval=10, leave=False, desc=\"Clear data\"\n",
    "    )\n",
    "    \n",
    "    for imei in imei_tqdm: \n",
    "        row_data = in_df[ in_df['imei'] == imei].values.tolist()\n",
    "        result = [row_data[0]]\n",
    "        for row0, row1 in zip(row_data[:-1], row_data[1:]):\n",
    "            if row0[1:9] != row1[1:9]: \n",
    "                result += [row1]\n",
    "        unique_data += result\n",
    "\n",
    "    df_unique = pd.DataFrame(unique_data, columns=in_df.columns)\n",
    "    print(f\"Clear data\\n\\t{len(in_df)} / {len(df_unique)} [avg {len(in_df) / len(df_unique):.02f}]\")\n",
    "    return df_unique"
   ]
  },
  {
   "cell_type": "code",
   "execution_count": 26,
   "id": "90d15e7c-5000-4380-aeb7-4f654d374e00",
   "metadata": {},
   "outputs": [
    {
     "data": {
      "text/plain": [
       "[WindowsPath('../../data/local/jsons/kharkiv/trans_data_10_FEB_2023'),\n",
       " WindowsPath('../../data/local/jsons/kharkiv/trans_data_11_FEB_2023'),\n",
       " WindowsPath('../../data/local/jsons/kharkiv/trans_data_12_FEB_2023'),\n",
       " WindowsPath('../../data/local/jsons/kharkiv/trans_data_13_FEB_2023'),\n",
       " WindowsPath('../../data/local/jsons/kharkiv/trans_data_14_FEB_2023'),\n",
       " WindowsPath('../../data/local/jsons/kharkiv/trans_data_15_FEB_2023')]"
      ]
     },
     "execution_count": 26,
     "metadata": {},
     "output_type": "execute_result"
    }
   ],
   "source": [
    "kharkiv_folder_path = Path(\"../../data/local/jsons/kharkiv\")\n",
    "# kharkiv_folder_path = Path(\"../../../pet_project/kharkiv\")\n",
    "kharkiv_folder_list = [p for p in kharkiv_folder_path.iterdir() if \"trans_data_\" in p.name]\n",
    "kharkiv_folders_list = sorted(kharkiv_folder_list,\n",
    "                        key=lambda p: datetime.strptime(p.name[11:], '%d_%b_%Y'))\n",
    "kharkiv_folders_list"
   ]
  },
  {
   "cell_type": "code",
   "execution_count": 28,
   "id": "de87a77c-a3c8-4f3e-b1c7-c3dfc4a439e2",
   "metadata": {},
   "outputs": [
    {
     "data": {
      "text/plain": [
       "[WindowsPath('../../data/local/jsons/kharkiv/archive/origin/trans_data_03_FEB_2023_origin.parquet'),\n",
       " WindowsPath('../../data/local/jsons/kharkiv/archive/origin/trans_data_04_FEB_2023_origin.parquet'),\n",
       " WindowsPath('../../data/local/jsons/kharkiv/archive/origin/trans_data_05_FEB_2023_origin.parquet'),\n",
       " WindowsPath('../../data/local/jsons/kharkiv/archive/origin/trans_data_06_FEB_2023_origin.parquet'),\n",
       " WindowsPath('../../data/local/jsons/kharkiv/archive/origin/trans_data_07_FEB_2023_origin.parquet'),\n",
       " WindowsPath('../../data/local/jsons/kharkiv/archive/origin/trans_data_08_FEB_2023_origin.parquet'),\n",
       " WindowsPath('../../data/local/jsons/kharkiv/archive/origin/trans_data_10_FEB_2023_origin.parquet'),\n",
       " WindowsPath('../../data/local/jsons/kharkiv/archive/origin/trans_data_11_FEB_2023_origin.parquet')]"
      ]
     },
     "execution_count": 28,
     "metadata": {},
     "output_type": "execute_result"
    }
   ],
   "source": [
    "[p for p in (kharkiv_folder_path/'archive/origin').iterdir()]"
   ]
  },
  {
   "cell_type": "code",
   "execution_count": 5,
   "id": "a8cb7c34-3640-48e0-b559-6514d877dbe2",
   "metadata": {},
   "outputs": [],
   "source": [
    "# (kharkiv_folder_path/\"archive/optimized\").mkdir()"
   ]
  },
  {
   "cell_type": "code",
   "execution_count": 29,
   "id": "160c4ced-150b-4867-8b1e-7ab98f085cf6",
   "metadata": {
    "tags": []
   },
   "outputs": [
    {
     "name": "stderr",
     "output_type": "stream",
     "text": [
      "  0%|          | 0/5 [00:00<?, ?it/s]"
     ]
    },
    {
     "name": "stdout",
     "output_type": "stream",
     "text": [
      "Processing '..\\..\\data\\local\\jsons\\kharkiv\\trans_data_10_FEB_2023'\n"
     ]
    },
    {
     "name": "stderr",
     "output_type": "stream",
     "text": [
      "\n",
      "Accumulate responses from folder:   0%|          | 0/11678 [00:00<?, ?it/s]\u001b[A\n",
      "Accumulate responses from folder:  38%|███▊      | 4423/11678 [00:10<00:16, 442.03it/s]\u001b[A\n",
      "Accumulate responses from folder:  76%|███████▌  | 8844/11678 [00:22<00:07, 376.14it/s]\u001b[A\n",
      "                                                                                       \u001b[A"
     ]
    },
    {
     "name": "stdout",
     "output_type": "stream",
     "text": [
      "Accumulate responses from folder\n",
      "\t1677118 / 1677118 [avg=1.00]\n"
     ]
    },
    {
     "name": "stderr",
     "output_type": "stream",
     "text": [
      "\n",
      "Clear data:   0%|          | 0/284 [00:00<?, ?it/s]\u001b[A\n",
      "                                                   \u001b[A"
     ]
    },
    {
     "name": "stdout",
     "output_type": "stream",
     "text": [
      "Clear data\n",
      "\t1677118 / 138030 [avg 12.15]\n"
     ]
    },
    {
     "name": "stderr",
     "output_type": "stream",
     "text": [
      " 20%|██        | 1/5 [01:00<04:03, 60.92s/it]"
     ]
    },
    {
     "name": "stdout",
     "output_type": "stream",
     "text": [
      "Processing '..\\..\\data\\local\\jsons\\kharkiv\\trans_data_11_FEB_2023'\n"
     ]
    },
    {
     "name": "stderr",
     "output_type": "stream",
     "text": [
      "\n",
      "Accumulate responses from folder:   0%|          | 0/6677 [00:00<?, ?it/s]\u001b[A\n",
      "Accumulate responses from folder:  50%|████▉     | 3323/6677 [00:10<00:10, 331.62it/s]\u001b[A\n",
      "Accumulate responses from folder:  99%|█████████▉| 6640/6677 [00:21<00:00, 310.96it/s]\u001b[A\n",
      "                                                                                      \u001b[A"
     ]
    },
    {
     "name": "stdout",
     "output_type": "stream",
     "text": [
      "Accumulate responses from folder\n",
      "\t772806 / 772806 [avg=1.00]\n"
     ]
    },
    {
     "name": "stderr",
     "output_type": "stream",
     "text": [
      "\n",
      "Clear data:   0%|          | 0/237 [00:00<?, ?it/s]\u001b[A\n",
      " 40%|████      | 2/5 [01:31<02:10, 43.35s/it]      \u001b[A"
     ]
    },
    {
     "name": "stdout",
     "output_type": "stream",
     "text": [
      "Clear data\n",
      "\t772806 / 69307 [avg 11.15]\n",
      "Processing '..\\..\\data\\local\\jsons\\kharkiv\\trans_data_12_FEB_2023'\n"
     ]
    },
    {
     "name": "stderr",
     "output_type": "stream",
     "text": [
      "\n",
      "Accumulate responses from folder:   0%|          | 0/14653 [00:00<?, ?it/s]\u001b[A\n",
      "Accumulate responses from folder:  20%|█▉        | 2865/14653 [00:10<00:41, 286.42it/s]\u001b[A\n",
      "Accumulate responses from folder:  39%|███▉      | 5730/14653 [00:20<00:31, 281.44it/s]\u001b[A\n",
      "Accumulate responses from folder:  58%|█████▊    | 8511/14653 [00:31<00:22, 270.19it/s]\u001b[A\n",
      "Accumulate responses from folder:  76%|███████▌  | 11087/14653 [00:44<00:15, 237.04it/s]\u001b[A\n",
      "Accumulate responses from folder:  95%|█████████▍| 13871/14653 [00:54<00:03, 250.63it/s]\u001b[A\n",
      "                                                                                        \u001b[A"
     ]
    },
    {
     "name": "stdout",
     "output_type": "stream",
     "text": [
      "Accumulate responses from folder\n",
      "\t1489444 / 1489444 [avg=1.00]\n"
     ]
    },
    {
     "name": "stderr",
     "output_type": "stream",
     "text": [
      "\n",
      "Clear data:   0%|          | 0/239 [00:00<?, ?it/s]\u001b[A\n",
      "                                                   \u001b[A"
     ]
    },
    {
     "name": "stdout",
     "output_type": "stream",
     "text": [
      "Clear data\n",
      "\t1489444 / 141429 [avg 10.53]\n"
     ]
    },
    {
     "name": "stderr",
     "output_type": "stream",
     "text": [
      " 60%|██████    | 3/5 [02:43<01:52, 56.34s/it]"
     ]
    },
    {
     "name": "stdout",
     "output_type": "stream",
     "text": [
      "Processing '..\\..\\data\\local\\jsons\\kharkiv\\trans_data_13_FEB_2023'\n"
     ]
    },
    {
     "name": "stderr",
     "output_type": "stream",
     "text": [
      "\n",
      "Accumulate responses from folder:   0%|          | 0/17280 [00:00<?, ?it/s]\u001b[A\n",
      "Accumulate responses from folder:  24%|██▎       | 4076/17280 [00:10<00:32, 407.32it/s]\u001b[A\n",
      "Accumulate responses from folder:  47%|████▋     | 8150/17280 [00:24<00:27, 328.75it/s]\u001b[A\n",
      "Accumulate responses from folder:  65%|██████▍   | 11184/17280 [00:34<00:19, 318.50it/s]\u001b[A\n",
      "Accumulate responses from folder:  82%|████████▏ | 14218/17280 [00:45<00:10, 298.36it/s]\u001b[A\n",
      "                                                                                        \u001b[A"
     ]
    },
    {
     "name": "stdout",
     "output_type": "stream",
     "text": [
      "Accumulate responses from folder\n",
      "\t2407719 / 2407719 [avg=1.00]\n"
     ]
    },
    {
     "name": "stderr",
     "output_type": "stream",
     "text": [
      "\n",
      "Clear data:   0%|          | 0/276 [00:00<?, ?it/s]\u001b[A\n",
      "Clear data:  66%|██████▌   | 181/276 [00:10<00:05, 17.74it/s]\u001b[A\n",
      "                                                             \u001b[A"
     ]
    },
    {
     "name": "stdout",
     "output_type": "stream",
     "text": [
      "Clear data\n",
      "\t2407719 / 233585 [avg 10.31]\n"
     ]
    },
    {
     "name": "stderr",
     "output_type": "stream",
     "text": [
      " 80%|████████  | 4/5 [04:13<01:09, 69.36s/it]"
     ]
    },
    {
     "name": "stdout",
     "output_type": "stream",
     "text": [
      "Processing '..\\..\\data\\local\\jsons\\kharkiv\\trans_data_14_FEB_2023'\n"
     ]
    },
    {
     "name": "stderr",
     "output_type": "stream",
     "text": [
      "\n",
      "Accumulate responses from folder:   0%|          | 0/17278 [00:00<?, ?it/s]\u001b[A\n",
      "Accumulate responses from folder:  18%|█▊        | 3175/17278 [00:10<00:44, 316.20it/s]\u001b[A\n",
      "Accumulate responses from folder:  18%|█▊        | 3175/17278 [00:20<00:44, 316.20it/s]\u001b[A\n",
      "Accumulate responses from folder:  33%|███▎      | 5691/17278 [00:20<00:42, 275.25it/s]\u001b[A\n",
      "Accumulate responses from folder:  50%|█████     | 8697/17278 [00:30<00:29, 286.68it/s]\u001b[A\n",
      "Accumulate responses from folder:  70%|██████▉   | 12070/17278 [00:40<00:17, 305.92it/s]\u001b[A\n",
      "Accumulate responses from folder:  70%|██████▉   | 12070/17278 [00:40<00:17, 305.92it/s]\u001b[A\n",
      "Accumulate responses from folder:  92%|█████████▏| 15915/17278 [00:50<00:04, 334.11it/s]\u001b[A\n",
      "                                                                                        \u001b[A"
     ]
    },
    {
     "name": "stdout",
     "output_type": "stream",
     "text": [
      "Accumulate responses from folder\n",
      "\t2375581 / 2375581 [avg=1.00]\n"
     ]
    },
    {
     "name": "stderr",
     "output_type": "stream",
     "text": [
      "\n",
      "Clear data:   0%|          | 0/275 [00:00<?, ?it/s]\u001b[A\n",
      "Clear data:  59%|█████▉    | 162/275 [00:10<00:07, 15.87it/s]\u001b[A\n",
      "                                                             \u001b[A"
     ]
    },
    {
     "name": "stdout",
     "output_type": "stream",
     "text": [
      "Clear data\n",
      "\t2375581 / 217749 [avg 10.91]\n"
     ]
    },
    {
     "name": "stderr",
     "output_type": "stream",
     "text": [
      "100%|██████████| 5/5 [05:36<00:00, 67.30s/it]\n"
     ]
    }
   ],
   "source": [
    "kharkiv_folder_path = Path(\"../../data/local/jsons/kharkiv\")\n",
    "# kharkiv_folder_path = Path(\"../../../pet_project/kharkiv\")\n",
    "kharkiv_folder_list = [p for p in kharkiv_folder_path.iterdir() if \"trans_data_\" in p.name]\n",
    "kharkiv_folders_list = sorted(kharkiv_folder_list,\n",
    "                        key=lambda p: datetime.strptime(p.name[11:], '%d_%b_%Y'))\n",
    "# kharkiv_folders_list\n",
    "\n",
    "for folder_path in tqdm(kharkiv_folders_list[:-1]):   \n",
    "    print(f\"Processing '{folder_path}'\")\n",
    "    df = accumulate_responses_from_folder(folder_path)\n",
    "    df.to_parquet(folder_path.parent/'archive/origin'/(folder_path.name + '_origin.parquet'))\n",
    "    \n",
    "    df_u = clear_data(df)\n",
    "    df_u.to_parquet(folder_path.parent/'archive/optimized'/(folder_path.name + '_optimized.parquet'))"
   ]
  },
  {
   "cell_type": "code",
   "execution_count": 9,
   "id": "b9b9d98a-648d-4cd2-b6ca-7e88f8f760e8",
   "metadata": {},
   "outputs": [
    {
     "data": {
      "text/plain": [
       "['trans_data_03_FEB_2023_optimized.parquet',\n",
       " 'trans_data_04_FEB_2023_optimized.parquet',\n",
       " 'trans_data_05_FEB_2023_optimized.parquet',\n",
       " 'trans_data_06_FEB_2023_optimized.parquet',\n",
       " 'trans_data_07_FEB_2023_optimized.parquet',\n",
       " 'trans_data_08_FEB_2023_optimized.parquet',\n",
       " 'trans_data_10_FEB_2023_optimized.parquet',\n",
       " 'trans_data_11_FEB_2023_optimized.parquet']"
      ]
     },
     "execution_count": 9,
     "metadata": {},
     "output_type": "execute_result"
    }
   ],
   "source": [
    "[p.name for p in (kharkiv_folder_path/'archive/optimized').iterdir()]"
   ]
  },
  {
   "cell_type": "code",
   "execution_count": 30,
   "id": "ebf53ae4-08ed-4b21-8405-369c5dc692c7",
   "metadata": {},
   "outputs": [
    {
     "name": "stdout",
     "output_type": "stream",
     "text": [
      "trans_data_03_FEB_2023_origin.parquet. Is vehcle_id in False\n"
     ]
    },
    {
     "ename": "KeyboardInterrupt",
     "evalue": "",
     "output_type": "error",
     "traceback": [
      "\u001b[1;31m---------------------------------------------------------------------------\u001b[0m",
      "\u001b[1;31mKeyboardInterrupt\u001b[0m                         Traceback (most recent call last)",
      "\u001b[1;32m~\\AppData\\Local\\Temp\\ipykernel_27560\\814648566.py\u001b[0m in \u001b[0;36m<module>\u001b[1;34m\u001b[0m\n\u001b[0;32m      1\u001b[0m \u001b[1;32mfor\u001b[0m \u001b[0mdf_path\u001b[0m \u001b[1;32min\u001b[0m \u001b[0mlist\u001b[0m\u001b[1;33m(\u001b[0m\u001b[1;33m(\u001b[0m\u001b[0mkharkiv_folder_path\u001b[0m\u001b[1;33m/\u001b[0m\u001b[1;34m'archive/origin'\u001b[0m\u001b[1;33m)\u001b[0m\u001b[1;33m.\u001b[0m\u001b[0miterdir\u001b[0m\u001b[1;33m(\u001b[0m\u001b[1;33m)\u001b[0m\u001b[1;33m)\u001b[0m\u001b[1;33m:\u001b[0m\u001b[1;33m\u001b[0m\u001b[1;33m\u001b[0m\u001b[0m\n\u001b[1;32m----> 2\u001b[1;33m     \u001b[0mdf_sum\u001b[0m \u001b[1;33m=\u001b[0m \u001b[0mpd\u001b[0m\u001b[1;33m.\u001b[0m\u001b[0mread_parquet\u001b[0m\u001b[1;33m(\u001b[0m\u001b[0mdf_path\u001b[0m\u001b[1;33m)\u001b[0m\u001b[1;33m\u001b[0m\u001b[1;33m\u001b[0m\u001b[0m\n\u001b[0m\u001b[0;32m      3\u001b[0m \u001b[1;33m\u001b[0m\u001b[0m\n\u001b[0;32m      4\u001b[0m     \u001b[0mdf_sum\u001b[0m\u001b[1;33m.\u001b[0m\u001b[0mrename\u001b[0m\u001b[1;33m(\u001b[0m\u001b[0mcolumns\u001b[0m\u001b[1;33m=\u001b[0m\u001b[1;33m{\u001b[0m\u001b[1;34m\"vehcle_id\"\u001b[0m\u001b[1;33m:\u001b[0m \u001b[1;34m\"vehicle_id\"\u001b[0m\u001b[1;33m}\u001b[0m\u001b[1;33m,\u001b[0m \u001b[0minplace\u001b[0m\u001b[1;33m=\u001b[0m\u001b[1;32mTrue\u001b[0m\u001b[1;33m)\u001b[0m\u001b[1;33m\u001b[0m\u001b[1;33m\u001b[0m\u001b[0m\n\u001b[0;32m      5\u001b[0m     \u001b[0mprint\u001b[0m\u001b[1;33m(\u001b[0m\u001b[1;34mf\"{df_path.name}. Is vehcle_id in {'vehcle_id' in df_sum.columns}\"\u001b[0m\u001b[1;33m)\u001b[0m\u001b[1;33m\u001b[0m\u001b[1;33m\u001b[0m\u001b[0m\n",
      "\u001b[1;32m~\\AppData\\Roaming\\Python\\Python38\\site-packages\\pandas\\io\\parquet.py\u001b[0m in \u001b[0;36mread_parquet\u001b[1;34m(path, engine, columns, use_nullable_dtypes, **kwargs)\u001b[0m\n\u001b[0;32m    457\u001b[0m     \"\"\"\n\u001b[0;32m    458\u001b[0m     \u001b[0mimpl\u001b[0m \u001b[1;33m=\u001b[0m \u001b[0mget_engine\u001b[0m\u001b[1;33m(\u001b[0m\u001b[0mengine\u001b[0m\u001b[1;33m)\u001b[0m\u001b[1;33m\u001b[0m\u001b[1;33m\u001b[0m\u001b[0m\n\u001b[1;32m--> 459\u001b[1;33m     return impl.read(\n\u001b[0m\u001b[0;32m    460\u001b[0m         \u001b[0mpath\u001b[0m\u001b[1;33m,\u001b[0m \u001b[0mcolumns\u001b[0m\u001b[1;33m=\u001b[0m\u001b[0mcolumns\u001b[0m\u001b[1;33m,\u001b[0m \u001b[0muse_nullable_dtypes\u001b[0m\u001b[1;33m=\u001b[0m\u001b[0muse_nullable_dtypes\u001b[0m\u001b[1;33m,\u001b[0m \u001b[1;33m**\u001b[0m\u001b[0mkwargs\u001b[0m\u001b[1;33m\u001b[0m\u001b[1;33m\u001b[0m\u001b[0m\n\u001b[0;32m    461\u001b[0m     )\n",
      "\u001b[1;32m~\\AppData\\Roaming\\Python\\Python38\\site-packages\\pandas\\io\\parquet.py\u001b[0m in \u001b[0;36mread\u001b[1;34m(self, path, columns, use_nullable_dtypes, storage_options, **kwargs)\u001b[0m\n\u001b[0;32m    219\u001b[0m         )\n\u001b[0;32m    220\u001b[0m         \u001b[1;32mtry\u001b[0m\u001b[1;33m:\u001b[0m\u001b[1;33m\u001b[0m\u001b[1;33m\u001b[0m\u001b[0m\n\u001b[1;32m--> 221\u001b[1;33m             return self.api.parquet.read_table(\n\u001b[0m\u001b[0;32m    222\u001b[0m                 \u001b[0mpath_or_handle\u001b[0m\u001b[1;33m,\u001b[0m \u001b[0mcolumns\u001b[0m\u001b[1;33m=\u001b[0m\u001b[0mcolumns\u001b[0m\u001b[1;33m,\u001b[0m \u001b[1;33m**\u001b[0m\u001b[0mkwargs\u001b[0m\u001b[1;33m\u001b[0m\u001b[1;33m\u001b[0m\u001b[0m\n\u001b[0;32m    223\u001b[0m             ).to_pandas(**to_pandas_kwargs)\n",
      "\u001b[1;32m~\\AppData\\Roaming\\Python\\Python38\\site-packages\\pyarrow\\parquet\\__init__.py\u001b[0m in \u001b[0;36mread_table\u001b[1;34m(source, columns, use_threads, metadata, schema, use_pandas_metadata, memory_map, read_dictionary, filesystem, filters, buffer_size, partitioning, use_legacy_dataset, ignore_prefixes, pre_buffer, coerce_int96_timestamp_unit, decryption_properties, thrift_string_size_limit, thrift_container_size_limit)\u001b[0m\n\u001b[0;32m   2825\u001b[0m             )\n\u001b[0;32m   2826\u001b[0m \u001b[1;33m\u001b[0m\u001b[0m\n\u001b[1;32m-> 2827\u001b[1;33m         return dataset.read(columns=columns, use_threads=use_threads,\n\u001b[0m\u001b[0;32m   2828\u001b[0m                             use_pandas_metadata=use_pandas_metadata)\n\u001b[0;32m   2829\u001b[0m \u001b[1;33m\u001b[0m\u001b[0m\n",
      "\u001b[1;32m~\\AppData\\Roaming\\Python\\Python38\\site-packages\\pyarrow\\parquet\\__init__.py\u001b[0m in \u001b[0;36mread\u001b[1;34m(self, columns, use_threads, use_pandas_metadata)\u001b[0m\n\u001b[0;32m   2471\u001b[0m                 )\n\u001b[0;32m   2472\u001b[0m \u001b[1;33m\u001b[0m\u001b[0m\n\u001b[1;32m-> 2473\u001b[1;33m         table = self._dataset.to_table(\n\u001b[0m\u001b[0;32m   2474\u001b[0m             \u001b[0mcolumns\u001b[0m\u001b[1;33m=\u001b[0m\u001b[0mcolumns\u001b[0m\u001b[1;33m,\u001b[0m \u001b[0mfilter\u001b[0m\u001b[1;33m=\u001b[0m\u001b[0mself\u001b[0m\u001b[1;33m.\u001b[0m\u001b[0m_filter_expression\u001b[0m\u001b[1;33m,\u001b[0m\u001b[1;33m\u001b[0m\u001b[1;33m\u001b[0m\u001b[0m\n\u001b[0;32m   2475\u001b[0m             \u001b[0muse_threads\u001b[0m\u001b[1;33m=\u001b[0m\u001b[0muse_threads\u001b[0m\u001b[1;33m\u001b[0m\u001b[1;33m\u001b[0m\u001b[0m\n",
      "\u001b[1;31mKeyboardInterrupt\u001b[0m: "
     ]
    }
   ],
   "source": [
    "for df_path in list((kharkiv_folder_path/'archive/origin').iterdir()):\n",
    "    df_sum = pd.read_parquet(df_path)\n",
    "    \n",
    "    df_sum.rename(columns={\"vehcle_id\": \"vehicle_id\"}, inplace=True)\n",
    "    print(f\"{df_path.name}. Is vehcle_id in {'vehcle_id' in df_sum.columns}\")\n",
    "    df_sum.to_parquet(df_path)\n"
   ]
  },
  {
   "cell_type": "code",
   "execution_count": null,
   "id": "1071f9d4-9fc3-4739-b9e1-579efaa87aa8",
   "metadata": {},
   "outputs": [],
   "source": []
  },
  {
   "cell_type": "code",
   "execution_count": null,
   "id": "a98ee380-6b55-4c89-9d41-8cb96a2764bc",
   "metadata": {},
   "outputs": [],
   "source": []
  },
  {
   "cell_type": "code",
   "execution_count": 16,
   "id": "c8cee2bb-6150-4945-a01f-5f1f307b819b",
   "metadata": {
    "collapsed": true,
    "jupyter": {
     "outputs_hidden": true
    },
    "tags": []
   },
   "outputs": [
    {
     "name": "stderr",
     "output_type": "stream",
     "text": [
      "  0%|          | 0/3 [00:00<?, ?it/s]\n",
      "Accumulate responses from folder:   0%|          | 0/12739 [00:00<?, ?it/s]\u001b[A\n",
      "Accumulate responses from folder:   3%|▎         | 433/12739 [00:02<00:58, 209.60it/s]\u001b[A\n",
      "Accumulate responses from folder:   7%|▋         | 853/12739 [00:05<01:20, 147.01it/s]\u001b[A\n",
      "Accumulate responses from folder:   9%|▉         | 1168/12739 [00:07<01:20, 143.31it/s]\u001b[A\n",
      "Accumulate responses from folder:  12%|█▏        | 1465/12739 [00:10<01:30, 125.08it/s]\u001b[A\n",
      "Accumulate responses from folder:  14%|█▎        | 1724/12739 [00:13<01:36, 113.78it/s]\u001b[A\n",
      "Accumulate responses from folder:  15%|█▌        | 1958/12739 [00:17<01:53, 95.33it/s] \u001b[A\n",
      "Accumulate responses from folder:  18%|█▊        | 2263/12739 [00:19<01:35, 109.17it/s]\u001b[A\n",
      "Accumulate responses from folder:  20%|█▉        | 2525/12739 [00:21<01:29, 113.90it/s]\u001b[A\n",
      "Accumulate responses from folder:  22%|██▏       | 2768/12739 [00:23<01:27, 114.56it/s]\u001b[A\n",
      "Accumulate responses from folder:  24%|██▍       | 3050/12739 [00:25<01:19, 121.24it/s]\u001b[A\n",
      "Accumulate responses from folder:  26%|██▌       | 3303/12739 [00:27<01:16, 122.59it/s]\u001b[A\n",
      "Accumulate responses from folder:  28%|██▊       | 3554/12739 [00:29<01:17, 119.21it/s]\u001b[A\n",
      "Accumulate responses from folder:  30%|██▉       | 3797/12739 [00:32<01:24, 106.37it/s]\u001b[A\n",
      "Accumulate responses from folder:  32%|███▏      | 4017/12739 [00:34<01:26, 101.16it/s]\u001b[A\n",
      "Accumulate responses from folder:  33%|███▎      | 4234/12739 [00:36<01:22, 102.82it/s]\u001b[A\n",
      "Accumulate responses from folder:  35%|███▍      | 4444/12739 [00:38<01:20, 103.41it/s]\u001b[A\n",
      "Accumulate responses from folder:  37%|███▋      | 4654/12739 [00:41<01:20, 100.27it/s]\u001b[A\n",
      "Accumulate responses from folder:  39%|███▉      | 4938/12739 [00:43<01:09, 111.53it/s]\u001b[A\n",
      "Accumulate responses from folder:  41%|████      | 5165/12739 [00:45<01:11, 106.64it/s]\u001b[A\n",
      "Accumulate responses from folder:  42%|████▏     | 5381/12739 [00:48<01:14, 98.72it/s] \u001b[A\n",
      "Accumulate responses from folder:  44%|████▍     | 5634/12739 [00:50<01:07, 105.83it/s]\u001b[A\n",
      "Accumulate responses from folder:  46%|████▌     | 5850/12739 [00:52<01:10, 98.17it/s] \u001b[A\n",
      "Accumulate responses from folder:  47%|████▋     | 6051/12739 [00:54<01:09, 96.55it/s]\u001b[A\n",
      "Accumulate responses from folder:  50%|████▉     | 6309/12739 [00:56<01:01, 105.19it/s]\u001b[A\n",
      "Accumulate responses from folder:  52%|█████▏    | 6672/12739 [00:58<00:48, 125.97it/s]\u001b[A\n",
      "Accumulate responses from folder:  55%|█████▍    | 6974/12739 [01:00<00:43, 132.69it/s]\u001b[A\n",
      "Accumulate responses from folder:  58%|█████▊    | 7417/12739 [01:03<00:33, 158.02it/s]\u001b[A\n",
      "Accumulate responses from folder:  62%|██████▏   | 7887/12739 [01:05<00:26, 180.19it/s]\u001b[A\n",
      "Accumulate responses from folder:  65%|██████▍   | 8252/12739 [01:07<00:26, 169.32it/s]\u001b[A\n",
      "Accumulate responses from folder:  69%|██████▊   | 8756/12739 [01:09<00:20, 192.49it/s]\u001b[A\n",
      "Accumulate responses from folder:  73%|███████▎  | 9298/12739 [01:11<00:16, 214.99it/s]\u001b[A\n",
      "Accumulate responses from folder:  76%|███████▋  | 9735/12739 [01:14<00:16, 181.02it/s]\u001b[A\n",
      "Accumulate responses from folder:  79%|███████▉  | 10120/12739 [01:17<00:15, 165.90it/s]\u001b[A\n",
      "Accumulate responses from folder:  82%|████████▏ | 10471/12739 [01:20<00:14, 151.52it/s]\u001b[A\n",
      "Accumulate responses from folder:  85%|████████▍ | 10817/12739 [01:22<00:12, 156.60it/s]\u001b[A\n",
      "Accumulate responses from folder:  89%|████████▊ | 11292/12739 [01:24<00:08, 176.78it/s]\u001b[A\n",
      "Accumulate responses from folder:  93%|█████████▎| 11787/12739 [01:26<00:04, 195.65it/s]\u001b[A\n",
      "Accumulate responses from folder:  98%|█████████▊| 12441/12739 [01:28<00:01, 231.33it/s]\u001b[A\n",
      "                                                                                        \u001b[A"
     ]
    },
    {
     "name": "stdout",
     "output_type": "stream",
     "text": [
      "Accumulate responses from folder\n",
      "\t1616588 / 1616588 [avg=1.00]\n"
     ]
    },
    {
     "name": "stderr",
     "output_type": "stream",
     "text": [
      "\n",
      "Clear data:   0%|          | 0/273 [00:00<?, ?it/s]\u001b[A\n",
      "Clear data:   8%|▊         | 23/273 [00:02<00:22, 11.36it/s]\u001b[A\n",
      "Clear data:  18%|█▊        | 48/273 [00:04<00:18, 11.89it/s]\u001b[A\n",
      "Clear data:  26%|██▋       | 72/273 [00:06<00:16, 11.93it/s]\u001b[A\n",
      "Clear data:  36%|███▋      | 99/273 [00:08<00:14, 12.06it/s]\u001b[A\n",
      "Clear data:  47%|████▋     | 127/273 [00:10<00:11, 12.61it/s]\u001b[A\n",
      "Clear data:  56%|█████▌    | 153/273 [00:12<00:09, 12.50it/s]\u001b[A\n",
      "Clear data:  66%|██████▌   | 180/273 [00:14<00:07, 12.52it/s]\u001b[A\n",
      "Clear data:  75%|███████▌  | 206/273 [00:17<00:05, 11.74it/s]\u001b[A\n",
      "Clear data:  86%|████████▌ | 235/273 [00:19<00:03, 12.44it/s]\u001b[A\n",
      "                                                             \u001b[A"
     ]
    },
    {
     "name": "stdout",
     "output_type": "stream",
     "text": [
      "Clear data\n",
      "\t1616588 / 153418 [avg 10.54]\n"
     ]
    },
    {
     "name": "stderr",
     "output_type": "stream",
     "text": [
      "\n",
      "  0%|          | 0/52 [00:00<?, ?it/s]\u001b[A\n",
      " 19%|█▉        | 10/52 [00:10<00:44,  1.05s/it]\u001b[A\n",
      " 42%|████▏     | 22/52 [00:20<00:27,  1.09it/s]\u001b[A\n",
      "100%|██████████| 52/52 [00:40<00:00,  1.28it/s]\u001b[A\n",
      " 33%|███▎      | 1/3 [02:53<05:46, 173.17s/it]\n",
      "Accumulate responses from folder:   0%|          | 0/10997 [00:00<?, ?it/s]\u001b[A\n",
      "Accumulate responses from folder:   6%|▌         | 652/10997 [00:02<00:31, 325.93it/s]\u001b[A\n",
      "Accumulate responses from folder:  12%|█▏        | 1304/10997 [00:04<00:33, 287.63it/s]\u001b[A\n",
      "Accumulate responses from folder:  17%|█▋        | 1924/10997 [00:06<00:30, 296.95it/s]\u001b[A\n",
      "Accumulate responses from folder:  23%|██▎       | 2523/10997 [00:08<00:29, 291.25it/s]\u001b[A\n",
      "Accumulate responses from folder:  28%|██▊       | 3109/10997 [00:10<00:28, 276.51it/s]\u001b[A\n",
      "Accumulate responses from folder:  34%|███▍      | 3714/10997 [00:12<00:25, 284.65it/s]\u001b[A\n",
      "Accumulate responses from folder:  39%|███▉      | 4291/10997 [00:14<00:23, 285.74it/s]\u001b[A\n",
      "Accumulate responses from folder:  44%|████▍     | 4865/10997 [00:17<00:23, 265.48it/s]\u001b[A\n",
      "Accumulate responses from folder:  49%|████▉     | 5403/10997 [00:20<00:23, 235.83it/s]\u001b[A\n",
      "Accumulate responses from folder:  54%|█████▎    | 5889/10997 [00:22<00:22, 222.82it/s]\u001b[A\n",
      "Accumulate responses from folder:  58%|█████▊    | 6345/10997 [00:24<00:20, 223.57it/s]\u001b[A\n",
      "Accumulate responses from folder:  62%|██████▏   | 6800/10997 [00:27<00:19, 213.61it/s]\u001b[A\n",
      "Accumulate responses from folder:  66%|██████▌   | 7233/10997 [00:29<00:18, 204.75it/s]\u001b[A\n",
      "Accumulate responses from folder:  70%|███████   | 7744/10997 [00:31<00:14, 218.01it/s]\u001b[A\n",
      "Accumulate responses from folder:  75%|███████▍  | 8247/10997 [00:33<00:12, 226.77it/s]\u001b[A\n",
      "Accumulate responses from folder:  80%|████████  | 8806/10997 [00:35<00:09, 241.44it/s]\u001b[A\n",
      "Accumulate responses from folder:  85%|████████▌ | 9364/10997 [00:37<00:06, 252.11it/s]\u001b[A\n",
      "Accumulate responses from folder:  90%|████████▉ | 9873/10997 [00:39<00:04, 246.72it/s]\u001b[A\n",
      "Accumulate responses from folder:  94%|█████████▍| 10370/10997 [00:41<00:02, 245.45it/s]\u001b[A\n",
      "Accumulate responses from folder:  99%|█████████▉| 10925/10997 [00:43<00:00, 254.63it/s]\u001b[A\n",
      "                                                                                        \u001b[A"
     ]
    },
    {
     "name": "stdout",
     "output_type": "stream",
     "text": [
      "Accumulate responses from folder\n",
      "\t740660 / 740660 [avg=1.00]\n"
     ]
    },
    {
     "name": "stderr",
     "output_type": "stream",
     "text": [
      "\n",
      "Clear data:   0%|          | 0/239 [00:00<?, ?it/s]\u001b[A\n",
      "Clear data:  33%|███▎      | 79/239 [00:02<00:04, 39.10it/s]\u001b[A\n",
      "Clear data:  72%|███████▏  | 171/239 [00:04<00:01, 43.07it/s]\u001b[A\n",
      "                                                             \u001b[A\n",
      "  0%|          | 0/24 [00:00<?, ?it/s]\u001b[A"
     ]
    },
    {
     "name": "stdout",
     "output_type": "stream",
     "text": [
      "Clear data\n",
      "\t740660 / 70474 [avg 10.51]\n",
      "There are 1 new <class 'PTETA.utils.transport.kharkiv.KharkivTransportVehicle.KharkivTransportVehicle'> to inserted in DB\n"
     ]
    },
    {
     "name": "stderr",
     "output_type": "stream",
     "text": [
      "\n",
      "100%|██████████| 24/24 [00:13<00:00,  1.74it/s]\u001b[A\n",
      " 67%|██████▋   | 2/3 [04:01<01:51, 111.68s/it]\n",
      "Accumulate responses from folder:   0%|          | 0/17280 [00:00<?, ?it/s]\u001b[A\n",
      "Accumulate responses from folder:   4%|▍         | 669/17280 [00:02<00:49, 333.68it/s]\u001b[A\n",
      "Accumulate responses from folder:   8%|▊         | 1344/17280 [00:04<00:47, 335.91it/s]\u001b[A\n",
      "Accumulate responses from folder:  12%|█▏        | 2016/17280 [00:06<00:47, 322.15it/s]\u001b[A\n",
      "Accumulate responses from folder:  15%|█▌        | 2662/17280 [00:08<00:46, 316.67it/s]\u001b[A\n",
      "Accumulate responses from folder:  19%|█▉        | 3298/17280 [00:10<00:44, 315.36it/s]\u001b[A\n",
      "Accumulate responses from folder:  23%|██▎       | 3930/17280 [00:12<00:43, 307.21it/s]\u001b[A\n",
      "Accumulate responses from folder:  26%|██▋       | 4546/17280 [00:14<00:43, 291.63it/s]\u001b[A\n",
      "Accumulate responses from folder:  30%|██▉       | 5132/17280 [00:17<00:46, 261.55it/s]\u001b[A\n",
      "Accumulate responses from folder:  33%|███▎      | 5666/17280 [00:20<00:48, 240.18it/s]\u001b[A\n",
      "Accumulate responses from folder:  36%|███▌      | 6158/17280 [00:22<00:48, 226.98it/s]\u001b[A\n",
      "Accumulate responses from folder:  38%|███▊      | 6639/17280 [00:24<00:46, 230.39it/s]\u001b[A\n",
      "Accumulate responses from folder:  41%|████      | 7107/17280 [00:27<00:46, 220.30it/s]\u001b[A\n",
      "Accumulate responses from folder:  44%|████▍     | 7604/17280 [00:29<00:42, 227.92it/s]\u001b[A\n",
      "Accumulate responses from folder:  47%|████▋     | 8065/17280 [00:31<00:43, 213.49it/s]\u001b[A\n",
      "Accumulate responses from folder:  49%|████▉     | 8498/17280 [00:33<00:42, 206.46it/s]\u001b[A\n",
      "Accumulate responses from folder:  52%|█████▏    | 8915/17280 [00:36<00:43, 190.74it/s]\u001b[A\n",
      "Accumulate responses from folder:  54%|█████▍    | 9302/17280 [00:38<00:43, 184.19it/s]\u001b[A\n",
      "Accumulate responses from folder:  56%|█████▌    | 9674/17280 [00:40<00:41, 183.47it/s]\u001b[A\n",
      "Accumulate responses from folder:  58%|█████▊    | 10082/17280 [00:42<00:38, 188.73it/s]\u001b[A\n",
      "Accumulate responses from folder:  61%|██████    | 10462/17280 [00:45<00:39, 173.88it/s]\u001b[A\n",
      "Accumulate responses from folder:  63%|██████▎   | 10950/17280 [00:47<00:32, 192.48it/s]\u001b[A\n",
      "Accumulate responses from folder:  67%|██████▋   | 11497/17280 [00:49<00:26, 214.88it/s]\u001b[A\n",
      "Accumulate responses from folder:  69%|██████▉   | 11936/17280 [00:52<00:27, 191.14it/s]\u001b[A\n",
      "Accumulate responses from folder:  71%|███████▏  | 12334/17280 [00:54<00:25, 190.69it/s]\u001b[A\n",
      "Accumulate responses from folder:  74%|███████▎  | 12737/17280 [00:56<00:23, 193.39it/s]\u001b[A\n",
      "Accumulate responses from folder:  76%|███████▌  | 13132/17280 [00:58<00:21, 192.77it/s]\u001b[A\n",
      "Accumulate responses from folder:  79%|███████▉  | 13608/17280 [01:00<00:17, 204.97it/s]\u001b[A\n",
      "Accumulate responses from folder:  82%|████████▏ | 14084/17280 [01:02<00:14, 214.33it/s]\u001b[A\n",
      "Accumulate responses from folder:  92%|█████████▏| 15978/17280 [01:04<00:03, 427.33it/s]\u001b[A\n",
      "                                                                                        \u001b[A"
     ]
    },
    {
     "name": "stdout",
     "output_type": "stream",
     "text": [
      "Accumulate responses from folder\n",
      "\t2075486 / 2075486 [avg=1.00]\n"
     ]
    },
    {
     "name": "stderr",
     "output_type": "stream",
     "text": [
      "\n",
      "Clear data:   0%|          | 0/241 [00:00<?, ?it/s]\u001b[A\n",
      "Clear data:  11%|█         | 27/241 [00:02<00:16, 13.02it/s]\u001b[A\n",
      "Clear data:  22%|██▏       | 54/241 [00:04<00:14, 13.15it/s]\u001b[A\n",
      "Clear data:  34%|███▎      | 81/241 [00:06<00:13, 12.19it/s]\u001b[A\n",
      "Clear data:  44%|████▍     | 106/241 [00:08<00:11, 11.93it/s]\u001b[A\n",
      "Clear data:  54%|█████▍    | 130/241 [00:10<00:09, 11.43it/s]\u001b[A\n",
      "Clear data:  63%|██████▎   | 153/241 [00:13<00:07, 11.17it/s]\u001b[A\n",
      "Clear data:  73%|███████▎  | 176/241 [00:15<00:05, 10.98it/s]\u001b[A\n",
      "Clear data:  83%|████████▎ | 199/241 [00:17<00:03, 11.09it/s]\u001b[A\n",
      "Clear data:  95%|█████████▌| 229/241 [00:19<00:00, 12.19it/s]\u001b[A\n",
      "                                                             \u001b[A\n",
      "  0%|          | 0/68 [00:00<?, ?it/s]\u001b[A"
     ]
    },
    {
     "name": "stdout",
     "output_type": "stream",
     "text": [
      "Clear data\n",
      "\t2075486 / 201332 [avg 10.31]\n"
     ]
    },
    {
     "name": "stderr",
     "output_type": "stream",
     "text": [
      "\n",
      " 15%|█▍        | 10/68 [00:10<00:59,  1.03s/it]\u001b[A\n",
      " 37%|███▋      | 25/68 [00:20<00:34,  1.24it/s]\u001b[A"
     ]
    },
    {
     "name": "stdout",
     "output_type": "stream",
     "text": [
      "There are 1 new <class 'PTETA.utils.transport.kharkiv.KharkivTransportVehicle.KharkivTransportVehicle'> to inserted in DB\n"
     ]
    },
    {
     "name": "stderr",
     "output_type": "stream",
     "text": [
      "\n",
      " 59%|█████▉    | 40/68 [00:33<00:23,  1.19it/s]\u001b[A\n",
      " 76%|███████▋  | 52/68 [00:43<00:13,  1.19it/s]\u001b[A\n",
      "100%|██████████| 68/68 [00:57<00:00,  1.19it/s]\u001b[A\n",
      "100%|██████████| 3/3 [06:44<00:00, 134.70s/it]\n"
     ]
    }
   ],
   "source": [
    "BATCH_SIZE = 3_000\n",
    "connection_config= dict({\n",
    "    'host': os.environ['RDS_HOSTNAME'],\n",
    "    'database': \"pteta_db\",\n",
    "    'user': \"postgres\",\n",
    "    'password': os.environ['RDS_PTETA_DB_PASSWORD']\n",
    "})\n",
    "\n",
    "monitor = TransGPSCVMonitor(connection_config=connection_config, data_model=\"kharkiv\")\n",
    "\n",
    "# file_path_list =list(Path(\"../data/local/tables/\").iterdir())\n",
    "file_path_list =list(Path(\"D:/projects/pet_project/tables\").iterdir())\n",
    "file_path_list = sorted(file_path_list, \n",
    "                        key=lambda p: datetime.strptime(p.name[9:-4], '%d_%b_%Y') )\n",
    "\n",
    "for folder_path in tqdm(kharkiv_folders_list[:-1]):\n",
    "    df = accumulate_responses_from_folder(folder_path)\n",
    "    df_u = clear_data(df)       \n",
    "    \n",
    "    df_cur = df_u[:]\n",
    "\n",
    "    batch_tqdm = tqdm(df_cur.groupby(np.arange(len(df_cur)) // BATCH_SIZE), \n",
    "                     mininterval=10)\n",
    "    for batch_number, batch_df in batch_tqdm:\n",
    "        batch_df = batch_df.where(pd.notnull(batch_df), None)\n",
    "        monitor.write_to_db(batch_df.to_dict('records'))"
   ]
  },
  {
   "cell_type": "code",
   "execution_count": 6,
   "id": "91375bd3-905f-444c-88d1-56aefc0e273e",
   "metadata": {
    "collapsed": true,
    "jupyter": {
     "outputs_hidden": true
    },
    "tags": []
   },
   "outputs": [
    {
     "data": {
      "text/plain": [
       "{PTETA.utils.transport.kharkiv.KharkivTransportOperator.KharkivTransportOperator: {KharkivTransportOperator(id=-1, name='UNKNOWN')},\n",
       " PTETA.utils.transport.kharkiv.KharkivTransportRoute.KharkivTransportRoute: {KharkivTransportRoute(id=-1),\n",
       "  KharkivTransportRoute(id=1),\n",
       "  KharkivTransportRoute(id=10),\n",
       "  KharkivTransportRoute(id=11),\n",
       "  KharkivTransportRoute(id=12),\n",
       "  KharkivTransportRoute(id=13),\n",
       "  KharkivTransportRoute(id=14),\n",
       "  KharkivTransportRoute(id=15),\n",
       "  KharkivTransportRoute(id=16),\n",
       "  KharkivTransportRoute(id=17),\n",
       "  KharkivTransportRoute(id=18),\n",
       "  KharkivTransportRoute(id=19),\n",
       "  KharkivTransportRoute(id=2),\n",
       "  KharkivTransportRoute(id=20),\n",
       "  KharkivTransportRoute(id=21),\n",
       "  KharkivTransportRoute(id=22),\n",
       "  KharkivTransportRoute(id=23),\n",
       "  KharkivTransportRoute(id=24),\n",
       "  KharkivTransportRoute(id=25),\n",
       "  KharkivTransportRoute(id=5),\n",
       "  KharkivTransportRoute(id=6),\n",
       "  KharkivTransportRoute(id=7),\n",
       "  KharkivTransportRoute(id=8),\n",
       "  KharkivTransportRoute(id=9)},\n",
       " PTETA.utils.transport.kharkiv.KharkivTransportVehicle.KharkivTransportVehicle: {KharkivTransportVehicle(id=1, imei='359633101209752', name='None', owner_id=-1),\n",
       "  KharkivTransportVehicle(id=10, imei='353976014238996', name='None', owner_id=-1),\n",
       "  KharkivTransportVehicle(id=11, imei='357544377520933', name='None', owner_id=-1),\n",
       "  KharkivTransportVehicle(id=12, imei='352625697708343', name='None', owner_id=-1),\n",
       "  KharkivTransportVehicle(id=13, imei='357544377516782', name='None', owner_id=-1),\n",
       "  KharkivTransportVehicle(id=14, imei='357544377507484', name='None', owner_id=-1),\n",
       "  KharkivTransportVehicle(id=15, imei='357544375057474', name='None', owner_id=-1),\n",
       "  KharkivTransportVehicle(id=16, imei='353976013858851', name='None', owner_id=-1),\n",
       "  KharkivTransportVehicle(id=17, imei='352625699910806', name='None', owner_id=-1),\n",
       "  KharkivTransportVehicle(id=18, imei='353976014019719', name='None', owner_id=-1),\n",
       "  KharkivTransportVehicle(id=19, imei='359632105001538', name='None', owner_id=-1),\n",
       "  KharkivTransportVehicle(id=2, imei='354017114780279', name='None', owner_id=-1),\n",
       "  KharkivTransportVehicle(id=20, imei='353976013846062', name='None', owner_id=-1),\n",
       "  KharkivTransportVehicle(id=21, imei='353976014316503', name='None', owner_id=-1),\n",
       "  KharkivTransportVehicle(id=22, imei='352625698689823', name='None', owner_id=-1),\n",
       "  KharkivTransportVehicle(id=23, imei='357544375034143', name='None', owner_id=-1),\n",
       "  KharkivTransportVehicle(id=24, imei='353976014210854', name='None', owner_id=-1),\n",
       "  KharkivTransportVehicle(id=25, imei='353976014205938', name='None', owner_id=-1),\n",
       "  KharkivTransportVehicle(id=26, imei='357544376209926', name='None', owner_id=-1),\n",
       "  KharkivTransportVehicle(id=27, imei='352625696031960', name='None', owner_id=-1),\n",
       "  KharkivTransportVehicle(id=28, imei='352625697679627', name='None', owner_id=-1),\n",
       "  KharkivTransportVehicle(id=29, imei='353976014023612', name='None', owner_id=-1),\n",
       "  KharkivTransportVehicle(id=3, imei='353976014023992', name='None', owner_id=-1),\n",
       "  KharkivTransportVehicle(id=30, imei='352094086897037', name='None', owner_id=-1),\n",
       "  KharkivTransportVehicle(id=31, imei='352625698599667', name='None', owner_id=-1),\n",
       "  KharkivTransportVehicle(id=32, imei='353976014195691', name='None', owner_id=-1),\n",
       "  KharkivTransportVehicle(id=33, imei='353976013846450', name='None', owner_id=-1),\n",
       "  KharkivTransportVehicle(id=34, imei='353976013861699', name='None', owner_id=-1),\n",
       "  KharkivTransportVehicle(id=35, imei='353976014021749', name='None', owner_id=-1),\n",
       "  KharkivTransportVehicle(id=36, imei='353976014249548', name='None', owner_id=-1),\n",
       "  KharkivTransportVehicle(id=4, imei='357544377505330', name='None', owner_id=-1),\n",
       "  KharkivTransportVehicle(id=5, imei='354017114829639', name='None', owner_id=-1),\n",
       "  KharkivTransportVehicle(id=6, imei='353976014016210', name='None', owner_id=-1),\n",
       "  KharkivTransportVehicle(id=7, imei='357544377521535', name='None', owner_id=-1),\n",
       "  KharkivTransportVehicle(id=8, imei='354017114785740', name='None', owner_id=-1),\n",
       "  KharkivTransportVehicle(id=9, imei='354330030970225', name='None', owner_id=-1)}}"
      ]
     },
     "execution_count": 6,
     "metadata": {},
     "output_type": "execute_result"
    }
   ],
   "source": [
    "monitor.objects_unique"
   ]
  },
  {
   "cell_type": "code",
   "execution_count": 7,
   "id": "5ae9816b-cfae-401f-b2a4-d04b20172096",
   "metadata": {},
   "outputs": [
    {
     "name": "stdout",
     "output_type": "stream",
     "text": [
      "There are 1 new <class 'PTETA.utils.transport.kharkiv.KharkivTransportRoute.KharkivTransportRoute'> to inserted in DB\n"
     ]
    },
    {
     "ename": "KeyError",
     "evalue": "KharkivTransportRoute(id=None)",
     "output_type": "error",
     "traceback": [
      "\u001b[1;31m---------------------------------------------------------------------------\u001b[0m",
      "\u001b[1;31mKeyError\u001b[0m                                  Traceback (most recent call last)",
      "\u001b[1;32m~\\AppData\\Local\\Temp\\ipykernel_12604\\3089867365.py\u001b[0m in \u001b[0;36m<module>\u001b[1;34m\u001b[0m\n\u001b[0;32m      9\u001b[0m \u001b[1;32mfor\u001b[0m \u001b[0mi\u001b[0m\u001b[1;33m,\u001b[0m \u001b[1;33m(\u001b[0m\u001b[0mvehicle\u001b[0m\u001b[1;33m,\u001b[0m \u001b[0mroute\u001b[0m\u001b[1;33m)\u001b[0m \u001b[1;32min\u001b[0m \u001b[0menumerate\u001b[0m\u001b[1;33m(\u001b[0m\u001b[0mzip\u001b[0m\u001b[1;33m(\u001b[0m\u001b[0mvehicle_list\u001b[0m\u001b[1;33m,\u001b[0m \u001b[0mroute_list\u001b[0m\u001b[1;33m)\u001b[0m\u001b[1;33m)\u001b[0m\u001b[1;33m:\u001b[0m\u001b[1;33m\u001b[0m\u001b[1;33m\u001b[0m\u001b[0m\n\u001b[0;32m     10\u001b[0m     \u001b[0mavl_data_list\u001b[0m\u001b[1;33m[\u001b[0m\u001b[0mi\u001b[0m\u001b[1;33m]\u001b[0m\u001b[1;33m.\u001b[0m\u001b[0mvehicle_id\u001b[0m \u001b[1;33m=\u001b[0m \u001b[0mmonitor\u001b[0m\u001b[1;33m.\u001b[0m\u001b[0mvehicle_to_id\u001b[0m\u001b[1;33m[\u001b[0m\u001b[0mvehicle\u001b[0m\u001b[1;33m]\u001b[0m\u001b[1;33m\u001b[0m\u001b[1;33m\u001b[0m\u001b[0m\n\u001b[1;32m---> 11\u001b[1;33m     \u001b[0mavl_data_list\u001b[0m\u001b[1;33m[\u001b[0m\u001b[0mi\u001b[0m\u001b[1;33m]\u001b[0m\u001b[1;33m.\u001b[0m\u001b[0mroute_id\u001b[0m \u001b[1;33m=\u001b[0m \u001b[0mmonitor\u001b[0m\u001b[1;33m.\u001b[0m\u001b[0mroute_to_id\u001b[0m\u001b[1;33m[\u001b[0m\u001b[0mroute\u001b[0m\u001b[1;33m]\u001b[0m\u001b[1;33m\u001b[0m\u001b[1;33m\u001b[0m\u001b[0m\n\u001b[0m",
      "\u001b[1;31mKeyError\u001b[0m: KharkivTransportRoute(id=None)"
     ]
    }
   ],
   "source": [
    "operator_list, route_list, vehicle_list, avl_data_list = monitor.decompose_response(batch_df.to_dict('records'))\n",
    "\n",
    "for obj_list in [operator_list, route_list, vehicle_list]:\n",
    "    new_obj = monitor.get_new_objs(obj_list)\n",
    "    if new_obj:\n",
    "        print(f\"There are {len(new_obj)} new {new_obj[0].__class__} to inserted in DB\")\n",
    "        monitor.update_db(new_obj)\n",
    "\n",
    "for i, (vehicle, route) in enumerate(zip(vehicle_list, route_list)):\n",
    "    avl_data_list[i].vehicle_id = monitor.vehicle_to_id[vehicle]\n",
    "    avl_data_list[i].route_id = monitor.route_to_id[route]\n"
   ]
  },
  {
   "cell_type": "code",
   "execution_count": 8,
   "id": "309ef37f-92ac-4119-b9c5-e95d910323d8",
   "metadata": {},
   "outputs": [
    {
     "data": {
      "text/plain": [
       "(732,\n",
       " (KharkivTransportVehicle(id=None, imei='353976014249548', name='None', owner_id=-1),\n",
       "  KharkivTransportRoute(id=None)))"
      ]
     },
     "execution_count": 8,
     "metadata": {},
     "output_type": "execute_result"
    }
   ],
   "source": [
    "i, (vehicle, route)"
   ]
  },
  {
   "cell_type": "code",
   "execution_count": 9,
   "id": "2f767c75-08fb-4d8a-8300-9df62cb51fee",
   "metadata": {},
   "outputs": [
    {
     "data": {
      "text/plain": [
       "(None, '27', 1)"
      ]
     },
     "execution_count": 9,
     "metadata": {},
     "output_type": "execute_result"
    }
   ],
   "source": [
    "route.id, route.name, route.type"
   ]
  },
  {
   "cell_type": "code",
   "execution_count": null,
   "id": "c9ce9570-3e86-485f-850e-5ff346fe6c21",
   "metadata": {},
   "outputs": [],
   "source": [
    "route.__"
   ]
  },
  {
   "cell_type": "code",
   "execution_count": 10,
   "id": "7edcd5fa-d602-4c3b-b64a-70f13a00a0fb",
   "metadata": {},
   "outputs": [
    {
     "data": {
      "text/plain": [
       "[(8, '8', 1),\n",
       " (25, '28', 1),\n",
       " (9, '208', 3),\n",
       " (16, '3', 2),\n",
       " (23, '75', 3),\n",
       " (6, '204', 3),\n",
       " (22, '68', 3),\n",
       " (15, '206', 3),\n",
       " (14, '212', 3),\n",
       " (19, '51', 2),\n",
       " (-1, 'UNKNOWN', -1),\n",
       " (17, '1', 2),\n",
       " (21, '20', 1),\n",
       " (18, '6', 2),\n",
       " (7, '45', 2),\n",
       " (12, '35', 2),\n",
       " (11, '46', 2),\n",
       " (1, '52', 2),\n",
       " (2, '55', 2),\n",
       " (5, '24', 2),\n",
       " (20, '13', 2),\n",
       " (13, '72', 3),\n",
       " (10, '34', 2),\n",
       " (24, '27', 2)]"
      ]
     },
     "execution_count": 10,
     "metadata": {},
     "output_type": "execute_result"
    }
   ],
   "source": [
    "[(r.id, r.name, r.type) for r in monitor.objects_unique[route.__class__]]"
   ]
  },
  {
   "cell_type": "code",
   "execution_count": 1,
   "id": "bf8fd68e-ef48-423e-8319-cb82b14567ba",
   "metadata": {},
   "outputs": [
    {
     "ename": "NameError",
     "evalue": "name 'batch_df' is not defined",
     "output_type": "error",
     "traceback": [
      "\u001b[1;31m---------------------------------------------------------------------------\u001b[0m",
      "\u001b[1;31mNameError\u001b[0m                                 Traceback (most recent call last)",
      "\u001b[1;32m~\\AppData\\Local\\Temp\\ipykernel_22432\\417631372.py\u001b[0m in \u001b[0;36m<module>\u001b[1;34m\u001b[0m\n\u001b[1;32m----> 1\u001b[1;33m \u001b[0mbatch_df\u001b[0m\u001b[1;33m\u001b[0m\u001b[1;33m\u001b[0m\u001b[0m\n\u001b[0m",
      "\u001b[1;31mNameError\u001b[0m: name 'batch_df' is not defined"
     ]
    }
   ],
   "source": []
  },
  {
   "cell_type": "code",
   "execution_count": 7,
   "id": "3f29b94c-dd47-476d-a0c0-556675f67de4",
   "metadata": {
    "collapsed": true,
    "jupyter": {
     "outputs_hidden": true
    },
    "tags": []
   },
   "outputs": [
    {
     "name": "stderr",
     "output_type": "stream",
     "text": [
      "  0%|          | 0/124 [00:00<?, ?it/s]"
     ]
    },
    {
     "name": "stdout",
     "output_type": "stream",
     "text": [
      "There are 2 new <class 'PTETA.utils.transport.kharkiv.KharkivTransportRoute.KharkivTransportRoute'> to inserted in DB\n",
      "Error raised while select <class 'PTETA.utils.transport.kharkiv.KharkivTransportRoute.KharkivTransportRoute'> '[KharkivTransportRoute(id=None, name='52', type=2), KharkivTransportRoute(id=None, name='55', type=2)]'\n"
     ]
    },
    {
     "name": "stderr",
     "output_type": "stream",
     "text": [
      "\n"
     ]
    },
    {
     "ename": "SyntaxError",
     "evalue": "syntax error at or near \"AND\"\nLINE 1: SELECT \"name\", \"type\" FROM kharkiv.route  WHERE ( AND \"name\"...\n                                                          ^\n",
     "output_type": "error",
     "traceback": [
      "\u001b[1;31m---------------------------------------------------------------------------\u001b[0m",
      "\u001b[1;31mSyntaxError\u001b[0m                               Traceback (most recent call last)",
      "\u001b[1;32m~\\AppData\\Local\\Temp\\ipykernel_12996\\2812780026.py\u001b[0m in \u001b[0;36m<module>\u001b[1;34m\u001b[0m\n\u001b[0;32m      5\u001b[0m \u001b[1;32mfor\u001b[0m \u001b[0mbatch_number\u001b[0m\u001b[1;33m,\u001b[0m \u001b[0mbatch_df\u001b[0m \u001b[1;32min\u001b[0m \u001b[0mbatch_tqdm\u001b[0m\u001b[1;33m:\u001b[0m\u001b[1;33m\u001b[0m\u001b[1;33m\u001b[0m\u001b[0m\n\u001b[0;32m      6\u001b[0m     \u001b[0mbatch_df\u001b[0m \u001b[1;33m=\u001b[0m \u001b[0mbatch_df\u001b[0m\u001b[1;33m.\u001b[0m\u001b[0mwhere\u001b[0m\u001b[1;33m(\u001b[0m\u001b[0mpd\u001b[0m\u001b[1;33m.\u001b[0m\u001b[0mnotnull\u001b[0m\u001b[1;33m(\u001b[0m\u001b[0mbatch_df\u001b[0m\u001b[1;33m)\u001b[0m\u001b[1;33m,\u001b[0m \u001b[1;32mNone\u001b[0m\u001b[1;33m)\u001b[0m\u001b[1;33m\u001b[0m\u001b[1;33m\u001b[0m\u001b[0m\n\u001b[1;32m----> 7\u001b[1;33m     \u001b[0mmonitor\u001b[0m\u001b[1;33m.\u001b[0m\u001b[0mwrite_to_db\u001b[0m\u001b[1;33m(\u001b[0m\u001b[0mbatch_df\u001b[0m\u001b[1;33m.\u001b[0m\u001b[0mto_dict\u001b[0m\u001b[1;33m(\u001b[0m\u001b[1;34m'records'\u001b[0m\u001b[1;33m)\u001b[0m\u001b[1;33m)\u001b[0m\u001b[1;33m\u001b[0m\u001b[1;33m\u001b[0m\u001b[0m\n\u001b[0m",
      "\u001b[1;32mD:\\projects\\PTETA\\aws\\src\\TransGPSCVMonitor.py\u001b[0m in \u001b[0;36mwrite_to_db\u001b[1;34m(self, response)\u001b[0m\n\u001b[0;32m    138\u001b[0m             \u001b[1;32mif\u001b[0m \u001b[0mnew_obj\u001b[0m\u001b[1;33m:\u001b[0m\u001b[1;33m\u001b[0m\u001b[1;33m\u001b[0m\u001b[0m\n\u001b[0;32m    139\u001b[0m                 \u001b[0mprint\u001b[0m\u001b[1;33m(\u001b[0m\u001b[1;34mf\"There are {len(new_obj)} new {new_obj[0].__class__} to inserted in DB\"\u001b[0m\u001b[1;33m)\u001b[0m\u001b[1;33m\u001b[0m\u001b[1;33m\u001b[0m\u001b[0m\n\u001b[1;32m--> 140\u001b[1;33m                 \u001b[0mself\u001b[0m\u001b[1;33m.\u001b[0m\u001b[0mupdate_db\u001b[0m\u001b[1;33m(\u001b[0m\u001b[0mnew_obj\u001b[0m\u001b[1;33m)\u001b[0m\u001b[1;33m\u001b[0m\u001b[1;33m\u001b[0m\u001b[0m\n\u001b[0m\u001b[0;32m    141\u001b[0m \u001b[1;33m\u001b[0m\u001b[0m\n\u001b[0;32m    142\u001b[0m         \u001b[1;32mfor\u001b[0m \u001b[0mi\u001b[0m\u001b[1;33m,\u001b[0m \u001b[1;33m(\u001b[0m\u001b[0mvehicle\u001b[0m\u001b[1;33m,\u001b[0m \u001b[0mroute\u001b[0m\u001b[1;33m)\u001b[0m \u001b[1;32min\u001b[0m \u001b[0menumerate\u001b[0m\u001b[1;33m(\u001b[0m\u001b[0mzip\u001b[0m\u001b[1;33m(\u001b[0m\u001b[0mvehicle_list\u001b[0m\u001b[1;33m,\u001b[0m \u001b[0mroute_list\u001b[0m\u001b[1;33m)\u001b[0m\u001b[1;33m)\u001b[0m\u001b[1;33m:\u001b[0m\u001b[1;33m\u001b[0m\u001b[1;33m\u001b[0m\u001b[0m\n",
      "\u001b[1;32mD:\\projects\\PTETA\\aws\\src\\TransGPSCVMonitor.py\u001b[0m in \u001b[0;36mupdate_db\u001b[1;34m(self, obj_list)\u001b[0m\n\u001b[0;32m     93\u001b[0m     \u001b[1;32mdef\u001b[0m \u001b[0mupdate_db\u001b[0m\u001b[1;33m(\u001b[0m\u001b[0mself\u001b[0m\u001b[1;33m,\u001b[0m \u001b[0mobj_list\u001b[0m\u001b[1;33m:\u001b[0m \u001b[0mList\u001b[0m\u001b[1;33m[\u001b[0m\u001b[0mBaseDBAccessDataclass\u001b[0m\u001b[1;33m]\u001b[0m\u001b[1;33m)\u001b[0m\u001b[1;33m:\u001b[0m\u001b[1;33m\u001b[0m\u001b[1;33m\u001b[0m\u001b[0m\n\u001b[0;32m     94\u001b[0m         \u001b[0mcurrent_class\u001b[0m \u001b[1;33m=\u001b[0m \u001b[0mobj_list\u001b[0m\u001b[1;33m[\u001b[0m\u001b[1;36m0\u001b[0m\u001b[1;33m]\u001b[0m\u001b[1;33m.\u001b[0m\u001b[0m__class__\u001b[0m\u001b[1;33m\u001b[0m\u001b[1;33m\u001b[0m\u001b[0m\n\u001b[1;32m---> 95\u001b[1;33m         \u001b[0mare_in_db_list\u001b[0m \u001b[1;33m=\u001b[0m \u001b[0mcurrent_class\u001b[0m\u001b[1;33m.\u001b[0m\u001b[0mare_in_table\u001b[0m\u001b[1;33m(\u001b[0m\u001b[0mself\u001b[0m\u001b[1;33m.\u001b[0m\u001b[0mdb_connection\u001b[0m\u001b[1;33m,\u001b[0m \u001b[0mobj_list\u001b[0m\u001b[1;33m)\u001b[0m\u001b[1;33m\u001b[0m\u001b[1;33m\u001b[0m\u001b[0m\n\u001b[0m\u001b[0;32m     96\u001b[0m \u001b[1;33m\u001b[0m\u001b[0m\n\u001b[0;32m     97\u001b[0m         obj_to_insert = [obj\n",
      "\u001b[1;32mD:\\projects\\PTETA\\PTETA\\utils\\transport\\BaseDBAccessDataclass.py\u001b[0m in \u001b[0;36mare_in_table\u001b[1;34m(cls, connection, obj_list)\u001b[0m\n\u001b[0;32m     40\u001b[0m                 \u001b[0mconnection\u001b[0m\u001b[1;33m.\u001b[0m\u001b[0mrollback\u001b[0m\u001b[1;33m(\u001b[0m\u001b[1;33m)\u001b[0m\u001b[1;33m\u001b[0m\u001b[1;33m\u001b[0m\u001b[0m\n\u001b[0;32m     41\u001b[0m                 \u001b[0mprint\u001b[0m\u001b[1;33m(\u001b[0m\u001b[1;34mf\"Error raised while select {cls} '{obj_list}'\"\u001b[0m\u001b[1;33m)\u001b[0m\u001b[1;33m\u001b[0m\u001b[1;33m\u001b[0m\u001b[0m\n\u001b[1;32m---> 42\u001b[1;33m                 \u001b[1;32mraise\u001b[0m \u001b[0merr\u001b[0m\u001b[1;33m\u001b[0m\u001b[1;33m\u001b[0m\u001b[0m\n\u001b[0m\u001b[0;32m     43\u001b[0m \u001b[1;33m\u001b[0m\u001b[0m\n\u001b[0;32m     44\u001b[0m     \u001b[1;32mdef\u001b[0m \u001b[0minsert_in_table\u001b[0m\u001b[1;33m(\u001b[0m\u001b[0mself\u001b[0m\u001b[1;33m,\u001b[0m \u001b[0mconnection\u001b[0m\u001b[1;33m:\u001b[0m \u001b[0mConnection\u001b[0m\u001b[1;33m)\u001b[0m \u001b[1;33m->\u001b[0m \u001b[1;32mNone\u001b[0m\u001b[1;33m:\u001b[0m\u001b[1;33m\u001b[0m\u001b[1;33m\u001b[0m\u001b[0m\n",
      "\u001b[1;32mD:\\projects\\PTETA\\PTETA\\utils\\transport\\BaseDBAccessDataclass.py\u001b[0m in \u001b[0;36mare_in_table\u001b[1;34m(cls, connection, obj_list)\u001b[0m\n\u001b[0;32m     34\u001b[0m         \u001b[1;32mwith\u001b[0m \u001b[0mconnection\u001b[0m\u001b[1;33m.\u001b[0m\u001b[0mcursor\u001b[0m\u001b[1;33m(\u001b[0m\u001b[1;33m)\u001b[0m \u001b[1;32mas\u001b[0m \u001b[0mcursor\u001b[0m\u001b[1;33m:\u001b[0m\u001b[1;33m\u001b[0m\u001b[1;33m\u001b[0m\u001b[0m\n\u001b[0;32m     35\u001b[0m             \u001b[1;32mtry\u001b[0m\u001b[1;33m:\u001b[0m\u001b[1;33m\u001b[0m\u001b[1;33m\u001b[0m\u001b[0m\n\u001b[1;32m---> 36\u001b[1;33m                 \u001b[0mcursor\u001b[0m\u001b[1;33m.\u001b[0m\u001b[0mexecute\u001b[0m\u001b[1;33m(\u001b[0m\u001b[0msql\u001b[0m\u001b[1;33m)\u001b[0m\u001b[1;33m\u001b[0m\u001b[1;33m\u001b[0m\u001b[0m\n\u001b[0m\u001b[0;32m     37\u001b[0m                 \u001b[0mresponse_set\u001b[0m \u001b[1;33m=\u001b[0m \u001b[0mset\u001b[0m\u001b[1;33m(\u001b[0m\u001b[1;33m[\u001b[0m\u001b[0mcls\u001b[0m\u001b[1;33m(\u001b[0m\u001b[1;33m*\u001b[0m\u001b[0mrow\u001b[0m\u001b[1;33m)\u001b[0m \u001b[1;32mfor\u001b[0m \u001b[0mrow\u001b[0m \u001b[1;32min\u001b[0m \u001b[0mcursor\u001b[0m\u001b[1;33m.\u001b[0m\u001b[0mfetchall\u001b[0m\u001b[1;33m(\u001b[0m\u001b[1;33m)\u001b[0m\u001b[1;33m]\u001b[0m\u001b[1;33m)\u001b[0m\u001b[1;33m\u001b[0m\u001b[1;33m\u001b[0m\u001b[0m\n\u001b[0;32m     38\u001b[0m                 \u001b[1;32mreturn\u001b[0m \u001b[1;33m[\u001b[0m\u001b[0mobj\u001b[0m \u001b[1;32min\u001b[0m \u001b[0mresponse_set\u001b[0m \u001b[1;32mfor\u001b[0m \u001b[0mobj\u001b[0m \u001b[1;32min\u001b[0m \u001b[0mobj_list\u001b[0m\u001b[1;33m]\u001b[0m\u001b[1;33m\u001b[0m\u001b[1;33m\u001b[0m\u001b[0m\n",
      "\u001b[1;31mSyntaxError\u001b[0m: syntax error at or near \"AND\"\nLINE 1: SELECT \"name\", \"type\" FROM kharkiv.route  WHERE ( AND \"name\"...\n                                                          ^\n"
     ]
    }
   ],
   "source": [
    "#     df_cur = df_u[:]\n",
    "\n",
    "batch_tqdm = tqdm(df_cur.groupby(np.arange(len(df_cur)) // BATCH_SIZE), \n",
    "                  miniters=40)\n",
    "for batch_number, batch_df in batch_tqdm:\n",
    "    batch_df = batch_df.where(pd.notnull(batch_df), None)\n",
    "    monitor.write_to_db(batch_df.to_dict('records'))"
   ]
  },
  {
   "cell_type": "code",
   "execution_count": null,
   "id": "32abd831-aef0-4831-88ca-3dfd01636b65",
   "metadata": {},
   "outputs": [],
   "source": []
  },
  {
   "cell_type": "code",
   "execution_count": null,
   "id": "1b865427-2271-4b84-97aa-b7977dda0f54",
   "metadata": {},
   "outputs": [],
   "source": []
  },
  {
   "cell_type": "code",
   "execution_count": 32,
   "id": "1f9fa05e-f3e2-483a-ba23-7f6f149f2e54",
   "metadata": {},
   "outputs": [],
   "source": [
    "from psycopg2.extras import RealDictCursor\n",
    "connection_config= dict({\n",
    "    'host': os.environ['RDS_HOSTNAME'],\n",
    "    'database': \"pteta_db\",\n",
    "    'user': \"postgres\",\n",
    "    'password': os.environ['RDS_PTETA_DB_PASSWORD']\n",
    "})\n",
    "conn = psycopg2.connect(**connection_config)\n",
    "\n",
    "# cur = connection.cursor(cursor_factory = RealDictCursor)"
   ]
  },
  {
   "cell_type": "code",
   "execution_count": 54,
   "id": "0bc04d1c-8ff7-482d-b577-dcda7ea98340",
   "metadata": {},
   "outputs": [
    {
     "name": "stdout",
     "output_type": "stream",
     "text": [
      "[{'id': -1, 'name': 'UNKNOWN', 'type': -1}, {'id': 1, 'name': '52', 'type': 2}, {'id': 2, 'name': '55', 'type': 2}, {'id': 3, 'name': '24', 'type': 2}, {'id': 4, 'name': '204', 'type': 3}, {'id': 5, 'name': '45', 'type': 2}, {'id': 6, 'name': '8', 'type': 1}, {'id': 7, 'name': '208', 'type': 3}, {'id': 8, 'name': '34', 'type': 2}, {'id': 9, 'name': '46', 'type': 2}, {'id': 10, 'name': '35', 'type': 2}, {'id': 11, 'name': '72', 'type': 3}, {'id': 12, 'name': '212', 'type': 3}, {'id': 13, 'name': '206', 'type': 3}, {'id': 14, 'name': '3', 'type': 2}, {'id': 15, 'name': '1', 'type': 2}, {'id': 16, 'name': '6', 'type': 2}, {'id': 17, 'name': '51', 'type': 2}, {'id': 18, 'name': '13', 'type': 2}, {'id': 19, 'name': '20', 'type': 1}, {'id': 20, 'name': '68', 'type': 3}, {'id': 21, 'name': '75', 'type': 3}, {'id': 22, 'name': '27', 'type': 2}, {'id': 23, 'name': '28', 'type': 1}, {'id': 24, 'name': '27', 'type': 1}, {'id': 25, 'name': '281', 'type': 3}, {'id': 26, 'name': '119', 'type': 2}, {'id': 27, 'name': '3', 'type': 1}, {'id': 28, 'name': '19', 'type': 2}, {'id': 29, 'name': '63', 'type': 3}, {'id': 30, 'name': '272', 'type': 3}, {'id': 31, 'name': '209', 'type': 3}, {'id': 32, 'name': '49', 'type': 2}, {'id': 33, 'name': '219', 'type': 3}, {'id': 34, 'name': '5', 'type': 2}, {'id': 35, 'name': '58', 'type': 3}, {'id': 36, 'name': '33', 'type': 3}, {'id': 37, 'name': '107', 'type': 3}, {'id': 38, 'name': '41', 'type': 3}, {'id': 39, 'name': '6', 'type': 1}, {'id': 40, 'name': '243', 'type': 3}, {'id': 41, 'name': '102', 'type': 3}, {'id': 42, 'name': '11', 'type': 2}, {'id': 43, 'name': '31', 'type': 2}, {'id': 44, 'name': '304', 'type': 2}, {'id': 45, 'name': '260', 'type': 3}, {'id': 46, 'name': '67', 'type': 3}, {'id': 47, 'name': '77', 'type': 3}, {'id': 48, 'name': '296', 'type': 3}, {'id': 49, 'name': '32', 'type': 3}, {'id': 50, 'name': '20', 'type': 2}, {'id': 51, 'name': '140', 'type': 3}, {'id': 52, 'name': '1', 'type': 1}, {'id': 53, 'name': '40', 'type': 2}, {'id': 54, 'name': '53', 'type': 2}, {'id': 55, 'name': '25', 'type': 2}, {'id': 56, 'name': '94', 'type': 3}, {'id': 57, 'name': '7', 'type': 2}, {'id': 58, 'name': '7', 'type': 1}, {'id': 59, 'name': '18', 'type': 2}, {'id': 60, 'name': '56', 'type': 2}, {'id': 61, 'name': '99', 'type': 3}, {'id': 62, 'name': '267', 'type': 2}, {'id': 63, 'name': '83', 'type': 3}, {'id': 64, 'name': '64', 'type': 3}, {'id': 65, 'name': '224', 'type': 3}, {'id': 66, 'name': '28', 'type': 3}, {'id': 67, 'name': '20', 'type': 3}, {'id': 68, 'name': '47', 'type': 3}, {'id': 69, 'name': '241', 'type': 3}, {'id': 70, 'name': '123', 'type': 3}, {'id': 71, 'name': '266', 'type': 3}, {'id': 72, 'name': '22', 'type': 3}, {'id': 73, 'name': '25', 'type': 3}, {'id': 74, 'name': '273', 'type': 3}, {'id': 75, 'name': '78', 'type': 3}, {'id': 76, 'name': '128', 'type': 3}, {'id': 77, 'name': '12', 'type': 2}, {'id': 78, 'name': '21', 'type': 3}]\n"
     ]
    }
   ],
   "source": [
    "with conn.cursor() as cur : \n",
    "    cur.execute('SELECT id, \"name\", \"type\" FROM kharkiv.route;')\n",
    "    columns = [desc[0] for desc in cur.description]\n",
    "    real_dict = [dict(zip(columns, row)) for row in cur.fetchall()]\n",
    "    print(real_dict)"
   ]
  },
  {
   "cell_type": "code",
   "execution_count": 55,
   "id": "5ea7d143-980c-48c1-8956-27f6d5d97e20",
   "metadata": {},
   "outputs": [
    {
     "ename": "SyntaxError",
     "evalue": "invalid syntax (2672971826.py, line 1)",
     "output_type": "error",
     "traceback": [
      "\u001b[1;36m  File \u001b[1;32m\"C:\\Users\\Вадим\\AppData\\Local\\Temp\\ipykernel_22432\\2672971826.py\"\u001b[1;36m, line \u001b[1;32m1\u001b[0m\n\u001b[1;33m    **real_dict\u001b[0m\n\u001b[1;37m    ^\u001b[0m\n\u001b[1;31mSyntaxError\u001b[0m\u001b[1;31m:\u001b[0m invalid syntax\n"
     ]
    }
   ],
   "source": [
    "**real_dict"
   ]
  },
  {
   "cell_type": "code",
   "execution_count": 48,
   "id": "a853211e-50bb-4b6b-b581-631d039a9d57",
   "metadata": {},
   "outputs": [
    {
     "data": {
      "text/plain": [
       "['id', 'name']"
      ]
     },
     "execution_count": 48,
     "metadata": {},
     "output_type": "execute_result"
    }
   ],
   "source": []
  },
  {
   "cell_type": "code",
   "execution_count": 37,
   "id": "eb3b1cc2-f3c6-4f08-91a7-31d5c5e068c0",
   "metadata": {},
   "outputs": [],
   "source": [
    "a = [r for r in cur]"
   ]
  },
  {
   "cell_type": "code",
   "execution_count": 40,
   "id": "c8e1711e-89c3-43e9-b918-41d00c806e42",
   "metadata": {},
   "outputs": [
    {
     "data": {
      "text/plain": [
       "['id', 'name']"
      ]
     },
     "execution_count": 40,
     "metadata": {},
     "output_type": "execute_result"
    }
   ],
   "source": [
    "[item for item in a[0]]"
   ]
  },
  {
   "cell_type": "code",
   "execution_count": 43,
   "id": "3cb19cd0-2fd0-4f23-acc0-968bb8e7ec39",
   "metadata": {},
   "outputs": [],
   "source": [
    "b = a[0]"
   ]
  },
  {
   "cell_type": "code",
   "execution_count": 45,
   "id": "edf609a1-2b33-4df8-a4de-a03dff609af7",
   "metadata": {},
   "outputs": [
    {
     "data": {
      "text/plain": [
       "odict_items([('id', -1), ('name', 'UNKNOWN')])"
      ]
     },
     "execution_count": 45,
     "metadata": {},
     "output_type": "execute_result"
    }
   ],
   "source": [
    "b.items()"
   ]
  },
  {
   "cell_type": "code",
   "execution_count": null,
   "id": "5d51b540-f510-43fa-9cd8-ded5d15845c7",
   "metadata": {},
   "outputs": [],
   "source": []
  },
  {
   "cell_type": "code",
   "execution_count": null,
   "id": "fa0fa139-430f-4530-8d56-736ab4ed3b4e",
   "metadata": {},
   "outputs": [],
   "source": []
  },
  {
   "cell_type": "markdown",
   "id": "803d0232-1878-42cd-abff-897330bca1eb",
   "metadata": {},
   "source": [
    "## TransportRoute"
   ]
  },
  {
   "cell_type": "code",
   "execution_count": 7,
   "id": "b2024837-e775-4f72-88c9-b09c241c0f03",
   "metadata": {},
   "outputs": [
    {
     "data": {
      "text/plain": [
       "['route_name', 'route_colour']"
      ]
     },
     "execution_count": 7,
     "metadata": {},
     "output_type": "execute_result"
    }
   ],
   "source": [
    "TransportRoute.__insert_columns__().replace('\"', '').split(', ')[1:]"
   ]
  },
  {
   "cell_type": "code",
   "execution_count": 28,
   "id": "65ef4651-6170-4469-9d80-2b457a43f825",
   "metadata": {},
   "outputs": [],
   "source": [
    "cols = [\"routeId\", 'routeName', 'routeColour']\n",
    "route_list = [TransportRoute.from_response_row(row) for row in df_sum[cols].drop_duplicates().to_dict('records')]\n",
    "len(route_list), route_list[:3]\n",
    "TransportRoute.insert_many_in_table(conn, route_list)"
   ]
  },
  {
   "cell_type": "code",
   "execution_count": 32,
   "id": "e3f3fc79-26de-4beb-b29f-c64a5403df84",
   "metadata": {
    "collapsed": true,
    "jupyter": {
     "outputs_hidden": true
    },
    "tags": []
   },
   "outputs": [
    {
     "data": {
      "text/plain": [
       "[TransportRoute(id=37, name='T', colour='coral'),\n",
       " TransportRoute(id=31, name='6/6a', colour='deeppink'),\n",
       " TransportRoute(id=21, name='38', colour='deeppink'),\n",
       " TransportRoute(id=41, name='10A', colour='black'),\n",
       " TransportRoute(id=20, name='A', colour='navy'),\n",
       " TransportRoute(id=42, name='39', colour='coral'),\n",
       " TransportRoute(id=23, name='19', colour='teal'),\n",
       " TransportRoute(id=19, name='10', colour='black'),\n",
       " TransportRoute(id=11, name='9', colour='magenta'),\n",
       " TransportRoute(id=2, name='11', colour='green'),\n",
       " TransportRoute(id=6, name='4', colour='magenta'),\n",
       " TransportRoute(id=27, name='3/3a', colour='green'),\n",
       " TransportRoute(id=16, name='2', colour='green'),\n",
       " TransportRoute(id=4, name='5', colour='orange'),\n",
       " TransportRoute(id=3, name='12', colour='blue'),\n",
       " TransportRoute(id=12, name='20', colour='maroon'),\n",
       " TransportRoute(id=7, name='6', colour='sienna'),\n",
       " TransportRoute(id=10, name='34', colour='navy'),\n",
       " TransportRoute(id=45, name='1', colour='navy'),\n",
       " TransportRoute(id=9, name='27', colour='black'),\n",
       " TransportRoute(id=38, name='1T', colour='grey'),\n",
       " TransportRoute(id=49, name='2A', colour='red'),\n",
       " TransportRoute(id=5, name='13', colour='brown'),\n",
       " TransportRoute(id=33, name='8T', colour='coral'),\n",
       " TransportRoute(id=17, name='23', colour='red'),\n",
       " TransportRoute(id=48, name='1A', colour='olive'),\n",
       " TransportRoute(id=14, name='9A', colour='magenta'),\n",
       " TransportRoute(id=26, name='4T', colour='purple'),\n",
       " TransportRoute(id=25, name='2T', colour='olive'),\n",
       " TransportRoute(id=39, name='5T', colour='maroon'),\n",
       " TransportRoute(id=34, name='11/3', colour='teal')]"
      ]
     },
     "execution_count": 32,
     "metadata": {},
     "output_type": "execute_result"
    }
   ],
   "source": [
    "TransportRoute.get_table(conn)"
   ]
  },
  {
   "cell_type": "code",
   "execution_count": 13,
   "id": "db79201d-b8f6-4210-8e5d-7a3527d99efe",
   "metadata": {},
   "outputs": [],
   "source": [
    "# df_sum[TransportRoute.__insert_columns__().replace('\"', '').split(', ')[1:]].value_counts()"
   ]
  },
  {
   "cell_type": "code",
   "execution_count": 27,
   "id": "7962a53d-4491-4335-8219-3badba381963",
   "metadata": {},
   "outputs": [],
   "source": [
    "conn.rollback()"
   ]
  },
  {
   "cell_type": "code",
   "execution_count": 45,
   "id": "656c313d-e60c-44fe-b9f7-7df2ac28af09",
   "metadata": {
    "tags": []
   },
   "outputs": [],
   "source": [
    "SQL_big_req = \" \".join([create_sql_req(t) for t in trans_vehicle_list])"
   ]
  },
  {
   "cell_type": "code",
   "execution_count": 29,
   "id": "16cd9f5e-0f22-4c03-b6a2-007dfc75471b",
   "metadata": {},
   "outputs": [
    {
     "data": {
      "text/plain": [
       "31"
      ]
     },
     "execution_count": 29,
     "metadata": {},
     "output_type": "execute_result"
    }
   ],
   "source": [
    "route_list = TransportRoute.get_table(conn)[:]\n",
    "len(route_list)"
   ]
  },
  {
   "cell_type": "code",
   "execution_count": 30,
   "id": "703e8efe-7133-46a1-a6a1-2a2a37d93fe5",
   "metadata": {
    "collapsed": true,
    "jupyter": {
     "outputs_hidden": true
    },
    "tags": []
   },
   "outputs": [
    {
     "data": {
      "text/plain": [
       "[False,\n",
       " True,\n",
       " False,\n",
       " True,\n",
       " False,\n",
       " True,\n",
       " False,\n",
       " True,\n",
       " False,\n",
       " True,\n",
       " False,\n",
       " True,\n",
       " False,\n",
       " True,\n",
       " False,\n",
       " True,\n",
       " False,\n",
       " True,\n",
       " False,\n",
       " True,\n",
       " False,\n",
       " True,\n",
       " False,\n",
       " True,\n",
       " False,\n",
       " True,\n",
       " False,\n",
       " True,\n",
       " False,\n",
       " True,\n",
       " False]"
      ]
     },
     "execution_count": 30,
     "metadata": {},
     "output_type": "execute_result"
    }
   ],
   "source": [
    "for r in route_list[::2]: \n",
    "    r.id += 1\n",
    "TransportRoute.are_in_table(conn, route_list)"
   ]
  },
  {
   "cell_type": "code",
   "execution_count": 31,
   "id": "d7a52b7b-5720-4b93-ab34-36c661fd52c8",
   "metadata": {
    "collapsed": true,
    "jupyter": {
     "outputs_hidden": true
    },
    "tags": []
   },
   "outputs": [
    {
     "data": {
      "text/plain": [
       "[False,\n",
       " True,\n",
       " False,\n",
       " True,\n",
       " False,\n",
       " True,\n",
       " False,\n",
       " True,\n",
       " False,\n",
       " True,\n",
       " False,\n",
       " True,\n",
       " False,\n",
       " True,\n",
       " False,\n",
       " True,\n",
       " False,\n",
       " True,\n",
       " False,\n",
       " True,\n",
       " False,\n",
       " True,\n",
       " False,\n",
       " True,\n",
       " False,\n",
       " True,\n",
       " False,\n",
       " True,\n",
       " False,\n",
       " True,\n",
       " False]"
      ]
     },
     "execution_count": 31,
     "metadata": {},
     "output_type": "execute_result"
    }
   ],
   "source": [
    "TransportRoute.are_in_table(conn, route_list)"
   ]
  },
  {
   "cell_type": "code",
   "execution_count": 14,
   "id": "12a3eb91-8eda-470e-b985-4d5109cb424d",
   "metadata": {},
   "outputs": [],
   "source": [
    "for r in route_list: \n",
    "    r.name += \"_\"\n",
    "    r.id += 100"
   ]
  },
  {
   "cell_type": "code",
   "execution_count": 16,
   "id": "b0b4c455-15fa-4939-a6df-6012fad411fd",
   "metadata": {},
   "outputs": [],
   "source": [
    "# sql = f\"\"\"INSERT INTO pteta.route(\"id\", \"routeName\", \"routeColour\") VALUES \"\"\" + \\\n",
    "#               \", \".join([f\"\"\"({obj.id}, '{obj.name}', '{obj.colour}')\"\"\"\n",
    "#                         for obj in route_list]) + \";\"\n",
    "# sql"
   ]
  },
  {
   "cell_type": "code",
   "execution_count": 17,
   "id": "9054b72a-afb6-4087-a95a-21c876e097ff",
   "metadata": {},
   "outputs": [],
   "source": [
    "# route_list"
   ]
  },
  {
   "cell_type": "code",
   "execution_count": 18,
   "id": "77dd36c5-49ad-4a86-9de9-5282adf24302",
   "metadata": {},
   "outputs": [],
   "source": [
    "TransportRoute.insert_many_in_table(conn, route_list)"
   ]
  },
  {
   "cell_type": "code",
   "execution_count": null,
   "id": "3dd59c3b-6a83-466c-b8f2-cce11a645f0b",
   "metadata": {},
   "outputs": [],
   "source": []
  },
  {
   "cell_type": "markdown",
   "id": "e38b678e-784c-45d1-89cb-4d9d3ae77d45",
   "metadata": {},
   "source": [
    "## Test TransportVehicle"
   ]
  },
  {
   "cell_type": "code",
   "execution_count": 33,
   "id": "37129939-f633-4b44-9c44-10b313e3fa3b",
   "metadata": {},
   "outputs": [
    {
     "data": {
      "text/plain": [
       "'\"imei\", \"name\", \"bus_number\", \"remark\", \"perev_id\"'"
      ]
     },
     "execution_count": 33,
     "metadata": {},
     "output_type": "execute_result"
    }
   ],
   "source": [
    "TransportVehicle.__insert_columns__()"
   ]
  },
  {
   "cell_type": "code",
   "execution_count": 45,
   "id": "1a237457-a881-4e69-b1d0-96cf2aec4cd2",
   "metadata": {},
   "outputs": [],
   "source": [
    "cols = [\"imei\", \"name\", \"busNumber\", \"remark\", \"perevId\"]\n",
    "vehicle_list = [TransportVehicle.from_response_row(row) for row in df_sum[cols].drop_duplicates().to_dict('records')]\n",
    "len(vehicle_list), vehicle_list[:3]\n",
    "TransportVehicle.insert_many_in_table(conn, vehicle_list)"
   ]
  },
  {
   "cell_type": "code",
   "execution_count": 47,
   "id": "0a278005-dc97-4114-af59-483e17bf6999",
   "metadata": {},
   "outputs": [
    {
     "data": {
      "text/plain": [
       "99"
      ]
     },
     "execution_count": 47,
     "metadata": {},
     "output_type": "execute_result"
    }
   ],
   "source": [
    "vehicle_list = TransportVehicle.get_table(conn)\n",
    "len(vehicle_list)"
   ]
  },
  {
   "cell_type": "code",
   "execution_count": 48,
   "id": "37989ed4-30f7-4b97-8258-6be17ba1e290",
   "metadata": {},
   "outputs": [
    {
     "data": {
      "text/plain": [
       "[True, True, True, True, True]"
      ]
     },
     "execution_count": 48,
     "metadata": {},
     "output_type": "execute_result"
    }
   ],
   "source": [
    "TransportVehicle.are_in_table(conn, vehicle_list[:5])"
   ]
  },
  {
   "cell_type": "code",
   "execution_count": 49,
   "id": "81b128d1-6b40-4c94-bf2e-874e2544693e",
   "metadata": {},
   "outputs": [
    {
     "data": {
      "text/plain": [
       "True"
      ]
     },
     "execution_count": 49,
     "metadata": {},
     "output_type": "execute_result"
    }
   ],
   "source": [
    "vehicle_list[5].is_in_table(conn)"
   ]
  },
  {
   "cell_type": "code",
   "execution_count": null,
   "id": "ba9ba8f8-9ed4-47ba-94cd-7c20ac1c33cd",
   "metadata": {},
   "outputs": [],
   "source": []
  },
  {
   "cell_type": "code",
   "execution_count": 50,
   "id": "3d5e7733-09f4-4ae0-a3b3-c62900a8dc58",
   "metadata": {},
   "outputs": [
    {
     "data": {
      "text/plain": [
       "False"
      ]
     },
     "execution_count": 50,
     "metadata": {},
     "output_type": "execute_result"
    }
   ],
   "source": [
    "obj = vehicle_list[0]\n",
    "obj.imei += \"-\"\n",
    "obj.is_in_table(conn)"
   ]
  },
  {
   "cell_type": "code",
   "execution_count": 51,
   "id": "385b8a30-87af-4551-9f70-75ea85e14bd3",
   "metadata": {},
   "outputs": [],
   "source": [
    "obj.insert_in_table(conn)"
   ]
  },
  {
   "cell_type": "code",
   "execution_count": 52,
   "id": "7d90f8bb-b0f0-4f3c-9194-0ac4af260719",
   "metadata": {},
   "outputs": [],
   "source": [
    "for v in vehicle_list[:10]: \n",
    "    v.imei += '_'"
   ]
  },
  {
   "cell_type": "code",
   "execution_count": 15,
   "id": "6c25cab4-914c-4f61-a724-f199b51f0196",
   "metadata": {},
   "outputs": [],
   "source": [
    "TransportVehicle.insert_many_in_table(conn, vehicle_list[:10])"
   ]
  },
  {
   "cell_type": "code",
   "execution_count": 31,
   "id": "2a0af8f2-07a4-4991-8bd7-3bdfeb81b952",
   "metadata": {},
   "outputs": [],
   "source": [
    "obj.insert_in_table(conn)\n",
    "obj.is_in_table(conn)"
   ]
  },
  {
   "cell_type": "code",
   "execution_count": null,
   "id": "04400c12-3466-4c91-b027-93be01673c03",
   "metadata": {},
   "outputs": [],
   "source": []
  },
  {
   "cell_type": "code",
   "execution_count": 14,
   "id": "82a79e2d-325a-4dd6-82ef-e213a1f80469",
   "metadata": {},
   "outputs": [
    {
     "name": "stdout",
     "output_type": "stream",
     "text": [
      "TransportVehicle(id=None, imei='355227045600830', name='A178', busNumber='310', remark='Тролейбус 310 DNSNK', perevId=6, routeId=37)\n",
      "TransportVehicle(id=1, imei='355227045600830', name='A178', busNumber='310', remark='Тролейбус 310 DNSNK', perevId=6, routeId=37)\n"
     ]
    }
   ],
   "source": [
    "vehicle_list[0].id = None\n",
    "print(vehicle_list[0])\n",
    "vehicle_list[0].update_id_from_table(conn)\n",
    "print(vehicle_list[0])"
   ]
  },
  {
   "cell_type": "code",
   "execution_count": 34,
   "id": "9e1c1879-1060-45ac-ad9d-18991161f2f2",
   "metadata": {
    "tags": []
   },
   "outputs": [
    {
     "data": {
      "text/plain": [
       "[TransportVehicle(id=222, imei='355227045600830-__', name='A178', busNumber='310', remark='Тролейбус 310 DNSNK', perevId=6, routeId=37),\n",
       " TransportVehicle(id=2, imei='355227046451662__', name='H76', busNumber='350', remark='Тролейбус 350 DNSNTNK', perevId=6, routeId=31),\n",
       " TransportVehicle(id=3, imei='355227045369527__', name='A6', busNumber='3557', remark='3557 DNSNK ', perevId=12, routeId=21),\n",
       " TransportVehicle(id=4, imei='355227045540176__', name='A83', busNumber='5150', remark=' 5150 DNS', perevId=7, routeId=41),\n",
       " TransportVehicle(id=5, imei='355227046453387__', name='H75', busNumber='3627', remark='3627 DNSNTNK', perevId=1, routeId=20),\n",
       " TransportVehicle(id=6, imei='355228042084283__', name='A207', busNumber='1032', remark='1032 DNSNK', perevId=13, routeId=42),\n",
       " TransportVehicle(id=7, imei='355227045371655__', name='A1', busNumber='6513', remark='6513 DNSNK', perevId=7, routeId=23),\n",
       " TransportVehicle(id=8, imei='355227046451407__', name='H68', busNumber='0855', remark='0855 DNSNTNK', perevId=13, routeId=42),\n",
       " TransportVehicle(id=9, imei='355227046578332__', name='A189', busNumber='6518', remark='6518 DNSNK ', perevId=7, routeId=19),\n",
       " TransportVehicle(id=10, imei='355228043199379__', name='H99', busNumber='1176', remark='1176 DNSNTNK', perevId=12, routeId=21),\n",
       " TransportVehicle(id=11, imei='355227046504098', name='A195', busNumber='0854', remark='0854 DNSNK', perevId=13, routeId=42),\n",
       " TransportVehicle(id=12, imei='355227046504098', name='A195', busNumber='0854', remark='0854 DNSNK', perevId=13, routeId=11),\n",
       " TransportVehicle(id=13, imei='355227046451027', name='H24', busNumber='0738', remark='0738 DNSNTNK', perevId=1, routeId=2)]"
      ]
     },
     "execution_count": 34,
     "metadata": {},
     "output_type": "execute_result"
    }
   ],
   "source": [
    "for v in vehicle_list[:10]: \n",
    "    v.imei += '__'\n",
    "\n",
    "vehicle_list[:13]"
   ]
  },
  {
   "cell_type": "code",
   "execution_count": null,
   "id": "65587fa2-bd59-4efc-b155-56a4472d7c1d",
   "metadata": {},
   "outputs": [],
   "source": []
  },
  {
   "cell_type": "markdown",
   "id": "12b4864c-12ee-4bdc-8fc8-0504368bfbf9",
   "metadata": {},
   "source": [
    "## TransportOperator"
   ]
  },
  {
   "cell_type": "code",
   "execution_count": null,
   "id": "c65faf98-5009-4756-8cbe-433fe345970a",
   "metadata": {},
   "outputs": [],
   "source": []
  },
  {
   "cell_type": "code",
   "execution_count": 41,
   "id": "53ccacbb-8a47-4536-9004-dd3cff1c8756",
   "metadata": {
    "tags": []
   },
   "outputs": [
    {
     "data": {
      "text/plain": [
       "6"
      ]
     },
     "execution_count": 41,
     "metadata": {},
     "output_type": "execute_result"
    }
   ],
   "source": [
    "operator_list = TransportOperator.get_table(conn)\n",
    "len(operator_list)"
   ]
  },
  {
   "cell_type": "code",
   "execution_count": 37,
   "id": "add37a17-8db0-475b-a13f-05ad71cb4b90",
   "metadata": {},
   "outputs": [
    {
     "data": {
      "text/plain": [
       "'id, \"perev_name\"'"
      ]
     },
     "execution_count": 37,
     "metadata": {},
     "output_type": "execute_result"
    }
   ],
   "source": [
    "TransportOperator.__insert_columns__()"
   ]
  },
  {
   "cell_type": "code",
   "execution_count": 40,
   "id": "58aa5906-6de7-44df-93e3-9db6a9d03d72",
   "metadata": {},
   "outputs": [],
   "source": [
    "cols = ['perevId', \"perevName\"]\n",
    "operator_list = [TransportOperator.from_response_row(row) \n",
    "              for row in df_sum[cols].drop_duplicates().to_dict('records')]\n",
    "len(operator_list), operator_list[:3]\n",
    "TransportOperator.insert_many_in_table(conn, operator_list)"
   ]
  },
  {
   "cell_type": "code",
   "execution_count": null,
   "id": "49c7f706-e9c3-472b-90bb-a46d7cc96397",
   "metadata": {},
   "outputs": [],
   "source": []
  },
  {
   "cell_type": "code",
   "execution_count": 42,
   "id": "24288a49-97b0-450c-b4b3-9fdf8729d6ef",
   "metadata": {},
   "outputs": [
    {
     "data": {
      "text/plain": [
       "[True, True, True, True, True, True]"
      ]
     },
     "execution_count": 42,
     "metadata": {},
     "output_type": "execute_result"
    }
   ],
   "source": [
    "TransportOperator.are_in_table(conn, operator_list[:])"
   ]
  },
  {
   "cell_type": "code",
   "execution_count": 43,
   "id": "606d9682-b1e9-4110-bd5b-746fb6180744",
   "metadata": {},
   "outputs": [
    {
     "data": {
      "text/plain": [
       "True"
      ]
     },
     "execution_count": 43,
     "metadata": {},
     "output_type": "execute_result"
    }
   ],
   "source": [
    "operator_list[0].is_in_table(conn)"
   ]
  },
  {
   "cell_type": "code",
   "execution_count": 44,
   "id": "5437ec19-c042-4d84-adbb-6f1251c35bdf",
   "metadata": {},
   "outputs": [
    {
     "data": {
      "text/plain": [
       "False"
      ]
     },
     "execution_count": 44,
     "metadata": {},
     "output_type": "execute_result"
    }
   ],
   "source": [
    "obj = operator_list[0]\n",
    "obj.id += 100\n",
    "obj.name = \"-_-\" + obj.name\n",
    "obj.is_in_table(conn)"
   ]
  },
  {
   "cell_type": "code",
   "execution_count": 14,
   "id": "4fd48af7-fad0-4e05-80d7-756ce77ea7e8",
   "metadata": {},
   "outputs": [],
   "source": [
    "obj.insert_in_table(conn)"
   ]
  },
  {
   "cell_type": "code",
   "execution_count": 15,
   "id": "daa1e22e-774b-4aa6-85cd-8854f1451a03",
   "metadata": {},
   "outputs": [],
   "source": [
    "for op in operator_list: \n",
    "    op.id += 100\n",
    "    op.name = \"-_-\" + op.name\n",
    "    \n",
    "TransportOperator.insert_many_in_table(conn, operator_list)"
   ]
  },
  {
   "cell_type": "code",
   "execution_count": null,
   "id": "54623c33-e180-4a15-931b-32617c32876e",
   "metadata": {},
   "outputs": [],
   "source": []
  },
  {
   "cell_type": "markdown",
   "id": "a7b4a93e-f4cf-4f72-b4de-f31350ca0fe4",
   "metadata": {},
   "source": [
    "## TransportAVLData"
   ]
  },
  {
   "cell_type": "code",
   "execution_count": 9,
   "id": "2ec67a1a-5a8e-491c-b7ef-f00cbd84cbe5",
   "metadata": {},
   "outputs": [],
   "source": [
    "avl_data_list = TransportAVLData.get_table(conn)"
   ]
  },
  {
   "cell_type": "code",
   "execution_count": 11,
   "id": "8ec55802-09a3-46c5-a951-bc33f778ae31",
   "metadata": {},
   "outputs": [],
   "source": [
    "# avl_data_list"
   ]
  },
  {
   "cell_type": "code",
   "execution_count": 14,
   "id": "35304afa-4736-4317-aa4b-c59f784e3e59",
   "metadata": {},
   "outputs": [
    {
     "name": "stdout",
     "output_type": "stream",
     "text": [
      "57.4 ms ± 3.36 ms per loop (mean ± std. dev. of 7 runs, 10 loops each)\n"
     ]
    }
   ],
   "source": [
    "%%timeit\n",
    "TransportAVLData.are_in_table(conn, avl_data_list)"
   ]
  },
  {
   "cell_type": "code",
   "execution_count": 16,
   "id": "8366b7c5-2c46-49fa-8f89-ac62b91901b3",
   "metadata": {},
   "outputs": [
    {
     "name": "stdout",
     "output_type": "stream",
     "text": [
      "42.1 ms ± 1.17 ms per loop (mean ± std. dev. of 7 runs, 10 loops each)\n"
     ]
    }
   ],
   "source": [
    "%%timeit\n",
    "avl_data_list[0].is_in_table(conn)"
   ]
  },
  {
   "cell_type": "code",
   "execution_count": 49,
   "id": "141afb93-d68e-4f6d-b05a-93ea69914eb8",
   "metadata": {},
   "outputs": [
    {
     "data": {
      "text/plain": [
       "'data_for_01_DEC_2022'"
      ]
     },
     "execution_count": 49,
     "metadata": {},
     "output_type": "execute_result"
    }
   ],
   "source": [
    "file_path_list[0].name[:-4]"
   ]
  },
  {
   "cell_type": "code",
   "execution_count": 58,
   "id": "71406ef0-4031-4934-95b5-10c527447c39",
   "metadata": {},
   "outputs": [
    {
     "name": "stderr",
     "output_type": "stream",
     "text": [
      "  0%|          | 0/126 [00:00<?, ?it/s]"
     ]
    },
    {
     "name": "stdout",
     "output_type": "stream",
     "text": [
      "Processing '..\\..\\..\\pet_project\\tables\\data_for_01_DEC_2022.csv'\n"
     ]
    },
    {
     "name": "stderr",
     "output_type": "stream",
     "text": [
      "  1%|          | 1/126 [00:00<01:44,  1.20it/s]"
     ]
    },
    {
     "name": "stdout",
     "output_type": "stream",
     "text": [
      "Processing '..\\..\\..\\pet_project\\tables\\data_for_01_FEB_2023.csv'\n"
     ]
    },
    {
     "name": "stderr",
     "output_type": "stream",
     "text": [
      "  2%|▏         | 2/126 [00:01<01:22,  1.50it/s]"
     ]
    },
    {
     "name": "stdout",
     "output_type": "stream",
     "text": [
      "Processing '..\\..\\..\\pet_project\\tables\\data_for_01_JAN_2023.csv'\n"
     ]
    },
    {
     "name": "stderr",
     "output_type": "stream",
     "text": [
      "  2%|▏         | 3/126 [00:02<01:39,  1.24it/s]"
     ]
    },
    {
     "name": "stdout",
     "output_type": "stream",
     "text": [
      "Processing '..\\..\\..\\pet_project\\tables\\data_for_01_NOV_2022.csv'\n"
     ]
    },
    {
     "name": "stderr",
     "output_type": "stream",
     "text": [
      "  3%|▎         | 4/126 [00:04<02:27,  1.21s/it]"
     ]
    },
    {
     "name": "stdout",
     "output_type": "stream",
     "text": [
      "Processing '..\\..\\..\\pet_project\\tables\\data_for_02_DEC_2022.csv'\n"
     ]
    },
    {
     "name": "stderr",
     "output_type": "stream",
     "text": [
      "  4%|▍         | 5/126 [00:05<02:36,  1.30s/it]"
     ]
    },
    {
     "name": "stdout",
     "output_type": "stream",
     "text": [
      "Processing '..\\..\\..\\pet_project\\tables\\data_for_02_FEB_2023.csv'\n"
     ]
    },
    {
     "name": "stderr",
     "output_type": "stream",
     "text": [
      "  5%|▍         | 6/126 [00:06<02:35,  1.29s/it]"
     ]
    },
    {
     "name": "stdout",
     "output_type": "stream",
     "text": [
      "Processing '..\\..\\..\\pet_project\\tables\\data_for_02_JAN_2023.csv'\n"
     ]
    },
    {
     "name": "stderr",
     "output_type": "stream",
     "text": [
      "  6%|▌         | 7/126 [00:08<02:51,  1.44s/it]"
     ]
    },
    {
     "name": "stdout",
     "output_type": "stream",
     "text": [
      "Processing '..\\..\\..\\pet_project\\tables\\data_for_02_NOV_2022.csv'\n"
     ]
    },
    {
     "name": "stderr",
     "output_type": "stream",
     "text": [
      "  6%|▋         | 8/126 [00:10<03:11,  1.62s/it]"
     ]
    },
    {
     "name": "stdout",
     "output_type": "stream",
     "text": [
      "Processing '..\\..\\..\\pet_project\\tables\\data_for_03_DEC_2022.csv'\n"
     ]
    },
    {
     "name": "stderr",
     "output_type": "stream",
     "text": [
      "  7%|▋         | 9/126 [00:11<02:27,  1.26s/it]"
     ]
    },
    {
     "name": "stdout",
     "output_type": "stream",
     "text": [
      "Processing '..\\..\\..\\pet_project\\tables\\data_for_03_FEB_2023.csv'\n"
     ]
    },
    {
     "name": "stderr",
     "output_type": "stream",
     "text": [
      "  8%|▊         | 10/126 [00:12<02:16,  1.17s/it]"
     ]
    },
    {
     "name": "stdout",
     "output_type": "stream",
     "text": [
      "Processing '..\\..\\..\\pet_project\\tables\\data_for_03_JAN_2023.csv'\n"
     ]
    },
    {
     "name": "stderr",
     "output_type": "stream",
     "text": [
      "  9%|▊         | 11/126 [00:13<02:28,  1.29s/it]"
     ]
    },
    {
     "name": "stdout",
     "output_type": "stream",
     "text": [
      "Processing '..\\..\\..\\pet_project\\tables\\data_for_03_NOV_2022.csv'\n"
     ]
    },
    {
     "name": "stderr",
     "output_type": "stream",
     "text": [
      " 10%|▉         | 12/126 [00:15<02:37,  1.38s/it]"
     ]
    },
    {
     "name": "stdout",
     "output_type": "stream",
     "text": [
      "Processing '..\\..\\..\\pet_project\\tables\\data_for_04_DEC_2022.csv'\n"
     ]
    },
    {
     "name": "stderr",
     "output_type": "stream",
     "text": [
      " 10%|█         | 13/126 [00:16<02:20,  1.24s/it]"
     ]
    },
    {
     "name": "stdout",
     "output_type": "stream",
     "text": [
      "Processing '..\\..\\..\\pet_project\\tables\\data_for_04_FEB_2023.csv'\n"
     ]
    },
    {
     "name": "stderr",
     "output_type": "stream",
     "text": [
      " 11%|█         | 14/126 [00:16<01:53,  1.02s/it]"
     ]
    },
    {
     "name": "stdout",
     "output_type": "stream",
     "text": [
      "Processing '..\\..\\..\\pet_project\\tables\\data_for_04_JAN_2023.csv'\n"
     ]
    },
    {
     "name": "stderr",
     "output_type": "stream",
     "text": [
      " 12%|█▏        | 15/126 [00:18<02:10,  1.18s/it]"
     ]
    },
    {
     "name": "stdout",
     "output_type": "stream",
     "text": [
      "Processing '..\\..\\..\\pet_project\\tables\\data_for_04_NOV_2022.csv'\n"
     ]
    },
    {
     "name": "stderr",
     "output_type": "stream",
     "text": [
      " 13%|█▎        | 16/126 [00:19<02:23,  1.31s/it]"
     ]
    },
    {
     "name": "stdout",
     "output_type": "stream",
     "text": [
      "Processing '..\\..\\..\\pet_project\\tables\\data_for_05_DEC_2022.csv'\n"
     ]
    },
    {
     "name": "stderr",
     "output_type": "stream",
     "text": [
      " 13%|█▎        | 17/126 [00:21<02:49,  1.55s/it]"
     ]
    },
    {
     "name": "stdout",
     "output_type": "stream",
     "text": [
      "Processing '..\\..\\..\\pet_project\\tables\\data_for_05_FEB_2023.csv'\n"
     ]
    },
    {
     "name": "stderr",
     "output_type": "stream",
     "text": [
      " 14%|█▍        | 18/126 [00:24<03:18,  1.84s/it]"
     ]
    },
    {
     "name": "stdout",
     "output_type": "stream",
     "text": [
      "Processing '..\\..\\..\\pet_project\\tables\\data_for_05_JAN_2023.csv'\n"
     ]
    },
    {
     "name": "stderr",
     "output_type": "stream",
     "text": [
      " 15%|█▌        | 19/126 [00:26<03:15,  1.83s/it]"
     ]
    },
    {
     "name": "stdout",
     "output_type": "stream",
     "text": [
      "Processing '..\\..\\..\\pet_project\\tables\\data_for_05_NOV_2022.csv'\n"
     ]
    },
    {
     "name": "stderr",
     "output_type": "stream",
     "text": [
      " 16%|█▌        | 20/126 [00:27<03:06,  1.76s/it]"
     ]
    },
    {
     "name": "stdout",
     "output_type": "stream",
     "text": [
      "Processing '..\\..\\..\\pet_project\\tables\\data_for_06_DEC_2022.csv'\n"
     ]
    },
    {
     "name": "stderr",
     "output_type": "stream",
     "text": [
      " 17%|█▋        | 21/126 [00:29<03:05,  1.77s/it]"
     ]
    },
    {
     "name": "stdout",
     "output_type": "stream",
     "text": [
      "Processing '..\\..\\..\\pet_project\\tables\\data_for_06_FEB_2023.csv'\n"
     ]
    },
    {
     "name": "stderr",
     "output_type": "stream",
     "text": [
      " 17%|█▋        | 22/126 [00:31<02:54,  1.68s/it]"
     ]
    },
    {
     "name": "stdout",
     "output_type": "stream",
     "text": [
      "Processing '..\\..\\..\\pet_project\\tables\\data_for_06_JAN_2023.csv'\n"
     ]
    },
    {
     "name": "stderr",
     "output_type": "stream",
     "text": [
      " 18%|█▊        | 23/126 [00:32<02:43,  1.59s/it]"
     ]
    },
    {
     "name": "stdout",
     "output_type": "stream",
     "text": [
      "Processing '..\\..\\..\\pet_project\\tables\\data_for_06_NOV_2022.csv'\n"
     ]
    },
    {
     "name": "stderr",
     "output_type": "stream",
     "text": [
      " 19%|█▉        | 24/126 [00:33<02:34,  1.52s/it]"
     ]
    },
    {
     "name": "stdout",
     "output_type": "stream",
     "text": [
      "Processing '..\\..\\..\\pet_project\\tables\\data_for_07_DEC_2022.csv'\n"
     ]
    },
    {
     "name": "stderr",
     "output_type": "stream",
     "text": [
      " 20%|█▉        | 25/126 [00:35<02:36,  1.55s/it]"
     ]
    },
    {
     "name": "stdout",
     "output_type": "stream",
     "text": [
      "Processing '..\\..\\..\\pet_project\\tables\\data_for_07_FEB_2023.csv'\n"
     ]
    },
    {
     "name": "stderr",
     "output_type": "stream",
     "text": [
      " 21%|██        | 26/126 [00:37<02:34,  1.55s/it]"
     ]
    },
    {
     "name": "stdout",
     "output_type": "stream",
     "text": [
      "Processing '..\\..\\..\\pet_project\\tables\\data_for_07_JAN_2023.csv'\n"
     ]
    },
    {
     "name": "stderr",
     "output_type": "stream",
     "text": [
      " 21%|██▏       | 27/126 [00:38<02:21,  1.43s/it]"
     ]
    },
    {
     "name": "stdout",
     "output_type": "stream",
     "text": [
      "Processing '..\\..\\..\\pet_project\\tables\\data_for_07_NOV_2022.csv'\n"
     ]
    },
    {
     "name": "stderr",
     "output_type": "stream",
     "text": [
      " 22%|██▏       | 28/126 [00:38<01:45,  1.07s/it]"
     ]
    },
    {
     "name": "stdout",
     "output_type": "stream",
     "text": [
      "Processing '..\\..\\..\\pet_project\\tables\\data_for_08_DEC_2022.csv'\n"
     ]
    },
    {
     "name": "stderr",
     "output_type": "stream",
     "text": [
      " 23%|██▎       | 29/126 [00:39<01:52,  1.16s/it]"
     ]
    },
    {
     "name": "stdout",
     "output_type": "stream",
     "text": [
      "Processing '..\\..\\..\\pet_project\\tables\\data_for_08_FEB_2023.csv'\n"
     ]
    },
    {
     "name": "stderr",
     "output_type": "stream",
     "text": [
      " 24%|██▍       | 30/126 [00:41<02:18,  1.44s/it]"
     ]
    },
    {
     "name": "stdout",
     "output_type": "stream",
     "text": [
      "Processing '..\\..\\..\\pet_project\\tables\\data_for_08_JAN_2023.csv'\n"
     ]
    },
    {
     "name": "stderr",
     "output_type": "stream",
     "text": [
      " 25%|██▍       | 31/126 [00:43<02:20,  1.47s/it]"
     ]
    },
    {
     "name": "stdout",
     "output_type": "stream",
     "text": [
      "Processing '..\\..\\..\\pet_project\\tables\\data_for_08_NOV_2022.csv'\n"
     ]
    },
    {
     "name": "stderr",
     "output_type": "stream",
     "text": [
      " 25%|██▌       | 32/126 [00:45<02:30,  1.60s/it]"
     ]
    },
    {
     "name": "stdout",
     "output_type": "stream",
     "text": [
      "Processing '..\\..\\..\\pet_project\\tables\\data_for_09_DEC_2022.csv'\n"
     ]
    },
    {
     "name": "stderr",
     "output_type": "stream",
     "text": [
      " 26%|██▌       | 33/126 [00:46<02:27,  1.59s/it]"
     ]
    },
    {
     "name": "stdout",
     "output_type": "stream",
     "text": [
      "Processing '..\\..\\..\\pet_project\\tables\\data_for_09_FEB_2023.csv'\n"
     ]
    },
    {
     "name": "stderr",
     "output_type": "stream",
     "text": [
      " 27%|██▋       | 34/126 [00:48<02:30,  1.64s/it]"
     ]
    },
    {
     "name": "stdout",
     "output_type": "stream",
     "text": [
      "Processing '..\\..\\..\\pet_project\\tables\\data_for_09_JAN_2023.csv'\n"
     ]
    },
    {
     "name": "stderr",
     "output_type": "stream",
     "text": [
      " 28%|██▊       | 35/126 [00:50<02:29,  1.64s/it]"
     ]
    },
    {
     "name": "stdout",
     "output_type": "stream",
     "text": [
      "Processing '..\\..\\..\\pet_project\\tables\\data_for_09_NOV_2022.csv'\n"
     ]
    },
    {
     "name": "stderr",
     "output_type": "stream",
     "text": [
      " 29%|██▊       | 36/126 [00:52<02:32,  1.69s/it]"
     ]
    },
    {
     "name": "stdout",
     "output_type": "stream",
     "text": [
      "Processing '..\\..\\..\\pet_project\\tables\\data_for_09_OCT_2022.csv'\n"
     ]
    },
    {
     "name": "stderr",
     "output_type": "stream",
     "text": [
      " 29%|██▉       | 37/126 [00:52<01:54,  1.29s/it]"
     ]
    },
    {
     "name": "stdout",
     "output_type": "stream",
     "text": [
      "Processing '..\\..\\..\\pet_project\\tables\\data_for_10_DEC_2022.csv'\n"
     ]
    },
    {
     "name": "stderr",
     "output_type": "stream",
     "text": [
      " 30%|███       | 38/126 [00:53<01:47,  1.22s/it]"
     ]
    },
    {
     "name": "stdout",
     "output_type": "stream",
     "text": [
      "Processing '..\\..\\..\\pet_project\\tables\\data_for_10_FEB_2023.csv'\n"
     ]
    },
    {
     "name": "stderr",
     "output_type": "stream",
     "text": [
      " 31%|███       | 39/126 [00:54<01:34,  1.08s/it]"
     ]
    },
    {
     "name": "stdout",
     "output_type": "stream",
     "text": [
      "Processing '..\\..\\..\\pet_project\\tables\\data_for_10_JAN_2023.csv'\n"
     ]
    },
    {
     "name": "stderr",
     "output_type": "stream",
     "text": [
      " 32%|███▏      | 40/126 [00:55<01:45,  1.22s/it]"
     ]
    },
    {
     "name": "stdout",
     "output_type": "stream",
     "text": [
      "Processing '..\\..\\..\\pet_project\\tables\\data_for_10_NOV_2022.csv'\n"
     ]
    },
    {
     "name": "stderr",
     "output_type": "stream",
     "text": [
      " 33%|███▎      | 41/126 [00:57<02:01,  1.43s/it]"
     ]
    },
    {
     "name": "stdout",
     "output_type": "stream",
     "text": [
      "Processing '..\\..\\..\\pet_project\\tables\\data_for_10_OCT_2022.csv'\n"
     ]
    },
    {
     "name": "stderr",
     "output_type": "stream",
     "text": [
      " 33%|███▎      | 42/126 [00:59<02:03,  1.47s/it]"
     ]
    },
    {
     "name": "stdout",
     "output_type": "stream",
     "text": [
      "Processing '..\\..\\..\\pet_project\\tables\\data_for_11_DEC_2022.csv'\n"
     ]
    },
    {
     "name": "stderr",
     "output_type": "stream",
     "text": [
      " 34%|███▍      | 43/126 [01:00<01:54,  1.38s/it]"
     ]
    },
    {
     "name": "stdout",
     "output_type": "stream",
     "text": [
      "Processing '..\\..\\..\\pet_project\\tables\\data_for_11_FEB_2023.csv'\n"
     ]
    },
    {
     "name": "stderr",
     "output_type": "stream",
     "text": [
      " 35%|███▍      | 44/126 [01:01<01:33,  1.14s/it]"
     ]
    },
    {
     "name": "stdout",
     "output_type": "stream",
     "text": [
      "Processing '..\\..\\..\\pet_project\\tables\\data_for_11_JAN_2023.csv'\n"
     ]
    },
    {
     "name": "stderr",
     "output_type": "stream",
     "text": [
      " 36%|███▌      | 45/126 [01:02<01:28,  1.10s/it]"
     ]
    },
    {
     "name": "stdout",
     "output_type": "stream",
     "text": [
      "Processing '..\\..\\..\\pet_project\\tables\\data_for_11_NOV_2022.csv'\n"
     ]
    },
    {
     "name": "stderr",
     "output_type": "stream",
     "text": [
      " 37%|███▋      | 46/126 [01:03<01:43,  1.30s/it]"
     ]
    },
    {
     "name": "stdout",
     "output_type": "stream",
     "text": [
      "Processing '..\\..\\..\\pet_project\\tables\\data_for_11_OCT_2022.csv'\n"
     ]
    },
    {
     "name": "stderr",
     "output_type": "stream",
     "text": [
      " 37%|███▋      | 47/126 [01:05<01:41,  1.29s/it]"
     ]
    },
    {
     "name": "stdout",
     "output_type": "stream",
     "text": [
      "Processing '..\\..\\..\\pet_project\\tables\\data_for_12_DEC_2022.csv'\n"
     ]
    },
    {
     "name": "stderr",
     "output_type": "stream",
     "text": [
      " 38%|███▊      | 48/126 [01:06<01:38,  1.27s/it]"
     ]
    },
    {
     "name": "stdout",
     "output_type": "stream",
     "text": [
      "Processing '..\\..\\..\\pet_project\\tables\\data_for_12_FEB_2023.csv'\n"
     ]
    },
    {
     "name": "stderr",
     "output_type": "stream",
     "text": [
      " 39%|███▉      | 49/126 [01:07<01:29,  1.16s/it]"
     ]
    },
    {
     "name": "stdout",
     "output_type": "stream",
     "text": [
      "Processing '..\\..\\..\\pet_project\\tables\\data_for_12_JAN_2023.csv'\n"
     ]
    },
    {
     "name": "stderr",
     "output_type": "stream",
     "text": [
      " 40%|███▉      | 50/126 [01:08<01:34,  1.24s/it]"
     ]
    },
    {
     "name": "stdout",
     "output_type": "stream",
     "text": [
      "Processing '..\\..\\..\\pet_project\\tables\\data_for_12_NOV_2022.csv'\n"
     ]
    },
    {
     "name": "stderr",
     "output_type": "stream",
     "text": [
      " 40%|████      | 51/126 [01:08<01:09,  1.07it/s]"
     ]
    },
    {
     "name": "stdout",
     "output_type": "stream",
     "text": [
      "Processing '..\\..\\..\\pet_project\\tables\\data_for_12_OCT_2022.csv'\n"
     ]
    },
    {
     "name": "stderr",
     "output_type": "stream",
     "text": [
      " 41%|████▏     | 52/126 [01:10<01:19,  1.07s/it]"
     ]
    },
    {
     "name": "stdout",
     "output_type": "stream",
     "text": [
      "Processing '..\\..\\..\\pet_project\\tables\\data_for_13_DEC_2022.csv'\n"
     ]
    },
    {
     "name": "stderr",
     "output_type": "stream",
     "text": [
      " 42%|████▏     | 53/126 [01:11<01:29,  1.23s/it]"
     ]
    },
    {
     "name": "stdout",
     "output_type": "stream",
     "text": [
      "Processing '..\\..\\..\\pet_project\\tables\\data_for_13_FEB_2023.csv'\n"
     ]
    },
    {
     "name": "stderr",
     "output_type": "stream",
     "text": [
      " 43%|████▎     | 54/126 [01:13<01:40,  1.39s/it]"
     ]
    },
    {
     "name": "stdout",
     "output_type": "stream",
     "text": [
      "Processing '..\\..\\..\\pet_project\\tables\\data_for_13_JAN_2023.csv'\n"
     ]
    },
    {
     "name": "stderr",
     "output_type": "stream",
     "text": [
      " 44%|████▎     | 55/126 [01:15<01:40,  1.41s/it]"
     ]
    },
    {
     "name": "stdout",
     "output_type": "stream",
     "text": [
      "Processing '..\\..\\..\\pet_project\\tables\\data_for_13_NOV_2022.csv'\n"
     ]
    },
    {
     "name": "stderr",
     "output_type": "stream",
     "text": [
      " 44%|████▍     | 56/126 [01:15<01:27,  1.25s/it]"
     ]
    },
    {
     "name": "stdout",
     "output_type": "stream",
     "text": [
      "Processing '..\\..\\..\\pet_project\\tables\\data_for_13_OCT_2022.csv'\n"
     ]
    },
    {
     "name": "stderr",
     "output_type": "stream",
     "text": [
      " 45%|████▌     | 57/126 [01:17<01:39,  1.45s/it]"
     ]
    },
    {
     "name": "stdout",
     "output_type": "stream",
     "text": [
      "Processing '..\\..\\..\\pet_project\\tables\\data_for_14_DEC_2022.csv'\n"
     ]
    },
    {
     "name": "stderr",
     "output_type": "stream",
     "text": [
      " 46%|████▌     | 58/126 [01:19<01:36,  1.42s/it]"
     ]
    },
    {
     "name": "stdout",
     "output_type": "stream",
     "text": [
      "Processing '..\\..\\..\\pet_project\\tables\\data_for_14_JAN_2023.csv'\n"
     ]
    },
    {
     "name": "stderr",
     "output_type": "stream",
     "text": [
      " 47%|████▋     | 59/126 [01:20<01:31,  1.36s/it]"
     ]
    },
    {
     "name": "stdout",
     "output_type": "stream",
     "text": [
      "Processing '..\\..\\..\\pet_project\\tables\\data_for_14_NOV_2022.csv'\n"
     ]
    },
    {
     "name": "stderr",
     "output_type": "stream",
     "text": [
      " 48%|████▊     | 60/126 [01:22<01:37,  1.47s/it]"
     ]
    },
    {
     "name": "stdout",
     "output_type": "stream",
     "text": [
      "Processing '..\\..\\..\\pet_project\\tables\\data_for_14_OCT_2022.csv'\n"
     ]
    },
    {
     "name": "stderr",
     "output_type": "stream",
     "text": [
      " 48%|████▊     | 61/126 [01:23<01:33,  1.44s/it]"
     ]
    },
    {
     "name": "stdout",
     "output_type": "stream",
     "text": [
      "Processing '..\\..\\..\\pet_project\\tables\\data_for_15_DEC_2022.csv'\n"
     ]
    },
    {
     "name": "stderr",
     "output_type": "stream",
     "text": [
      " 49%|████▉     | 62/126 [01:25<01:37,  1.52s/it]"
     ]
    },
    {
     "name": "stdout",
     "output_type": "stream",
     "text": [
      "Processing '..\\..\\..\\pet_project\\tables\\data_for_15_JAN_2023.csv'\n"
     ]
    },
    {
     "name": "stderr",
     "output_type": "stream",
     "text": [
      " 50%|█████     | 63/126 [01:26<01:26,  1.37s/it]"
     ]
    },
    {
     "name": "stdout",
     "output_type": "stream",
     "text": [
      "Processing '..\\..\\..\\pet_project\\tables\\data_for_15_NOV_2022.csv'\n"
     ]
    },
    {
     "name": "stderr",
     "output_type": "stream",
     "text": [
      " 51%|█████     | 64/126 [01:26<01:04,  1.04s/it]"
     ]
    },
    {
     "name": "stdout",
     "output_type": "stream",
     "text": [
      "Processing '..\\..\\..\\pet_project\\tables\\data_for_15_OCT_2022.csv'\n"
     ]
    },
    {
     "name": "stderr",
     "output_type": "stream",
     "text": [
      " 52%|█████▏    | 65/126 [01:27<01:10,  1.15s/it]"
     ]
    },
    {
     "name": "stdout",
     "output_type": "stream",
     "text": [
      "Processing '..\\..\\..\\pet_project\\tables\\data_for_16_DEC_2022.csv'\n"
     ]
    },
    {
     "name": "stderr",
     "output_type": "stream",
     "text": [
      " 52%|█████▏    | 66/126 [01:28<01:07,  1.12s/it]"
     ]
    },
    {
     "name": "stdout",
     "output_type": "stream",
     "text": [
      "Processing '..\\..\\..\\pet_project\\tables\\data_for_16_JAN_2023.csv'\n"
     ]
    },
    {
     "name": "stderr",
     "output_type": "stream",
     "text": [
      " 53%|█████▎    | 67/126 [01:30<01:05,  1.11s/it]"
     ]
    },
    {
     "name": "stdout",
     "output_type": "stream",
     "text": [
      "Processing '..\\..\\..\\pet_project\\tables\\data_for_16_NOV_2022.csv'\n"
     ]
    },
    {
     "name": "stderr",
     "output_type": "stream",
     "text": [
      " 54%|█████▍    | 68/126 [01:31<01:13,  1.27s/it]"
     ]
    },
    {
     "name": "stdout",
     "output_type": "stream",
     "text": [
      "Processing '..\\..\\..\\pet_project\\tables\\data_for_16_OCT_2022.csv'\n"
     ]
    },
    {
     "name": "stderr",
     "output_type": "stream",
     "text": [
      " 55%|█████▍    | 69/126 [01:32<01:11,  1.25s/it]"
     ]
    },
    {
     "name": "stdout",
     "output_type": "stream",
     "text": [
      "Processing '..\\..\\..\\pet_project\\tables\\data_for_17_DEC_2022.csv'\n"
     ]
    },
    {
     "name": "stderr",
     "output_type": "stream",
     "text": [
      " 56%|█████▌    | 70/126 [01:33<00:58,  1.05s/it]"
     ]
    },
    {
     "name": "stdout",
     "output_type": "stream",
     "text": [
      "Processing '..\\..\\..\\pet_project\\tables\\data_for_17_JAN_2023.csv'\n"
     ]
    },
    {
     "name": "stderr",
     "output_type": "stream",
     "text": [
      " 56%|█████▋    | 71/126 [01:35<01:05,  1.18s/it]"
     ]
    },
    {
     "name": "stdout",
     "output_type": "stream",
     "text": [
      "Processing '..\\..\\..\\pet_project\\tables\\data_for_17_NOV_2022.csv'\n"
     ]
    },
    {
     "name": "stderr",
     "output_type": "stream",
     "text": [
      " 57%|█████▋    | 72/126 [01:36<01:05,  1.22s/it]"
     ]
    },
    {
     "name": "stdout",
     "output_type": "stream",
     "text": [
      "Processing '..\\..\\..\\pet_project\\tables\\data_for_17_OCT_2022.csv'\n"
     ]
    },
    {
     "name": "stderr",
     "output_type": "stream",
     "text": [
      " 58%|█████▊    | 73/126 [01:38<01:13,  1.38s/it]"
     ]
    },
    {
     "name": "stdout",
     "output_type": "stream",
     "text": [
      "Processing '..\\..\\..\\pet_project\\tables\\data_for_18_DEC_2022.csv'\n"
     ]
    },
    {
     "name": "stderr",
     "output_type": "stream",
     "text": [
      " 59%|█████▊    | 74/126 [01:39<01:07,  1.31s/it]"
     ]
    },
    {
     "name": "stdout",
     "output_type": "stream",
     "text": [
      "Processing '..\\..\\..\\pet_project\\tables\\data_for_18_JAN_2023.csv'\n"
     ]
    },
    {
     "name": "stderr",
     "output_type": "stream",
     "text": [
      " 60%|█████▉    | 75/126 [01:40<01:05,  1.28s/it]"
     ]
    },
    {
     "name": "stdout",
     "output_type": "stream",
     "text": [
      "Processing '..\\..\\..\\pet_project\\tables\\data_for_18_NOV_2022.csv'\n"
     ]
    },
    {
     "name": "stderr",
     "output_type": "stream",
     "text": [
      " 60%|██████    | 76/126 [01:42<01:10,  1.41s/it]"
     ]
    },
    {
     "name": "stdout",
     "output_type": "stream",
     "text": [
      "Processing '..\\..\\..\\pet_project\\tables\\data_for_18_OCT_2022.csv'\n"
     ]
    },
    {
     "name": "stderr",
     "output_type": "stream",
     "text": [
      " 61%|██████    | 77/126 [01:43<01:12,  1.48s/it]"
     ]
    },
    {
     "name": "stdout",
     "output_type": "stream",
     "text": [
      "Processing '..\\..\\..\\pet_project\\tables\\data_for_19_DEC_2022.csv'\n"
     ]
    },
    {
     "name": "stderr",
     "output_type": "stream",
     "text": [
      " 62%|██████▏   | 78/126 [01:44<01:05,  1.36s/it]"
     ]
    },
    {
     "name": "stdout",
     "output_type": "stream",
     "text": [
      "Processing '..\\..\\..\\pet_project\\tables\\data_for_19_JAN_2023.csv'\n"
     ]
    },
    {
     "name": "stderr",
     "output_type": "stream",
     "text": [
      " 63%|██████▎   | 79/126 [01:46<01:03,  1.35s/it]"
     ]
    },
    {
     "name": "stdout",
     "output_type": "stream",
     "text": [
      "Processing '..\\..\\..\\pet_project\\tables\\data_for_19_NOV_2022.csv'\n"
     ]
    },
    {
     "name": "stderr",
     "output_type": "stream",
     "text": [
      " 63%|██████▎   | 80/126 [01:47<01:01,  1.34s/it]"
     ]
    },
    {
     "name": "stdout",
     "output_type": "stream",
     "text": [
      "Processing '..\\..\\..\\pet_project\\tables\\data_for_19_OCT_2022.csv'\n"
     ]
    },
    {
     "name": "stderr",
     "output_type": "stream",
     "text": [
      " 64%|██████▍   | 81/126 [01:49<01:04,  1.44s/it]"
     ]
    },
    {
     "name": "stdout",
     "output_type": "stream",
     "text": [
      "Processing '..\\..\\..\\pet_project\\tables\\data_for_20_DEC_2022.csv'\n"
     ]
    },
    {
     "name": "stderr",
     "output_type": "stream",
     "text": [
      " 65%|██████▌   | 82/126 [01:50<01:01,  1.39s/it]"
     ]
    },
    {
     "name": "stdout",
     "output_type": "stream",
     "text": [
      "Processing '..\\..\\..\\pet_project\\tables\\data_for_20_JAN_2023.csv'\n"
     ]
    },
    {
     "name": "stderr",
     "output_type": "stream",
     "text": [
      " 66%|██████▌   | 83/126 [01:51<00:56,  1.31s/it]"
     ]
    },
    {
     "name": "stdout",
     "output_type": "stream",
     "text": [
      "Processing '..\\..\\..\\pet_project\\tables\\data_for_20_NOV_2022.csv'\n"
     ]
    },
    {
     "name": "stderr",
     "output_type": "stream",
     "text": [
      " 67%|██████▋   | 84/126 [01:52<00:54,  1.29s/it]"
     ]
    },
    {
     "name": "stdout",
     "output_type": "stream",
     "text": [
      "Processing '..\\..\\..\\pet_project\\tables\\data_for_20_OCT_2022.csv'\n"
     ]
    },
    {
     "name": "stderr",
     "output_type": "stream",
     "text": [
      " 67%|██████▋   | 85/126 [01:54<00:57,  1.40s/it]"
     ]
    },
    {
     "name": "stdout",
     "output_type": "stream",
     "text": [
      "Processing '..\\..\\..\\pet_project\\tables\\data_for_21_DEC_2022.csv'\n"
     ]
    },
    {
     "name": "stderr",
     "output_type": "stream",
     "text": [
      " 68%|██████▊   | 86/126 [01:55<00:52,  1.31s/it]"
     ]
    },
    {
     "name": "stdout",
     "output_type": "stream",
     "text": [
      "Processing '..\\..\\..\\pet_project\\tables\\data_for_21_JAN_2023.csv'\n"
     ]
    },
    {
     "name": "stderr",
     "output_type": "stream",
     "text": [
      " 69%|██████▉   | 87/126 [01:56<00:48,  1.24s/it]"
     ]
    },
    {
     "name": "stdout",
     "output_type": "stream",
     "text": [
      "Processing '..\\..\\..\\pet_project\\tables\\data_for_21_NOV_2022.csv'\n"
     ]
    },
    {
     "name": "stderr",
     "output_type": "stream",
     "text": [
      " 70%|██████▉   | 88/126 [01:58<00:52,  1.38s/it]"
     ]
    },
    {
     "name": "stdout",
     "output_type": "stream",
     "text": [
      "Processing '..\\..\\..\\pet_project\\tables\\data_for_21_OCT_2022.csv'\n"
     ]
    },
    {
     "name": "stderr",
     "output_type": "stream",
     "text": [
      " 71%|███████   | 89/126 [02:00<00:59,  1.60s/it]"
     ]
    },
    {
     "name": "stdout",
     "output_type": "stream",
     "text": [
      "Processing '..\\..\\..\\pet_project\\tables\\data_for_22_DEC_2022.csv'\n"
     ]
    },
    {
     "name": "stderr",
     "output_type": "stream",
     "text": [
      " 71%|███████▏  | 90/126 [02:02<00:59,  1.65s/it]"
     ]
    },
    {
     "name": "stdout",
     "output_type": "stream",
     "text": [
      "Processing '..\\..\\..\\pet_project\\tables\\data_for_22_JAN_2023.csv'\n"
     ]
    },
    {
     "name": "stderr",
     "output_type": "stream",
     "text": [
      " 72%|███████▏  | 91/126 [02:03<00:54,  1.55s/it]"
     ]
    },
    {
     "name": "stdout",
     "output_type": "stream",
     "text": [
      "Processing '..\\..\\..\\pet_project\\tables\\data_for_22_NOV_2022.csv'\n"
     ]
    },
    {
     "name": "stderr",
     "output_type": "stream",
     "text": [
      " 73%|███████▎  | 92/126 [02:05<00:54,  1.60s/it]"
     ]
    },
    {
     "name": "stdout",
     "output_type": "stream",
     "text": [
      "Processing '..\\..\\..\\pet_project\\tables\\data_for_22_OCT_2022.csv'\n"
     ]
    },
    {
     "name": "stderr",
     "output_type": "stream",
     "text": [
      " 74%|███████▍  | 93/126 [02:06<00:48,  1.47s/it]"
     ]
    },
    {
     "name": "stdout",
     "output_type": "stream",
     "text": [
      "Processing '..\\..\\..\\pet_project\\tables\\data_for_23_DEC_2022.csv'\n"
     ]
    },
    {
     "name": "stderr",
     "output_type": "stream",
     "text": [
      " 75%|███████▍  | 94/126 [02:07<00:47,  1.47s/it]"
     ]
    },
    {
     "name": "stdout",
     "output_type": "stream",
     "text": [
      "Processing '..\\..\\..\\pet_project\\tables\\data_for_23_JAN_2023.csv'\n"
     ]
    },
    {
     "name": "stderr",
     "output_type": "stream",
     "text": [
      " 75%|███████▌  | 95/126 [02:10<00:53,  1.73s/it]"
     ]
    },
    {
     "name": "stdout",
     "output_type": "stream",
     "text": [
      "Processing '..\\..\\..\\pet_project\\tables\\data_for_23_NOV_2022.csv'\n"
     ]
    },
    {
     "name": "stderr",
     "output_type": "stream",
     "text": [
      " 76%|███████▌  | 96/126 [02:12<00:52,  1.75s/it]"
     ]
    },
    {
     "name": "stdout",
     "output_type": "stream",
     "text": [
      "Processing '..\\..\\..\\pet_project\\tables\\data_for_23_OCT_2022.csv'\n"
     ]
    },
    {
     "name": "stderr",
     "output_type": "stream",
     "text": [
      " 77%|███████▋  | 97/126 [02:13<00:50,  1.73s/it]"
     ]
    },
    {
     "name": "stdout",
     "output_type": "stream",
     "text": [
      "Processing '..\\..\\..\\pet_project\\tables\\data_for_24_DEC_2022.csv'\n"
     ]
    },
    {
     "name": "stderr",
     "output_type": "stream",
     "text": [
      " 78%|███████▊  | 98/126 [02:14<00:44,  1.57s/it]"
     ]
    },
    {
     "name": "stdout",
     "output_type": "stream",
     "text": [
      "Processing '..\\..\\..\\pet_project\\tables\\data_for_24_JAN_2023.csv'\n"
     ]
    },
    {
     "name": "stderr",
     "output_type": "stream",
     "text": [
      " 79%|███████▊  | 99/126 [02:16<00:38,  1.43s/it]"
     ]
    },
    {
     "name": "stdout",
     "output_type": "stream",
     "text": [
      "Processing '..\\..\\..\\pet_project\\tables\\data_for_24_NOV_2022.csv'\n"
     ]
    },
    {
     "name": "stderr",
     "output_type": "stream",
     "text": [
      " 79%|███████▉  | 100/126 [02:17<00:34,  1.31s/it]"
     ]
    },
    {
     "name": "stdout",
     "output_type": "stream",
     "text": [
      "Processing '..\\..\\..\\pet_project\\tables\\data_for_24_OCT_2022.csv'\n"
     ]
    },
    {
     "name": "stderr",
     "output_type": "stream",
     "text": [
      " 80%|████████  | 101/126 [02:19<00:37,  1.52s/it]"
     ]
    },
    {
     "name": "stdout",
     "output_type": "stream",
     "text": [
      "Processing '..\\..\\..\\pet_project\\tables\\data_for_25_DEC_2022.csv'\n"
     ]
    },
    {
     "name": "stderr",
     "output_type": "stream",
     "text": [
      " 81%|████████  | 102/126 [02:20<00:33,  1.41s/it]"
     ]
    },
    {
     "name": "stdout",
     "output_type": "stream",
     "text": [
      "Processing '..\\..\\..\\pet_project\\tables\\data_for_25_JAN_2023.csv'\n"
     ]
    },
    {
     "name": "stderr",
     "output_type": "stream",
     "text": [
      " 82%|████████▏ | 103/126 [02:21<00:35,  1.52s/it]"
     ]
    },
    {
     "name": "stdout",
     "output_type": "stream",
     "text": [
      "Processing '..\\..\\..\\pet_project\\tables\\data_for_25_NOV_2022.csv'\n"
     ]
    },
    {
     "name": "stderr",
     "output_type": "stream",
     "text": [
      " 83%|████████▎ | 104/126 [02:24<00:36,  1.68s/it]"
     ]
    },
    {
     "name": "stdout",
     "output_type": "stream",
     "text": [
      "Processing '..\\..\\..\\pet_project\\tables\\data_for_25_OCT_2022.csv'\n"
     ]
    },
    {
     "name": "stderr",
     "output_type": "stream",
     "text": [
      " 83%|████████▎ | 105/126 [02:25<00:36,  1.74s/it]"
     ]
    },
    {
     "name": "stdout",
     "output_type": "stream",
     "text": [
      "Processing '..\\..\\..\\pet_project\\tables\\data_for_26_DEC_2022.csv'\n"
     ]
    },
    {
     "name": "stderr",
     "output_type": "stream",
     "text": [
      " 84%|████████▍ | 106/126 [02:27<00:34,  1.75s/it]"
     ]
    },
    {
     "name": "stdout",
     "output_type": "stream",
     "text": [
      "Processing '..\\..\\..\\pet_project\\tables\\data_for_26_NOV_2022.csv'\n"
     ]
    },
    {
     "name": "stderr",
     "output_type": "stream",
     "text": [
      " 85%|████████▍ | 107/126 [02:28<00:29,  1.58s/it]"
     ]
    },
    {
     "name": "stdout",
     "output_type": "stream",
     "text": [
      "Processing '..\\..\\..\\pet_project\\tables\\data_for_26_OCT_2022.csv'\n"
     ]
    },
    {
     "name": "stderr",
     "output_type": "stream",
     "text": [
      " 86%|████████▌ | 108/126 [02:30<00:28,  1.58s/it]"
     ]
    },
    {
     "name": "stdout",
     "output_type": "stream",
     "text": [
      "Processing '..\\..\\..\\pet_project\\tables\\data_for_27_DEC_2022.csv'\n"
     ]
    },
    {
     "name": "stderr",
     "output_type": "stream",
     "text": [
      " 87%|████████▋ | 109/126 [02:31<00:24,  1.42s/it]"
     ]
    },
    {
     "name": "stdout",
     "output_type": "stream",
     "text": [
      "Processing '..\\..\\..\\pet_project\\tables\\data_for_27_NOV_2022.csv'\n"
     ]
    },
    {
     "name": "stderr",
     "output_type": "stream",
     "text": [
      " 87%|████████▋ | 110/126 [02:32<00:20,  1.30s/it]"
     ]
    },
    {
     "name": "stdout",
     "output_type": "stream",
     "text": [
      "Processing '..\\..\\..\\pet_project\\tables\\data_for_27_OCT_2022.csv'\n"
     ]
    },
    {
     "name": "stderr",
     "output_type": "stream",
     "text": [
      " 88%|████████▊ | 111/126 [02:34<00:23,  1.59s/it]"
     ]
    },
    {
     "name": "stdout",
     "output_type": "stream",
     "text": [
      "Processing '..\\..\\..\\pet_project\\tables\\data_for_28_DEC_2022.csv'\n"
     ]
    },
    {
     "name": "stderr",
     "output_type": "stream",
     "text": [
      " 89%|████████▉ | 112/126 [02:36<00:23,  1.68s/it]"
     ]
    },
    {
     "name": "stdout",
     "output_type": "stream",
     "text": [
      "Processing '..\\..\\..\\pet_project\\tables\\data_for_28_JAN_2023.csv'\n",
      "Processing '..\\..\\..\\pet_project\\tables\\data_for_28_NOV_2022.csv'\n"
     ]
    },
    {
     "name": "stderr",
     "output_type": "stream",
     "text": [
      " 90%|█████████ | 114/126 [02:38<00:15,  1.30s/it]"
     ]
    },
    {
     "name": "stdout",
     "output_type": "stream",
     "text": [
      "Processing '..\\..\\..\\pet_project\\tables\\data_for_28_OCT_2022.csv'\n"
     ]
    },
    {
     "name": "stderr",
     "output_type": "stream",
     "text": [
      " 91%|█████████▏| 115/126 [02:40<00:16,  1.46s/it]"
     ]
    },
    {
     "name": "stdout",
     "output_type": "stream",
     "text": [
      "Processing '..\\..\\..\\pet_project\\tables\\data_for_29_DEC_2022.csv'\n"
     ]
    },
    {
     "name": "stderr",
     "output_type": "stream",
     "text": [
      " 92%|█████████▏| 116/126 [02:41<00:14,  1.47s/it]"
     ]
    },
    {
     "name": "stdout",
     "output_type": "stream",
     "text": [
      "Processing '..\\..\\..\\pet_project\\tables\\data_for_29_JAN_2023.csv'\n"
     ]
    },
    {
     "name": "stderr",
     "output_type": "stream",
     "text": [
      " 93%|█████████▎| 117/126 [02:43<00:12,  1.40s/it]"
     ]
    },
    {
     "name": "stdout",
     "output_type": "stream",
     "text": [
      "Processing '..\\..\\..\\pet_project\\tables\\data_for_29_NOV_2022.csv'\n"
     ]
    },
    {
     "name": "stderr",
     "output_type": "stream",
     "text": [
      " 94%|█████████▎| 118/126 [02:44<00:11,  1.44s/it]"
     ]
    },
    {
     "name": "stdout",
     "output_type": "stream",
     "text": [
      "Processing '..\\..\\..\\pet_project\\tables\\data_for_29_OCT_2022.csv'\n"
     ]
    },
    {
     "name": "stderr",
     "output_type": "stream",
     "text": [
      " 94%|█████████▍| 119/126 [02:45<00:09,  1.43s/it]"
     ]
    },
    {
     "name": "stdout",
     "output_type": "stream",
     "text": [
      "Processing '..\\..\\..\\pet_project\\tables\\data_for_30_DEC_2022.csv'\n"
     ]
    },
    {
     "name": "stderr",
     "output_type": "stream",
     "text": [
      " 95%|█████████▌| 120/126 [02:47<00:09,  1.54s/it]"
     ]
    },
    {
     "name": "stdout",
     "output_type": "stream",
     "text": [
      "Processing '..\\..\\..\\pet_project\\tables\\data_for_30_JAN_2023.csv'\n"
     ]
    },
    {
     "name": "stderr",
     "output_type": "stream",
     "text": [
      " 96%|█████████▌| 121/126 [02:49<00:08,  1.69s/it]"
     ]
    },
    {
     "name": "stdout",
     "output_type": "stream",
     "text": [
      "Processing '..\\..\\..\\pet_project\\tables\\data_for_30_NOV_2022.csv'\n"
     ]
    },
    {
     "name": "stderr",
     "output_type": "stream",
     "text": [
      " 97%|█████████▋| 122/126 [02:51<00:06,  1.62s/it]"
     ]
    },
    {
     "name": "stdout",
     "output_type": "stream",
     "text": [
      "Processing '..\\..\\..\\pet_project\\tables\\data_for_30_OCT_2022.csv'\n"
     ]
    },
    {
     "name": "stderr",
     "output_type": "stream",
     "text": [
      " 98%|█████████▊| 123/126 [02:52<00:04,  1.59s/it]"
     ]
    },
    {
     "name": "stdout",
     "output_type": "stream",
     "text": [
      "Processing '..\\..\\..\\pet_project\\tables\\data_for_31_DEC_2022.csv'\n"
     ]
    },
    {
     "name": "stderr",
     "output_type": "stream",
     "text": [
      " 98%|█████████▊| 124/126 [02:54<00:02,  1.48s/it]"
     ]
    },
    {
     "name": "stdout",
     "output_type": "stream",
     "text": [
      "Processing '..\\..\\..\\pet_project\\tables\\data_for_31_JAN_2023.csv'\n"
     ]
    },
    {
     "name": "stderr",
     "output_type": "stream",
     "text": [
      " 99%|█████████▉| 125/126 [02:55<00:01,  1.37s/it]"
     ]
    },
    {
     "name": "stdout",
     "output_type": "stream",
     "text": [
      "Processing '..\\..\\..\\pet_project\\tables\\data_for_31_OCT_2022.csv'\n"
     ]
    },
    {
     "name": "stderr",
     "output_type": "stream",
     "text": [
      "100%|██████████| 126/126 [02:56<00:00,  1.40s/it]\n"
     ]
    }
   ],
   "source": [
    "file_path = Path(f\"../../../pet_project/tables\")\n",
    "file_path_list = [p for p in file_path.iterdir() if \".csv\" in p.name]\n",
    "(file_path/\"parquet\").mkdir(exist_ok=True)\n",
    "\n",
    "# errors in 22\n",
    "for folder_path in tqdm(file_path_list[:]):   \n",
    "    print(f\"Processing '{folder_path}'\")\n",
    "    df = pd.read_csv(folder_path)\n",
    "    \n",
    "    df[\"busNumber\"] = df[\"busNumber\"].astype(str)\n",
    "    df.to_parquet(folder_path.parent/'parquet'/(folder_path.name[:-4] + '.parquet'))"
   ]
  },
  {
   "cell_type": "code",
   "execution_count": 53,
   "id": "66d4652d-7651-426a-89d7-ea8e73d2ac06",
   "metadata": {},
   "outputs": [
    {
     "data": {
      "text/plain": [
       "\u001b[1;31mSignature:\u001b[0m \u001b[0mPath\u001b[0m\u001b[1;33m.\u001b[0m\u001b[0mmkdir\u001b[0m\u001b[1;33m(\u001b[0m\u001b[0mself\u001b[0m\u001b[1;33m,\u001b[0m \u001b[0mmode\u001b[0m\u001b[1;33m=\u001b[0m\u001b[1;36m511\u001b[0m\u001b[1;33m,\u001b[0m \u001b[0mparents\u001b[0m\u001b[1;33m=\u001b[0m\u001b[1;32mFalse\u001b[0m\u001b[1;33m,\u001b[0m \u001b[0mexist_ok\u001b[0m\u001b[1;33m=\u001b[0m\u001b[1;32mFalse\u001b[0m\u001b[1;33m)\u001b[0m\u001b[1;33m\u001b[0m\u001b[1;33m\u001b[0m\u001b[0m\n",
       "\u001b[1;31mDocstring:\u001b[0m Create a new directory at this given path.\n",
       "\u001b[1;31mFile:\u001b[0m      c:\\program files\\python38\\lib\\pathlib.py\n",
       "\u001b[1;31mType:\u001b[0m      function\n"
      ]
     },
     "metadata": {},
     "output_type": "display_data"
    }
   ],
   "source": [
    "Path.mkdir?"
   ]
  },
  {
   "cell_type": "code",
   "execution_count": null,
   "id": "2d60d167-33b5-4867-975b-7c214d59dae7",
   "metadata": {},
   "outputs": [],
   "source": [
    "(file_path/\"parquet\").mkdir"
   ]
  }
 ],
 "metadata": {
  "kernelspec": {
   "display_name": "Python 3",
   "language": "python",
   "name": "python3"
  },
  "language_info": {
   "codemirror_mode": {
    "name": "ipython",
    "version": 3
   },
   "file_extension": ".py",
   "mimetype": "text/x-python",
   "name": "python",
   "nbconvert_exporter": "python",
   "pygments_lexer": "ipython3",
   "version": "3.8.9"
  }
 },
 "nbformat": 4,
 "nbformat_minor": 5
}
