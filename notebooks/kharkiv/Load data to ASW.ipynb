{
 "cells": [
  {
   "cell_type": "code",
   "execution_count": 1,
   "id": "fef48cae",
   "metadata": {},
   "outputs": [],
   "source": [
    "import json\n",
    "import numpy as np\n",
    "import pandas as pd\n",
    "import psycopg2\n",
    "import os\n",
    "\n",
    "from collections import Counter\n",
    "from datetime import datetime, timedelta\n",
    "from dateutil.tz import tzlocal \n",
    "from pathlib import Path\n",
    "from tqdm import tqdm"
   ]
  },
  {
   "cell_type": "markdown",
   "id": "94bac175-1fa1-49a2-8e10-a2b03a5d57c6",
   "metadata": {},
   "source": [
    "## Analyse data"
   ]
  },
  {
   "cell_type": "code",
   "execution_count": 2,
   "id": "74b9e45f-b532-43a9-bf92-430b40e95b93",
   "metadata": {
    "collapsed": true,
    "jupyter": {
     "outputs_hidden": true
    },
    "tags": []
   },
   "outputs": [
    {
     "data": {
      "text/plain": [
       "[WindowsPath('../../../pet_project/kharkiv/new 1.txt'),\n",
       " WindowsPath('../../../pet_project/kharkiv/trans_data_01_FEB_2023'),\n",
       " WindowsPath('../../../pet_project/kharkiv/trans_data_02_FEB_2023'),\n",
       " WindowsPath('../../../pet_project/kharkiv/trans_data_03_FEB_2023'),\n",
       " WindowsPath('../../../pet_project/kharkiv/trans_data_25_JAN_2023'),\n",
       " WindowsPath('../../../pet_project/kharkiv/trans_data_26_JAN_2023'),\n",
       " WindowsPath('../../../pet_project/kharkiv/trans_data_27_JAN_2023'),\n",
       " WindowsPath('../../../pet_project/kharkiv/trans_data_28_JAN_2023'),\n",
       " WindowsPath('../../../pet_project/kharkiv/trans_data_29_JAN_2023'),\n",
       " WindowsPath('../../../pet_project/kharkiv/trans_data_30_JAN_2023'),\n",
       " WindowsPath('../../../pet_project/kharkiv/trans_data_31_JAN_2023')]"
      ]
     },
     "execution_count": 2,
     "metadata": {},
     "output_type": "execute_result"
    }
   ],
   "source": [
    "[p for p in kharkiv_folder_path.iterdir()]"
   ]
  },
  {
   "cell_type": "code",
   "execution_count": 3,
   "id": "f2422d59-127a-4d9c-b65d-3ed3a97b4a85",
   "metadata": {
    "collapsed": true,
    "jupyter": {
     "outputs_hidden": true
    },
    "tags": []
   },
   "outputs": [
    {
     "data": {
      "text/plain": [
       "[WindowsPath('../../data/local/jsons/kharkiv/trans_data_03_FEB_2023'),\n",
       " WindowsPath('../../data/local/jsons/kharkiv/trans_data_04_FEB_2023'),\n",
       " WindowsPath('../../data/local/jsons/kharkiv/trans_data_05_FEB_2023')]"
      ]
     },
     "execution_count": 3,
     "metadata": {},
     "output_type": "execute_result"
    }
   ],
   "source": [
    "[p for p in Path(\"../../data/local/jsons/kharkiv\").iterdir()]"
   ]
  },
  {
   "cell_type": "code",
   "execution_count": 2,
   "id": "de2b9c46-f4f3-4e7f-8318-1068397fdfeb",
   "metadata": {
    "tags": []
   },
   "outputs": [
    {
     "data": {
      "text/plain": [
       "[WindowsPath('../../../pet_project/kharkiv/trans_data_25_JAN_2023'),\n",
       " WindowsPath('../../../pet_project/kharkiv/trans_data_26_JAN_2023'),\n",
       " WindowsPath('../../../pet_project/kharkiv/trans_data_27_JAN_2023'),\n",
       " WindowsPath('../../../pet_project/kharkiv/trans_data_28_JAN_2023'),\n",
       " WindowsPath('../../../pet_project/kharkiv/trans_data_29_JAN_2023'),\n",
       " WindowsPath('../../../pet_project/kharkiv/trans_data_30_JAN_2023'),\n",
       " WindowsPath('../../../pet_project/kharkiv/trans_data_31_JAN_2023'),\n",
       " WindowsPath('../../../pet_project/kharkiv/trans_data_01_FEB_2023'),\n",
       " WindowsPath('../../../pet_project/kharkiv/trans_data_02_FEB_2023'),\n",
       " WindowsPath('../../../pet_project/kharkiv/trans_data_03_FEB_2023')]"
      ]
     },
     "execution_count": 2,
     "metadata": {},
     "output_type": "execute_result"
    }
   ],
   "source": [
    "kharkiv_folder_path = Path(\"../../../pet_project/kharkiv\")\n",
    "kharkiv_folder_list = [p for p in kharkiv_folder_path.iterdir() if \"trans_data_\" in p.name]\n",
    "kharkiv_folders_list = sorted(kharkiv_folder_list,\n",
    "                        key=lambda p: datetime.strptime(p.name[11:], '%d_%b_%Y'))\n",
    "kharkiv_folders_list"
   ]
  },
  {
   "cell_type": "code",
   "execution_count": null,
   "id": "dd91062c-e1b7-467f-bd57-311465ffe16e",
   "metadata": {},
   "outputs": [],
   "source": []
  },
  {
   "cell_type": "code",
   "execution_count": 3,
   "id": "569c1bce-bef2-4f20-a00a-7d84099a0584",
   "metadata": {},
   "outputs": [],
   "source": [
    "from concurrent.futures import ThreadPoolExecutor\n",
    "\n",
    "def load_responses(resp_path):\n",
    "    resp_tm = datetime.strptime(resp_path.name[6:-5], '%Y-%m-%d %H;%M;%S')\n",
    "    resp_tm_str = resp_tm.replace(tzinfo=tzlocal()).isoformat()\n",
    "    \n",
    "    with open(resp_path) as f:\n",
    "        resp = json.load(f)\n",
    "        if (\"rows\" in resp) and (resp[\"rows\"]): \n",
    "            return [row + [resp['timestamp'], resp_tm_str] \n",
    "                    for row in resp['rows']]\n",
    "        else: \n",
    "            return []\n",
    "\n",
    "def accumulate_responses_from_folder(folder_path):\n",
    "    file_path_list = list(folder_path.iterdir())\n",
    "    with ThreadPoolExecutor(max_workers=10) as executor:\n",
    "        results = list(tqdm(executor.map(load_responses, file_path_list),\n",
    "                            total=len(file_path_list), mininterval=2, leave=False, \n",
    "                            desc=\"Accumulate responses from folder\")\n",
    "                          )\n",
    "        resp_list = []\n",
    "        for resp_ in results: \n",
    "            resp_list += resp_\n",
    "        print(f\"Accumulate responses from folder\\n\"\\\n",
    "              f\"\\t{len(resp_list)} / {len(resp_list)} [avg={len(resp_list)/len(resp_list):.2f}]\")\n",
    "    \n",
    "    \n",
    "    columns = ['imei', 'lat', 'lng', 'speed', 'gps_datetime_origin', 'orientation', 'route_name', \n",
    "               'route_type', 'vehcle_id', 'dd', 'gpstime', 'response_datetime',] \n",
    "\n",
    "    return pd.DataFrame(resp_list, columns=columns)\n",
    "    \n",
    "def clear_data(in_df):\n",
    "    unique_data = []\n",
    "    \n",
    "    imei_list = in_df['imei'].value_counts().index\n",
    "    imei_tqdm = tqdm(\n",
    "        imei_list, total=len(imei_list), mininterval=2, leave=False, desc=\"Clear data\"\n",
    "    )\n",
    "    \n",
    "    for imei in imei_tqdm: \n",
    "        row_data = in_df[ in_df['imei'] == imei].values.tolist()\n",
    "        result = [row_data[0]]\n",
    "        for row0, row1 in zip(row_data[:-1], row_data[1:]):\n",
    "            if row0[1:9] != row1[1:9]: \n",
    "                result += [row1]\n",
    "        unique_data += result\n",
    "\n",
    "    df_unique = pd.DataFrame(unique_data, columns=in_df.columns)\n",
    "    print(f\"Clear data\\n\\t{len(in_df)} / {len(df_unique)} [avg {len(in_df) / len(df_unique):.02f}]\")\n",
    "    return df_unique"
   ]
  },
  {
   "cell_type": "code",
   "execution_count": 4,
   "id": "b9b9d98a-648d-4cd2-b6ca-7e88f8f760e8",
   "metadata": {},
   "outputs": [],
   "source": []
  },
  {
   "cell_type": "code",
   "execution_count": 4,
   "id": "f7a7201a-5dd4-476a-b655-167037e77718",
   "metadata": {
    "tags": []
   },
   "outputs": [],
   "source": [
    "import PTETA\n",
    "import importlib\n",
    "# importlib.reload(PTETA.utils.transport.kharkiv)\n",
    "\n",
    "try: del KharkivTransportAVLData\n",
    "except: pass \n",
    "finally: from PTETA.utils.transport.kharkiv.KharkivTransportAVLData import KharkivTransportAVLData\n",
    "    \n",
    "try: del KharkivTransportOperator\n",
    "except: pass \n",
    "finally: from PTETA.utils.transport.kharkiv.KharkivTransportOperator import KharkivTransportOperator\n",
    "    \n",
    "try: del KharkivTransportRoute\n",
    "except: pass \n",
    "finally: from PTETA.utils.transport.kharkiv.KharkivTransportRoute import KharkivTransportRoute\n",
    "    \n",
    "try: del KharkivTransportVehicle\n",
    "except: pass \n",
    "finally: from PTETA.utils.transport.kharkiv.KharkivTransportVehicle import KharkivTransportVehicle\n",
    "\n",
    "try: del TransGPSCVMonitor\n",
    "except: pass \n",
    "finally: from aws.src.TransGPSCVMonitor import TransGPSCVMonitor"
   ]
  },
  {
   "cell_type": "code",
   "execution_count": null,
   "id": "bcd9566e-535a-430f-a5fc-757dc168e8b6",
   "metadata": {
    "tags": []
   },
   "outputs": [],
   "source": []
  },
  {
   "cell_type": "code",
   "execution_count": 12,
   "id": "c8cee2bb-6150-4945-a01f-5f1f307b819b",
   "metadata": {
    "tags": []
   },
   "outputs": [
    {
     "name": "stderr",
     "output_type": "stream",
     "text": [
      "  0%|          | 0/7 [00:00<?, ?it/s]\n",
      "Accumulate responses from folder:   0%|          | 0/3334 [00:00<?, ?it/s]\u001b[A\n",
      "Accumulate responses from folder:  20%|█▉        | 657/3334 [00:02<00:08, 323.78it/s]\u001b[A\n",
      "Accumulate responses from folder:  39%|███▉      | 1305/3334 [00:04<00:06, 300.74it/s]\u001b[A\n",
      "Accumulate responses from folder:  57%|█████▋    | 1909/3334 [00:06<00:04, 300.20it/s]\u001b[A\n",
      "Accumulate responses from folder:  75%|███████▌  | 2511/3334 [00:08<00:02, 298.23it/s]\u001b[A\n",
      "Accumulate responses from folder:  94%|█████████▍| 3127/3334 [00:10<00:00, 301.43it/s]\u001b[A\n",
      "                                                                                      \u001b[A"
     ]
    },
    {
     "name": "stdout",
     "output_type": "stream",
     "text": [
      "Accumulate responses from folder\n",
      "\t118883 / 118883 [avg=1.00]\n"
     ]
    },
    {
     "name": "stderr",
     "output_type": "stream",
     "text": [
      "\n",
      "Clear data:   0%|          | 0/233 [00:00<?, ?it/s]\u001b[A\n",
      "                                                   \u001b[A\n",
      "  0%|          | 0/4 [00:00<?, ?it/s]\u001b[A"
     ]
    },
    {
     "name": "stdout",
     "output_type": "stream",
     "text": [
      "Clear data\n",
      "\t118883 / 9609 [avg 12.37]\n",
      "There are 3 new <class 'PTETA.utils.transport.kharkiv.KharkivTransportVehicle.KharkivTransportVehicle'> to inserted in DB\n",
      "There are 2 new <class 'PTETA.utils.transport.kharkiv.KharkivTransportVehicle.KharkivTransportVehicle'> to inserted in DB\n",
      "There are 1 new <class 'PTETA.utils.transport.kharkiv.KharkivTransportVehicle.KharkivTransportVehicle'> to inserted in DB\n"
     ]
    },
    {
     "name": "stderr",
     "output_type": "stream",
     "text": [
      "100%|██████████| 4/4 [00:03<00:00,  1.17it/s]\n",
      " 14%|█▍        | 1/7 [00:16<01:41, 16.93s/it]\n",
      "Accumulate responses from folder:   0%|          | 0/17280 [00:00<?, ?it/s]\u001b[A\n",
      "Accumulate responses from folder:   5%|▍         | 792/17280 [00:02<00:41, 395.62it/s]\u001b[A\n",
      "Accumulate responses from folder:   9%|▉         | 1584/17280 [00:04<00:42, 365.09it/s]\u001b[A\n",
      "Accumulate responses from folder:  13%|█▎        | 2318/17280 [00:06<00:43, 343.50it/s]\u001b[A\n",
      "Accumulate responses from folder:  17%|█▋        | 3009/17280 [00:08<00:42, 337.54it/s]\u001b[A\n",
      "Accumulate responses from folder:  21%|██▏       | 3699/17280 [00:10<00:39, 339.99it/s]\u001b[A\n",
      "Accumulate responses from folder:  25%|██▌       | 4381/17280 [00:13<00:40, 318.46it/s]\u001b[A\n",
      "Accumulate responses from folder:  29%|██▉       | 5023/17280 [00:15<00:41, 297.85it/s]\u001b[A\n",
      "Accumulate responses from folder:  33%|███▎      | 5625/17280 [00:18<00:41, 278.05it/s]\u001b[A\n",
      "Accumulate responses from folder:  36%|███▌      | 6188/17280 [00:20<00:40, 270.70it/s]\u001b[A\n",
      "Accumulate responses from folder:  39%|███▉      | 6756/17280 [00:22<00:40, 261.41it/s]\u001b[A\n",
      "Accumulate responses from folder:  43%|████▎     | 7361/17280 [00:24<00:36, 272.67it/s]\u001b[A\n",
      "Accumulate responses from folder:  46%|████▌     | 7911/17280 [00:26<00:34, 269.55it/s]\u001b[A\n",
      "Accumulate responses from folder:  49%|████▉     | 8489/17280 [00:28<00:31, 274.92it/s]\u001b[A\n",
      "Accumulate responses from folder:  52%|█████▏    | 9042/17280 [00:31<00:31, 260.56it/s]\u001b[A\n",
      "Accumulate responses from folder:  56%|█████▌    | 9703/17280 [00:33<00:27, 280.17it/s]\u001b[A\n",
      "Accumulate responses from folder:  59%|█████▉    | 10270/17280 [00:35<00:25, 271.22it/s]\u001b[A\n",
      "Accumulate responses from folder:  63%|██████▎   | 10916/17280 [00:37<00:22, 285.66it/s]\u001b[A\n",
      "Accumulate responses from folder:  67%|██████▋   | 11563/17280 [00:39<00:19, 296.14it/s]\u001b[A\n",
      "Accumulate responses from folder:  70%|███████   | 12160/17280 [00:41<00:18, 279.09it/s]\u001b[A\n",
      "Accumulate responses from folder:  74%|███████▍  | 12839/17280 [00:43<00:15, 295.92it/s]\u001b[A\n",
      "Accumulate responses from folder:  78%|███████▊  | 13485/17280 [00:45<00:12, 302.93it/s]\u001b[A\n",
      "Accumulate responses from folder:  82%|████████▏ | 14097/17280 [00:48<00:11, 288.48it/s]\u001b[A\n",
      "Accumulate responses from folder:  86%|████████▌ | 14869/17280 [00:50<00:07, 315.99it/s]\u001b[A\n",
      "Accumulate responses from folder:  91%|█████████ | 15693/17280 [00:52<00:04, 343.15it/s]\u001b[A\n",
      "Accumulate responses from folder:  96%|█████████▌| 16517/17280 [00:54<00:02, 363.12it/s]\u001b[A\n",
      "                                                                                        \u001b[A"
     ]
    },
    {
     "name": "stdout",
     "output_type": "stream",
     "text": [
      "Accumulate responses from folder\n",
      "\t2044186 / 2044186 [avg=1.00]\n"
     ]
    },
    {
     "name": "stderr",
     "output_type": "stream",
     "text": [
      "\n",
      "Clear data:   0%|          | 0/236 [00:00<?, ?it/s]\u001b[A\n",
      "Clear data:  15%|█▌        | 36/236 [00:02<00:11, 17.97it/s]\u001b[A\n",
      "Clear data:  31%|███       | 72/236 [00:04<00:09, 16.69it/s]\u001b[A\n",
      "Clear data:  45%|████▍     | 106/236 [00:06<00:08, 15.31it/s]\u001b[A\n",
      "Clear data:  58%|█████▊    | 138/236 [00:08<00:06, 15.10it/s]\u001b[A\n",
      "Clear data:  72%|███████▏  | 169/236 [00:11<00:04, 14.77it/s]\u001b[A\n",
      "Clear data:  84%|████████▍ | 199/236 [00:13<00:02, 14.75it/s]\u001b[A\n",
      "                                                             \u001b[A\n",
      "  0%|          | 0/66 [00:00<?, ?it/s]\u001b[A"
     ]
    },
    {
     "name": "stdout",
     "output_type": "stream",
     "text": [
      "Clear data\n",
      "\t2044186 / 196900 [avg 10.38]\n",
      "There are 1 new <class 'PTETA.utils.transport.kharkiv.KharkivTransportVehicle.KharkivTransportVehicle'> to inserted in DB\n"
     ]
    },
    {
     "name": "stderr",
     "output_type": "stream",
     "text": [
      "\n",
      " 23%|██▎       | 15/66 [00:10<00:34,  1.47it/s]\u001b[A"
     ]
    },
    {
     "name": "stdout",
     "output_type": "stream",
     "text": [
      "There are 1 new <class 'PTETA.utils.transport.kharkiv.KharkivTransportVehicle.KharkivTransportVehicle'> to inserted in DB\n"
     ]
    },
    {
     "name": "stderr",
     "output_type": "stream",
     "text": [
      "\n",
      " 50%|█████     | 33/66 [00:20<00:19,  1.66it/s]\u001b[A\n",
      " 77%|███████▋  | 51/66 [00:30<00:08,  1.68it/s]\u001b[A"
     ]
    },
    {
     "name": "stdout",
     "output_type": "stream",
     "text": [
      "There are 1 new <class 'PTETA.utils.transport.kharkiv.KharkivTransportVehicle.KharkivTransportVehicle'> to inserted in DB\n",
      "There are 2 new <class 'PTETA.utils.transport.kharkiv.KharkivTransportVehicle.KharkivTransportVehicle'> to inserted in DB\n",
      "There are 1 new <class 'PTETA.utils.transport.kharkiv.KharkivTransportVehicle.KharkivTransportVehicle'> to inserted in DB\n"
     ]
    },
    {
     "name": "stderr",
     "output_type": "stream",
     "text": [
      "100%|██████████| 66/66 [00:41<00:00,  1.59it/s]\n",
      " 29%|██▊       | 2/7 [02:22<06:43, 80.79s/it]\n",
      "Accumulate responses from folder:   0%|          | 0/16887 [00:00<?, ?it/s]\u001b[A\n",
      "Accumulate responses from folder:   4%|▍         | 676/16887 [00:02<00:48, 336.71it/s]\u001b[A\n",
      "Accumulate responses from folder:   8%|▊         | 1350/16887 [00:04<00:52, 296.78it/s]\u001b[A\n",
      "Accumulate responses from folder:  12%|█▏        | 1956/16887 [00:06<00:49, 298.93it/s]\u001b[A\n",
      "Accumulate responses from folder:  15%|█▌        | 2558/16887 [00:08<00:49, 286.64it/s]\u001b[A\n",
      "Accumulate responses from folder:  19%|█▊        | 3135/16887 [00:10<00:49, 275.77it/s]\u001b[A\n",
      "Accumulate responses from folder:  22%|██▏       | 3689/16887 [00:13<00:48, 273.95it/s]\u001b[A\n",
      "Accumulate responses from folder:  25%|██▌       | 4239/16887 [00:15<00:50, 252.67it/s]\u001b[A\n",
      "Accumulate responses from folder:  28%|██▊       | 4750/16887 [00:17<00:48, 252.67it/s]\u001b[A\n",
      "Accumulate responses from folder:  31%|███       | 5259/16887 [00:20<00:49, 234.49it/s]\u001b[A\n",
      "Accumulate responses from folder:  34%|███▍      | 5734/16887 [00:22<00:49, 224.32it/s]\u001b[A\n",
      "Accumulate responses from folder:  37%|███▋      | 6187/16887 [00:25<00:50, 210.01it/s]\u001b[A\n",
      "Accumulate responses from folder:  39%|███▉      | 6612/16887 [00:27<00:53, 192.69it/s]\u001b[A\n",
      "Accumulate responses from folder:  41%|████▏     | 7004/16887 [00:30<00:53, 185.19it/s]\u001b[A\n",
      "Accumulate responses from folder:  44%|████▎     | 7378/16887 [00:32<00:56, 168.38it/s]\u001b[A\n",
      "Accumulate responses from folder:  46%|████▌     | 7721/16887 [00:35<00:56, 162.21it/s]\u001b[A\n",
      "Accumulate responses from folder:  48%|████▊     | 8049/16887 [00:37<00:54, 160.98it/s]\u001b[A\n",
      "Accumulate responses from folder:  50%|████▉     | 8437/16887 [00:39<00:49, 169.51it/s]\u001b[A\n",
      "Accumulate responses from folder:  53%|█████▎    | 8971/16887 [00:41<00:40, 196.36it/s]\u001b[A\n",
      "Accumulate responses from folder:  56%|█████▋    | 9523/16887 [00:43<00:35, 205.60it/s]\u001b[A\n",
      "Accumulate responses from folder:  60%|█████▉    | 10126/16887 [00:45<00:29, 231.95it/s]\u001b[A\n",
      "Accumulate responses from folder:  64%|██████▎   | 10764/16887 [00:47<00:23, 256.18it/s]\u001b[A\n",
      "Accumulate responses from folder:  67%|██████▋   | 11285/16887 [00:49<00:22, 249.30it/s]\u001b[A\n",
      "Accumulate responses from folder:  70%|███████   | 11863/16887 [00:51<00:19, 260.03it/s]\u001b[A\n",
      "Accumulate responses from folder:  74%|███████▍  | 12461/16887 [00:53<00:16, 270.93it/s]\u001b[A\n",
      "Accumulate responses from folder:  77%|███████▋  | 13008/16887 [00:56<00:14, 259.23it/s]\u001b[A\n",
      "Accumulate responses from folder:  81%|████████  | 13631/16887 [00:58<00:11, 273.82it/s]\u001b[A\n",
      "Accumulate responses from folder:  84%|████████▍ | 14248/16887 [01:00<00:09, 283.64it/s]\u001b[A\n",
      "Accumulate responses from folder:  88%|████████▊ | 14841/16887 [01:02<00:07, 287.33it/s]\u001b[A\n",
      "Accumulate responses from folder:  91%|█████████▏| 15419/16887 [01:05<00:05, 246.72it/s]\u001b[A\n",
      "Accumulate responses from folder:  94%|█████████▍| 15935/16887 [01:08<00:04, 210.70it/s]\u001b[A\n",
      "Accumulate responses from folder:  98%|█████████▊| 16526/16887 [01:10<00:01, 231.11it/s]\u001b[A\n",
      "                                                                                        \u001b[A"
     ]
    },
    {
     "name": "stdout",
     "output_type": "stream",
     "text": [
      "Accumulate responses from folder\n",
      "\t2376501 / 2376501 [avg=1.00]\n"
     ]
    },
    {
     "name": "stderr",
     "output_type": "stream",
     "text": [
      "\n",
      "Clear data:   0%|          | 0/280 [00:00<?, ?it/s]\u001b[A\n",
      "Clear data:  10%|█         | 28/280 [00:02<00:18, 13.56it/s]\u001b[A\n",
      "Clear data:  20%|██        | 56/280 [00:04<00:17, 12.82it/s]\u001b[A\n",
      "Clear data:  29%|██▉       | 82/280 [00:06<00:16, 12.09it/s]\u001b[A\n",
      "Clear data:  39%|███▉      | 109/280 [00:08<00:13, 12.25it/s]\u001b[A\n",
      "Clear data:  51%|█████     | 142/280 [00:11<00:10, 13.18it/s]\u001b[A\n",
      "Clear data:  61%|██████    | 171/280 [00:13<00:08, 13.55it/s]\u001b[A\n",
      "Clear data:  71%|███████   | 199/280 [00:15<00:06, 13.06it/s]\u001b[A\n",
      "Clear data:  81%|████████  | 227/280 [00:17<00:03, 13.27it/s]\u001b[A\n",
      "Clear data:  92%|█████████▏| 258/280 [00:19<00:01, 13.76it/s]\u001b[A\n",
      "                                                             \u001b[A\n",
      "  0%|          | 0/79 [00:00<?, ?it/s]"
     ]
    },
    {
     "name": "stdout",
     "output_type": "stream",
     "text": [
      "Clear data\n",
      "\t2376501 / 234630 [avg 10.13]\n"
     ]
    },
    {
     "name": "stderr",
     "output_type": "stream",
     "text": [
      "\u001b[A\n",
      " 22%|██▏       | 17/79 [00:10<00:37,  1.66it/s]\u001b[A"
     ]
    },
    {
     "name": "stdout",
     "output_type": "stream",
     "text": [
      "There are 1 new <class 'PTETA.utils.transport.kharkiv.KharkivTransportVehicle.KharkivTransportVehicle'> to inserted in DB\n"
     ]
    },
    {
     "name": "stderr",
     "output_type": "stream",
     "text": [
      "\n",
      " 43%|████▎     | 34/79 [00:22<00:29,  1.52it/s]\u001b[A\n",
      " 66%|██████▌   | 52/79 [00:32<00:16,  1.61it/s]\u001b[A"
     ]
    },
    {
     "name": "stdout",
     "output_type": "stream",
     "text": [
      "There are 1 new <class 'PTETA.utils.transport.kharkiv.KharkivTransportVehicle.KharkivTransportVehicle'> to inserted in DB\n"
     ]
    },
    {
     "name": "stderr",
     "output_type": "stream",
     "text": [
      "\n",
      " 90%|████████▉ | 71/79 [00:42<00:04,  1.70it/s]\u001b[A"
     ]
    },
    {
     "name": "stdout",
     "output_type": "stream",
     "text": [
      "There are 1 new <class 'PTETA.utils.transport.kharkiv.KharkivTransportVehicle.KharkivTransportVehicle'> to inserted in DB\n",
      "There are 1 new <class 'PTETA.utils.transport.kharkiv.KharkivTransportVehicle.KharkivTransportVehicle'> to inserted in DB\n",
      "There are 1 new <class 'PTETA.utils.transport.kharkiv.KharkivTransportVehicle.KharkivTransportVehicle'> to inserted in DB\n"
     ]
    },
    {
     "name": "stderr",
     "output_type": "stream",
     "text": [
      "100%|██████████| 79/79 [00:48<00:00,  1.63it/s]\n",
      " 43%|████▎     | 3/7 [05:00<07:43, 115.91s/it]\n",
      "Accumulate responses from folder:   0%|          | 0/13286 [00:00<?, ?it/s]\u001b[A\n",
      "Accumulate responses from folder:   6%|▌         | 732/13286 [00:02<00:34, 365.48it/s]\u001b[A\n",
      "Accumulate responses from folder:  11%|█         | 1463/13286 [00:04<00:32, 358.40it/s]\u001b[A\n",
      "Accumulate responses from folder:  16%|█▋        | 2180/13286 [00:06<00:32, 342.67it/s]\u001b[A\n",
      "Accumulate responses from folder:  22%|██▏       | 2867/13286 [00:09<00:38, 273.57it/s]\u001b[A\n",
      "Accumulate responses from folder:  26%|██▌       | 3457/13286 [00:11<00:35, 279.89it/s]\u001b[A\n",
      "Accumulate responses from folder:  30%|███       | 4040/13286 [00:14<00:38, 243.31it/s]\u001b[A\n",
      "Accumulate responses from folder:  34%|███▍      | 4553/13286 [00:19<00:50, 174.32it/s]\u001b[A\n",
      "Accumulate responses from folder:  37%|███▋      | 4964/13286 [00:22<00:50, 163.23it/s]\u001b[A\n",
      "Accumulate responses from folder:  40%|████      | 5331/13286 [00:25<00:51, 155.35it/s]\u001b[A\n",
      "Accumulate responses from folder:  43%|████▎     | 5668/13286 [00:27<00:48, 157.24it/s]\u001b[A\n",
      "Accumulate responses from folder:  45%|████▌     | 6002/13286 [00:31<00:54, 134.69it/s]\u001b[A\n",
      "Accumulate responses from folder:  47%|████▋     | 6292/13286 [00:33<00:53, 129.66it/s]\u001b[A\n",
      "Accumulate responses from folder:  50%|████▉     | 6593/13286 [00:35<00:49, 134.47it/s]\u001b[A\n",
      "Accumulate responses from folder:  53%|█████▎    | 7034/13286 [00:37<00:40, 155.77it/s]\u001b[A\n",
      "Accumulate responses from folder:  56%|█████▌    | 7430/13286 [00:39<00:35, 166.59it/s]\u001b[A\n",
      "Accumulate responses from folder:  60%|██████    | 7975/13286 [00:41<00:27, 195.37it/s]\u001b[A\n",
      "Accumulate responses from folder:  63%|██████▎   | 8383/13286 [00:43<00:24, 196.81it/s]\u001b[A\n",
      "Accumulate responses from folder:  66%|██████▌   | 8799/13286 [00:45<00:22, 199.49it/s]\u001b[A\n",
      "Accumulate responses from folder:  70%|██████▉   | 9282/13286 [00:47<00:18, 211.53it/s]\u001b[A\n",
      "Accumulate responses from folder:  73%|███████▎  | 9712/13286 [00:50<00:17, 202.18it/s]\u001b[A\n",
      "Accumulate responses from folder:  77%|███████▋  | 10175/13286 [00:52<00:14, 210.31it/s]\u001b[A\n",
      "Accumulate responses from folder:  80%|████████  | 10663/13286 [00:54<00:11, 219.77it/s]\u001b[A\n",
      "Accumulate responses from folder:  84%|████████▎ | 11107/13286 [00:56<00:10, 206.20it/s]\u001b[A\n",
      "Accumulate responses from folder:  87%|████████▋ | 11621/13286 [00:58<00:07, 220.38it/s]\u001b[A\n",
      "Accumulate responses from folder:  91%|█████████ | 12112/13286 [01:00<00:05, 227.32it/s]\u001b[A\n",
      "Accumulate responses from folder:  95%|█████████▍| 12572/13286 [01:02<00:03, 216.21it/s]\u001b[A\n",
      "Accumulate responses from folder:  99%|█████████▉| 13148/13286 [01:04<00:00, 236.20it/s]\u001b[A\n",
      "                                                                                        \u001b[A"
     ]
    },
    {
     "name": "stdout",
     "output_type": "stream",
     "text": [
      "Accumulate responses from folder\n",
      "\t1904532 / 1904532 [avg=1.00]\n"
     ]
    },
    {
     "name": "stderr",
     "output_type": "stream",
     "text": [
      "\n",
      "Clear data:   0%|          | 0/277 [00:00<?, ?it/s]\u001b[A\n",
      "Clear data:   9%|▊         | 24/277 [00:02<00:22, 11.48it/s]\u001b[A\n",
      "Clear data:  17%|█▋        | 47/277 [00:05<00:28,  8.15it/s]\u001b[A\n",
      "Clear data:  27%|██▋       | 74/277 [00:07<00:20, 10.06it/s]\u001b[A\n",
      "Clear data:  36%|███▌      | 100/277 [00:09<00:16, 10.99it/s]\u001b[A\n",
      "Clear data:  48%|████▊     | 132/277 [00:11<00:11, 12.57it/s]\u001b[A\n",
      "Clear data:  57%|█████▋    | 159/277 [00:14<00:09, 11.85it/s]\u001b[A\n",
      "Clear data:  69%|██████▉   | 191/277 [00:16<00:06, 12.99it/s]\u001b[A\n",
      "Clear data:  79%|███████▊  | 218/277 [00:18<00:04, 12.30it/s]\u001b[A\n",
      "Clear data:  91%|█████████ | 251/277 [00:20<00:01, 13.36it/s]\u001b[A\n",
      "                                                             \u001b[A"
     ]
    },
    {
     "name": "stdout",
     "output_type": "stream",
     "text": [
      "Clear data\n",
      "\t1904532 / 187140 [avg 10.18]\n"
     ]
    },
    {
     "name": "stderr",
     "output_type": "stream",
     "text": [
      "\n",
      "  0%|          | 0/63 [00:00<?, ?it/s]\u001b[A\n",
      " 17%|█▋        | 11/63 [00:10<00:47,  1.09it/s]\u001b[A"
     ]
    },
    {
     "name": "stdout",
     "output_type": "stream",
     "text": [
      "There are 1 new <class 'PTETA.utils.transport.kharkiv.KharkivTransportVehicle.KharkivTransportVehicle'> to inserted in DB\n"
     ]
    },
    {
     "name": "stderr",
     "output_type": "stream",
     "text": [
      "\n",
      " 43%|████▎     | 27/63 [00:20<00:26,  1.38it/s]\u001b[A\n",
      " 73%|███████▎  | 46/63 [00:30<00:10,  1.58it/s]\u001b[A"
     ]
    },
    {
     "name": "stdout",
     "output_type": "stream",
     "text": [
      "There are 1 new <class 'PTETA.utils.transport.kharkiv.KharkivTransportVehicle.KharkivTransportVehicle'> to inserted in DB\n"
     ]
    },
    {
     "name": "stderr",
     "output_type": "stream",
     "text": [
      "100%|██████████| 63/63 [00:41<00:00,  1.53it/s]\n",
      " 57%|█████▋    | 4/7 [07:26<06:23, 127.75s/it]\n",
      "Accumulate responses from folder:   0%|          | 0/8223 [00:00<?, ?it/s]\u001b[A\n",
      "Accumulate responses from folder:   6%|▌         | 482/8223 [00:02<00:32, 239.07it/s]\u001b[A\n",
      "Accumulate responses from folder:  12%|█▏        | 961/8223 [00:04<00:34, 207.98it/s]\u001b[A\n",
      "Accumulate responses from folder:  18%|█▊        | 1468/8223 [00:06<00:30, 222.83it/s]\u001b[A\n",
      "Accumulate responses from folder:  24%|██▍       | 1962/8223 [00:08<00:27, 231.26it/s]\u001b[A\n",
      "Accumulate responses from folder:  30%|██▉       | 2429/8223 [00:10<00:25, 225.06it/s]\u001b[A\n",
      "Accumulate responses from folder:  35%|███▌      | 2882/8223 [00:13<00:24, 218.51it/s]\u001b[A\n",
      "Accumulate responses from folder:  41%|████▏     | 3394/8223 [00:15<00:21, 229.71it/s]\u001b[A\n",
      "Accumulate responses from folder:  47%|████▋     | 3856/8223 [00:17<00:19, 221.94it/s]\u001b[A\n",
      "Accumulate responses from folder:  52%|█████▏    | 4303/8223 [00:21<00:24, 160.85it/s]\u001b[A\n",
      "Accumulate responses from folder:  57%|█████▋    | 4671/8223 [00:24<00:23, 153.94it/s]\u001b[A\n",
      "Accumulate responses from folder:  62%|██████▏   | 5091/8223 [00:26<00:18, 167.09it/s]\u001b[A\n",
      "Accumulate responses from folder:  66%|██████▋   | 5459/8223 [00:28<00:16, 171.28it/s]\u001b[A\n",
      "Accumulate responses from folder:  71%|███████   | 5824/8223 [00:30<00:13, 173.54it/s]\u001b[A\n",
      "Accumulate responses from folder:  77%|███████▋  | 6361/8223 [00:32<00:09, 199.51it/s]\u001b[A\n",
      "Accumulate responses from folder:  83%|████████▎ | 6845/8223 [00:35<00:07, 187.57it/s]\u001b[A\n",
      "Accumulate responses from folder:  91%|█████████ | 7469/8223 [00:37<00:03, 220.08it/s]\u001b[A\n",
      "Accumulate responses from folder:  96%|█████████▋| 7930/8223 [00:39<00:01, 218.22it/s]\u001b[A\n",
      "                                                                                      \u001b[A"
     ]
    },
    {
     "name": "stdout",
     "output_type": "stream",
     "text": [
      "Accumulate responses from folder\n",
      "\t1451598 / 1451598 [avg=1.00]\n"
     ]
    },
    {
     "name": "stderr",
     "output_type": "stream",
     "text": [
      "\n",
      "Clear data:   0%|          | 0/276 [00:00<?, ?it/s]\u001b[A\n",
      "Clear data:  14%|█▍        | 40/276 [00:02<00:11, 19.89it/s]\u001b[A\n",
      "Clear data:  30%|███       | 84/276 [00:04<00:09, 20.78it/s]\u001b[A\n",
      "Clear data:  49%|████▉     | 136/276 [00:06<00:06, 22.35it/s]\u001b[A\n",
      "Clear data:  69%|██████▉   | 191/276 [00:08<00:03, 24.30it/s]\u001b[A\n",
      "Clear data:  92%|█████████▏| 255/276 [00:10<00:00, 26.97it/s]\u001b[A\n",
      "                                                             \u001b[A\n",
      "  0%|          | 0/46 [00:00<?, ?it/s]\u001b[A"
     ]
    },
    {
     "name": "stdout",
     "output_type": "stream",
     "text": [
      "Clear data\n",
      "\t1451598 / 137919 [avg 10.53]\n"
     ]
    },
    {
     "name": "stderr",
     "output_type": "stream",
     "text": [
      "\n",
      " 41%|████▏     | 19/46 [00:10<00:14,  1.89it/s]\u001b[A"
     ]
    },
    {
     "name": "stdout",
     "output_type": "stream",
     "text": [
      "There are 1 new <class 'PTETA.utils.transport.kharkiv.KharkivTransportVehicle.KharkivTransportVehicle'> to inserted in DB\n",
      "There are 1 new <class 'PTETA.utils.transport.kharkiv.KharkivTransportVehicle.KharkivTransportVehicle'> to inserted in DB\n"
     ]
    },
    {
     "name": "stderr",
     "output_type": "stream",
     "text": [
      "\n",
      " 83%|████████▎ | 38/46 [00:21<00:04,  1.73it/s]\u001b[A"
     ]
    },
    {
     "name": "stdout",
     "output_type": "stream",
     "text": [
      "There are 1 new <class 'PTETA.utils.transport.kharkiv.KharkivTransportVehicle.KharkivTransportVehicle'> to inserted in DB\n"
     ]
    },
    {
     "name": "stderr",
     "output_type": "stream",
     "text": [
      "100%|██████████| 46/46 [00:27<00:00,  1.70it/s]\n",
      " 71%|███████▏  | 5/7 [08:57<03:49, 114.59s/it]\n",
      "Accumulate responses from folder:   0%|          | 0/14405 [00:00<?, ?it/s]\u001b[A\n",
      "Accumulate responses from folder:   4%|▎         | 514/14405 [00:02<00:54, 256.46it/s]\u001b[A\n",
      "Accumulate responses from folder:   7%|▋         | 1027/14405 [00:04<00:53, 251.63it/s]\u001b[A\n",
      "Accumulate responses from folder:  11%|█         | 1536/14405 [00:06<00:50, 252.64it/s]\u001b[A\n",
      "Accumulate responses from folder:  14%|█▍        | 2049/14405 [00:08<00:48, 253.42it/s]\u001b[A\n",
      "Accumulate responses from folder:  19%|█▊        | 2689/14405 [00:10<00:42, 276.80it/s]\u001b[A\n",
      "Accumulate responses from folder:  23%|██▎       | 3338/14405 [00:12<00:37, 292.92it/s]\u001b[A\n",
      "Accumulate responses from folder:  27%|██▋       | 3925/14405 [00:14<00:39, 266.45it/s]\u001b[A\n",
      "Accumulate responses from folder:  31%|███       | 4467/14405 [00:17<00:38, 254.86it/s]\u001b[A\n",
      "Accumulate responses from folder:  35%|███▍      | 4984/14405 [00:19<00:37, 252.15it/s]\u001b[A\n",
      "Accumulate responses from folder:  38%|███▊      | 5493/14405 [00:21<00:35, 247.80it/s]\u001b[A\n",
      "Accumulate responses from folder:  42%|████▏     | 5992/14405 [00:23<00:34, 247.18it/s]\u001b[A\n",
      "Accumulate responses from folder:  46%|████▌     | 6574/14405 [00:25<00:30, 259.46it/s]\u001b[A\n",
      "Accumulate responses from folder:  49%|████▉     | 7096/14405 [00:27<00:29, 251.08it/s]\u001b[A\n",
      "Accumulate responses from folder:  53%|█████▎    | 7633/14405 [00:29<00:27, 243.14it/s]\u001b[A\n",
      "Accumulate responses from folder:  57%|█████▋    | 8238/14405 [00:31<00:23, 259.73it/s]\u001b[A\n",
      "Accumulate responses from folder:  61%|██████    | 8762/14405 [00:34<00:23, 236.83it/s]\u001b[A\n",
      "Accumulate responses from folder:  64%|██████▍   | 9261/14405 [00:36<00:21, 240.14it/s]\u001b[A\n",
      "Accumulate responses from folder:  68%|██████▊   | 9749/14405 [00:38<00:19, 240.07it/s]\u001b[A\n",
      "Accumulate responses from folder:  71%|███████   | 10235/14405 [00:41<00:19, 215.81it/s]\u001b[A\n",
      "Accumulate responses from folder:  74%|███████▍  | 10720/14405 [00:43<00:16, 222.88it/s]\u001b[A\n",
      "Accumulate responses from folder:  78%|███████▊  | 11257/14405 [00:45<00:13, 235.25it/s]\u001b[A\n",
      "Accumulate responses from folder:  82%|████████▏ | 11800/14405 [00:47<00:10, 245.20it/s]\u001b[A\n",
      "Accumulate responses from folder:  86%|████████▌ | 12409/14405 [00:49<00:07, 262.04it/s]\u001b[A\n",
      "Accumulate responses from folder:  90%|█████████ | 12988/14405 [00:51<00:05, 269.98it/s]\u001b[A\n",
      "Accumulate responses from folder:  94%|█████████▍| 13534/14405 [00:54<00:03, 248.27it/s]\u001b[A\n",
      "Accumulate responses from folder:  98%|█████████▊| 14140/14405 [00:56<00:01, 263.42it/s]\u001b[A\n",
      "                                                                                        \u001b[A"
     ]
    },
    {
     "name": "stdout",
     "output_type": "stream",
     "text": [
      "Accumulate responses from folder\n",
      "\t1936194 / 1936194 [avg=1.00]\n"
     ]
    },
    {
     "name": "stderr",
     "output_type": "stream",
     "text": [
      "\n",
      "Clear data:   0%|          | 0/274 [00:00<?, ?it/s]\u001b[A\n",
      "Clear data:  15%|█▍        | 41/274 [00:02<00:11, 20.24it/s]\u001b[A\n",
      "Clear data:  30%|██▉       | 82/274 [00:04<00:11, 17.02it/s]\u001b[A\n",
      "Clear data:  43%|████▎     | 118/274 [00:06<00:08, 17.33it/s]\u001b[A\n",
      "Clear data:  56%|█████▌    | 154/274 [00:09<00:07, 16.62it/s]\u001b[A\n",
      "Clear data:  69%|██████▉   | 189/274 [00:11<00:05, 16.65it/s]\u001b[A\n",
      "Clear data:  86%|████████▌ | 235/274 [00:13<00:02, 18.60it/s]\u001b[A\n",
      "                                                             \u001b[A\n",
      "  0%|          | 0/62 [00:00<?, ?it/s]\u001b[A"
     ]
    },
    {
     "name": "stdout",
     "output_type": "stream",
     "text": [
      "Clear data\n",
      "\t1936194 / 183442 [avg 10.55]\n"
     ]
    },
    {
     "name": "stderr",
     "output_type": "stream",
     "text": [
      "\n",
      " 26%|██▌       | 16/62 [00:10<00:30,  1.53it/s]\u001b[A\n",
      " 56%|█████▋    | 35/62 [00:21<00:16,  1.66it/s]\u001b[A\n",
      " 85%|████████▌ | 53/62 [00:33<00:05,  1.56it/s]\u001b[A"
     ]
    },
    {
     "name": "stdout",
     "output_type": "stream",
     "text": [
      "There are 1 new <class 'PTETA.utils.transport.kharkiv.KharkivTransportVehicle.KharkivTransportVehicle'> to inserted in DB\n"
     ]
    },
    {
     "name": "stderr",
     "output_type": "stream",
     "text": [
      "100%|██████████| 62/62 [00:41<00:00,  1.49it/s]\n",
      " 86%|████████▌ | 6/7 [11:03<01:58, 118.67s/it]\n",
      "Accumulate responses from folder:   0%|          | 0/7 [00:00<?, ?it/s]\u001b[A\n",
      " 86%|████████▌ | 6/7 [11:03<01:50, 110.65s/it]                         \u001b[A\n"
     ]
    },
    {
     "ename": "ZeroDivisionError",
     "evalue": "division by zero",
     "output_type": "error",
     "traceback": [
      "\u001b[1;31m---------------------------------------------------------------------------\u001b[0m",
      "\u001b[1;31mZeroDivisionError\u001b[0m                         Traceback (most recent call last)",
      "\u001b[1;32m~\\AppData\\Local\\Temp\\ipykernel_12604\\2281083391.py\u001b[0m in \u001b[0;36m<module>\u001b[1;34m\u001b[0m\n\u001b[0;32m     16\u001b[0m \u001b[1;32mfor\u001b[0m \u001b[0mfolder_path\u001b[0m \u001b[1;32min\u001b[0m \u001b[0mtqdm\u001b[0m\u001b[1;33m(\u001b[0m\u001b[0mkharkiv_folders_list\u001b[0m\u001b[1;33m[\u001b[0m\u001b[1;36m3\u001b[0m\u001b[1;33m:\u001b[0m\u001b[1;33m]\u001b[0m\u001b[1;33m)\u001b[0m\u001b[1;33m:\u001b[0m\u001b[1;33m\u001b[0m\u001b[1;33m\u001b[0m\u001b[0m\n\u001b[0;32m     17\u001b[0m \u001b[1;33m\u001b[0m\u001b[0m\n\u001b[1;32m---> 18\u001b[1;33m     \u001b[0mdf\u001b[0m \u001b[1;33m=\u001b[0m \u001b[0maccumulate_responses_from_folder\u001b[0m\u001b[1;33m(\u001b[0m\u001b[0mfolder_path\u001b[0m\u001b[1;33m)\u001b[0m\u001b[1;33m\u001b[0m\u001b[1;33m\u001b[0m\u001b[0m\n\u001b[0m\u001b[0;32m     19\u001b[0m     \u001b[0mdf_u\u001b[0m \u001b[1;33m=\u001b[0m \u001b[0mclear_data\u001b[0m\u001b[1;33m(\u001b[0m\u001b[0mdf\u001b[0m\u001b[1;33m)\u001b[0m\u001b[1;33m\u001b[0m\u001b[1;33m\u001b[0m\u001b[0m\n\u001b[0;32m     20\u001b[0m \u001b[1;33m\u001b[0m\u001b[0m\n",
      "\u001b[1;32m~\\AppData\\Local\\Temp\\ipykernel_12604\\2854481489.py\u001b[0m in \u001b[0;36maccumulate_responses_from_folder\u001b[1;34m(folder_path)\u001b[0m\n\u001b[0;32m     23\u001b[0m         \u001b[1;32mfor\u001b[0m \u001b[0mresp_\u001b[0m \u001b[1;32min\u001b[0m \u001b[0mresults\u001b[0m\u001b[1;33m:\u001b[0m\u001b[1;33m\u001b[0m\u001b[1;33m\u001b[0m\u001b[0m\n\u001b[0;32m     24\u001b[0m             \u001b[0mresp_list\u001b[0m \u001b[1;33m+=\u001b[0m \u001b[0mresp_\u001b[0m\u001b[1;33m\u001b[0m\u001b[1;33m\u001b[0m\u001b[0m\n\u001b[1;32m---> 25\u001b[1;33m         print(f\"Accumulate responses from folder\\n\"\\\n\u001b[0m\u001b[0;32m     26\u001b[0m               f\"\\t{len(resp_list)} / {len(resp_list)} [avg={len(resp_list)/len(resp_list):.2f}]\")\n\u001b[0;32m     27\u001b[0m \u001b[1;33m\u001b[0m\u001b[0m\n",
      "\u001b[1;31mZeroDivisionError\u001b[0m: division by zero"
     ]
    }
   ],
   "source": [
    "BATCH_SIZE = 3_000\n",
    "connection_config= dict({\n",
    "    'host': os.environ['RDS_HOSTNAME'],\n",
    "    'database': \"pteta_db\",\n",
    "    'user': \"postgres\",\n",
    "    'password': os.environ['RDS_PTETA_DB_PASSWORD']\n",
    "})\n",
    "\n",
    "monitor = TransGPSCVMonitor(connection_config=connection_config, data_model=\"kharkiv\")\n",
    "\n",
    "# file_path_list =list(Path(\"../data/local/tables/\").iterdir())\n",
    "file_path_list =list(Path(\"D:/projects/pet_project/tables\").iterdir())\n",
    "file_path_list = sorted(file_path_list, \n",
    "                        key=lambda p: datetime.strptime(p.name[9:-4], '%d_%b_%Y') )\n",
    "\n",
    "for folder_path in tqdm(kharkiv_folders_list[3:]):\n",
    "    \n",
    "    df = accumulate_responses_from_folder(folder_path)\n",
    "    df_u = clear_data(df)\n",
    "    \n",
    "#     df_sum = pd.read_csv(df_path, encoding='utf-8', low_memory=False)\n",
    "        \n",
    "#     if \"response_datetime\" not in df_sum: \n",
    "#         df_sum['response_datetime'] = None\n",
    "\n",
    "#     if not df_sum['imei'].dtype == 'O':\n",
    "#         df_sum['imei'] = df_sum['imei'].astype(str, copy=True)\n",
    "\n",
    "#     if not df_sum['busNumber'].dtype == 'O':\n",
    "#         df_sum['busNumber'] = df_sum['busNumber'].astype(str, copy=True)\n",
    "        \n",
    "    \n",
    "    df_cur = df_u[:]\n",
    "\n",
    "    batch_tqdm = tqdm(df_cur.groupby(np.arange(len(df_cur)) // BATCH_SIZE), \n",
    "                     mininterval=10)\n",
    "    for batch_number, batch_df in batch_tqdm:\n",
    "        batch_df = batch_df.where(pd.notnull(batch_df), None)\n",
    "        monitor.write_to_db(batch_df.to_dict('records'))"
   ]
  },
  {
   "cell_type": "code",
   "execution_count": 6,
   "id": "91375bd3-905f-444c-88d1-56aefc0e273e",
   "metadata": {
    "collapsed": true,
    "jupyter": {
     "outputs_hidden": true
    },
    "tags": []
   },
   "outputs": [
    {
     "data": {
      "text/plain": [
       "{PTETA.utils.transport.kharkiv.KharkivTransportOperator.KharkivTransportOperator: {KharkivTransportOperator(id=-1, name='UNKNOWN')},\n",
       " PTETA.utils.transport.kharkiv.KharkivTransportRoute.KharkivTransportRoute: {KharkivTransportRoute(id=-1),\n",
       "  KharkivTransportRoute(id=1),\n",
       "  KharkivTransportRoute(id=10),\n",
       "  KharkivTransportRoute(id=11),\n",
       "  KharkivTransportRoute(id=12),\n",
       "  KharkivTransportRoute(id=13),\n",
       "  KharkivTransportRoute(id=14),\n",
       "  KharkivTransportRoute(id=15),\n",
       "  KharkivTransportRoute(id=16),\n",
       "  KharkivTransportRoute(id=17),\n",
       "  KharkivTransportRoute(id=18),\n",
       "  KharkivTransportRoute(id=19),\n",
       "  KharkivTransportRoute(id=2),\n",
       "  KharkivTransportRoute(id=20),\n",
       "  KharkivTransportRoute(id=21),\n",
       "  KharkivTransportRoute(id=22),\n",
       "  KharkivTransportRoute(id=23),\n",
       "  KharkivTransportRoute(id=24),\n",
       "  KharkivTransportRoute(id=25),\n",
       "  KharkivTransportRoute(id=5),\n",
       "  KharkivTransportRoute(id=6),\n",
       "  KharkivTransportRoute(id=7),\n",
       "  KharkivTransportRoute(id=8),\n",
       "  KharkivTransportRoute(id=9)},\n",
       " PTETA.utils.transport.kharkiv.KharkivTransportVehicle.KharkivTransportVehicle: {KharkivTransportVehicle(id=1, imei='359633101209752', name='None', owner_id=-1),\n",
       "  KharkivTransportVehicle(id=10, imei='353976014238996', name='None', owner_id=-1),\n",
       "  KharkivTransportVehicle(id=11, imei='357544377520933', name='None', owner_id=-1),\n",
       "  KharkivTransportVehicle(id=12, imei='352625697708343', name='None', owner_id=-1),\n",
       "  KharkivTransportVehicle(id=13, imei='357544377516782', name='None', owner_id=-1),\n",
       "  KharkivTransportVehicle(id=14, imei='357544377507484', name='None', owner_id=-1),\n",
       "  KharkivTransportVehicle(id=15, imei='357544375057474', name='None', owner_id=-1),\n",
       "  KharkivTransportVehicle(id=16, imei='353976013858851', name='None', owner_id=-1),\n",
       "  KharkivTransportVehicle(id=17, imei='352625699910806', name='None', owner_id=-1),\n",
       "  KharkivTransportVehicle(id=18, imei='353976014019719', name='None', owner_id=-1),\n",
       "  KharkivTransportVehicle(id=19, imei='359632105001538', name='None', owner_id=-1),\n",
       "  KharkivTransportVehicle(id=2, imei='354017114780279', name='None', owner_id=-1),\n",
       "  KharkivTransportVehicle(id=20, imei='353976013846062', name='None', owner_id=-1),\n",
       "  KharkivTransportVehicle(id=21, imei='353976014316503', name='None', owner_id=-1),\n",
       "  KharkivTransportVehicle(id=22, imei='352625698689823', name='None', owner_id=-1),\n",
       "  KharkivTransportVehicle(id=23, imei='357544375034143', name='None', owner_id=-1),\n",
       "  KharkivTransportVehicle(id=24, imei='353976014210854', name='None', owner_id=-1),\n",
       "  KharkivTransportVehicle(id=25, imei='353976014205938', name='None', owner_id=-1),\n",
       "  KharkivTransportVehicle(id=26, imei='357544376209926', name='None', owner_id=-1),\n",
       "  KharkivTransportVehicle(id=27, imei='352625696031960', name='None', owner_id=-1),\n",
       "  KharkivTransportVehicle(id=28, imei='352625697679627', name='None', owner_id=-1),\n",
       "  KharkivTransportVehicle(id=29, imei='353976014023612', name='None', owner_id=-1),\n",
       "  KharkivTransportVehicle(id=3, imei='353976014023992', name='None', owner_id=-1),\n",
       "  KharkivTransportVehicle(id=30, imei='352094086897037', name='None', owner_id=-1),\n",
       "  KharkivTransportVehicle(id=31, imei='352625698599667', name='None', owner_id=-1),\n",
       "  KharkivTransportVehicle(id=32, imei='353976014195691', name='None', owner_id=-1),\n",
       "  KharkivTransportVehicle(id=33, imei='353976013846450', name='None', owner_id=-1),\n",
       "  KharkivTransportVehicle(id=34, imei='353976013861699', name='None', owner_id=-1),\n",
       "  KharkivTransportVehicle(id=35, imei='353976014021749', name='None', owner_id=-1),\n",
       "  KharkivTransportVehicle(id=36, imei='353976014249548', name='None', owner_id=-1),\n",
       "  KharkivTransportVehicle(id=4, imei='357544377505330', name='None', owner_id=-1),\n",
       "  KharkivTransportVehicle(id=5, imei='354017114829639', name='None', owner_id=-1),\n",
       "  KharkivTransportVehicle(id=6, imei='353976014016210', name='None', owner_id=-1),\n",
       "  KharkivTransportVehicle(id=7, imei='357544377521535', name='None', owner_id=-1),\n",
       "  KharkivTransportVehicle(id=8, imei='354017114785740', name='None', owner_id=-1),\n",
       "  KharkivTransportVehicle(id=9, imei='354330030970225', name='None', owner_id=-1)}}"
      ]
     },
     "execution_count": 6,
     "metadata": {},
     "output_type": "execute_result"
    }
   ],
   "source": [
    "monitor.objects_unique"
   ]
  },
  {
   "cell_type": "code",
   "execution_count": 7,
   "id": "5ae9816b-cfae-401f-b2a4-d04b20172096",
   "metadata": {},
   "outputs": [
    {
     "name": "stdout",
     "output_type": "stream",
     "text": [
      "There are 1 new <class 'PTETA.utils.transport.kharkiv.KharkivTransportRoute.KharkivTransportRoute'> to inserted in DB\n"
     ]
    },
    {
     "ename": "KeyError",
     "evalue": "KharkivTransportRoute(id=None)",
     "output_type": "error",
     "traceback": [
      "\u001b[1;31m---------------------------------------------------------------------------\u001b[0m",
      "\u001b[1;31mKeyError\u001b[0m                                  Traceback (most recent call last)",
      "\u001b[1;32m~\\AppData\\Local\\Temp\\ipykernel_12604\\3089867365.py\u001b[0m in \u001b[0;36m<module>\u001b[1;34m\u001b[0m\n\u001b[0;32m      9\u001b[0m \u001b[1;32mfor\u001b[0m \u001b[0mi\u001b[0m\u001b[1;33m,\u001b[0m \u001b[1;33m(\u001b[0m\u001b[0mvehicle\u001b[0m\u001b[1;33m,\u001b[0m \u001b[0mroute\u001b[0m\u001b[1;33m)\u001b[0m \u001b[1;32min\u001b[0m \u001b[0menumerate\u001b[0m\u001b[1;33m(\u001b[0m\u001b[0mzip\u001b[0m\u001b[1;33m(\u001b[0m\u001b[0mvehicle_list\u001b[0m\u001b[1;33m,\u001b[0m \u001b[0mroute_list\u001b[0m\u001b[1;33m)\u001b[0m\u001b[1;33m)\u001b[0m\u001b[1;33m:\u001b[0m\u001b[1;33m\u001b[0m\u001b[1;33m\u001b[0m\u001b[0m\n\u001b[0;32m     10\u001b[0m     \u001b[0mavl_data_list\u001b[0m\u001b[1;33m[\u001b[0m\u001b[0mi\u001b[0m\u001b[1;33m]\u001b[0m\u001b[1;33m.\u001b[0m\u001b[0mvehicle_id\u001b[0m \u001b[1;33m=\u001b[0m \u001b[0mmonitor\u001b[0m\u001b[1;33m.\u001b[0m\u001b[0mvehicle_to_id\u001b[0m\u001b[1;33m[\u001b[0m\u001b[0mvehicle\u001b[0m\u001b[1;33m]\u001b[0m\u001b[1;33m\u001b[0m\u001b[1;33m\u001b[0m\u001b[0m\n\u001b[1;32m---> 11\u001b[1;33m     \u001b[0mavl_data_list\u001b[0m\u001b[1;33m[\u001b[0m\u001b[0mi\u001b[0m\u001b[1;33m]\u001b[0m\u001b[1;33m.\u001b[0m\u001b[0mroute_id\u001b[0m \u001b[1;33m=\u001b[0m \u001b[0mmonitor\u001b[0m\u001b[1;33m.\u001b[0m\u001b[0mroute_to_id\u001b[0m\u001b[1;33m[\u001b[0m\u001b[0mroute\u001b[0m\u001b[1;33m]\u001b[0m\u001b[1;33m\u001b[0m\u001b[1;33m\u001b[0m\u001b[0m\n\u001b[0m",
      "\u001b[1;31mKeyError\u001b[0m: KharkivTransportRoute(id=None)"
     ]
    }
   ],
   "source": [
    "operator_list, route_list, vehicle_list, avl_data_list = monitor.decompose_response(batch_df.to_dict('records'))\n",
    "\n",
    "for obj_list in [operator_list, route_list, vehicle_list]:\n",
    "    new_obj = monitor.get_new_objs(obj_list)\n",
    "    if new_obj:\n",
    "        print(f\"There are {len(new_obj)} new {new_obj[0].__class__} to inserted in DB\")\n",
    "        monitor.update_db(new_obj)\n",
    "\n",
    "for i, (vehicle, route) in enumerate(zip(vehicle_list, route_list)):\n",
    "    avl_data_list[i].vehicle_id = monitor.vehicle_to_id[vehicle]\n",
    "    avl_data_list[i].route_id = monitor.route_to_id[route]\n"
   ]
  },
  {
   "cell_type": "code",
   "execution_count": 8,
   "id": "309ef37f-92ac-4119-b9c5-e95d910323d8",
   "metadata": {},
   "outputs": [
    {
     "data": {
      "text/plain": [
       "(732,\n",
       " (KharkivTransportVehicle(id=None, imei='353976014249548', name='None', owner_id=-1),\n",
       "  KharkivTransportRoute(id=None)))"
      ]
     },
     "execution_count": 8,
     "metadata": {},
     "output_type": "execute_result"
    }
   ],
   "source": [
    "i, (vehicle, route)"
   ]
  },
  {
   "cell_type": "code",
   "execution_count": 9,
   "id": "2f767c75-08fb-4d8a-8300-9df62cb51fee",
   "metadata": {},
   "outputs": [
    {
     "data": {
      "text/plain": [
       "(None, '27', 1)"
      ]
     },
     "execution_count": 9,
     "metadata": {},
     "output_type": "execute_result"
    }
   ],
   "source": [
    "route.id, route.name, route.type"
   ]
  },
  {
   "cell_type": "code",
   "execution_count": null,
   "id": "c9ce9570-3e86-485f-850e-5ff346fe6c21",
   "metadata": {},
   "outputs": [],
   "source": [
    "route.__"
   ]
  },
  {
   "cell_type": "code",
   "execution_count": 10,
   "id": "7edcd5fa-d602-4c3b-b64a-70f13a00a0fb",
   "metadata": {},
   "outputs": [
    {
     "data": {
      "text/plain": [
       "[(8, '8', 1),\n",
       " (25, '28', 1),\n",
       " (9, '208', 3),\n",
       " (16, '3', 2),\n",
       " (23, '75', 3),\n",
       " (6, '204', 3),\n",
       " (22, '68', 3),\n",
       " (15, '206', 3),\n",
       " (14, '212', 3),\n",
       " (19, '51', 2),\n",
       " (-1, 'UNKNOWN', -1),\n",
       " (17, '1', 2),\n",
       " (21, '20', 1),\n",
       " (18, '6', 2),\n",
       " (7, '45', 2),\n",
       " (12, '35', 2),\n",
       " (11, '46', 2),\n",
       " (1, '52', 2),\n",
       " (2, '55', 2),\n",
       " (5, '24', 2),\n",
       " (20, '13', 2),\n",
       " (13, '72', 3),\n",
       " (10, '34', 2),\n",
       " (24, '27', 2)]"
      ]
     },
     "execution_count": 10,
     "metadata": {},
     "output_type": "execute_result"
    }
   ],
   "source": [
    "[(r.id, r.name, r.type) for r in monitor.objects_unique[route.__class__]]"
   ]
  },
  {
   "cell_type": "code",
   "execution_count": 7,
   "id": "3f29b94c-dd47-476d-a0c0-556675f67de4",
   "metadata": {},
   "outputs": [
    {
     "name": "stderr",
     "output_type": "stream",
     "text": [
      "  0%|          | 0/124 [00:00<?, ?it/s]"
     ]
    },
    {
     "name": "stdout",
     "output_type": "stream",
     "text": [
      "There are 2 new <class 'PTETA.utils.transport.kharkiv.KharkivTransportRoute.KharkivTransportRoute'> to inserted in DB\n",
      "Error raised while select <class 'PTETA.utils.transport.kharkiv.KharkivTransportRoute.KharkivTransportRoute'> '[KharkivTransportRoute(id=None, name='52', type=2), KharkivTransportRoute(id=None, name='55', type=2)]'\n"
     ]
    },
    {
     "name": "stderr",
     "output_type": "stream",
     "text": [
      "\n"
     ]
    },
    {
     "ename": "SyntaxError",
     "evalue": "syntax error at or near \"AND\"\nLINE 1: SELECT \"name\", \"type\" FROM kharkiv.route  WHERE ( AND \"name\"...\n                                                          ^\n",
     "output_type": "error",
     "traceback": [
      "\u001b[1;31m---------------------------------------------------------------------------\u001b[0m",
      "\u001b[1;31mSyntaxError\u001b[0m                               Traceback (most recent call last)",
      "\u001b[1;32m~\\AppData\\Local\\Temp\\ipykernel_12996\\2812780026.py\u001b[0m in \u001b[0;36m<module>\u001b[1;34m\u001b[0m\n\u001b[0;32m      5\u001b[0m \u001b[1;32mfor\u001b[0m \u001b[0mbatch_number\u001b[0m\u001b[1;33m,\u001b[0m \u001b[0mbatch_df\u001b[0m \u001b[1;32min\u001b[0m \u001b[0mbatch_tqdm\u001b[0m\u001b[1;33m:\u001b[0m\u001b[1;33m\u001b[0m\u001b[1;33m\u001b[0m\u001b[0m\n\u001b[0;32m      6\u001b[0m     \u001b[0mbatch_df\u001b[0m \u001b[1;33m=\u001b[0m \u001b[0mbatch_df\u001b[0m\u001b[1;33m.\u001b[0m\u001b[0mwhere\u001b[0m\u001b[1;33m(\u001b[0m\u001b[0mpd\u001b[0m\u001b[1;33m.\u001b[0m\u001b[0mnotnull\u001b[0m\u001b[1;33m(\u001b[0m\u001b[0mbatch_df\u001b[0m\u001b[1;33m)\u001b[0m\u001b[1;33m,\u001b[0m \u001b[1;32mNone\u001b[0m\u001b[1;33m)\u001b[0m\u001b[1;33m\u001b[0m\u001b[1;33m\u001b[0m\u001b[0m\n\u001b[1;32m----> 7\u001b[1;33m     \u001b[0mmonitor\u001b[0m\u001b[1;33m.\u001b[0m\u001b[0mwrite_to_db\u001b[0m\u001b[1;33m(\u001b[0m\u001b[0mbatch_df\u001b[0m\u001b[1;33m.\u001b[0m\u001b[0mto_dict\u001b[0m\u001b[1;33m(\u001b[0m\u001b[1;34m'records'\u001b[0m\u001b[1;33m)\u001b[0m\u001b[1;33m)\u001b[0m\u001b[1;33m\u001b[0m\u001b[1;33m\u001b[0m\u001b[0m\n\u001b[0m",
      "\u001b[1;32mD:\\projects\\PTETA\\aws\\src\\TransGPSCVMonitor.py\u001b[0m in \u001b[0;36mwrite_to_db\u001b[1;34m(self, response)\u001b[0m\n\u001b[0;32m    138\u001b[0m             \u001b[1;32mif\u001b[0m \u001b[0mnew_obj\u001b[0m\u001b[1;33m:\u001b[0m\u001b[1;33m\u001b[0m\u001b[1;33m\u001b[0m\u001b[0m\n\u001b[0;32m    139\u001b[0m                 \u001b[0mprint\u001b[0m\u001b[1;33m(\u001b[0m\u001b[1;34mf\"There are {len(new_obj)} new {new_obj[0].__class__} to inserted in DB\"\u001b[0m\u001b[1;33m)\u001b[0m\u001b[1;33m\u001b[0m\u001b[1;33m\u001b[0m\u001b[0m\n\u001b[1;32m--> 140\u001b[1;33m                 \u001b[0mself\u001b[0m\u001b[1;33m.\u001b[0m\u001b[0mupdate_db\u001b[0m\u001b[1;33m(\u001b[0m\u001b[0mnew_obj\u001b[0m\u001b[1;33m)\u001b[0m\u001b[1;33m\u001b[0m\u001b[1;33m\u001b[0m\u001b[0m\n\u001b[0m\u001b[0;32m    141\u001b[0m \u001b[1;33m\u001b[0m\u001b[0m\n\u001b[0;32m    142\u001b[0m         \u001b[1;32mfor\u001b[0m \u001b[0mi\u001b[0m\u001b[1;33m,\u001b[0m \u001b[1;33m(\u001b[0m\u001b[0mvehicle\u001b[0m\u001b[1;33m,\u001b[0m \u001b[0mroute\u001b[0m\u001b[1;33m)\u001b[0m \u001b[1;32min\u001b[0m \u001b[0menumerate\u001b[0m\u001b[1;33m(\u001b[0m\u001b[0mzip\u001b[0m\u001b[1;33m(\u001b[0m\u001b[0mvehicle_list\u001b[0m\u001b[1;33m,\u001b[0m \u001b[0mroute_list\u001b[0m\u001b[1;33m)\u001b[0m\u001b[1;33m)\u001b[0m\u001b[1;33m:\u001b[0m\u001b[1;33m\u001b[0m\u001b[1;33m\u001b[0m\u001b[0m\n",
      "\u001b[1;32mD:\\projects\\PTETA\\aws\\src\\TransGPSCVMonitor.py\u001b[0m in \u001b[0;36mupdate_db\u001b[1;34m(self, obj_list)\u001b[0m\n\u001b[0;32m     93\u001b[0m     \u001b[1;32mdef\u001b[0m \u001b[0mupdate_db\u001b[0m\u001b[1;33m(\u001b[0m\u001b[0mself\u001b[0m\u001b[1;33m,\u001b[0m \u001b[0mobj_list\u001b[0m\u001b[1;33m:\u001b[0m \u001b[0mList\u001b[0m\u001b[1;33m[\u001b[0m\u001b[0mBaseDBAccessDataclass\u001b[0m\u001b[1;33m]\u001b[0m\u001b[1;33m)\u001b[0m\u001b[1;33m:\u001b[0m\u001b[1;33m\u001b[0m\u001b[1;33m\u001b[0m\u001b[0m\n\u001b[0;32m     94\u001b[0m         \u001b[0mcurrent_class\u001b[0m \u001b[1;33m=\u001b[0m \u001b[0mobj_list\u001b[0m\u001b[1;33m[\u001b[0m\u001b[1;36m0\u001b[0m\u001b[1;33m]\u001b[0m\u001b[1;33m.\u001b[0m\u001b[0m__class__\u001b[0m\u001b[1;33m\u001b[0m\u001b[1;33m\u001b[0m\u001b[0m\n\u001b[1;32m---> 95\u001b[1;33m         \u001b[0mare_in_db_list\u001b[0m \u001b[1;33m=\u001b[0m \u001b[0mcurrent_class\u001b[0m\u001b[1;33m.\u001b[0m\u001b[0mare_in_table\u001b[0m\u001b[1;33m(\u001b[0m\u001b[0mself\u001b[0m\u001b[1;33m.\u001b[0m\u001b[0mdb_connection\u001b[0m\u001b[1;33m,\u001b[0m \u001b[0mobj_list\u001b[0m\u001b[1;33m)\u001b[0m\u001b[1;33m\u001b[0m\u001b[1;33m\u001b[0m\u001b[0m\n\u001b[0m\u001b[0;32m     96\u001b[0m \u001b[1;33m\u001b[0m\u001b[0m\n\u001b[0;32m     97\u001b[0m         obj_to_insert = [obj\n",
      "\u001b[1;32mD:\\projects\\PTETA\\PTETA\\utils\\transport\\BaseDBAccessDataclass.py\u001b[0m in \u001b[0;36mare_in_table\u001b[1;34m(cls, connection, obj_list)\u001b[0m\n\u001b[0;32m     40\u001b[0m                 \u001b[0mconnection\u001b[0m\u001b[1;33m.\u001b[0m\u001b[0mrollback\u001b[0m\u001b[1;33m(\u001b[0m\u001b[1;33m)\u001b[0m\u001b[1;33m\u001b[0m\u001b[1;33m\u001b[0m\u001b[0m\n\u001b[0;32m     41\u001b[0m                 \u001b[0mprint\u001b[0m\u001b[1;33m(\u001b[0m\u001b[1;34mf\"Error raised while select {cls} '{obj_list}'\"\u001b[0m\u001b[1;33m)\u001b[0m\u001b[1;33m\u001b[0m\u001b[1;33m\u001b[0m\u001b[0m\n\u001b[1;32m---> 42\u001b[1;33m                 \u001b[1;32mraise\u001b[0m \u001b[0merr\u001b[0m\u001b[1;33m\u001b[0m\u001b[1;33m\u001b[0m\u001b[0m\n\u001b[0m\u001b[0;32m     43\u001b[0m \u001b[1;33m\u001b[0m\u001b[0m\n\u001b[0;32m     44\u001b[0m     \u001b[1;32mdef\u001b[0m \u001b[0minsert_in_table\u001b[0m\u001b[1;33m(\u001b[0m\u001b[0mself\u001b[0m\u001b[1;33m,\u001b[0m \u001b[0mconnection\u001b[0m\u001b[1;33m:\u001b[0m \u001b[0mConnection\u001b[0m\u001b[1;33m)\u001b[0m \u001b[1;33m->\u001b[0m \u001b[1;32mNone\u001b[0m\u001b[1;33m:\u001b[0m\u001b[1;33m\u001b[0m\u001b[1;33m\u001b[0m\u001b[0m\n",
      "\u001b[1;32mD:\\projects\\PTETA\\PTETA\\utils\\transport\\BaseDBAccessDataclass.py\u001b[0m in \u001b[0;36mare_in_table\u001b[1;34m(cls, connection, obj_list)\u001b[0m\n\u001b[0;32m     34\u001b[0m         \u001b[1;32mwith\u001b[0m \u001b[0mconnection\u001b[0m\u001b[1;33m.\u001b[0m\u001b[0mcursor\u001b[0m\u001b[1;33m(\u001b[0m\u001b[1;33m)\u001b[0m \u001b[1;32mas\u001b[0m \u001b[0mcursor\u001b[0m\u001b[1;33m:\u001b[0m\u001b[1;33m\u001b[0m\u001b[1;33m\u001b[0m\u001b[0m\n\u001b[0;32m     35\u001b[0m             \u001b[1;32mtry\u001b[0m\u001b[1;33m:\u001b[0m\u001b[1;33m\u001b[0m\u001b[1;33m\u001b[0m\u001b[0m\n\u001b[1;32m---> 36\u001b[1;33m                 \u001b[0mcursor\u001b[0m\u001b[1;33m.\u001b[0m\u001b[0mexecute\u001b[0m\u001b[1;33m(\u001b[0m\u001b[0msql\u001b[0m\u001b[1;33m)\u001b[0m\u001b[1;33m\u001b[0m\u001b[1;33m\u001b[0m\u001b[0m\n\u001b[0m\u001b[0;32m     37\u001b[0m                 \u001b[0mresponse_set\u001b[0m \u001b[1;33m=\u001b[0m \u001b[0mset\u001b[0m\u001b[1;33m(\u001b[0m\u001b[1;33m[\u001b[0m\u001b[0mcls\u001b[0m\u001b[1;33m(\u001b[0m\u001b[1;33m*\u001b[0m\u001b[0mrow\u001b[0m\u001b[1;33m)\u001b[0m \u001b[1;32mfor\u001b[0m \u001b[0mrow\u001b[0m \u001b[1;32min\u001b[0m \u001b[0mcursor\u001b[0m\u001b[1;33m.\u001b[0m\u001b[0mfetchall\u001b[0m\u001b[1;33m(\u001b[0m\u001b[1;33m)\u001b[0m\u001b[1;33m]\u001b[0m\u001b[1;33m)\u001b[0m\u001b[1;33m\u001b[0m\u001b[1;33m\u001b[0m\u001b[0m\n\u001b[0;32m     38\u001b[0m                 \u001b[1;32mreturn\u001b[0m \u001b[1;33m[\u001b[0m\u001b[0mobj\u001b[0m \u001b[1;32min\u001b[0m \u001b[0mresponse_set\u001b[0m \u001b[1;32mfor\u001b[0m \u001b[0mobj\u001b[0m \u001b[1;32min\u001b[0m \u001b[0mobj_list\u001b[0m\u001b[1;33m]\u001b[0m\u001b[1;33m\u001b[0m\u001b[1;33m\u001b[0m\u001b[0m\n",
      "\u001b[1;31mSyntaxError\u001b[0m: syntax error at or near \"AND\"\nLINE 1: SELECT \"name\", \"type\" FROM kharkiv.route  WHERE ( AND \"name\"...\n                                                          ^\n"
     ]
    }
   ],
   "source": [
    "#     df_cur = df_u[:]\n",
    "\n",
    "batch_tqdm = tqdm(df_cur.groupby(np.arange(len(df_cur)) // BATCH_SIZE), \n",
    "                  miniters=40)\n",
    "for batch_number, batch_df in batch_tqdm:\n",
    "    batch_df = batch_df.where(pd.notnull(batch_df), None)\n",
    "    monitor.write_to_db(batch_df.to_dict('records'))"
   ]
  },
  {
   "cell_type": "markdown",
   "id": "803d0232-1878-42cd-abff-897330bca1eb",
   "metadata": {},
   "source": [
    "## TransportRoute"
   ]
  },
  {
   "cell_type": "code",
   "execution_count": 7,
   "id": "b2024837-e775-4f72-88c9-b09c241c0f03",
   "metadata": {},
   "outputs": [
    {
     "data": {
      "text/plain": [
       "['route_name', 'route_colour']"
      ]
     },
     "execution_count": 7,
     "metadata": {},
     "output_type": "execute_result"
    }
   ],
   "source": [
    "TransportRoute.__insert_columns__().replace('\"', '').split(', ')[1:]"
   ]
  },
  {
   "cell_type": "code",
   "execution_count": 28,
   "id": "65ef4651-6170-4469-9d80-2b457a43f825",
   "metadata": {},
   "outputs": [],
   "source": [
    "cols = [\"routeId\", 'routeName', 'routeColour']\n",
    "route_list = [TransportRoute.from_response_row(row) for row in df_sum[cols].drop_duplicates().to_dict('records')]\n",
    "len(route_list), route_list[:3]\n",
    "TransportRoute.insert_many_in_table(conn, route_list)"
   ]
  },
  {
   "cell_type": "code",
   "execution_count": 32,
   "id": "e3f3fc79-26de-4beb-b29f-c64a5403df84",
   "metadata": {
    "collapsed": true,
    "jupyter": {
     "outputs_hidden": true
    },
    "tags": []
   },
   "outputs": [
    {
     "data": {
      "text/plain": [
       "[TransportRoute(id=37, name='T', colour='coral'),\n",
       " TransportRoute(id=31, name='6/6a', colour='deeppink'),\n",
       " TransportRoute(id=21, name='38', colour='deeppink'),\n",
       " TransportRoute(id=41, name='10A', colour='black'),\n",
       " TransportRoute(id=20, name='A', colour='navy'),\n",
       " TransportRoute(id=42, name='39', colour='coral'),\n",
       " TransportRoute(id=23, name='19', colour='teal'),\n",
       " TransportRoute(id=19, name='10', colour='black'),\n",
       " TransportRoute(id=11, name='9', colour='magenta'),\n",
       " TransportRoute(id=2, name='11', colour='green'),\n",
       " TransportRoute(id=6, name='4', colour='magenta'),\n",
       " TransportRoute(id=27, name='3/3a', colour='green'),\n",
       " TransportRoute(id=16, name='2', colour='green'),\n",
       " TransportRoute(id=4, name='5', colour='orange'),\n",
       " TransportRoute(id=3, name='12', colour='blue'),\n",
       " TransportRoute(id=12, name='20', colour='maroon'),\n",
       " TransportRoute(id=7, name='6', colour='sienna'),\n",
       " TransportRoute(id=10, name='34', colour='navy'),\n",
       " TransportRoute(id=45, name='1', colour='navy'),\n",
       " TransportRoute(id=9, name='27', colour='black'),\n",
       " TransportRoute(id=38, name='1T', colour='grey'),\n",
       " TransportRoute(id=49, name='2A', colour='red'),\n",
       " TransportRoute(id=5, name='13', colour='brown'),\n",
       " TransportRoute(id=33, name='8T', colour='coral'),\n",
       " TransportRoute(id=17, name='23', colour='red'),\n",
       " TransportRoute(id=48, name='1A', colour='olive'),\n",
       " TransportRoute(id=14, name='9A', colour='magenta'),\n",
       " TransportRoute(id=26, name='4T', colour='purple'),\n",
       " TransportRoute(id=25, name='2T', colour='olive'),\n",
       " TransportRoute(id=39, name='5T', colour='maroon'),\n",
       " TransportRoute(id=34, name='11/3', colour='teal')]"
      ]
     },
     "execution_count": 32,
     "metadata": {},
     "output_type": "execute_result"
    }
   ],
   "source": [
    "TransportRoute.get_table(conn)"
   ]
  },
  {
   "cell_type": "code",
   "execution_count": 13,
   "id": "db79201d-b8f6-4210-8e5d-7a3527d99efe",
   "metadata": {},
   "outputs": [],
   "source": [
    "# df_sum[TransportRoute.__insert_columns__().replace('\"', '').split(', ')[1:]].value_counts()"
   ]
  },
  {
   "cell_type": "code",
   "execution_count": 27,
   "id": "7962a53d-4491-4335-8219-3badba381963",
   "metadata": {},
   "outputs": [],
   "source": [
    "conn.rollback()"
   ]
  },
  {
   "cell_type": "code",
   "execution_count": 45,
   "id": "656c313d-e60c-44fe-b9f7-7df2ac28af09",
   "metadata": {
    "tags": []
   },
   "outputs": [],
   "source": [
    "SQL_big_req = \" \".join([create_sql_req(t) for t in trans_vehicle_list])"
   ]
  },
  {
   "cell_type": "code",
   "execution_count": 29,
   "id": "16cd9f5e-0f22-4c03-b6a2-007dfc75471b",
   "metadata": {},
   "outputs": [
    {
     "data": {
      "text/plain": [
       "31"
      ]
     },
     "execution_count": 29,
     "metadata": {},
     "output_type": "execute_result"
    }
   ],
   "source": [
    "route_list = TransportRoute.get_table(conn)[:]\n",
    "len(route_list)"
   ]
  },
  {
   "cell_type": "code",
   "execution_count": 30,
   "id": "703e8efe-7133-46a1-a6a1-2a2a37d93fe5",
   "metadata": {
    "collapsed": true,
    "jupyter": {
     "outputs_hidden": true
    },
    "tags": []
   },
   "outputs": [
    {
     "data": {
      "text/plain": [
       "[False,\n",
       " True,\n",
       " False,\n",
       " True,\n",
       " False,\n",
       " True,\n",
       " False,\n",
       " True,\n",
       " False,\n",
       " True,\n",
       " False,\n",
       " True,\n",
       " False,\n",
       " True,\n",
       " False,\n",
       " True,\n",
       " False,\n",
       " True,\n",
       " False,\n",
       " True,\n",
       " False,\n",
       " True,\n",
       " False,\n",
       " True,\n",
       " False,\n",
       " True,\n",
       " False,\n",
       " True,\n",
       " False,\n",
       " True,\n",
       " False]"
      ]
     },
     "execution_count": 30,
     "metadata": {},
     "output_type": "execute_result"
    }
   ],
   "source": [
    "for r in route_list[::2]: \n",
    "    r.id += 1\n",
    "TransportRoute.are_in_table(conn, route_list)"
   ]
  },
  {
   "cell_type": "code",
   "execution_count": 31,
   "id": "d7a52b7b-5720-4b93-ab34-36c661fd52c8",
   "metadata": {
    "collapsed": true,
    "jupyter": {
     "outputs_hidden": true
    },
    "tags": []
   },
   "outputs": [
    {
     "data": {
      "text/plain": [
       "[False,\n",
       " True,\n",
       " False,\n",
       " True,\n",
       " False,\n",
       " True,\n",
       " False,\n",
       " True,\n",
       " False,\n",
       " True,\n",
       " False,\n",
       " True,\n",
       " False,\n",
       " True,\n",
       " False,\n",
       " True,\n",
       " False,\n",
       " True,\n",
       " False,\n",
       " True,\n",
       " False,\n",
       " True,\n",
       " False,\n",
       " True,\n",
       " False,\n",
       " True,\n",
       " False,\n",
       " True,\n",
       " False,\n",
       " True,\n",
       " False]"
      ]
     },
     "execution_count": 31,
     "metadata": {},
     "output_type": "execute_result"
    }
   ],
   "source": [
    "TransportRoute.are_in_table(conn, route_list)"
   ]
  },
  {
   "cell_type": "code",
   "execution_count": 14,
   "id": "12a3eb91-8eda-470e-b985-4d5109cb424d",
   "metadata": {},
   "outputs": [],
   "source": [
    "for r in route_list: \n",
    "    r.name += \"_\"\n",
    "    r.id += 100"
   ]
  },
  {
   "cell_type": "code",
   "execution_count": 16,
   "id": "b0b4c455-15fa-4939-a6df-6012fad411fd",
   "metadata": {},
   "outputs": [],
   "source": [
    "# sql = f\"\"\"INSERT INTO pteta.route(\"id\", \"routeName\", \"routeColour\") VALUES \"\"\" + \\\n",
    "#               \", \".join([f\"\"\"({obj.id}, '{obj.name}', '{obj.colour}')\"\"\"\n",
    "#                         for obj in route_list]) + \";\"\n",
    "# sql"
   ]
  },
  {
   "cell_type": "code",
   "execution_count": 17,
   "id": "9054b72a-afb6-4087-a95a-21c876e097ff",
   "metadata": {},
   "outputs": [],
   "source": [
    "# route_list"
   ]
  },
  {
   "cell_type": "code",
   "execution_count": 18,
   "id": "77dd36c5-49ad-4a86-9de9-5282adf24302",
   "metadata": {},
   "outputs": [],
   "source": [
    "TransportRoute.insert_many_in_table(conn, route_list)"
   ]
  },
  {
   "cell_type": "code",
   "execution_count": null,
   "id": "3dd59c3b-6a83-466c-b8f2-cce11a645f0b",
   "metadata": {},
   "outputs": [],
   "source": []
  },
  {
   "cell_type": "markdown",
   "id": "e38b678e-784c-45d1-89cb-4d9d3ae77d45",
   "metadata": {},
   "source": [
    "## Test TransportVehicle"
   ]
  },
  {
   "cell_type": "code",
   "execution_count": 33,
   "id": "37129939-f633-4b44-9c44-10b313e3fa3b",
   "metadata": {},
   "outputs": [
    {
     "data": {
      "text/plain": [
       "'\"imei\", \"name\", \"bus_number\", \"remark\", \"perev_id\"'"
      ]
     },
     "execution_count": 33,
     "metadata": {},
     "output_type": "execute_result"
    }
   ],
   "source": [
    "TransportVehicle.__insert_columns__()"
   ]
  },
  {
   "cell_type": "code",
   "execution_count": 45,
   "id": "1a237457-a881-4e69-b1d0-96cf2aec4cd2",
   "metadata": {},
   "outputs": [],
   "source": [
    "cols = [\"imei\", \"name\", \"busNumber\", \"remark\", \"perevId\"]\n",
    "vehicle_list = [TransportVehicle.from_response_row(row) for row in df_sum[cols].drop_duplicates().to_dict('records')]\n",
    "len(vehicle_list), vehicle_list[:3]\n",
    "TransportVehicle.insert_many_in_table(conn, vehicle_list)"
   ]
  },
  {
   "cell_type": "code",
   "execution_count": 47,
   "id": "0a278005-dc97-4114-af59-483e17bf6999",
   "metadata": {},
   "outputs": [
    {
     "data": {
      "text/plain": [
       "99"
      ]
     },
     "execution_count": 47,
     "metadata": {},
     "output_type": "execute_result"
    }
   ],
   "source": [
    "vehicle_list = TransportVehicle.get_table(conn)\n",
    "len(vehicle_list)"
   ]
  },
  {
   "cell_type": "code",
   "execution_count": 48,
   "id": "37989ed4-30f7-4b97-8258-6be17ba1e290",
   "metadata": {},
   "outputs": [
    {
     "data": {
      "text/plain": [
       "[True, True, True, True, True]"
      ]
     },
     "execution_count": 48,
     "metadata": {},
     "output_type": "execute_result"
    }
   ],
   "source": [
    "TransportVehicle.are_in_table(conn, vehicle_list[:5])"
   ]
  },
  {
   "cell_type": "code",
   "execution_count": 49,
   "id": "81b128d1-6b40-4c94-bf2e-874e2544693e",
   "metadata": {},
   "outputs": [
    {
     "data": {
      "text/plain": [
       "True"
      ]
     },
     "execution_count": 49,
     "metadata": {},
     "output_type": "execute_result"
    }
   ],
   "source": [
    "vehicle_list[5].is_in_table(conn)"
   ]
  },
  {
   "cell_type": "code",
   "execution_count": null,
   "id": "ba9ba8f8-9ed4-47ba-94cd-7c20ac1c33cd",
   "metadata": {},
   "outputs": [],
   "source": []
  },
  {
   "cell_type": "code",
   "execution_count": 50,
   "id": "3d5e7733-09f4-4ae0-a3b3-c62900a8dc58",
   "metadata": {},
   "outputs": [
    {
     "data": {
      "text/plain": [
       "False"
      ]
     },
     "execution_count": 50,
     "metadata": {},
     "output_type": "execute_result"
    }
   ],
   "source": [
    "obj = vehicle_list[0]\n",
    "obj.imei += \"-\"\n",
    "obj.is_in_table(conn)"
   ]
  },
  {
   "cell_type": "code",
   "execution_count": 51,
   "id": "385b8a30-87af-4551-9f70-75ea85e14bd3",
   "metadata": {},
   "outputs": [],
   "source": [
    "obj.insert_in_table(conn)"
   ]
  },
  {
   "cell_type": "code",
   "execution_count": 52,
   "id": "7d90f8bb-b0f0-4f3c-9194-0ac4af260719",
   "metadata": {},
   "outputs": [],
   "source": [
    "for v in vehicle_list[:10]: \n",
    "    v.imei += '_'"
   ]
  },
  {
   "cell_type": "code",
   "execution_count": 15,
   "id": "6c25cab4-914c-4f61-a724-f199b51f0196",
   "metadata": {},
   "outputs": [],
   "source": [
    "TransportVehicle.insert_many_in_table(conn, vehicle_list[:10])"
   ]
  },
  {
   "cell_type": "code",
   "execution_count": 31,
   "id": "2a0af8f2-07a4-4991-8bd7-3bdfeb81b952",
   "metadata": {},
   "outputs": [],
   "source": [
    "obj.insert_in_table(conn)\n",
    "obj.is_in_table(conn)"
   ]
  },
  {
   "cell_type": "code",
   "execution_count": null,
   "id": "04400c12-3466-4c91-b027-93be01673c03",
   "metadata": {},
   "outputs": [],
   "source": []
  },
  {
   "cell_type": "code",
   "execution_count": 14,
   "id": "82a79e2d-325a-4dd6-82ef-e213a1f80469",
   "metadata": {},
   "outputs": [
    {
     "name": "stdout",
     "output_type": "stream",
     "text": [
      "TransportVehicle(id=None, imei='355227045600830', name='A178', busNumber='310', remark='Тролейбус 310 DNSNK', perevId=6, routeId=37)\n",
      "TransportVehicle(id=1, imei='355227045600830', name='A178', busNumber='310', remark='Тролейбус 310 DNSNK', perevId=6, routeId=37)\n"
     ]
    }
   ],
   "source": [
    "vehicle_list[0].id = None\n",
    "print(vehicle_list[0])\n",
    "vehicle_list[0].update_id_from_table(conn)\n",
    "print(vehicle_list[0])"
   ]
  },
  {
   "cell_type": "code",
   "execution_count": 34,
   "id": "9e1c1879-1060-45ac-ad9d-18991161f2f2",
   "metadata": {
    "tags": []
   },
   "outputs": [
    {
     "data": {
      "text/plain": [
       "[TransportVehicle(id=222, imei='355227045600830-__', name='A178', busNumber='310', remark='Тролейбус 310 DNSNK', perevId=6, routeId=37),\n",
       " TransportVehicle(id=2, imei='355227046451662__', name='H76', busNumber='350', remark='Тролейбус 350 DNSNTNK', perevId=6, routeId=31),\n",
       " TransportVehicle(id=3, imei='355227045369527__', name='A6', busNumber='3557', remark='3557 DNSNK ', perevId=12, routeId=21),\n",
       " TransportVehicle(id=4, imei='355227045540176__', name='A83', busNumber='5150', remark=' 5150 DNS', perevId=7, routeId=41),\n",
       " TransportVehicle(id=5, imei='355227046453387__', name='H75', busNumber='3627', remark='3627 DNSNTNK', perevId=1, routeId=20),\n",
       " TransportVehicle(id=6, imei='355228042084283__', name='A207', busNumber='1032', remark='1032 DNSNK', perevId=13, routeId=42),\n",
       " TransportVehicle(id=7, imei='355227045371655__', name='A1', busNumber='6513', remark='6513 DNSNK', perevId=7, routeId=23),\n",
       " TransportVehicle(id=8, imei='355227046451407__', name='H68', busNumber='0855', remark='0855 DNSNTNK', perevId=13, routeId=42),\n",
       " TransportVehicle(id=9, imei='355227046578332__', name='A189', busNumber='6518', remark='6518 DNSNK ', perevId=7, routeId=19),\n",
       " TransportVehicle(id=10, imei='355228043199379__', name='H99', busNumber='1176', remark='1176 DNSNTNK', perevId=12, routeId=21),\n",
       " TransportVehicle(id=11, imei='355227046504098', name='A195', busNumber='0854', remark='0854 DNSNK', perevId=13, routeId=42),\n",
       " TransportVehicle(id=12, imei='355227046504098', name='A195', busNumber='0854', remark='0854 DNSNK', perevId=13, routeId=11),\n",
       " TransportVehicle(id=13, imei='355227046451027', name='H24', busNumber='0738', remark='0738 DNSNTNK', perevId=1, routeId=2)]"
      ]
     },
     "execution_count": 34,
     "metadata": {},
     "output_type": "execute_result"
    }
   ],
   "source": [
    "for v in vehicle_list[:10]: \n",
    "    v.imei += '__'\n",
    "\n",
    "vehicle_list[:13]"
   ]
  },
  {
   "cell_type": "code",
   "execution_count": null,
   "id": "65587fa2-bd59-4efc-b155-56a4472d7c1d",
   "metadata": {},
   "outputs": [],
   "source": []
  },
  {
   "cell_type": "markdown",
   "id": "12b4864c-12ee-4bdc-8fc8-0504368bfbf9",
   "metadata": {},
   "source": [
    "## TransportOperator"
   ]
  },
  {
   "cell_type": "code",
   "execution_count": null,
   "id": "c65faf98-5009-4756-8cbe-433fe345970a",
   "metadata": {},
   "outputs": [],
   "source": []
  },
  {
   "cell_type": "code",
   "execution_count": 41,
   "id": "53ccacbb-8a47-4536-9004-dd3cff1c8756",
   "metadata": {
    "tags": []
   },
   "outputs": [
    {
     "data": {
      "text/plain": [
       "6"
      ]
     },
     "execution_count": 41,
     "metadata": {},
     "output_type": "execute_result"
    }
   ],
   "source": [
    "operator_list = TransportOperator.get_table(conn)\n",
    "len(operator_list)"
   ]
  },
  {
   "cell_type": "code",
   "execution_count": 37,
   "id": "add37a17-8db0-475b-a13f-05ad71cb4b90",
   "metadata": {},
   "outputs": [
    {
     "data": {
      "text/plain": [
       "'id, \"perev_name\"'"
      ]
     },
     "execution_count": 37,
     "metadata": {},
     "output_type": "execute_result"
    }
   ],
   "source": [
    "TransportOperator.__insert_columns__()"
   ]
  },
  {
   "cell_type": "code",
   "execution_count": 40,
   "id": "58aa5906-6de7-44df-93e3-9db6a9d03d72",
   "metadata": {},
   "outputs": [],
   "source": [
    "cols = ['perevId', \"perevName\"]\n",
    "operator_list = [TransportOperator.from_response_row(row) \n",
    "              for row in df_sum[cols].drop_duplicates().to_dict('records')]\n",
    "len(operator_list), operator_list[:3]\n",
    "TransportOperator.insert_many_in_table(conn, operator_list)"
   ]
  },
  {
   "cell_type": "code",
   "execution_count": null,
   "id": "49c7f706-e9c3-472b-90bb-a46d7cc96397",
   "metadata": {},
   "outputs": [],
   "source": []
  },
  {
   "cell_type": "code",
   "execution_count": 42,
   "id": "24288a49-97b0-450c-b4b3-9fdf8729d6ef",
   "metadata": {},
   "outputs": [
    {
     "data": {
      "text/plain": [
       "[True, True, True, True, True, True]"
      ]
     },
     "execution_count": 42,
     "metadata": {},
     "output_type": "execute_result"
    }
   ],
   "source": [
    "TransportOperator.are_in_table(conn, operator_list[:])"
   ]
  },
  {
   "cell_type": "code",
   "execution_count": 43,
   "id": "606d9682-b1e9-4110-bd5b-746fb6180744",
   "metadata": {},
   "outputs": [
    {
     "data": {
      "text/plain": [
       "True"
      ]
     },
     "execution_count": 43,
     "metadata": {},
     "output_type": "execute_result"
    }
   ],
   "source": [
    "operator_list[0].is_in_table(conn)"
   ]
  },
  {
   "cell_type": "code",
   "execution_count": 44,
   "id": "5437ec19-c042-4d84-adbb-6f1251c35bdf",
   "metadata": {},
   "outputs": [
    {
     "data": {
      "text/plain": [
       "False"
      ]
     },
     "execution_count": 44,
     "metadata": {},
     "output_type": "execute_result"
    }
   ],
   "source": [
    "obj = operator_list[0]\n",
    "obj.id += 100\n",
    "obj.name = \"-_-\" + obj.name\n",
    "obj.is_in_table(conn)"
   ]
  },
  {
   "cell_type": "code",
   "execution_count": 14,
   "id": "4fd48af7-fad0-4e05-80d7-756ce77ea7e8",
   "metadata": {},
   "outputs": [],
   "source": [
    "obj.insert_in_table(conn)"
   ]
  },
  {
   "cell_type": "code",
   "execution_count": 15,
   "id": "daa1e22e-774b-4aa6-85cd-8854f1451a03",
   "metadata": {},
   "outputs": [],
   "source": [
    "for op in operator_list: \n",
    "    op.id += 100\n",
    "    op.name = \"-_-\" + op.name\n",
    "    \n",
    "TransportOperator.insert_many_in_table(conn, operator_list)"
   ]
  },
  {
   "cell_type": "code",
   "execution_count": null,
   "id": "54623c33-e180-4a15-931b-32617c32876e",
   "metadata": {},
   "outputs": [],
   "source": []
  },
  {
   "cell_type": "markdown",
   "id": "a7b4a93e-f4cf-4f72-b4de-f31350ca0fe4",
   "metadata": {},
   "source": [
    "## TransportAVLData"
   ]
  },
  {
   "cell_type": "code",
   "execution_count": 9,
   "id": "2ec67a1a-5a8e-491c-b7ef-f00cbd84cbe5",
   "metadata": {},
   "outputs": [],
   "source": [
    "avl_data_list = TransportAVLData.get_table(conn)"
   ]
  },
  {
   "cell_type": "code",
   "execution_count": 11,
   "id": "8ec55802-09a3-46c5-a951-bc33f778ae31",
   "metadata": {},
   "outputs": [],
   "source": [
    "# avl_data_list"
   ]
  },
  {
   "cell_type": "code",
   "execution_count": 14,
   "id": "35304afa-4736-4317-aa4b-c59f784e3e59",
   "metadata": {},
   "outputs": [
    {
     "name": "stdout",
     "output_type": "stream",
     "text": [
      "57.4 ms ± 3.36 ms per loop (mean ± std. dev. of 7 runs, 10 loops each)\n"
     ]
    }
   ],
   "source": [
    "%%timeit\n",
    "TransportAVLData.are_in_table(conn, avl_data_list)"
   ]
  },
  {
   "cell_type": "code",
   "execution_count": 16,
   "id": "8366b7c5-2c46-49fa-8f89-ac62b91901b3",
   "metadata": {},
   "outputs": [
    {
     "name": "stdout",
     "output_type": "stream",
     "text": [
      "42.1 ms ± 1.17 ms per loop (mean ± std. dev. of 7 runs, 10 loops each)\n"
     ]
    }
   ],
   "source": [
    "%%timeit\n",
    "avl_data_list[0].is_in_table(conn)"
   ]
  },
  {
   "cell_type": "code",
   "execution_count": null,
   "id": "71406ef0-4031-4934-95b5-10c527447c39",
   "metadata": {},
   "outputs": [],
   "source": []
  },
  {
   "cell_type": "code",
   "execution_count": null,
   "id": "66d4652d-7651-426a-89d7-ea8e73d2ac06",
   "metadata": {},
   "outputs": [],
   "source": []
  }
 ],
 "metadata": {
  "kernelspec": {
   "display_name": "Python 3",
   "language": "python",
   "name": "python3"
  },
  "language_info": {
   "codemirror_mode": {
    "name": "ipython",
    "version": 3
   },
   "file_extension": ".py",
   "mimetype": "text/x-python",
   "name": "python",
   "nbconvert_exporter": "python",
   "pygments_lexer": "ipython3",
   "version": "3.8.9"
  }
 },
 "nbformat": 4,
 "nbformat_minor": 5
}
