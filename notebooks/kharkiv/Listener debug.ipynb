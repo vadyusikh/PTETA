{
 "cells": [
  {
   "cell_type": "code",
   "execution_count": 1,
   "id": "d177ca37-71e5-484f-a912-e56d7cef4479",
   "metadata": {},
   "outputs": [],
   "source": [
    "import os\n",
    "from datetime import datetime\n",
    "import datetime as dt\n",
    "from queue import Queue\n",
    "import json\n",
    "import requests\n",
    "import pandas as pd\n",
    "import time\n",
    "\n",
    "from apscheduler.schedulers.background import BackgroundScheduler\n",
    "from aws.src.TransGPSCVMonitor import TransGPSCVMonitor\n",
    "from PTETA.listener.utils.support_classes import LockingCounter\n",
    "\n",
    "\n",
    "from matplotlib import pyplot as plt\n",
    "import numpy as np"
   ]
  },
  {
   "cell_type": "code",
   "execution_count": 20,
   "id": "fb008e6a-ca36-48c8-b398-aaf7d5e22e51",
   "metadata": {},
   "outputs": [],
   "source": [
    "REQUEST_URI = 'https://gt.kh.ua/?do=api&fn=gt&noroutes'\n",
    "DATETIME_PATTERN = '%Y-%m-%d %H:%M:%S'\n",
    "\n",
    "REQUEST_FREQUENCY = 5\n",
    "PROCESS_FREQUENCY = 60\n",
    "\n",
    "START_DATE = datetime.now().strftime(DATETIME_PATTERN)\n",
    "END_DATE = (datetime.now() + dt.timedelta(days=30)).strftime(DATETIME_PATTERN)\n",
    "END_DATE_2 = (datetime.now() + dt.timedelta(days=30, seconds=2 * PROCESS_FREQUENCY)).strftime(DATETIME_PATTERN)\n",
    "COLUMNS = [\n",
    "    'imei', 'lat', 'lng', 'speed', 'gps_datetime_origin', 'orientation',\n",
    "    'route_name', 'route_type', 'vehicle_id', 'dd', 'gpstime', 'response_datetime'\n",
    "]\n",
    "\n",
    "\n",
    "def request_data(process_queue: Queue, request_counter: LockingCounter) -> None:\n",
    "    dt_now = datetime.now()\n",
    "    dt_tz_str = dt.datetime.now(dt.timezone.utc).strftime(f\"{DATETIME_PATTERN} %z\")\n",
    "\n",
    "    try:\n",
    "        request = requests.get(REQUEST_URI)\n",
    "        if (request is None) or (request.text is None):\n",
    "            return\n",
    "        response = json.loads(request.text)\n",
    "        response['response_datetime'] = dt_tz_str\n",
    "\n",
    "        try:\n",
    "            process_queue.put(response, timeout=5)\n",
    "        except process_queue.Full as e:\n",
    "            print(f\"{dt_now.strftime(DATETIME_PATTERN)}\\n\"\n",
    "                  f\"\\tQueue is full, its' size is {process_queue.qsize()}\"\n",
    "                  f\"\\t{e}\\n\")\n",
    "            raise e\n",
    "        request_counter.increment()\n",
    "\n",
    "    except (requests.Timeout, requests.ConnectionError, requests.HTTPError) as err:\n",
    "        print(f\"{dt_now.strftime(DATETIME_PATTERN)} : error while trying to GET data\\n\"\n",
    "              f\"\\t{err}\\n\")"
   ]
  },
  {
   "cell_type": "code",
   "execution_count": 32,
   "id": "31201f7e-0dc8-4ac4-b1cc-c57c2ad5c24e",
   "metadata": {},
   "outputs": [],
   "source": [
    "from tqdm import trange"
   ]
  },
  {
   "cell_type": "code",
   "execution_count": 78,
   "id": "79ee21b1-01c6-40e9-a753-f83f65fc7bd1",
   "metadata": {},
   "outputs": [
    {
     "name": "stderr",
     "output_type": "stream",
     "text": [
      "100%|██████████| 120/120 [02:15<00:00,  1.13s/it]\n"
     ]
    }
   ],
   "source": [
    "request_queue = Queue(maxsize=100_000)\n",
    "request_counter = LockingCounter()\n",
    "request_counter.set_is_shown(True)\n",
    "\n",
    "\n",
    "for _ in trange(120):\n",
    "    request_data(request_queue, request_counter)\n",
    "    time.sleep(1)"
   ]
  },
  {
   "cell_type": "code",
   "execution_count": 35,
   "id": "2288cc39-14d4-4659-973b-8b649c620213",
   "metadata": {},
   "outputs": [],
   "source": [
    "from copy import deepcopy"
   ]
  },
  {
   "cell_type": "code",
   "execution_count": 79,
   "id": "2d9a39e8-412c-4d96-90eb-4b0cc03b9343",
   "metadata": {},
   "outputs": [
    {
     "name": "stdout",
     "output_type": "stream",
     "text": [
      "120 0 0\n",
      "0 120 120\n"
     ]
    }
   ],
   "source": [
    "request_queue_cp = Queue()\n",
    "request_queue2 = Queue()\n",
    "\n",
    "def copy_data(src, dst1, dst2):\n",
    "    while not src.empty():\n",
    "        obj = src.get()\n",
    "        dst1.put(obj)\n",
    "        dst2.put(obj)\n",
    "        \n",
    "print(request_queue.qsize(), request_queue_cp.qsize(), request_queue2.qsize())\n",
    "copy_data(request_queue, request_queue_cp, request_queue2)\n",
    "print(request_queue.qsize(), request_queue_cp.qsize(), request_queue2.qsize())"
   ]
  },
  {
   "cell_type": "code",
   "execution_count": 101,
   "id": "655fcb80-38f1-4c13-ac09-dcc80bd7e446",
   "metadata": {},
   "outputs": [
    {
     "name": "stdout",
     "output_type": "stream",
     "text": [
      "120 0 0\n",
      "0 120 120\n"
     ]
    }
   ],
   "source": [
    "print(request_queue.qsize(), request_queue_cp.qsize(), request_queue2.qsize())\n",
    "copy_data(request_queue, request_queue_cp, request_queue2)\n",
    "# copy_data(request_queue2, request_queue_cp, request_queue)\n",
    "print(request_queue.qsize(), request_queue_cp.qsize(), request_queue2.qsize())"
   ]
  },
  {
   "cell_type": "code",
   "execution_count": 102,
   "id": "b354426c-ef42-443b-9b9b-fdb36d47ad5a",
   "metadata": {
    "tags": []
   },
   "outputs": [],
   "source": [
    "def clear_data(in_df, verbose: bool = False):\n",
    "    unique_data = []\n",
    "\n",
    "    in_df[\"gpstime_ns\"] = pd.to_datetime(df_[\"gpstime\"])\n",
    "    imei_list = in_df['imei'].value_counts().index\n",
    "\n",
    "    for imei in imei_list:\n",
    "        row_data = in_df[in_df['imei'] == imei].values.tolist()\n",
    "        row_data = sorted(row_data, key=lambda x : x[-1])\n",
    "        result = [row_data[0][:-1]]\n",
    "        for row0, row1 in zip(row_data[:-1], row_data[1:]):\n",
    "            if row0[1:9] != row1[1:9]:\n",
    "                result += [row1[:-1]]\n",
    "        unique_data += result\n",
    "        \n",
    "    del in_df['gpstime_ns']\n",
    "\n",
    "    df_unique = pd.DataFrame(unique_data, columns=in_df.columns)\n",
    "    if verbose:\n",
    "        print(f\"Clear data\\n\\t{len(in_df)} / {len(df_unique)} [avg {len(in_df) / len(df_unique):.02f}]\")\n",
    "    return df_unique\n",
    "\n",
    "def process_data(\n",
    "        request_queue: Queue,\n",
    "        last_avl_df_queue: Queue,\n",
    "#         monitor: TransGPSCVMonitor,\n",
    "#         records_counter: LockingCounter,\n",
    "        verbose: bool = False\n",
    ") -> None:\n",
    "    if verbose:\n",
    "        print(f\"process_data::{datetime.now().strftime(DATETIME_PATTERN)} : \"\n",
    "              f\"Queue len is {request_queue.qsize()}\")\n",
    "    avl_data_list = []\n",
    "    while not request_queue.empty():\n",
    "        response = request_queue.get()\n",
    "        avl_data_list += [\n",
    "            row + [response['timestamp'], response['response_datetime']]\n",
    "            for row in response['rows']\n",
    "        ]\n",
    "\n",
    "    if not avl_data_list:\n",
    "        return\n",
    "\n",
    "    df = pd.DataFrame(avl_data_list, columns=COLUMNS)\n",
    "\n",
    "    if last_avl_df_queue.empty():\n",
    "        pass\n",
    "    else:\n",
    "        last_avl_df = last_avl_df_queue.get()\n",
    "        while not last_avl_df_queue.empty():\n",
    "            last_avl_df_queue.get()\n",
    "        \n",
    "        df = pd.concat([df, last_avl_df])\n",
    "        \n",
    "    df_u = clear_data(df)\n",
    "            \n",
    "    if verbose:\n",
    "        print(f\"\\tprocess_data:: unique {len(df_u)} of {df}\")\n",
    "        \n",
    "    last_avl_list = list()\n",
    "    for state, frame in df_u.groupby('imei'):\n",
    "        item = frame.sort_values(\n",
    "            by=\"gpstime\", ascending=False, key=lambda x: x.astype('datetime64[ns]')\n",
    "        ).iloc[0]\n",
    "        last_avl_list.append(item)\n",
    "\n",
    "    last_avl_df = pd.DataFrame(last_avl_list, columns=df_u.columns)\n",
    "    last_avl_df_queue.put(last_avl_df)\n",
    "    if verbose:\n",
    "        print(f\"\\tprocess_data:: New last awl {len(last_avl_df)} was {len(last_avl_list)}\")\n",
    "\n",
    "    if len(df_to_write) > 0:\n",
    "        monitor.write_to_db(df_to_write.to_dict('records'))\n",
    "        records_counter.increment(len(df_to_write))\n",
    "    return df_u\n",
    "\n",
    "    if verbose:\n",
    "        print(f\"\\tprocess_data:: to write {len(df_to_write)} of unique {len(df)}\")"
   ]
  },
  {
   "cell_type": "code",
   "execution_count": 103,
   "id": "2f71ab1d-ee5d-4aa0-989d-d642747901fb",
   "metadata": {},
   "outputs": [
    {
     "name": "stdout",
     "output_type": "stream",
     "text": [
      "Clear data\n",
      "\t26760 / 748 [avg 35.78]\n"
     ]
    }
   ],
   "source": [
    "last_avl_df_queue = Queue()\n",
    "df_unq = process_data(request_queue_cp, last_avl_df_queue)"
   ]
  },
  {
   "cell_type": "code",
   "execution_count": 104,
   "id": "1d56255d-2530-4a25-9511-bfbfc608d9d3",
   "metadata": {},
   "outputs": [],
   "source": [
    "df_q = last_avl_df_queue.get()"
   ]
  },
  {
   "cell_type": "code",
   "execution_count": 119,
   "id": "bdb84b4c-e93f-45a9-8b29-c4bc8e462fb4",
   "metadata": {},
   "outputs": [],
   "source": [
    "import seaborn as sns"
   ]
  },
  {
   "cell_type": "code",
   "execution_count": 120,
   "id": "c8e878e3-f283-4ab6-8268-896bd3edc994",
   "metadata": {},
   "outputs": [
    {
     "data": {
      "text/plain": [
       "<AxesSubplot:xlabel='gpstime', ylabel='Count'>"
      ]
     },
     "execution_count": 120,
     "metadata": {},
     "output_type": "execute_result"
    },
    {
     "data": {
      "image/png": "[encoded data removed]",
      "text/plain": [
       "<Figure size 432x288 with 1 Axes>"
      ]
     },
     "metadata": {
      "needs_background": "light"
     },
     "output_type": "display_data"
    }
   ],
   "source": [
    "sns.histplot(pd.to_datetime(df_q[\"gpstime\"]).astype(int)//10**9)\n",
    "sns.histplot(pd.to_datetime(df_unq[\"gpstime\"]).astype(int)//10**9)"
   ]
  },
  {
   "cell_type": "code",
   "execution_count": 136,
   "id": "71c73adb-7c7c-45d5-a070-bff656cee3b3",
   "metadata": {
    "collapsed": true,
    "jupyter": {
     "outputs_hidden": true
    },
    "tags": []
   },
   "outputs": [
    {
     "name": "stdout",
     "output_type": "stream",
     "text": [
      "000 - 350544500100667) 1 []\n",
      "001 - 350544502364030) 4 [ 8 61 13]\n",
      "002 - 350544502364287) 6 [36 33 13 16 28]\n",
      "003 - 352094086897037) 5 [ 8 16 12 33]\n",
      "004 - 352094088222846) 5 [24 29 29 30]\n",
      "005 - 352625690655665) 1 []\n",
      "006 - 352625692263401) 5 [24 29 29 30]\n",
      "007 - 352625692435918) 5 [24 29 29 30]\n",
      "008 - 352625693425165) 3 [53 59]\n",
      "009 - 352625695995033) 4 [53 29 30]\n",
      "010 - 352625696031960) 1 []\n",
      "011 - 352625696130515) 5 [24 29 29 30]\n",
      "012 - 352625696555422) 2 [24]\n",
      "013 - 352625696558749) 6 [ 8 74 16 14 14]\n",
      "014 - 352625696567443) 8 [ 8 16 12 33 13 16 28]\n",
      "015 - 352625696572211) 6 [36 33 13 16 28]\n",
      "016 - 352625696574555) 5 [ 8 61 13 30]\n",
      "017 - 352625696575313) 8 [ 8 16 12 33 13 16 28]\n",
      "018 - 352625696582574) 7 [ 8 28 33 13 16 28]\n",
      "019 - 352625696582582) 7 [ 8 16 12 33 13 16]\n",
      "020 - 352625696582657) 5 [24 12 33 13]\n",
      "021 - 352625696583044) 5 [24 45 13 16]\n",
      "022 - 352625696605235) 5 [ 8 16 74 28]\n",
      "023 - 352625696610979) 3 [69 13]\n",
      "024 - 352625696974680) 1 []\n",
      "025 - 352625697294195) 1 []\n",
      "026 - 352625697708343) 1 []\n",
      "027 - 352625697752465) 1 []\n",
      "028 - 352625698293683) 1 []\n",
      "029 - 352625698317268) 8 [ 8 16 45 13 16 14 14]\n",
      "030 - 352625698599527) 2 [24]\n",
      "031 - 352625698629977) 2 [24]\n",
      "032 - 352625698631577) 7 [24 12 33 13 16 28]\n",
      "033 - 352625698648795) 1 []\n",
      "034 - 352625698649363) 7 [24 45 13 16 14 14]\n",
      "035 - 352625698663562) 1 []\n",
      "036 - 352625698701495) 1 []\n",
      "037 - 352625698914601) 4 [53 29 30]\n",
      "038 - 352625698927512) 1 []\n",
      "039 - 352625698930755) 4 [24 29 29]\n",
      "040 - 352625698933833) 3 [24 88]\n",
      "041 - 352625698933999) 4 [53 29 30]\n",
      "042 - 352625698934104) 5 [24 29 29 30]\n",
      "043 - 352625698934252) 2 [112]\n",
      "044 - 352625698934401) 3 [24 29]\n",
      "045 - 352625699213433) 4 [24 29 59]\n",
      "046 - 352625699856066) 1 []\n",
      "047 - 352625699912554) 8 [ 8 16 12 33 13 16 28]\n",
      "048 - 352625699913651) 3 [98 28]\n",
      "049 - 352625699914634) 5 [ 8 16 74 28]\n",
      "050 - 353976013846088) 6 [24 12 33 13 16]\n",
      "051 - 353976013846328) 4 [53 29 30]\n",
      "052 - 353976013846450) 2 [82]\n",
      "053 - 353976013846690) 4 [ 8 16 12]\n",
      "054 - 353976013848522) 1 []\n",
      "055 - 353976013849595) 4 [ 8 90 28]\n",
      "056 - 353976013852573) 7 [24 12 33 13 16 28]\n",
      "057 - 353976013852839) 3 [82 30]\n",
      "058 - 353976013853035) 3 [53 29]\n",
      "059 - 353976013853332) 3 [  8 118]\n",
      "060 - 353976013857879) 3 [36 33]\n",
      "061 - 353976013858828) 4 [36 33 13]\n",
      "062 - 353976013860634) 2 [82]\n",
      "063 - 353976013861061) 7 [24 12 33 13 16 28]\n",
      "064 - 353976013863422) 1 []\n",
      "065 - 353976013934645) 2 [53]\n",
      "066 - 353976014013035) 2 [82]\n",
      "067 - 353976014015618) 3 [24 88]\n",
      "068 - 353976014016210) 4 [24 29 29]\n",
      "069 - 353976014018455) 2 [53]\n",
      "070 - 353976014019156) 2 [82]\n",
      "071 - 353976014019719) 2 [36]\n",
      "072 - 353976014020345) 6 [ 8 16 12 33 13]\n",
      "073 - 353976014020675) 3 [69 13]\n",
      "074 - 353976014020915) 3 [24 29]\n",
      "075 - 353976014021079) 3 [69 13]\n",
      "076 - 353976014021087) 4 [ 8 90 28]\n",
      "077 - 353976014021749) 2 [82]\n",
      "078 - 353976014023604) 2 [24]\n",
      "079 - 353976014023612) 2 [69]\n",
      "080 - 353976014023851) 2 [24]\n",
      "081 - 353976014023992) 2 [36]\n",
      "082 - 353976014026508) 3 [ 24 102]\n",
      "083 - 353976014027084) 4 [24 29 29]\n",
      "084 - 353976014027159) 3 [24 29]\n",
      "085 - 353976014028322) 3 [36 33]\n",
      "086 - 353976014129856) 2 [82]\n",
      "087 - 353976014149128) 2 [53]\n",
      "088 - 353976014160174) 3 [24 29]\n",
      "089 - 353976014161115) 2 [82]\n",
      "090 - 353976014162790) 4 [ 8 16 12]\n",
      "091 - 353976014163822) 3 [24 88]\n",
      "092 - 353976014164515) 3 [24 29]\n",
      "093 - 353976014164713) 3 [82 30]\n",
      "094 - 353976014169290) 6 [ 8 16 12 33 13]\n",
      "095 - 353976014169472) 5 [ 8 16 12 33]\n",
      "096 - 353976014176758) 4 [82 16 28]\n",
      "097 - 353976014204964) 3 [24 29]\n",
      "098 - 353976014205052) 3 [82 30]\n",
      "099 - 353976014206092) 7 [24 12 33 13 16 28]\n",
      "100 - 353976014208601) 5 [24 29 29 30]\n",
      "101 - 353976014209641) 3 [24 88]\n",
      "102 - 353976014210029) 2 [82]\n",
      "103 - 353976014210672) 5 [24 29 29 30]\n",
      "104 - 353976014210854) 3 [82 30]\n",
      "105 - 353976014212272) 3 [24 88]\n",
      "106 - 353976014212314) 4 [24 29 29]\n",
      "107 - 353976014212900) 5 [24 29 29 30]\n",
      "108 - 353976014213361) 3 [24 88]\n",
      "109 - 353976014213601) 2 [24]\n",
      "110 - 353976014239341) 1 []\n",
      "111 - 353976014241727) 4 [  8  16 102]\n",
      "112 - 353976014249522) 4 [ 8 16 12]\n",
      "113 - 353976014249548) 2 [24]\n",
      "114 - 353976014287597) 1 []\n",
      "115 - 353976014307213) 2 [82]\n",
      "116 - 353976014310340) 7 [36 33 13 16 14 14]\n",
      "117 - 353976014310548) 3 [ 8 90]\n",
      "118 - 353976014314912) 6 [ 8 16 12 33 13]\n",
      "119 - 353976014321255) 3 [36 33]\n",
      "120 - 353976014321370) 4 [24 29 29]\n",
      "121 - 353976014322907) 2 [24]\n",
      "122 - 353976014329506) 2 [98]\n",
      "123 - 353976014337814) 3 [ 8 90]\n",
      "124 - 354017112400383) 1 []\n",
      "125 - 354017112807405) 1 []\n",
      "126 - 354017113126789) 2 [8]\n",
      "127 - 354017113526665) 5 [24 29 29 30]\n",
      "128 - 354017113840884) 7 [36 33 13 16 14 14]\n",
      "129 - 354017113859405) 3 [53 59]\n",
      "130 - 354017113859504) 5 [24 29 29 30]\n",
      "131 - 354017113867580) 1 []\n",
      "132 - 354017114351444) 1 []\n",
      "133 - 354017114351535) 1 []\n",
      "134 - 354017114727171) 1 []\n",
      "135 - 354017114780147) 3 [36 33]\n",
      "136 - 354017114785799) 1 []\n",
      "137 - 354017114806306) 1 []\n",
      "138 - 354017114829639) 7 [ 8 28 33 13 16 28]\n",
      "139 - 354017114832716) 2 [36]\n",
      "140 - 354017118904271) 5 [24 29 29 30]\n",
      "141 - 354017118908678) 4 [24 29 29]\n",
      "142 - 354018119760274) 5 [24 29 29 30]\n",
      "143 - 354330030918687) 3 [ 8 74]\n",
      "144 - 354330030927167) 2 [24]\n",
      "145 - 354330030931862) 2 [24]\n",
      "146 - 354330030936606) 3 [24 88]\n",
      "147 - 354330030936648) 3 [24 29]\n",
      "148 - 354330030949906) 3 [24 88]\n",
      "149 - 354330030960846) 2 [24]\n",
      "150 - 354330030963279) 2 [53]\n",
      "151 - 354330030964533) 4 [24 58 30]\n",
      "152 - 354330030968104) 3 [24 88]\n",
      "153 - 354330030969904) 2 [82]\n",
      "154 - 354330030972619) 3 [24 88]\n",
      "155 - 354330030973765) 3 [82 30]\n",
      "156 - 354330030974839) 2 [82]\n",
      "157 - 354330030976958) 3 [24 74]\n",
      "158 - 354330030977378) 5 [ 8 16 12 90]\n",
      "159 - 354330030977782) 2 [82]\n",
      "160 - 357073290112206) 5 [24 29 29 30]\n",
      "161 - 357073290142013) 4 [24 29 29]\n",
      "162 - 357073290155155) 4 [53 29 30]\n",
      "163 - 357544372829297) 5 [24 29 29 30]\n",
      "164 - 357544373426200) 2 [112]\n",
      "165 - 357544373508833) 6 [ 8 16 12 33 13]\n",
      "166 - 357544373533930) 1 []\n",
      "167 - 357544373652789) 3 [24 29]\n",
      "168 - 357544373652870) 2 [112]\n",
      "169 - 357544373724158) 4 [24 29 29]\n",
      "170 - 357544373764030) 1 []\n",
      "171 - 357544373771829) 5 [24 29 29 30]\n",
      "172 - 357544374878938) 5 [24 29 29 30]\n",
      "173 - 357544374988810) 4 [24 29 59]\n",
      "174 - 357544375034143) 3 [24 29]\n",
      "175 - 357544375039746) 4 [53 29 30]\n",
      "176 - 357544375042666) 1 []\n",
      "177 - 357544375057383) 3 [53 29]\n",
      "178 - 357544375057474) 2 [53]\n",
      "179 - 357544375057532) 5 [24 29 29 30]\n",
      "180 - 357544375057649) 4 [24 58 30]\n",
      "181 - 357544376153348) 2 [53]\n",
      "182 - 357544376198319) 1 []\n",
      "183 - 357544376199630) 3 [24 88]\n",
      "184 - 357544376199747) 5 [24 29 29 30]\n",
      "185 - 357544376204133) 3 [24 29]\n",
      "186 - 357544376209728) 4 [24 29 59]\n",
      "187 - 357544376209926) 4 [53 29 30]\n",
      "188 - 357544376212466) 2 [53]\n",
      "189 - 357544376212631) 1 []\n",
      "190 - 357544376213605) 4 [24 29 59]\n",
      "191 - 357544376215998) 5 [24 29 29 30]\n",
      "192 - 357544376232092) 4 [53 29 30]\n",
      "193 - 357544377273525) 6 [ 8 16 12 62 28]\n",
      "194 - 357544377275652) 1 []\n",
      "195 - 357544377505330) 5 [24 29 29 30]\n",
      "196 - 357544377507401) 5 [24 29 29 30]\n",
      "197 - 357544377507450) 2 [112]\n",
      "198 - 357544377516725) 3 [24 29]\n",
      "199 - 357544377516782) 1 []\n",
      "200 - 357544377516907) 4 [53 29 30]\n",
      "201 - 357544377521022) 4 [53 29 30]\n",
      "202 - 357544377521113) 3 [24 29]\n",
      "203 - 357544377521535) 2 [112]\n",
      "204 - 357544377521626) 3 [53 59]\n",
      "205 - 357544377522319) 1 []\n",
      "206 - 357544377524513) 1 []\n",
      "207 - 357544377528019) 1 []\n",
      "208 - 357544377543448) 5 [24 29 29 30]\n",
      "209 - 357544377546763) 2 [24]\n",
      "210 - 357544379770924) 4 [53 29 30]\n",
      "211 - 358480089038311) 1 []\n",
      "212 - 359632105001413) 9 [ 8 16 12 33 13 16 14 14]\n",
      "213 - 359632105001439) 4 [ 8 90 28]\n",
      "214 - 359632105001488) 3 [ 8 90]\n",
      "215 - 359632105001538) 1 []\n",
      "216 - 359632105001926) 2 [126]\n",
      "217 - 359632105001934) 1 []\n",
      "218 - 359632105198045) 8 [ 8 16 12 33 29 14 14]\n",
      "219 - 359632105213364) 4 [ 8 16 12]\n",
      "220 - 359633101209752) 7 [24 12 33 13 16 28]\n",
      "221 - 359633108326112) 2 [24]\n",
      "222 - 359633108991931) 4 [24 58 30]\n"
     ]
    }
   ],
   "source": [
    "freq = []\n",
    "\n",
    "for i, (state, frame) in enumerate(df_unq.groupby('imei')):\n",
    "    tm_np = (pd.to_datetime(frame[\"gpstime\"]).astype(int)//10**9).values\n",
    "    freq += np.diff(tm_np).tolist()\n",
    "    print(f\"{i:03d} - {state}) {len(frame)} {np.diff(tm_np)}\")"
   ]
  },
  {
   "cell_type": "code",
   "execution_count": 140,
   "id": "16e74ebf-4f5a-4930-b6fa-4a1946e952bb",
   "metadata": {},
   "outputs": [
    {
     "data": {
      "text/plain": [
       "(8, 126)"
      ]
     },
     "execution_count": 140,
     "metadata": {},
     "output_type": "execute_result"
    }
   ],
   "source": [
    "min(freq), max(freq)"
   ]
  },
  {
   "cell_type": "code",
   "execution_count": 139,
   "id": "87587598-a1d2-4b6f-b70b-9d11aaea0267",
   "metadata": {},
   "outputs": [
    {
     "data": {
      "text/plain": [
       "<AxesSubplot:ylabel='Count'>"
      ]
     },
     "execution_count": 139,
     "metadata": {},
     "output_type": "execute_result"
    },
    {
     "data": {
      "image/png": "[encoded data removed]",
      "text/plain": [
       "<Figure size 432x288 with 1 Axes>"
      ]
     },
     "metadata": {
      "needs_background": "light"
     },
     "output_type": "display_data"
    }
   ],
   "source": [
    "sns.histplot(freq)\n"
   ]
  },
  {
   "cell_type": "code",
   "execution_count": null,
   "id": "a6a750f5-64c9-414b-aec6-4d3578165296",
   "metadata": {},
   "outputs": [],
   "source": []
  },
  {
   "cell_type": "code",
   "execution_count": 85,
   "id": "3ac9899a-ebe1-429c-bd6f-88f5e647c29c",
   "metadata": {},
   "outputs": [
    {
     "name": "stdout",
     "output_type": "stream",
     "text": [
      "Clear data\n",
      "\t26760 / 748 [avg 35.78]\n"
     ]
    }
   ],
   "source": [
    "df_u = clear_data(df_)"
   ]
  },
  {
   "cell_type": "code",
   "execution_count": 62,
   "id": "677924de-28b8-409a-a156-99bfe30f115e",
   "metadata": {},
   "outputs": [],
   "source": [
    "data_row = [row + [resp['timestamp'], resp['response_datetime']] \n",
    "            for row in resp['rows']]\n",
    "df = pd.DataFrame(data_row, columns=COLUMNS)"
   ]
  },
  {
   "cell_type": "code",
   "execution_count": 63,
   "id": "6e2f0e75-5bf6-4778-9bd8-d7a2b6d32b67",
   "metadata": {},
   "outputs": [
    {
     "data": {
      "text/html": [
       "<div>\n",
       "<style scoped>\n",
       "    .dataframe tbody tr th:only-of-type {\n",
       "        vertical-align: middle;\n",
       "    }\n",
       "\n",
       "    .dataframe tbody tr th {\n",
       "        vertical-align: top;\n",
       "    }\n",
       "\n",
       "    .dataframe thead th {\n",
       "        text-align: right;\n",
       "    }\n",
       "</style>\n",
       "<table border=\"1\" class=\"dataframe\">\n",
       "  <thead>\n",
       "    <tr style=\"text-align: right;\">\n",
       "      <th></th>\n",
       "      <th>imei</th>\n",
       "      <th>lat</th>\n",
       "      <th>lng</th>\n",
       "      <th>speed</th>\n",
       "      <th>gps_datetime_origin</th>\n",
       "      <th>orientation</th>\n",
       "      <th>route_name</th>\n",
       "      <th>route_type</th>\n",
       "      <th>vehicle_id</th>\n",
       "      <th>dd</th>\n",
       "      <th>gpstime</th>\n",
       "      <th>response_datetime</th>\n",
       "    </tr>\n",
       "  </thead>\n",
       "  <tbody>\n",
       "    <tr>\n",
       "      <th>0</th>\n",
       "      <td>352094086897037</td>\n",
       "      <td>273731</td>\n",
       "      <td>944340</td>\n",
       "      <td>29</td>\n",
       "      <td>0</td>\n",
       "      <td>101</td>\n",
       "      <td>1</td>\n",
       "      <td>2</td>\n",
       "      <td>2621</td>\n",
       "      <td>13</td>\n",
       "      <td>2023-02-11T13:18:49+00:00</td>\n",
       "      <td>2023-02-11 13:18:57 +0000</td>\n",
       "    </tr>\n",
       "    <tr>\n",
       "      <th>1</th>\n",
       "      <td>352625696582582</td>\n",
       "      <td>260170</td>\n",
       "      <td>948132</td>\n",
       "      <td>36</td>\n",
       "      <td>0</td>\n",
       "      <td>182</td>\n",
       "      <td>304</td>\n",
       "      <td>2</td>\n",
       "      <td>2742</td>\n",
       "      <td>16</td>\n",
       "      <td>2023-02-11T13:18:49+00:00</td>\n",
       "      <td>2023-02-11 13:18:57 +0000</td>\n",
       "    </tr>\n",
       "    <tr>\n",
       "      <th>2</th>\n",
       "      <td>353976013861061</td>\n",
       "      <td>337570</td>\n",
       "      <td>945370</td>\n",
       "      <td>6</td>\n",
       "      <td>0</td>\n",
       "      <td>265</td>\n",
       "      <td>3</td>\n",
       "      <td>2</td>\n",
       "      <td>2647</td>\n",
       "      <td>16</td>\n",
       "      <td>2023-02-11T13:18:49+00:00</td>\n",
       "      <td>2023-02-11 13:18:57 +0000</td>\n",
       "    </tr>\n",
       "    <tr>\n",
       "      <th>3</th>\n",
       "      <td>352625699912554</td>\n",
       "      <td>409359</td>\n",
       "      <td>919060</td>\n",
       "      <td>18</td>\n",
       "      <td>0</td>\n",
       "      <td>28</td>\n",
       "      <td>51</td>\n",
       "      <td>2</td>\n",
       "      <td>2746</td>\n",
       "      <td>17</td>\n",
       "      <td>2023-02-11T13:18:49+00:00</td>\n",
       "      <td>2023-02-11 13:18:57 +0000</td>\n",
       "    </tr>\n",
       "    <tr>\n",
       "      <th>4</th>\n",
       "      <td>352625699914634</td>\n",
       "      <td>307770</td>\n",
       "      <td>944191</td>\n",
       "      <td>34</td>\n",
       "      <td>0</td>\n",
       "      <td>86</td>\n",
       "      <td>1</td>\n",
       "      <td>2</td>\n",
       "      <td>2620</td>\n",
       "      <td>17</td>\n",
       "      <td>2023-02-11T13:18:49+00:00</td>\n",
       "      <td>2023-02-11 13:18:57 +0000</td>\n",
       "    </tr>\n",
       "    <tr>\n",
       "      <th>...</th>\n",
       "      <td>...</td>\n",
       "      <td>...</td>\n",
       "      <td>...</td>\n",
       "      <td>...</td>\n",
       "      <td>...</td>\n",
       "      <td>...</td>\n",
       "      <td>...</td>\n",
       "      <td>...</td>\n",
       "      <td>...</td>\n",
       "      <td>...</td>\n",
       "      <td>...</td>\n",
       "      <td>...</td>\n",
       "    </tr>\n",
       "    <tr>\n",
       "      <th>220</th>\n",
       "      <td>353976014321370</td>\n",
       "      <td>195469</td>\n",
       "      <td>1042480</td>\n",
       "      <td>24</td>\n",
       "      <td>0</td>\n",
       "      <td>342</td>\n",
       "      <td>20</td>\n",
       "      <td>1</td>\n",
       "      <td>3042</td>\n",
       "      <td>136</td>\n",
       "      <td>2023-02-11T13:18:49+00:00</td>\n",
       "      <td>2023-02-11 13:18:57 +0000</td>\n",
       "    </tr>\n",
       "    <tr>\n",
       "      <th>221</th>\n",
       "      <td>353976013846088</td>\n",
       "      <td>302670</td>\n",
       "      <td>954922</td>\n",
       "      <td>39</td>\n",
       "      <td>0</td>\n",
       "      <td>14</td>\n",
       "      <td>35</td>\n",
       "      <td>2</td>\n",
       "      <td>2633</td>\n",
       "      <td>145</td>\n",
       "      <td>2023-02-11T13:18:49+00:00</td>\n",
       "      <td>2023-02-11 13:18:57 +0000</td>\n",
       "    </tr>\n",
       "    <tr>\n",
       "      <th>222</th>\n",
       "      <td>354330030964533</td>\n",
       "      <td>359291</td>\n",
       "      <td>991058</td>\n",
       "      <td>0</td>\n",
       "      <td>0</td>\n",
       "      <td>0</td>\n",
       "      <td>8</td>\n",
       "      <td>1</td>\n",
       "      <td>3019</td>\n",
       "      <td>149</td>\n",
       "      <td>2023-02-11T13:18:49+00:00</td>\n",
       "      <td>2023-02-11 13:18:57 +0000</td>\n",
       "    </tr>\n",
       "    <tr>\n",
       "      <th>223</th>\n",
       "      <td>354330030918687</td>\n",
       "      <td>313820</td>\n",
       "      <td>945210</td>\n",
       "      <td>21</td>\n",
       "      <td>0</td>\n",
       "      <td>357</td>\n",
       "      <td>1</td>\n",
       "      <td>2</td>\n",
       "      <td>2102</td>\n",
       "      <td>250</td>\n",
       "      <td>2023-02-11T13:18:49+00:00</td>\n",
       "      <td>2023-02-11 13:18:57 +0000</td>\n",
       "    </tr>\n",
       "    <tr>\n",
       "      <th>224</th>\n",
       "      <td>354017113126789</td>\n",
       "      <td>264759</td>\n",
       "      <td>928711</td>\n",
       "      <td>20</td>\n",
       "      <td>0</td>\n",
       "      <td>329</td>\n",
       "      <td>49</td>\n",
       "      <td>2</td>\n",
       "      <td>2711</td>\n",
       "      <td>579</td>\n",
       "      <td>2023-02-11T13:18:49+00:00</td>\n",
       "      <td>2023-02-11 13:18:57 +0000</td>\n",
       "    </tr>\n",
       "  </tbody>\n",
       "</table>\n",
       "<p>225 rows × 12 columns</p>\n",
       "</div>"
      ],
      "text/plain": [
       "                imei     lat      lng  speed  gps_datetime_origin  \\\n",
       "0    352094086897037  273731   944340     29                    0   \n",
       "1    352625696582582  260170   948132     36                    0   \n",
       "2    353976013861061  337570   945370      6                    0   \n",
       "3    352625699912554  409359   919060     18                    0   \n",
       "4    352625699914634  307770   944191     34                    0   \n",
       "..               ...     ...      ...    ...                  ...   \n",
       "220  353976014321370  195469  1042480     24                    0   \n",
       "221  353976013846088  302670   954922     39                    0   \n",
       "222  354330030964533  359291   991058      0                    0   \n",
       "223  354330030918687  313820   945210     21                    0   \n",
       "224  354017113126789  264759   928711     20                    0   \n",
       "\n",
       "     orientation route_name  route_type  vehicle_id   dd  \\\n",
       "0            101          1           2        2621   13   \n",
       "1            182        304           2        2742   16   \n",
       "2            265          3           2        2647   16   \n",
       "3             28         51           2        2746   17   \n",
       "4             86          1           2        2620   17   \n",
       "..           ...        ...         ...         ...  ...   \n",
       "220          342         20           1        3042  136   \n",
       "221           14         35           2        2633  145   \n",
       "222            0          8           1        3019  149   \n",
       "223          357          1           2        2102  250   \n",
       "224          329         49           2        2711  579   \n",
       "\n",
       "                       gpstime          response_datetime  \n",
       "0    2023-02-11T13:18:49+00:00  2023-02-11 13:18:57 +0000  \n",
       "1    2023-02-11T13:18:49+00:00  2023-02-11 13:18:57 +0000  \n",
       "2    2023-02-11T13:18:49+00:00  2023-02-11 13:18:57 +0000  \n",
       "3    2023-02-11T13:18:49+00:00  2023-02-11 13:18:57 +0000  \n",
       "4    2023-02-11T13:18:49+00:00  2023-02-11 13:18:57 +0000  \n",
       "..                         ...                        ...  \n",
       "220  2023-02-11T13:18:49+00:00  2023-02-11 13:18:57 +0000  \n",
       "221  2023-02-11T13:18:49+00:00  2023-02-11 13:18:57 +0000  \n",
       "222  2023-02-11T13:18:49+00:00  2023-02-11 13:18:57 +0000  \n",
       "223  2023-02-11T13:18:49+00:00  2023-02-11 13:18:57 +0000  \n",
       "224  2023-02-11T13:18:49+00:00  2023-02-11 13:18:57 +0000  \n",
       "\n",
       "[225 rows x 12 columns]"
      ]
     },
     "execution_count": 63,
     "metadata": {},
     "output_type": "execute_result"
    }
   ],
   "source": [
    "df"
   ]
  },
  {
   "cell_type": "code",
   "execution_count": null,
   "id": "173cc12b-8bc9-4b1e-804e-ec31ce0c0667",
   "metadata": {},
   "outputs": [],
   "source": []
  },
  {
   "cell_type": "code",
   "execution_count": 2,
   "id": "81c2feff-9c55-49c1-826f-964159768e87",
   "metadata": {},
   "outputs": [],
   "source": [
    "CONNECTION_CONFIG = dict({\n",
    "        'host': os.environ['RDS_HOSTNAME'],\n",
    "        'database': \"pteta_db\",\n",
    "        'user': \"postgres\",\n",
    "        'password': os.environ['RDS_PTETA_DB_PASSWORD']\n",
    "    })"
   ]
  },
  {
   "cell_type": "code",
   "execution_count": 3,
   "id": "92596599-7e40-4c35-9f8a-006ee50ea573",
   "metadata": {},
   "outputs": [],
   "source": [
    "monitor = TransGPSCVMonitor(CONNECTION_CONFIG, data_model=\"kharkiv\")"
   ]
  },
  {
   "cell_type": "code",
   "execution_count": 6,
   "id": "9e955cd4-02ca-49b5-9f26-33832eda6fb7",
   "metadata": {},
   "outputs": [],
   "source": [
    "from PTETA.utils.transport.kharkiv.KharkivTransportVehicle import KharkivTransportVehicle"
   ]
  },
  {
   "cell_type": "code",
   "execution_count": 10,
   "id": "3d62dc91-6be1-4e16-908e-382eed18b97c",
   "metadata": {},
   "outputs": [],
   "source": [
    "tv = KharkivTransportVehicle(id=None, imei='354330030949633', name='NULL', owner_id=-1)"
   ]
  },
  {
   "cell_type": "code",
   "execution_count": 11,
   "id": "5269efdb-ce98-4d80-b88c-e499af140110",
   "metadata": {},
   "outputs": [
    {
     "data": {
      "text/plain": [
       "659"
      ]
     },
     "execution_count": 11,
     "metadata": {},
     "output_type": "execute_result"
    }
   ],
   "source": [
    "monitor.vehicle_to_id[tv]"
   ]
  },
  {
   "cell_type": "code",
   "execution_count": 12,
   "id": "589a7cc3-c11c-469c-8428-370efc1d5d9e",
   "metadata": {},
   "outputs": [],
   "source": [
    "from PTETA.utils.transport.kharkiv.KharkivTransportRoute import KharkivTransportRoute"
   ]
  },
  {
   "cell_type": "code",
   "execution_count": 13,
   "id": "a195976e-b2c0-4057-a18d-f4cd614bf4b2",
   "metadata": {},
   "outputs": [],
   "source": [
    "tr = KharkivTransportRoute(id=None, name='45', type=3)"
   ]
  },
  {
   "cell_type": "code",
   "execution_count": 15,
   "id": "1276da62-367b-4169-89dc-286efb5cb698",
   "metadata": {},
   "outputs": [
    {
     "data": {
      "text/plain": [
       "86"
      ]
     },
     "execution_count": 15,
     "metadata": {},
     "output_type": "execute_result"
    }
   ],
   "source": [
    "monitor.route_to_id[tr]"
   ]
  },
  {
   "cell_type": "code",
   "execution_count": null,
   "id": "9c0f9971-25ae-4a4d-9cfc-c95a3b0b2240",
   "metadata": {},
   "outputs": [],
   "source": []
  }
 ],
 "metadata": {
  "kernelspec": {
   "display_name": "Python 3",
   "language": "python",
   "name": "python3"
  },
  "language_info": {
   "codemirror_mode": {
    "name": "ipython",
    "version": 3
   },
   "file_extension": ".py",
   "mimetype": "text/x-python",
   "name": "python",
   "nbconvert_exporter": "python",
   "pygments_lexer": "ipython3",
   "version": "3.8.9"
  }
 },
 "nbformat": 4,
 "nbformat_minor": 5
}
