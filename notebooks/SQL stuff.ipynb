{
 "cells": [
  {
   "cell_type": "code",
   "execution_count": 1,
   "id": "fef48cae",
   "metadata": {},
   "outputs": [],
   "source": [
    "import pathlib\n",
    "import json\n",
    "import pandas as pd\n",
    "from datetime import datetime, timedelta\n",
    "import numpy as np\n",
    "import matplotlib.pyplot as plt\n",
    "from tqdm import tqdm\n",
    "# !pip install folium\n",
    "import folium\n",
    "\n",
    "from pathlib import Path\n",
    "\n",
    "from collections import Counter"
   ]
  },
  {
   "cell_type": "markdown",
   "id": "94bac175-1fa1-49a2-8e10-a2b03a5d57c6",
   "metadata": {},
   "source": [
    "## Analyse data"
   ]
  },
  {
   "cell_type": "code",
   "execution_count": 2,
   "id": "569c1bce-bef2-4f20-a00a-7d84099a0584",
   "metadata": {},
   "outputs": [
    {
     "name": "stderr",
     "output_type": "stream",
     "text": [
      "100%|██████████| 10/10 [00:23<00:00,  2.34s/it]\n"
     ]
    }
   ],
   "source": [
    "df_sum = None\n",
    "for df_path in tqdm(list(Path(\"../data/local/tables/\").iterdir())[-10:]):\n",
    "    if df_sum is None: \n",
    "        df_sum = pd.read_csv(df_path, encoding='utf-8', low_memory=False)\n",
    "    else : \n",
    "        df_sum.append(pd.read_csv(df_path, encoding='utf-8', low_memory=False))"
   ]
  },
  {
   "cell_type": "code",
   "execution_count": 3,
   "id": "f7a7201a-5dd4-476a-b655-167037e77718",
   "metadata": {},
   "outputs": [
    {
     "data": {
      "text/html": [
       "<div>\n",
       "<style scoped>\n",
       "    .dataframe tbody tr th:only-of-type {\n",
       "        vertical-align: middle;\n",
       "    }\n",
       "\n",
       "    .dataframe tbody tr th {\n",
       "        vertical-align: top;\n",
       "    }\n",
       "\n",
       "    .dataframe thead th {\n",
       "        text-align: right;\n",
       "    }\n",
       "</style>\n",
       "<table border=\"1\" class=\"dataframe\">\n",
       "  <thead>\n",
       "    <tr style=\"text-align: right;\">\n",
       "      <th></th>\n",
       "      <th>id</th>\n",
       "      <th>imei</th>\n",
       "      <th>name</th>\n",
       "      <th>stateCode</th>\n",
       "      <th>stateName</th>\n",
       "      <th>lat</th>\n",
       "      <th>lng</th>\n",
       "      <th>speed</th>\n",
       "      <th>orientation</th>\n",
       "      <th>gpstime</th>\n",
       "      <th>routeId</th>\n",
       "      <th>routeName</th>\n",
       "      <th>routeColour</th>\n",
       "      <th>inDepo</th>\n",
       "      <th>busNumber</th>\n",
       "      <th>perevId</th>\n",
       "      <th>perevName</th>\n",
       "      <th>remark</th>\n",
       "      <th>online</th>\n",
       "      <th>idBusTypes</th>\n",
       "    </tr>\n",
       "  </thead>\n",
       "  <tbody>\n",
       "  </tbody>\n",
       "</table>\n",
       "</div>"
      ],
      "text/plain": [
       "Empty DataFrame\n",
       "Columns: [id, imei, name, stateCode, stateName, lat, lng, speed, orientation, gpstime, routeId, routeName, routeColour, inDepo, busNumber, perevId, perevName, remark, online, idBusTypes]\n",
       "Index: []"
      ]
     },
     "execution_count": 3,
     "metadata": {},
     "output_type": "execute_result"
    }
   ],
   "source": [
    "df_sum[df_sum.duplicated()]"
   ]
  },
  {
   "cell_type": "code",
   "execution_count": 4,
   "id": "a28dd253-3d94-4db2-9987-1b67c87bdf22",
   "metadata": {},
   "outputs": [
    {
     "name": "stdout",
     "output_type": "stream",
     "text": [
      "<class 'pandas.core.frame.DataFrame'>\n",
      "RangeIndex: 280232 entries, 0 to 280231\n",
      "Data columns (total 20 columns):\n",
      " #   Column       Non-Null Count   Dtype  \n",
      "---  ------       --------------   -----  \n",
      " 0   id           280232 non-null  int64  \n",
      " 1   imei         280232 non-null  int64  \n",
      " 2   name         280232 non-null  object \n",
      " 3   stateCode    280232 non-null  object \n",
      " 4   stateName    280232 non-null  object \n",
      " 5   lat          280232 non-null  float64\n",
      " 6   lng          280232 non-null  float64\n",
      " 7   speed        280232 non-null  float64\n",
      " 8   orientation  280232 non-null  float64\n",
      " 9   gpstime      280232 non-null  object \n",
      " 10  routeId      280232 non-null  int64  \n",
      " 11  routeName    280232 non-null  object \n",
      " 12  routeColour  280232 non-null  object \n",
      " 13  inDepo       280232 non-null  bool   \n",
      " 14  busNumber    280232 non-null  object \n",
      " 15  perevId      280232 non-null  int64  \n",
      " 16  perevName    280232 non-null  object \n",
      " 17  remark       280232 non-null  object \n",
      " 18  online       280232 non-null  bool   \n",
      " 19  idBusTypes   280232 non-null  int64  \n",
      "dtypes: bool(2), float64(4), int64(5), object(9)\n",
      "memory usage: 39.0+ MB\n"
     ]
    }
   ],
   "source": [
    "df_sum.info()"
   ]
  },
  {
   "cell_type": "markdown",
   "id": "6ebb49e6-8d75-4730-b6a7-b3eed2b895e2",
   "metadata": {},
   "source": [
    "### SQL Shema bouild"
   ]
  },
  {
   "cell_type": "code",
   "execution_count": 7,
   "id": "861a5d2b-88ae-49c4-b2da-f1c3b449c8e6",
   "metadata": {},
   "outputs": [
    {
     "data": {
      "text/plain": [
       "False    271876\n",
       "True       8356\n",
       "Name: inDepo, dtype: int64"
      ]
     },
     "execution_count": 7,
     "metadata": {},
     "output_type": "execute_result"
    }
   ],
   "source": [
    "df_sum['inDepo'].value_counts()"
   ]
  },
  {
   "cell_type": "code",
   "execution_count": 61,
   "id": "09471ff3-6b6a-4224-a549-b3f139e7c823",
   "metadata": {},
   "outputs": [
    {
     "data": {
      "text/plain": [
       "idBusTypes\n",
       "1             200704\n",
       "2              79528\n",
       "dtype: int64"
      ]
     },
     "execution_count": 61,
     "metadata": {},
     "output_type": "execute_result"
    }
   ],
   "source": [
    "# df_sum[['routeId', 'routeName', 'routeColour']].value_counts()\n",
    "# df_sum[['imei', 'name', 'busNumber', 'perevId']].value_counts()\n",
    "df_sum[['idBusTypes']].value_counts()"
   ]
  },
  {
   "cell_type": "code",
   "execution_count": 63,
   "id": "c515b476-e425-453f-bc3c-87152a390252",
   "metadata": {},
   "outputs": [
    {
     "data": {
      "text/plain": [
       "imei             name  busNumber  perevId  idBusTypes\n",
       "355227045371655  A1    6513       7        1             5521\n",
       "355227046638821  A211  1181       13       1             5328\n",
       "355228042084283  A207  1032       13       1             5239\n",
       "355227045540192  A91   7762       1        1             4498\n",
       "355227044854750  A22   7665       1        1             4483\n",
       "                                                         ... \n",
       "355228043199080  H103  8716       12       1               18\n",
       "355227045539491  Am86  1027       2        1               10\n",
       "355228043162351  H107  9138       12       1                5\n",
       "355227045600855  A142  377        6        2                2\n",
       "355227046447371  H65   355        6        2                1\n",
       "Length: 98, dtype: int64"
      ]
     },
     "execution_count": 63,
     "metadata": {},
     "output_type": "execute_result"
    }
   ],
   "source": [
    "df_sum[['imei', 'name', 'busNumber', 'perevId', 'idBusTypes']].value_counts()"
   ]
  },
  {
   "cell_type": "code",
   "execution_count": 42,
   "id": "4540c106-7275-4eed-a008-a50704060968",
   "metadata": {},
   "outputs": [],
   "source": [
    "a = df_sum[['remark']].value_counts()"
   ]
  },
  {
   "cell_type": "code",
   "execution_count": 57,
   "id": "fa1ed761-0057-4939-bbb4-fc3ba7b77186",
   "metadata": {},
   "outputs": [
    {
     "data": {
      "text/plain": [
       "imei             name  busNumber  remark    \n",
       "355227045541257  A57   9043       0325 DNSNK    2007\n",
       "                                  9043 DNSNK    1870\n",
       "dtype: int64"
      ]
     },
     "execution_count": 57,
     "metadata": {},
     "output_type": "execute_result"
    }
   ],
   "source": [
    "df_sum[df_sum['imei'] == 355227045541257][['imei', 'name', 'busNumber', 'remark']].value_counts()\n"
   ]
  },
  {
   "cell_type": "code",
   "execution_count": 53,
   "id": "0fd484c7-e6f4-4e3b-a6b4-6f40a2693728",
   "metadata": {},
   "outputs": [],
   "source": [
    "from collections import Counter"
   ]
  },
  {
   "cell_type": "code",
   "execution_count": 58,
   "id": "f50442e2-12d4-4d62-a348-8696e764c7c2",
   "metadata": {},
   "outputs": [],
   "source": [
    "# Counter([k[0] for k in a.to_dict()])"
   ]
  },
  {
   "cell_type": "code",
   "execution_count": 59,
   "id": "6c6abad0-ca30-46d6-adda-14665fb0dd19",
   "metadata": {},
   "outputs": [],
   "source": [
    "# a.to_dict()"
   ]
  },
  {
   "cell_type": "markdown",
   "id": "d0295bc6-3872-4e93-a9ee-f45cdc8441d8",
   "metadata": {
    "tags": []
   },
   "source": [
    "0   id           280232 non-null  int64  \n",
    "\n",
    "### USELESS ?!\n",
    " 3   stateCode    280232 non-null  object #only value is 'used'\n",
    " \n",
    " 4   stateName    280232 non-null  object #only value is 'used'\n",
    " \n",
    " 18  online       280232 non-null  bool   #only value is 'True'\n",
    " \n",
    "\n",
    "### ROUTES\n",
    " 10  routeId      280232 non-null  int64  \n",
    " \n",
    " 11  routeName    280232 non-null  object \n",
    " \n",
    " 12  routeColour  280232 non-null  object \n",
    "    \n",
    "\n",
    "### OWNER\n",
    " 15  perevId      280232 non-null  int64  \n",
    " \n",
    " 16  perevName    280232 non-null  object \n",
    "\n",
    "\n",
    "### WEEHCLE \n",
    " 1   imei         280232 non-null  int64  \n",
    " \n",
    " 2   name         280232 non-null  object \n",
    " \n",
    " 14  busNumber    280232 non-null  object \n",
    " \n",
    " 17  remark       280232 non-null  object \n",
    " \n",
    " 19  idBusTypes   280232 non-null  int64  \n",
    "\n",
    "### GPS\n",
    " 5   lat          280232 non-null  float64\n",
    " \n",
    " 6   lng          280232 non-null  float64\n",
    " \n",
    " 7   speed        280232 non-null  float64\n",
    " \n",
    " 8   orientation  280232 non-null  float64\n",
    " \n",
    " 9   gpstime      280232 non-null  object \n",
    " \n",
    "13  inDepo       280232 non-null  bool   \n",
    "\n",
    "\n",
    "## CODE \n",
    "```\n",
    "Table rowdata.gpsdata {\n",
    "id int [pk, increment]\n",
    "lat float\n",
    "lng float\n",
    "speed float\n",
    "orientation float\n",
    "gpstime datetime\n",
    "inDepo bool\n",
    "\n",
    "routeId int [ref: > E.id]\n",
    "\n",
    "response_datetime datetime\n",
    "\n",
    "edited datetime\n",
    "\n",
    "Indexes {\n",
    "(id) [pk]\n",
    "}\n",
    "}\n",
    "\n",
    "Table rowdata.vehicle as E {\n",
    "id int [pk, increment]\n",
    "imei int\n",
    "name varchar\n",
    "busNumber int\n",
    "remark varchar\n",
    "\n",
    "perevId int [ref: > O.id]\n",
    "routeId int [ref: > R.id]\n",
    "\n",
    "edited datetime\n",
    "\n",
    "Indexes {\n",
    "(id) [pk]\n",
    "}\n",
    "}\n",
    "\n",
    "Table rowdata.owner as O {\n",
    "id int [pk, increment]\n",
    "perevName varchar\n",
    "edited datetime\n",
    "\n",
    "Indexes {\n",
    "(id) [pk]\n",
    "}\n",
    "}\n",
    "\n",
    "Table rowdata.route as R {\n",
    "id int [pk, increment]\n",
    "routeName varchar\n",
    "routeColour varchar\n",
    "\n",
    "etited datetime\n",
    "\n",
    "Indexes {\n",
    "(id) [pk]\n",
    "}\n",
    "}\n",
    "```"
   ]
  },
  {
   "cell_type": "code",
   "execution_count": null,
   "id": "04cbf925-8ca5-40d5-8283-c4ca652f12c1",
   "metadata": {},
   "outputs": [],
   "source": []
  },
  {
   "cell_type": "code",
   "execution_count": 3,
   "id": "9a034b10-a027-4d8a-bf16-90cdc97279f4",
   "metadata": {},
   "outputs": [],
   "source": [
    "import psycopg2\n",
    "import os"
   ]
  },
  {
   "cell_type": "code",
   "execution_count": 4,
   "id": "d4879c37-405d-46b5-9922-169a99321579",
   "metadata": {},
   "outputs": [],
   "source": [
    "conn = psycopg2.connect(\n",
    "    host=os.environ['RDS_HOSTNAME'],\n",
    "    database=\"pteta_db\",\n",
    "    user=\"postgres\",\n",
    "    password=os.environ['RDS_PTETA_DB_PASSWORD'])"
   ]
  },
  {
   "cell_type": "code",
   "execution_count": 5,
   "id": "7bb3e40a-59d0-4199-8f37-96450a9fabe8",
   "metadata": {
    "collapsed": true,
    "jupyter": {
     "outputs_hidden": true
    },
    "tags": []
   },
   "outputs": [
    {
     "name": "stdout",
     "output_type": "stream",
     "text": [
      "[('pteta_db', 'pteta', 'gpsdata', 'BASE TABLE', None, None, None, None, None, 'YES', 'NO', None), ('pteta_db', 'pteta', 'owner', 'BASE TABLE', None, None, None, None, None, 'YES', 'NO', None), ('pteta_db', 'pteta', 'route', 'BASE TABLE', None, None, None, None, None, 'YES', 'NO', None), ('pteta_db', 'pg_catalog', 'pg_type', 'BASE TABLE', None, None, None, None, None, 'YES', 'NO', None), ('pteta_db', 'pg_catalog', 'pg_foreign_table', 'BASE TABLE', None, None, None, None, None, 'YES', 'NO', None), ('pteta_db', 'pteta', 'vehicle', 'BASE TABLE', None, None, None, None, None, 'YES', 'NO', None), ('pteta_db', 'pg_catalog', 'pg_roles', 'VIEW', None, None, None, None, None, 'NO', 'NO', None), ('pteta_db', 'pg_catalog', 'pg_settings', 'VIEW', None, None, None, None, None, 'NO', 'NO', None), ('pteta_db', 'pg_catalog', 'pg_prepared_statements', 'VIEW', None, None, None, None, None, 'NO', 'NO', None), ('pteta_db', 'pg_catalog', 'pg_stat_progress_vacuum', 'VIEW', None, None, None, None, None, 'NO', 'NO', None), ('pteta_db', 'pg_catalog', 'pg_subscription', 'BASE TABLE', None, None, None, None, None, 'YES', 'NO', None), ('pteta_db', 'pg_catalog', 'pg_attribute', 'BASE TABLE', None, None, None, None, None, 'YES', 'NO', None), ('pteta_db', 'pg_catalog', 'pg_proc', 'BASE TABLE', None, None, None, None, None, 'YES', 'NO', None), ('pteta_db', 'pg_catalog', 'pg_class', 'BASE TABLE', None, None, None, None, None, 'YES', 'NO', None), ('pteta_db', 'pg_catalog', 'pg_attrdef', 'BASE TABLE', None, None, None, None, None, 'YES', 'NO', None), ('pteta_db', 'pg_catalog', 'pg_constraint', 'BASE TABLE', None, None, None, None, None, 'YES', 'NO', None), ('pteta_db', 'pg_catalog', 'pg_inherits', 'BASE TABLE', None, None, None, None, None, 'YES', 'NO', None), ('pteta_db', 'pg_catalog', 'pg_index', 'BASE TABLE', None, None, None, None, None, 'YES', 'NO', None), ('pteta_db', 'pg_catalog', 'pg_operator', 'BASE TABLE', None, None, None, None, None, 'YES', 'NO', None), ('pteta_db', 'pg_catalog', 'pg_opfamily', 'BASE TABLE', None, None, None, None, None, 'YES', 'NO', None), ('pteta_db', 'pg_catalog', 'pg_opclass', 'BASE TABLE', None, None, None, None, None, 'YES', 'NO', None), ('pteta_db', 'pg_catalog', 'pg_am', 'BASE TABLE', None, None, None, None, None, 'YES', 'NO', None), ('pteta_db', 'pg_catalog', 'pg_amop', 'BASE TABLE', None, None, None, None, None, 'YES', 'NO', None), ('pteta_db', 'pg_catalog', 'pg_amproc', 'BASE TABLE', None, None, None, None, None, 'YES', 'NO', None), ('pteta_db', 'pg_catalog', 'pg_language', 'BASE TABLE', None, None, None, None, None, 'YES', 'NO', None), ('pteta_db', 'pg_catalog', 'pg_largeobject_metadata', 'BASE TABLE', None, None, None, None, None, 'YES', 'NO', None), ('pteta_db', 'pg_catalog', 'pg_aggregate', 'BASE TABLE', None, None, None, None, None, 'YES', 'NO', None), ('pteta_db', 'pg_catalog', 'pg_statistic_ext', 'BASE TABLE', None, None, None, None, None, 'YES', 'NO', None), ('pteta_db', 'pg_catalog', 'pg_rewrite', 'BASE TABLE', None, None, None, None, None, 'YES', 'NO', None), ('pteta_db', 'pg_catalog', 'pg_trigger', 'BASE TABLE', None, None, None, None, None, 'YES', 'NO', None), ('pteta_db', 'pg_catalog', 'pg_event_trigger', 'BASE TABLE', None, None, None, None, None, 'YES', 'NO', None), ('pteta_db', 'pg_catalog', 'pg_description', 'BASE TABLE', None, None, None, None, None, 'YES', 'NO', None), ('pteta_db', 'pg_catalog', 'pg_cast', 'BASE TABLE', None, None, None, None, None, 'YES', 'NO', None), ('pteta_db', 'pg_catalog', 'pg_stat_progress_cluster', 'VIEW', None, None, None, None, None, 'NO', 'NO', None), ('pteta_db', 'pg_catalog', 'pg_stat_progress_create_index', 'VIEW', None, None, None, None, None, 'NO', 'NO', None), ('pteta_db', 'pg_catalog', 'pg_stat_progress_basebackup', 'VIEW', None, None, None, None, None, 'NO', 'NO', None), ('pteta_db', 'pg_catalog', 'pg_user_mappings', 'VIEW', None, None, None, None, None, 'NO', 'NO', None), ('pteta_db', 'pg_catalog', 'pg_enum', 'BASE TABLE', None, None, None, None, None, 'YES', 'NO', None), ('pteta_db', 'pg_catalog', 'pg_namespace', 'BASE TABLE', None, None, None, None, None, 'YES', 'NO', None), ('pteta_db', 'pg_catalog', 'pg_conversion', 'BASE TABLE', None, None, None, None, None, 'YES', 'NO', None), ('pteta_db', 'pg_catalog', 'pg_depend', 'BASE TABLE', None, None, None, None, None, 'YES', 'NO', None), ('pteta_db', 'pg_catalog', 'pg_database', 'BASE TABLE', None, None, None, None, None, 'YES', 'NO', None), ('pteta_db', 'pg_catalog', 'pg_db_role_setting', 'BASE TABLE', None, None, None, None, None, 'YES', 'NO', None), ('pteta_db', 'pg_catalog', 'pg_tablespace', 'BASE TABLE', None, None, None, None, None, 'YES', 'NO', None), ('pteta_db', 'pg_catalog', 'pg_auth_members', 'BASE TABLE', None, None, None, None, None, 'YES', 'NO', None), ('pteta_db', 'pg_catalog', 'pg_shdepend', 'BASE TABLE', None, None, None, None, None, 'YES', 'NO', None), ('pteta_db', 'pg_catalog', 'pg_shdescription', 'BASE TABLE', None, None, None, None, None, 'YES', 'NO', None), ('pteta_db', 'pg_catalog', 'pg_ts_config', 'BASE TABLE', None, None, None, None, None, 'YES', 'NO', None), ('pteta_db', 'pg_catalog', 'pg_ts_config_map', 'BASE TABLE', None, None, None, None, None, 'YES', 'NO', None), ('pteta_db', 'pg_catalog', 'pg_ts_dict', 'BASE TABLE', None, None, None, None, None, 'YES', 'NO', None), ('pteta_db', 'pg_catalog', 'pg_ts_parser', 'BASE TABLE', None, None, None, None, None, 'YES', 'NO', None), ('pteta_db', 'pg_catalog', 'pg_ts_template', 'BASE TABLE', None, None, None, None, None, 'YES', 'NO', None), ('pteta_db', 'pg_catalog', 'pg_extension', 'BASE TABLE', None, None, None, None, None, 'YES', 'NO', None), ('pteta_db', 'pg_catalog', 'pg_foreign_data_wrapper', 'BASE TABLE', None, None, None, None, None, 'YES', 'NO', None), ('pteta_db', 'pg_catalog', 'pg_foreign_server', 'BASE TABLE', None, None, None, None, None, 'YES', 'NO', None), ('pteta_db', 'pg_catalog', 'pg_policy', 'BASE TABLE', None, None, None, None, None, 'YES', 'NO', None), ('pteta_db', 'pg_catalog', 'pg_replication_origin', 'BASE TABLE', None, None, None, None, None, 'YES', 'NO', None), ('pteta_db', 'pg_catalog', 'pg_default_acl', 'BASE TABLE', None, None, None, None, None, 'YES', 'NO', None), ('pteta_db', 'pg_catalog', 'pg_init_privs', 'BASE TABLE', None, None, None, None, None, 'YES', 'NO', None), ('pteta_db', 'pg_catalog', 'pg_seclabel', 'BASE TABLE', None, None, None, None, None, 'YES', 'NO', None), ('pteta_db', 'pg_catalog', 'pg_shseclabel', 'BASE TABLE', None, None, None, None, None, 'YES', 'NO', None), ('pteta_db', 'pg_catalog', 'pg_collation', 'BASE TABLE', None, None, None, None, None, 'YES', 'NO', None), ('pteta_db', 'pg_catalog', 'pg_partitioned_table', 'BASE TABLE', None, None, None, None, None, 'YES', 'NO', None), ('pteta_db', 'pg_catalog', 'pg_range', 'BASE TABLE', None, None, None, None, None, 'YES', 'NO', None), ('pteta_db', 'pg_catalog', 'pg_transform', 'BASE TABLE', None, None, None, None, None, 'YES', 'NO', None), ('pteta_db', 'pg_catalog', 'pg_sequence', 'BASE TABLE', None, None, None, None, None, 'YES', 'NO', None), ('pteta_db', 'pg_catalog', 'pg_publication', 'BASE TABLE', None, None, None, None, None, 'YES', 'NO', None), ('pteta_db', 'pg_catalog', 'pg_publication_rel', 'BASE TABLE', None, None, None, None, None, 'YES', 'NO', None), ('pteta_db', 'pg_catalog', 'pg_subscription_rel', 'BASE TABLE', None, None, None, None, None, 'YES', 'NO', None), ('pteta_db', 'pg_catalog', 'pg_group', 'VIEW', None, None, None, None, None, 'YES', 'NO', None), ('pteta_db', 'pg_catalog', 'pg_user', 'VIEW', None, None, None, None, None, 'NO', 'NO', None), ('pteta_db', 'pg_catalog', 'pg_policies', 'VIEW', None, None, None, None, None, 'NO', 'NO', None), ('pteta_db', 'pg_catalog', 'pg_rules', 'VIEW', None, None, None, None, None, 'NO', 'NO', None), ('pteta_db', 'pg_catalog', 'pg_views', 'VIEW', None, None, None, None, None, 'NO', 'NO', None), ('pteta_db', 'pg_catalog', 'pg_tables', 'VIEW', None, None, None, None, None, 'NO', 'NO', None), ('pteta_db', 'pg_catalog', 'pg_matviews', 'VIEW', None, None, None, None, None, 'NO', 'NO', None), ('pteta_db', 'pg_catalog', 'pg_indexes', 'VIEW', None, None, None, None, None, 'NO', 'NO', None), ('pteta_db', 'pg_catalog', 'pg_sequences', 'VIEW', None, None, None, None, None, 'NO', 'NO', None), ('pteta_db', 'pg_catalog', 'pg_stats', 'VIEW', None, None, None, None, None, 'NO', 'NO', None), ('pteta_db', 'pg_catalog', 'pg_stats_ext', 'VIEW', None, None, None, None, None, 'NO', 'NO', None), ('pteta_db', 'pg_catalog', 'pg_publication_tables', 'VIEW', None, None, None, None, None, 'NO', 'NO', None), ('pteta_db', 'pg_catalog', 'pg_locks', 'VIEW', None, None, None, None, None, 'NO', 'NO', None), ('pteta_db', 'pg_catalog', 'pg_cursors', 'VIEW', None, None, None, None, None, 'NO', 'NO', None), ('pteta_db', 'pg_catalog', 'pg_available_extensions', 'VIEW', None, None, None, None, None, 'NO', 'NO', None), ('pteta_db', 'pg_catalog', 'pg_available_extension_versions', 'VIEW', None, None, None, None, None, 'NO', 'NO', None), ('pteta_db', 'pg_catalog', 'pg_prepared_xacts', 'VIEW', None, None, None, None, None, 'NO', 'NO', None), ('pteta_db', 'pg_catalog', 'pg_seclabels', 'VIEW', None, None, None, None, None, 'NO', 'NO', None), ('pteta_db', 'pg_catalog', 'pg_statio_user_tables', 'VIEW', None, None, None, None, None, 'NO', 'NO', None), ('pteta_db', 'pg_catalog', 'pg_stat_all_indexes', 'VIEW', None, None, None, None, None, 'NO', 'NO', None), ('pteta_db', 'pg_catalog', 'pg_timezone_abbrevs', 'VIEW', None, None, None, None, None, 'NO', 'NO', None), ('pteta_db', 'pg_catalog', 'pg_timezone_names', 'VIEW', None, None, None, None, None, 'NO', 'NO', None), ('pteta_db', 'pg_catalog', 'pg_stat_sys_indexes', 'VIEW', None, None, None, None, None, 'NO', 'NO', None), ('pteta_db', 'pg_catalog', 'pg_stat_all_tables', 'VIEW', None, None, None, None, None, 'NO', 'NO', None), ('pteta_db', 'pg_catalog', 'pg_stat_xact_all_tables', 'VIEW', None, None, None, None, None, 'NO', 'NO', None), ('pteta_db', 'pg_catalog', 'pg_stat_sys_tables', 'VIEW', None, None, None, None, None, 'NO', 'NO', None), ('pteta_db', 'pg_catalog', 'pg_stat_xact_sys_tables', 'VIEW', None, None, None, None, None, 'NO', 'NO', None), ('pteta_db', 'pg_catalog', 'pg_stat_user_tables', 'VIEW', None, None, None, None, None, 'NO', 'NO', None), ('pteta_db', 'pg_catalog', 'pg_stat_xact_user_tables', 'VIEW', None, None, None, None, None, 'NO', 'NO', None), ('pteta_db', 'pg_catalog', 'pg_statio_all_tables', 'VIEW', None, None, None, None, None, 'NO', 'NO', None), ('pteta_db', 'pg_catalog', 'pg_statio_sys_tables', 'VIEW', None, None, None, None, None, 'NO', 'NO', None), ('pteta_db', 'pg_catalog', 'pg_stat_user_indexes', 'VIEW', None, None, None, None, None, 'NO', 'NO', None), ('pteta_db', 'pg_catalog', 'pg_statio_all_indexes', 'VIEW', None, None, None, None, None, 'NO', 'NO', None), ('pteta_db', 'pg_catalog', 'pg_statio_sys_indexes', 'VIEW', None, None, None, None, None, 'NO', 'NO', None), ('pteta_db', 'pg_catalog', 'pg_statio_user_indexes', 'VIEW', None, None, None, None, None, 'NO', 'NO', None), ('pteta_db', 'pg_catalog', 'pg_statio_all_sequences', 'VIEW', None, None, None, None, None, 'NO', 'NO', None), ('pteta_db', 'pg_catalog', 'pg_statio_sys_sequences', 'VIEW', None, None, None, None, None, 'NO', 'NO', None), ('pteta_db', 'pg_catalog', 'pg_statio_user_sequences', 'VIEW', None, None, None, None, None, 'NO', 'NO', None), ('pteta_db', 'pg_catalog', 'pg_stat_activity', 'VIEW', None, None, None, None, None, 'NO', 'NO', None), ('pteta_db', 'pg_catalog', 'pg_stat_replication', 'VIEW', None, None, None, None, None, 'NO', 'NO', None), ('pteta_db', 'pg_catalog', 'pg_stat_slru', 'VIEW', None, None, None, None, None, 'NO', 'NO', None), ('pteta_db', 'pg_catalog', 'pg_stat_wal_receiver', 'VIEW', None, None, None, None, None, 'NO', 'NO', None), ('pteta_db', 'pg_catalog', 'pg_stat_subscription', 'VIEW', None, None, None, None, None, 'NO', 'NO', None), ('pteta_db', 'pg_catalog', 'pg_stat_ssl', 'VIEW', None, None, None, None, None, 'NO', 'NO', None), ('pteta_db', 'pg_catalog', 'pg_stat_gssapi', 'VIEW', None, None, None, None, None, 'NO', 'NO', None), ('pteta_db', 'pg_catalog', 'pg_replication_slots', 'VIEW', None, None, None, None, None, 'NO', 'NO', None), ('pteta_db', 'pg_catalog', 'pg_stat_database', 'VIEW', None, None, None, None, None, 'NO', 'NO', None), ('pteta_db', 'pg_catalog', 'pg_stat_database_conflicts', 'VIEW', None, None, None, None, None, 'YES', 'NO', None), ('pteta_db', 'pg_catalog', 'pg_stat_user_functions', 'VIEW', None, None, None, None, None, 'NO', 'NO', None), ('pteta_db', 'pg_catalog', 'pg_stat_xact_user_functions', 'VIEW', None, None, None, None, None, 'NO', 'NO', None), ('pteta_db', 'pg_catalog', 'pg_stat_archiver', 'VIEW', None, None, None, None, None, 'NO', 'NO', None), ('pteta_db', 'pg_catalog', 'pg_stat_bgwriter', 'VIEW', None, None, None, None, None, 'NO', 'NO', None), ('pteta_db', 'pg_catalog', 'pg_stat_progress_analyze', 'VIEW', None, None, None, None, None, 'NO', 'NO', None), ('pteta_db', 'information_schema', 'columns', 'VIEW', None, None, None, None, None, 'NO', 'NO', None), ('pteta_db', 'information_schema', 'information_schema_catalog_name', 'VIEW', None, None, None, None, None, 'NO', 'NO', None), ('pteta_db', 'information_schema', 'collations', 'VIEW', None, None, None, None, None, 'NO', 'NO', None), ('pteta_db', 'information_schema', 'applicable_roles', 'VIEW', None, None, None, None, None, 'NO', 'NO', None), ('pteta_db', 'information_schema', 'administrable_role_authorizations', 'VIEW', None, None, None, None, None, 'NO', 'NO', None), ('pteta_db', 'information_schema', 'column_privileges', 'VIEW', None, None, None, None, None, 'NO', 'NO', None), ('pteta_db', 'information_schema', 'attributes', 'VIEW', None, None, None, None, None, 'NO', 'NO', None), ('pteta_db', 'information_schema', 'collation_character_set_applicability', 'VIEW', None, None, None, None, None, 'NO', 'NO', None), ('pteta_db', 'information_schema', 'character_sets', 'VIEW', None, None, None, None, None, 'NO', 'NO', None), ('pteta_db', 'information_schema', 'check_constraint_routine_usage', 'VIEW', None, None, None, None, None, 'NO', 'NO', None), ('pteta_db', 'information_schema', 'check_constraints', 'VIEW', None, None, None, None, None, 'NO', 'NO', None), ('pteta_db', 'information_schema', 'column_column_usage', 'VIEW', None, None, None, None, None, 'NO', 'NO', None), ('pteta_db', 'information_schema', 'column_domain_usage', 'VIEW', None, None, None, None, None, 'NO', 'NO', None), ('pteta_db', 'information_schema', 'column_udt_usage', 'VIEW', None, None, None, None, None, 'NO', 'NO', None), ('pteta_db', 'information_schema', 'constraint_column_usage', 'VIEW', None, None, None, None, None, 'NO', 'NO', None), ('pteta_db', 'information_schema', 'constraint_table_usage', 'VIEW', None, None, None, None, None, 'NO', 'NO', None), ('pteta_db', 'information_schema', 'domain_constraints', 'VIEW', None, None, None, None, None, 'NO', 'NO', None), ('pteta_db', 'information_schema', 'domain_udt_usage', 'VIEW', None, None, None, None, None, 'NO', 'NO', None), ('pteta_db', 'information_schema', 'domains', 'VIEW', None, None, None, None, None, 'NO', 'NO', None), ('pteta_db', 'information_schema', 'enabled_roles', 'VIEW', None, None, None, None, None, 'NO', 'NO', None), ('pteta_db', 'information_schema', 'sql_implementation_info', 'BASE TABLE', None, None, None, None, None, 'YES', 'NO', None), ('pteta_db', 'information_schema', 'key_column_usage', 'VIEW', None, None, None, None, None, 'NO', 'NO', None), ('pteta_db', 'information_schema', 'parameters', 'VIEW', None, None, None, None, None, 'NO', 'NO', None), ('pteta_db', 'information_schema', 'referential_constraints', 'VIEW', None, None, None, None, None, 'NO', 'NO', None), ('pteta_db', 'information_schema', 'role_column_grants', 'VIEW', None, None, None, None, None, 'NO', 'NO', None), ('pteta_db', 'information_schema', 'sql_parts', 'BASE TABLE', None, None, None, None, None, 'YES', 'NO', None), ('pteta_db', 'information_schema', 'routine_privileges', 'VIEW', None, None, None, None, None, 'NO', 'NO', None), ('pteta_db', 'information_schema', 'role_routine_grants', 'VIEW', None, None, None, None, None, 'NO', 'NO', None), ('pteta_db', 'information_schema', 'routines', 'VIEW', None, None, None, None, None, 'NO', 'NO', None), ('pteta_db', 'information_schema', 'schemata', 'VIEW', None, None, None, None, None, 'NO', 'NO', None), ('pteta_db', 'information_schema', 'tables', 'VIEW', None, None, None, None, None, 'NO', 'NO', None), ('pteta_db', 'information_schema', 'sequences', 'VIEW', None, None, None, None, None, 'NO', 'NO', None), ('pteta_db', 'information_schema', 'sql_sizing', 'BASE TABLE', None, None, None, None, None, 'YES', 'NO', None), ('pteta_db', 'information_schema', 'sql_features', 'BASE TABLE', None, None, None, None, None, 'YES', 'NO', None), ('pteta_db', 'information_schema', 'table_constraints', 'VIEW', None, None, None, None, None, 'NO', 'NO', None), ('pteta_db', 'information_schema', 'transforms', 'VIEW', None, None, None, None, None, 'NO', 'NO', None), ('pteta_db', 'information_schema', 'table_privileges', 'VIEW', None, None, None, None, None, 'NO', 'NO', None), ('pteta_db', 'information_schema', 'role_table_grants', 'VIEW', None, None, None, None, None, 'NO', 'NO', None), ('pteta_db', 'information_schema', 'udt_privileges', 'VIEW', None, None, None, None, None, 'NO', 'NO', None), ('pteta_db', 'information_schema', 'triggered_update_columns', 'VIEW', None, None, None, None, None, 'NO', 'NO', None), ('pteta_db', 'information_schema', 'triggers', 'VIEW', None, None, None, None, None, 'NO', 'NO', None), ('pteta_db', 'information_schema', 'usage_privileges', 'VIEW', None, None, None, None, None, 'NO', 'NO', None), ('pteta_db', 'information_schema', 'role_udt_grants', 'VIEW', None, None, None, None, None, 'NO', 'NO', None), ('pteta_db', 'information_schema', 'role_usage_grants', 'VIEW', None, None, None, None, None, 'NO', 'NO', None), ('pteta_db', 'information_schema', 'user_defined_types', 'VIEW', None, None, None, None, None, 'NO', 'NO', None), ('pteta_db', 'information_schema', 'view_column_usage', 'VIEW', None, None, None, None, None, 'NO', 'NO', None), ('pteta_db', 'information_schema', 'view_routine_usage', 'VIEW', None, None, None, None, None, 'NO', 'NO', None), ('pteta_db', 'information_schema', 'view_table_usage', 'VIEW', None, None, None, None, None, 'NO', 'NO', None), ('pteta_db', 'information_schema', 'foreign_tables', 'VIEW', None, None, None, None, None, 'NO', 'NO', None), ('pteta_db', 'information_schema', 'views', 'VIEW', None, None, None, None, None, 'NO', 'NO', None), ('pteta_db', 'information_schema', 'data_type_privileges', 'VIEW', None, None, None, None, None, 'NO', 'NO', None), ('pteta_db', 'information_schema', '_pg_user_mappings', 'VIEW', None, None, None, None, None, 'NO', 'NO', None), ('pteta_db', 'information_schema', 'element_types', 'VIEW', None, None, None, None, None, 'NO', 'NO', None), ('pteta_db', 'information_schema', '_pg_foreign_table_columns', 'VIEW', None, None, None, None, None, 'NO', 'NO', None), ('pteta_db', 'information_schema', 'column_options', 'VIEW', None, None, None, None, None, 'NO', 'NO', None), ('pteta_db', 'information_schema', '_pg_foreign_data_wrappers', 'VIEW', None, None, None, None, None, 'NO', 'NO', None), ('pteta_db', 'information_schema', 'foreign_data_wrapper_options', 'VIEW', None, None, None, None, None, 'NO', 'NO', None), ('pteta_db', 'information_schema', 'user_mapping_options', 'VIEW', None, None, None, None, None, 'NO', 'NO', None), ('pteta_db', 'information_schema', 'foreign_data_wrappers', 'VIEW', None, None, None, None, None, 'NO', 'NO', None), ('pteta_db', 'information_schema', '_pg_foreign_servers', 'VIEW', None, None, None, None, None, 'NO', 'NO', None), ('pteta_db', 'information_schema', 'foreign_server_options', 'VIEW', None, None, None, None, None, 'NO', 'NO', None), ('pteta_db', 'information_schema', 'foreign_servers', 'VIEW', None, None, None, None, None, 'NO', 'NO', None), ('pteta_db', 'information_schema', '_pg_foreign_tables', 'VIEW', None, None, None, None, None, 'NO', 'NO', None), ('pteta_db', 'information_schema', 'user_mappings', 'VIEW', None, None, None, None, None, 'NO', 'NO', None), ('pteta_db', 'information_schema', 'foreign_table_options', 'VIEW', None, None, None, None, None, 'NO', 'NO', None)]\n"
     ]
    }
   ],
   "source": [
    "with conn.cursor() as cursor: \n",
    "    cursor.execute(\"select * from information_schema.tables\")\n",
    "    print(cursor.fetchall())\n"
   ]
  },
  {
   "cell_type": "code",
   "execution_count": 6,
   "id": "eea0e948-b6b0-46e7-8cf2-85fefa72b8f3",
   "metadata": {
    "tags": []
   },
   "outputs": [
    {
     "name": "stdout",
     "output_type": "stream",
     "text": [
      "[(6, 'ЧТУ', datetime.datetime(2022, 12, 1, 22, 34, 31, 931733)), (12, 'Vitaliy2019', datetime.datetime(2022, 12, 1, 23, 7, 12, 328328)), (7, 'Віталій / Олег Бойко ', datetime.datetime(2022, 12, 1, 23, 7, 12, 526166)), (1, 'Денисівка', datetime.datetime(2022, 12, 1, 23, 7, 12, 680715)), (13, 'Олег Валентинович 39 марш', datetime.datetime(2022, 12, 1, 23, 7, 12, 844328)), (2, 'Тарас', datetime.datetime(2022, 12, 1, 23, 7, 13, 626))]\n"
     ]
    }
   ],
   "source": [
    "with conn.cursor() as cursor: \n",
    "    cursor.execute(\"SELECT * FROM pteta.owner;\")\n",
    "    print(cursor.fetchall())"
   ]
  },
  {
   "cell_type": "code",
   "execution_count": null,
   "id": "cc017685-2b82-4f44-81b3-850a6d57407c",
   "metadata": {},
   "outputs": [],
   "source": []
  },
  {
   "cell_type": "markdown",
   "id": "8c454c8e-4bda-46e7-824b-e97e7643bbc0",
   "metadata": {},
   "source": [
    "## TransportOperator"
   ]
  },
  {
   "cell_type": "code",
   "execution_count": 6,
   "id": "7330a3bf-5aac-40ff-b614-18c61bb8704f",
   "metadata": {},
   "outputs": [],
   "source": [
    "from PTETA.utils.transport.TransportOperator import TransportOperator"
   ]
  },
  {
   "cell_type": "code",
   "execution_count": 8,
   "id": "0605abc6-5983-42dd-a1b9-ac99f8f02d1e",
   "metadata": {},
   "outputs": [
    {
     "data": {
      "text/plain": [
       "\u001b[1;31mSignature:\u001b[0m \u001b[0mTransportOperator\u001b[0m\u001b[1;33m.\u001b[0m\u001b[0mget_table\u001b[0m\u001b[1;33m(\u001b[0m\u001b[0mconnection\u001b[0m\u001b[1;33m:\u001b[0m \u001b[0mpsycopg2\u001b[0m\u001b[1;33m.\u001b[0m\u001b[0mextensions\u001b[0m\u001b[1;33m.\u001b[0m\u001b[0mconnection\u001b[0m\u001b[1;33m)\u001b[0m \u001b[1;33m->\u001b[0m \u001b[0mList\u001b[0m\u001b[1;33m[\u001b[0m\u001b[0mForwardRef\u001b[0m\u001b[1;33m(\u001b[0m\u001b[1;34m'TransportOperator'\u001b[0m\u001b[1;33m)\u001b[0m\u001b[1;33m]\u001b[0m\u001b[1;33m\u001b[0m\u001b[1;33m\u001b[0m\u001b[0m\n",
       "\u001b[1;31mDocstring:\u001b[0m <no docstring>\n",
       "\u001b[1;31mFile:\u001b[0m      d:\\projects\\pteta\\pteta\\utils\\transport\\transportoperator.py\n",
       "\u001b[1;31mType:\u001b[0m      method\n"
      ]
     },
     "metadata": {},
     "output_type": "display_data"
    }
   ],
   "source": [
    "?TransportOperator.get_table"
   ]
  },
  {
   "cell_type": "code",
   "execution_count": 7,
   "id": "ba9e3d10-8572-4641-8811-a76e9480d072",
   "metadata": {},
   "outputs": [
    {
     "data": {
      "text/plain": [
       "[TransportOperator(id=6, name='ЧТУ'),\n",
       " TransportOperator(id=12, name='Vitaliy2019'),\n",
       " TransportOperator(id=7, name='Віталій / Олег Бойко '),\n",
       " TransportOperator(id=1, name='Денисівка'),\n",
       " TransportOperator(id=13, name='Олег Валентинович 39 марш'),\n",
       " TransportOperator(id=2, name='Тарас')]"
      ]
     },
     "execution_count": 7,
     "metadata": {},
     "output_type": "execute_result"
    }
   ],
   "source": [
    "TransportOperator.get_table(conn)"
   ]
  },
  {
   "cell_type": "code",
   "execution_count": null,
   "id": "d4bc4257-b496-4d97-bf61-ac2eaf5b3b5a",
   "metadata": {},
   "outputs": [],
   "source": []
  },
  {
   "cell_type": "code",
   "execution_count": 21,
   "id": "004cb7f4-98a4-4454-a152-1f0656705037",
   "metadata": {},
   "outputs": [],
   "source": [
    "for row in  df_sum[[\"perevId\", \"perevName\"]].drop_duplicates().values:\n",
    "    trans_operator = TransportOperator(*row)\n",
    "    \n",
    "    if (not trans_operator.is_in_table(conn)): \n",
    "        trans_operator.insert_in_table(conn)"
   ]
  },
  {
   "cell_type": "code",
   "execution_count": 22,
   "id": "06a64a2e-73f0-4786-b1bf-b948606ac441",
   "metadata": {},
   "outputs": [
    {
     "data": {
      "text/plain": [
       "array([[6, 'ЧТУ'],\n",
       "       [12, 'Vitaliy2019'],\n",
       "       [7, 'Віталій / Олег Бойко '],\n",
       "       [1, 'Денисівка'],\n",
       "       [13, 'Олег Валентинович 39 марш'],\n",
       "       [2, 'Тарас']], dtype=object)"
      ]
     },
     "execution_count": 22,
     "metadata": {},
     "output_type": "execute_result"
    }
   ],
   "source": [
    "df_sum[[\"perevId\", \"perevName\"]].drop_duplicates().values"
   ]
  },
  {
   "cell_type": "markdown",
   "id": "6ea4a669-0153-4498-a4e0-d885907ed3b9",
   "metadata": {},
   "source": [
    "### ROUTES\n",
    "\n",
    "10 routeId 280232 non-null int64\n",
    "\n",
    "11 routeName 280232 non-null object\n",
    "\n",
    "12 routeColour"
   ]
  },
  {
   "cell_type": "code",
   "execution_count": 104,
   "id": "d3254fc8-bbf1-4005-ac2f-30cf2d6cd0a6",
   "metadata": {},
   "outputs": [],
   "source": []
  },
  {
   "cell_type": "code",
   "execution_count": 30,
   "id": "fb6f0b27-264f-43f8-a302-a33a45ca3875",
   "metadata": {},
   "outputs": [],
   "source": [
    "from PTETA.utils.transport.TransportRoute import TransportRoute"
   ]
  },
  {
   "cell_type": "code",
   "execution_count": 20,
   "id": "213c9d45-c416-4ece-acf6-707d680abca0",
   "metadata": {},
   "outputs": [
    {
     "data": {
      "text/plain": [
       "<module 'PTETA' from 'D:\\\\projects\\\\PTETA\\\\PTETA\\\\__init__.py'>"
      ]
     },
     "execution_count": 20,
     "metadata": {},
     "output_type": "execute_result"
    }
   ],
   "source": [
    "import importlib\n",
    "import PTETA\n",
    "importlib.reload(PTETA)"
   ]
  },
  {
   "cell_type": "code",
   "execution_count": 97,
   "id": "97be5210-fa35-4cb3-88f6-8ede8dcce600",
   "metadata": {
    "collapsed": true,
    "jupyter": {
     "outputs_hidden": true
    },
    "tags": []
   },
   "outputs": [
    {
     "data": {
      "text/plain": [
       "array([[37, 'T', 'coral'],\n",
       "       [31, '6/6a', 'deeppink'],\n",
       "       [21, '38', 'deeppink'],\n",
       "       [41, '10A', 'black'],\n",
       "       [20, 'A', 'navy'],\n",
       "       [42, '39', 'coral'],\n",
       "       [23, '19', 'teal'],\n",
       "       [19, '10', 'black'],\n",
       "       [11, '9', 'magenta'],\n",
       "       [2, '11', 'green'],\n",
       "       [6, '4', 'magenta'],\n",
       "       [27, '3/3a', 'green'],\n",
       "       [16, '2', 'green'],\n",
       "       [4, '5', 'orange'],\n",
       "       [3, '12', 'blue'],\n",
       "       [12, '20', 'maroon'],\n",
       "       [7, '6', 'sienna'],\n",
       "       [10, '34', 'navy'],\n",
       "       [45, '1', 'navy'],\n",
       "       [9, '27', 'black'],\n",
       "       [38, '1T', 'grey'],\n",
       "       [49, '2A', 'red'],\n",
       "       [5, '13', 'brown'],\n",
       "       [33, '8T', 'coral'],\n",
       "       [17, '23', 'red'],\n",
       "       [48, '1A', 'olive'],\n",
       "       [14, '9A', 'magenta'],\n",
       "       [26, '4T', 'purple'],\n",
       "       [25, '2T', 'olive'],\n",
       "       [39, '5T', 'maroon'],\n",
       "       [34, '11/3', 'teal']], dtype=object)"
      ]
     },
     "execution_count": 97,
     "metadata": {},
     "output_type": "execute_result"
    }
   ],
   "source": [
    "df_sum[[\"routeId\", \"routeName\", \"routeColour\"]].drop_duplicates().values"
   ]
  },
  {
   "cell_type": "code",
   "execution_count": 26,
   "id": "0658b3d9-35c6-4eba-b7ec-029f80c34fde",
   "metadata": {},
   "outputs": [
    {
     "data": {
      "text/plain": [
       "False"
      ]
     },
     "execution_count": 26,
     "metadata": {},
     "output_type": "execute_result"
    }
   ],
   "source": [
    "TransportRoute(1, 'a', 'routeColour').is_in_table(conn)"
   ]
  },
  {
   "cell_type": "code",
   "execution_count": null,
   "id": "d69aa1a2-8b13-4f94-bcd7-ffd1330e71f3",
   "metadata": {},
   "outputs": [],
   "source": [
    "TransportRoute.insert_in_table"
   ]
  },
  {
   "cell_type": "code",
   "execution_count": 36,
   "id": "d053b286-f120-4afb-bf83-151bbe0397bc",
   "metadata": {
    "tags": []
   },
   "outputs": [
    {
     "ename": "TypeError",
     "evalue": "get_table() missing 1 required positional argument: 'connection'",
     "output_type": "error",
     "traceback": [
      "\u001b[1;31m---------------------------------------------------------------------------\u001b[0m",
      "\u001b[1;31mTypeError\u001b[0m                                 Traceback (most recent call last)",
      "\u001b[1;32m~\\AppData\\Local\\Temp\\ipykernel_10116\\1470915926.py\u001b[0m in \u001b[0;36m<module>\u001b[1;34m\u001b[0m\n\u001b[0;32m      5\u001b[0m         \u001b[0mtrans_route\u001b[0m\u001b[1;33m.\u001b[0m\u001b[0minsert_in_table\u001b[0m\u001b[1;33m(\u001b[0m\u001b[0mconn\u001b[0m\u001b[1;33m)\u001b[0m\u001b[1;33m\u001b[0m\u001b[1;33m\u001b[0m\u001b[0m\n\u001b[0;32m      6\u001b[0m \u001b[1;33m\u001b[0m\u001b[0m\n\u001b[1;32m----> 7\u001b[1;33m \u001b[0mTransportRoute\u001b[0m\u001b[1;33m.\u001b[0m\u001b[0mget_table\u001b[0m\u001b[1;33m(\u001b[0m\u001b[0mconn\u001b[0m\u001b[1;33m)\u001b[0m\u001b[1;33m\u001b[0m\u001b[1;33m\u001b[0m\u001b[0m\n\u001b[0m",
      "\u001b[1;31mTypeError\u001b[0m: get_table() missing 1 required positional argument: 'connection'"
     ]
    }
   ],
   "source": [
    "for row in df_sum[[\"routeId\", \"routeName\", \"routeColour\"]].drop_duplicates().values:\n",
    "    trans_route = TransportRoute(*row)\n",
    "    \n",
    "    if (not trans_route.is_in_table(conn)): \n",
    "        trans_route.insert_in_table(conn)\n",
    "        \n",
    "TransportRoute.get_table(conn)"
   ]
  },
  {
   "cell_type": "code",
   "execution_count": null,
   "id": "5336bf62-6196-43a4-9e61-dbca1d412e5b",
   "metadata": {},
   "outputs": [],
   "source": []
  },
  {
   "cell_type": "markdown",
   "id": "ff4dd185-14dd-463c-b49b-820ebfc819c8",
   "metadata": {},
   "source": [
    "### WEEHCLE\n",
    "1 imei 280232 non-null int64\n",
    "\n",
    "2 name 280232 non-null object\n",
    "\n",
    "14 busNumber 280232 non-null object\n",
    "\n",
    "17 remark 280232 non-null object\n",
    "\n",
    "19 idBusTypes 280232 non-null int64"
   ]
  },
  {
   "cell_type": "code",
   "execution_count": 130,
   "id": "f1eb46dc-9edc-4b4b-9f8d-92ba4c8fc562",
   "metadata": {},
   "outputs": [],
   "source": [
    "# df_sum.head(3)"
   ]
  },
  {
   "cell_type": "code",
   "execution_count": 7,
   "id": "1365a8fb-d5f3-4a23-99f2-1b33a80105d5",
   "metadata": {},
   "outputs": [
    {
     "data": {
      "text/plain": [
       "(148, 6)"
      ]
     },
     "execution_count": 7,
     "metadata": {},
     "output_type": "execute_result"
    }
   ],
   "source": [
    "dt = df_sum[[\"imei\", \"name\", \"busNumber\", \"remark\", \"perevId\", \"routeId\"]].drop_duplicates().values\n",
    "dt.shape"
   ]
  },
  {
   "cell_type": "code",
   "execution_count": 132,
   "id": "6d1b7ef2-98b0-407d-b7a8-37f025201f12",
   "metadata": {},
   "outputs": [],
   "source": [
    "# df_sum[[\"imei\", \"name\", \"busNumber\", \"remark\", \"perevId\", \"routeId\"]].value_counts()"
   ]
  },
  {
   "cell_type": "code",
   "execution_count": 129,
   "id": "e4a71756-c431-4b76-98ff-f9bfc913f08f",
   "metadata": {},
   "outputs": [
    {
     "data": {
      "text/plain": [
       "99"
      ]
     },
     "execution_count": 129,
     "metadata": {},
     "output_type": "execute_result"
    }
   ],
   "source": [
    "# len(set(dt[:, 3]))"
   ]
  },
  {
   "cell_type": "code",
   "execution_count": 133,
   "id": "13eb152a-bd1e-4125-ac4a-d46c158cdcc4",
   "metadata": {},
   "outputs": [],
   "source": [
    "# \"imei\", \"name\", \"busNumber\", \"remark\" (99) ->  \"perevId\", \"routeId\" = 148"
   ]
  },
  {
   "cell_type": "code",
   "execution_count": 8,
   "id": "c5a39c54-3ce3-4d3e-99dc-b4024f4af40a",
   "metadata": {},
   "outputs": [],
   "source": [
    "from PTETA.utils.transport.TransportVehicle import TransportVehicle"
   ]
  },
  {
   "cell_type": "code",
   "execution_count": 21,
   "id": "44f1da98-3418-4b42-8570-b2ad5bd00be1",
   "metadata": {},
   "outputs": [
    {
     "data": {
      "text/plain": [
       "<module 'PTETA' from 'D:\\\\projects\\\\PTETA\\\\PTETA\\\\__init__.py'>"
      ]
     },
     "execution_count": 21,
     "metadata": {},
     "output_type": "execute_result"
    }
   ],
   "source": [
    "import importlib\n",
    "import PTETA\n",
    "importlib.reload(PTETA)\n"
   ]
  },
  {
   "cell_type": "code",
   "execution_count": 152,
   "id": "ce292047-3d60-43f9-a757-023bf4a785cc",
   "metadata": {},
   "outputs": [
    {
     "data": {
      "text/plain": [
       "array([[355227045600830, 'A178', '310', 'Тролейбус 310 DNSNK', 6, 37],\n",
       "       [355227046451662, 'H76', '350', 'Тролейбус 350 DNSNTNK', 6, 31],\n",
       "       [355227045369527, 'A6', '3557', '3557 DNSNK ', 12, 21]],\n",
       "      dtype=object)"
      ]
     },
     "execution_count": 152,
     "metadata": {},
     "output_type": "execute_result"
    }
   ],
   "source": [
    "dt = df_sum[[\"imei\", \"name\", \"busNumber\", \"remark\", \"perevId\", \"routeId\"]].drop_duplicates().values\n",
    "dt[:3, :]"
   ]
  },
  {
   "cell_type": "code",
   "execution_count": 13,
   "id": "df1897e6-db66-4be4-a74c-ceed7400d2ff",
   "metadata": {},
   "outputs": [
    {
     "data": {
      "text/plain": [
       "True"
      ]
     },
     "execution_count": 13,
     "metadata": {},
     "output_type": "execute_result"
    }
   ],
   "source": [
    "trans_vehicle = TransportVehicle(None, 355227045369527, 'A6', '3557', '3557 DNSNK ', 12, 21)\n",
    "trans_vehicle.is_in_table(conn)\n",
    "# isTransportVehicleInTable(conn, trans_vehicle)"
   ]
  },
  {
   "cell_type": "code",
   "execution_count": 11,
   "id": "2649c622-6c1a-44e0-b5a0-91c7c04ed060",
   "metadata": {},
   "outputs": [],
   "source": [
    "# TransportVehicle.get_table(conn)"
   ]
  },
  {
   "cell_type": "code",
   "execution_count": 12,
   "id": "9db1c774-203e-4df1-adee-937a42bb120c",
   "metadata": {
    "collapsed": true,
    "jupyter": {
     "outputs_hidden": true
    },
    "tags": []
   },
   "outputs": [
    {
     "name": "stderr",
     "output_type": "stream",
     "text": [
      "100%|██████████| 148/148 [00:06<00:00, 22.57it/s]\n"
     ]
    },
    {
     "data": {
      "text/plain": [
       "[TransportVehicle(id=1, imei='355227045600830', name='A178', busNumber='310', remark='Тролейбус 310 DNSNK', perevId=6, routeId=37),\n",
       " TransportVehicle(id=2, imei='355227046451662', name='H76', busNumber='350', remark='Тролейбус 350 DNSNTNK', perevId=6, routeId=31),\n",
       " TransportVehicle(id=3, imei='355227045369527', name='A6', busNumber='3557', remark='3557 DNSNK ', perevId=12, routeId=21),\n",
       " TransportVehicle(id=4, imei='355227045540176', name='A83', busNumber='5150', remark=' 5150 DNS', perevId=7, routeId=41),\n",
       " TransportVehicle(id=5, imei='355227046453387', name='H75', busNumber='3627', remark='3627 DNSNTNK', perevId=1, routeId=20),\n",
       " TransportVehicle(id=6, imei='355228042084283', name='A207', busNumber='1032', remark='1032 DNSNK', perevId=13, routeId=42),\n",
       " TransportVehicle(id=7, imei='355227045371655', name='A1', busNumber='6513', remark='6513 DNSNK', perevId=7, routeId=23),\n",
       " TransportVehicle(id=8, imei='355227046451407', name='H68', busNumber='0855', remark='0855 DNSNTNK', perevId=13, routeId=42),\n",
       " TransportVehicle(id=9, imei='355227046578332', name='A189', busNumber='6518', remark='6518 DNSNK ', perevId=7, routeId=19),\n",
       " TransportVehicle(id=10, imei='355228043199379', name='H99', busNumber='1176', remark='1176 DNSNTNK', perevId=12, routeId=21),\n",
       " TransportVehicle(id=11, imei='355227046504098', name='A195', busNumber='0854', remark='0854 DNSNK', perevId=13, routeId=42),\n",
       " TransportVehicle(id=12, imei='355227046504098', name='A195', busNumber='0854', remark='0854 DNSNK', perevId=13, routeId=11),\n",
       " TransportVehicle(id=13, imei='355227046451027', name='H24', busNumber='0738', remark='0738 DNSNTNK', perevId=1, routeId=2),\n",
       " TransportVehicle(id=14, imei='355228042058154', name='A219', busNumber='5627', remark=' 5627 DNSNK', perevId=1, routeId=6),\n",
       " TransportVehicle(id=15, imei='355227046451357', name='H51', busNumber='356', remark='Тролейбус 356 DNSNTNK', perevId=6, routeId=27),\n",
       " TransportVehicle(id=16, imei='355227045539228', name='Am66', busNumber='1065', remark='1065 DNSNK', perevId=2, routeId=16),\n",
       " TransportVehicle(id=17, imei='355227046450987', name='H25', busNumber='0866', remark='0866 DNSNTNK', perevId=1, routeId=4),\n",
       " TransportVehicle(id=18, imei='355227046451589', name='H4', busNumber='0987', remark='0987 DNSNTNK', perevId=1, routeId=4),\n",
       " TransportVehicle(id=19, imei='355227045540192', name='A91', busNumber='7762', remark='7762 DNSNK', perevId=1, routeId=3),\n",
       " TransportVehicle(id=20, imei='355227046638821', name='A211', busNumber='1181', remark='1181 DNSNK', perevId=13, routeId=42),\n",
       " TransportVehicle(id=21, imei='355227045600319', name='A157', busNumber='289', remark='Тролейбус 289 DNSNK', perevId=6, routeId=37),\n",
       " TransportVehicle(id=22, imei='355227046451415', name='H47', busNumber='398', remark='Тролейбус 398 DNSNTNK', perevId=6, routeId=37),\n",
       " TransportVehicle(id=23, imei='355227046450961', name='H21', busNumber='2058', remark='2058 DNSNTNK', perevId=1, routeId=4),\n",
       " TransportVehicle(id=24, imei='355227046450920', name='H62', busNumber='255', remark='Тролейбус 255 DNSNTNK', perevId=6, routeId=37),\n",
       " TransportVehicle(id=25, imei='355227045541257', name='A57', busNumber='9043', remark='9043 DNSNK', perevId=2, routeId=12),\n",
       " TransportVehicle(id=26, imei='355227046451530', name='H17', busNumber='1147', remark='1147 DNSNTNK', perevId=1, routeId=7),\n",
       " TransportVehicle(id=27, imei='355227046450953', name='H26', busNumber='0443', remark='0443 DNSNTNK', perevId=2, routeId=12),\n",
       " TransportVehicle(id=28, imei='355227045539517', name='A100', busNumber='1173', remark='1173 DNSNK', perevId=1, routeId=4),\n",
       " TransportVehicle(id=29, imei='355227045541638', name='A96', busNumber='2818', remark='2818 DNSNK', perevId=1, routeId=10),\n",
       " TransportVehicle(id=30, imei='355227045600178', name='A121', busNumber='384', remark='Тролейбус 384 DNSNK', perevId=6, routeId=37),\n",
       " TransportVehicle(id=31, imei='355227046450946', name='H61', busNumber='364', remark='Тролейбус 364 DNSNTNK', perevId=6, routeId=37),\n",
       " TransportVehicle(id=32, imei='355227045600996', name='A168', busNumber='381', remark='Тролейбус 381 DNSNK', perevId=6, routeId=37),\n",
       " TransportVehicle(id=33, imei='355228043199098', name='H102', busNumber='1098', remark='1098 DNSNTNK', perevId=12, routeId=45),\n",
       " TransportVehicle(id=34, imei='355227045540770', name='A90', busNumber='9046', remark='9046 DNSNK', perevId=2, routeId=12),\n",
       " TransportVehicle(id=35, imei='355227046451043', name='H23', busNumber='1172', remark='1172 DNSNTNK', perevId=1, routeId=7),\n",
       " TransportVehicle(id=36, imei='355227046283032', name='A208', busNumber='0937', remark='0937 DNSNK', perevId=13, routeId=42),\n",
       " TransportVehicle(id=37, imei='355227046505244', name='A188', busNumber='5447', remark='5447 DNSNK', perevId=1, routeId=9),\n",
       " TransportVehicle(id=38, imei='355227046299129', name='A186', busNumber='389', remark='Тролейбус 389 DNSNK', perevId=6, routeId=38),\n",
       " TransportVehicle(id=39, imei='355227046451019', name='H30', busNumber='275', remark='Тролейбус 275 DNSNTNK', perevId=6, routeId=37),\n",
       " TransportVehicle(id=40, imei='355227045594892', name='A108', busNumber='1159', remark='1159 DNSNK', perevId=2, routeId=49),\n",
       " TransportVehicle(id=41, imei='355227046314068', name='A185', busNumber='388', remark='Тролейбус 388 DNSNK', perevId=6, routeId=37),\n",
       " TransportVehicle(id=42, imei='355227046450904', name='H11', busNumber='6159', remark='6159 DNSNTNK', perevId=1, routeId=5),\n",
       " TransportVehicle(id=43, imei='355227045600988', name='A158', busNumber='324', remark='Тролейбус 324 DNSNK', perevId=6, routeId=33),\n",
       " TransportVehicle(id=44, imei='355227046313847', name='A184', busNumber='387', remark=' тролейбус 387 DNSNK', perevId=6, routeId=37),\n",
       " TransportVehicle(id=45, imei='355228043198777', name='H96', busNumber='8361', remark='8361 DNSNTNK', perevId=12, routeId=17),\n",
       " TransportVehicle(id=46, imei='355227046283032', name='A208', busNumber='0937', remark='0937 DNSNK', perevId=13, routeId=11),\n",
       " TransportVehicle(id=47, imei='355227044854750', name='A22', busNumber='7665', remark='7665 DNSNK', perevId=1, routeId=5),\n",
       " TransportVehicle(id=48, imei='355227046450805', name='H63', busNumber='375', remark='Тролейбус 375 DNSNTNK', perevId=6, routeId=37),\n",
       " TransportVehicle(id=49, imei='355227046451480', name='H41', busNumber='399', remark='Тролейбус 399 DNSNTNK', perevId=6, routeId=37),\n",
       " TransportVehicle(id=50, imei='355228043162195', name='H108', busNumber='0896', remark='0896 DNSNTNK', perevId=1, routeId=4),\n",
       " TransportVehicle(id=51, imei='355227045594934', name='A112', busNumber='1116', remark='1116 DNSNK', perevId=1, routeId=4),\n",
       " TransportVehicle(id=52, imei='355227045600103', name='A130', busNumber='1632', remark='1632 DNSNK', perevId=1, routeId=6),\n",
       " TransportVehicle(id=53, imei='355227045540572', name='A67', busNumber='4238', remark='4238 DNSNK', perevId=1, routeId=3),\n",
       " TransportVehicle(id=54, imei='355227045600871', name='A134', busNumber='318', remark='Тролейбус 318 DNS', perevId=6, routeId=31),\n",
       " TransportVehicle(id=55, imei='355228043199049', name='H106', busNumber='0964', remark='0964 DNSNTNK', perevId=1, routeId=20),\n",
       " TransportVehicle(id=56, imei='355228043199130', name='H105', busNumber='0128', remark='0128 DNSNTNK', perevId=12, routeId=21),\n",
       " TransportVehicle(id=57, imei='355227046451266', name='H53', busNumber='2011', remark='Тролейбус 2011 DNSNTNK', perevId=6, routeId=37),\n",
       " TransportVehicle(id=58, imei='355227046450995', name='H29', busNumber='365', remark='Тролейбус 365 DNSNTNK', perevId=6, routeId=37),\n",
       " TransportVehicle(id=59, imei='355227045600202', name='A144', busNumber='2012', remark='Тролейбус 2012 DNSNK', perevId=6, routeId=37),\n",
       " TransportVehicle(id=60, imei='355228042084192', name='A204', busNumber='0901', remark='0901 DNSNK', perevId=1, routeId=10),\n",
       " TransportVehicle(id=61, imei='355227045539731', name='Am87', busNumber='1023', remark='1023 DNSNK', perevId=2, routeId=49),\n",
       " TransportVehicle(id=62, imei='355227046451167', name='H13', busNumber='9408', remark='9408 DNSNTNK', perevId=1, routeId=3),\n",
       " TransportVehicle(id=63, imei='355228043199106', name='H104', busNumber='1031', remark='1031 DNSNTNK', perevId=12, routeId=48),\n",
       " TransportVehicle(id=64, imei='355227046505244', name='A188', busNumber='5447', remark='5447 DNSNK', perevId=1, routeId=7),\n",
       " TransportVehicle(id=65, imei='355227046451449', name='H46', busNumber='397', remark='Тролейбус 397 DNSNTNK', perevId=6, routeId=37),\n",
       " TransportVehicle(id=66, imei='355227045370699', name='A11', busNumber='2079', remark='2079 DNSNK', perevId=2, routeId=12),\n",
       " TransportVehicle(id=67, imei='355227046451035', name='H22', busNumber='8276', remark='8276 DNSNTNK', perevId=1, routeId=4),\n",
       " TransportVehicle(id=68, imei='355227045513553', name='A60', busNumber='3459', remark='3459 DNSNK', perevId=7, routeId=14),\n",
       " TransportVehicle(id=69, imei='355227046451332', name='A225', busNumber='7763', remark='7763 DNSNTNK', perevId=1, routeId=2),\n",
       " TransportVehicle(id=70, imei='355228042956811', name='H95', busNumber='1097', remark='1097 DNSNTNK', perevId=12, routeId=45),\n",
       " TransportVehicle(id=71, imei='355227046451399', name='H50', busNumber='393', remark='Тролейбус 393 DNSNTNK', perevId=6, routeId=31),\n",
       " TransportVehicle(id=72, imei='355227045601259', name='A133', busNumber='358', remark='Тролейбус 358 DNSNK', perevId=6, routeId=27),\n",
       " TransportVehicle(id=73, imei='355227046451043', name='H23', busNumber='1172', remark='1172 DNSNTNK', perevId=1, routeId=4),\n",
       " TransportVehicle(id=74, imei='355227045594934', name='A112', busNumber='1116', remark='1116 DNSNK', perevId=1, routeId=7),\n",
       " TransportVehicle(id=75, imei='355227045539517', name='A100', busNumber='1173', remark='1173 DNSNK', perevId=1, routeId=9),\n",
       " TransportVehicle(id=76, imei='355228042084192', name='A204', busNumber='0901', remark='0901 DNSNK', perevId=1, routeId=5),\n",
       " TransportVehicle(id=77, imei='355227045540572', name='A67', busNumber='4238', remark='4238 DNSNK', perevId=1, routeId=2),\n",
       " TransportVehicle(id=78, imei='355227045600103', name='A130', busNumber='1632', remark='1632 DNSNK', perevId=1, routeId=7),\n",
       " TransportVehicle(id=79, imei='355227045594892', name='A108', busNumber='1159', remark='1159 DNSNK', perevId=2, routeId=12),\n",
       " TransportVehicle(id=80, imei='355227046505244', name='A188', busNumber='5447', remark='5447 DNSNK', perevId=1, routeId=6),\n",
       " TransportVehicle(id=81, imei='355228043199049', name='H106', busNumber='0964', remark='0964 DNSNTNK', perevId=1, routeId=10),\n",
       " TransportVehicle(id=82, imei='355227046451332', name='A225', busNumber='7763', remark='7763 DNSNTNK', perevId=1, routeId=3),\n",
       " TransportVehicle(id=83, imei='355227046451464', name='H86', busNumber='7684', remark='7684 DNSNTNK', perevId=1, routeId=3),\n",
       " TransportVehicle(id=84, imei='355227046630729', name='A214', busNumber='1182', remark='1182 DNSNK', perevId=13, routeId=42),\n",
       " TransportVehicle(id=85, imei='355227046453403', name='H6', busNumber='0984', remark='0984 DNSNTNK', perevId=1, routeId=10),\n",
       " TransportVehicle(id=86, imei='355227045533718', name='A79', busNumber='9034', remark='9034 DNSNK', perevId=1, routeId=3),\n",
       " TransportVehicle(id=87, imei='355227045540127', name='A99', busNumber='0042', remark='0042 DNSNK', perevId=1, routeId=2),\n",
       " TransportVehicle(id=88, imei='355227046451266', name='H53', busNumber='2011', remark='Тролейбус 2011 DNSNTNK', perevId=6, routeId=26),\n",
       " TransportVehicle(id=89, imei='355228043198843', name='H100', busNumber='9752', remark='9752 DNSNTNK', perevId=12, routeId=17),\n",
       " TransportVehicle(id=90, imei='355228043022480', name='H93', busNumber='8714', remark='8714 DNSNTNK', perevId=12, routeId=45),\n",
       " TransportVehicle(id=91, imei='355227045594918', name='A106', busNumber='5483', remark='5483 DNSNK', perevId=7, routeId=14),\n",
       " TransportVehicle(id=92, imei='355227045526902', name='A85', busNumber='0528', remark='0528 DNSNK ', perevId=7, routeId=14),\n",
       " TransportVehicle(id=93, imei='355227045539921', name='A64', busNumber='5952', remark='5952 DNS', perevId=7, routeId=14),\n",
       " TransportVehicle(id=94, imei='355227045600319', name='A157', busNumber='289', remark='Тролейбус 289 DNSNK', perevId=6, routeId=25),\n",
       " TransportVehicle(id=95, imei='355228043022449', name='H94', busNumber='1099', remark='1099 DNSNTNK', perevId=12, routeId=21),\n",
       " TransportVehicle(id=96, imei='355227045540770', name='A90', busNumber='9046', remark='9046 DNSNK', perevId=2, routeId=49),\n",
       " TransportVehicle(id=97, imei='355227045370699', name='A11', busNumber='2079', remark='2079 DNSNK', perevId=2, routeId=16),\n",
       " TransportVehicle(id=98, imei='355227046450953', name='H26', busNumber='0443', remark='0443 DNSNTNK', perevId=2, routeId=49),\n",
       " TransportVehicle(id=99, imei='355227045539731', name='Am87', busNumber='1023', remark='1023 DNSNK', perevId=2, routeId=12),\n",
       " TransportVehicle(id=100, imei='355227046451274', name='H37', busNumber='361', remark='Тролейбус 361 DNSNTNK', perevId=6, routeId=37),\n",
       " TransportVehicle(id=101, imei='355227045600178', name='A121', busNumber='384', remark='Тролейбус 384 DNSNK', perevId=6, routeId=25),\n",
       " TransportVehicle(id=102, imei='355228042084283', name='A207', busNumber='1032', remark='1032 DNSNK', perevId=13, routeId=14),\n",
       " TransportVehicle(id=103, imei='355227046313847', name='A184', busNumber='387', remark=' тролейбус 387 DNSNK', perevId=6, routeId=33),\n",
       " TransportVehicle(id=104, imei='355227045369873', name='A10', busNumber='7237', remark='7237 DNSNK', perevId=1, routeId=2),\n",
       " TransportVehicle(id=105, imei='355227045600582', name='A146', busNumber='385', remark='Тролейбус 385 DNSNK', perevId=6, routeId=37),\n",
       " TransportVehicle(id=106, imei='355227046450920', name='H62', busNumber='255', remark='Тролейбус 255 DNSNTNK', perevId=6, routeId=39),\n",
       " TransportVehicle(id=107, imei='355228043198686', name='H97', busNumber='7722', remark='7722 DNSNTNK', perevId=12, routeId=48),\n",
       " TransportVehicle(id=108, imei='355227046450805', name='H63', busNumber='375', remark='Тролейбус 375 DNSNTNK', perevId=6, routeId=27),\n",
       " TransportVehicle(id=109, imei='355227046451407', name='H68', busNumber='0855', remark='0855 DNSNTNK', perevId=13, routeId=14),\n",
       " TransportVehicle(id=110, imei='355227046450946', name='H61', busNumber='364', remark='Тролейбус 364 DNSNTNK', perevId=6, routeId=39),\n",
       " TransportVehicle(id=111, imei='355227045600202', name='A144', busNumber='2012', remark='Тролейбус 2012 DNSNK', perevId=6, routeId=33),\n",
       " TransportVehicle(id=112, imei='355227045600830', name='A178', busNumber='310', remark='Тролейбус 310 DNSNK', perevId=6, routeId=38),\n",
       " TransportVehicle(id=113, imei='355227046451019', name='H30', busNumber='275', remark='Тролейбус 275 DNSNTNK', perevId=6, routeId=38),\n",
       " TransportVehicle(id=114, imei='355227045600178', name='A121', busNumber='384', remark='Тролейбус 384 DNSNK', perevId=6, routeId=34),\n",
       " TransportVehicle(id=115, imei='355227045539541', name='A82', busNumber='6001', remark='6001 DNSNK', perevId=7, routeId=14),\n",
       " TransportVehicle(id=116, imei='355227046507778', name='A202', busNumber='5785', remark='5785 DNSNK', perevId=1, routeId=5),\n",
       " TransportVehicle(id=117, imei='355227046638821', name='A211', busNumber='1181', remark='1181 DNSNK', perevId=13, routeId=14),\n",
       " TransportVehicle(id=118, imei='355227046450995', name='H29', busNumber='365', remark='Тролейбус 365 DNSNTNK', perevId=6, routeId=38),\n",
       " TransportVehicle(id=119, imei='355227046314068', name='A185', busNumber='388', remark='Тролейбус 388 DNSNK', perevId=6, routeId=31),\n",
       " TransportVehicle(id=120, imei='355227045601002', name='A123', busNumber='!!!', remark='!!! DNSNK', perevId=7, routeId=19),\n",
       " TransportVehicle(id=121, imei='355227046451415', name='H47', busNumber='398', remark='Тролейбус 398 DNSNTNK', perevId=6, routeId=31),\n",
       " TransportVehicle(id=122, imei='355227046451449', name='H46', busNumber='397', remark='Тролейбус 397 DNSNTNK', perevId=6, routeId=25),\n",
       " TransportVehicle(id=123, imei='355227046451480', name='H41', busNumber='399', remark='Тролейбус 399 DNSNTNK', perevId=6, routeId=31),\n",
       " TransportVehicle(id=124, imei='355227045598570', name='А107', busNumber='1125', remark='1125 DNSNK', perevId=2, routeId=16),\n",
       " TransportVehicle(id=125, imei='355227045600582', name='A146', busNumber='385', remark='Тролейбус 385 DNSNK', perevId=6, routeId=31),\n",
       " TransportVehicle(id=126, imei='355227045600996', name='A168', busNumber='381', remark='Тролейбус 381 DNSNK', perevId=6, routeId=27),\n",
       " TransportVehicle(id=127, imei='355227046299129', name='A186', busNumber='389', remark='Тролейбус 389 DNSNK', perevId=6, routeId=31),\n",
       " TransportVehicle(id=128, imei='355228043199080', name='H103', busNumber='8716', remark='8716 DNSNTNK', perevId=12, routeId=48),\n",
       " TransportVehicle(id=129, imei='355227046451019', name='H30', busNumber='275', remark='Тролейбус 275 DNSNTNK', perevId=6, routeId=31),\n",
       " TransportVehicle(id=130, imei='355227046451472', name='H49', busNumber='394', remark='Тролейбус 394 DNSNTNK', perevId=6, routeId=37),\n",
       " TransportVehicle(id=131, imei='355228043022449', name='H94', busNumber='1099', remark='1099 DNSNTNK', perevId=12, routeId=45),\n",
       " TransportVehicle(id=132, imei='355227046453452', name='H9', busNumber='6802', remark='6802 DNSNTNK', perevId=1, routeId=7),\n",
       " TransportVehicle(id=133, imei='355227046451290', name='H36', busNumber='282', remark='Тролейбус 282 DNSNTNK', perevId=6, routeId=37),\n",
       " TransportVehicle(id=134, imei='355227046451274', name='H37', busNumber='361', remark='Тролейбус 361 DNSNTNK', perevId=6, routeId=31),\n",
       " TransportVehicle(id=135, imei='355227046490926', name='A198', busNumber='0985', remark='0985 DNSNK', perevId=1, routeId=4),\n",
       " TransportVehicle(id=136, imei='355227046451589', name='H4', busNumber='0987', remark='0987 DNSNTNK', perevId=1, routeId=9),\n",
       " TransportVehicle(id=137, imei='355227045541257', name='A57', busNumber='9043', remark='0325 DNSNK', perevId=2, routeId=12),\n",
       " TransportVehicle(id=138, imei='355227044854818', name='A17', busNumber='0741', remark='0741 DNSNK', perevId=2, routeId=16),\n",
       " TransportVehicle(id=139, imei='355228043162351', name='H107', busNumber='9138', remark='9138 DNSNTNK', perevId=12, routeId=45),\n",
       " TransportVehicle(id=140, imei='355227044854818', name='A17', busNumber='0741', remark='0741 DNSNK', perevId=2, routeId=12),\n",
       " TransportVehicle(id=141, imei='355227046447371', name='H65', busNumber='355', remark='Тролейбус 355 DNSNTNK', perevId=6, routeId=37),\n",
       " TransportVehicle(id=142, imei='355227045600855', name='A142', busNumber='377', remark='Тролейбус 377 DNSNK', perevId=6, routeId=37),\n",
       " TransportVehicle(id=143, imei='355227045594934', name='A112', busNumber='1116', remark='1116 DNSNK', perevId=1, routeId=9),\n",
       " TransportVehicle(id=144, imei='355227046451589', name='H4', busNumber='0987', remark='0987 DNSNTNK', perevId=1, routeId=20),\n",
       " TransportVehicle(id=145, imei='355227045539517', name='A100', busNumber='1173', remark='1173 DNSNK', perevId=1, routeId=20),\n",
       " TransportVehicle(id=146, imei='355227045539491', name='Am86', busNumber='1027', remark='1027 DNSNK', perevId=2, routeId=12),\n",
       " TransportVehicle(id=147, imei='355227044854818', name='A17', busNumber='0741', remark='0741 DNSNK', perevId=2, routeId=2),\n",
       " TransportVehicle(id=148, imei='355227046451167', name='H13', busNumber='9408', remark='9408 DNSNTNK', perevId=1, routeId=2)]"
      ]
     },
     "execution_count": 12,
     "metadata": {},
     "output_type": "execute_result"
    }
   ],
   "source": [
    "dt = df_sum[[\"imei\", \"name\", \"busNumber\", \"remark\", \"perevId\", \"routeId\"]].drop_duplicates().values\n",
    "\n",
    "for row in tqdm(dt):\n",
    "    trans_vehicle = TransportVehicle(None, *row)\n",
    "    \n",
    "    if (not trans_vehicle.is_in_table(conn)): \n",
    "        trans_vehicle.insert_in_table(conn)\n",
    "        \n",
    "TransportVehicle.get_table(conn)"
   ]
  },
  {
   "cell_type": "code",
   "execution_count": null,
   "id": "599e79e1-9d9f-4692-bc6c-2d39a98ce4ba",
   "metadata": {},
   "outputs": [],
   "source": []
  },
  {
   "cell_type": "code",
   "execution_count": 14,
   "id": "aea34913-9819-4186-a91e-7a7ec70d8f88",
   "metadata": {},
   "outputs": [
    {
     "ename": "NameError",
     "evalue": "name 'Connection' is not defined",
     "output_type": "error",
     "traceback": [
      "\u001b[1;31m---------------------------------------------------------------------------\u001b[0m",
      "\u001b[1;31mNameError\u001b[0m                                 Traceback (most recent call last)",
      "\u001b[1;32m~\\AppData\\Local\\Temp\\ipykernel_4940\\1002927220.py\u001b[0m in \u001b[0;36m<module>\u001b[1;34m\u001b[0m\n\u001b[0;32m      9\u001b[0m \u001b[1;32mfrom\u001b[0m \u001b[0mPTETA\u001b[0m\u001b[1;33m.\u001b[0m\u001b[0mutils\u001b[0m\u001b[1;33m.\u001b[0m\u001b[0mtransport\u001b[0m\u001b[1;33m.\u001b[0m\u001b[0mTransportVehicle\u001b[0m \u001b[1;32mimport\u001b[0m \u001b[0mTransportVehicle\u001b[0m\u001b[1;33m\u001b[0m\u001b[1;33m\u001b[0m\u001b[0m\n\u001b[0;32m     10\u001b[0m \u001b[1;33m\u001b[0m\u001b[0m\n\u001b[1;32m---> 11\u001b[1;33m \u001b[1;32mclass\u001b[0m \u001b[0mMonitor\u001b[0m\u001b[1;33m:\u001b[0m\u001b[1;33m\u001b[0m\u001b[1;33m\u001b[0m\u001b[0m\n\u001b[0m\u001b[0;32m     12\u001b[0m \u001b[1;33m\u001b[0m\u001b[0m\n\u001b[0;32m     13\u001b[0m     \u001b[0mdb_connection\u001b[0m\u001b[1;33m:\u001b[0m \u001b[0mConnection\u001b[0m \u001b[1;33m=\u001b[0m \u001b[1;32mNone\u001b[0m\u001b[1;33m\u001b[0m\u001b[1;33m\u001b[0m\u001b[0m\n",
      "\u001b[1;32m~\\AppData\\Local\\Temp\\ipykernel_4940\\1002927220.py\u001b[0m in \u001b[0;36mMonitor\u001b[1;34m()\u001b[0m\n\u001b[0;32m     11\u001b[0m \u001b[1;32mclass\u001b[0m \u001b[0mMonitor\u001b[0m\u001b[1;33m:\u001b[0m\u001b[1;33m\u001b[0m\u001b[1;33m\u001b[0m\u001b[0m\n\u001b[0;32m     12\u001b[0m \u001b[1;33m\u001b[0m\u001b[0m\n\u001b[1;32m---> 13\u001b[1;33m     \u001b[0mdb_connection\u001b[0m\u001b[1;33m:\u001b[0m \u001b[0mConnection\u001b[0m \u001b[1;33m=\u001b[0m \u001b[1;32mNone\u001b[0m\u001b[1;33m\u001b[0m\u001b[1;33m\u001b[0m\u001b[0m\n\u001b[0m\u001b[0;32m     14\u001b[0m \u001b[1;33m\u001b[0m\u001b[0m\n\u001b[0;32m     15\u001b[0m     \u001b[0moperator_list\u001b[0m \u001b[1;33m:\u001b[0m \u001b[0mlist\u001b[0m \u001b[1;33m=\u001b[0m \u001b[1;32mNone\u001b[0m\u001b[1;33m\u001b[0m\u001b[1;33m\u001b[0m\u001b[0m\n",
      "\u001b[1;31mNameError\u001b[0m: name 'Connection' is not defined"
     ]
    }
   ],
   "source": [
    "# connection_config\n",
    "# host=os.environ['RDS_HOSTNAME'],\n",
    "# database=\"pteta_db\",\n",
    "# user=\"postgres\",\n",
    "# password=os.environ['RDS_PTETA_DB_PASSWORD']\n",
    "\n",
    "from PTETA.utils.transport.TransportOperator import TransportOperator\n",
    "from PTETA.utils.transport.TransportRoute import TransportRoute\n",
    "from PTETA.utils.transport.TransportVehicle import TransportVehicle\n",
    "\n",
    "class Monitor:\n",
    "    \n",
    "    db_connection: Connection = None\n",
    "        \n",
    "    operator_to_id : dict = dict()\n",
    "    id_to_operator : dict = dict()\n",
    "        \n",
    "    route_to_id : dict = dict()\n",
    "    id_to_route : dict = dict()\n",
    "\n",
    "    vehicle_to_id : dict = dict()\n",
    "    id_to_vehicle : dict = dict()\n",
    "    \n",
    "        \n",
    "    def __init__(self, connection_config: dict, **kwarg: dict): \n",
    "        self.db_connection = psycopg2.connect(**connection_config)\n",
    "        \n",
    "        operator_list = TransportOperator.get_table(self.db_connection)\n",
    "        self.operator_to_id = dict({operator : operator.id for operator in operator_list})\n",
    "        self.id_to_operator = dict({operator.id : operator for operator in operator_list})\n",
    "        \n",
    "        route_list = TransportRoute.get_table(self.db_connection)\n",
    "        self.route_to_id = dict({route : route.id for route in route_list})\n",
    "        self.id_to_route = dict({route.id : route for route in route_list})\n",
    "    \n",
    "        vehicle_list = TransportVehicle.get_table(self.db_connection)\n",
    "        self.vehicle_to_id = dict({vehicle : vehicle.id for vehicle in vehicle_list})\n",
    "        self.id_to_vehicle = dict({vehicle.id : vehicle for vehicle in vehicle_list})\n",
    "        \n",
    "        \n",
    "        REQUEST_URI\n",
    "        \n",
    "        \n",
    "        \n",
    "    def request_data():\n",
    "        dt_now = datetime.now()\n",
    "\n",
    "        try:\n",
    "            request = requests.get(REQUEST_URI)\n",
    "            if (request is None) or (request.text is None):\n",
    "                return\n",
    "            response_cur = json.loads(request.text)\n",
    "\n",
    "            global response_prev\n",
    "\n",
    "            keys_prev = set(response_prev.keys())\n",
    "            keys_cur = set(response_cur.keys())\n",
    "\n",
    "            optimized_data_list = list()\n",
    "            for imei in keys_prev.intersection(keys_cur):\n",
    "                if response_prev[imei] != response_cur[imei]:\n",
    "                    #response_cur[imei]['response_datetime']\n",
    "                    optimized_data_list += [response_cur[imei]]\n",
    "\n",
    "            for imei in keys_cur.difference(keys_prev):\n",
    "                optimized_data_list += [response_cur[imei]]\n",
    "\n",
    "            if optimized_data_list:\n",
    "                path = f\"trans_data_{dt_now.strftime('%d_%b_%Y').upper()}\"\n",
    "                pathlib.Path(path).mkdir(parents=True, exist_ok=True)\n",
    "\n",
    "                f_name = pathlib.Path(f\"trans_{dt_now.strftime('%Y-%m-%d %H;%M;%S')}.json\")\n",
    "\n",
    "                result = {d['imei']: d for d in optimized_data_list}\n",
    "                if (path/f_name).is_file():\n",
    "                    print(f\"{dt_now.strftime('%Y-%m-%d %H;%M;%S')} : '{f_name}' file is already exists!\")\n",
    "                    return\n",
    "\n",
    "                with open(str(path/f_name), 'w', encoding='utf8') as out_f:\n",
    "                    json.dump(result, out_f, ensure_ascii=False)\n",
    "\n",
    "                response_prev = response_cur\n",
    "        except (requests.Timeout, requests.ConnectionError, requests.HTTPError) as err:\n",
    "            print(f\"{dt_now.strftime('%Y-%m-%d %H;%M;%S')} : error while trying to GET data\\n\"\n",
    "                  f\"\\t{err}\\n\")\n",
    "\n",
    "        \n",
    "        \n",
    "        \n",
    "        \n",
    "        \n",
    "        \n",
    "    \n",
    "    "
   ]
  },
  {
   "cell_type": "code",
   "execution_count": null,
   "id": "3d1f6b07-273d-4c89-b13b-58bfa5d29589",
   "metadata": {},
   "outputs": [],
   "source": [
    "from concurrent.futures import ThreadPoolExecutor\n",
    "from datetime import datetime\n",
    "import json\n",
    "import requests\n",
    "import os\n",
    "import pandas as pd\n",
    "import pathlib\n",
    "import shutil\n",
    "import time\n",
    "from tqdm.auto import tqdm\n",
    "import zipfile\n",
    "\n",
    "# from apscheduler.schedulers.blocking import BlockingScheduler\n",
    "from apscheduler.schedulers.background import BackgroundScheduler\n",
    "\n",
    "REQUEST_URI = 'http://www.trans-gps.cv.ua/map/tracker/?selectedRoutesStr='\n",
    "END_DATE= '2022-12-25 23:59:00'\n",
    "START_DATE = '2022-10-03 00:03:00'\n",
    "REQ_TIME_DELTA = 1.1\n",
    "\n",
    "response_prev = dict()\n",
    "\n",
    "\n",
    "def request_data():\n",
    "    dt_now = datetime.now()\n",
    "\n",
    "    try:\n",
    "        request = requests.get(REQUEST_URI)\n",
    "        if (request is None) or (request.text is None):\n",
    "            return\n",
    "        response_cur = json.loads(request.text)\n",
    "\n",
    "        global response_prev\n",
    "\n",
    "        keys_prev = set(response_prev.keys())\n",
    "        keys_cur = set(response_cur.keys())\n",
    "\n",
    "        optimized_data_list = list()\n",
    "        for imei in keys_prev.intersection(keys_cur):\n",
    "            if response_prev[imei] != response_cur[imei]:\n",
    "                #response_cur[imei]['response_datetime']\n",
    "                optimized_data_list += [response_cur[imei]]\n",
    "\n",
    "        for imei in keys_cur.difference(keys_prev):\n",
    "            optimized_data_list += [response_cur[imei]]\n",
    "\n",
    "        if optimized_data_list:\n",
    "            path = f\"trans_data_{dt_now.strftime('%d_%b_%Y').upper()}\"\n",
    "            pathlib.Path(path).mkdir(parents=True, exist_ok=True)\n",
    "\n",
    "            f_name = pathlib.Path(f\"trans_{dt_now.strftime('%Y-%m-%d %H;%M;%S')}.json\")\n",
    "\n",
    "            result = {d['imei']: d for d in optimized_data_list}\n",
    "            if (path/f_name).is_file():\n",
    "                print(f\"{dt_now.strftime('%Y-%m-%d %H;%M;%S')} : '{f_name}' file is already exists!\")\n",
    "                return\n",
    "\n",
    "            with open(str(path/f_name), 'w', encoding='utf8') as out_f:\n",
    "                json.dump(result, out_f, ensure_ascii=False)\n",
    "\n",
    "            response_prev = response_cur\n",
    "    except (requests.Timeout, requests.ConnectionError, requests.HTTPError) as err:\n",
    "        print(f\"{dt_now.strftime('%Y-%m-%d %H;%M;%S')} : error while trying to GET data\\n\"\n",
    "              f\"\\t{err}\\n\")\n",
    "\n",
    "\n",
    "def read_json_TPE(f_path):\n",
    "    try:\n",
    "        with open(f_path, 'r', encoding='utf-8') as file:\n",
    "            return (json.load(file), None)\n",
    "    except Exception as e:\n",
    "        print(f\"Unable to open : {f_path}\")\n",
    "        print(f\"Exception is '{e}'\")\n",
    "        return (None, file)\n",
    "\n",
    "\n",
    "def get_df(jsons_content):\n",
    "    data = list()\n",
    "    for r in jsons_content:\n",
    "        if r[1] is None:\n",
    "            data += [val for _, val in r[0].items()]\n",
    "\n",
    "    df = pd.DataFrame(data)\n",
    "    duplicates_num = df.duplicated().value_counts().get(True, 0)\n",
    "    print(f\"Total duplicates are {duplicates_num} of {len(df)}\")\n",
    "    return df.drop_duplicates()\n",
    "\n",
    "\n",
    "def folder_to_df(folder):\n",
    "    fpaths_list = sorted(list(folder.iterdir()) )\n",
    "\n",
    "    with ThreadPoolExecutor(max_workers=40) as executor:\n",
    "        fpath_list = fpaths_list\n",
    "        results = list(\n",
    "            tqdm(\n",
    "                executor.map(read_json_TPE, fpath_list),\n",
    "                total=len(fpath_list), miniters=int(len(fpath_list) // 10),\n",
    "                desc=f\"Read {str(folder)} to write df\", ascii=True\n",
    "            )\n",
    "        )\n",
    "\n",
    "    df = get_df(results)\n",
    "    df.to_csv(f\"tables/data_for_{str(folder)[11:]}.csv\",\n",
    "              encoding='utf-8', index=False, header=True)\n",
    "\n",
    "\n",
    "def zipdir(path, ziph):\n",
    "    # ziph is zipfile handle\n",
    "    for root, dirs, files in os.walk(path):\n",
    "        for file in tqdm(files, position=0, leave=True, desc=f\"Zip {path}\"):\n",
    "            ziph.write(os.path.join(root, file),\n",
    "                       os.path.relpath(os.path.join(root, file),\n",
    "                                       os.path.join(path, '..')))\n",
    "\n",
    "\n",
    "def write_zip_archive(folder):\n",
    "    zip_fname = f\"archives/{folder}.zip\"\n",
    "    with zipfile.ZipFile(zip_fname, 'w', zipfile.ZIP_DEFLATED) as zipf:\n",
    "        zipdir(f\"{folder}\", zipf)\n",
    "\n",
    "\n",
    "def afterprocess_data():\n",
    "    print(f\"Data aterprocessing started at {datetime.now()}\")\n",
    "    folders_list = [p for p in pathlib.Path().iterdir() if 'trans_data_' in str(p)]\n",
    "    folders_list = sorted(folders_list, key=lambda x: datetime.strptime(str(x)[11:], '%d_%b_%Y'))[:-1]\n",
    "    print(f\"\\tFolders to process {folders_list}\")\n",
    "    pbar = tqdm(folders_list, leave=False)\n",
    "    for folder in pbar:\n",
    "        pbar.set_postfix_str(str(folder))\n",
    "        print(f\"\\tFolder conversion to df started at {datetime.now()}\")\n",
    "        folder_to_df(folder)\n",
    "        print(f\"\\tFolder conversion to df fibished at {datetime.now()}\")\n",
    "        print(f\"\\tArchiving of folder started at {datetime.now()}\")\n",
    "        write_zip_archive(folder)\n",
    "        print(f\"\\tArchiving of folder finished at {datetime.now()}\")\n",
    "        time.sleep(1)\n",
    "        print(f\"Start delete {folder}\")\n",
    "        shutil.rmtree(folder)\n",
    "        print(f\"{folder} is deleted\")\n",
    "    print(f\"Data aterprocessing finished at {datetime.now()}\")\n",
    "\n",
    "\n",
    "\n",
    "\n",
    "def main():\n",
    "    scheduler = BackgroundScheduler(job_defaults={'max_instances': 8})\n",
    "    scheduler.add_job(\n",
    "        request_data, 'interval',\n",
    "        seconds=REQ_TIME_DELTA,\n",
    "        end_date=END_DATE,\n",
    "        id='listener')\n",
    "\n",
    "    scheduler.add_job(\n",
    "        afterprocess_data, 'interval',\n",
    "        days=1,\n",
    "        start_date=START_DATE,\n",
    "        end_date=END_DATE,\n",
    "        id='afterprocess_data'\n",
    "    )\n",
    "\n",
    "    print(datetime.now())\n",
    "    while datetime.now().microsecond > 5_000:\n",
    "        time.sleep(0.00002)\n",
    "    print(datetime.now())\n",
    "    scheduler.start()\n",
    "\n",
    "    # This code will be executed after the sceduler has started\n",
    "    try:\n",
    "        print('Scheduler started!')\n",
    "        display_files_num = True \n",
    "        prev_update = datetime.now().replace(minute=0, second=0, microsecond=0)\n",
    "        while 1:\n",
    "            dt_now = datetime.now()\n",
    "            path = f\"trans_data_{dt_now.strftime('%d_%b_%Y').upper()}\"\n",
    "            try:# for cases folder don't exist yet\n",
    "                files_list = list(pathlib.Path(path).iterdir())\n",
    "            except:\n",
    "                files_list = []\n",
    "            if len(files_list) % 1_000 > 10:\n",
    "                display_files_num = True\n",
    "            elif display_files_num:\n",
    "                print(f\"{dt_now.strftime('%Y-%m-%d %H:%M:%S')}\"\n",
    "                      f\"\\t Total files num is {len(files_list)}\")\n",
    "                display_files_num = False\n",
    "                prev_update = dt_now\n",
    "\n",
    "            if (dt_now - prev_update).seconds > 30 * 60:\n",
    "                print(f\"{dt_now.strftime('%Y-%m-%d %H:%M:%S')} : \"\n",
    "                      f\"(last update {(dt_now - prev_update).seconds} sec ago)\"\n",
    "                      f\"\\t Total files num is {len(files_list)}\")\n",
    "                prev_update = dt_now\n",
    "\n",
    "            time.sleep(3)\n",
    "    except KeyboardInterrupt:\n",
    "        if scheduler.state:\n",
    "            scheduler.shutdown()\n",
    "\n",
    "\n",
    "if __name__ == \"__main__\":\n",
    "    main()\n"
   ]
  },
  {
   "cell_type": "code",
   "execution_count": null,
   "id": "b09f1e1c-bb03-484f-bc8c-6e53016afe7d",
   "metadata": {},
   "outputs": [],
   "source": []
  },
  {
   "cell_type": "code",
   "execution_count": null,
   "id": "f6883ac5",
   "metadata": {},
   "outputs": [],
   "source": []
  },
  {
   "cell_type": "code",
   "execution_count": null,
   "id": "c8df9f54",
   "metadata": {},
   "outputs": [],
   "source": []
  },
  {
   "cell_type": "code",
   "execution_count": 167,
   "id": "2410bff0",
   "metadata": {},
   "outputs": [],
   "source": [
    "# sum_df.groupby('imei').size().reset_index(name='count').sort_values(['count'], ascending=False)"
   ]
  }
 ],
 "metadata": {
  "kernelspec": {
   "display_name": "Python 3",
   "language": "python",
   "name": "python3"
  },
  "language_info": {
   "codemirror_mode": {
    "name": "ipython",
    "version": 3
   },
   "file_extension": ".py",
   "mimetype": "text/x-python",
   "name": "python",
   "nbconvert_exporter": "python",
   "pygments_lexer": "ipython3",
   "version": "3.8.9"
  }
 },
 "nbformat": 4,
 "nbformat_minor": 5
}
