{
 "cells": [
  {
   "cell_type": "code",
   "execution_count": 1,
   "id": "fef48cae",
   "metadata": {},
   "outputs": [],
   "source": [
    "from datetime import datetime, timedelta\n",
    "import numpy as np\n",
    "from tqdm import tqdm\n",
    "from pathlib import Path\n",
    "import pandas as pd\n",
    "import os\n",
    "\n",
    "from collections import Counter"
   ]
  },
  {
   "cell_type": "markdown",
   "id": "94bac175-1fa1-49a2-8e10-a2b03a5d57c6",
   "metadata": {},
   "source": [
    "## Analyse data"
   ]
  },
  {
   "cell_type": "code",
   "execution_count": 2,
   "id": "569c1bce-bef2-4f20-a00a-7d84099a0584",
   "metadata": {},
   "outputs": [
    {
     "name": "stderr",
     "output_type": "stream",
     "text": [
      "100%|██████████| 1/1 [00:00<00:00,  1.42it/s]\n"
     ]
    }
   ],
   "source": [
    "df_sum = None\n",
    "for df_path in tqdm(list(Path(\"../data/local/tables/\").iterdir())[:1]):\n",
    "    if df_sum is None: \n",
    "        df_sum = pd.read_csv(df_path, encoding='utf-8', low_memory=False)\n",
    "    else: \n",
    "        df_sum.append(pd.read_csv(df_path, encoding='utf-8', low_memory=False))"
   ]
  },
  {
   "cell_type": "code",
   "execution_count": 5,
   "id": "b9b9d98a-648d-4cd2-b6ca-7e88f8f760e8",
   "metadata": {},
   "outputs": [],
   "source": [
    "file_path_list =list(Path(\"../data/local/tables/\").iterdir())[:]"
   ]
  },
  {
   "cell_type": "code",
   "execution_count": 7,
   "id": "70232cac-70eb-4a06-83d9-977fc1851a28",
   "metadata": {},
   "outputs": [
    {
     "data": {
      "text/plain": [
       "['01_OCT_2022',\n",
       " '02_OCT_2022',\n",
       " '03_OCT_2022',\n",
       " '04_OCT_2022',\n",
       " '05_OCT_2022',\n",
       " '05_SEP_2022',\n",
       " '06_OCT_2022',\n",
       " '06_SEP_2022',\n",
       " '07_OCT_2022',\n",
       " '07_SEP_2022',\n",
       " '08_OCT_2022',\n",
       " '08_SEP_2022',\n",
       " '09_SEP_2022',\n",
       " '10_SEP_2022',\n",
       " '11_SEP_2022',\n",
       " '12_SEP_2022',\n",
       " '13_SEP_2022',\n",
       " '14_SEP_2022',\n",
       " '15_SEP_2022',\n",
       " '16_SEP_2022',\n",
       " '17_OCT_2022',\n",
       " '17_SEP_2022',\n",
       " '18_SEP_2022',\n",
       " '19_SEP_2022',\n",
       " '20_SEP_2022',\n",
       " '21_SEP_2022',\n",
       " '22_SEP_2022',\n",
       " '23_SEP_2022',\n",
       " '24_SEP_2022',\n",
       " '25_SEP_2022',\n",
       " '26_SEP_2022',\n",
       " '27_SEP_2022',\n",
       " '28_SEP_2022',\n",
       " '29_SEP_2022',\n",
       " '30_SEP_2022']"
      ]
     },
     "execution_count": 7,
     "metadata": {},
     "output_type": "execute_result"
    }
   ],
   "source": [
    "[p.name[9:-4] for p in file_path_list]"
   ]
  },
  {
   "cell_type": "code",
   "execution_count": 4,
   "id": "f7a7201a-5dd4-476a-b655-167037e77718",
   "metadata": {
    "tags": []
   },
   "outputs": [],
   "source": [
    "# df_sum[df_sum.duplicated()]"
   ]
  },
  {
   "cell_type": "code",
   "execution_count": 10,
   "id": "5a4b636a-2581-4b70-ad80-b80b4d2f3db0",
   "metadata": {},
   "outputs": [],
   "source": [
    "from datetime import datetime, timedelta\n",
    "import pytz\n",
    "\n",
    "import json\n",
    "import requests\n",
    "import time\n",
    "\n",
    "from PTETA.utils.transport.TransportOperator import TransportOperator\n",
    "from PTETA.utils.transport.TransportRoute import TransportRoute\n",
    "from PTETA.utils.transport.TransportVehicle import TransportVehicle\n",
    "from PTETA.utils.transport.TransportAVLData import TransportAVLData\n",
    "from psycopg2.extensions import connection as Connection\n",
    "import psycopg2\n",
    "\n",
    "from apscheduler.schedulers.background import BackgroundScheduler\n",
    "from PTETA.utils.transport.BaseDBAccessDataclass import BaseDBAccessDataclass\n",
    "from typing import List, Union\n",
    "from PTETA.utils.transport.BaseDBAccessDataclass import BaseDBAccessDataclass"
   ]
  },
  {
   "cell_type": "code",
   "execution_count": 24,
   "id": "2410bff0",
   "metadata": {},
   "outputs": [],
   "source": [
    "conn = psycopg2.connect(\n",
    "    host=os.environ['RDS_HOSTNAME'],\n",
    "    database=\"pteta_db\",\n",
    "    user=\"postgres\",\n",
    "    password=os.environ['RDS_PTETA_DB_PASSWORD'])"
   ]
  },
  {
   "cell_type": "code",
   "execution_count": 11,
   "id": "c1b6a6a6-2eda-42d7-a872-6801a34db17d",
   "metadata": {},
   "outputs": [],
   "source": [
    "response_prev = dict()\n",
    "\n",
    "try: \n",
    "    del TransGPSCVMonitor\n",
    "except: \n",
    "    pass\n",
    "\n",
    "class TransGPSCVMonitor:\n",
    "    db_connection: Connection = None\n",
    "\n",
    "    operator_to_id: dict = dict()\n",
    "    route_to_id: dict = dict()\n",
    "    vehicle_to_id: dict = dict()\n",
    "\n",
    "    objects_unique = {\n",
    "        TransportOperator: set(),\n",
    "        TransportRoute: set(),\n",
    "        TransportVehicle: set()\n",
    "    }\n",
    "\n",
    "    def __init__(self, connection_config: dict, **kwarg: dict) -> None:\n",
    "        self.db_connection = psycopg2.connect(**connection_config)\n",
    "\n",
    "        self.reload_operators()\n",
    "        self.reload_routes()\n",
    "        self.reload_vehicles()\n",
    "\n",
    "        self.datetime_format = '%Y-%m-%d %H:%M:%S'\n",
    "\n",
    "        self.REQUEST_URI = \\\n",
    "            kwarg.get('REQUEST_URI', 'http://www.trans-gps.cv.ua/map/tracker/?selectedRoutesStr=')\n",
    "        self.START_DATE = \\\n",
    "            kwarg.get('START_DATE', (datetime.now() - timedelta(days=1)).strftime(self.datetime_format))\n",
    "        self.END_DATE = \\\n",
    "            kwarg.get('END_DATE', (datetime.now() + timedelta(days=30)).strftime(self.datetime_format))\n",
    "        self.REQ_TIME_DELTA = kwarg.get('REQ_TIME_DELTA', 1.1)\n",
    "\n",
    "    def reload_operators(self):\n",
    "        operator_list = TransportOperator.get_table(self.db_connection)\n",
    "        self.objects_unique[TransportOperator] = set(operator_list)\n",
    "        self.operator_to_id = dict({operator: operator.id for operator in operator_list})\n",
    "\n",
    "    def reload_routes(self):\n",
    "        route_list = TransportRoute.get_table(self.db_connection)\n",
    "        self.objects_unique[TransportRoute] = set(route_list)\n",
    "        self.route_to_id = dict({route: route.id for route in route_list})\n",
    "\n",
    "    def reload_vehicles(self):\n",
    "        vehicle_list = TransportVehicle.get_table(self.db_connection)\n",
    "        self.objects_unique[TransportVehicle] = set(vehicle_list)\n",
    "        self.vehicle_to_id = dict({vehicle: vehicle.id for vehicle in vehicle_list})\n",
    "\n",
    "    @classmethod\n",
    "    def request_data(cls, request_uri='http://www.trans-gps.cv.ua/map/tracker/?selectedRoutesStr='):\n",
    "        dt_now = datetime.now()\n",
    "        dt_tz_now = datetime.utcnow().replace(tzinfo=pytz.utc)\n",
    "\n",
    "        try:\n",
    "            request = requests.get(request_uri)\n",
    "            if (request is None) or (request.text is None):\n",
    "                return\n",
    "            response_cur = json.loads(request.text)\n",
    "\n",
    "            global response_prev\n",
    "\n",
    "            keys_prev = set(response_prev.keys())\n",
    "            keys_cur = set(response_cur.keys())\n",
    "\n",
    "            optimized_data_list = list()\n",
    "            for imei in keys_prev.intersection(keys_cur):\n",
    "                if response_prev[imei]['gpstime'] != response_cur[imei]['gpstime']:\n",
    "                    response_cur[imei]['response_datetime'] = dt_tz_now\n",
    "                    optimized_data_list += [response_cur[imei]]\n",
    "\n",
    "            for imei in keys_cur.difference(keys_prev):\n",
    "                response_cur[imei]['response_datetime'] = dt_tz_now\n",
    "                optimized_data_list += [response_cur[imei]]\n",
    "\n",
    "            response_prev = response_cur\n",
    "        except (requests.Timeout, requests.ConnectionError, requests.HTTPError) as err:\n",
    "            print(f\"{dt_now.strftime('%Y-%m-%d %H;%M;%S')} : error while trying to GET data\\n\"\n",
    "                  f\"\\t{err}\\n\")\n",
    "\n",
    "        #         print(dt_now.strftime('%Y-%m-%d %H;%M;%S'), len(optimized_data_list))\n",
    "        return optimized_data_list\n",
    "\n",
    "    def get_new_objs(self, obj_list: List[BaseDBAccessDataclass]) -> List[BaseDBAccessDataclass]:\n",
    "        unique_obj_list = list(set(obj_list))\n",
    "        return [obj for obj in unique_obj_list\n",
    "                if obj not in self.objects_unique[obj.__class__]]\n",
    "\n",
    "    def update_db(self, obj_list: List[BaseDBAccessDataclass]):\n",
    "        current_class = obj_list[0].__class__\n",
    "        are_in_db_list = current_class.are_in_table(self.db_connection, obj_list)\n",
    "\n",
    "        obj_to_insert = [obj\n",
    "                         for obj, is_in in zip(obj_list, are_in_db_list)\n",
    "                         if not is_in]\n",
    "\n",
    "        current_class.insert_many_in_table(self.db_connection, obj_to_insert)\n",
    "\n",
    "    @classmethod\n",
    "    def decompose_response(cls, response: List[dict]) -> Union:\n",
    "        operator_list, route_list = list(), list()\n",
    "        vehicle_list, avl_data_list = list(), list()\n",
    "\n",
    "        for row in response:\n",
    "            operator_list.append(TransportOperator.from_response_row(row))\n",
    "            route_list.append(TransportRoute.from_response_row(row))\n",
    "            vehicle_list.append(TransportVehicle.from_response_row(row))\n",
    "            avl_data_list.append(TransportAVLData.from_response_row(row))\n",
    "\n",
    "        return operator_list, route_list, vehicle_list, avl_data_list\n",
    "\n",
    "    def write_to_db(self, response):\n",
    "        operator_list, route_list, vehicle_list, avl_data_list = self.decompose_response(response)\n",
    "\n",
    "        for obj_list in [operator_list, route_list, vehicle_list]:\n",
    "            new_obj = self.get_new_objs(obj_list)\n",
    "            if new_obj:\n",
    "                print(f\"There are {len(new_obj)} new {new_obj[0].__class__} to inserted in DB\")\n",
    "                self.update_db(new_obj)\n",
    "                if isinstance(new_obj[0], TransportOperator):\n",
    "                    self.reload_operators()\n",
    "                elif isinstance(new_obj[0], TransportRoute):\n",
    "                    self.reload_routes()\n",
    "                elif isinstance(new_obj[0], TransportVehicle):\n",
    "                    self.reload_vehicles()\n",
    "\n",
    "        for i, (vehicle, route) in enumerate(zip(vehicle_list, route_list)):\n",
    "            avl_data_list[i].vehicle_id = self.vehicle_to_id[vehicle]\n",
    "            avl_data_list[i].route_id = self.route_to_id[route]\n",
    "            \n",
    "\n",
    "        TransportAVLData.insert_many_in_table(self.db_connection, avl_data_list)\n",
    "\n",
    "    def run(self):\n",
    "        scheduler = BackgroundScheduler(job_defaults={'max_instances': 8})\n",
    "        scheduler.add_job(\n",
    "            self.request_data,\n",
    "            'interval',\n",
    "            seconds=self.REQ_TIME_DELTA,\n",
    "            end_date=self.END_DATE,\n",
    "            id='listener')\n",
    "\n",
    "        scheduler.start()\n",
    "\n",
    "        try:\n",
    "            print('Scheduler started!')\n",
    "            while 1:\n",
    "                time.sleep(10)\n",
    "                print(datetime.now())\n",
    "        except KeyboardInterrupt:\n",
    "            if scheduler.state:\n",
    "                scheduler.shutdown()"
   ]
  },
  {
   "cell_type": "code",
   "execution_count": 12,
   "id": "53e72179-7749-427e-95a6-e77cac2755c1",
   "metadata": {},
   "outputs": [
    {
     "data": {
      "text/plain": [
       "87"
      ]
     },
     "execution_count": 12,
     "metadata": {},
     "output_type": "execute_result"
    }
   ],
   "source": [
    "connection_config= dict({\n",
    "    'host': os.environ['RDS_HOSTNAME'],\n",
    "    'database': \"pteta_db\",\n",
    "    'user': \"postgres\",\n",
    "    'password': os.environ['RDS_PTETA_DB_PASSWORD']\n",
    "})\n",
    "\n",
    "monitor = TransGPSCVMonitor(connection_config)\n",
    "\n",
    "req = monitor.request_data()\n",
    "len(req)"
   ]
  },
  {
   "cell_type": "code",
   "execution_count": null,
   "id": "29a97c1b-49ba-4432-a5a7-9e27ab712cb5",
   "metadata": {},
   "outputs": [],
   "source": []
  },
  {
   "cell_type": "code",
   "execution_count": null,
   "id": "5439cc0d-19b7-4a6a-a542-889143e0ed0c",
   "metadata": {},
   "outputs": [],
   "source": []
  },
  {
   "cell_type": "code",
   "execution_count": 15,
   "id": "c8cee2bb-6150-4945-a01f-5f1f307b819b",
   "metadata": {},
   "outputs": [
    {
     "name": "stdout",
     "output_type": "stream",
     "text": [
      "0\n",
      "    id             imei  name stateCode stateName        lat        lng  \\\n",
      "0  371  355227046451266   H53      used      used  48.265122  25.989670   \n",
      "1  371  355227046451266   H53      used      used  48.265010  25.989862   \n",
      "2  371  355227046451266   H53      used      used  48.264903  25.990107   \n",
      "3  243  355227045600988  A158      used      used  48.266835  25.992173   \n",
      "4  371  355227046451266   H53      used      used  48.264917  25.990410   \n",
      "5  383  355227046447371   H65      used      used  48.265955  25.991667   \n",
      "6  371  355227046451266   H53      used      used  48.265127  25.990710   \n",
      "7  371  355227046451266   H53      used      used  48.265295  25.990962   \n",
      "8  386  355227046451407   H68      used      used  48.265908  25.989527   \n",
      "9  371  355227046451266   H53      used      used  48.265415  25.991173   \n",
      "\n",
      "   speed  orientation              gpstime  routeId routeName routeColour  \\\n",
      "0    5.3       125.83  2022-09-30 23:00:05       37         T       coral   \n",
      "1    7.4       126.99  2022-09-30 23:00:15       37         T       coral   \n",
      "2    4.3       130.26  2022-09-30 23:00:25       37         T       coral   \n",
      "3    0.0         0.00  2022-09-30 23:00:38       33        8T       coral   \n",
      "4    1.3        43.55  2022-09-30 23:00:45       37         T       coral   \n",
      "5    0.0        58.32  2022-09-30 23:00:52       37         T       coral   \n",
      "6    5.9        42.27  2022-09-30 23:01:05       37         T       coral   \n",
      "7    8.3        35.76  2022-09-30 23:01:15       37         T       coral   \n",
      "8    0.0         0.00  2022-09-30 23:01:22       42        39       coral   \n",
      "9    5.1        46.49  2022-09-30 23:01:25       37         T       coral   \n",
      "\n",
      "   inDepo  busNumber  perevId                  perevName  \\\n",
      "0    True       2011        6                        ЧТУ   \n",
      "1    True       2011        6                        ЧТУ   \n",
      "2    True       2011        6                        ЧТУ   \n",
      "3    True        324        6                        ЧТУ   \n",
      "4    True       2011        6                        ЧТУ   \n",
      "5    True        355        6                        ЧТУ   \n",
      "6    True       2011        6                        ЧТУ   \n",
      "7    True       2011        6                        ЧТУ   \n",
      "8    True        855       13  Олег Валентинович 39 марш   \n",
      "9    True       2011        6                        ЧТУ   \n",
      "\n",
      "                   remark  online  idBusTypes  \n",
      "0  Тролейбус 2011 DNSNTNK    True           2  \n",
      "1  Тролейбус 2011 DNSNTNK    True           2  \n",
      "2  Тролейбус 2011 DNSNTNK    True           2  \n",
      "3     Тролейбус 324 DNSNK    True           2  \n",
      "4  Тролейбус 2011 DNSNTNK    True           2  \n",
      "5   Тролейбус 355 DNSNTNK    True           2  \n",
      "6  Тролейбус 2011 DNSNTNK    True           2  \n",
      "7  Тролейбус 2011 DNSNTNK    True           2  \n",
      "8            0855 DNSNTNK    True           1  \n",
      "9  Тролейбус 2011 DNSNTNK    True           2  \n",
      "1\n",
      "     id             imei  name stateCode stateName        lat        lng  \\\n",
      "10  265  355227045600830  A178      used      used  48.265525  25.991402   \n",
      "11  371  355227046451266   H53      used      used  48.265620  25.991398   \n",
      "12  371  355227046451266   H53      used      used  48.265850  25.991645   \n",
      "13  371  355227046451266   H53      used      used  48.266087  25.991905   \n",
      "14  165  355227045540176   A83      used      used  48.320157  25.940362   \n",
      "15  224  355227045600855  A142      used      used  48.265665  25.989463   \n",
      "16  371  355227046451266   H53      used      used  48.266203  25.992013   \n",
      "17  294  355228042084283  A207      used      used  48.249152  25.918033   \n",
      "18  224  355227045600855  A142      used      used  48.265592  25.989540   \n",
      "19  276  355227046578332  A189      used      used  48.320142  25.940345   \n",
      "\n",
      "    speed  orientation              gpstime  routeId routeName routeColour  \\\n",
      "10    0.0         0.00  2022-09-30 23:01:28       37         T       coral   \n",
      "11    9.1        29.86  2022-09-30 23:01:35       37         T       coral   \n",
      "12   10.1        41.49  2022-09-30 23:01:45       37         T       coral   \n",
      "13    8.3        32.50  2022-09-30 23:01:55       37         T       coral   \n",
      "14    0.0         0.00  2022-09-30 23:02:06       41       10A       black   \n",
      "15    0.0         0.00  2022-09-30 23:02:16       37         T       coral   \n",
      "16    0.0        38.56  2022-09-30 23:02:16       37         T       coral   \n",
      "17    0.0         0.00  2022-09-30 23:02:34       42        39       coral   \n",
      "18    4.0       165.81  2022-09-30 23:03:07       37         T       coral   \n",
      "19    0.0         0.00  2022-09-30 23:03:08       19        10       black   \n",
      "\n",
      "    inDepo  busNumber  perevId                  perevName  \\\n",
      "10    True        310        6                        ЧТУ   \n",
      "11    True       2011        6                        ЧТУ   \n",
      "12    True       2011        6                        ЧТУ   \n",
      "13    True       2011        6                        ЧТУ   \n",
      "14   False       5150        7      Віталій / Олег Бойко    \n",
      "15    True        377        6                        ЧТУ   \n",
      "16    True       2011        6                        ЧТУ   \n",
      "17   False       1032       13  Олег Валентинович 39 марш   \n",
      "18    True        377        6                        ЧТУ   \n",
      "19   False       6518        7      Віталій / Олег Бойко    \n",
      "\n",
      "                    remark  online  idBusTypes  \n",
      "10     Тролейбус 310 DNSNK    True           2  \n",
      "11  Тролейбус 2011 DNSNTNK    True           2  \n",
      "12  Тролейбус 2011 DNSNTNK    True           2  \n",
      "13  Тролейбус 2011 DNSNTNK    True           2  \n",
      "14                5150 DNS    True           1  \n",
      "15     Тролейбус 377 DNSNK    True           2  \n",
      "16  Тролейбус 2011 DNSNTNK    True           2  \n",
      "17              1032 DNSNK    True           1  \n",
      "18     Тролейбус 377 DNSNK    True           2  \n",
      "19             6518 DNSNK     True           1  \n",
      "2\n",
      "     id             imei  name stateCode stateName        lat        lng  \\\n",
      "20  224  355227045600855  A142      used      used  48.265507  25.989667   \n",
      "21  224  355227045600855  A142      used      used  48.265383  25.989937   \n",
      "22  380  355227046450920   H62      used      used  48.266723  25.990747   \n",
      "23  224  355227045600855  A142      used      used  48.265240  25.990245   \n",
      "24  371  355227046451266   H53      used      used  48.266218  25.992060   \n",
      "25  224  355227045600855  A142      used      used  48.265108  25.990527   \n",
      "26  380  355227046450920   H62      used      used  48.266723  25.990747   \n",
      "27  371  355227046451266   H53      used      used  48.266472  25.992038   \n",
      "28  224  355227045600855  A142      used      used  48.265272  25.990930   \n",
      "29  224  355227045600855  A142      used      used  48.265412  25.991120   \n",
      "\n",
      "    speed  orientation              gpstime  routeId routeName routeColour  \\\n",
      "20    6.3       125.94  2022-09-30 23:03:17       37         T       coral   \n",
      "21    7.7       122.28  2022-09-30 23:03:27       37         T       coral   \n",
      "22    0.0         5.61  2022-09-30 23:03:30       37         T       coral   \n",
      "23   10.8       124.09  2022-09-30 23:03:37       37         T       coral   \n",
      "24    0.0        38.56  2022-09-30 23:03:45       37         T       coral   \n",
      "25    5.5       118.28  2022-09-30 23:03:47       37         T       coral   \n",
      "26    0.0         5.61  2022-09-30 23:03:55       37         T       coral   \n",
      "27    5.9       268.51  2022-09-30 23:04:11       37         T       coral   \n",
      "28    7.5        38.46  2022-09-30 23:04:15       37         T       coral   \n",
      "29    5.6        53.10  2022-09-30 23:04:16       37         T       coral   \n",
      "\n",
      "    inDepo  busNumber  perevId perevName                  remark  online  \\\n",
      "20    True        377        6       ЧТУ     Тролейбус 377 DNSNK    True   \n",
      "21    True        377        6       ЧТУ     Тролейбус 377 DNSNK    True   \n",
      "22    True        255        6       ЧТУ   Тролейбус 255 DNSNTNK    True   \n",
      "23    True        377        6       ЧТУ     Тролейбус 377 DNSNK    True   \n",
      "24    True       2011        6       ЧТУ  Тролейбус 2011 DNSNTNK    True   \n",
      "25    True        377        6       ЧТУ     Тролейбус 377 DNSNK    True   \n",
      "26    True        255        6       ЧТУ   Тролейбус 255 DNSNTNK    True   \n",
      "27    True       2011        6       ЧТУ  Тролейбус 2011 DNSNTNK    True   \n",
      "28    True        377        6       ЧТУ     Тролейбус 377 DNSNK    True   \n",
      "29    True        377        6       ЧТУ     Тролейбус 377 DNSNK    True   \n",
      "\n",
      "    idBusTypes  \n",
      "20           2  \n",
      "21           2  \n",
      "22           2  \n",
      "23           2  \n",
      "24           2  \n",
      "25           2  \n",
      "26           2  \n",
      "27           2  \n",
      "28           2  \n",
      "29           2  \n",
      "3\n",
      "     id             imei  name stateCode stateName        lat        lng  \\\n",
      "30  391  355227046453387   H75      used      used  48.325650  25.896517   \n",
      "31  371  355227046451266   H53      used      used  48.266598  25.991785   \n",
      "32  224  355227045600855  A142      used      used  48.265518  25.991273   \n",
      "33  371  355227046451266   H53      used      used  48.266673  25.991592   \n",
      "34  224  355227045600855  A142      used      used  48.265647  25.991407   \n",
      "35  371  355227046451266   H53      used      used  48.266768  25.991393   \n",
      "36  371  355227046451266   H53      used      used  48.266988  25.991060   \n",
      "37  224  355227045600855  A142      used      used  48.265852  25.991602   \n",
      "38   75  355227045369527    A6      used      used  48.326703  25.930758   \n",
      "39  371  355227046451266   H53      used      used  48.267188  25.990655   \n",
      "\n",
      "    speed  orientation              gpstime  routeId routeName routeColour  \\\n",
      "30    0.0       319.34  2022-09-30 23:04:24       48        1A       olive   \n",
      "31    7.8       313.42  2022-09-30 23:04:25       37         T       coral   \n",
      "32    3.6        49.70  2022-09-30 23:04:27       37         T       coral   \n",
      "33    7.0       296.01  2022-09-30 23:04:29       37         T       coral   \n",
      "34    4.4        32.87  2022-09-30 23:04:37       37         T       coral   \n",
      "35    5.7       313.47  2022-09-30 23:04:39       37         T       coral   \n",
      "36   12.3       328.43  2022-09-30 23:04:45       37         T       coral   \n",
      "37    8.3        31.49  2022-09-30 23:04:47       37         T       coral   \n",
      "38    0.0         0.00  2022-09-30 23:04:54       17        23         red   \n",
      "39   11.6       307.08  2022-09-30 23:04:55       37         T       coral   \n",
      "\n",
      "    inDepo  busNumber  perevId    perevName                  remark  online  \\\n",
      "30   False       3627        1    Денисівка            3627 DNSNTNK    True   \n",
      "31    True       2011        6          ЧТУ  Тролейбус 2011 DNSNTNK    True   \n",
      "32    True        377        6          ЧТУ     Тролейбус 377 DNSNK    True   \n",
      "33    True       2011        6          ЧТУ  Тролейбус 2011 DNSNTNK    True   \n",
      "34    True        377        6          ЧТУ     Тролейбус 377 DNSNK    True   \n",
      "35    True       2011        6          ЧТУ  Тролейбус 2011 DNSNTNK    True   \n",
      "36    True       2011        6          ЧТУ  Тролейбус 2011 DNSNTNK    True   \n",
      "37    True        377        6          ЧТУ     Тролейбус 377 DNSNK    True   \n",
      "38   False       3557       12  Vitaliy2019             3557 DNSNK     True   \n",
      "39    True       2011        6          ЧТУ  Тролейбус 2011 DNSNTNK    True   \n",
      "\n",
      "    idBusTypes  \n",
      "30           1  \n",
      "31           2  \n",
      "32           2  \n",
      "33           2  \n",
      "34           2  \n",
      "35           2  \n",
      "36           2  \n",
      "37           2  \n",
      "38           1  \n",
      "39           2  \n"
     ]
    }
   ],
   "source": [
    "batch_size = 10\n",
    "for batch_number, batch_df in df_sum.groupby(np.arange(len(df_sum)) // batch_size):\n",
    "#     result.append(batch_df['ID'].nunique())\n",
    "    print(batch_number)\n",
    "    print(batch_df)\n",
    "    if batch_number > 2: \n",
    "        break"
   ]
  },
  {
   "cell_type": "code",
   "execution_count": null,
   "id": "3f29b94c-dd47-476d-a0c0-556675f67de4",
   "metadata": {},
   "outputs": [],
   "source": []
  },
  {
   "cell_type": "markdown",
   "id": "803d0232-1878-42cd-abff-897330bca1eb",
   "metadata": {},
   "source": [
    "## TransportRoute"
   ]
  },
  {
   "cell_type": "code",
   "execution_count": 7,
   "id": "b2024837-e775-4f72-88c9-b09c241c0f03",
   "metadata": {},
   "outputs": [
    {
     "data": {
      "text/plain": [
       "['route_name', 'route_colour']"
      ]
     },
     "execution_count": 7,
     "metadata": {},
     "output_type": "execute_result"
    }
   ],
   "source": [
    "TransportRoute.__insert_columns__().replace('\"', '').split(', ')[1:]"
   ]
  },
  {
   "cell_type": "code",
   "execution_count": 28,
   "id": "65ef4651-6170-4469-9d80-2b457a43f825",
   "metadata": {},
   "outputs": [],
   "source": [
    "cols = [\"routeId\", 'routeName', 'routeColour']\n",
    "route_list = [TransportRoute.from_response_row(row) for row in df_sum[cols].drop_duplicates().to_dict('records')]\n",
    "len(route_list), route_list[:3]\n",
    "TransportRoute.insert_many_in_table(conn, route_list)"
   ]
  },
  {
   "cell_type": "code",
   "execution_count": 32,
   "id": "e3f3fc79-26de-4beb-b29f-c64a5403df84",
   "metadata": {
    "collapsed": true,
    "jupyter": {
     "outputs_hidden": true
    },
    "tags": []
   },
   "outputs": [
    {
     "data": {
      "text/plain": [
       "[TransportRoute(id=37, name='T', colour='coral'),\n",
       " TransportRoute(id=31, name='6/6a', colour='deeppink'),\n",
       " TransportRoute(id=21, name='38', colour='deeppink'),\n",
       " TransportRoute(id=41, name='10A', colour='black'),\n",
       " TransportRoute(id=20, name='A', colour='navy'),\n",
       " TransportRoute(id=42, name='39', colour='coral'),\n",
       " TransportRoute(id=23, name='19', colour='teal'),\n",
       " TransportRoute(id=19, name='10', colour='black'),\n",
       " TransportRoute(id=11, name='9', colour='magenta'),\n",
       " TransportRoute(id=2, name='11', colour='green'),\n",
       " TransportRoute(id=6, name='4', colour='magenta'),\n",
       " TransportRoute(id=27, name='3/3a', colour='green'),\n",
       " TransportRoute(id=16, name='2', colour='green'),\n",
       " TransportRoute(id=4, name='5', colour='orange'),\n",
       " TransportRoute(id=3, name='12', colour='blue'),\n",
       " TransportRoute(id=12, name='20', colour='maroon'),\n",
       " TransportRoute(id=7, name='6', colour='sienna'),\n",
       " TransportRoute(id=10, name='34', colour='navy'),\n",
       " TransportRoute(id=45, name='1', colour='navy'),\n",
       " TransportRoute(id=9, name='27', colour='black'),\n",
       " TransportRoute(id=38, name='1T', colour='grey'),\n",
       " TransportRoute(id=49, name='2A', colour='red'),\n",
       " TransportRoute(id=5, name='13', colour='brown'),\n",
       " TransportRoute(id=33, name='8T', colour='coral'),\n",
       " TransportRoute(id=17, name='23', colour='red'),\n",
       " TransportRoute(id=48, name='1A', colour='olive'),\n",
       " TransportRoute(id=14, name='9A', colour='magenta'),\n",
       " TransportRoute(id=26, name='4T', colour='purple'),\n",
       " TransportRoute(id=25, name='2T', colour='olive'),\n",
       " TransportRoute(id=39, name='5T', colour='maroon'),\n",
       " TransportRoute(id=34, name='11/3', colour='teal')]"
      ]
     },
     "execution_count": 32,
     "metadata": {},
     "output_type": "execute_result"
    }
   ],
   "source": [
    "TransportRoute.get_table(conn)"
   ]
  },
  {
   "cell_type": "code",
   "execution_count": 13,
   "id": "db79201d-b8f6-4210-8e5d-7a3527d99efe",
   "metadata": {},
   "outputs": [],
   "source": [
    "# df_sum[TransportRoute.__insert_columns__().replace('\"', '').split(', ')[1:]].value_counts()"
   ]
  },
  {
   "cell_type": "code",
   "execution_count": 27,
   "id": "7962a53d-4491-4335-8219-3badba381963",
   "metadata": {},
   "outputs": [],
   "source": [
    "conn.rollback()"
   ]
  },
  {
   "cell_type": "code",
   "execution_count": 45,
   "id": "656c313d-e60c-44fe-b9f7-7df2ac28af09",
   "metadata": {
    "tags": []
   },
   "outputs": [],
   "source": [
    "SQL_big_req = \" \".join([create_sql_req(t) for t in trans_vehicle_list])"
   ]
  },
  {
   "cell_type": "code",
   "execution_count": 29,
   "id": "16cd9f5e-0f22-4c03-b6a2-007dfc75471b",
   "metadata": {},
   "outputs": [
    {
     "data": {
      "text/plain": [
       "31"
      ]
     },
     "execution_count": 29,
     "metadata": {},
     "output_type": "execute_result"
    }
   ],
   "source": [
    "route_list = TransportRoute.get_table(conn)[:]\n",
    "len(route_list)"
   ]
  },
  {
   "cell_type": "code",
   "execution_count": 30,
   "id": "703e8efe-7133-46a1-a6a1-2a2a37d93fe5",
   "metadata": {
    "collapsed": true,
    "jupyter": {
     "outputs_hidden": true
    },
    "tags": []
   },
   "outputs": [
    {
     "data": {
      "text/plain": [
       "[False,\n",
       " True,\n",
       " False,\n",
       " True,\n",
       " False,\n",
       " True,\n",
       " False,\n",
       " True,\n",
       " False,\n",
       " True,\n",
       " False,\n",
       " True,\n",
       " False,\n",
       " True,\n",
       " False,\n",
       " True,\n",
       " False,\n",
       " True,\n",
       " False,\n",
       " True,\n",
       " False,\n",
       " True,\n",
       " False,\n",
       " True,\n",
       " False,\n",
       " True,\n",
       " False,\n",
       " True,\n",
       " False,\n",
       " True,\n",
       " False]"
      ]
     },
     "execution_count": 30,
     "metadata": {},
     "output_type": "execute_result"
    }
   ],
   "source": [
    "for r in route_list[::2]: \n",
    "    r.id += 1\n",
    "TransportRoute.are_in_table(conn, route_list)"
   ]
  },
  {
   "cell_type": "code",
   "execution_count": 31,
   "id": "d7a52b7b-5720-4b93-ab34-36c661fd52c8",
   "metadata": {
    "collapsed": true,
    "jupyter": {
     "outputs_hidden": true
    },
    "tags": []
   },
   "outputs": [
    {
     "data": {
      "text/plain": [
       "[False,\n",
       " True,\n",
       " False,\n",
       " True,\n",
       " False,\n",
       " True,\n",
       " False,\n",
       " True,\n",
       " False,\n",
       " True,\n",
       " False,\n",
       " True,\n",
       " False,\n",
       " True,\n",
       " False,\n",
       " True,\n",
       " False,\n",
       " True,\n",
       " False,\n",
       " True,\n",
       " False,\n",
       " True,\n",
       " False,\n",
       " True,\n",
       " False,\n",
       " True,\n",
       " False,\n",
       " True,\n",
       " False,\n",
       " True,\n",
       " False]"
      ]
     },
     "execution_count": 31,
     "metadata": {},
     "output_type": "execute_result"
    }
   ],
   "source": [
    "TransportRoute.are_in_table(conn, route_list)"
   ]
  },
  {
   "cell_type": "code",
   "execution_count": 14,
   "id": "12a3eb91-8eda-470e-b985-4d5109cb424d",
   "metadata": {},
   "outputs": [],
   "source": [
    "for r in route_list: \n",
    "    r.name += \"_\"\n",
    "    r.id += 100"
   ]
  },
  {
   "cell_type": "code",
   "execution_count": 16,
   "id": "b0b4c455-15fa-4939-a6df-6012fad411fd",
   "metadata": {},
   "outputs": [],
   "source": [
    "# sql = f\"\"\"INSERT INTO pteta.route(\"id\", \"routeName\", \"routeColour\") VALUES \"\"\" + \\\n",
    "#               \", \".join([f\"\"\"({obj.id}, '{obj.name}', '{obj.colour}')\"\"\"\n",
    "#                         for obj in route_list]) + \";\"\n",
    "# sql"
   ]
  },
  {
   "cell_type": "code",
   "execution_count": 17,
   "id": "9054b72a-afb6-4087-a95a-21c876e097ff",
   "metadata": {},
   "outputs": [],
   "source": [
    "# route_list"
   ]
  },
  {
   "cell_type": "code",
   "execution_count": 18,
   "id": "77dd36c5-49ad-4a86-9de9-5282adf24302",
   "metadata": {},
   "outputs": [],
   "source": [
    "TransportRoute.insert_many_in_table(conn, route_list)"
   ]
  },
  {
   "cell_type": "code",
   "execution_count": null,
   "id": "3dd59c3b-6a83-466c-b8f2-cce11a645f0b",
   "metadata": {},
   "outputs": [],
   "source": []
  },
  {
   "cell_type": "markdown",
   "id": "e38b678e-784c-45d1-89cb-4d9d3ae77d45",
   "metadata": {},
   "source": [
    "## Test TransportVehicle"
   ]
  },
  {
   "cell_type": "code",
   "execution_count": 33,
   "id": "37129939-f633-4b44-9c44-10b313e3fa3b",
   "metadata": {},
   "outputs": [
    {
     "data": {
      "text/plain": [
       "'\"imei\", \"name\", \"bus_number\", \"remark\", \"perev_id\"'"
      ]
     },
     "execution_count": 33,
     "metadata": {},
     "output_type": "execute_result"
    }
   ],
   "source": [
    "TransportVehicle.__insert_columns__()"
   ]
  },
  {
   "cell_type": "code",
   "execution_count": 45,
   "id": "1a237457-a881-4e69-b1d0-96cf2aec4cd2",
   "metadata": {},
   "outputs": [],
   "source": [
    "cols = [\"imei\", \"name\", \"busNumber\", \"remark\", \"perevId\"]\n",
    "vehicle_list = [TransportVehicle.from_response_row(row) for row in df_sum[cols].drop_duplicates().to_dict('records')]\n",
    "len(vehicle_list), vehicle_list[:3]\n",
    "TransportVehicle.insert_many_in_table(conn, vehicle_list)"
   ]
  },
  {
   "cell_type": "code",
   "execution_count": 47,
   "id": "0a278005-dc97-4114-af59-483e17bf6999",
   "metadata": {},
   "outputs": [
    {
     "data": {
      "text/plain": [
       "99"
      ]
     },
     "execution_count": 47,
     "metadata": {},
     "output_type": "execute_result"
    }
   ],
   "source": [
    "vehicle_list = TransportVehicle.get_table(conn)\n",
    "len(vehicle_list)"
   ]
  },
  {
   "cell_type": "code",
   "execution_count": 48,
   "id": "37989ed4-30f7-4b97-8258-6be17ba1e290",
   "metadata": {},
   "outputs": [
    {
     "data": {
      "text/plain": [
       "[True, True, True, True, True]"
      ]
     },
     "execution_count": 48,
     "metadata": {},
     "output_type": "execute_result"
    }
   ],
   "source": [
    "TransportVehicle.are_in_table(conn, vehicle_list[:5])"
   ]
  },
  {
   "cell_type": "code",
   "execution_count": 49,
   "id": "81b128d1-6b40-4c94-bf2e-874e2544693e",
   "metadata": {},
   "outputs": [
    {
     "data": {
      "text/plain": [
       "True"
      ]
     },
     "execution_count": 49,
     "metadata": {},
     "output_type": "execute_result"
    }
   ],
   "source": [
    "vehicle_list[5].is_in_table(conn)"
   ]
  },
  {
   "cell_type": "code",
   "execution_count": null,
   "id": "ba9ba8f8-9ed4-47ba-94cd-7c20ac1c33cd",
   "metadata": {},
   "outputs": [],
   "source": []
  },
  {
   "cell_type": "code",
   "execution_count": 50,
   "id": "3d5e7733-09f4-4ae0-a3b3-c62900a8dc58",
   "metadata": {},
   "outputs": [
    {
     "data": {
      "text/plain": [
       "False"
      ]
     },
     "execution_count": 50,
     "metadata": {},
     "output_type": "execute_result"
    }
   ],
   "source": [
    "obj = vehicle_list[0]\n",
    "obj.imei += \"-\"\n",
    "obj.is_in_table(conn)"
   ]
  },
  {
   "cell_type": "code",
   "execution_count": 51,
   "id": "385b8a30-87af-4551-9f70-75ea85e14bd3",
   "metadata": {},
   "outputs": [],
   "source": [
    "obj.insert_in_table(conn)"
   ]
  },
  {
   "cell_type": "code",
   "execution_count": 52,
   "id": "7d90f8bb-b0f0-4f3c-9194-0ac4af260719",
   "metadata": {},
   "outputs": [],
   "source": [
    "for v in vehicle_list[:10]: \n",
    "    v.imei += '_'"
   ]
  },
  {
   "cell_type": "code",
   "execution_count": 15,
   "id": "6c25cab4-914c-4f61-a724-f199b51f0196",
   "metadata": {},
   "outputs": [],
   "source": [
    "TransportVehicle.insert_many_in_table(conn, vehicle_list[:10])"
   ]
  },
  {
   "cell_type": "code",
   "execution_count": 31,
   "id": "2a0af8f2-07a4-4991-8bd7-3bdfeb81b952",
   "metadata": {},
   "outputs": [],
   "source": [
    "obj.insert_in_table(conn)\n",
    "obj.is_in_table(conn)"
   ]
  },
  {
   "cell_type": "code",
   "execution_count": null,
   "id": "04400c12-3466-4c91-b027-93be01673c03",
   "metadata": {},
   "outputs": [],
   "source": []
  },
  {
   "cell_type": "code",
   "execution_count": 14,
   "id": "82a79e2d-325a-4dd6-82ef-e213a1f80469",
   "metadata": {},
   "outputs": [
    {
     "name": "stdout",
     "output_type": "stream",
     "text": [
      "TransportVehicle(id=None, imei='355227045600830', name='A178', busNumber='310', remark='Тролейбус 310 DNSNK', perevId=6, routeId=37)\n",
      "TransportVehicle(id=1, imei='355227045600830', name='A178', busNumber='310', remark='Тролейбус 310 DNSNK', perevId=6, routeId=37)\n"
     ]
    }
   ],
   "source": [
    "vehicle_list[0].id = None\n",
    "print(vehicle_list[0])\n",
    "vehicle_list[0].update_id_from_table(conn)\n",
    "print(vehicle_list[0])"
   ]
  },
  {
   "cell_type": "code",
   "execution_count": 34,
   "id": "9e1c1879-1060-45ac-ad9d-18991161f2f2",
   "metadata": {
    "collapsed": true,
    "jupyter": {
     "outputs_hidden": true
    },
    "tags": []
   },
   "outputs": [
    {
     "data": {
      "text/plain": [
       "[TransportVehicle(id=222, imei='355227045600830-__', name='A178', busNumber='310', remark='Тролейбус 310 DNSNK', perevId=6, routeId=37),\n",
       " TransportVehicle(id=2, imei='355227046451662__', name='H76', busNumber='350', remark='Тролейбус 350 DNSNTNK', perevId=6, routeId=31),\n",
       " TransportVehicle(id=3, imei='355227045369527__', name='A6', busNumber='3557', remark='3557 DNSNK ', perevId=12, routeId=21),\n",
       " TransportVehicle(id=4, imei='355227045540176__', name='A83', busNumber='5150', remark=' 5150 DNS', perevId=7, routeId=41),\n",
       " TransportVehicle(id=5, imei='355227046453387__', name='H75', busNumber='3627', remark='3627 DNSNTNK', perevId=1, routeId=20),\n",
       " TransportVehicle(id=6, imei='355228042084283__', name='A207', busNumber='1032', remark='1032 DNSNK', perevId=13, routeId=42),\n",
       " TransportVehicle(id=7, imei='355227045371655__', name='A1', busNumber='6513', remark='6513 DNSNK', perevId=7, routeId=23),\n",
       " TransportVehicle(id=8, imei='355227046451407__', name='H68', busNumber='0855', remark='0855 DNSNTNK', perevId=13, routeId=42),\n",
       " TransportVehicle(id=9, imei='355227046578332__', name='A189', busNumber='6518', remark='6518 DNSNK ', perevId=7, routeId=19),\n",
       " TransportVehicle(id=10, imei='355228043199379__', name='H99', busNumber='1176', remark='1176 DNSNTNK', perevId=12, routeId=21),\n",
       " TransportVehicle(id=11, imei='355227046504098', name='A195', busNumber='0854', remark='0854 DNSNK', perevId=13, routeId=42),\n",
       " TransportVehicle(id=12, imei='355227046504098', name='A195', busNumber='0854', remark='0854 DNSNK', perevId=13, routeId=11),\n",
       " TransportVehicle(id=13, imei='355227046451027', name='H24', busNumber='0738', remark='0738 DNSNTNK', perevId=1, routeId=2)]"
      ]
     },
     "execution_count": 34,
     "metadata": {},
     "output_type": "execute_result"
    }
   ],
   "source": [
    "for v in vehicle_list[:10]: \n",
    "    v.imei += '__'\n",
    "\n",
    "vehicle_list[:13]"
   ]
  },
  {
   "cell_type": "code",
   "execution_count": null,
   "id": "65587fa2-bd59-4efc-b155-56a4472d7c1d",
   "metadata": {},
   "outputs": [],
   "source": []
  },
  {
   "cell_type": "markdown",
   "id": "12b4864c-12ee-4bdc-8fc8-0504368bfbf9",
   "metadata": {},
   "source": [
    "## TransportOperator"
   ]
  },
  {
   "cell_type": "code",
   "execution_count": null,
   "id": "c65faf98-5009-4756-8cbe-433fe345970a",
   "metadata": {},
   "outputs": [],
   "source": []
  },
  {
   "cell_type": "code",
   "execution_count": 41,
   "id": "53ccacbb-8a47-4536-9004-dd3cff1c8756",
   "metadata": {
    "tags": []
   },
   "outputs": [
    {
     "data": {
      "text/plain": [
       "6"
      ]
     },
     "execution_count": 41,
     "metadata": {},
     "output_type": "execute_result"
    }
   ],
   "source": [
    "operator_list = TransportOperator.get_table(conn)\n",
    "len(operator_list)"
   ]
  },
  {
   "cell_type": "code",
   "execution_count": 37,
   "id": "add37a17-8db0-475b-a13f-05ad71cb4b90",
   "metadata": {},
   "outputs": [
    {
     "data": {
      "text/plain": [
       "'id, \"perev_name\"'"
      ]
     },
     "execution_count": 37,
     "metadata": {},
     "output_type": "execute_result"
    }
   ],
   "source": [
    "TransportOperator.__insert_columns__()"
   ]
  },
  {
   "cell_type": "code",
   "execution_count": 40,
   "id": "58aa5906-6de7-44df-93e3-9db6a9d03d72",
   "metadata": {},
   "outputs": [],
   "source": [
    "cols = ['perevId', \"perevName\"]\n",
    "operator_list = [TransportOperator.from_response_row(row) \n",
    "              for row in df_sum[cols].drop_duplicates().to_dict('records')]\n",
    "len(operator_list), operator_list[:3]\n",
    "TransportOperator.insert_many_in_table(conn, operator_list)"
   ]
  },
  {
   "cell_type": "code",
   "execution_count": null,
   "id": "49c7f706-e9c3-472b-90bb-a46d7cc96397",
   "metadata": {},
   "outputs": [],
   "source": []
  },
  {
   "cell_type": "code",
   "execution_count": 42,
   "id": "24288a49-97b0-450c-b4b3-9fdf8729d6ef",
   "metadata": {},
   "outputs": [
    {
     "data": {
      "text/plain": [
       "[True, True, True, True, True, True]"
      ]
     },
     "execution_count": 42,
     "metadata": {},
     "output_type": "execute_result"
    }
   ],
   "source": [
    "TransportOperator.are_in_table(conn, operator_list[:])"
   ]
  },
  {
   "cell_type": "code",
   "execution_count": 43,
   "id": "606d9682-b1e9-4110-bd5b-746fb6180744",
   "metadata": {},
   "outputs": [
    {
     "data": {
      "text/plain": [
       "True"
      ]
     },
     "execution_count": 43,
     "metadata": {},
     "output_type": "execute_result"
    }
   ],
   "source": [
    "operator_list[0].is_in_table(conn)"
   ]
  },
  {
   "cell_type": "code",
   "execution_count": 44,
   "id": "5437ec19-c042-4d84-adbb-6f1251c35bdf",
   "metadata": {},
   "outputs": [
    {
     "data": {
      "text/plain": [
       "False"
      ]
     },
     "execution_count": 44,
     "metadata": {},
     "output_type": "execute_result"
    }
   ],
   "source": [
    "obj = operator_list[0]\n",
    "obj.id += 100\n",
    "obj.name = \"-_-\" + obj.name\n",
    "obj.is_in_table(conn)"
   ]
  },
  {
   "cell_type": "code",
   "execution_count": 14,
   "id": "4fd48af7-fad0-4e05-80d7-756ce77ea7e8",
   "metadata": {},
   "outputs": [],
   "source": [
    "obj.insert_in_table(conn)"
   ]
  },
  {
   "cell_type": "code",
   "execution_count": 15,
   "id": "daa1e22e-774b-4aa6-85cd-8854f1451a03",
   "metadata": {},
   "outputs": [],
   "source": [
    "for op in operator_list: \n",
    "    op.id += 100\n",
    "    op.name = \"-_-\" + op.name\n",
    "    \n",
    "TransportOperator.insert_many_in_table(conn, operator_list)"
   ]
  },
  {
   "cell_type": "code",
   "execution_count": null,
   "id": "54623c33-e180-4a15-931b-32617c32876e",
   "metadata": {},
   "outputs": [],
   "source": []
  },
  {
   "cell_type": "markdown",
   "id": "a7b4a93e-f4cf-4f72-b4de-f31350ca0fe4",
   "metadata": {},
   "source": [
    "## TransportAVLData"
   ]
  },
  {
   "cell_type": "code",
   "execution_count": 9,
   "id": "2ec67a1a-5a8e-491c-b7ef-f00cbd84cbe5",
   "metadata": {},
   "outputs": [],
   "source": [
    "avl_data_list = TransportAVLData.get_table(conn)"
   ]
  },
  {
   "cell_type": "code",
   "execution_count": 11,
   "id": "8ec55802-09a3-46c5-a951-bc33f778ae31",
   "metadata": {},
   "outputs": [],
   "source": [
    "# avl_data_list"
   ]
  },
  {
   "cell_type": "code",
   "execution_count": 14,
   "id": "35304afa-4736-4317-aa4b-c59f784e3e59",
   "metadata": {},
   "outputs": [
    {
     "name": "stdout",
     "output_type": "stream",
     "text": [
      "57.4 ms ± 3.36 ms per loop (mean ± std. dev. of 7 runs, 10 loops each)\n"
     ]
    }
   ],
   "source": [
    "%%timeit\n",
    "TransportAVLData.are_in_table(conn, avl_data_list)"
   ]
  },
  {
   "cell_type": "code",
   "execution_count": 16,
   "id": "8366b7c5-2c46-49fa-8f89-ac62b91901b3",
   "metadata": {},
   "outputs": [
    {
     "name": "stdout",
     "output_type": "stream",
     "text": [
      "42.1 ms ± 1.17 ms per loop (mean ± std. dev. of 7 runs, 10 loops each)\n"
     ]
    }
   ],
   "source": [
    "%%timeit\n",
    "avl_data_list[0].is_in_table(conn)"
   ]
  },
  {
   "cell_type": "code",
   "execution_count": null,
   "id": "71406ef0-4031-4934-95b5-10c527447c39",
   "metadata": {},
   "outputs": [],
   "source": []
  },
  {
   "cell_type": "code",
   "execution_count": null,
   "id": "66d4652d-7651-426a-89d7-ea8e73d2ac06",
   "metadata": {},
   "outputs": [],
   "source": []
  }
 ],
 "metadata": {
  "kernelspec": {
   "display_name": "Python 3",
   "language": "python",
   "name": "python3"
  },
  "language_info": {
   "codemirror_mode": {
    "name": "ipython",
    "version": 3
   },
   "file_extension": ".py",
   "mimetype": "text/x-python",
   "name": "python",
   "nbconvert_exporter": "python",
   "pygments_lexer": "ipython3",
   "version": "3.8.9"
  }
 },
 "nbformat": 4,
 "nbformat_minor": 5
}
