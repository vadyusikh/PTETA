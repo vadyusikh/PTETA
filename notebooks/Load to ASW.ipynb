{
 "cells": [
  {
   "cell_type": "code",
   "execution_count": 1,
   "id": "fef48cae",
   "metadata": {},
   "outputs": [],
   "source": [
    "from datetime import datetime, timedelta\n",
    "import numpy as np\n",
    "from tqdm import tqdm\n",
    "from pathlib import Path\n",
    "import pandas as pd\n",
    "import os\n",
    "\n",
    "from collections import Counter"
   ]
  },
  {
   "cell_type": "markdown",
   "id": "94bac175-1fa1-49a2-8e10-a2b03a5d57c6",
   "metadata": {},
   "source": [
    "## Analyse data"
   ]
  },
  {
   "cell_type": "code",
   "execution_count": 2,
   "id": "569c1bce-bef2-4f20-a00a-7d84099a0584",
   "metadata": {},
   "outputs": [
    {
     "name": "stderr",
     "output_type": "stream",
     "text": [
      "100%|██████████| 1/1 [00:00<00:00,  1.59it/s]\n"
     ]
    }
   ],
   "source": [
    "df_sum = None\n",
    "\n",
    "file_path_list =list(Path(\"../data/local/tables/\").iterdir())[:]\n",
    "for df_path in tqdm(list(Path(\"../data/local/tables/\").iterdir())[:1]):\n",
    "    if df_sum is None: \n",
    "        df_sum = pd.read_csv(df_path, encoding='utf-8', low_memory=False)\n",
    "    else: \n",
    "        df_sum.append(pd.read_csv(df_path, encoding='utf-8', low_memory=False))"
   ]
  },
  {
   "cell_type": "code",
   "execution_count": 4,
   "id": "b9b9d98a-648d-4cd2-b6ca-7e88f8f760e8",
   "metadata": {},
   "outputs": [],
   "source": [
    "file_path_list = list(Path(\"D:/projects/pet_project/tables\").iterdir())\n",
    "file_path_list = sorted(file_path_list,\n",
    "                        key=lambda p: datetime.strptime(p.name[9:-4], '%d_%b_%Y'))"
   ]
  },
  {
   "cell_type": "code",
   "execution_count": 58,
   "id": "b50d7aec-eecb-4c1e-ad49-a923d230ea35",
   "metadata": {},
   "outputs": [
    {
     "data": {
      "text/plain": [
       "datetime.datetime(2022, 10, 1, 0, 0)"
      ]
     },
     "execution_count": 58,
     "metadata": {},
     "output_type": "execute_result"
    }
   ],
   "source": [
    "datetime.strptime( '01_OCT_2022', '%d_%b_%Y')"
   ]
  },
  {
   "cell_type": "code",
   "execution_count": 5,
   "id": "70232cac-70eb-4a06-83d9-977fc1851a28",
   "metadata": {
    "tags": []
   },
   "outputs": [
    {
     "data": {
      "text/plain": [
       "WindowsPath('D:/projects/pet_project/tables/data_for_19_OCT_2022.csv')"
      ]
     },
     "execution_count": 5,
     "metadata": {},
     "output_type": "execute_result"
    }
   ],
   "source": [
    "file_path_list[10]"
   ]
  },
  {
   "cell_type": "code",
   "execution_count": 6,
   "id": "913c8fed-5ae0-4ed5-818f-76625fdf7260",
   "metadata": {},
   "outputs": [],
   "source": [
    "df_sum = pd.read_csv(file_path_list[10], encoding='utf-8', low_memory=False)"
   ]
  },
  {
   "cell_type": "code",
   "execution_count": null,
   "id": "0587f65d-f4b6-4b63-b21f-06c9516d9f91",
   "metadata": {},
   "outputs": [],
   "source": []
  },
  {
   "cell_type": "code",
   "execution_count": null,
   "id": "b885d64b-2351-40da-b638-80af4bb57283",
   "metadata": {},
   "outputs": [],
   "source": []
  },
  {
   "cell_type": "code",
   "execution_count": 4,
   "id": "f7a7201a-5dd4-476a-b655-167037e77718",
   "metadata": {
    "tags": []
   },
   "outputs": [],
   "source": [
    "# df_sum[df_sum.duplicated()]"
   ]
  },
  {
   "cell_type": "code",
   "execution_count": 2,
   "id": "5a4b636a-2581-4b70-ad80-b80b4d2f3db0",
   "metadata": {},
   "outputs": [],
   "source": [
    "from datetime import datetime, timedelta\n",
    "import pytz\n",
    "\n",
    "import json\n",
    "import requests\n",
    "import time\n",
    "\n",
    "from PTETA.utils.transport.TransportOperator import TransportOperator\n",
    "from PTETA.utils.transport.TransportRoute import TransportRoute\n",
    "from PTETA.utils.transport.TransportVehicle import TransportVehicle\n",
    "from PTETA.utils.transport.TransportAVLData import TransportAVLData\n",
    "from psycopg2.extensions import connection as Connection\n",
    "import psycopg2\n",
    "\n",
    "from apscheduler.schedulers.background import BackgroundScheduler\n",
    "from PTETA.utils.transport.BaseDBAccessDataclass import BaseDBAccessDataclass\n",
    "from typing import List, Union\n",
    "from PTETA.utils.transport.BaseDBAccessDataclass import BaseDBAccessDataclass"
   ]
  },
  {
   "cell_type": "code",
   "execution_count": 6,
   "id": "2410bff0",
   "metadata": {},
   "outputs": [],
   "source": [
    "conn = psycopg2.connect(\n",
    "    host=os.environ['RDS_HOSTNAME'],\n",
    "    database=\"pteta_db\",\n",
    "    user=\"postgres\",\n",
    "    password=os.environ['RDS_PTETA_DB_PASSWORD'])"
   ]
  },
  {
   "cell_type": "code",
   "execution_count": 3,
   "id": "c1b6a6a6-2eda-42d7-a872-6801a34db17d",
   "metadata": {},
   "outputs": [],
   "source": [
    "response_prev = dict()\n",
    "\n",
    "try: \n",
    "    del TransGPSCVMonitor\n",
    "except: \n",
    "    pass\n",
    "\n",
    "class TransGPSCVMonitor:\n",
    "    db_connection: Connection = None\n",
    "\n",
    "    operator_to_id: dict = dict()\n",
    "    route_to_id: dict = dict()\n",
    "    vehicle_to_id: dict = dict()\n",
    "\n",
    "    objects_unique = {\n",
    "        TransportOperator: set(),\n",
    "        TransportRoute: set(),\n",
    "        TransportVehicle: set()\n",
    "    }\n",
    "\n",
    "    def __init__(self, connection_config: dict, **kwarg: dict) -> None:\n",
    "        self.db_connection = psycopg2.connect(**connection_config)\n",
    "\n",
    "        self.reload_operators()\n",
    "        self.reload_routes()\n",
    "        self.reload_vehicles()\n",
    "\n",
    "        self.datetime_format = '%Y-%m-%d %H:%M:%S'\n",
    "\n",
    "        self.REQUEST_URI = \\\n",
    "            kwarg.get('REQUEST_URI', 'http://www.trans-gps.cv.ua/map/tracker/?selectedRoutesStr=')\n",
    "        self.START_DATE = \\\n",
    "            kwarg.get('START_DATE', (datetime.now() - timedelta(days=1)).strftime(self.datetime_format))\n",
    "        self.END_DATE = \\\n",
    "            kwarg.get('END_DATE', (datetime.now() + timedelta(days=30)).strftime(self.datetime_format))\n",
    "        self.REQ_TIME_DELTA = kwarg.get('REQ_TIME_DELTA', 1.1)\n",
    "\n",
    "    def reload_operators(self):\n",
    "        operator_list = TransportOperator.get_table(self.db_connection)\n",
    "        self.objects_unique[TransportOperator] = set(operator_list)\n",
    "        self.operator_to_id = dict({operator: operator.id for operator in operator_list})\n",
    "\n",
    "    def reload_routes(self):\n",
    "        route_list = TransportRoute.get_table(self.db_connection)\n",
    "        self.objects_unique[TransportRoute] = set(route_list)\n",
    "        self.route_to_id = dict({route: route.id for route in route_list})\n",
    "\n",
    "    def reload_vehicles(self):\n",
    "        vehicle_list = TransportVehicle.get_table(self.db_connection)\n",
    "        self.objects_unique[TransportVehicle] = set(vehicle_list)\n",
    "        self.vehicle_to_id = dict({vehicle: vehicle.id for vehicle in vehicle_list})\n",
    "\n",
    "    @classmethod\n",
    "    def request_data(cls, request_uri='http://www.trans-gps.cv.ua/map/tracker/?selectedRoutesStr='):\n",
    "        dt_now = datetime.now()\n",
    "        dt_tz_now = datetime.utcnow().replace(tzinfo=pytz.utc)\n",
    "\n",
    "        try:\n",
    "            request = requests.get(request_uri)\n",
    "            if (request is None) or (request.text is None):\n",
    "                return\n",
    "            response_cur = json.loads(request.text)\n",
    "\n",
    "            global response_prev\n",
    "\n",
    "            keys_prev = set(response_prev.keys())\n",
    "            keys_cur = set(response_cur.keys())\n",
    "\n",
    "            optimized_data_list = list()\n",
    "            for imei in keys_prev.intersection(keys_cur):\n",
    "                if response_prev[imei]['gpstime'] != response_cur[imei]['gpstime']:\n",
    "                    response_cur[imei]['response_datetime'] = dt_tz_now\n",
    "                    optimized_data_list += [response_cur[imei]]\n",
    "\n",
    "            for imei in keys_cur.difference(keys_prev):\n",
    "                response_cur[imei]['response_datetime'] = dt_tz_now\n",
    "                optimized_data_list += [response_cur[imei]]\n",
    "\n",
    "            response_prev = response_cur\n",
    "        except (requests.Timeout, requests.ConnectionError, requests.HTTPError) as err:\n",
    "            print(f\"{dt_now.strftime('%Y-%m-%d %H;%M;%S')} : error while trying to GET data\\n\"\n",
    "                  f\"\\t{err}\\n\")\n",
    "\n",
    "        #         print(dt_now.strftime('%Y-%m-%d %H;%M;%S'), len(optimized_data_list))\n",
    "        return optimized_data_list\n",
    "\n",
    "    def get_new_objs(self, obj_list: List[BaseDBAccessDataclass]) -> List[BaseDBAccessDataclass]:\n",
    "        seen_obj = set()\n",
    "        seen_add = seen_obj.add\n",
    "        unique_obj_list = [x for x in obj_list if not (x in seen_obj or seen_add(x))]\n",
    "\n",
    "        return [obj for obj in unique_obj_list\n",
    "                if obj not in self.objects_unique[obj.__class__]]\n",
    "\n",
    "    def update_db(self, obj_list: List[BaseDBAccessDataclass]):\n",
    "        current_class = obj_list[0].__class__\n",
    "        are_in_db_list = current_class.are_in_table(self.db_connection, obj_list)\n",
    "\n",
    "        obj_to_insert = [obj\n",
    "                         for obj, is_in in zip(obj_list, are_in_db_list)\n",
    "                         if not is_in]\n",
    "        \n",
    "        for obj in obj_to_insert: \n",
    "            obj.insert_many_in_table(self.db_connection)\n",
    "            if isinstance(obj, TransportOperator):\n",
    "                self.reload_operators()\n",
    "            elif isinstance(obj, TransportRoute):\n",
    "                self.reload_routes()\n",
    "            elif isinstance(obj, TransportVehicle):\n",
    "                self.reload_vehicles()\n",
    "\n",
    "    @classmethod\n",
    "    def decompose_response(cls, response: List[dict]) -> Union:\n",
    "        operator_list, route_list = list(), list()\n",
    "        vehicle_list, avl_data_list = list(), list()\n",
    "\n",
    "        for row in response:\n",
    "            operator_list.append(TransportOperator.from_response_row(row))\n",
    "            route_list.append(TransportRoute.from_response_row(row))\n",
    "            vehicle_list.append(TransportVehicle.from_response_row(row))\n",
    "            avl_data_list.append(TransportAVLData.from_response_row(row))\n",
    "\n",
    "        return operator_list, route_list, vehicle_list, avl_data_list\n",
    "\n",
    "    def write_to_db(self, response):\n",
    "        operator_list, route_list, vehicle_list, avl_data_list = self.decompose_response(response)\n",
    "\n",
    "        for obj_list in [operator_list, route_list, vehicle_list]:\n",
    "            new_obj = self.get_new_objs(obj_list)\n",
    "            if new_obj:\n",
    "                print(f\"There are {len(new_obj)} new {new_obj[0].__class__} to inserted in DB\")\n",
    "                self.update_db(new_obj)\n",
    "\n",
    "        for i, (vehicle, route) in enumerate(zip(vehicle_list, route_list)):\n",
    "            avl_data_list[i].vehicle_id = self.vehicle_to_id[vehicle]\n",
    "            avl_data_list[i].route_id = self.route_to_id[route]\n",
    "\n",
    "        TransportAVLData.insert_many_in_table(self.db_connection, avl_data_list)\n",
    "\n",
    "    def run(self):\n",
    "        scheduler = BackgroundScheduler(job_defaults={'max_instances': 8})\n",
    "        scheduler.add_job(\n",
    "            self.request_data,\n",
    "            'interval',\n",
    "            seconds=self.REQ_TIME_DELTA,\n",
    "            end_date=self.END_DATE,\n",
    "            id='listener')\n",
    "\n",
    "        scheduler.start()\n",
    "\n",
    "        try:\n",
    "            print('Scheduler started!')\n",
    "            while 1:\n",
    "                time.sleep(10)\n",
    "                print(datetime.now())\n",
    "        except KeyboardInterrupt:\n",
    "            if scheduler.state:\n",
    "                scheduler.shutdown()"
   ]
  },
  {
   "cell_type": "code",
   "execution_count": 4,
   "id": "53e72179-7749-427e-95a6-e77cac2755c1",
   "metadata": {},
   "outputs": [
    {
     "data": {
      "text/plain": [
       "58"
      ]
     },
     "execution_count": 4,
     "metadata": {},
     "output_type": "execute_result"
    }
   ],
   "source": [
    "connection_config= dict({\n",
    "    'host': os.environ['RDS_HOSTNAME'],\n",
    "    'database': \"pteta_db\",\n",
    "    'user': \"postgres\",\n",
    "    'password': os.environ['RDS_PTETA_DB_PASSWORD']\n",
    "})\n",
    "\n",
    "monitor = TransGPSCVMonitor(connection_config)\n",
    "\n",
    "req = monitor.request_data()\n",
    "len(req)"
   ]
  },
  {
   "cell_type": "code",
   "execution_count": 48,
   "id": "6f252b3a-2b85-4963-97b0-d741277d6166",
   "metadata": {},
   "outputs": [],
   "source": [
    "res = monitor.decompose_response(batch_df.to_dict('records'))"
   ]
  },
  {
   "cell_type": "code",
   "execution_count": 62,
   "id": "8dd14885-e283-401f-a1cf-b34679ebcf50",
   "metadata": {},
   "outputs": [],
   "source": [
    "# res[2]"
   ]
  },
  {
   "cell_type": "code",
   "execution_count": 18,
   "id": "daee4da5-2e14-4c73-8747-c62a86648b4f",
   "metadata": {},
   "outputs": [],
   "source": [
    "df1 = batch_df.where(pd.notnull(batch_df), None)"
   ]
  },
  {
   "cell_type": "code",
   "execution_count": 20,
   "id": "d89e4129-06a8-4988-86ea-1e6e6e1c7148",
   "metadata": {
    "collapsed": true,
    "jupyter": {
     "outputs_hidden": true
    },
    "tags": []
   },
   "outputs": [
    {
     "data": {
      "text/plain": [
       "[{'id': 142,\n",
       "  'imei': '355227045541356',\n",
       "  'name': 'A65',\n",
       "  'stateCode': 'used',\n",
       "  'stateName': 'used',\n",
       "  'lat': 48.27113166666667,\n",
       "  'lng': 25.921768333333333,\n",
       "  'speed': 0.0,\n",
       "  'orientation': 0.0,\n",
       "  'gpstime': '2022-10-13 19:17:35',\n",
       "  'routeId': 2,\n",
       "  'routeName': '11',\n",
       "  'routeColour': 'green',\n",
       "  'inDepo': False,\n",
       "  'busNumber': None,\n",
       "  'perevId': None,\n",
       "  'perevName': None,\n",
       "  'remark': '9408 DNSNK',\n",
       "  'online': True,\n",
       "  'idBusTypes': None,\n",
       "  'response_datetime': None},\n",
       " {'id': 142,\n",
       "  'imei': '355227045541356',\n",
       "  'name': 'A65',\n",
       "  'stateCode': 'used',\n",
       "  'stateName': 'used',\n",
       "  'lat': 48.27113166666667,\n",
       "  'lng': 25.921768333333333,\n",
       "  'speed': 0.0,\n",
       "  'orientation': 0.0,\n",
       "  'gpstime': '2022-10-13 19:18:35',\n",
       "  'routeId': 2,\n",
       "  'routeName': '11',\n",
       "  'routeColour': 'green',\n",
       "  'inDepo': False,\n",
       "  'busNumber': None,\n",
       "  'perevId': None,\n",
       "  'perevName': None,\n",
       "  'remark': '9408 DNSNK',\n",
       "  'online': True,\n",
       "  'idBusTypes': None,\n",
       "  'response_datetime': None}]"
      ]
     },
     "execution_count": 20,
     "metadata": {},
     "output_type": "execute_result"
    }
   ],
   "source": [
    "df1[df1['imei'] == '355227045541356'].to_dict('records')"
   ]
  },
  {
   "cell_type": "code",
   "execution_count": 60,
   "id": "adf716a1-1c66-4c40-8e21-a00047422965",
   "metadata": {},
   "outputs": [],
   "source": [
    "# with psycopg2.connect(**connection_config) as conn:\n",
    "#     TransportOperator(id=-1, name='UNKNOWN').insert_in_table(conn)\n",
    "    \n",
    "# with psycopg2.connect(**connection_config) as conn:\n",
    "#     TransportRoute(id=-1, name='UNKNOWN', colour=None).insert_in_table(conn) "
   ]
  },
  {
   "cell_type": "code",
   "execution_count": null,
   "id": "bcd9566e-535a-430f-a5fc-757dc168e8b6",
   "metadata": {
    "tags": []
   },
   "outputs": [],
   "source": []
  },
  {
   "cell_type": "code",
   "execution_count": 5,
   "id": "c8cee2bb-6150-4945-a01f-5f1f307b819b",
   "metadata": {
    "tags": []
   },
   "outputs": [
    {
     "name": "stderr",
     "output_type": "stream",
     "text": [
      "  0%|          | 0/73 [00:00<?, ?it/s]\n",
      "  4%|▎         | 7/197 [00:02<01:02,  3.05it/s]\n",
      "  0%|          | 0/73 [00:03<?, ?it/s]"
     ]
    },
    {
     "name": "stdout",
     "output_type": "stream",
     "text": [
      "There are 1 new <class 'PTETA.utils.transport.TransportVehicle.TransportVehicle'> to inserted in DB\n"
     ]
    },
    {
     "name": "stderr",
     "output_type": "stream",
     "text": [
      "\n"
     ]
    },
    {
     "ename": "UndefinedColumn",
     "evalue": "column \"none\" does not exist\nLINE 1: ...'None' AND \"remark\" = '9408 DNSNK' AND \"perev_id\" = None ) ;\n                                                               ^\nHINT:  Perhaps you meant to reference the column \"vehicle.name\".\n",
     "output_type": "error",
     "traceback": [
      "\u001b[1;31m---------------------------------------------------------------------------\u001b[0m",
      "\u001b[1;31mUndefinedColumn\u001b[0m                           Traceback (most recent call last)",
      "\u001b[1;32m~\\AppData\\Local\\Temp\\ipykernel_19240\\2544826359.py\u001b[0m in \u001b[0;36m<module>\u001b[1;34m\u001b[0m\n\u001b[0;32m     33\u001b[0m     \u001b[1;32mfor\u001b[0m \u001b[0mbatch_number\u001b[0m\u001b[1;33m,\u001b[0m \u001b[0mbatch_df\u001b[0m \u001b[1;32min\u001b[0m \u001b[0mbatch_tqdm\u001b[0m\u001b[1;33m:\u001b[0m\u001b[1;33m\u001b[0m\u001b[1;33m\u001b[0m\u001b[0m\n\u001b[0;32m     34\u001b[0m         \u001b[0mbatch_df\u001b[0m \u001b[1;33m=\u001b[0m \u001b[0mbatch_df\u001b[0m\u001b[1;33m.\u001b[0m\u001b[0mwhere\u001b[0m\u001b[1;33m(\u001b[0m\u001b[0mpd\u001b[0m\u001b[1;33m.\u001b[0m\u001b[0mnotnull\u001b[0m\u001b[1;33m(\u001b[0m\u001b[0mbatch_df\u001b[0m\u001b[1;33m)\u001b[0m\u001b[1;33m,\u001b[0m \u001b[1;32mNone\u001b[0m\u001b[1;33m)\u001b[0m\u001b[1;33m\u001b[0m\u001b[1;33m\u001b[0m\u001b[0m\n\u001b[1;32m---> 35\u001b[1;33m         \u001b[0mmonitor\u001b[0m\u001b[1;33m.\u001b[0m\u001b[0mwrite_to_db\u001b[0m\u001b[1;33m(\u001b[0m\u001b[0mbatch_df\u001b[0m\u001b[1;33m.\u001b[0m\u001b[0mto_dict\u001b[0m\u001b[1;33m(\u001b[0m\u001b[1;34m'records'\u001b[0m\u001b[1;33m)\u001b[0m\u001b[1;33m)\u001b[0m\u001b[1;33m\u001b[0m\u001b[1;33m\u001b[0m\u001b[0m\n\u001b[0m",
      "\u001b[1;32m~\\AppData\\Local\\Temp\\ipykernel_19240\\1524573781.py\u001b[0m in \u001b[0;36mwrite_to_db\u001b[1;34m(self, response)\u001b[0m\n\u001b[0;32m    123\u001b[0m             \u001b[1;32mif\u001b[0m \u001b[0mnew_obj\u001b[0m\u001b[1;33m:\u001b[0m\u001b[1;33m\u001b[0m\u001b[1;33m\u001b[0m\u001b[0m\n\u001b[0;32m    124\u001b[0m                 \u001b[0mprint\u001b[0m\u001b[1;33m(\u001b[0m\u001b[1;34mf\"There are {len(new_obj)} new {new_obj[0].__class__} to inserted in DB\"\u001b[0m\u001b[1;33m)\u001b[0m\u001b[1;33m\u001b[0m\u001b[1;33m\u001b[0m\u001b[0m\n\u001b[1;32m--> 125\u001b[1;33m                 \u001b[0mself\u001b[0m\u001b[1;33m.\u001b[0m\u001b[0mupdate_db\u001b[0m\u001b[1;33m(\u001b[0m\u001b[0mnew_obj\u001b[0m\u001b[1;33m)\u001b[0m\u001b[1;33m\u001b[0m\u001b[1;33m\u001b[0m\u001b[0m\n\u001b[0m\u001b[0;32m    126\u001b[0m                 \u001b[1;32mif\u001b[0m \u001b[0misinstance\u001b[0m\u001b[1;33m(\u001b[0m\u001b[0mnew_obj\u001b[0m\u001b[1;33m[\u001b[0m\u001b[1;36m0\u001b[0m\u001b[1;33m]\u001b[0m\u001b[1;33m,\u001b[0m \u001b[0mTransportOperator\u001b[0m\u001b[1;33m)\u001b[0m\u001b[1;33m:\u001b[0m\u001b[1;33m\u001b[0m\u001b[1;33m\u001b[0m\u001b[0m\n\u001b[0;32m    127\u001b[0m                     \u001b[0mself\u001b[0m\u001b[1;33m.\u001b[0m\u001b[0mreload_operators\u001b[0m\u001b[1;33m(\u001b[0m\u001b[1;33m)\u001b[0m\u001b[1;33m\u001b[0m\u001b[1;33m\u001b[0m\u001b[0m\n",
      "\u001b[1;32m~\\AppData\\Local\\Temp\\ipykernel_19240\\1524573781.py\u001b[0m in \u001b[0;36mupdate_db\u001b[1;34m(self, obj_list)\u001b[0m\n\u001b[0;32m     95\u001b[0m     \u001b[1;32mdef\u001b[0m \u001b[0mupdate_db\u001b[0m\u001b[1;33m(\u001b[0m\u001b[0mself\u001b[0m\u001b[1;33m,\u001b[0m \u001b[0mobj_list\u001b[0m\u001b[1;33m:\u001b[0m \u001b[0mList\u001b[0m\u001b[1;33m[\u001b[0m\u001b[0mBaseDBAccessDataclass\u001b[0m\u001b[1;33m]\u001b[0m\u001b[1;33m)\u001b[0m\u001b[1;33m:\u001b[0m\u001b[1;33m\u001b[0m\u001b[1;33m\u001b[0m\u001b[0m\n\u001b[0;32m     96\u001b[0m         \u001b[0mcurrent_class\u001b[0m \u001b[1;33m=\u001b[0m \u001b[0mobj_list\u001b[0m\u001b[1;33m[\u001b[0m\u001b[1;36m0\u001b[0m\u001b[1;33m]\u001b[0m\u001b[1;33m.\u001b[0m\u001b[0m__class__\u001b[0m\u001b[1;33m\u001b[0m\u001b[1;33m\u001b[0m\u001b[0m\n\u001b[1;32m---> 97\u001b[1;33m         \u001b[0mare_in_db_list\u001b[0m \u001b[1;33m=\u001b[0m \u001b[0mcurrent_class\u001b[0m\u001b[1;33m.\u001b[0m\u001b[0mare_in_table\u001b[0m\u001b[1;33m(\u001b[0m\u001b[0mself\u001b[0m\u001b[1;33m.\u001b[0m\u001b[0mdb_connection\u001b[0m\u001b[1;33m,\u001b[0m \u001b[0mobj_list\u001b[0m\u001b[1;33m)\u001b[0m\u001b[1;33m\u001b[0m\u001b[1;33m\u001b[0m\u001b[0m\n\u001b[0m\u001b[0;32m     98\u001b[0m \u001b[1;33m\u001b[0m\u001b[0m\n\u001b[0;32m     99\u001b[0m         obj_to_insert = [obj\n",
      "\u001b[1;32mD:\\projects\\PTETA\\PTETA\\utils\\transport\\BaseDBAccessDataclass.py\u001b[0m in \u001b[0;36mare_in_table\u001b[1;34m(cls, connection, obj_list)\u001b[0m\n\u001b[0;32m     40\u001b[0m             \u001b[1;32mexcept\u001b[0m \u001b[0mException\u001b[0m \u001b[1;32mas\u001b[0m \u001b[0merr\u001b[0m\u001b[1;33m:\u001b[0m\u001b[1;33m\u001b[0m\u001b[1;33m\u001b[0m\u001b[0m\n\u001b[0;32m     41\u001b[0m                 \u001b[0mconnection\u001b[0m\u001b[1;33m.\u001b[0m\u001b[0mrollback\u001b[0m\u001b[1;33m(\u001b[0m\u001b[1;33m)\u001b[0m\u001b[1;33m\u001b[0m\u001b[1;33m\u001b[0m\u001b[0m\n\u001b[1;32m---> 42\u001b[1;33m                 \u001b[1;32mraise\u001b[0m \u001b[0merr\u001b[0m\u001b[1;33m\u001b[0m\u001b[1;33m\u001b[0m\u001b[0m\n\u001b[0m\u001b[0;32m     43\u001b[0m \u001b[1;33m\u001b[0m\u001b[0m\n\u001b[0;32m     44\u001b[0m     \u001b[1;32mdef\u001b[0m \u001b[0minsert_in_table\u001b[0m\u001b[1;33m(\u001b[0m\u001b[0mself\u001b[0m\u001b[1;33m,\u001b[0m \u001b[0mconnection\u001b[0m\u001b[1;33m:\u001b[0m \u001b[0mConnection\u001b[0m\u001b[1;33m)\u001b[0m \u001b[1;33m->\u001b[0m \u001b[1;32mNone\u001b[0m\u001b[1;33m:\u001b[0m\u001b[1;33m\u001b[0m\u001b[1;33m\u001b[0m\u001b[0m\n",
      "\u001b[1;32mD:\\projects\\PTETA\\PTETA\\utils\\transport\\BaseDBAccessDataclass.py\u001b[0m in \u001b[0;36mare_in_table\u001b[1;34m(cls, connection, obj_list)\u001b[0m\n\u001b[0;32m     35\u001b[0m         \u001b[1;32mwith\u001b[0m \u001b[0mconnection\u001b[0m\u001b[1;33m.\u001b[0m\u001b[0mcursor\u001b[0m\u001b[1;33m(\u001b[0m\u001b[1;33m)\u001b[0m \u001b[1;32mas\u001b[0m \u001b[0mcursor\u001b[0m\u001b[1;33m:\u001b[0m\u001b[1;33m\u001b[0m\u001b[1;33m\u001b[0m\u001b[0m\n\u001b[0;32m     36\u001b[0m             \u001b[1;32mtry\u001b[0m\u001b[1;33m:\u001b[0m\u001b[1;33m\u001b[0m\u001b[1;33m\u001b[0m\u001b[0m\n\u001b[1;32m---> 37\u001b[1;33m                 \u001b[0mcursor\u001b[0m\u001b[1;33m.\u001b[0m\u001b[0mexecute\u001b[0m\u001b[1;33m(\u001b[0m\u001b[0msql\u001b[0m\u001b[1;33m)\u001b[0m\u001b[1;33m\u001b[0m\u001b[1;33m\u001b[0m\u001b[0m\n\u001b[0m\u001b[0;32m     38\u001b[0m                 \u001b[0mresponse_set\u001b[0m \u001b[1;33m=\u001b[0m \u001b[0mset\u001b[0m\u001b[1;33m(\u001b[0m\u001b[1;33m[\u001b[0m\u001b[0mcls\u001b[0m\u001b[1;33m(\u001b[0m\u001b[1;33m*\u001b[0m\u001b[0mrow\u001b[0m\u001b[1;33m)\u001b[0m \u001b[1;32mfor\u001b[0m \u001b[0mrow\u001b[0m \u001b[1;32min\u001b[0m \u001b[0mcursor\u001b[0m\u001b[1;33m.\u001b[0m\u001b[0mfetchall\u001b[0m\u001b[1;33m(\u001b[0m\u001b[1;33m)\u001b[0m\u001b[1;33m]\u001b[0m\u001b[1;33m)\u001b[0m\u001b[1;33m\u001b[0m\u001b[1;33m\u001b[0m\u001b[0m\n\u001b[0;32m     39\u001b[0m                 \u001b[1;32mreturn\u001b[0m \u001b[1;33m[\u001b[0m\u001b[0mobj\u001b[0m \u001b[1;32min\u001b[0m \u001b[0mresponse_set\u001b[0m \u001b[1;32mfor\u001b[0m \u001b[0mobj\u001b[0m \u001b[1;32min\u001b[0m \u001b[0mobj_list\u001b[0m\u001b[1;33m]\u001b[0m\u001b[1;33m\u001b[0m\u001b[1;33m\u001b[0m\u001b[0m\n",
      "\u001b[1;31mUndefinedColumn\u001b[0m: column \"none\" does not exist\nLINE 1: ...'None' AND \"remark\" = '9408 DNSNK' AND \"perev_id\" = None ) ;\n                                                               ^\nHINT:  Perhaps you meant to reference the column \"vehicle.name\".\n"
     ]
    }
   ],
   "source": [
    "BATCH_SIZE = 1_000\n",
    "connection_config= dict({\n",
    "    'host': os.environ['RDS_HOSTNAME'],\n",
    "    'database': \"pteta_db\",\n",
    "    'user': \"postgres\",\n",
    "    'password': os.environ['RDS_PTETA_DB_PASSWORD']\n",
    "})\n",
    "\n",
    "monitor = TransGPSCVMonitor(connection_config)\n",
    "\n",
    "# file_path_list =list(Path(\"../data/local/tables/\").iterdir())\n",
    "file_path_list =list(Path(\"D:/projects/pet_project/tables\").iterdir())\n",
    "file_path_list = sorted(file_path_list, \n",
    "                        key=lambda p: datetime.strptime(p.name[9:-4], '%d_%b_%Y') )\n",
    "\n",
    "for df_path in tqdm(file_path_list[5:]):\n",
    "    \n",
    "    df_sum = pd.read_csv(df_path, encoding='utf-8', low_memory=False)\n",
    "        \n",
    "    if \"response_datetime\" not in df_sum: \n",
    "        df_sum['response_datetime'] = None\n",
    "\n",
    "    if not df_sum['imei'].dtype == 'O':\n",
    "        df_sum['imei'] = df_sum['imei'].astype(str, copy=True)\n",
    "\n",
    "    if not df_sum['busNumber'].dtype == 'O':\n",
    "        df_sum['busNumber'] = df_sum['busNumber'].astype(str, copy=True)\n",
    "        \n",
    "    df_cur = df_sum[:]\n",
    "\n",
    "    batch_tqdm = tqdm(df_cur.groupby(np.arange(len(df_cur)) // BATCH_SIZE), \n",
    "                     miniters=40)\n",
    "    for batch_number, batch_df in batch_tqdm:\n",
    "        batch_df = batch_df.where(pd.notnull(batch_df), None)\n",
    "        monitor.write_to_db(batch_df.to_dict('records'))"
   ]
  },
  {
   "cell_type": "code",
   "execution_count": 28,
   "id": "ba386c51-6de4-492a-8678-eeb6740f31f9",
   "metadata": {},
   "outputs": [
    {
     "data": {
      "text/plain": [
       "{PTETA.utils.transport.TransportOperator.TransportOperator: {TransportOperator(id=-1, name='UNKNOWN'),\n",
       "  TransportOperator(id=1, name='Денисівка'),\n",
       "  TransportOperator(id=12, name='Vitaliy2019'),\n",
       "  TransportOperator(id=13, name='Олег Валентинович 39 марш'),\n",
       "  TransportOperator(id=15, name='Василь 25 маршрут'),\n",
       "  TransportOperator(id=2, name='Тарас'),\n",
       "  TransportOperator(id=5, name='Oleg 38 Олег Огородник'),\n",
       "  TransportOperator(id=6, name='ЧТУ'),\n",
       "  TransportOperator(id=7, name='Віталій / Олег Бойко ')},\n",
       " PTETA.utils.transport.TransportRoute.TransportRoute: {TransportRoute(id=-1, name='UNKNOWN', colour='None'),\n",
       "  TransportRoute(id=10, name='34', colour='navy'),\n",
       "  TransportRoute(id=11, name='9', colour='magenta'),\n",
       "  TransportRoute(id=12, name='20', colour='maroon'),\n",
       "  TransportRoute(id=13, name='29', colour='black'),\n",
       "  TransportRoute(id=14, name='9A', colour='magenta'),\n",
       "  TransportRoute(id=16, name='2', colour='green'),\n",
       "  TransportRoute(id=17, name='23', colour='red'),\n",
       "  TransportRoute(id=19, name='10', colour='black'),\n",
       "  TransportRoute(id=2, name='11', colour='green'),\n",
       "  TransportRoute(id=20, name='A', colour='navy'),\n",
       "  TransportRoute(id=21, name='38', colour='deeppink'),\n",
       "  TransportRoute(id=23, name='19', colour='teal'),\n",
       "  TransportRoute(id=25, name='2T', colour='olive'),\n",
       "  TransportRoute(id=26, name='4T', colour='purple'),\n",
       "  TransportRoute(id=27, name='3/3a', colour='green'),\n",
       "  TransportRoute(id=3, name='12', colour='blue'),\n",
       "  TransportRoute(id=31, name='6/6a', colour='deeppink'),\n",
       "  TransportRoute(id=33, name='8T', colour='coral'),\n",
       "  TransportRoute(id=34, name='11/3', colour='teal'),\n",
       "  TransportRoute(id=36, name='7', colour='sienna'),\n",
       "  TransportRoute(id=37, name='T', colour='coral'),\n",
       "  TransportRoute(id=38, name='1T', colour='grey'),\n",
       "  TransportRoute(id=39, name='5T', colour='maroon'),\n",
       "  TransportRoute(id=4, name='5', colour='orange'),\n",
       "  TransportRoute(id=40, name='9T', colour='magenta'),\n",
       "  TransportRoute(id=41, name='10A', colour='black'),\n",
       "  TransportRoute(id=42, name='39', colour='coral'),\n",
       "  TransportRoute(id=43, name='25', colour='teal'),\n",
       "  TransportRoute(id=45, name='1', colour='navy'),\n",
       "  TransportRoute(id=48, name='1A', colour='olive'),\n",
       "  TransportRoute(id=49, name='2A', colour='red'),\n",
       "  TransportRoute(id=5, name='13', colour='brown'),\n",
       "  TransportRoute(id=6, name='4', colour='magenta'),\n",
       "  TransportRoute(id=7, name='6', colour='sienna'),\n",
       "  TransportRoute(id=9, name='27', colour='black')},\n",
       " PTETA.utils.transport.TransportVehicle.TransportVehicle: {TransportVehicle(id=100, imei='355227045600830', name='A178', bus_number='310', remark='Тролейбус 310 DNSNK', perev_id=6),\n",
       "  TransportVehicle(id=101, imei='355227046451662', name='H76', bus_number='350', remark='Тролейбус 350 DNSNTNK', perev_id=6),\n",
       "  TransportVehicle(id=102, imei='355227045369527', name='A6', bus_number='3557', remark='3557 DNSNK ', perev_id=12),\n",
       "  TransportVehicle(id=103, imei='355227045540176', name='A83', bus_number='5150', remark=' 5150 DNS', perev_id=7),\n",
       "  TransportVehicle(id=104, imei='355227046453387', name='H75', bus_number='3627', remark='3627 DNSNTNK', perev_id=1),\n",
       "  TransportVehicle(id=105, imei='355228042084283', name='A207', bus_number='1032', remark='1032 DNSNK', perev_id=13),\n",
       "  TransportVehicle(id=106, imei='355227045371655', name='A1', bus_number='6513', remark='6513 DNSNK', perev_id=7),\n",
       "  TransportVehicle(id=107, imei='355227046451407', name='H68', bus_number='0855', remark='0855 DNSNTNK', perev_id=13),\n",
       "  TransportVehicle(id=108, imei='355227046578332', name='A189', bus_number='6518', remark='6518 DNSNK ', perev_id=7),\n",
       "  TransportVehicle(id=109, imei='355228043199379', name='H99', bus_number='1176', remark='1176 DNSNTNK', perev_id=12),\n",
       "  TransportVehicle(id=110, imei='355227046504098', name='A195', bus_number='0854', remark='0854 DNSNK', perev_id=13),\n",
       "  TransportVehicle(id=111, imei='355227046451027', name='H24', bus_number='0738', remark='0738 DNSNTNK', perev_id=1),\n",
       "  TransportVehicle(id=112, imei='355228042058154', name='A219', bus_number='5627', remark=' 5627 DNSNK', perev_id=1),\n",
       "  TransportVehicle(id=113, imei='355227046451357', name='H51', bus_number='356', remark='Тролейбус 356 DNSNTNK', perev_id=6),\n",
       "  TransportVehicle(id=114, imei='355227045539228', name='Am66', bus_number='1065', remark='1065 DNSNK', perev_id=2),\n",
       "  TransportVehicle(id=115, imei='355227046450987', name='H25', bus_number='0866', remark='0866 DNSNTNK', perev_id=1),\n",
       "  TransportVehicle(id=116, imei='355227046451589', name='H4', bus_number='0987', remark='0987 DNSNTNK', perev_id=1),\n",
       "  TransportVehicle(id=117, imei='355227045540192', name='A91', bus_number='7762', remark='7762 DNSNK', perev_id=1),\n",
       "  TransportVehicle(id=118, imei='355227046638821', name='A211', bus_number='1181', remark='1181 DNSNK', perev_id=13),\n",
       "  TransportVehicle(id=119, imei='355227045600319', name='A157', bus_number='289', remark='Тролейбус 289 DNSNK', perev_id=6),\n",
       "  TransportVehicle(id=120, imei='355227046451415', name='H47', bus_number='398', remark='Тролейбус 398 DNSNTNK', perev_id=6),\n",
       "  TransportVehicle(id=121, imei='355227046450961', name='H21', bus_number='2058', remark='2058 DNSNTNK', perev_id=1),\n",
       "  TransportVehicle(id=122, imei='355227046450920', name='H62', bus_number='255', remark='Тролейбус 255 DNSNTNK', perev_id=6),\n",
       "  TransportVehicle(id=123, imei='355227045541257', name='A57', bus_number='9043', remark='9043 DNSNK', perev_id=2),\n",
       "  TransportVehicle(id=124, imei='355227046451530', name='H17', bus_number='1147', remark='1147 DNSNTNK', perev_id=1),\n",
       "  TransportVehicle(id=125, imei='355227046450953', name='H26', bus_number='0443', remark='0443 DNSNTNK', perev_id=2),\n",
       "  TransportVehicle(id=126, imei='355227045539517', name='A100', bus_number='1173', remark='1173 DNSNK', perev_id=1),\n",
       "  TransportVehicle(id=127, imei='355227045541638', name='A96', bus_number='2818', remark='2818 DNSNK', perev_id=1),\n",
       "  TransportVehicle(id=128, imei='355227045600178', name='A121', bus_number='384', remark='Тролейбус 384 DNSNK', perev_id=6),\n",
       "  TransportVehicle(id=129, imei='355227046450946', name='H61', bus_number='364', remark='Тролейбус 364 DNSNTNK', perev_id=6),\n",
       "  TransportVehicle(id=130, imei='355227045600996', name='A168', bus_number='381', remark='Тролейбус 381 DNSNK', perev_id=6),\n",
       "  TransportVehicle(id=131, imei='355228043199098', name='H102', bus_number='1098', remark='1098 DNSNTNK', perev_id=12),\n",
       "  TransportVehicle(id=132, imei='355227045540770', name='A90', bus_number='9046', remark='9046 DNSNK', perev_id=2),\n",
       "  TransportVehicle(id=133, imei='355227046451043', name='H23', bus_number='1172', remark='1172 DNSNTNK', perev_id=1),\n",
       "  TransportVehicle(id=134, imei='355227046283032', name='A208', bus_number='0937', remark='0937 DNSNK', perev_id=13),\n",
       "  TransportVehicle(id=135, imei='355227046505244', name='A188', bus_number='5447', remark='5447 DNSNK', perev_id=1),\n",
       "  TransportVehicle(id=136, imei='355227046299129', name='A186', bus_number='389', remark='Тролейбус 389 DNSNK', perev_id=6),\n",
       "  TransportVehicle(id=137, imei='355227046451019', name='H30', bus_number='275', remark='Тролейбус 275 DNSNTNK', perev_id=6),\n",
       "  TransportVehicle(id=138, imei='355227045594892', name='A108', bus_number='1159', remark='1159 DNSNK', perev_id=2),\n",
       "  TransportVehicle(id=139, imei='355227046314068', name='A185', bus_number='388', remark='Тролейбус 388 DNSNK', perev_id=6),\n",
       "  TransportVehicle(id=140, imei='355227046450904', name='H11', bus_number='6159', remark='6159 DNSNTNK', perev_id=1),\n",
       "  TransportVehicle(id=141, imei='355227045600988', name='A158', bus_number='324', remark='Тролейбус 324 DNSNK', perev_id=6),\n",
       "  TransportVehicle(id=142, imei='355227046313847', name='A184', bus_number='387', remark=' тролейбус 387 DNSNK', perev_id=6),\n",
       "  TransportVehicle(id=143, imei='355228043198777', name='H96', bus_number='8361', remark='8361 DNSNTNK', perev_id=12),\n",
       "  TransportVehicle(id=144, imei='355227044854750', name='A22', bus_number='7665', remark='7665 DNSNK', perev_id=1),\n",
       "  TransportVehicle(id=145, imei='355227046450805', name='H63', bus_number='375', remark='Тролейбус 375 DNSNTNK', perev_id=6),\n",
       "  TransportVehicle(id=146, imei='355227046451480', name='H41', bus_number='399', remark='Тролейбус 399 DNSNTNK', perev_id=6),\n",
       "  TransportVehicle(id=147, imei='355228043162195', name='H108', bus_number='0896', remark='0896 DNSNTNK', perev_id=1),\n",
       "  TransportVehicle(id=148, imei='355227045594934', name='A112', bus_number='1116', remark='1116 DNSNK', perev_id=1),\n",
       "  TransportVehicle(id=149, imei='355227045600103', name='A130', bus_number='1632', remark='1632 DNSNK', perev_id=1),\n",
       "  TransportVehicle(id=150, imei='355227045540572', name='A67', bus_number='4238', remark='4238 DNSNK', perev_id=1),\n",
       "  TransportVehicle(id=151, imei='355227045600871', name='A134', bus_number='318', remark='Тролейбус 318 DNS', perev_id=6),\n",
       "  TransportVehicle(id=152, imei='355228043199049', name='H106', bus_number='0964', remark='0964 DNSNTNK', perev_id=1),\n",
       "  TransportVehicle(id=153, imei='355228043199130', name='H105', bus_number='0128', remark='0128 DNSNTNK', perev_id=12),\n",
       "  TransportVehicle(id=154, imei='355227046451266', name='H53', bus_number='2011', remark='Тролейбус 2011 DNSNTNK', perev_id=6),\n",
       "  TransportVehicle(id=155, imei='355227046450995', name='H29', bus_number='365', remark='Тролейбус 365 DNSNTNK', perev_id=6),\n",
       "  TransportVehicle(id=156, imei='355227045600202', name='A144', bus_number='2012', remark='Тролейбус 2012 DNSNK', perev_id=6),\n",
       "  TransportVehicle(id=157, imei='355228042084192', name='A204', bus_number='0901', remark='0901 DNSNK', perev_id=1),\n",
       "  TransportVehicle(id=158, imei='355227045539731', name='Am87', bus_number='1023', remark='1023 DNSNK', perev_id=2),\n",
       "  TransportVehicle(id=159, imei='355227046451167', name='H13', bus_number='9408', remark='9408 DNSNTNK', perev_id=1),\n",
       "  TransportVehicle(id=160, imei='355228043199106', name='H104', bus_number='1031', remark='1031 DNSNTNK', perev_id=12),\n",
       "  TransportVehicle(id=161, imei='355227046451449', name='H46', bus_number='397', remark='Тролейбус 397 DNSNTNK', perev_id=6),\n",
       "  TransportVehicle(id=162, imei='355227045370699', name='A11', bus_number='2079', remark='2079 DNSNK', perev_id=2),\n",
       "  TransportVehicle(id=163, imei='355227046451035', name='H22', bus_number='8276', remark='8276 DNSNTNK', perev_id=1),\n",
       "  TransportVehicle(id=164, imei='355227045513553', name='A60', bus_number='3459', remark='3459 DNSNK', perev_id=7),\n",
       "  TransportVehicle(id=165, imei='355227046451332', name='A225', bus_number='7763', remark='7763 DNSNTNK', perev_id=1),\n",
       "  TransportVehicle(id=166, imei='355228042956811', name='H95', bus_number='1097', remark='1097 DNSNTNK', perev_id=12),\n",
       "  TransportVehicle(id=167, imei='355227046451399', name='H50', bus_number='393', remark='Тролейбус 393 DNSNTNK', perev_id=6),\n",
       "  TransportVehicle(id=168, imei='355227045601259', name='A133', bus_number='358', remark='Тролейбус 358 DNSNK', perev_id=6),\n",
       "  TransportVehicle(id=169, imei='355227046451464', name='H86', bus_number='7684', remark='7684 DNSNTNK', perev_id=1),\n",
       "  TransportVehicle(id=170, imei='355227046630729', name='A214', bus_number='1182', remark='1182 DNSNK', perev_id=13),\n",
       "  TransportVehicle(id=171, imei='355227046453403', name='H6', bus_number='0984', remark='0984 DNSNTNK', perev_id=1),\n",
       "  TransportVehicle(id=172, imei='355227045533718', name='A79', bus_number='9034', remark='9034 DNSNK', perev_id=1),\n",
       "  TransportVehicle(id=173, imei='355227045540127', name='A99', bus_number='0042', remark='0042 DNSNK', perev_id=1),\n",
       "  TransportVehicle(id=174, imei='355228043198843', name='H100', bus_number='9752', remark='9752 DNSNTNK', perev_id=12),\n",
       "  TransportVehicle(id=175, imei='355228043022480', name='H93', bus_number='8714', remark='8714 DNSNTNK', perev_id=12),\n",
       "  TransportVehicle(id=176, imei='355227045594918', name='A106', bus_number='5483', remark='5483 DNSNK', perev_id=7),\n",
       "  TransportVehicle(id=177, imei='355227045526902', name='A85', bus_number='0528', remark='0528 DNSNK ', perev_id=7),\n",
       "  TransportVehicle(id=178, imei='355227045539921', name='A64', bus_number='5952', remark='5952 DNS', perev_id=7),\n",
       "  TransportVehicle(id=179, imei='355228043022449', name='H94', bus_number='1099', remark='1099 DNSNTNK', perev_id=12),\n",
       "  TransportVehicle(id=180, imei='355227046451274', name='H37', bus_number='361', remark='Тролейбус 361 DNSNTNK', perev_id=6),\n",
       "  TransportVehicle(id=181, imei='355227045369873', name='A10', bus_number='7237', remark='7237 DNSNK', perev_id=1),\n",
       "  TransportVehicle(id=182, imei='355227045600582', name='A146', bus_number='385', remark='Тролейбус 385 DNSNK', perev_id=6),\n",
       "  TransportVehicle(id=183, imei='355228043198686', name='H97', bus_number='7722', remark='7722 DNSNTNK', perev_id=12),\n",
       "  TransportVehicle(id=184, imei='355227045539541', name='A82', bus_number='6001', remark='6001 DNSNK', perev_id=7),\n",
       "  TransportVehicle(id=185, imei='355227046507778', name='A202', bus_number='5785', remark='5785 DNSNK', perev_id=1),\n",
       "  TransportVehicle(id=186, imei='355227045601002', name='A123', bus_number='!!!', remark='!!! DNSNK', perev_id=7),\n",
       "  TransportVehicle(id=187, imei='355227045598570', name='А107', bus_number='1125', remark='1125 DNSNK', perev_id=2),\n",
       "  TransportVehicle(id=188, imei='355228043199080', name='H103', bus_number='8716', remark='8716 DNSNTNK', perev_id=12),\n",
       "  TransportVehicle(id=189, imei='355227046451472', name='H49', bus_number='394', remark='Тролейбус 394 DNSNTNK', perev_id=6),\n",
       "  TransportVehicle(id=190, imei='355227046453452', name='H9', bus_number='6802', remark='6802 DNSNTNK', perev_id=1),\n",
       "  TransportVehicle(id=191, imei='355227046451290', name='H36', bus_number='282', remark='Тролейбус 282 DNSNTNK', perev_id=6),\n",
       "  TransportVehicle(id=192, imei='355227046490926', name='A198', bus_number='0985', remark='0985 DNSNK', perev_id=1),\n",
       "  TransportVehicle(id=194, imei='355227044854818', name='A17', bus_number='0741', remark='0741 DNSNK', perev_id=2),\n",
       "  TransportVehicle(id=195, imei='355228043162351', name='H107', bus_number='9138', remark='9138 DNSNTNK', perev_id=12),\n",
       "  TransportVehicle(id=196, imei='355227046447371', name='H65', bus_number='355', remark='Тролейбус 355 DNSNTNK', perev_id=6),\n",
       "  TransportVehicle(id=197, imei='355227045600855', name='A142', bus_number='377', remark='Тролейбус 377 DNSNK', perev_id=6),\n",
       "  TransportVehicle(id=198, imei='355227045539491', name='Am86', bus_number='1027', remark='1027 DNSNK', perev_id=2),\n",
       "  TransportVehicle(id=200, imei='355227045538972', name='A52', bus_number='5039', remark=' 5039 DNS', perev_id=7),\n",
       "  TransportVehicle(id=201, imei='355227045540036', name='A92', bus_number='0986', remark='0986 DNSNK', perev_id=1),\n",
       "  TransportVehicle(id=203, imei='355227046451555', name='H71', bus_number='1124', remark='1124 DNSNTNK', perev_id=1),\n",
       "  TransportVehicle(id=204, imei='355228043233913', name='H110', bus_number='CE1047EI', remark='1047Og DNSNTNK', perev_id=5),\n",
       "  TransportVehicle(id=205, imei='355228043023082', name='H90', bus_number='!!!1', remark='!!!1 DNSNT', perev_id=7),\n",
       "  TransportVehicle(id=206, imei='355228043234077', name='H112', bus_number='1024', remark='1024 DNSNTNK', perev_id=1),\n",
       "  TransportVehicle(id=207, imei='355227046451308', name='A227', bus_number='0335', remark='0335  DNSNTNK', perev_id=15),\n",
       "  TransportVehicle(id=208, imei='355228043234036', name='H111', bus_number='CE6829EI', remark='6829 Og DNSNTNK', perev_id=5),\n",
       "  TransportVehicle(id=209, imei='355228043233921', name='H114', bus_number='0047', remark='0047 DNSNTNK', perev_id=1),\n",
       "  TransportVehicle(id=210, imei='355227046451563', name='H72', bus_number='0903', remark='0903 DNSNTNK', perev_id=1),\n",
       "  TransportVehicle(id=211, imei='355227046579017', name='A194', bus_number='1113', remark='1113 DNSNK', perev_id=2),\n",
       "  TransportVehicle(id=212, imei='355227046507810', name='A199', bus_number='0359', remark='0359 DNSNK', perev_id=13),\n",
       "  TransportVehicle(id=213, imei='355227045541208', name='A101', bus_number='6652', remark='6652 DNSNK', perev_id=1),\n",
       "  TransportVehicle(id=214, imei='355228043233822', name='H109', bus_number='0148', remark='0148 DNSNTNK', perev_id=2),\n",
       "  TransportVehicle(id=215, imei='355227046503686', name='A200', bus_number='3560', remark='3560 DNSNK', perev_id=7),\n",
       "  TransportVehicle(id=237, imei='355227046451407', name='H68', bus_number='855', remark='0855 DNSNTNK', perev_id=13),\n",
       "  TransportVehicle(id=238, imei='355228042084192', name='A204', bus_number='901', remark='0901 DNSNK', perev_id=1),\n",
       "  TransportVehicle(id=239, imei='355227046451308', name='A227', bus_number='335', remark='0335  DNSNTNK', perev_id=15),\n",
       "  TransportVehicle(id=240, imei='355227046504098', name='A195', bus_number='854', remark='0854 DNSNK', perev_id=13),\n",
       "  TransportVehicle(id=241, imei='355227046451589', name='H4', bus_number='987', remark='0987 DNSNTNK', perev_id=1),\n",
       "  TransportVehicle(id=242, imei='355227046451563', name='H72', bus_number='903', remark='0903 DNSNTNK', perev_id=1),\n",
       "  TransportVehicle(id=243, imei='355227046451506', name='H48', bus_number='391', remark='Тролейбус 391 DNSNTNK', perev_id=6),\n",
       "  TransportVehicle(id=244, imei='355227046450987', name='H25', bus_number='866', remark='0866 DNSNTNK', perev_id=1),\n",
       "  TransportVehicle(id=245, imei='355228043199130', name='H105', bus_number='128', remark='0128 DNSNTNK', perev_id=12),\n",
       "  TransportVehicle(id=246, imei='355227046490926', name='A198', bus_number='985', remark='0985 DNSNK', perev_id=1),\n",
       "  TransportVehicle(id=247, imei='355228043199049', name='H106', bus_number='964', remark='0964 DNSNTNK', perev_id=1),\n",
       "  TransportVehicle(id=248, imei='355227045526902', name='A85', bus_number='528', remark='0528 DNSNK ', perev_id=7),\n",
       "  TransportVehicle(id=249, imei='355228043162195', name='H108', bus_number='896', remark='0896 DNSNTNK', perev_id=1),\n",
       "  TransportVehicle(id=250, imei='355227046450896', name='H18', bus_number='1025', remark='1025 DNSNTNK', perev_id=1),\n",
       "  TransportVehicle(id=251, imei='355227046451688', name='H89', bus_number='50', remark='7761 DNSNTNK', perev_id=2),\n",
       "  TransportVehicle(id=252, imei='355227046453403', name='H6', bus_number='984', remark='0984 DNSNTNK', perev_id=1),\n",
       "  TransportVehicle(id=253, imei='355227046451027', name='H24', bus_number='738', remark='0738 DNSNTNK', perev_id=1),\n",
       "  TransportVehicle(id=254, imei='355227045541257', name='A57', bus_number='9043', remark='0325 DNSNK', perev_id=2),\n",
       "  TransportVehicle(id=255, imei='355227046453528', name='H8', bus_number='47', remark='0047 DNSNTNK', perev_id=1),\n",
       "  TransportVehicle(id=256, imei='355227046283032', name='A208', bus_number='937', remark='0937 DNSNK', perev_id=13),\n",
       "  TransportVehicle(id=257, imei='355227045600277', name='A115', bus_number='745', remark='9043 DNS', perev_id=2),\n",
       "  TransportVehicle(id=258, imei='355227045540234', name='A77', bus_number='0688 паз', remark='0688 DNSNK', perev_id=1),\n",
       "  TransportVehicle(id=259, imei='355227046451688', name='H89', bus_number='0050', remark='7761 DNSNTNK', perev_id=2),\n",
       "  TransportVehicle(id=260, imei='355227046453528', name='H8', bus_number='0047', remark='0047 DNSNTNK', perev_id=1),\n",
       "  TransportVehicle(id=261, imei='355227046638797', name='A217', bus_number='9001', remark='9001 DNSNK', perev_id=7),\n",
       "  TransportVehicle(id=262, imei='355227045600277', name='A115', bus_number='0745', remark='9043 DNS', perev_id=2),\n",
       "  TransportVehicle(id=263, imei='355227046451670', name='H69', bus_number='0856', remark='0856 DNSNTNK', perev_id=13),\n",
       "  TransportVehicle(id=264, imei='355227045601184', name='A176', bus_number='2079', remark='2079 DNSNK', perev_id=2),\n",
       "  TransportVehicle(id=265, imei='355227045600079', name='A140', bus_number='382', remark='Тролейбус 382 DNSNK', perev_id=6),\n",
       "  TransportVehicle(id=266, imei='355228043022472', name='H91', bus_number='!!!2', remark='!!!2 DNSNK', perev_id=7),\n",
       "  TransportVehicle(id=267, imei='355227046451050', name='H28', bus_number='0325', remark='0325 DNSNTNK', perev_id=2),\n",
       "  TransportVehicle(id=268, imei='355227046451498', name='H45', bus_number='396', remark='Тролейбус 396 DNSNTNK', perev_id=6),\n",
       "  TransportVehicle(id=269, imei='355227046451076', name='A229', bus_number='0008', remark=' 0008 DNSNTNK', perev_id=15),\n",
       "  TransportVehicle(id=270, imei='355227046451142', name='H12', bus_number='0902', remark='0902 DNSNTNK', perev_id=1),\n",
       "  TransportVehicle(id=271, imei='355227046451670.0', name='H69', bus_number='0856', remark='0856 DNSNTNK', perev_id=13),\n",
       "  TransportVehicle(id=272, imei='355228042084283.0', name='A207', bus_number='1032', remark='1032 DNSNK', perev_id=13),\n",
       "  TransportVehicle(id=273, imei='355227045600830.0', name='A178', bus_number='310', remark='Тролейбус 310 DNSNK', perev_id=6),\n",
       "  TransportVehicle(id=274, imei='355227046283032.0', name='A208', bus_number='0937', remark='0937 DNSNK', perev_id=13),\n",
       "  TransportVehicle(id=275, imei='355228043199379.0', name='H99', bus_number='1176', remark='1176 DNSNTNK', perev_id=12),\n",
       "  TransportVehicle(id=276, imei='355227046578332.0', name='A189', bus_number='6518', remark='6518 DNSNK ', perev_id=7),\n",
       "  TransportVehicle(id=277, imei='355227045600988.0', name='A158', bus_number='324', remark='Тролейбус 324 DNSNK', perev_id=6),\n",
       "  TransportVehicle(id=278, imei='355228043022472.0', name='H91', bus_number='!!!2', remark='!!!2 DNSNK', perev_id=7),\n",
       "  TransportVehicle(id=279, imei='355227046453387.0', name='H75', bus_number='3627', remark='3627 DNSNTNK', perev_id=1),\n",
       "  TransportVehicle(id=280, imei='355227045369527.0', name='A6', bus_number='3557', remark='3557 DNSNK ', perev_id=12),\n",
       "  TransportVehicle(id=281, imei='355227046451399.0', name='H50', bus_number='393', remark='Тролейбус 393 DNSNTNK', perev_id=6),\n",
       "  TransportVehicle(id=282, imei='355227045600871.0', name='A134', bus_number='318', remark='Тролейбус 318 DNS', perev_id=6),\n",
       "  TransportVehicle(id=283, imei='355227045600996.0', name='A168', bus_number='381', remark='Тролейбус 381 DNSNK', perev_id=6),\n",
       "  TransportVehicle(id=284, imei='355227045371655.0', name='A1', bus_number='6513', remark='6513 DNSNK', perev_id=7),\n",
       "  TransportVehicle(id=285, imei='355227046504098.0', name='A195', bus_number='0854', remark='0854 DNSNK', perev_id=13),\n",
       "  TransportVehicle(id=286, imei='355227046451035.0', name='H22', bus_number='8276', remark='8276 DNSNTNK', perev_id=1),\n",
       "  TransportVehicle(id=287, imei='355227045600103.0', name='A130', bus_number='1632', remark='1632 DNSNK', perev_id=1),\n",
       "  TransportVehicle(id=288, imei='355227046451407.0', name='H68', bus_number='0855', remark='0855 DNSNTNK', perev_id=13),\n",
       "  TransportVehicle(id=289, imei='355227046451076.0', name='A229', bus_number='0008', remark=' 0008 DNSNTNK', perev_id=15),\n",
       "  TransportVehicle(id=290, imei='355227046450805.0', name='H63', bus_number='375', remark='Тролейбус 375 DNSNTNK', perev_id=6),\n",
       "  TransportVehicle(id=291, imei='355227046451530.0', name='H17', bus_number='1147', remark='1147 DNSNTNK', perev_id=1),\n",
       "  TransportVehicle(id=292, imei='355227046451290.0', name='H36', bus_number='282', remark='Тролейбус 282 DNSNTNK', perev_id=6),\n",
       "  TransportVehicle(id=293, imei='355227046451480.0', name='H41', bus_number='399', remark='Тролейбус 399 DNSNTNK', perev_id=6),\n",
       "  TransportVehicle(id=294, imei='355227046453452.0', name='H9', bus_number='6802', remark='6802 DNSNTNK', perev_id=1),\n",
       "  TransportVehicle(id=295, imei='355227045600202.0', name='A144', bus_number='2012', remark='Тролейбус 2012 DNSNK', perev_id=6),\n",
       "  TransportVehicle(id=296, imei='355227046505244.0', name='A188', bus_number='5447', remark='5447 DNSNK', perev_id=1),\n",
       "  TransportVehicle(id=297, imei='355227046450946.0', name='H61', bus_number='364', remark='Тролейбус 364 DNSNTNK', perev_id=6),\n",
       "  TransportVehicle(id=298, imei='355227046450961.0', name='H21', bus_number='2058', remark='2058 DNSNTNK', perev_id=1),\n",
       "  TransportVehicle(id=299, imei='355227044854750.0', name='A22', bus_number='7665', remark='7665 DNSNK', perev_id=1),\n",
       "  TransportVehicle(id=300, imei='355227045539228.0', name='Am66', bus_number='1065', remark='1065 DNSNK', perev_id=2),\n",
       "  TransportVehicle(id=301, imei='355227046451563.0', name='H72', bus_number='0903', remark='0903 DNSNTNK', perev_id=1),\n",
       "  TransportVehicle(id=302, imei='355227046451357.0', name='H51', bus_number='356', remark='Тролейбус 356 DNSNTNK', perev_id=6),\n",
       "  TransportVehicle(id=303, imei='355228043162351.0', name='H107', bus_number='9138', remark='9138 DNSNTNK', perev_id=12),\n",
       "  TransportVehicle(id=304, imei='355227046447371.0', name='H65', bus_number='355', remark='Тролейбус 355 DNSNTNK', perev_id=6),\n",
       "  TransportVehicle(id=305, imei='355227045594892.0', name='A108', bus_number='1159', remark='1159 DNSNK', perev_id=2),\n",
       "  TransportVehicle(id=306, imei='355227046451506.0', name='H48', bus_number='391', remark='Тролейбус 391 DNSNTNK', perev_id=6),\n",
       "  TransportVehicle(id=307, imei='355227046450987.0', name='H25', bus_number='0866', remark='0866 DNSNTNK', perev_id=1),\n",
       "  TransportVehicle(id=308, imei='355228043198843.0', name='H100', bus_number='9752', remark='9752 DNSNTNK', perev_id=12),\n",
       "  TransportVehicle(id=309, imei='355227046314068.0', name='A185', bus_number='388', remark='Тролейбус 388 DNSNK', perev_id=6),\n",
       "  TransportVehicle(id=310, imei='355227045513553.0', name='A60', bus_number='3459', remark='3459 DNSNK', perev_id=7),\n",
       "  TransportVehicle(id=311, imei='355227045540770.0', name='A90', bus_number='9046', remark='9046 DNSNK', perev_id=2),\n",
       "  TransportVehicle(id=312, imei='355227045539731.0', name='Am87', bus_number='1023', remark='1023 DNSNK', perev_id=2),\n",
       "  TransportVehicle(id=313, imei='355227046450953.0', name='H26', bus_number='0443', remark='0443 DNSNTNK', perev_id=2),\n",
       "  TransportVehicle(id=314, imei='355227046451050.0', name='H28', bus_number='0325', remark='0325 DNSNTNK', perev_id=2),\n",
       "  TransportVehicle(id=315, imei='355227045533718.0', name='A79', bus_number='9034', remark='9034 DNSNK', perev_id=1),\n",
       "  TransportVehicle(id=316, imei='355227046451266.0', name='H53', bus_number='2011', remark='Тролейбус 2011 DNSNTNK', perev_id=6),\n",
       "  TransportVehicle(id=317, imei='355227045540234.0', name='A77', bus_number='0688 паз', remark='0688 DNSNK', perev_id=1),\n",
       "  TransportVehicle(id=318, imei='355228043199049.0', name='H106', bus_number='0964', remark='0964 DNSNTNK', perev_id=1),\n",
       "  TransportVehicle(id=319, imei='355227046450995.0', name='H29', bus_number='365', remark='Тролейбус 365 DNSNTNK', perev_id=6),\n",
       "  TransportVehicle(id=320, imei='355227045541208.0', name='A101', bus_number='6652', remark='6652 DNSNK', perev_id=1),\n",
       "  TransportVehicle(id=321, imei='355228043199080.0', name='H103', bus_number='8716', remark='8716 DNSNTNK', perev_id=12),\n",
       "  TransportVehicle(id=322, imei='355227046313847.0', name='A184', bus_number='387', remark=' тролейбус 387 DNSNK', perev_id=6),\n",
       "  TransportVehicle(id=323, imei='355227046451027.0', name='H24', bus_number='0738', remark='0738 DNSNTNK', perev_id=1),\n",
       "  TransportVehicle(id=324, imei='355227045600178.0', name='A121', bus_number='384', remark='Тролейбус 384 DNSNK', perev_id=6),\n",
       "  TransportVehicle(id=325, imei='355227045540176.0', name='A83', bus_number='5150', remark=' 5150 DNS', perev_id=7),\n",
       "  TransportVehicle(id=326, imei='355227045594934.0', name='A112', bus_number='1116', remark='1116 DNSNK', perev_id=1),\n",
       "  TransportVehicle(id=327, imei='355227046450896.0', name='H18', bus_number='1025', remark='1025 DNSNTNK', perev_id=1),\n",
       "  TransportVehicle(id=328, imei='355228043022480.0', name='H93', bus_number='8714', remark='8714 DNSNTNK', perev_id=12),\n",
       "  TransportVehicle(id=329, imei='355227046451449.0', name='H46', bus_number='397', remark='Тролейбус 397 DNSNTNK', perev_id=6),\n",
       "  TransportVehicle(id=330, imei='355228043162195.0', name='H108', bus_number='0896', remark='0896 DNSNTNK', perev_id=1),\n",
       "  TransportVehicle(id=331, imei='355227045598570.0', name='А107', bus_number='1125', remark='1125 DNSNK', perev_id=2),\n",
       "  TransportVehicle(id=332, imei='355227046451019.0', name='H30', bus_number='275', remark='Тролейбус 275 DNSNTNK', perev_id=6),\n",
       "  TransportVehicle(id=333, imei='355227045540192.0', name='A91', bus_number='7762', remark='7762 DNSNK', perev_id=1),\n",
       "  TransportVehicle(id=334, imei='355228043198686.0', name='H97', bus_number='7722', remark='7722 DNSNTNK', perev_id=12),\n",
       "  TransportVehicle(id=335, imei='355227045541638.0', name='A96', bus_number='2818', remark='2818 DNSNK', perev_id=1),\n",
       "  TransportVehicle(id=336, imei='355227045540127.0', name='A99', bus_number='0042', remark='0042 DNSNK', perev_id=1),\n",
       "  TransportVehicle(id=337, imei='355227046451167.0', name='H13', bus_number='9408', remark='9408 DNSNTNK', perev_id=1),\n",
       "  TransportVehicle(id=338, imei='355228043199098.0', name='H102', bus_number='1098', remark='1098 DNSNTNK', perev_id=12),\n",
       "  TransportVehicle(id=339, imei='355227045540572.0', name='A67', bus_number='4238', remark='4238 DNSNK', perev_id=1),\n",
       "  TransportVehicle(id=340, imei='355228042084192.0', name='A204', bus_number='0901', remark='0901 DNSNK', perev_id=1),\n",
       "  TransportVehicle(id=341, imei='355227046490926.0', name='A198', bus_number='0985', remark='0985 DNSNK', perev_id=1),\n",
       "  TransportVehicle(id=342, imei='355227045526902.0', name='A85', bus_number='0528', remark='0528 DNSNK ', perev_id=7),\n",
       "  TransportVehicle(id=343, imei='355227045600582.0', name='A146', bus_number='385', remark='Тролейбус 385 DNSNK', perev_id=6),\n",
       "  TransportVehicle(id=344, imei='355227045369873.0', name='A10', bus_number='7237', remark='7237 DNSNK', perev_id=1),\n",
       "  TransportVehicle(id=345, imei='355227046451043.0', name='H23', bus_number='1172', remark='1172 DNSNTNK', perev_id=1),\n",
       "  TransportVehicle(id=346, imei='355227046638797.0', name='A217', bus_number='9001', remark='9001 DNSNK', perev_id=7),\n",
       "  TransportVehicle(id=347, imei='355228043199106.0', name='H104', bus_number='1031', remark='1031 DNSNTNK', perev_id=12),\n",
       "  TransportVehicle(id=348, imei='355227046507778.0', name='A202', bus_number='5785', remark='5785 DNSNK', perev_id=1),\n",
       "  TransportVehicle(id=349, imei='355227046453403.0', name='H6', bus_number='0984', remark='0984 DNSNTNK', perev_id=1),\n",
       "  TransportVehicle(id=350, imei='355228042956811.0', name='H95', bus_number='1097', remark='1097 DNSNTNK', perev_id=12),\n",
       "  TransportVehicle(id=351, imei='355227045601002.0', name='A123', bus_number='!!!', remark='!!! DNSNK', perev_id=7),\n",
       "  TransportVehicle(id=352, imei='355228043022449.0', name='H94', bus_number='1099', remark='1099 DNSNTNK', perev_id=12),\n",
       "  TransportVehicle(id=353, imei='355227046451688.0', name='H89', bus_number='0050', remark='7761 DNSNTNK', perev_id=2),\n",
       "  TransportVehicle(id=354, imei='355227046451589.0', name='H4', bus_number='0987', remark='0987 DNSNTNK', perev_id=1),\n",
       "  TransportVehicle(id=355, imei='355228043198777.0', name='H96', bus_number='8361', remark='8361 DNSNTNK', perev_id=12),\n",
       "  TransportVehicle(id=356, imei='355227045539541.0', name='A82', bus_number='6001', remark='6001 DNSNK', perev_id=7),\n",
       "  TransportVehicle(id=357, imei='355227046579017.0', name='A194', bus_number='1113', remark='1113 DNSNK', perev_id=2),\n",
       "  TransportVehicle(id=358, imei='355228042058154.0', name='A219', bus_number='5627', remark=' 5627 DNSNK', perev_id=1),\n",
       "  TransportVehicle(id=359, imei='355227045600855.0', name='A142', bus_number='377', remark='Тролейбус 377 DNSNK', perev_id=6),\n",
       "  TransportVehicle(id=360, imei='355227046450904.0', name='H11', bus_number='6159', remark='6159 DNSNTNK', perev_id=1),\n",
       "  TransportVehicle(id=361, imei='355228043199130.0', name='H105', bus_number='0128', remark='0128 DNSNTNK', perev_id=12),\n",
       "  TransportVehicle(id=362, imei='355227046451662.0', name='H76', bus_number='350', remark='Тролейбус 350 DNSNTNK', perev_id=6),\n",
       "  TransportVehicle(id=363, imei='355227045600319.0', name='A157', bus_number='289', remark='Тролейбус 289 DNSNK', perev_id=6),\n",
       "  TransportVehicle(id=364, imei='355227045594918.0', name='A106', bus_number='5483', remark='5483 DNSNK', perev_id=7),\n",
       "  TransportVehicle(id=365, imei='355227046451308.0', name='A227', bus_number='0335', remark='0335  DNSNTNK', perev_id=15),\n",
       "  TransportVehicle(id=366, imei='355227046451548', name='H19', bus_number='0332', remark='0332 DNSNTNK', perev_id=1),\n",
       "  TransportVehicle(id=367, imei='355227045541273', name='A63', bus_number='0382', remark='0382 DNSNK', perev_id=1),\n",
       "  TransportVehicle(id=368, imei='355227045514726', name='A98', bus_number='1047', remark='1047 DNSNK', perev_id=1),\n",
       "  TransportVehicle(id=369, imei='355227046451183', name='H14', bus_number='7248', remark='7248 DNSNTNK', perev_id=1)}}"
      ]
     },
     "execution_count": 28,
     "metadata": {},
     "output_type": "execute_result"
    }
   ],
   "source": [
    "monitor.objects_unique"
   ]
  },
  {
   "cell_type": "code",
   "execution_count": 28,
   "id": "fa3ea182-024a-44f7-a52a-1f2a483d2b7e",
   "metadata": {
    "collapsed": true,
    "jupyter": {
     "outputs_hidden": true
    },
    "tags": []
   },
   "outputs": [
    {
     "data": {
      "text/html": [
       "<div>\n",
       "<style scoped>\n",
       "    .dataframe tbody tr th:only-of-type {\n",
       "        vertical-align: middle;\n",
       "    }\n",
       "\n",
       "    .dataframe tbody tr th {\n",
       "        vertical-align: top;\n",
       "    }\n",
       "\n",
       "    .dataframe thead th {\n",
       "        text-align: right;\n",
       "    }\n",
       "</style>\n",
       "<table border=\"1\" class=\"dataframe\">\n",
       "  <thead>\n",
       "    <tr style=\"text-align: right;\">\n",
       "      <th></th>\n",
       "      <th>id</th>\n",
       "      <th>imei</th>\n",
       "      <th>name</th>\n",
       "      <th>stateCode</th>\n",
       "      <th>stateName</th>\n",
       "      <th>lat</th>\n",
       "      <th>lng</th>\n",
       "      <th>speed</th>\n",
       "      <th>orientation</th>\n",
       "      <th>gpstime</th>\n",
       "      <th>routeId</th>\n",
       "      <th>routeName</th>\n",
       "      <th>routeColour</th>\n",
       "      <th>inDepo</th>\n",
       "      <th>busNumber</th>\n",
       "      <th>perevId</th>\n",
       "      <th>perevName</th>\n",
       "      <th>remark</th>\n",
       "      <th>online</th>\n",
       "      <th>idBusTypes</th>\n",
       "    </tr>\n",
       "  </thead>\n",
       "  <tbody>\n",
       "    <tr>\n",
       "      <th>0</th>\n",
       "      <td>391</td>\n",
       "      <td>355227046453387</td>\n",
       "      <td>H75</td>\n",
       "      <td>used</td>\n",
       "      <td>used</td>\n",
       "      <td>48.325683</td>\n",
       "      <td>25.896533</td>\n",
       "      <td>0.0</td>\n",
       "      <td>122.05</td>\n",
       "      <td>2022-10-01 23:00:57</td>\n",
       "      <td>20</td>\n",
       "      <td>A</td>\n",
       "      <td>navy</td>\n",
       "      <td>False</td>\n",
       "      <td>3627</td>\n",
       "      <td>1</td>\n",
       "      <td>Денисівка</td>\n",
       "      <td>3627 DNSNTNK</td>\n",
       "      <td>True</td>\n",
       "      <td>1</td>\n",
       "    </tr>\n",
       "    <tr>\n",
       "      <th>1</th>\n",
       "      <td>386</td>\n",
       "      <td>355227046451407</td>\n",
       "      <td>H68</td>\n",
       "      <td>used</td>\n",
       "      <td>used</td>\n",
       "      <td>48.265903</td>\n",
       "      <td>25.989537</td>\n",
       "      <td>0.0</td>\n",
       "      <td>0.00</td>\n",
       "      <td>2022-10-01 23:02:19</td>\n",
       "      <td>42</td>\n",
       "      <td>39</td>\n",
       "      <td>coral</td>\n",
       "      <td>True</td>\n",
       "      <td>0855</td>\n",
       "      <td>13</td>\n",
       "      <td>Олег Валентинович 39 марш</td>\n",
       "      <td>0855 DNSNTNK</td>\n",
       "      <td>True</td>\n",
       "      <td>1</td>\n",
       "    </tr>\n",
       "    <tr>\n",
       "      <th>2</th>\n",
       "      <td>342</td>\n",
       "      <td>355227046451027</td>\n",
       "      <td>H24</td>\n",
       "      <td>used</td>\n",
       "      <td>used</td>\n",
       "      <td>48.324682</td>\n",
       "      <td>25.933822</td>\n",
       "      <td>0.0</td>\n",
       "      <td>0.00</td>\n",
       "      <td>2022-10-01 23:02:23</td>\n",
       "      <td>3</td>\n",
       "      <td>12</td>\n",
       "      <td>blue</td>\n",
       "      <td>True</td>\n",
       "      <td>0738</td>\n",
       "      <td>1</td>\n",
       "      <td>Денисівка</td>\n",
       "      <td>0738 DNSNTNK</td>\n",
       "      <td>True</td>\n",
       "      <td>1</td>\n",
       "    </tr>\n",
       "    <tr>\n",
       "      <th>3</th>\n",
       "      <td>294</td>\n",
       "      <td>355228042084283</td>\n",
       "      <td>A207</td>\n",
       "      <td>used</td>\n",
       "      <td>used</td>\n",
       "      <td>48.249142</td>\n",
       "      <td>25.918088</td>\n",
       "      <td>0.0</td>\n",
       "      <td>0.00</td>\n",
       "      <td>2022-10-01 23:03:14</td>\n",
       "      <td>42</td>\n",
       "      <td>39</td>\n",
       "      <td>coral</td>\n",
       "      <td>False</td>\n",
       "      <td>1032</td>\n",
       "      <td>13</td>\n",
       "      <td>Олег Валентинович 39 марш</td>\n",
       "      <td>1032 DNSNK</td>\n",
       "      <td>True</td>\n",
       "      <td>1</td>\n",
       "    </tr>\n",
       "    <tr>\n",
       "      <th>4</th>\n",
       "      <td>165</td>\n",
       "      <td>355227045540176</td>\n",
       "      <td>A83</td>\n",
       "      <td>used</td>\n",
       "      <td>used</td>\n",
       "      <td>48.320132</td>\n",
       "      <td>25.940298</td>\n",
       "      <td>0.0</td>\n",
       "      <td>0.00</td>\n",
       "      <td>2022-10-01 23:03:26</td>\n",
       "      <td>41</td>\n",
       "      <td>10A</td>\n",
       "      <td>black</td>\n",
       "      <td>False</td>\n",
       "      <td>5150</td>\n",
       "      <td>7</td>\n",
       "      <td>Віталій / Олег Бойко</td>\n",
       "      <td>5150 DNS</td>\n",
       "      <td>True</td>\n",
       "      <td>1</td>\n",
       "    </tr>\n",
       "    <tr>\n",
       "      <th>...</th>\n",
       "      <td>...</td>\n",
       "      <td>...</td>\n",
       "      <td>...</td>\n",
       "      <td>...</td>\n",
       "      <td>...</td>\n",
       "      <td>...</td>\n",
       "      <td>...</td>\n",
       "      <td>...</td>\n",
       "      <td>...</td>\n",
       "      <td>...</td>\n",
       "      <td>...</td>\n",
       "      <td>...</td>\n",
       "      <td>...</td>\n",
       "      <td>...</td>\n",
       "      <td>...</td>\n",
       "      <td>...</td>\n",
       "      <td>...</td>\n",
       "      <td>...</td>\n",
       "      <td>...</td>\n",
       "      <td>...</td>\n",
       "    </tr>\n",
       "    <tr>\n",
       "      <th>173374</th>\n",
       "      <td>243</td>\n",
       "      <td>355227045600988</td>\n",
       "      <td>A158</td>\n",
       "      <td>used</td>\n",
       "      <td>used</td>\n",
       "      <td>48.251908</td>\n",
       "      <td>25.938167</td>\n",
       "      <td>11.8</td>\n",
       "      <td>101.45</td>\n",
       "      <td>2022-10-02 22:39:14</td>\n",
       "      <td>33</td>\n",
       "      <td>8T</td>\n",
       "      <td>coral</td>\n",
       "      <td>False</td>\n",
       "      <td>324</td>\n",
       "      <td>6</td>\n",
       "      <td>ЧТУ</td>\n",
       "      <td>Тролейбус 324 DNSNK</td>\n",
       "      <td>True</td>\n",
       "      <td>2</td>\n",
       "    </tr>\n",
       "    <tr>\n",
       "      <th>173375</th>\n",
       "      <td>243</td>\n",
       "      <td>355227045600988</td>\n",
       "      <td>A158</td>\n",
       "      <td>used</td>\n",
       "      <td>used</td>\n",
       "      <td>48.251842</td>\n",
       "      <td>25.938617</td>\n",
       "      <td>10.0</td>\n",
       "      <td>98.09</td>\n",
       "      <td>2022-10-02 22:39:24</td>\n",
       "      <td>33</td>\n",
       "      <td>8T</td>\n",
       "      <td>coral</td>\n",
       "      <td>False</td>\n",
       "      <td>324</td>\n",
       "      <td>6</td>\n",
       "      <td>ЧТУ</td>\n",
       "      <td>Тролейбус 324 DNSNK</td>\n",
       "      <td>True</td>\n",
       "      <td>2</td>\n",
       "    </tr>\n",
       "    <tr>\n",
       "      <th>173376</th>\n",
       "      <td>243</td>\n",
       "      <td>355227045600988</td>\n",
       "      <td>A158</td>\n",
       "      <td>used</td>\n",
       "      <td>used</td>\n",
       "      <td>48.251825</td>\n",
       "      <td>25.939043</td>\n",
       "      <td>11.6</td>\n",
       "      <td>90.99</td>\n",
       "      <td>2022-10-02 22:39:34</td>\n",
       "      <td>33</td>\n",
       "      <td>8T</td>\n",
       "      <td>coral</td>\n",
       "      <td>False</td>\n",
       "      <td>324</td>\n",
       "      <td>6</td>\n",
       "      <td>ЧТУ</td>\n",
       "      <td>Тролейбус 324 DNSNK</td>\n",
       "      <td>True</td>\n",
       "      <td>2</td>\n",
       "    </tr>\n",
       "    <tr>\n",
       "      <th>173378</th>\n",
       "      <td>243</td>\n",
       "      <td>355227045600988</td>\n",
       "      <td>A158</td>\n",
       "      <td>used</td>\n",
       "      <td>used</td>\n",
       "      <td>48.251743</td>\n",
       "      <td>25.939465</td>\n",
       "      <td>10.8</td>\n",
       "      <td>127.16</td>\n",
       "      <td>2022-10-02 22:39:44</td>\n",
       "      <td>33</td>\n",
       "      <td>8T</td>\n",
       "      <td>coral</td>\n",
       "      <td>False</td>\n",
       "      <td>324</td>\n",
       "      <td>6</td>\n",
       "      <td>ЧТУ</td>\n",
       "      <td>Тролейбус 324 DNSNK</td>\n",
       "      <td>True</td>\n",
       "      <td>2</td>\n",
       "    </tr>\n",
       "    <tr>\n",
       "      <th>173379</th>\n",
       "      <td>243</td>\n",
       "      <td>355227045600988</td>\n",
       "      <td>A158</td>\n",
       "      <td>used</td>\n",
       "      <td>used</td>\n",
       "      <td>48.251597</td>\n",
       "      <td>25.940342</td>\n",
       "      <td>0.0</td>\n",
       "      <td>0.00</td>\n",
       "      <td>2022-10-02 22:40:33</td>\n",
       "      <td>33</td>\n",
       "      <td>8T</td>\n",
       "      <td>coral</td>\n",
       "      <td>False</td>\n",
       "      <td>324</td>\n",
       "      <td>6</td>\n",
       "      <td>ЧТУ</td>\n",
       "      <td>Тролейбус 324 DNSNK</td>\n",
       "      <td>True</td>\n",
       "      <td>2</td>\n",
       "    </tr>\n",
       "  </tbody>\n",
       "</table>\n",
       "<p>168116 rows × 20 columns</p>\n",
       "</div>"
      ],
      "text/plain": [
       "         id             imei  name stateCode stateName        lat        lng  \\\n",
       "0       391  355227046453387   H75      used      used  48.325683  25.896533   \n",
       "1       386  355227046451407   H68      used      used  48.265903  25.989537   \n",
       "2       342  355227046451027   H24      used      used  48.324682  25.933822   \n",
       "3       294  355228042084283  A207      used      used  48.249142  25.918088   \n",
       "4       165  355227045540176   A83      used      used  48.320132  25.940298   \n",
       "...     ...              ...   ...       ...       ...        ...        ...   \n",
       "173374  243  355227045600988  A158      used      used  48.251908  25.938167   \n",
       "173375  243  355227045600988  A158      used      used  48.251842  25.938617   \n",
       "173376  243  355227045600988  A158      used      used  48.251825  25.939043   \n",
       "173378  243  355227045600988  A158      used      used  48.251743  25.939465   \n",
       "173379  243  355227045600988  A158      used      used  48.251597  25.940342   \n",
       "\n",
       "        speed  orientation              gpstime  routeId routeName  \\\n",
       "0         0.0       122.05  2022-10-01 23:00:57       20         A   \n",
       "1         0.0         0.00  2022-10-01 23:02:19       42        39   \n",
       "2         0.0         0.00  2022-10-01 23:02:23        3        12   \n",
       "3         0.0         0.00  2022-10-01 23:03:14       42        39   \n",
       "4         0.0         0.00  2022-10-01 23:03:26       41       10A   \n",
       "...       ...          ...                  ...      ...       ...   \n",
       "173374   11.8       101.45  2022-10-02 22:39:14       33        8T   \n",
       "173375   10.0        98.09  2022-10-02 22:39:24       33        8T   \n",
       "173376   11.6        90.99  2022-10-02 22:39:34       33        8T   \n",
       "173378   10.8       127.16  2022-10-02 22:39:44       33        8T   \n",
       "173379    0.0         0.00  2022-10-02 22:40:33       33        8T   \n",
       "\n",
       "       routeColour  inDepo busNumber  perevId                  perevName  \\\n",
       "0             navy   False      3627        1                  Денисівка   \n",
       "1            coral    True      0855       13  Олег Валентинович 39 марш   \n",
       "2             blue    True      0738        1                  Денисівка   \n",
       "3            coral   False      1032       13  Олег Валентинович 39 марш   \n",
       "4            black   False      5150        7      Віталій / Олег Бойко    \n",
       "...            ...     ...       ...      ...                        ...   \n",
       "173374       coral   False       324        6                        ЧТУ   \n",
       "173375       coral   False       324        6                        ЧТУ   \n",
       "173376       coral   False       324        6                        ЧТУ   \n",
       "173378       coral   False       324        6                        ЧТУ   \n",
       "173379       coral   False       324        6                        ЧТУ   \n",
       "\n",
       "                     remark  online  idBusTypes  \n",
       "0              3627 DNSNTNK    True           1  \n",
       "1              0855 DNSNTNK    True           1  \n",
       "2              0738 DNSNTNK    True           1  \n",
       "3                1032 DNSNK    True           1  \n",
       "4                  5150 DNS    True           1  \n",
       "...                     ...     ...         ...  \n",
       "173374  Тролейбус 324 DNSNK    True           2  \n",
       "173375  Тролейбус 324 DNSNK    True           2  \n",
       "173376  Тролейбус 324 DNSNK    True           2  \n",
       "173378  Тролейбус 324 DNSNK    True           2  \n",
       "173379  Тролейбус 324 DNSNK    True           2  \n",
       "\n",
       "[168116 rows x 20 columns]"
      ]
     },
     "execution_count": 28,
     "metadata": {},
     "output_type": "execute_result"
    }
   ],
   "source": [
    "\n",
    "clmns = list(df_sum.columns)\n",
    "clmns.remove('gpstime')\n",
    "# df_sum[df_sum['imei'] == 355227045540176][clmns]\n",
    "df_sum.drop_duplicates(clmns)\n",
    "\n",
    "# cols = [\"routeId\", 'routeName', 'routeColour']\n",
    "# route_list = [TransportRoute.from_response_row(row) for row in df_sum[cols].drop_duplicates().to_dict('records')]"
   ]
  },
  {
   "cell_type": "code",
   "execution_count": 45,
   "id": "5a35be29-14bb-4067-b02d-a72ac6ce2b18",
   "metadata": {
    "collapsed": true,
    "jupyter": {
     "outputs_hidden": true
    },
    "tags": []
   },
   "outputs": [
    {
     "data": {
      "text/plain": [
       "{TransportVehicle(id=100, imei='355227045600830', name='A178', bus_number='310', remark='Тролейбус 310 DNSNK', perev_id=6): 230,\n",
       " TransportVehicle(id=101, imei='355227046451662', name='H76', bus_number='350', remark='Тролейбус 350 DNSNTNK', perev_id=6): 101,\n",
       " TransportVehicle(id=102, imei='355227045369527', name='A6', bus_number='3557', remark='3557 DNSNK ', perev_id=12): 232,\n",
       " TransportVehicle(id=103, imei='355227045540176', name='A83', bus_number='5150', remark=' 5150 DNS', perev_id=7): 229,\n",
       " TransportVehicle(id=104, imei='355227046453387', name='H75', bus_number='3627', remark='3627 DNSNTNK', perev_id=1): 227,\n",
       " TransportVehicle(id=105, imei='355228042084283', name='A207', bus_number='1032', remark='1032 DNSNK', perev_id=13): 236,\n",
       " TransportVehicle(id=106, imei='355227045371655', name='A1', bus_number='6513', remark='6513 DNSNK', perev_id=7): 106,\n",
       " TransportVehicle(id=107, imei='355227046451407', name='H68', bus_number='0855', remark='0855 DNSNTNK', perev_id=13): 107,\n",
       " TransportVehicle(id=108, imei='355227046578332', name='A189', bus_number='6518', remark='6518 DNSNK ', perev_id=7): 226,\n",
       " TransportVehicle(id=109, imei='355228043199379', name='H99', bus_number='1176', remark='1176 DNSNTNK', perev_id=12): 233,\n",
       " TransportVehicle(id=110, imei='355227046504098', name='A195', bus_number='0854', remark='0854 DNSNK', perev_id=13): 110,\n",
       " TransportVehicle(id=111, imei='355227046451027', name='H24', bus_number='0738', remark='0738 DNSNTNK', perev_id=1): 111,\n",
       " TransportVehicle(id=112, imei='355228042058154', name='A219', bus_number='5627', remark=' 5627 DNSNK', perev_id=1): 112,\n",
       " TransportVehicle(id=113, imei='355227046451357', name='H51', bus_number='356', remark='Тролейбус 356 DNSNTNK', perev_id=6): 113,\n",
       " TransportVehicle(id=114, imei='355227045539228', name='Am66', bus_number='1065', remark='1065 DNSNK', perev_id=2): 114,\n",
       " TransportVehicle(id=115, imei='355227046450987', name='H25', bus_number='0866', remark='0866 DNSNTNK', perev_id=1): 115,\n",
       " TransportVehicle(id=116, imei='355227046451589', name='H4', bus_number='0987', remark='0987 DNSNTNK', perev_id=1): 116,\n",
       " TransportVehicle(id=117, imei='355227045540192', name='A91', bus_number='7762', remark='7762 DNSNK', perev_id=1): 117,\n",
       " TransportVehicle(id=118, imei='355227046638821', name='A211', bus_number='1181', remark='1181 DNSNK', perev_id=13): 118,\n",
       " TransportVehicle(id=119, imei='355227045600319', name='A157', bus_number='289', remark='Тролейбус 289 DNSNK', perev_id=6): 119,\n",
       " TransportVehicle(id=120, imei='355227046451415', name='H47', bus_number='398', remark='Тролейбус 398 DNSNTNK', perev_id=6): 120,\n",
       " TransportVehicle(id=121, imei='355227046450961', name='H21', bus_number='2058', remark='2058 DNSNTNK', perev_id=1): 121,\n",
       " TransportVehicle(id=122, imei='355227046450920', name='H62', bus_number='255', remark='Тролейбус 255 DNSNTNK', perev_id=6): 234,\n",
       " TransportVehicle(id=123, imei='355227045541257', name='A57', bus_number='9043', remark='9043 DNSNK', perev_id=2): 123,\n",
       " TransportVehicle(id=124, imei='355227046451530', name='H17', bus_number='1147', remark='1147 DNSNTNK', perev_id=1): 124,\n",
       " TransportVehicle(id=125, imei='355227046450953', name='H26', bus_number='0443', remark='0443 DNSNTNK', perev_id=2): 125,\n",
       " TransportVehicle(id=126, imei='355227045539517', name='A100', bus_number='1173', remark='1173 DNSNK', perev_id=1): 126,\n",
       " TransportVehicle(id=127, imei='355227045541638', name='A96', bus_number='2818', remark='2818 DNSNK', perev_id=1): 127,\n",
       " TransportVehicle(id=128, imei='355227045600178', name='A121', bus_number='384', remark='Тролейбус 384 DNSNK', perev_id=6): 128,\n",
       " TransportVehicle(id=129, imei='355227046450946', name='H61', bus_number='364', remark='Тролейбус 364 DNSNTNK', perev_id=6): 129,\n",
       " TransportVehicle(id=130, imei='355227045600996', name='A168', bus_number='381', remark='Тролейбус 381 DNSNK', perev_id=6): 130,\n",
       " TransportVehicle(id=131, imei='355228043199098', name='H102', bus_number='1098', remark='1098 DNSNTNK', perev_id=12): 131,\n",
       " TransportVehicle(id=132, imei='355227045540770', name='A90', bus_number='9046', remark='9046 DNSNK', perev_id=2): 132,\n",
       " TransportVehicle(id=133, imei='355227046451043', name='H23', bus_number='1172', remark='1172 DNSNTNK', perev_id=1): 133,\n",
       " TransportVehicle(id=134, imei='355227046283032', name='A208', bus_number='0937', remark='0937 DNSNK', perev_id=13): 134,\n",
       " TransportVehicle(id=135, imei='355227046505244', name='A188', bus_number='5447', remark='5447 DNSNK', perev_id=1): 135,\n",
       " TransportVehicle(id=136, imei='355227046299129', name='A186', bus_number='389', remark='Тролейбус 389 DNSNK', perev_id=6): 136,\n",
       " TransportVehicle(id=137, imei='355227046451019', name='H30', bus_number='275', remark='Тролейбус 275 DNSNTNK', perev_id=6): 137,\n",
       " TransportVehicle(id=138, imei='355227045594892', name='A108', bus_number='1159', remark='1159 DNSNK', perev_id=2): 138,\n",
       " TransportVehicle(id=139, imei='355227046314068', name='A185', bus_number='388', remark='Тролейбус 388 DNSNK', perev_id=6): 139,\n",
       " TransportVehicle(id=140, imei='355227046450904', name='H11', bus_number='6159', remark='6159 DNSNTNK', perev_id=1): 140,\n",
       " TransportVehicle(id=141, imei='355227045600988', name='A158', bus_number='324', remark='Тролейбус 324 DNSNK', perev_id=6): 231,\n",
       " TransportVehicle(id=142, imei='355227046313847', name='A184', bus_number='387', remark=' тролейбус 387 DNSNK', perev_id=6): 142,\n",
       " TransportVehicle(id=143, imei='355228043198777', name='H96', bus_number='8361', remark='8361 DNSNTNK', perev_id=12): 143,\n",
       " TransportVehicle(id=144, imei='355227044854750', name='A22', bus_number='7665', remark='7665 DNSNK', perev_id=1): 144,\n",
       " TransportVehicle(id=145, imei='355227046450805', name='H63', bus_number='375', remark='Тролейбус 375 DNSNTNK', perev_id=6): 145,\n",
       " TransportVehicle(id=146, imei='355227046451480', name='H41', bus_number='399', remark='Тролейбус 399 DNSNTNK', perev_id=6): 146,\n",
       " TransportVehicle(id=147, imei='355228043162195', name='H108', bus_number='0896', remark='0896 DNSNTNK', perev_id=1): 147,\n",
       " TransportVehicle(id=148, imei='355227045594934', name='A112', bus_number='1116', remark='1116 DNSNK', perev_id=1): 148,\n",
       " TransportVehicle(id=149, imei='355227045600103', name='A130', bus_number='1632', remark='1632 DNSNK', perev_id=1): 149,\n",
       " TransportVehicle(id=150, imei='355227045540572', name='A67', bus_number='4238', remark='4238 DNSNK', perev_id=1): 150,\n",
       " TransportVehicle(id=151, imei='355227045600871', name='A134', bus_number='318', remark='Тролейбус 318 DNS', perev_id=6): 151,\n",
       " TransportVehicle(id=152, imei='355228043199049', name='H106', bus_number='0964', remark='0964 DNSNTNK', perev_id=1): 152,\n",
       " TransportVehicle(id=153, imei='355228043199130', name='H105', bus_number='0128', remark='0128 DNSNTNK', perev_id=12): 153,\n",
       " TransportVehicle(id=154, imei='355227046451266', name='H53', bus_number='2011', remark='Тролейбус 2011 DNSNTNK', perev_id=6): 228,\n",
       " TransportVehicle(id=155, imei='355227046450995', name='H29', bus_number='365', remark='Тролейбус 365 DNSNTNK', perev_id=6): 155,\n",
       " TransportVehicle(id=156, imei='355227045600202', name='A144', bus_number='2012', remark='Тролейбус 2012 DNSNK', perev_id=6): 156,\n",
       " TransportVehicle(id=157, imei='355228042084192', name='A204', bus_number='0901', remark='0901 DNSNK', perev_id=1): 157,\n",
       " TransportVehicle(id=158, imei='355227045539731', name='Am87', bus_number='1023', remark='1023 DNSNK', perev_id=2): 158,\n",
       " TransportVehicle(id=159, imei='355227046451167', name='H13', bus_number='9408', remark='9408 DNSNTNK', perev_id=1): 159,\n",
       " TransportVehicle(id=160, imei='355228043199106', name='H104', bus_number='1031', remark='1031 DNSNTNK', perev_id=12): 160,\n",
       " TransportVehicle(id=161, imei='355227046451449', name='H46', bus_number='397', remark='Тролейбус 397 DNSNTNK', perev_id=6): 161,\n",
       " TransportVehicle(id=162, imei='355227045370699', name='A11', bus_number='2079', remark='2079 DNSNK', perev_id=2): 162,\n",
       " TransportVehicle(id=163, imei='355227046451035', name='H22', bus_number='8276', remark='8276 DNSNTNK', perev_id=1): 163,\n",
       " TransportVehicle(id=164, imei='355227045513553', name='A60', bus_number='3459', remark='3459 DNSNK', perev_id=7): 164,\n",
       " TransportVehicle(id=165, imei='355227046451332', name='A225', bus_number='7763', remark='7763 DNSNTNK', perev_id=1): 165,\n",
       " TransportVehicle(id=166, imei='355228042956811', name='H95', bus_number='1097', remark='1097 DNSNTNK', perev_id=12): 166,\n",
       " TransportVehicle(id=167, imei='355227046451399', name='H50', bus_number='393', remark='Тролейбус 393 DNSNTNK', perev_id=6): 167,\n",
       " TransportVehicle(id=168, imei='355227045601259', name='A133', bus_number='358', remark='Тролейбус 358 DNSNK', perev_id=6): 168,\n",
       " TransportVehicle(id=169, imei='355227046451464', name='H86', bus_number='7684', remark='7684 DNSNTNK', perev_id=1): 169,\n",
       " TransportVehicle(id=170, imei='355227046630729', name='A214', bus_number='1182', remark='1182 DNSNK', perev_id=13): 170,\n",
       " TransportVehicle(id=171, imei='355227046453403', name='H6', bus_number='0984', remark='0984 DNSNTNK', perev_id=1): 171,\n",
       " TransportVehicle(id=172, imei='355227045533718', name='A79', bus_number='9034', remark='9034 DNSNK', perev_id=1): 172,\n",
       " TransportVehicle(id=173, imei='355227045540127', name='A99', bus_number='0042', remark='0042 DNSNK', perev_id=1): 173,\n",
       " TransportVehicle(id=174, imei='355228043198843', name='H100', bus_number='9752', remark='9752 DNSNTNK', perev_id=12): 174,\n",
       " TransportVehicle(id=175, imei='355228043022480', name='H93', bus_number='8714', remark='8714 DNSNTNK', perev_id=12): 175,\n",
       " TransportVehicle(id=176, imei='355227045594918', name='A106', bus_number='5483', remark='5483 DNSNK', perev_id=7): 176,\n",
       " TransportVehicle(id=177, imei='355227045526902', name='A85', bus_number='0528', remark='0528 DNSNK ', perev_id=7): 177,\n",
       " TransportVehicle(id=178, imei='355227045539921', name='A64', bus_number='5952', remark='5952 DNS', perev_id=7): 178,\n",
       " TransportVehicle(id=179, imei='355228043022449', name='H94', bus_number='1099', remark='1099 DNSNTNK', perev_id=12): 179,\n",
       " TransportVehicle(id=180, imei='355227046451274', name='H37', bus_number='361', remark='Тролейбус 361 DNSNTNK', perev_id=6): 180,\n",
       " TransportVehicle(id=181, imei='355227045369873', name='A10', bus_number='7237', remark='7237 DNSNK', perev_id=1): 181,\n",
       " TransportVehicle(id=182, imei='355227045600582', name='A146', bus_number='385', remark='Тролейбус 385 DNSNK', perev_id=6): 182,\n",
       " TransportVehicle(id=183, imei='355228043198686', name='H97', bus_number='7722', remark='7722 DNSNTNK', perev_id=12): 183,\n",
       " TransportVehicle(id=184, imei='355227045539541', name='A82', bus_number='6001', remark='6001 DNSNK', perev_id=7): 184,\n",
       " TransportVehicle(id=185, imei='355227046507778', name='A202', bus_number='5785', remark='5785 DNSNK', perev_id=1): 185,\n",
       " TransportVehicle(id=186, imei='355227045601002', name='A123', bus_number='!!!', remark='!!! DNSNK', perev_id=7): 186,\n",
       " TransportVehicle(id=187, imei='355227045598570', name='А107', bus_number='1125', remark='1125 DNSNK', perev_id=2): 187,\n",
       " TransportVehicle(id=188, imei='355228043199080', name='H103', bus_number='8716', remark='8716 DNSNTNK', perev_id=12): 188,\n",
       " TransportVehicle(id=189, imei='355227046451472', name='H49', bus_number='394', remark='Тролейбус 394 DNSNTNK', perev_id=6): 189,\n",
       " TransportVehicle(id=190, imei='355227046453452', name='H9', bus_number='6802', remark='6802 DNSNTNK', perev_id=1): 190,\n",
       " TransportVehicle(id=191, imei='355227046451290', name='H36', bus_number='282', remark='Тролейбус 282 DNSNTNK', perev_id=6): 191,\n",
       " TransportVehicle(id=192, imei='355227046490926', name='A198', bus_number='0985', remark='0985 DNSNK', perev_id=1): 192,\n",
       " TransportVehicle(id=193, imei='355227045541257', name='A57', bus_number='9043', remark='0325 DNSNK', perev_id=2): 193,\n",
       " TransportVehicle(id=194, imei='355227044854818', name='A17', bus_number='0741', remark='0741 DNSNK', perev_id=2): 194,\n",
       " TransportVehicle(id=195, imei='355228043162351', name='H107', bus_number='9138', remark='9138 DNSNTNK', perev_id=12): 195,\n",
       " TransportVehicle(id=196, imei='355227046447371', name='H65', bus_number='355', remark='Тролейбус 355 DNSNTNK', perev_id=6): 224,\n",
       " TransportVehicle(id=197, imei='355227045600855', name='A142', bus_number='377', remark='Тролейбус 377 DNSNK', perev_id=6): 235,\n",
       " TransportVehicle(id=198, imei='355227045539491', name='Am86', bus_number='1027', remark='1027 DNSNK', perev_id=2): 198,\n",
       " TransportVehicle(id=200, imei='355227045538972', name='A52', bus_number='5039', remark=' 5039 DNS', perev_id=7): 200,\n",
       " TransportVehicle(id=201, imei='355227045540036', name='A92', bus_number='0986', remark='0986 DNSNK', perev_id=1): 201,\n",
       " TransportVehicle(id=202, imei='355228043022449', name='H94', bus_number='0042', remark='0042 DNSNTNK', perev_id=1): 202,\n",
       " TransportVehicle(id=203, imei='355227046451555', name='H71', bus_number='1124', remark='1124 DNSNTNK', perev_id=1): 203,\n",
       " TransportVehicle(id=204, imei='355228043233913', name='H110', bus_number='CE1047EI', remark='1047Og DNSNTNK', perev_id=5): 204,\n",
       " TransportVehicle(id=205, imei='355228043023082', name='H90', bus_number='!!!1', remark='!!!1 DNSNT', perev_id=7): 205,\n",
       " TransportVehicle(id=206, imei='355228043234077', name='H112', bus_number='1024', remark='1024 DNSNTNK', perev_id=1): 206,\n",
       " TransportVehicle(id=207, imei='355227046451308', name='A227', bus_number='0335', remark='0335  DNSNTNK', perev_id=15): 207,\n",
       " TransportVehicle(id=208, imei='355228043234036', name='H111', bus_number='CE6829EI', remark='6829 Og DNSNTNK', perev_id=5): 208,\n",
       " TransportVehicle(id=209, imei='355228043233921', name='H114', bus_number='0047', remark='0047 DNSNTNK', perev_id=1): 209,\n",
       " TransportVehicle(id=210, imei='355227046451563', name='H72', bus_number='0903', remark='0903 DNSNTNK', perev_id=1): 210,\n",
       " TransportVehicle(id=211, imei='355227046579017', name='A194', bus_number='1113', remark='1113 DNSNK', perev_id=2): 211,\n",
       " TransportVehicle(id=212, imei='355227046507810', name='A199', bus_number='0359', remark='0359 DNSNK', perev_id=13): 212,\n",
       " TransportVehicle(id=213, imei='355227045541208', name='A101', bus_number='6652', remark='6652 DNSNK', perev_id=1): 213,\n",
       " TransportVehicle(id=214, imei='355228043233822', name='H109', bus_number='0148', remark='0148 DNSNTNK', perev_id=2): 214,\n",
       " TransportVehicle(id=215, imei='355227046503686', name='A200', bus_number='3560', remark='3560 DNSNK', perev_id=7): 215,\n",
       " TransportVehicle(id=223, imei='355227046451407', name='H68', bus_number='855', remark='0855 DNSNTNK', perev_id=13): 225}"
      ]
     },
     "execution_count": 45,
     "metadata": {},
     "output_type": "execute_result"
    }
   ],
   "source": [
    "# monitor.vehicle_to_id\n",
    "# TransportVehicle(id=154, imei='355227046451266', name='H53', bus_number='2011', remark='Тролейбус 2011 DNSNTNK', perev_id=6): 228,\n",
    "# TransportVehicle(id=Non, imei='355227046451266', name='H53', bus_number=2011, remark='Тролейбус 2011 DNSNTNK', perev_id=6)"
   ]
  },
  {
   "cell_type": "code",
   "execution_count": 52,
   "id": "29a97c1b-49ba-4432-a5a7-9e27ab712cb5",
   "metadata": {
    "collapsed": true,
    "jupyter": {
     "outputs_hidden": true
    },
    "tags": []
   },
   "outputs": [
    {
     "data": {
      "text/plain": [
       "{TransportVehicle(id=100, imei='355227045600830', name='A178', bus_number='310', remark='Тролейбус 310 DNSNK', perev_id=6),\n",
       " TransportVehicle(id=101, imei='355227046451662', name='H76', bus_number='350', remark='Тролейбус 350 DNSNTNK', perev_id=6),\n",
       " TransportVehicle(id=102, imei='355227045369527', name='A6', bus_number='3557', remark='3557 DNSNK ', perev_id=12),\n",
       " TransportVehicle(id=103, imei='355227045540176', name='A83', bus_number='5150', remark=' 5150 DNS', perev_id=7),\n",
       " TransportVehicle(id=104, imei='355227046453387', name='H75', bus_number='3627', remark='3627 DNSNTNK', perev_id=1),\n",
       " TransportVehicle(id=105, imei='355228042084283', name='A207', bus_number='1032', remark='1032 DNSNK', perev_id=13),\n",
       " TransportVehicle(id=106, imei='355227045371655', name='A1', bus_number='6513', remark='6513 DNSNK', perev_id=7),\n",
       " TransportVehicle(id=107, imei='355227046451407', name='H68', bus_number='0855', remark='0855 DNSNTNK', perev_id=13),\n",
       " TransportVehicle(id=108, imei='355227046578332', name='A189', bus_number='6518', remark='6518 DNSNK ', perev_id=7),\n",
       " TransportVehicle(id=109, imei='355228043199379', name='H99', bus_number='1176', remark='1176 DNSNTNK', perev_id=12),\n",
       " TransportVehicle(id=110, imei='355227046504098', name='A195', bus_number='0854', remark='0854 DNSNK', perev_id=13),\n",
       " TransportVehicle(id=111, imei='355227046451027', name='H24', bus_number='0738', remark='0738 DNSNTNK', perev_id=1),\n",
       " TransportVehicle(id=112, imei='355228042058154', name='A219', bus_number='5627', remark=' 5627 DNSNK', perev_id=1),\n",
       " TransportVehicle(id=113, imei='355227046451357', name='H51', bus_number='356', remark='Тролейбус 356 DNSNTNK', perev_id=6),\n",
       " TransportVehicle(id=114, imei='355227045539228', name='Am66', bus_number='1065', remark='1065 DNSNK', perev_id=2),\n",
       " TransportVehicle(id=115, imei='355227046450987', name='H25', bus_number='0866', remark='0866 DNSNTNK', perev_id=1),\n",
       " TransportVehicle(id=116, imei='355227046451589', name='H4', bus_number='0987', remark='0987 DNSNTNK', perev_id=1),\n",
       " TransportVehicle(id=117, imei='355227045540192', name='A91', bus_number='7762', remark='7762 DNSNK', perev_id=1),\n",
       " TransportVehicle(id=118, imei='355227046638821', name='A211', bus_number='1181', remark='1181 DNSNK', perev_id=13),\n",
       " TransportVehicle(id=119, imei='355227045600319', name='A157', bus_number='289', remark='Тролейбус 289 DNSNK', perev_id=6),\n",
       " TransportVehicle(id=120, imei='355227046451415', name='H47', bus_number='398', remark='Тролейбус 398 DNSNTNK', perev_id=6),\n",
       " TransportVehicle(id=121, imei='355227046450961', name='H21', bus_number='2058', remark='2058 DNSNTNK', perev_id=1),\n",
       " TransportVehicle(id=122, imei='355227046450920', name='H62', bus_number='255', remark='Тролейбус 255 DNSNTNK', perev_id=6),\n",
       " TransportVehicle(id=123, imei='355227045541257', name='A57', bus_number='9043', remark='9043 DNSNK', perev_id=2),\n",
       " TransportVehicle(id=124, imei='355227046451530', name='H17', bus_number='1147', remark='1147 DNSNTNK', perev_id=1),\n",
       " TransportVehicle(id=125, imei='355227046450953', name='H26', bus_number='0443', remark='0443 DNSNTNK', perev_id=2),\n",
       " TransportVehicle(id=126, imei='355227045539517', name='A100', bus_number='1173', remark='1173 DNSNK', perev_id=1),\n",
       " TransportVehicle(id=127, imei='355227045541638', name='A96', bus_number='2818', remark='2818 DNSNK', perev_id=1),\n",
       " TransportVehicle(id=128, imei='355227045600178', name='A121', bus_number='384', remark='Тролейбус 384 DNSNK', perev_id=6),\n",
       " TransportVehicle(id=129, imei='355227046450946', name='H61', bus_number='364', remark='Тролейбус 364 DNSNTNK', perev_id=6),\n",
       " TransportVehicle(id=130, imei='355227045600996', name='A168', bus_number='381', remark='Тролейбус 381 DNSNK', perev_id=6),\n",
       " TransportVehicle(id=131, imei='355228043199098', name='H102', bus_number='1098', remark='1098 DNSNTNK', perev_id=12),\n",
       " TransportVehicle(id=132, imei='355227045540770', name='A90', bus_number='9046', remark='9046 DNSNK', perev_id=2),\n",
       " TransportVehicle(id=133, imei='355227046451043', name='H23', bus_number='1172', remark='1172 DNSNTNK', perev_id=1),\n",
       " TransportVehicle(id=134, imei='355227046283032', name='A208', bus_number='0937', remark='0937 DNSNK', perev_id=13),\n",
       " TransportVehicle(id=135, imei='355227046505244', name='A188', bus_number='5447', remark='5447 DNSNK', perev_id=1),\n",
       " TransportVehicle(id=136, imei='355227046299129', name='A186', bus_number='389', remark='Тролейбус 389 DNSNK', perev_id=6),\n",
       " TransportVehicle(id=137, imei='355227046451019', name='H30', bus_number='275', remark='Тролейбус 275 DNSNTNK', perev_id=6),\n",
       " TransportVehicle(id=138, imei='355227045594892', name='A108', bus_number='1159', remark='1159 DNSNK', perev_id=2),\n",
       " TransportVehicle(id=139, imei='355227046314068', name='A185', bus_number='388', remark='Тролейбус 388 DNSNK', perev_id=6),\n",
       " TransportVehicle(id=140, imei='355227046450904', name='H11', bus_number='6159', remark='6159 DNSNTNK', perev_id=1),\n",
       " TransportVehicle(id=141, imei='355227045600988', name='A158', bus_number='324', remark='Тролейбус 324 DNSNK', perev_id=6),\n",
       " TransportVehicle(id=142, imei='355227046313847', name='A184', bus_number='387', remark=' тролейбус 387 DNSNK', perev_id=6),\n",
       " TransportVehicle(id=143, imei='355228043198777', name='H96', bus_number='8361', remark='8361 DNSNTNK', perev_id=12),\n",
       " TransportVehicle(id=144, imei='355227044854750', name='A22', bus_number='7665', remark='7665 DNSNK', perev_id=1),\n",
       " TransportVehicle(id=145, imei='355227046450805', name='H63', bus_number='375', remark='Тролейбус 375 DNSNTNK', perev_id=6),\n",
       " TransportVehicle(id=146, imei='355227046451480', name='H41', bus_number='399', remark='Тролейбус 399 DNSNTNK', perev_id=6),\n",
       " TransportVehicle(id=147, imei='355228043162195', name='H108', bus_number='0896', remark='0896 DNSNTNK', perev_id=1),\n",
       " TransportVehicle(id=148, imei='355227045594934', name='A112', bus_number='1116', remark='1116 DNSNK', perev_id=1),\n",
       " TransportVehicle(id=149, imei='355227045600103', name='A130', bus_number='1632', remark='1632 DNSNK', perev_id=1),\n",
       " TransportVehicle(id=150, imei='355227045540572', name='A67', bus_number='4238', remark='4238 DNSNK', perev_id=1),\n",
       " TransportVehicle(id=151, imei='355227045600871', name='A134', bus_number='318', remark='Тролейбус 318 DNS', perev_id=6),\n",
       " TransportVehicle(id=152, imei='355228043199049', name='H106', bus_number='0964', remark='0964 DNSNTNK', perev_id=1),\n",
       " TransportVehicle(id=153, imei='355228043199130', name='H105', bus_number='0128', remark='0128 DNSNTNK', perev_id=12),\n",
       " TransportVehicle(id=154, imei='355227046451266', name='H53', bus_number='2011', remark='Тролейбус 2011 DNSNTNK', perev_id=6),\n",
       " TransportVehicle(id=155, imei='355227046450995', name='H29', bus_number='365', remark='Тролейбус 365 DNSNTNK', perev_id=6),\n",
       " TransportVehicle(id=156, imei='355227045600202', name='A144', bus_number='2012', remark='Тролейбус 2012 DNSNK', perev_id=6),\n",
       " TransportVehicle(id=157, imei='355228042084192', name='A204', bus_number='0901', remark='0901 DNSNK', perev_id=1),\n",
       " TransportVehicle(id=158, imei='355227045539731', name='Am87', bus_number='1023', remark='1023 DNSNK', perev_id=2),\n",
       " TransportVehicle(id=159, imei='355227046451167', name='H13', bus_number='9408', remark='9408 DNSNTNK', perev_id=1),\n",
       " TransportVehicle(id=160, imei='355228043199106', name='H104', bus_number='1031', remark='1031 DNSNTNK', perev_id=12),\n",
       " TransportVehicle(id=161, imei='355227046451449', name='H46', bus_number='397', remark='Тролейбус 397 DNSNTNK', perev_id=6),\n",
       " TransportVehicle(id=162, imei='355227045370699', name='A11', bus_number='2079', remark='2079 DNSNK', perev_id=2),\n",
       " TransportVehicle(id=163, imei='355227046451035', name='H22', bus_number='8276', remark='8276 DNSNTNK', perev_id=1),\n",
       " TransportVehicle(id=164, imei='355227045513553', name='A60', bus_number='3459', remark='3459 DNSNK', perev_id=7),\n",
       " TransportVehicle(id=165, imei='355227046451332', name='A225', bus_number='7763', remark='7763 DNSNTNK', perev_id=1),\n",
       " TransportVehicle(id=166, imei='355228042956811', name='H95', bus_number='1097', remark='1097 DNSNTNK', perev_id=12),\n",
       " TransportVehicle(id=167, imei='355227046451399', name='H50', bus_number='393', remark='Тролейбус 393 DNSNTNK', perev_id=6),\n",
       " TransportVehicle(id=168, imei='355227045601259', name='A133', bus_number='358', remark='Тролейбус 358 DNSNK', perev_id=6),\n",
       " TransportVehicle(id=169, imei='355227046451464', name='H86', bus_number='7684', remark='7684 DNSNTNK', perev_id=1),\n",
       " TransportVehicle(id=170, imei='355227046630729', name='A214', bus_number='1182', remark='1182 DNSNK', perev_id=13),\n",
       " TransportVehicle(id=171, imei='355227046453403', name='H6', bus_number='0984', remark='0984 DNSNTNK', perev_id=1),\n",
       " TransportVehicle(id=172, imei='355227045533718', name='A79', bus_number='9034', remark='9034 DNSNK', perev_id=1),\n",
       " TransportVehicle(id=173, imei='355227045540127', name='A99', bus_number='0042', remark='0042 DNSNK', perev_id=1),\n",
       " TransportVehicle(id=174, imei='355228043198843', name='H100', bus_number='9752', remark='9752 DNSNTNK', perev_id=12),\n",
       " TransportVehicle(id=175, imei='355228043022480', name='H93', bus_number='8714', remark='8714 DNSNTNK', perev_id=12),\n",
       " TransportVehicle(id=176, imei='355227045594918', name='A106', bus_number='5483', remark='5483 DNSNK', perev_id=7),\n",
       " TransportVehicle(id=177, imei='355227045526902', name='A85', bus_number='0528', remark='0528 DNSNK ', perev_id=7),\n",
       " TransportVehicle(id=178, imei='355227045539921', name='A64', bus_number='5952', remark='5952 DNS', perev_id=7),\n",
       " TransportVehicle(id=179, imei='355228043022449', name='H94', bus_number='1099', remark='1099 DNSNTNK', perev_id=12),\n",
       " TransportVehicle(id=180, imei='355227046451274', name='H37', bus_number='361', remark='Тролейбус 361 DNSNTNK', perev_id=6),\n",
       " TransportVehicle(id=181, imei='355227045369873', name='A10', bus_number='7237', remark='7237 DNSNK', perev_id=1),\n",
       " TransportVehicle(id=182, imei='355227045600582', name='A146', bus_number='385', remark='Тролейбус 385 DNSNK', perev_id=6),\n",
       " TransportVehicle(id=183, imei='355228043198686', name='H97', bus_number='7722', remark='7722 DNSNTNK', perev_id=12),\n",
       " TransportVehicle(id=184, imei='355227045539541', name='A82', bus_number='6001', remark='6001 DNSNK', perev_id=7),\n",
       " TransportVehicle(id=185, imei='355227046507778', name='A202', bus_number='5785', remark='5785 DNSNK', perev_id=1),\n",
       " TransportVehicle(id=186, imei='355227045601002', name='A123', bus_number='!!!', remark='!!! DNSNK', perev_id=7),\n",
       " TransportVehicle(id=187, imei='355227045598570', name='А107', bus_number='1125', remark='1125 DNSNK', perev_id=2),\n",
       " TransportVehicle(id=188, imei='355228043199080', name='H103', bus_number='8716', remark='8716 DNSNTNK', perev_id=12),\n",
       " TransportVehicle(id=189, imei='355227046451472', name='H49', bus_number='394', remark='Тролейбус 394 DNSNTNK', perev_id=6),\n",
       " TransportVehicle(id=190, imei='355227046453452', name='H9', bus_number='6802', remark='6802 DNSNTNK', perev_id=1),\n",
       " TransportVehicle(id=191, imei='355227046451290', name='H36', bus_number='282', remark='Тролейбус 282 DNSNTNK', perev_id=6),\n",
       " TransportVehicle(id=192, imei='355227046490926', name='A198', bus_number='0985', remark='0985 DNSNK', perev_id=1),\n",
       " TransportVehicle(id=193, imei='355227045541257', name='A57', bus_number='9043', remark='0325 DNSNK', perev_id=2),\n",
       " TransportVehicle(id=194, imei='355227044854818', name='A17', bus_number='0741', remark='0741 DNSNK', perev_id=2),\n",
       " TransportVehicle(id=195, imei='355228043162351', name='H107', bus_number='9138', remark='9138 DNSNTNK', perev_id=12),\n",
       " TransportVehicle(id=196, imei='355227046447371', name='H65', bus_number='355', remark='Тролейбус 355 DNSNTNK', perev_id=6),\n",
       " TransportVehicle(id=197, imei='355227045600855', name='A142', bus_number='377', remark='Тролейбус 377 DNSNK', perev_id=6),\n",
       " TransportVehicle(id=198, imei='355227045539491', name='Am86', bus_number='1027', remark='1027 DNSNK', perev_id=2),\n",
       " TransportVehicle(id=200, imei='355227045538972', name='A52', bus_number='5039', remark=' 5039 DNS', perev_id=7),\n",
       " TransportVehicle(id=201, imei='355227045540036', name='A92', bus_number='0986', remark='0986 DNSNK', perev_id=1),\n",
       " TransportVehicle(id=202, imei='355228043022449', name='H94', bus_number='0042', remark='0042 DNSNTNK', perev_id=1),\n",
       " TransportVehicle(id=203, imei='355227046451555', name='H71', bus_number='1124', remark='1124 DNSNTNK', perev_id=1),\n",
       " TransportVehicle(id=204, imei='355228043233913', name='H110', bus_number='CE1047EI', remark='1047Og DNSNTNK', perev_id=5),\n",
       " TransportVehicle(id=205, imei='355228043023082', name='H90', bus_number='!!!1', remark='!!!1 DNSNT', perev_id=7),\n",
       " TransportVehicle(id=206, imei='355228043234077', name='H112', bus_number='1024', remark='1024 DNSNTNK', perev_id=1),\n",
       " TransportVehicle(id=207, imei='355227046451308', name='A227', bus_number='0335', remark='0335  DNSNTNK', perev_id=15),\n",
       " TransportVehicle(id=208, imei='355228043234036', name='H111', bus_number='CE6829EI', remark='6829 Og DNSNTNK', perev_id=5),\n",
       " TransportVehicle(id=209, imei='355228043233921', name='H114', bus_number='0047', remark='0047 DNSNTNK', perev_id=1),\n",
       " TransportVehicle(id=210, imei='355227046451563', name='H72', bus_number='0903', remark='0903 DNSNTNK', perev_id=1),\n",
       " TransportVehicle(id=211, imei='355227046579017', name='A194', bus_number='1113', remark='1113 DNSNK', perev_id=2),\n",
       " TransportVehicle(id=212, imei='355227046507810', name='A199', bus_number='0359', remark='0359 DNSNK', perev_id=13),\n",
       " TransportVehicle(id=213, imei='355227045541208', name='A101', bus_number='6652', remark='6652 DNSNK', perev_id=1),\n",
       " TransportVehicle(id=214, imei='355228043233822', name='H109', bus_number='0148', remark='0148 DNSNTNK', perev_id=2),\n",
       " TransportVehicle(id=215, imei='355227046503686', name='A200', bus_number='3560', remark='3560 DNSNK', perev_id=7),\n",
       " TransportVehicle(id=223, imei='355227046451407', name='H68', bus_number='855', remark='0855 DNSNTNK', perev_id=13)}"
      ]
     },
     "execution_count": 52,
     "metadata": {},
     "output_type": "execute_result"
    }
   ],
   "source": [
    "monitor.objects_unique[TransportVehicle]"
   ]
  },
  {
   "cell_type": "code",
   "execution_count": 70,
   "id": "443aa1c9-4f0e-4336-a100-c616e3c987a6",
   "metadata": {},
   "outputs": [
    {
     "data": {
      "text/plain": [
       "'f'"
      ]
     },
     "execution_count": 70,
     "metadata": {},
     "output_type": "execute_result"
    }
   ],
   "source": []
  },
  {
   "cell_type": "code",
   "execution_count": null,
   "id": "3f29b94c-dd47-476d-a0c0-556675f67de4",
   "metadata": {},
   "outputs": [],
   "source": []
  },
  {
   "cell_type": "markdown",
   "id": "803d0232-1878-42cd-abff-897330bca1eb",
   "metadata": {},
   "source": [
    "## TransportRoute"
   ]
  },
  {
   "cell_type": "code",
   "execution_count": 7,
   "id": "b2024837-e775-4f72-88c9-b09c241c0f03",
   "metadata": {},
   "outputs": [
    {
     "data": {
      "text/plain": [
       "['route_name', 'route_colour']"
      ]
     },
     "execution_count": 7,
     "metadata": {},
     "output_type": "execute_result"
    }
   ],
   "source": [
    "TransportRoute.__insert_columns__().replace('\"', '').split(', ')[1:]"
   ]
  },
  {
   "cell_type": "code",
   "execution_count": 28,
   "id": "65ef4651-6170-4469-9d80-2b457a43f825",
   "metadata": {},
   "outputs": [],
   "source": [
    "cols = [\"routeId\", 'routeName', 'routeColour']\n",
    "route_list = [TransportRoute.from_response_row(row) for row in df_sum[cols].drop_duplicates().to_dict('records')]\n",
    "len(route_list), route_list[:3]\n",
    "TransportRoute.insert_many_in_table(conn, route_list)"
   ]
  },
  {
   "cell_type": "code",
   "execution_count": 32,
   "id": "e3f3fc79-26de-4beb-b29f-c64a5403df84",
   "metadata": {
    "collapsed": true,
    "jupyter": {
     "outputs_hidden": true
    },
    "tags": []
   },
   "outputs": [
    {
     "data": {
      "text/plain": [
       "[TransportRoute(id=37, name='T', colour='coral'),\n",
       " TransportRoute(id=31, name='6/6a', colour='deeppink'),\n",
       " TransportRoute(id=21, name='38', colour='deeppink'),\n",
       " TransportRoute(id=41, name='10A', colour='black'),\n",
       " TransportRoute(id=20, name='A', colour='navy'),\n",
       " TransportRoute(id=42, name='39', colour='coral'),\n",
       " TransportRoute(id=23, name='19', colour='teal'),\n",
       " TransportRoute(id=19, name='10', colour='black'),\n",
       " TransportRoute(id=11, name='9', colour='magenta'),\n",
       " TransportRoute(id=2, name='11', colour='green'),\n",
       " TransportRoute(id=6, name='4', colour='magenta'),\n",
       " TransportRoute(id=27, name='3/3a', colour='green'),\n",
       " TransportRoute(id=16, name='2', colour='green'),\n",
       " TransportRoute(id=4, name='5', colour='orange'),\n",
       " TransportRoute(id=3, name='12', colour='blue'),\n",
       " TransportRoute(id=12, name='20', colour='maroon'),\n",
       " TransportRoute(id=7, name='6', colour='sienna'),\n",
       " TransportRoute(id=10, name='34', colour='navy'),\n",
       " TransportRoute(id=45, name='1', colour='navy'),\n",
       " TransportRoute(id=9, name='27', colour='black'),\n",
       " TransportRoute(id=38, name='1T', colour='grey'),\n",
       " TransportRoute(id=49, name='2A', colour='red'),\n",
       " TransportRoute(id=5, name='13', colour='brown'),\n",
       " TransportRoute(id=33, name='8T', colour='coral'),\n",
       " TransportRoute(id=17, name='23', colour='red'),\n",
       " TransportRoute(id=48, name='1A', colour='olive'),\n",
       " TransportRoute(id=14, name='9A', colour='magenta'),\n",
       " TransportRoute(id=26, name='4T', colour='purple'),\n",
       " TransportRoute(id=25, name='2T', colour='olive'),\n",
       " TransportRoute(id=39, name='5T', colour='maroon'),\n",
       " TransportRoute(id=34, name='11/3', colour='teal')]"
      ]
     },
     "execution_count": 32,
     "metadata": {},
     "output_type": "execute_result"
    }
   ],
   "source": [
    "TransportRoute.get_table(conn)"
   ]
  },
  {
   "cell_type": "code",
   "execution_count": 13,
   "id": "db79201d-b8f6-4210-8e5d-7a3527d99efe",
   "metadata": {},
   "outputs": [],
   "source": [
    "# df_sum[TransportRoute.__insert_columns__().replace('\"', '').split(', ')[1:]].value_counts()"
   ]
  },
  {
   "cell_type": "code",
   "execution_count": 27,
   "id": "7962a53d-4491-4335-8219-3badba381963",
   "metadata": {},
   "outputs": [],
   "source": [
    "conn.rollback()"
   ]
  },
  {
   "cell_type": "code",
   "execution_count": 45,
   "id": "656c313d-e60c-44fe-b9f7-7df2ac28af09",
   "metadata": {
    "tags": []
   },
   "outputs": [],
   "source": [
    "SQL_big_req = \" \".join([create_sql_req(t) for t in trans_vehicle_list])"
   ]
  },
  {
   "cell_type": "code",
   "execution_count": 29,
   "id": "16cd9f5e-0f22-4c03-b6a2-007dfc75471b",
   "metadata": {},
   "outputs": [
    {
     "data": {
      "text/plain": [
       "31"
      ]
     },
     "execution_count": 29,
     "metadata": {},
     "output_type": "execute_result"
    }
   ],
   "source": [
    "route_list = TransportRoute.get_table(conn)[:]\n",
    "len(route_list)"
   ]
  },
  {
   "cell_type": "code",
   "execution_count": 30,
   "id": "703e8efe-7133-46a1-a6a1-2a2a37d93fe5",
   "metadata": {
    "collapsed": true,
    "jupyter": {
     "outputs_hidden": true
    },
    "tags": []
   },
   "outputs": [
    {
     "data": {
      "text/plain": [
       "[False,\n",
       " True,\n",
       " False,\n",
       " True,\n",
       " False,\n",
       " True,\n",
       " False,\n",
       " True,\n",
       " False,\n",
       " True,\n",
       " False,\n",
       " True,\n",
       " False,\n",
       " True,\n",
       " False,\n",
       " True,\n",
       " False,\n",
       " True,\n",
       " False,\n",
       " True,\n",
       " False,\n",
       " True,\n",
       " False,\n",
       " True,\n",
       " False,\n",
       " True,\n",
       " False,\n",
       " True,\n",
       " False,\n",
       " True,\n",
       " False]"
      ]
     },
     "execution_count": 30,
     "metadata": {},
     "output_type": "execute_result"
    }
   ],
   "source": [
    "for r in route_list[::2]: \n",
    "    r.id += 1\n",
    "TransportRoute.are_in_table(conn, route_list)"
   ]
  },
  {
   "cell_type": "code",
   "execution_count": 31,
   "id": "d7a52b7b-5720-4b93-ab34-36c661fd52c8",
   "metadata": {
    "collapsed": true,
    "jupyter": {
     "outputs_hidden": true
    },
    "tags": []
   },
   "outputs": [
    {
     "data": {
      "text/plain": [
       "[False,\n",
       " True,\n",
       " False,\n",
       " True,\n",
       " False,\n",
       " True,\n",
       " False,\n",
       " True,\n",
       " False,\n",
       " True,\n",
       " False,\n",
       " True,\n",
       " False,\n",
       " True,\n",
       " False,\n",
       " True,\n",
       " False,\n",
       " True,\n",
       " False,\n",
       " True,\n",
       " False,\n",
       " True,\n",
       " False,\n",
       " True,\n",
       " False,\n",
       " True,\n",
       " False,\n",
       " True,\n",
       " False,\n",
       " True,\n",
       " False]"
      ]
     },
     "execution_count": 31,
     "metadata": {},
     "output_type": "execute_result"
    }
   ],
   "source": [
    "TransportRoute.are_in_table(conn, route_list)"
   ]
  },
  {
   "cell_type": "code",
   "execution_count": 14,
   "id": "12a3eb91-8eda-470e-b985-4d5109cb424d",
   "metadata": {},
   "outputs": [],
   "source": [
    "for r in route_list: \n",
    "    r.name += \"_\"\n",
    "    r.id += 100"
   ]
  },
  {
   "cell_type": "code",
   "execution_count": 16,
   "id": "b0b4c455-15fa-4939-a6df-6012fad411fd",
   "metadata": {},
   "outputs": [],
   "source": [
    "# sql = f\"\"\"INSERT INTO pteta.route(\"id\", \"routeName\", \"routeColour\") VALUES \"\"\" + \\\n",
    "#               \", \".join([f\"\"\"({obj.id}, '{obj.name}', '{obj.colour}')\"\"\"\n",
    "#                         for obj in route_list]) + \";\"\n",
    "# sql"
   ]
  },
  {
   "cell_type": "code",
   "execution_count": 17,
   "id": "9054b72a-afb6-4087-a95a-21c876e097ff",
   "metadata": {},
   "outputs": [],
   "source": [
    "# route_list"
   ]
  },
  {
   "cell_type": "code",
   "execution_count": 18,
   "id": "77dd36c5-49ad-4a86-9de9-5282adf24302",
   "metadata": {},
   "outputs": [],
   "source": [
    "TransportRoute.insert_many_in_table(conn, route_list)"
   ]
  },
  {
   "cell_type": "code",
   "execution_count": null,
   "id": "3dd59c3b-6a83-466c-b8f2-cce11a645f0b",
   "metadata": {},
   "outputs": [],
   "source": []
  },
  {
   "cell_type": "markdown",
   "id": "e38b678e-784c-45d1-89cb-4d9d3ae77d45",
   "metadata": {},
   "source": [
    "## Test TransportVehicle"
   ]
  },
  {
   "cell_type": "code",
   "execution_count": 33,
   "id": "37129939-f633-4b44-9c44-10b313e3fa3b",
   "metadata": {},
   "outputs": [
    {
     "data": {
      "text/plain": [
       "'\"imei\", \"name\", \"bus_number\", \"remark\", \"perev_id\"'"
      ]
     },
     "execution_count": 33,
     "metadata": {},
     "output_type": "execute_result"
    }
   ],
   "source": [
    "TransportVehicle.__insert_columns__()"
   ]
  },
  {
   "cell_type": "code",
   "execution_count": 45,
   "id": "1a237457-a881-4e69-b1d0-96cf2aec4cd2",
   "metadata": {},
   "outputs": [],
   "source": [
    "cols = [\"imei\", \"name\", \"busNumber\", \"remark\", \"perevId\"]\n",
    "vehicle_list = [TransportVehicle.from_response_row(row) for row in df_sum[cols].drop_duplicates().to_dict('records')]\n",
    "len(vehicle_list), vehicle_list[:3]\n",
    "TransportVehicle.insert_many_in_table(conn, vehicle_list)"
   ]
  },
  {
   "cell_type": "code",
   "execution_count": 47,
   "id": "0a278005-dc97-4114-af59-483e17bf6999",
   "metadata": {},
   "outputs": [
    {
     "data": {
      "text/plain": [
       "99"
      ]
     },
     "execution_count": 47,
     "metadata": {},
     "output_type": "execute_result"
    }
   ],
   "source": [
    "vehicle_list = TransportVehicle.get_table(conn)\n",
    "len(vehicle_list)"
   ]
  },
  {
   "cell_type": "code",
   "execution_count": 48,
   "id": "37989ed4-30f7-4b97-8258-6be17ba1e290",
   "metadata": {},
   "outputs": [
    {
     "data": {
      "text/plain": [
       "[True, True, True, True, True]"
      ]
     },
     "execution_count": 48,
     "metadata": {},
     "output_type": "execute_result"
    }
   ],
   "source": [
    "TransportVehicle.are_in_table(conn, vehicle_list[:5])"
   ]
  },
  {
   "cell_type": "code",
   "execution_count": 49,
   "id": "81b128d1-6b40-4c94-bf2e-874e2544693e",
   "metadata": {},
   "outputs": [
    {
     "data": {
      "text/plain": [
       "True"
      ]
     },
     "execution_count": 49,
     "metadata": {},
     "output_type": "execute_result"
    }
   ],
   "source": [
    "vehicle_list[5].is_in_table(conn)"
   ]
  },
  {
   "cell_type": "code",
   "execution_count": null,
   "id": "ba9ba8f8-9ed4-47ba-94cd-7c20ac1c33cd",
   "metadata": {},
   "outputs": [],
   "source": []
  },
  {
   "cell_type": "code",
   "execution_count": 50,
   "id": "3d5e7733-09f4-4ae0-a3b3-c62900a8dc58",
   "metadata": {},
   "outputs": [
    {
     "data": {
      "text/plain": [
       "False"
      ]
     },
     "execution_count": 50,
     "metadata": {},
     "output_type": "execute_result"
    }
   ],
   "source": [
    "obj = vehicle_list[0]\n",
    "obj.imei += \"-\"\n",
    "obj.is_in_table(conn)"
   ]
  },
  {
   "cell_type": "code",
   "execution_count": 51,
   "id": "385b8a30-87af-4551-9f70-75ea85e14bd3",
   "metadata": {},
   "outputs": [],
   "source": [
    "obj.insert_in_table(conn)"
   ]
  },
  {
   "cell_type": "code",
   "execution_count": 52,
   "id": "7d90f8bb-b0f0-4f3c-9194-0ac4af260719",
   "metadata": {},
   "outputs": [],
   "source": [
    "for v in vehicle_list[:10]: \n",
    "    v.imei += '_'"
   ]
  },
  {
   "cell_type": "code",
   "execution_count": 15,
   "id": "6c25cab4-914c-4f61-a724-f199b51f0196",
   "metadata": {},
   "outputs": [],
   "source": [
    "TransportVehicle.insert_many_in_table(conn, vehicle_list[:10])"
   ]
  },
  {
   "cell_type": "code",
   "execution_count": 31,
   "id": "2a0af8f2-07a4-4991-8bd7-3bdfeb81b952",
   "metadata": {},
   "outputs": [],
   "source": [
    "obj.insert_in_table(conn)\n",
    "obj.is_in_table(conn)"
   ]
  },
  {
   "cell_type": "code",
   "execution_count": null,
   "id": "04400c12-3466-4c91-b027-93be01673c03",
   "metadata": {},
   "outputs": [],
   "source": []
  },
  {
   "cell_type": "code",
   "execution_count": 14,
   "id": "82a79e2d-325a-4dd6-82ef-e213a1f80469",
   "metadata": {},
   "outputs": [
    {
     "name": "stdout",
     "output_type": "stream",
     "text": [
      "TransportVehicle(id=None, imei='355227045600830', name='A178', busNumber='310', remark='Тролейбус 310 DNSNK', perevId=6, routeId=37)\n",
      "TransportVehicle(id=1, imei='355227045600830', name='A178', busNumber='310', remark='Тролейбус 310 DNSNK', perevId=6, routeId=37)\n"
     ]
    }
   ],
   "source": [
    "vehicle_list[0].id = None\n",
    "print(vehicle_list[0])\n",
    "vehicle_list[0].update_id_from_table(conn)\n",
    "print(vehicle_list[0])"
   ]
  },
  {
   "cell_type": "code",
   "execution_count": 34,
   "id": "9e1c1879-1060-45ac-ad9d-18991161f2f2",
   "metadata": {
    "collapsed": true,
    "jupyter": {
     "outputs_hidden": true
    },
    "tags": []
   },
   "outputs": [
    {
     "data": {
      "text/plain": [
       "[TransportVehicle(id=222, imei='355227045600830-__', name='A178', busNumber='310', remark='Тролейбус 310 DNSNK', perevId=6, routeId=37),\n",
       " TransportVehicle(id=2, imei='355227046451662__', name='H76', busNumber='350', remark='Тролейбус 350 DNSNTNK', perevId=6, routeId=31),\n",
       " TransportVehicle(id=3, imei='355227045369527__', name='A6', busNumber='3557', remark='3557 DNSNK ', perevId=12, routeId=21),\n",
       " TransportVehicle(id=4, imei='355227045540176__', name='A83', busNumber='5150', remark=' 5150 DNS', perevId=7, routeId=41),\n",
       " TransportVehicle(id=5, imei='355227046453387__', name='H75', busNumber='3627', remark='3627 DNSNTNK', perevId=1, routeId=20),\n",
       " TransportVehicle(id=6, imei='355228042084283__', name='A207', busNumber='1032', remark='1032 DNSNK', perevId=13, routeId=42),\n",
       " TransportVehicle(id=7, imei='355227045371655__', name='A1', busNumber='6513', remark='6513 DNSNK', perevId=7, routeId=23),\n",
       " TransportVehicle(id=8, imei='355227046451407__', name='H68', busNumber='0855', remark='0855 DNSNTNK', perevId=13, routeId=42),\n",
       " TransportVehicle(id=9, imei='355227046578332__', name='A189', busNumber='6518', remark='6518 DNSNK ', perevId=7, routeId=19),\n",
       " TransportVehicle(id=10, imei='355228043199379__', name='H99', busNumber='1176', remark='1176 DNSNTNK', perevId=12, routeId=21),\n",
       " TransportVehicle(id=11, imei='355227046504098', name='A195', busNumber='0854', remark='0854 DNSNK', perevId=13, routeId=42),\n",
       " TransportVehicle(id=12, imei='355227046504098', name='A195', busNumber='0854', remark='0854 DNSNK', perevId=13, routeId=11),\n",
       " TransportVehicle(id=13, imei='355227046451027', name='H24', busNumber='0738', remark='0738 DNSNTNK', perevId=1, routeId=2)]"
      ]
     },
     "execution_count": 34,
     "metadata": {},
     "output_type": "execute_result"
    }
   ],
   "source": [
    "for v in vehicle_list[:10]: \n",
    "    v.imei += '__'\n",
    "\n",
    "vehicle_list[:13]"
   ]
  },
  {
   "cell_type": "code",
   "execution_count": null,
   "id": "65587fa2-bd59-4efc-b155-56a4472d7c1d",
   "metadata": {},
   "outputs": [],
   "source": []
  },
  {
   "cell_type": "markdown",
   "id": "12b4864c-12ee-4bdc-8fc8-0504368bfbf9",
   "metadata": {},
   "source": [
    "## TransportOperator"
   ]
  },
  {
   "cell_type": "code",
   "execution_count": null,
   "id": "c65faf98-5009-4756-8cbe-433fe345970a",
   "metadata": {},
   "outputs": [],
   "source": []
  },
  {
   "cell_type": "code",
   "execution_count": 41,
   "id": "53ccacbb-8a47-4536-9004-dd3cff1c8756",
   "metadata": {
    "tags": []
   },
   "outputs": [
    {
     "data": {
      "text/plain": [
       "6"
      ]
     },
     "execution_count": 41,
     "metadata": {},
     "output_type": "execute_result"
    }
   ],
   "source": [
    "operator_list = TransportOperator.get_table(conn)\n",
    "len(operator_list)"
   ]
  },
  {
   "cell_type": "code",
   "execution_count": 37,
   "id": "add37a17-8db0-475b-a13f-05ad71cb4b90",
   "metadata": {},
   "outputs": [
    {
     "data": {
      "text/plain": [
       "'id, \"perev_name\"'"
      ]
     },
     "execution_count": 37,
     "metadata": {},
     "output_type": "execute_result"
    }
   ],
   "source": [
    "TransportOperator.__insert_columns__()"
   ]
  },
  {
   "cell_type": "code",
   "execution_count": 40,
   "id": "58aa5906-6de7-44df-93e3-9db6a9d03d72",
   "metadata": {},
   "outputs": [],
   "source": [
    "cols = ['perevId', \"perevName\"]\n",
    "operator_list = [TransportOperator.from_response_row(row) \n",
    "              for row in df_sum[cols].drop_duplicates().to_dict('records')]\n",
    "len(operator_list), operator_list[:3]\n",
    "TransportOperator.insert_many_in_table(conn, operator_list)"
   ]
  },
  {
   "cell_type": "code",
   "execution_count": null,
   "id": "49c7f706-e9c3-472b-90bb-a46d7cc96397",
   "metadata": {},
   "outputs": [],
   "source": []
  },
  {
   "cell_type": "code",
   "execution_count": 42,
   "id": "24288a49-97b0-450c-b4b3-9fdf8729d6ef",
   "metadata": {},
   "outputs": [
    {
     "data": {
      "text/plain": [
       "[True, True, True, True, True, True]"
      ]
     },
     "execution_count": 42,
     "metadata": {},
     "output_type": "execute_result"
    }
   ],
   "source": [
    "TransportOperator.are_in_table(conn, operator_list[:])"
   ]
  },
  {
   "cell_type": "code",
   "execution_count": 43,
   "id": "606d9682-b1e9-4110-bd5b-746fb6180744",
   "metadata": {},
   "outputs": [
    {
     "data": {
      "text/plain": [
       "True"
      ]
     },
     "execution_count": 43,
     "metadata": {},
     "output_type": "execute_result"
    }
   ],
   "source": [
    "operator_list[0].is_in_table(conn)"
   ]
  },
  {
   "cell_type": "code",
   "execution_count": 44,
   "id": "5437ec19-c042-4d84-adbb-6f1251c35bdf",
   "metadata": {},
   "outputs": [
    {
     "data": {
      "text/plain": [
       "False"
      ]
     },
     "execution_count": 44,
     "metadata": {},
     "output_type": "execute_result"
    }
   ],
   "source": [
    "obj = operator_list[0]\n",
    "obj.id += 100\n",
    "obj.name = \"-_-\" + obj.name\n",
    "obj.is_in_table(conn)"
   ]
  },
  {
   "cell_type": "code",
   "execution_count": 14,
   "id": "4fd48af7-fad0-4e05-80d7-756ce77ea7e8",
   "metadata": {},
   "outputs": [],
   "source": [
    "obj.insert_in_table(conn)"
   ]
  },
  {
   "cell_type": "code",
   "execution_count": 15,
   "id": "daa1e22e-774b-4aa6-85cd-8854f1451a03",
   "metadata": {},
   "outputs": [],
   "source": [
    "for op in operator_list: \n",
    "    op.id += 100\n",
    "    op.name = \"-_-\" + op.name\n",
    "    \n",
    "TransportOperator.insert_many_in_table(conn, operator_list)"
   ]
  },
  {
   "cell_type": "code",
   "execution_count": null,
   "id": "54623c33-e180-4a15-931b-32617c32876e",
   "metadata": {},
   "outputs": [],
   "source": []
  },
  {
   "cell_type": "markdown",
   "id": "a7b4a93e-f4cf-4f72-b4de-f31350ca0fe4",
   "metadata": {},
   "source": [
    "## TransportAVLData"
   ]
  },
  {
   "cell_type": "code",
   "execution_count": 9,
   "id": "2ec67a1a-5a8e-491c-b7ef-f00cbd84cbe5",
   "metadata": {},
   "outputs": [],
   "source": [
    "avl_data_list = TransportAVLData.get_table(conn)"
   ]
  },
  {
   "cell_type": "code",
   "execution_count": 11,
   "id": "8ec55802-09a3-46c5-a951-bc33f778ae31",
   "metadata": {},
   "outputs": [],
   "source": [
    "# avl_data_list"
   ]
  },
  {
   "cell_type": "code",
   "execution_count": 14,
   "id": "35304afa-4736-4317-aa4b-c59f784e3e59",
   "metadata": {},
   "outputs": [
    {
     "name": "stdout",
     "output_type": "stream",
     "text": [
      "57.4 ms ± 3.36 ms per loop (mean ± std. dev. of 7 runs, 10 loops each)\n"
     ]
    }
   ],
   "source": [
    "%%timeit\n",
    "TransportAVLData.are_in_table(conn, avl_data_list)"
   ]
  },
  {
   "cell_type": "code",
   "execution_count": 16,
   "id": "8366b7c5-2c46-49fa-8f89-ac62b91901b3",
   "metadata": {},
   "outputs": [
    {
     "name": "stdout",
     "output_type": "stream",
     "text": [
      "42.1 ms ± 1.17 ms per loop (mean ± std. dev. of 7 runs, 10 loops each)\n"
     ]
    }
   ],
   "source": [
    "%%timeit\n",
    "avl_data_list[0].is_in_table(conn)"
   ]
  },
  {
   "cell_type": "code",
   "execution_count": null,
   "id": "71406ef0-4031-4934-95b5-10c527447c39",
   "metadata": {},
   "outputs": [],
   "source": []
  },
  {
   "cell_type": "code",
   "execution_count": null,
   "id": "66d4652d-7651-426a-89d7-ea8e73d2ac06",
   "metadata": {},
   "outputs": [],
   "source": []
  }
 ],
 "metadata": {
  "kernelspec": {
   "display_name": "Python 3",
   "language": "python",
   "name": "python3"
  },
  "language_info": {
   "codemirror_mode": {
    "name": "ipython",
    "version": 3
   },
   "file_extension": ".py",
   "mimetype": "text/x-python",
   "name": "python",
   "nbconvert_exporter": "python",
   "pygments_lexer": "ipython3",
   "version": "3.8.9"
  }
 },
 "nbformat": 4,
 "nbformat_minor": 5
}
