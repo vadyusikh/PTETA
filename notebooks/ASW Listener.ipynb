{
 "cells": [
  {
   "cell_type": "code",
   "execution_count": 1,
   "id": "fef48cae",
   "metadata": {},
   "outputs": [],
   "source": [
    "from datetime import datetime, timedelta\n",
    "import numpy as np\n",
    "from tqdm import tqdm\n",
    "from pathlib import Path\n",
    "import pandas as pd\n",
    "\n",
    "from collections import Counter"
   ]
  },
  {
   "cell_type": "markdown",
   "id": "94bac175-1fa1-49a2-8e10-a2b03a5d57c6",
   "metadata": {},
   "source": [
    "## Analyse data"
   ]
  },
  {
   "cell_type": "code",
   "execution_count": 2,
   "id": "569c1bce-bef2-4f20-a00a-7d84099a0584",
   "metadata": {},
   "outputs": [],
   "source": [
    "# df_sum = None\n",
    "# for df_path in tqdm(list(Path(\"../data/local/tables/\").iterdir())[-10:]):\n",
    "#     if df_sum is None: \n",
    "#         df_sum = pd.read_csv(df_path, encoding='utf-8', low_memory=False)\n",
    "#     else : \n",
    "#         df_sum.append(pd.read_csv(df_path, encoding='utf-8', low_memory=False))"
   ]
  },
  {
   "cell_type": "code",
   "execution_count": 3,
   "id": "f7a7201a-5dd4-476a-b655-167037e77718",
   "metadata": {
    "collapsed": true,
    "jupyter": {
     "outputs_hidden": true
    },
    "tags": []
   },
   "outputs": [
    {
     "ename": "NameError",
     "evalue": "name 'df_sum' is not defined",
     "output_type": "error",
     "traceback": [
      "\u001b[1;31m---------------------------------------------------------------------------\u001b[0m",
      "\u001b[1;31mNameError\u001b[0m                                 Traceback (most recent call last)",
      "\u001b[1;32m~\\AppData\\Local\\Temp\\ipykernel_13952\\728537235.py\u001b[0m in \u001b[0;36m<module>\u001b[1;34m\u001b[0m\n\u001b[1;32m----> 1\u001b[1;33m \u001b[0mdf_sum\u001b[0m\u001b[1;33m[\u001b[0m\u001b[0mdf_sum\u001b[0m\u001b[1;33m.\u001b[0m\u001b[0mduplicated\u001b[0m\u001b[1;33m(\u001b[0m\u001b[1;33m)\u001b[0m\u001b[1;33m]\u001b[0m\u001b[1;33m\u001b[0m\u001b[1;33m\u001b[0m\u001b[0m\n\u001b[0m",
      "\u001b[1;31mNameError\u001b[0m: name 'df_sum' is not defined"
     ]
    }
   ],
   "source": [
    "df_sum[df_sum.duplicated()]"
   ]
  },
  {
   "cell_type": "code",
   "execution_count": 4,
   "id": "5a4b636a-2581-4b70-ad80-b80b4d2f3db0",
   "metadata": {},
   "outputs": [],
   "source": [
    "from concurrent.futures import ThreadPoolExecutor\n",
    "from datetime import datetime, timedelta\n",
    "import pytz\n",
    "\n",
    "import json\n",
    "import requests\n",
    "import os\n",
    "import time\n",
    "# from tqdm.auto import tqdm\n",
    "\n",
    "\n",
    "from PTETA.utils.transport.TransportOperator import TransportOperator\n",
    "from PTETA.utils.transport.TransportRoute import TransportRoute\n",
    "from PTETA.utils.transport.TransportVehicle import TransportVehicle\n",
    "from PTETA.utils.transport.TransportAVLData import TransportAVLData\n",
    "from psycopg2.extensions import connection as Connection\n",
    "import psycopg2"
   ]
  },
  {
   "cell_type": "code",
   "execution_count": 5,
   "id": "aea34913-9819-4186-a91e-7a7ec70d8f88",
   "metadata": {},
   "outputs": [],
   "source": [
    "from apscheduler.schedulers.background import BackgroundScheduler\n",
    "\n",
    "response_prev = dict()\n",
    "\n",
    "try: \n",
    "    del TransGPSCVMonitor\n",
    "except: \n",
    "    pass\n",
    "\n",
    "class TransGPSCVMonitor:\n",
    "    \n",
    "    db_connection: Connection = None\n",
    "        \n",
    "    operator_to_id : dict = dict()\n",
    "    id_to_operator : dict = dict()\n",
    "        \n",
    "    route_to_id : dict = dict()\n",
    "    id_to_route : dict = dict()\n",
    "\n",
    "    vehicle_to_id : dict = dict()\n",
    "    id_to_vehicle : dict = dict()\n",
    "        \n",
    "        \n",
    "    def __init__(self, connection_config: dict, **kwarg: dict) -> None: \n",
    "        self.db_connection = psycopg2.connect(**connection_config)\n",
    "        \n",
    "        self.reloadTransportOperators()   \n",
    "        self.reloadTransportRoutes()\n",
    "        self.reloadTransportVehicles()\n",
    "        \n",
    "        self.datetime_format = '%Y-%m-%d %H:%M:%S'\n",
    "        \n",
    "        self.REQUEST_URI = \\\n",
    "            kwarg.get('REQUEST_URI', 'http://www.trans-gps.cv.ua/map/tracker/?selectedRoutesStr=')\n",
    "        self.START_DATE = \\\n",
    "            kwarg.get('START_DATE', (datetime.now() - timedelta(days=1)).strftime(self.datetime_format))\n",
    "        self.END_DATE = \\\n",
    "            kwarg.get('END_DATE', (datetime.now() + timedelta(days=30)).strftime(self.datetime_format))\n",
    "        self.REQ_TIME_DELTA = kwarg.get('REQ_TIME_DELTA',  1.1)\n",
    "        \n",
    "        \n",
    "    def reloadTransportOperators(self):\n",
    "        operator_list = TransportOperator.get_table(self.db_connection)\n",
    "        self.operator_to_id = dict({operator : operator.id for operator in operator_list})\n",
    "        self.id_to_operator = dict({operator.id : operator for operator in operator_list})\n",
    "        \n",
    "    def reloadTransportRoutes(self):\n",
    "        route_list = TransportRoute.get_table(self.db_connection)\n",
    "        self.route_to_id = dict({route : route.id for route in route_list})\n",
    "        self.id_to_route = dict({route.id : route for route in route_list})\n",
    "    \n",
    "    def reloadTransportVehicles(self):\n",
    "        vehicle_list = TransportVehicle.get_table(self.db_connection)\n",
    "        self.vehicle_to_id = dict({vehicle : vehicle.id for vehicle in vehicle_list})\n",
    "        self.id_to_vehicle = dict({vehicle.id : vehicle for vehicle in vehicle_list})\n",
    "\n",
    "    @classmethod\n",
    "    def request_data(cls, request_uri='http://www.trans-gps.cv.ua/map/tracker/?selectedRoutesStr='):\n",
    "        dt_now = datetime.now()\n",
    "        dt_tz_now = datetime.utcnow().replace(tzinfo=pytz.utc)\n",
    "\n",
    "        try:\n",
    "            request = requests.get(request_uri)\n",
    "            if (request is None) or (request.text is None):\n",
    "                return\n",
    "            response_cur = json.loads(request.text)\n",
    "\n",
    "            global response_prev\n",
    "\n",
    "            keys_prev = set(response_prev.keys())\n",
    "            keys_cur = set(response_cur.keys())\n",
    "\n",
    "            optimized_data_list = list()\n",
    "            for imei in keys_prev.intersection(keys_cur):\n",
    "                if response_prev[imei]['gpstime'] != response_cur[imei]['gpstime']:\n",
    "                    response_cur[imei]['response_datetime'] = dt_tz_now\n",
    "                    optimized_data_list += [response_cur[imei]]\n",
    "\n",
    "            for imei in keys_cur.difference(keys_prev):\n",
    "                response_cur[imei]['response_datetime'] = dt_tz_now\n",
    "                optimized_data_list += [response_cur[imei]]\n",
    "                \n",
    "            response_prev = response_cur\n",
    "        except (requests.Timeout, requests.ConnectionError, requests.HTTPError) as err:\n",
    "            print(f\"{dt_now.strftime('%Y-%m-%d %H;%M;%S')} : error while trying to GET data\\n\"\n",
    "                  f\"\\t{err}\\n\")\n",
    "\n",
    "        print(dt_now.strftime('%Y-%m-%d %H;%M;%S'), len(optimized_data_list))\n",
    "        return optimized_data_list\n",
    "    \n",
    "    def run(self):\n",
    "        scheduler =  BackgroundScheduler(job_defaults={'max_instances': 8})  \n",
    "        scheduler.add_job(\n",
    "                self.request_data,\n",
    "                'interval',\n",
    "                seconds=self.REQ_TIME_DELTA,\n",
    "                end_date=self.END_DATE,\n",
    "                id='listener')\n",
    "\n",
    "        scheduler.start()\n",
    "            \n",
    "        try:\n",
    "            print('Scheduler started!')\n",
    "            display_files_num = True \n",
    "            prev_update = datetime.now().replace(minute=0, second=0, microsecond=0)\n",
    "            while 1:\n",
    "                time.sleep(10)\n",
    "                print(datetime.now())\n",
    "        except KeyboardInterrupt:\n",
    "            if scheduler.state:\n",
    "                scheduler.shutdown()"
   ]
  },
  {
   "cell_type": "code",
   "execution_count": null,
   "id": "50496d53-e1d9-4fe9-a612-db25e198ad47",
   "metadata": {},
   "outputs": [],
   "source": []
  },
  {
   "cell_type": "code",
   "execution_count": 6,
   "id": "c1975bbf-0e55-4e61-a24b-9eaee9215431",
   "metadata": {},
   "outputs": [
    {
     "name": "stdout",
     "output_type": "stream",
     "text": [
      "2022-12-04 02;24;01 7\n"
     ]
    },
    {
     "data": {
      "text/plain": [
       "7"
      ]
     },
     "execution_count": 6,
     "metadata": {},
     "output_type": "execute_result"
    }
   ],
   "source": [
    "connection_config= dict({\n",
    "    'host': os.environ['RDS_HOSTNAME'],\n",
    "    'database': \"pteta_db\",\n",
    "    'user': \"postgres\",\n",
    "    'password': os.environ['RDS_PTETA_DB_PASSWORD']\n",
    "})\n",
    "\n",
    "monitor = TransGPSCVMonitor(connection_config)\n",
    "\n",
    "req = monitor.request_data()\n",
    "len(req)"
   ]
  },
  {
   "cell_type": "code",
   "execution_count": 7,
   "id": "f6883ac5",
   "metadata": {},
   "outputs": [],
   "source": [
    "def decompose(req): \n",
    "    trans_operator = TransportOperator(req['perevId'], req['perevName'])\n",
    "    trans_route = TransportRoute(req['routeId'], req['routeName'], req['routeColour'])\n",
    "    \n",
    "    trans_vehicle = TransportVehicle(\n",
    "        None, req['imei'], req['name'], req['busNumber'], req['remark'], req['perevId'], req['routeId'] )\n",
    "    \n",
    "    trans_AVLData = TransportAVLData(\n",
    "        req['lat'], req['lng'], req['speed'], \n",
    "        req['orientation'], req['gpstime'], req['inDepo'],\n",
    "        None, req['response_datetime']\n",
    "    )\n",
    "    \n",
    "    return trans_operator, trans_route, trans_vehicle, trans_AVLData\n",
    "\n",
    "def write_to_DB(conn, req, verbose=0): \n",
    "    trans_operator, trans_route, trans_vehicle, trans_AVLData = decompose(req)\n",
    "    \n",
    "    if not trans_operator in monitor.operator_to_id:\n",
    "        if not trans_operator.is_in_table(conn): \n",
    "            trans_operator.insert_in_table(conn)\n",
    "        monitor.reloadTransportOperators()\n",
    "        if verbose > 0: \n",
    "            print(\"New trans_operator inserted in DB\" )\n",
    "        if not trans_operator.is_in_table(conn): \n",
    "            raise ValueError()\n",
    "    else : \n",
    "        if verbose > 0: \n",
    "            print(\"It ok. trans_operator is in \")\n",
    "            \n",
    "    if not trans_route in monitor.route_to_id:\n",
    "        if not trans_route.is_in_table(conn): \n",
    "            trans_route.insert_in_table(conn)\n",
    "        monitor.reloadTransportRoutes()\n",
    "        if verbose > 0: \n",
    "            print(\"New trans_route inserted in DB\" )\n",
    "        if not trans_route.is_in_table(conn): \n",
    "            raise ValueError()\n",
    "    else : \n",
    "        if verbose > 0: \n",
    "            print(\"It ok. trans_route is in \")\n",
    "        \n",
    "    if not trans_vehicle in monitor.vehicle_to_id:\n",
    "        if not trans_vehicle.is_in_table(conn): \n",
    "            trans_vehicle.insert_in_table(conn)\n",
    "        monitor.reloadTransportVehicles()\n",
    "        if verbose > 0: \n",
    "            print(\"New trans_vehicle inserted in DB\" )\n",
    "        if not trans_vehicle.is_in_table(conn): \n",
    "            raise ValueError()\n",
    "    else : \n",
    "        if verbose > 0: \n",
    "            print(\"It ok. trans_vehicle is in \")\n",
    "        \n",
    "    trans_vehicle.update_id_from_table(conn)\n",
    "    trans_AVLData.vehicleId = trans_vehicle.id\n",
    "    \n",
    "    if not trans_AVLData.is_in_table(conn): \n",
    "        trans_AVLData.insert_in_table(conn)\n",
    "        if verbose > 0: \n",
    "            print(\"trans_AVLData inserted in DB\")\n",
    "    else : \n",
    "        if verbose > 0: \n",
    "            print(\"trans_AVLData is already in DB\")\n",
    "    "
   ]
  },
  {
   "cell_type": "code",
   "execution_count": 8,
   "id": "ae63da8f-f60b-49ab-aef5-c74aec3508d0",
   "metadata": {},
   "outputs": [],
   "source": [
    "conn = psycopg2.connect(\n",
    "    host=os.environ['RDS_HOSTNAME'],\n",
    "    database=\"pteta_db\",\n",
    "    user=\"postgres\",\n",
    "    password=os.environ['RDS_PTETA_DB_PASSWORD'])"
   ]
  },
  {
   "cell_type": "code",
   "execution_count": 9,
   "id": "bc59baeb-f88d-46b3-a3be-5477a9a9b5fd",
   "metadata": {},
   "outputs": [
    {
     "data": {
      "text/plain": [
       "TransportAVLData(lat=48.265935, lng=25.98969, speed='000.0', orientation='000.00', gpstime='2022-12-04 01:22:07', inDepo=True, vehicleId=None, response_datetime=datetime.datetime(2022, 12, 4, 0, 23, 13, 561571, tzinfo=<UTC>))"
      ]
     },
     "execution_count": 9,
     "metadata": {},
     "output_type": "execute_result"
    }
   ],
   "source": [
    "decompose(req[0])[3]"
   ]
  },
  {
   "cell_type": "code",
   "execution_count": null,
   "id": "31b42a19-0ca0-4108-b359-ba18a0bc2a08",
   "metadata": {},
   "outputs": [],
   "source": []
  },
  {
   "cell_type": "code",
   "execution_count": 12,
   "id": "2c5e13c9-6d63-4cc6-a4af-0d54be7ed5d9",
   "metadata": {},
   "outputs": [],
   "source": [
    "# len([decompose(r)[-1] for r in req \n",
    "#      if decompose(r)[-1].imei not in set([k.imei for k in monitor.vehicle_to_id.keys() ])])"
   ]
  },
  {
   "cell_type": "markdown",
   "id": "9e0412a8-0526-4ee0-bf01-e0beb12d6394",
   "metadata": {},
   "source": [
    "compare by TransportVehicle\n",
    "42 not in DB\n",
    "55 in DB \n",
    "\n",
    "compare by imei\n",
    "18 not in DB\n",
    "79 in DB "
   ]
  },
  {
   "cell_type": "code",
   "execution_count": 39,
   "id": "755f6ac2-8af6-4e72-8a02-21749176a5d7",
   "metadata": {},
   "outputs": [
    {
     "data": {
      "text/plain": [
       "TransportVehicle(id=None, imei='355227046507810', name='A199', busNumber='0359', remark='0359 DNSNK', perevId=13, routeId=11)"
      ]
     },
     "execution_count": 39,
     "metadata": {},
     "output_type": "execute_result"
    }
   ],
   "source": [
    "decompose(req[0])[-1]"
   ]
  },
  {
   "cell_type": "code",
   "execution_count": 23,
   "id": "cbe3578f-3a34-4e44-a5b3-5f290ebb2c41",
   "metadata": {
    "tags": []
   },
   "outputs": [
    {
     "name": "stderr",
     "output_type": "stream",
     "text": [
      "97it [00:14,  6.90it/s]\n"
     ]
    }
   ],
   "source": [
    "for i, row in tqdm(enumerate(req)): \n",
    "#     print(f\"{i})\")\n",
    "    write_to_DB(conn, row)\n",
    "#     print(f\"{'='*20}\\n\")"
   ]
  },
  {
   "cell_type": "code",
   "execution_count": 22,
   "id": "c8df9f54",
   "metadata": {},
   "outputs": [
    {
     "data": {
      "text/plain": [
       "100"
      ]
     },
     "execution_count": 22,
     "metadata": {},
     "output_type": "execute_result"
    }
   ],
   "source": [
    "trans_vehicle_list = [decompose(row)[2] for row in req]\n",
    "len(trans_vehicle_list)"
   ]
  },
  {
   "cell_type": "code",
   "execution_count": 27,
   "id": "b60af074-a8a2-428d-afc6-887dc459d74f",
   "metadata": {},
   "outputs": [],
   "source": [
    "# trans_AVLData_list"
   ]
  },
  {
   "cell_type": "code",
   "execution_count": 41,
   "id": "2410bff0",
   "metadata": {},
   "outputs": [
    {
     "data": {
      "text/plain": [
       "149"
      ]
     },
     "execution_count": 41,
     "metadata": {},
     "output_type": "execute_result"
    }
   ],
   "source": [
    "monitor.vehicle_to_id[decompose(req[0])[-1]]\n",
    "# [decompose(req[2])[-1]]"
   ]
  },
  {
   "cell_type": "code",
   "execution_count": 39,
   "id": "c0b13ba0-6b04-40f2-9bf6-299930480489",
   "metadata": {},
   "outputs": [
    {
     "name": "stdout",
     "output_type": "stream",
     "text": [
      "7.12 s ± 766 ms per loop (mean ± std. dev. of 7 runs, 1 loop each)\n"
     ]
    }
   ],
   "source": [
    "%%timeit\n",
    "a = [t.is_in_table(conn) for t in trans_vehicle_list]"
   ]
  },
  {
   "cell_type": "code",
   "execution_count": 70,
   "id": "7962a53d-4491-4335-8219-3badba381963",
   "metadata": {},
   "outputs": [],
   "source": [
    "conn.rollback()"
   ]
  },
  {
   "cell_type": "code",
   "execution_count": 45,
   "id": "656c313d-e60c-44fe-b9f7-7df2ac28af09",
   "metadata": {
    "tags": []
   },
   "outputs": [],
   "source": [
    "SQL_big_req = \" \".join([create_sql_req(t) for t in trans_vehicle_list])"
   ]
  },
  {
   "cell_type": "code",
   "execution_count": 13,
   "id": "16cd9f5e-0f22-4c03-b6a2-007dfc75471b",
   "metadata": {},
   "outputs": [
    {
     "data": {
      "text/plain": [
       "33"
      ]
     },
     "execution_count": 13,
     "metadata": {},
     "output_type": "execute_result"
    }
   ],
   "source": [
    "route_list = TransportRoute.get_table(conn)[:]\n",
    "len(route_list)"
   ]
  },
  {
   "cell_type": "code",
   "execution_count": null,
   "id": "7428fc49-320f-4feb-a57c-02b1f79029f6",
   "metadata": {},
   "outputs": [],
   "source": []
  },
  {
   "cell_type": "code",
   "execution_count": 24,
   "id": "0f9ef9ba-f90c-4806-b6ca-49dda6af4a99",
   "metadata": {},
   "outputs": [
    {
     "name": "stdout",
     "output_type": "stream",
     "text": [
      "2.36 s ± 389 ms per loop (mean ± std. dev. of 7 runs, 1 loop each)\n"
     ]
    }
   ],
   "source": [
    "%%timeit\n",
    "[r.is_in_table(conn) for r in route_list]"
   ]
  },
  {
   "cell_type": "code",
   "execution_count": 14,
   "id": "826bf42c-fff3-4b35-9304-334f94a75c35",
   "metadata": {},
   "outputs": [
    {
     "name": "stdout",
     "output_type": "stream",
     "text": [
      "66.7 ms ± 5.75 ms per loop (mean ± std. dev. of 7 runs, 10 loops each)\n"
     ]
    }
   ],
   "source": [
    "%%timeit\n",
    "TransportRoute.is_set_in_table(conn, route_list)"
   ]
  },
  {
   "cell_type": "code",
   "execution_count": 18,
   "id": "703e8efe-7133-46a1-a6a1-2a2a37d93fe5",
   "metadata": {},
   "outputs": [],
   "source": [
    "# for r in route_list[::2]: \n",
    "#     r.id += 1\n",
    "# TransportRoute.are_in_table(conn, route_list)"
   ]
  },
  {
   "cell_type": "code",
   "execution_count": 19,
   "id": "d7a52b7b-5720-4b93-ab34-36c661fd52c8",
   "metadata": {},
   "outputs": [],
   "source": [
    "# TransportRoute.are_in_table(conn, route_list)"
   ]
  },
  {
   "cell_type": "code",
   "execution_count": 14,
   "id": "12a3eb91-8eda-470e-b985-4d5109cb424d",
   "metadata": {},
   "outputs": [],
   "source": [
    "for r in route_list: \n",
    "    r.name += \"_\"\n",
    "    r.id += 100"
   ]
  },
  {
   "cell_type": "code",
   "execution_count": 16,
   "id": "b0b4c455-15fa-4939-a6df-6012fad411fd",
   "metadata": {},
   "outputs": [],
   "source": [
    "# sql = f\"\"\"INSERT INTO pteta.route(\"id\", \"routeName\", \"routeColour\") VALUES \"\"\" + \\\n",
    "#               \", \".join([f\"\"\"({obj.id}, '{obj.name}', '{obj.colour}')\"\"\"\n",
    "#                         for obj in route_list]) + \";\"\n",
    "# sql"
   ]
  },
  {
   "cell_type": "code",
   "execution_count": 17,
   "id": "9054b72a-afb6-4087-a95a-21c876e097ff",
   "metadata": {},
   "outputs": [],
   "source": [
    "# route_list"
   ]
  },
  {
   "cell_type": "code",
   "execution_count": 18,
   "id": "77dd36c5-49ad-4a86-9de9-5282adf24302",
   "metadata": {},
   "outputs": [],
   "source": [
    "TransportRoute.insert_many_in_table(conn, route_list)"
   ]
  },
  {
   "cell_type": "code",
   "execution_count": null,
   "id": "3dd59c3b-6a83-466c-b8f2-cce11a645f0b",
   "metadata": {},
   "outputs": [],
   "source": []
  },
  {
   "cell_type": "markdown",
   "id": "e38b678e-784c-45d1-89cb-4d9d3ae77d45",
   "metadata": {},
   "source": [
    "## Test TransportVehicle"
   ]
  },
  {
   "cell_type": "code",
   "execution_count": 11,
   "id": "0a278005-dc97-4114-af59-483e17bf6999",
   "metadata": {},
   "outputs": [
    {
     "data": {
      "text/plain": [
       "201"
      ]
     },
     "execution_count": 11,
     "metadata": {},
     "output_type": "execute_result"
    }
   ],
   "source": [
    "vehicle_list = TransportVehicle.get_table(conn)\n",
    "len(vehicle_list)"
   ]
  },
  {
   "cell_type": "code",
   "execution_count": 16,
   "id": "3d5e7733-09f4-4ae0-a3b3-c62900a8dc58",
   "metadata": {},
   "outputs": [
    {
     "data": {
      "text/plain": [
       "False"
      ]
     },
     "execution_count": 16,
     "metadata": {},
     "output_type": "execute_result"
    }
   ],
   "source": [
    "obj = vehicle_list[0]\n",
    "obj.imei += \"-\"\n",
    "obj.is_in_table(conn)"
   ]
  },
  {
   "cell_type": "code",
   "execution_count": 17,
   "id": "559b9fed-8920-465e-b4f5-d72494018ac5",
   "metadata": {},
   "outputs": [
    {
     "name": "stdout",
     "output_type": "stream",
     "text": [
      "14.4 s ± 1.81 s per loop (mean ± std. dev. of 7 runs, 1 loop each)\n"
     ]
    }
   ],
   "source": [
    "%%timeit\n",
    "[r.is_in_table(conn) for r in vehicle_list]"
   ]
  },
  {
   "cell_type": "code",
   "execution_count": 20,
   "id": "f224ffff-f216-445b-888b-f2695ed80c7f",
   "metadata": {},
   "outputs": [
    {
     "name": "stdout",
     "output_type": "stream",
     "text": [
      "99.8 ms ± 36.2 ms per loop (mean ± std. dev. of 7 runs, 1 loop each)\n"
     ]
    }
   ],
   "source": [
    "%%timeit\n",
    "TransportVehicle.are_in_table(conn, vehicle_list)"
   ]
  },
  {
   "cell_type": "code",
   "execution_count": 23,
   "id": "f86d2d1d-28a9-4816-a7ea-baa88203843c",
   "metadata": {},
   "outputs": [],
   "source": [
    "# TransportVehicle.are_in_table(conn, vehicle_list)"
   ]
  },
  {
   "cell_type": "code",
   "execution_count": 24,
   "id": "a11b58a2-7892-4241-a803-f5cd21114ec6",
   "metadata": {},
   "outputs": [
    {
     "data": {
      "text/plain": [
       "TransportVehicle(id=222, imei='355227045600830-', name='A178', busNumber='310', remark='Тролейбус 310 DNSNK', perevId=6, routeId=37)"
      ]
     },
     "execution_count": 24,
     "metadata": {},
     "output_type": "execute_result"
    }
   ],
   "source": [
    "obj"
   ]
  },
  {
   "cell_type": "code",
   "execution_count": 31,
   "id": "2a0af8f2-07a4-4991-8bd7-3bdfeb81b952",
   "metadata": {},
   "outputs": [],
   "source": [
    "obj.insert_in_table(conn)\n",
    "obj.is_in_table(conn)"
   ]
  },
  {
   "cell_type": "code",
   "execution_count": 10,
   "id": "04400c12-3466-4c91-b027-93be01673c03",
   "metadata": {},
   "outputs": [
    {
     "name": "stdout",
     "output_type": "stream",
     "text": [
      "INSERT INTO pteta.vehicle(\"imei\", \"name\", \"busNumber\", \"remark\", \"perevId\", \"routeId\") VALUES('355227045600830', 'A178', '310', 'Тролейбус 310 DNSNK', 6,  37), ('355227046451662', 'H76', '350', 'Тролейбус 350 DNSNTNK', 6,  31), ('355227045369527', 'A6', '3557', '3557 DNSNK ', 12,  21), ('355227045540176', 'A83', '5150', ' 5150 DNS', 7,  41), ('355227046453387', 'H75', '3627', '3627 DNSNTNK', 1,  20), ('355228042084283', 'A207', '1032', '1032 DNSNK', 13,  42), ('355227045371655', 'A1', '6513', '6513 DNSNK', 7,  23), ('355227046451407', 'H68', '0855', '0855 DNSNTNK', 13,  42), ('355227046578332', 'A189', '6518', '6518 DNSNK ', 7,  19), ('355228043199379', 'H99', '1176', '1176 DNSNTNK', 12,  21);\n"
     ]
    }
   ],
   "source": [
    "TransportVehicle.insert_many_in_table(conn, vehicle_list[:10])"
   ]
  },
  {
   "cell_type": "code",
   "execution_count": 14,
   "id": "82a79e2d-325a-4dd6-82ef-e213a1f80469",
   "metadata": {},
   "outputs": [
    {
     "name": "stdout",
     "output_type": "stream",
     "text": [
      "TransportVehicle(id=None, imei='355227045600830', name='A178', busNumber='310', remark='Тролейбус 310 DNSNK', perevId=6, routeId=37)\n",
      "TransportVehicle(id=1, imei='355227045600830', name='A178', busNumber='310', remark='Тролейбус 310 DNSNK', perevId=6, routeId=37)\n"
     ]
    }
   ],
   "source": [
    "vehicle_list[0].id = None\n",
    "print(vehicle_list[0])\n",
    "vehicle_list[0].update_id_from_table(conn)\n",
    "print(vehicle_list[0])"
   ]
  },
  {
   "cell_type": "code",
   "execution_count": 34,
   "id": "9e1c1879-1060-45ac-ad9d-18991161f2f2",
   "metadata": {},
   "outputs": [
    {
     "data": {
      "text/plain": [
       "[TransportVehicle(id=222, imei='355227045600830-__', name='A178', busNumber='310', remark='Тролейбус 310 DNSNK', perevId=6, routeId=37),\n",
       " TransportVehicle(id=2, imei='355227046451662__', name='H76', busNumber='350', remark='Тролейбус 350 DNSNTNK', perevId=6, routeId=31),\n",
       " TransportVehicle(id=3, imei='355227045369527__', name='A6', busNumber='3557', remark='3557 DNSNK ', perevId=12, routeId=21),\n",
       " TransportVehicle(id=4, imei='355227045540176__', name='A83', busNumber='5150', remark=' 5150 DNS', perevId=7, routeId=41),\n",
       " TransportVehicle(id=5, imei='355227046453387__', name='H75', busNumber='3627', remark='3627 DNSNTNK', perevId=1, routeId=20),\n",
       " TransportVehicle(id=6, imei='355228042084283__', name='A207', busNumber='1032', remark='1032 DNSNK', perevId=13, routeId=42),\n",
       " TransportVehicle(id=7, imei='355227045371655__', name='A1', busNumber='6513', remark='6513 DNSNK', perevId=7, routeId=23),\n",
       " TransportVehicle(id=8, imei='355227046451407__', name='H68', busNumber='0855', remark='0855 DNSNTNK', perevId=13, routeId=42),\n",
       " TransportVehicle(id=9, imei='355227046578332__', name='A189', busNumber='6518', remark='6518 DNSNK ', perevId=7, routeId=19),\n",
       " TransportVehicle(id=10, imei='355228043199379__', name='H99', busNumber='1176', remark='1176 DNSNTNK', perevId=12, routeId=21),\n",
       " TransportVehicle(id=11, imei='355227046504098', name='A195', busNumber='0854', remark='0854 DNSNK', perevId=13, routeId=42),\n",
       " TransportVehicle(id=12, imei='355227046504098', name='A195', busNumber='0854', remark='0854 DNSNK', perevId=13, routeId=11),\n",
       " TransportVehicle(id=13, imei='355227046451027', name='H24', busNumber='0738', remark='0738 DNSNTNK', perevId=1, routeId=2)]"
      ]
     },
     "execution_count": 34,
     "metadata": {},
     "output_type": "execute_result"
    }
   ],
   "source": [
    "for v in vehicle_list[:10]: \n",
    "    v.imei += '__'\n",
    "\n",
    "vehicle_list[:13]"
   ]
  }
 ],
 "metadata": {
  "kernelspec": {
   "display_name": "Python 3",
   "language": "python",
   "name": "python3"
  },
  "language_info": {
   "codemirror_mode": {
    "name": "ipython",
    "version": 3
   },
   "file_extension": ".py",
   "mimetype": "text/x-python",
   "name": "python",
   "nbconvert_exporter": "python",
   "pygments_lexer": "ipython3",
   "version": "3.8.9"
  }
 },
 "nbformat": 4,
 "nbformat_minor": 5
}
