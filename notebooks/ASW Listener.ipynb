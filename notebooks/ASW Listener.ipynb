{
 "cells": [
  {
   "cell_type": "code",
   "execution_count": 7,
   "id": "fef48cae",
   "metadata": {},
   "outputs": [],
   "source": [
    "from datetime import datetime, timedelta\n",
    "import numpy as np\n",
    "from tqdm import tqdm\n",
    "from pathlib import Path\n",
    "import pandas as pd\n",
    "import os\n",
    "\n",
    "from collections import Counter"
   ]
  },
  {
   "cell_type": "markdown",
   "id": "94bac175-1fa1-49a2-8e10-a2b03a5d57c6",
   "metadata": {},
   "source": [
    "## Analyse data"
   ]
  },
  {
   "cell_type": "code",
   "execution_count": 17,
   "id": "569c1bce-bef2-4f20-a00a-7d84099a0584",
   "metadata": {},
   "outputs": [],
   "source": [
    "# df_sum = None\n",
    "# for df_path in tqdm(list(Path(\"../data/local/tables/\").iterdir())[-10:]):\n",
    "#     if df_sum is None: \n",
    "#         df_sum = pd.read_csv(df_path, encoding='utf-8', low_memory=False)\n",
    "#     else : \n",
    "#         df_sum.append(pd.read_csv(df_path, encoding='utf-8', low_memory=False))"
   ]
  },
  {
   "cell_type": "code",
   "execution_count": 3,
   "id": "f7a7201a-5dd4-476a-b655-167037e77718",
   "metadata": {
    "collapsed": true,
    "jupyter": {
     "outputs_hidden": true
    },
    "tags": []
   },
   "outputs": [
    {
     "ename": "NameError",
     "evalue": "name 'df_sum' is not defined",
     "output_type": "error",
     "traceback": [
      "\u001b[1;31m---------------------------------------------------------------------------\u001b[0m",
      "\u001b[1;31mNameError\u001b[0m                                 Traceback (most recent call last)",
      "\u001b[1;32m~\\AppData\\Local\\Temp\\ipykernel_13952\\728537235.py\u001b[0m in \u001b[0;36m<module>\u001b[1;34m\u001b[0m\n\u001b[1;32m----> 1\u001b[1;33m \u001b[0mdf_sum\u001b[0m\u001b[1;33m[\u001b[0m\u001b[0mdf_sum\u001b[0m\u001b[1;33m.\u001b[0m\u001b[0mduplicated\u001b[0m\u001b[1;33m(\u001b[0m\u001b[1;33m)\u001b[0m\u001b[1;33m]\u001b[0m\u001b[1;33m\u001b[0m\u001b[1;33m\u001b[0m\u001b[0m\n\u001b[0m",
      "\u001b[1;31mNameError\u001b[0m: name 'df_sum' is not defined"
     ]
    }
   ],
   "source": [
    "df_sum[df_sum.duplicated()]"
   ]
  },
  {
   "cell_type": "code",
   "execution_count": 4,
   "id": "5a4b636a-2581-4b70-ad80-b80b4d2f3db0",
   "metadata": {},
   "outputs": [],
   "source": [
    "from datetime import datetime, timedelta\n",
    "import pytz\n",
    "\n",
    "import json\n",
    "import requests\n",
    "import time\n",
    "\n",
    "from PTETA.utils.transport.TransportOperator import TransportOperator\n",
    "from PTETA.utils.transport.TransportRoute import TransportRoute\n",
    "from PTETA.utils.transport.TransportVehicle import TransportVehicle\n",
    "from PTETA.utils.transport.TransportAVLData import TransportAVLData\n",
    "from psycopg2.extensions import connection as Connection\n",
    "import psycopg2\n",
    "\n",
    "from apscheduler.schedulers.background import BackgroundScheduler\n",
    "from PTETA.utils.transport.BaseDBAccessDataclass import BaseDBAccessDataclass\n",
    "from typing import List, Union\n",
    "from PTETA.utils.transport.BaseDBAccessDataclass import BaseDBAccessDataclass"
   ]
  },
  {
   "cell_type": "code",
   "execution_count": 23,
   "id": "aea34913-9819-4186-a91e-7a7ec70d8f88",
   "metadata": {},
   "outputs": [],
   "source": [
    "response_prev = dict()\n",
    "\n",
    "try: \n",
    "    del TransGPSCVMonitor\n",
    "except: \n",
    "    pass\n",
    "\n",
    "class TransGPSCVMonitor:\n",
    "    db_connection: Connection = None\n",
    "\n",
    "    operator_to_id: dict = dict()\n",
    "    route_to_id: dict = dict()\n",
    "    vehicle_to_id: dict = dict()\n",
    "\n",
    "    objects_unique = {\n",
    "        TransportOperator: set(),\n",
    "        TransportRoute: set(),\n",
    "        TransportVehicle: set()\n",
    "    }\n",
    "\n",
    "    def __init__(self, connection_config: dict, **kwarg: dict) -> None:\n",
    "        self.db_connection = psycopg2.connect(**connection_config)\n",
    "\n",
    "        self.reload_operators()\n",
    "        self.reload_routes()\n",
    "        self.reload_vehicles()\n",
    "\n",
    "        self.datetime_format = '%Y-%m-%d %H:%M:%S'\n",
    "\n",
    "        self.REQUEST_URI = \\\n",
    "            kwarg.get('REQUEST_URI', 'http://www.trans-gps.cv.ua/map/tracker/?selectedRoutesStr=')\n",
    "        self.START_DATE = \\\n",
    "            kwarg.get('START_DATE', (datetime.now() - timedelta(days=1)).strftime(self.datetime_format))\n",
    "        self.END_DATE = \\\n",
    "            kwarg.get('END_DATE', (datetime.now() + timedelta(days=30)).strftime(self.datetime_format))\n",
    "        self.REQ_TIME_DELTA = kwarg.get('REQ_TIME_DELTA', 1.1)\n",
    "\n",
    "    def reload_operators(self):\n",
    "        operator_list = TransportOperator.get_table(self.db_connection)\n",
    "        self.objects_unique[TransportOperator] = set(operator_list)\n",
    "        self.operator_to_id = dict({operator: operator.id for operator in operator_list})\n",
    "\n",
    "    def reload_routes(self):\n",
    "        route_list = TransportRoute.get_table(self.db_connection)\n",
    "        self.objects_unique[TransportRoute] = set(route_list)\n",
    "        self.route_to_id = dict({route: route.id for route in route_list})\n",
    "\n",
    "    def reload_vehicles(self):\n",
    "        vehicle_list = TransportVehicle.get_table(self.db_connection)\n",
    "        self.objects_unique[TransportVehicle] = set(vehicle_list)\n",
    "        self.vehicle_to_id = dict({vehicle: vehicle.id for vehicle in vehicle_list})\n",
    "\n",
    "    @classmethod\n",
    "    def request_data(cls, request_uri='http://www.trans-gps.cv.ua/map/tracker/?selectedRoutesStr='):\n",
    "        dt_now = datetime.now()\n",
    "        dt_tz_now = datetime.utcnow().replace(tzinfo=pytz.utc)\n",
    "\n",
    "        try:\n",
    "            request = requests.get(request_uri)\n",
    "            if (request is None) or (request.text is None):\n",
    "                return\n",
    "            response_cur = json.loads(request.text)\n",
    "\n",
    "            global response_prev\n",
    "\n",
    "            keys_prev = set(response_prev.keys())\n",
    "            keys_cur = set(response_cur.keys())\n",
    "\n",
    "            optimized_data_list = list()\n",
    "            for imei in keys_prev.intersection(keys_cur):\n",
    "                if response_prev[imei]['gpstime'] != response_cur[imei]['gpstime']:\n",
    "                    response_cur[imei]['response_datetime'] = dt_tz_now\n",
    "                    optimized_data_list += [response_cur[imei]]\n",
    "\n",
    "            for imei in keys_cur.difference(keys_prev):\n",
    "                response_cur[imei]['response_datetime'] = dt_tz_now\n",
    "                optimized_data_list += [response_cur[imei]]\n",
    "\n",
    "            response_prev = response_cur\n",
    "        except (requests.Timeout, requests.ConnectionError, requests.HTTPError) as err:\n",
    "            print(f\"{dt_now.strftime('%Y-%m-%d %H;%M;%S')} : error while trying to GET data\\n\"\n",
    "                  f\"\\t{err}\\n\")\n",
    "\n",
    "        #         print(dt_now.strftime('%Y-%m-%d %H;%M;%S'), len(optimized_data_list))\n",
    "        return optimized_data_list\n",
    "\n",
    "    def get_new_objs(self, obj_list: List[BaseDBAccessDataclass]) -> List[BaseDBAccessDataclass]:\n",
    "        unique_obj_list = list(set(obj_list))\n",
    "        return [obj for obj in unique_obj_list\n",
    "                if obj not in self.objects_unique[obj.__class__]]\n",
    "\n",
    "    def update_db(self, obj_list: List[BaseDBAccessDataclass]):\n",
    "        current_class = obj_list[0].__class__\n",
    "        are_in_db_list = current_class.are_in_table(self.db_connection, obj_list)\n",
    "\n",
    "        obj_to_insert = [obj\n",
    "                         for obj, is_in in zip(obj_list, are_in_db_list)\n",
    "                         if not is_in]\n",
    "\n",
    "        current_class.insert_many_in_table(self.db_connection, obj_to_insert)\n",
    "\n",
    "    @classmethod\n",
    "    def decompose_response(cls, response: List[dict]) -> Union:\n",
    "        operator_list, route_list = list(), list()\n",
    "        vehicle_list, avl_data_list = list(), list()\n",
    "\n",
    "        for row in response:\n",
    "            operator_list.append(TransportOperator.from_response_row(row))\n",
    "            route_list.append(TransportRoute.from_response_row(row))\n",
    "            vehicle_list.append(TransportVehicle.from_response_row(row))\n",
    "            avl_data_list.append(TransportAVLData.from_response_row(row))\n",
    "\n",
    "        return operator_list, route_list, vehicle_list, avl_data_list\n",
    "\n",
    "    def write_to_db(self, response):\n",
    "        operator_list, route_list, vehicle_list, avl_data_list = self.decompose_response(response)\n",
    "\n",
    "        for obj_list in [operator_list, route_list, vehicle_list]:\n",
    "            new_obj = self.get_new_objs(obj_list)\n",
    "            if new_obj:\n",
    "                print(f\"There are {len(new_obj)} new {new_obj[0].__class__} to inserted in DB\")\n",
    "                self.update_db(new_obj)\n",
    "                if isinstance(new_obj[0], TransportOperator):\n",
    "                    self.reload_operators()\n",
    "                elif isinstance(new_obj[0], TransportRoute):\n",
    "                    self.reload_routes()\n",
    "                elif isinstance(new_obj[0], TransportVehicle):\n",
    "                    self.reload_vehicles()\n",
    "\n",
    "        for i, vehicle in enumerate(vehicle_list):\n",
    "            avl_data_list[i].vehicleId = self.vehicle_to_id[vehicle]\n",
    "\n",
    "        TransportAVLData.insert_many_in_table(self.db_connection, avl_data_list)\n",
    "\n",
    "    def run(self):\n",
    "        scheduler = BackgroundScheduler(job_defaults={'max_instances': 8})\n",
    "        scheduler.add_job(\n",
    "            self.request_data,\n",
    "            'interval',\n",
    "            seconds=self.REQ_TIME_DELTA,\n",
    "            end_date=self.END_DATE,\n",
    "            id='listener')\n",
    "\n",
    "        scheduler.start()\n",
    "\n",
    "        try:\n",
    "            print('Scheduler started!')\n",
    "            while 1:\n",
    "                time.sleep(10)\n",
    "                print(datetime.now())\n",
    "        except KeyboardInterrupt:\n",
    "            if scheduler.state:\n",
    "                scheduler.shutdown()"
   ]
  },
  {
   "cell_type": "code",
   "execution_count": 24,
   "id": "c1975bbf-0e55-4e61-a24b-9eaee9215431",
   "metadata": {},
   "outputs": [
    {
     "data": {
      "text/plain": [
       "88"
      ]
     },
     "execution_count": 24,
     "metadata": {},
     "output_type": "execute_result"
    }
   ],
   "source": [
    "connection_config= dict({\n",
    "    'host': os.environ['RDS_HOSTNAME'],\n",
    "    'database': \"pteta_db\",\n",
    "    'user': \"postgres\",\n",
    "    'password': os.environ['RDS_PTETA_DB_PASSWORD']\n",
    "})\n",
    "\n",
    "monitor = TransGPSCVMonitor(connection_config)\n",
    "\n",
    "req = monitor.request_data()\n",
    "len(req)"
   ]
  },
  {
   "cell_type": "code",
   "execution_count": null,
   "id": "90187867-5646-4644-828d-6397a8c4ce75",
   "metadata": {},
   "outputs": [],
   "source": [
    "ti\n",
    "# monitor.write_to_db"
   ]
  },
  {
   "cell_type": "code",
   "execution_count": 27,
   "id": "a5749e0a-c95b-40f7-95bc-572e3a8497d3",
   "metadata": {},
   "outputs": [
    {
     "name": "stdout",
     "output_type": "stream",
     "text": [
      "127.979\n"
     ]
    }
   ],
   "source": [
    "import time\n",
    " \n",
    "t1_start = time.perf_counter()\n",
    " \n",
    "    \n",
    "monitor.write_to_db(req)\n",
    "\n",
    "t1_stop = time.perf_counter()\n",
    "print(f\"{(t1_stop-t1_start)*1_000:.3f}\")"
   ]
  },
  {
   "cell_type": "code",
   "execution_count": 18,
   "id": "20cf71ec-c1c7-4f13-b51a-690982a33aba",
   "metadata": {},
   "outputs": [
    {
     "data": {
      "text/plain": [
       "190"
      ]
     },
     "execution_count": 18,
     "metadata": {},
     "output_type": "execute_result"
    }
   ],
   "source": [
    "len(monitor.vehicle_to_id)"
   ]
  },
  {
   "cell_type": "code",
   "execution_count": 20,
   "id": "345e8c6d-f9d1-4f5b-9b36-ceff487bbf7a",
   "metadata": {},
   "outputs": [
    {
     "data": {
      "text/plain": [
       "203"
      ]
     },
     "execution_count": 20,
     "metadata": {},
     "output_type": "execute_result"
    }
   ],
   "source": [
    "len(TransportVehicle.get_table(conn))"
   ]
  },
  {
   "cell_type": "code",
   "execution_count": 12,
   "id": "2410bff0",
   "metadata": {},
   "outputs": [],
   "source": [
    "conn = psycopg2.connect(\n",
    "    host=os.environ['RDS_HOSTNAME'],\n",
    "    database=\"pteta_db\",\n",
    "    user=\"postgres\",\n",
    "    password=os.environ['RDS_PTETA_DB_PASSWORD'])"
   ]
  },
  {
   "cell_type": "code",
   "execution_count": 40,
   "id": "679e4557-40b6-4dd5-a7db-df9c98177a0f",
   "metadata": {},
   "outputs": [],
   "source": [
    "# operator_list, route_list, vehicle_list, avl_data_list\n",
    "dto_lists = decompose_response(req)"
   ]
  },
  {
   "cell_type": "code",
   "execution_count": null,
   "id": "98c5bcb4-2782-49fb-b6ea-21d34a8b797f",
   "metadata": {},
   "outputs": [],
   "source": [
    "monitor.operator_to_id"
   ]
  },
  {
   "cell_type": "code",
   "execution_count": 52,
   "id": "95bfcccd-fcbf-4f05-97eb-a08bfe5104d9",
   "metadata": {},
   "outputs": [
    {
     "data": {
      "text/plain": [
       "{1}"
      ]
     },
     "execution_count": 52,
     "metadata": {},
     "output_type": "execute_result"
    }
   ],
   "source": [
    "set([1, 2, 4]).difference([2, 3, 4])"
   ]
  },
  {
   "cell_type": "code",
   "execution_count": 56,
   "id": "17bb04f1-7520-4db1-b72c-829a28a4435b",
   "metadata": {},
   "outputs": [],
   "source": [
    "dto_lists[0].append(TransportOperator(100, name='noname'))"
   ]
  },
  {
   "cell_type": "code",
   "execution_count": 60,
   "id": "72d4907e-25a9-409f-b056-1bfc8eef79f2",
   "metadata": {},
   "outputs": [],
   "source": [
    "dto_lists[1].append(TransportRoute(23, name='19-', colour='teal---'))"
   ]
  },
  {
   "cell_type": "code",
   "execution_count": 65,
   "id": "655806b6-0d19-482c-8c0c-e6d385ec4fc0",
   "metadata": {},
   "outputs": [],
   "source": [
    "# dto_lists[2].append(\n",
    "#     TransportVehicle(id=None, imei='355227045371655', name='A1', busNumber='6513', remark='6513 DNSNK', perevId=7, routeId=23))"
   ]
  },
  {
   "cell_type": "code",
   "execution_count": null,
   "id": "b2e1019c-ee9d-445f-82c4-bd11764b9420",
   "metadata": {},
   "outputs": [],
   "source": []
  },
  {
   "cell_type": "code",
   "execution_count": 66,
   "id": "9c2f75ec-5c7a-4ce5-b3c6-47cf8d6b5b39",
   "metadata": {},
   "outputs": [
    {
     "data": {
      "text/plain": [
       "{TransportVehicle(id=None, imei='355227044854750', name='A22', busNumber='7665', remark='7665 DNSNK', perevId=1, routeId=20),\n",
       " TransportVehicle(id=None, imei='355227045369527', name='A6', busNumber='3557', remark='3557 DNSNK ', perevId=12, routeId=45),\n",
       " TransportVehicle(id=None, imei='355227045541257', name='A57', busNumber='9043', remark='0325 DNSNK', perevId=2, routeId=5),\n",
       " TransportVehicle(id=None, imei='355227045598570', name='А107', busNumber='1125', remark='1125 DNSNK', perevId=2, routeId=12),\n",
       " TransportVehicle(id=None, imei='355227046299129', name='A186', busNumber='389', remark='Тролейбус 389 DNSNK', perevId=6, routeId=37),\n",
       " TransportVehicle(id=None, imei='355227046313847', name='A184', busNumber='387', remark=' тролейбус 387 DNSNK', perevId=6, routeId=31),\n",
       " TransportVehicle(id=None, imei='355227046450953', name='H26', busNumber='0443', remark='0443 DNSNTNK', perevId=2, routeId=5),\n",
       " TransportVehicle(id=None, imei='355227046450961', name='H21', busNumber='2058', remark='2058 DNSNTNK', perevId=1, routeId=7),\n",
       " TransportVehicle(id=None, imei='355227046451019', name='H30', busNumber='275', remark='Тролейбус 275 DNSNTNK', perevId=6, routeId=33),\n",
       " TransportVehicle(id=None, imei='355227046451027', name='H24', busNumber='0738', remark='0738 DNSNTNK', perevId=1, routeId=20)}"
      ]
     },
     "execution_count": 66,
     "metadata": {},
     "output_type": "execute_result"
    }
   ],
   "source": [
    "# set(dto_lists[0]).difference(monitor.operator_set)\n",
    "# set(dto_lists[1]).difference(monitor.route_set)\n",
    "set(dto_lists[2]).difference(monitor.vehicle_set)\n",
    "\n",
    "\n",
    "\n",
    "# resp_operator_set = set(operator_list)\n",
    "#     monitor.operator_set"
   ]
  },
  {
   "cell_type": "code",
   "execution_count": 35,
   "id": "4a3fa83c-a437-4cdc-9fdd-f50c1a70cb7c",
   "metadata": {},
   "outputs": [
    {
     "data": {
      "text/plain": [
       "'Віталій / Олег Бойко '"
      ]
     },
     "execution_count": 35,
     "metadata": {},
     "output_type": "execute_result"
    }
   ],
   "source": [
    "req[0]['perevName']"
   ]
  },
  {
   "cell_type": "code",
   "execution_count": null,
   "id": "f1664564-2a82-4f97-9865-cc32c325bf4a",
   "metadata": {},
   "outputs": [],
   "source": [
    "TransportOperator(req[0]['perevId'], req[0]['perevName'])"
   ]
  },
  {
   "cell_type": "markdown",
   "id": "803d0232-1878-42cd-abff-897330bca1eb",
   "metadata": {},
   "source": [
    "## TransportRoute"
   ]
  },
  {
   "cell_type": "code",
   "execution_count": 70,
   "id": "7962a53d-4491-4335-8219-3badba381963",
   "metadata": {},
   "outputs": [],
   "source": [
    "conn.rollback()"
   ]
  },
  {
   "cell_type": "code",
   "execution_count": 45,
   "id": "656c313d-e60c-44fe-b9f7-7df2ac28af09",
   "metadata": {
    "tags": []
   },
   "outputs": [],
   "source": [
    "SQL_big_req = \" \".join([create_sql_req(t) for t in trans_vehicle_list])"
   ]
  },
  {
   "cell_type": "code",
   "execution_count": 13,
   "id": "16cd9f5e-0f22-4c03-b6a2-007dfc75471b",
   "metadata": {},
   "outputs": [
    {
     "data": {
      "text/plain": [
       "33"
      ]
     },
     "execution_count": 13,
     "metadata": {},
     "output_type": "execute_result"
    }
   ],
   "source": [
    "route_list = TransportRoute.get_table(conn)[:]\n",
    "len(route_list)"
   ]
  },
  {
   "cell_type": "code",
   "execution_count": 18,
   "id": "703e8efe-7133-46a1-a6a1-2a2a37d93fe5",
   "metadata": {},
   "outputs": [],
   "source": [
    "# for r in route_list[::2]: \n",
    "#     r.id += 1\n",
    "# TransportRoute.are_in_table(conn, route_list)"
   ]
  },
  {
   "cell_type": "code",
   "execution_count": 19,
   "id": "d7a52b7b-5720-4b93-ab34-36c661fd52c8",
   "metadata": {},
   "outputs": [],
   "source": [
    "# TransportRoute.are_in_table(conn, route_list)"
   ]
  },
  {
   "cell_type": "code",
   "execution_count": 14,
   "id": "12a3eb91-8eda-470e-b985-4d5109cb424d",
   "metadata": {},
   "outputs": [],
   "source": [
    "for r in route_list: \n",
    "    r.name += \"_\"\n",
    "    r.id += 100"
   ]
  },
  {
   "cell_type": "code",
   "execution_count": 16,
   "id": "b0b4c455-15fa-4939-a6df-6012fad411fd",
   "metadata": {},
   "outputs": [],
   "source": [
    "# sql = f\"\"\"INSERT INTO pteta.route(\"id\", \"routeName\", \"routeColour\") VALUES \"\"\" + \\\n",
    "#               \", \".join([f\"\"\"({obj.id}, '{obj.name}', '{obj.colour}')\"\"\"\n",
    "#                         for obj in route_list]) + \";\"\n",
    "# sql"
   ]
  },
  {
   "cell_type": "code",
   "execution_count": 17,
   "id": "9054b72a-afb6-4087-a95a-21c876e097ff",
   "metadata": {},
   "outputs": [],
   "source": [
    "# route_list"
   ]
  },
  {
   "cell_type": "code",
   "execution_count": 18,
   "id": "77dd36c5-49ad-4a86-9de9-5282adf24302",
   "metadata": {},
   "outputs": [],
   "source": [
    "TransportRoute.insert_many_in_table(conn, route_list)"
   ]
  },
  {
   "cell_type": "code",
   "execution_count": null,
   "id": "3dd59c3b-6a83-466c-b8f2-cce11a645f0b",
   "metadata": {},
   "outputs": [],
   "source": []
  },
  {
   "cell_type": "markdown",
   "id": "e38b678e-784c-45d1-89cb-4d9d3ae77d45",
   "metadata": {},
   "source": [
    "## Test TransportVehicle"
   ]
  },
  {
   "cell_type": "code",
   "execution_count": 8,
   "id": "0a278005-dc97-4114-af59-483e17bf6999",
   "metadata": {},
   "outputs": [
    {
     "data": {
      "text/plain": [
       "190"
      ]
     },
     "execution_count": 8,
     "metadata": {},
     "output_type": "execute_result"
    }
   ],
   "source": [
    "vehicle_list = TransportVehicle.get_table(conn)\n",
    "len(vehicle_list)"
   ]
  },
  {
   "cell_type": "code",
   "execution_count": 10,
   "id": "37989ed4-30f7-4b97-8258-6be17ba1e290",
   "metadata": {},
   "outputs": [
    {
     "data": {
      "text/plain": [
       "[True, True, True, True, True]"
      ]
     },
     "execution_count": 10,
     "metadata": {},
     "output_type": "execute_result"
    }
   ],
   "source": [
    "TransportVehicle.are_in_table(conn, vehicle_list[:5])"
   ]
  },
  {
   "cell_type": "code",
   "execution_count": 11,
   "id": "81b128d1-6b40-4c94-bf2e-874e2544693e",
   "metadata": {},
   "outputs": [
    {
     "data": {
      "text/plain": [
       "True"
      ]
     },
     "execution_count": 11,
     "metadata": {},
     "output_type": "execute_result"
    }
   ],
   "source": [
    "vehicle_list[5].is_in_table(conn)"
   ]
  },
  {
   "cell_type": "code",
   "execution_count": null,
   "id": "ba9ba8f8-9ed4-47ba-94cd-7c20ac1c33cd",
   "metadata": {},
   "outputs": [],
   "source": []
  },
  {
   "cell_type": "code",
   "execution_count": 12,
   "id": "3d5e7733-09f4-4ae0-a3b3-c62900a8dc58",
   "metadata": {},
   "outputs": [
    {
     "data": {
      "text/plain": [
       "False"
      ]
     },
     "execution_count": 12,
     "metadata": {},
     "output_type": "execute_result"
    }
   ],
   "source": [
    "obj = vehicle_list[0]\n",
    "obj.imei += \"-\"\n",
    "obj.is_in_table(conn)"
   ]
  },
  {
   "cell_type": "code",
   "execution_count": 13,
   "id": "385b8a30-87af-4551-9f70-75ea85e14bd3",
   "metadata": {},
   "outputs": [],
   "source": [
    "obj.insert_in_table(conn)"
   ]
  },
  {
   "cell_type": "code",
   "execution_count": 14,
   "id": "7d90f8bb-b0f0-4f3c-9194-0ac4af260719",
   "metadata": {},
   "outputs": [],
   "source": [
    "for v in vehicle_list[:10]: \n",
    "    v.imei += '_'"
   ]
  },
  {
   "cell_type": "code",
   "execution_count": 15,
   "id": "6c25cab4-914c-4f61-a724-f199b51f0196",
   "metadata": {},
   "outputs": [],
   "source": [
    "TransportVehicle.insert_many_in_table(conn, vehicle_list[:10])"
   ]
  },
  {
   "cell_type": "code",
   "execution_count": 31,
   "id": "2a0af8f2-07a4-4991-8bd7-3bdfeb81b952",
   "metadata": {},
   "outputs": [],
   "source": [
    "obj.insert_in_table(conn)\n",
    "obj.is_in_table(conn)"
   ]
  },
  {
   "cell_type": "code",
   "execution_count": 10,
   "id": "04400c12-3466-4c91-b027-93be01673c03",
   "metadata": {},
   "outputs": [
    {
     "name": "stdout",
     "output_type": "stream",
     "text": [
      "INSERT INTO pteta.vehicle(\"imei\", \"name\", \"busNumber\", \"remark\", \"perevId\", \"routeId\") VALUES('355227045600830', 'A178', '310', 'Тролейбус 310 DNSNK', 6,  37), ('355227046451662', 'H76', '350', 'Тролейбус 350 DNSNTNK', 6,  31), ('355227045369527', 'A6', '3557', '3557 DNSNK ', 12,  21), ('355227045540176', 'A83', '5150', ' 5150 DNS', 7,  41), ('355227046453387', 'H75', '3627', '3627 DNSNTNK', 1,  20), ('355228042084283', 'A207', '1032', '1032 DNSNK', 13,  42), ('355227045371655', 'A1', '6513', '6513 DNSNK', 7,  23), ('355227046451407', 'H68', '0855', '0855 DNSNTNK', 13,  42), ('355227046578332', 'A189', '6518', '6518 DNSNK ', 7,  19), ('355228043199379', 'H99', '1176', '1176 DNSNTNK', 12,  21);\n"
     ]
    }
   ],
   "source": [
    "TransportVehicle.insert_many_in_table(conn, vehicle_list[:10])"
   ]
  },
  {
   "cell_type": "code",
   "execution_count": 14,
   "id": "82a79e2d-325a-4dd6-82ef-e213a1f80469",
   "metadata": {},
   "outputs": [
    {
     "name": "stdout",
     "output_type": "stream",
     "text": [
      "TransportVehicle(id=None, imei='355227045600830', name='A178', busNumber='310', remark='Тролейбус 310 DNSNK', perevId=6, routeId=37)\n",
      "TransportVehicle(id=1, imei='355227045600830', name='A178', busNumber='310', remark='Тролейбус 310 DNSNK', perevId=6, routeId=37)\n"
     ]
    }
   ],
   "source": [
    "vehicle_list[0].id = None\n",
    "print(vehicle_list[0])\n",
    "vehicle_list[0].update_id_from_table(conn)\n",
    "print(vehicle_list[0])"
   ]
  },
  {
   "cell_type": "code",
   "execution_count": 34,
   "id": "9e1c1879-1060-45ac-ad9d-18991161f2f2",
   "metadata": {
    "collapsed": true,
    "jupyter": {
     "outputs_hidden": true
    },
    "tags": []
   },
   "outputs": [
    {
     "data": {
      "text/plain": [
       "[TransportVehicle(id=222, imei='355227045600830-__', name='A178', busNumber='310', remark='Тролейбус 310 DNSNK', perevId=6, routeId=37),\n",
       " TransportVehicle(id=2, imei='355227046451662__', name='H76', busNumber='350', remark='Тролейбус 350 DNSNTNK', perevId=6, routeId=31),\n",
       " TransportVehicle(id=3, imei='355227045369527__', name='A6', busNumber='3557', remark='3557 DNSNK ', perevId=12, routeId=21),\n",
       " TransportVehicle(id=4, imei='355227045540176__', name='A83', busNumber='5150', remark=' 5150 DNS', perevId=7, routeId=41),\n",
       " TransportVehicle(id=5, imei='355227046453387__', name='H75', busNumber='3627', remark='3627 DNSNTNK', perevId=1, routeId=20),\n",
       " TransportVehicle(id=6, imei='355228042084283__', name='A207', busNumber='1032', remark='1032 DNSNK', perevId=13, routeId=42),\n",
       " TransportVehicle(id=7, imei='355227045371655__', name='A1', busNumber='6513', remark='6513 DNSNK', perevId=7, routeId=23),\n",
       " TransportVehicle(id=8, imei='355227046451407__', name='H68', busNumber='0855', remark='0855 DNSNTNK', perevId=13, routeId=42),\n",
       " TransportVehicle(id=9, imei='355227046578332__', name='A189', busNumber='6518', remark='6518 DNSNK ', perevId=7, routeId=19),\n",
       " TransportVehicle(id=10, imei='355228043199379__', name='H99', busNumber='1176', remark='1176 DNSNTNK', perevId=12, routeId=21),\n",
       " TransportVehicle(id=11, imei='355227046504098', name='A195', busNumber='0854', remark='0854 DNSNK', perevId=13, routeId=42),\n",
       " TransportVehicle(id=12, imei='355227046504098', name='A195', busNumber='0854', remark='0854 DNSNK', perevId=13, routeId=11),\n",
       " TransportVehicle(id=13, imei='355227046451027', name='H24', busNumber='0738', remark='0738 DNSNTNK', perevId=1, routeId=2)]"
      ]
     },
     "execution_count": 34,
     "metadata": {},
     "output_type": "execute_result"
    }
   ],
   "source": [
    "for v in vehicle_list[:10]: \n",
    "    v.imei += '__'\n",
    "\n",
    "vehicle_list[:13]"
   ]
  },
  {
   "cell_type": "code",
   "execution_count": null,
   "id": "65587fa2-bd59-4efc-b155-56a4472d7c1d",
   "metadata": {},
   "outputs": [],
   "source": []
  },
  {
   "cell_type": "markdown",
   "id": "12b4864c-12ee-4bdc-8fc8-0504368bfbf9",
   "metadata": {},
   "source": [
    "## TransportOperator"
   ]
  },
  {
   "cell_type": "code",
   "execution_count": 10,
   "id": "53ccacbb-8a47-4536-9004-dd3cff1c8756",
   "metadata": {},
   "outputs": [
    {
     "data": {
      "text/plain": [
       "8"
      ]
     },
     "execution_count": 10,
     "metadata": {},
     "output_type": "execute_result"
    }
   ],
   "source": [
    "operator_list = TransportOperator.get_table(conn)\n",
    "len(operator_list)"
   ]
  },
  {
   "cell_type": "code",
   "execution_count": 11,
   "id": "24288a49-97b0-450c-b4b3-9fdf8729d6ef",
   "metadata": {},
   "outputs": [
    {
     "data": {
      "text/plain": [
       "[True, True, True, True, True, True, True, True]"
      ]
     },
     "execution_count": 11,
     "metadata": {},
     "output_type": "execute_result"
    }
   ],
   "source": [
    "TransportOperator.are_in_table(conn, operator_list[:])"
   ]
  },
  {
   "cell_type": "code",
   "execution_count": 12,
   "id": "606d9682-b1e9-4110-bd5b-746fb6180744",
   "metadata": {},
   "outputs": [
    {
     "data": {
      "text/plain": [
       "True"
      ]
     },
     "execution_count": 12,
     "metadata": {},
     "output_type": "execute_result"
    }
   ],
   "source": [
    "operator_list[0].is_in_table(conn)"
   ]
  },
  {
   "cell_type": "code",
   "execution_count": 13,
   "id": "5437ec19-c042-4d84-adbb-6f1251c35bdf",
   "metadata": {},
   "outputs": [
    {
     "data": {
      "text/plain": [
       "False"
      ]
     },
     "execution_count": 13,
     "metadata": {},
     "output_type": "execute_result"
    }
   ],
   "source": [
    "obj = operator_list[0]\n",
    "obj.id += 100\n",
    "obj.name = \"-_-\" + obj.name\n",
    "obj.is_in_table(conn)"
   ]
  },
  {
   "cell_type": "code",
   "execution_count": 14,
   "id": "4fd48af7-fad0-4e05-80d7-756ce77ea7e8",
   "metadata": {},
   "outputs": [],
   "source": [
    "obj.insert_in_table(conn)"
   ]
  },
  {
   "cell_type": "code",
   "execution_count": 15,
   "id": "daa1e22e-774b-4aa6-85cd-8854f1451a03",
   "metadata": {},
   "outputs": [],
   "source": [
    "for op in operator_list: \n",
    "    op.id += 100\n",
    "    op.name = \"-_-\" + op.name\n",
    "    \n",
    "TransportOperator.insert_many_in_table(conn, operator_list)"
   ]
  },
  {
   "cell_type": "code",
   "execution_count": null,
   "id": "54623c33-e180-4a15-931b-32617c32876e",
   "metadata": {},
   "outputs": [],
   "source": []
  },
  {
   "cell_type": "markdown",
   "id": "a7b4a93e-f4cf-4f72-b4de-f31350ca0fe4",
   "metadata": {},
   "source": [
    "## TransportAVLData"
   ]
  },
  {
   "cell_type": "code",
   "execution_count": 9,
   "id": "2ec67a1a-5a8e-491c-b7ef-f00cbd84cbe5",
   "metadata": {},
   "outputs": [],
   "source": [
    "avl_data_list = TransportAVLData.get_table(conn)"
   ]
  },
  {
   "cell_type": "code",
   "execution_count": 11,
   "id": "8ec55802-09a3-46c5-a951-bc33f778ae31",
   "metadata": {},
   "outputs": [],
   "source": [
    "# avl_data_list"
   ]
  },
  {
   "cell_type": "code",
   "execution_count": 14,
   "id": "35304afa-4736-4317-aa4b-c59f784e3e59",
   "metadata": {},
   "outputs": [
    {
     "name": "stdout",
     "output_type": "stream",
     "text": [
      "57.4 ms ± 3.36 ms per loop (mean ± std. dev. of 7 runs, 10 loops each)\n"
     ]
    }
   ],
   "source": [
    "%%timeit\n",
    "TransportAVLData.are_in_table(conn, avl_data_list)"
   ]
  },
  {
   "cell_type": "code",
   "execution_count": 16,
   "id": "8366b7c5-2c46-49fa-8f89-ac62b91901b3",
   "metadata": {},
   "outputs": [
    {
     "name": "stdout",
     "output_type": "stream",
     "text": [
      "42.1 ms ± 1.17 ms per loop (mean ± std. dev. of 7 runs, 10 loops each)\n"
     ]
    }
   ],
   "source": [
    "%%timeit\n",
    "avl_data_list[0].is_in_table(conn)"
   ]
  },
  {
   "cell_type": "code",
   "execution_count": null,
   "id": "71406ef0-4031-4934-95b5-10c527447c39",
   "metadata": {},
   "outputs": [],
   "source": []
  },
  {
   "cell_type": "code",
   "execution_count": null,
   "id": "66d4652d-7651-426a-89d7-ea8e73d2ac06",
   "metadata": {},
   "outputs": [],
   "source": []
  }
 ],
 "metadata": {
  "kernelspec": {
   "display_name": "Python 3",
   "language": "python",
   "name": "python3"
  },
  "language_info": {
   "codemirror_mode": {
    "name": "ipython",
    "version": 3
   },
   "file_extension": ".py",
   "mimetype": "text/x-python",
   "name": "python",
   "nbconvert_exporter": "python",
   "pygments_lexer": "ipython3",
   "version": "3.8.9"
  }
 },
 "nbformat": 4,
 "nbformat_minor": 5
}
