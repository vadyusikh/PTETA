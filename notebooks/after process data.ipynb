{
 "cells": [
  {
   "cell_type": "code",
   "execution_count": 2,
   "id": "fef48cae",
   "metadata": {},
   "outputs": [],
   "source": [
    "import pathlib\n",
    "import json\n",
    "import pandas as pd\n",
    "from datetime import datetime, timedelta\n",
    "import numpy as np\n",
    "import matplotlib.pyplot as plt\n",
    "from tqdm import tqdm\n",
    "# !pip install folium\n",
    "import folium\n",
    "\n",
    "from collections import Counter"
   ]
  },
  {
   "cell_type": "code",
   "execution_count": 24,
   "id": "a978c630-06a2-438d-9e3c-f77d73ec7935",
   "metadata": {
    "collapsed": true,
    "jupyter": {
     "outputs_hidden": true
    },
    "tags": []
   },
   "outputs": [
    {
     "data": {
      "text/plain": [
       "\u001b[1;31mInit signature:\u001b[0m \u001b[0mtqdm\u001b[0m\u001b[1;33m(\u001b[0m\u001b[1;33m*\u001b[0m\u001b[0m_\u001b[0m\u001b[1;33m,\u001b[0m \u001b[1;33m**\u001b[0m\u001b[0m__\u001b[0m\u001b[1;33m)\u001b[0m\u001b[1;33m\u001b[0m\u001b[1;33m\u001b[0m\u001b[0m\n",
       "\u001b[1;31mDocstring:\u001b[0m     \n",
       "Decorate an iterable object, returning an iterator which acts exactly\n",
       "like the original iterable, but prints a dynamically updating\n",
       "progressbar every time a value is requested.\n",
       "\u001b[1;31mInit docstring:\u001b[0m\n",
       "Parameters\n",
       "----------\n",
       "iterable  : iterable, optional\n",
       "    Iterable to decorate with a progressbar.\n",
       "    Leave blank to manually manage the updates.\n",
       "desc  : str, optional\n",
       "    Prefix for the progressbar.\n",
       "total  : int or float, optional\n",
       "    The number of expected iterations. If unspecified,\n",
       "    len(iterable) is used if possible. If float(\"inf\") or as a last\n",
       "    resort, only basic progress statistics are displayed\n",
       "    (no ETA, no progressbar).\n",
       "    If `gui` is True and this parameter needs subsequent updating,\n",
       "    specify an initial arbitrary large positive number,\n",
       "    e.g. 9e9.\n",
       "leave  : bool, optional\n",
       "    If [default: True], keeps all traces of the progressbar\n",
       "    upon termination of iteration.\n",
       "    If `None`, will leave only if `position` is `0`.\n",
       "file  : `io.TextIOWrapper` or `io.StringIO`, optional\n",
       "    Specifies where to output the progress messages\n",
       "    (default: sys.stderr). Uses `file.write(str)` and `file.flush()`\n",
       "    methods.  For encoding, see `write_bytes`.\n",
       "ncols  : int, optional\n",
       "    The width of the entire output message. If specified,\n",
       "    dynamically resizes the progressbar to stay within this bound.\n",
       "    If unspecified, attempts to use environment width. The\n",
       "    fallback is a meter width of 10 and no limit for the counter and\n",
       "    statistics. If 0, will not print any meter (only stats).\n",
       "mininterval  : float, optional\n",
       "    Minimum progress display update interval [default: 0.1] seconds.\n",
       "maxinterval  : float, optional\n",
       "    Maximum progress display update interval [default: 10] seconds.\n",
       "    Automatically adjusts `miniters` to correspond to `mininterval`\n",
       "    after long display update lag. Only works if `dynamic_miniters`\n",
       "    or monitor thread is enabled.\n",
       "miniters  : int or float, optional\n",
       "    Minimum progress display update interval, in iterations.\n",
       "    If 0 and `dynamic_miniters`, will automatically adjust to equal\n",
       "    `mininterval` (more CPU efficient, good for tight loops).\n",
       "    If > 0, will skip display of specified number of iterations.\n",
       "    Tweak this and `mininterval` to get very efficient loops.\n",
       "    If your progress is erratic with both fast and slow iterations\n",
       "    (network, skipping items, etc) you should set miniters=1.\n",
       "ascii  : bool or str, optional\n",
       "    If unspecified or False, use unicode (smooth blocks) to fill\n",
       "    the meter. The fallback is to use ASCII characters \" 123456789#\".\n",
       "disable  : bool, optional\n",
       "    Whether to disable the entire progressbar wrapper\n",
       "    [default: False]. If set to None, disable on non-TTY.\n",
       "unit  : str, optional\n",
       "    String that will be used to define the unit of each iteration\n",
       "    [default: it].\n",
       "unit_scale  : bool or int or float, optional\n",
       "    If 1 or True, the number of iterations will be reduced/scaled\n",
       "    automatically and a metric prefix following the\n",
       "    International System of Units standard will be added\n",
       "    (kilo, mega, etc.) [default: False]. If any other non-zero\n",
       "    number, will scale `total` and `n`.\n",
       "dynamic_ncols  : bool, optional\n",
       "    If set, constantly alters `ncols` and `nrows` to the\n",
       "    environment (allowing for window resizes) [default: False].\n",
       "smoothing  : float, optional\n",
       "    Exponential moving average smoothing factor for speed estimates\n",
       "    (ignored in GUI mode). Ranges from 0 (average speed) to 1\n",
       "    (current/instantaneous speed) [default: 0.3].\n",
       "bar_format  : str, optional\n",
       "    Specify a custom bar string formatting. May impact performance.\n",
       "    [default: '{l_bar}{bar}{r_bar}'], where\n",
       "    l_bar='{desc}: {percentage:3.0f}%|' and\n",
       "    r_bar='| {n_fmt}/{total_fmt} [{elapsed}<{remaining}, '\n",
       "      '{rate_fmt}{postfix}]'\n",
       "    Possible vars: l_bar, bar, r_bar, n, n_fmt, total, total_fmt,\n",
       "      percentage, elapsed, elapsed_s, ncols, nrows, desc, unit,\n",
       "      rate, rate_fmt, rate_noinv, rate_noinv_fmt,\n",
       "      rate_inv, rate_inv_fmt, postfix, unit_divisor,\n",
       "      remaining, remaining_s, eta.\n",
       "    Note that a trailing \": \" is automatically removed after {desc}\n",
       "    if the latter is empty.\n",
       "initial  : int or float, optional\n",
       "    The initial counter value. Useful when restarting a progress\n",
       "    bar [default: 0]. If using float, consider specifying `{n:.3f}`\n",
       "    or similar in `bar_format`, or specifying `unit_scale`.\n",
       "position  : int, optional\n",
       "    Specify the line offset to print this bar (starting from 0)\n",
       "    Automatic if unspecified.\n",
       "    Useful to manage multiple bars at once (eg, from threads).\n",
       "postfix  : dict or *, optional\n",
       "    Specify additional stats to display at the end of the bar.\n",
       "    Calls `set_postfix(**postfix)` if possible (dict).\n",
       "unit_divisor  : float, optional\n",
       "    [default: 1000], ignored unless `unit_scale` is True.\n",
       "write_bytes  : bool, optional\n",
       "    If (default: None) and `file` is unspecified,\n",
       "    bytes will be written in Python 2. If `True` will also write\n",
       "    bytes. In all other cases will default to unicode.\n",
       "lock_args  : tuple, optional\n",
       "    Passed to `refresh` for intermediate output\n",
       "    (initialisation, iterating, and updating).\n",
       "nrows  : int, optional\n",
       "    The screen height. If specified, hides nested bars outside this\n",
       "    bound. If unspecified, attempts to use environment height.\n",
       "    The fallback is 20.\n",
       "colour  : str, optional\n",
       "    Bar colour (e.g. 'green', '#00ff00').\n",
       "delay  : float, optional\n",
       "    Don't display until [default: 0] seconds have elapsed.\n",
       "gui  : bool, optional\n",
       "    WARNING: internal parameter - do not use.\n",
       "    Use tqdm.gui.tqdm(...) instead. If set, will attempt to use\n",
       "    matplotlib animations for a graphical output [default: False].\n",
       "\n",
       "Returns\n",
       "-------\n",
       "out  : decorated iterator.\n",
       "\u001b[1;31mFile:\u001b[0m           c:\\users\\вадим\\appdata\\roaming\\python\\python38\\site-packages\\tqdm\\std.py\n",
       "\u001b[1;31mType:\u001b[0m           type\n",
       "\u001b[1;31mSubclasses:\u001b[0m     tqdm_gui\n"
      ]
     },
     "metadata": {},
     "output_type": "display_data"
    }
   ],
   "source": [
    "tqdm?"
   ]
  },
  {
   "cell_type": "code",
   "execution_count": 28,
   "id": "4996e0dc-046c-49b6-897f-d71104b56534",
   "metadata": {},
   "outputs": [],
   "source": [
    "import os\n",
    "import zipfile\n",
    "    \n",
    "def zipdir(path, ziph):\n",
    "    # ziph is zipfile handle\n",
    "    for root, dirs, files in os.walk(path):\n",
    "        for file in tqdm(files, position=0, leave=True, desc=f\"Zip {folder_name}\"):\n",
    "            ziph.write(os.path.join(root, file), \n",
    "                       os.path.relpath(os.path.join(root, file), \n",
    "                                       os.path.join(path, '..')))\n",
    "            \n",
    "def write_zip_archive(folder_name): \n",
    "    zip_fname = f\"archives/{folder_name}.zip\"\n",
    "    with zipfile.ZipFile(zip_fname, 'w', zipfile.ZIP_DEFLATED) as zipf:\n",
    "        zipdir(f\"{folder_name}\", zipf)"
   ]
  },
  {
   "cell_type": "code",
   "execution_count": 29,
   "id": "f6ed2f25",
   "metadata": {
    "scrolled": true,
    "tags": []
   },
   "outputs": [
    {
     "name": "stderr",
     "output_type": "stream",
     "text": [
      "Zip trans_data_01_OCT_2022: 100%|██████████| 55162/55162 [00:14<00:00, 3720.31it/s]\n",
      "Zip trans_data_02_OCT_2022: 100%|██████████| 173/173 [00:00<00:00, 185.50it/s]\n",
      "Zip trans_data_30_SEP_2022: 100%|██████████| 57584/57584 [00:16<00:00, 3550.89it/s]\n"
     ]
    }
   ],
   "source": [
    "folders_list = [p for p in pathlib.Path().iterdir() if 'trans_data_' in str(p)]\n",
    "for folder_name in folders_list: \n",
    "    write_zip_archive(folder_name)\n"
   ]
  },
  {
   "cell_type": "code",
   "execution_count": 30,
   "id": "5b93b19d-7efc-47e3-b8e0-5346739c3d32",
   "metadata": {
    "tags": []
   },
   "outputs": [
    {
     "ename": "NameError",
     "evalue": "name 'ziph' is not defined",
     "output_type": "error",
     "traceback": [
      "\u001b[1;31m---------------------------------------------------------------------------\u001b[0m",
      "\u001b[1;31mNameError\u001b[0m                                 Traceback (most recent call last)",
      "\u001b[1;32m<ipython-input-30-546f2be7dc56>\u001b[0m in \u001b[0;36m<module>\u001b[1;34m\u001b[0m\n\u001b[1;32m----> 1\u001b[1;33m \u001b[0mziph\u001b[0m\u001b[1;33m\u001b[0m\u001b[1;33m\u001b[0m\u001b[0m\n\u001b[0m",
      "\u001b[1;31mNameError\u001b[0m: name 'ziph' is not defined"
     ]
    }
   ],
   "source": [
    "zipfile.ZipFile?"
   ]
  },
  {
   "cell_type": "code",
   "execution_count": 18,
   "id": "0847be67-e99d-4692-b4e4-15dabf5022af",
   "metadata": {},
   "outputs": [
    {
     "data": {
      "text/plain": [
       "datetime.datetime(2022, 10, 1, 0, 0)"
      ]
     },
     "execution_count": 18,
     "metadata": {},
     "output_type": "execute_result"
    }
   ],
   "source": [
    "datetime.strptime(\"01_OCT_2022\", '%d_%b_%Y')"
   ]
  },
  {
   "cell_type": "code",
   "execution_count": null,
   "id": "e3611e94-1624-4b39-83e4-99f52a3daf3e",
   "metadata": {},
   "outputs": [],
   "source": []
  },
  {
   "cell_type": "code",
   "execution_count": null,
   "id": "b2a53240-306f-45d5-b511-d75de610476d",
   "metadata": {},
   "outputs": [
    {
     "name": "stdout",
     "output_type": "stream",
     "text": [
      "trans_data_18_SEP_2022 - 55253\n"
     ]
    },
    {
     "name": "stderr",
     "output_type": "stream",
     "text": [
      "100%|██████████| 55253/55253 [00:01<00:00, 29860.23it/s] \n"
     ]
    },
    {
     "name": "stdout",
     "output_type": "stream",
     "text": [
      "[]\n",
      "trans_data_19_SEP_2022 - 58722\n"
     ]
    },
    {
     "name": "stderr",
     "output_type": "stream",
     "text": [
      "100%|██████████| 58722/58722 [00:00<00:00, 88365.48it/s] \n"
     ]
    },
    {
     "name": "stdout",
     "output_type": "stream",
     "text": [
      "[]\n",
      "trans_data_20_SEP_2022 - 57883\n"
     ]
    },
    {
     "name": "stderr",
     "output_type": "stream",
     "text": [
      " 62%|██████▏   | 35970/57883 [01:01<00:47, 458.00it/s]"
     ]
    }
   ],
   "source": [
    "from concurrent.futures import ThreadPoolExecutor\n",
    "\n",
    "def read_json_TPE(f_path): \n",
    "    try:\n",
    "        with open(f_path, 'r', encoding = 'utf-8') as file: \n",
    "            return (json.load(file), None)\n",
    "    except: \n",
    "        print(f\"Unable to open : {f_path}\")\n",
    "        return (None, file)\n",
    "    \n",
    "    \n",
    "folders_list = [p for p in pathlib.Path().iterdir() if 'trans_data_' in str(p)]\n",
    "folders_list = sorted(folders_list, key=lambda x: datetime.strptime(str(x)[11:], '%d_%b_%Y'))[:-1]\n",
    "for folder in folders_list: \n",
    "    fpaths_list = list(folder.iterdir())\n",
    "    fpaths_list = sorted(fpaths_list)\n",
    "    print(f\"{folder} - {len(fpaths_list)}\")\n",
    "\n",
    "    with ThreadPoolExecutor(max_workers=40) as executor:\n",
    "        fpath_list = fpaths_list\n",
    "        results = list(tqdm(executor.map(read_json_TPE, fpath_list), total=len(fpath_list)))\n",
    "        \n",
    "    print(f\"{[r for r in results if r[0] is None]}\")"
   ]
  },
  {
   "cell_type": "code",
   "execution_count": 16,
   "id": "88bebde7-52af-4a49-b3bd-1563e0398a1d",
   "metadata": {},
   "outputs": [
    {
     "data": {
      "text/plain": [
       "[]"
      ]
     },
     "execution_count": 16,
     "metadata": {},
     "output_type": "execute_result"
    }
   ],
   "source": []
  },
  {
   "cell_type": "code",
   "execution_count": 6,
   "id": "3c238d3b",
   "metadata": {
    "scrolled": true
   },
   "outputs": [
    {
     "name": "stdout",
     "output_type": "stream",
     "text": [
      "trans_data_18_SEP_2022\\trans_2022-09-18 17;32;52.json split size 2 => skipped\n",
      "trans_data_18_SEP_2022\\trans_2022-09-18 17;35;10.json split size 2 => skipped\n",
      "trans_data_18_SEP_2022\\trans_2022-09-18 17;35;15.json split size 2 => skipped\n"
     ]
    }
   ],
   "source": [
    "for fpath in error_files: \n",
    "    try:\n",
    "        with open(fpath, 'r', encoding = 'utf-8') as file:\n",
    "            splt = file.readline().split(\"}}\")\n",
    "            if len(splt) != 3: \n",
    "                print(f\"{fpath} split size {len(splt)} => skipped\")\n",
    "                continue\n",
    "                \n",
    "            res = json.loads(splt[0] + \"}}\")\n",
    "            print(res.keys() )\n",
    "            \n",
    "        with open(fpath, 'w', encoding = 'utf-8') as out_f: \n",
    "            json.dump(res, out_f, ensure_ascii=False)\n",
    "\n",
    "    except: \n",
    "        print(fpath, \"error\")"
   ]
  },
  {
   "cell_type": "code",
   "execution_count": 20,
   "id": "5ab6d977",
   "metadata": {},
   "outputs": [],
   "source": [
    "# error_files"
   ]
  },
  {
   "cell_type": "code",
   "execution_count": 7,
   "id": "f7bbb64a",
   "metadata": {},
   "outputs": [
    {
     "name": "stderr",
     "output_type": "stream",
     "text": [
      "3it [00:00, 3752.73it/s]\n"
     ]
    }
   ],
   "source": [
    "for indx, f_path in tqdm(enumerate(error_files)):\n",
    "    try:\n",
    "        with open(f_path, 'r', encoding = 'utf-8') as file: \n",
    "            rq_cur = json.load(file)\n",
    "    except: \n",
    "        print(f_path)\n",
    "        continue\n",
    "        \n",
    "    total_records_num += [len(rq_cur)]\n",
    "    prev_keys = set(rq_prev.keys() )\n",
    "    try:\n",
    "        cur_keys = set(rq_cur.keys() )\n",
    "    except: \n",
    "        print(f_path)\n",
    "        continue\n",
    "                \n",
    "    for imei in prev_keys.intersection(cur_keys):\n",
    "        if rq_prev[imei] != rq_cur[imei]: \n",
    "            optimized_data_list += [rq_cur[imei]]\n",
    "            for field_name in rq_prev[imei].keys():\n",
    "                if rq_prev[imei][field_name] != rq_cur[imei][field_name]: \n",
    "                    changing_fields_list += [field_name]\n",
    "\n",
    "    for imei in cur_keys.difference(prev_keys):\n",
    "        optimized_data_list += [rq_cur[imei]]\n",
    "#         print(f\"New imei {imei}\")\n",
    "            \n",
    "    rq_prev = rq_cur"
   ]
  },
  {
   "cell_type": "code",
   "execution_count": null,
   "id": "660b34e0",
   "metadata": {},
   "outputs": [],
   "source": []
  },
  {
   "cell_type": "code",
   "execution_count": 15,
   "id": "1fb5963d",
   "metadata": {},
   "outputs": [],
   "source": [
    "# error_files = error_files[:34]"
   ]
  },
  {
   "cell_type": "code",
   "execution_count": 8,
   "id": "07f1a5fc",
   "metadata": {
    "scrolled": true
   },
   "outputs": [
    {
     "data": {
      "text/plain": [
       "(Counter({'gpstime': 2298,\n",
       "          'lat': 2339,\n",
       "          'lng': 2338,\n",
       "          'speed': 2304,\n",
       "          'orientation': 2282,\n",
       "          'inDepo': 7}),\n",
       " 173295,\n",
       " 172405,\n",
       " 1.0051622632754271)"
      ]
     },
     "execution_count": 8,
     "metadata": {},
     "output_type": "execute_result"
    }
   ],
   "source": [
    "Counter(changing_fields_list), sum(total_records_num), len(optimized_data_list), sum(total_records_num) / len(optimized_data_list)"
   ]
  },
  {
   "cell_type": "code",
   "execution_count": 9,
   "id": "50a6a606",
   "metadata": {},
   "outputs": [
    {
     "data": {
      "text/plain": [
       "[<matplotlib.lines.Line2D at 0x19af5ac4640>]"
      ]
     },
     "execution_count": 9,
     "metadata": {},
     "output_type": "execute_result"
    },
    {
     "data": {
      "image/png": "[encoded data removed]",
      "text/plain": [
       "<Figure size 432x288 with 1 Axes>"
      ]
     },
     "metadata": {
      "needs_background": "light"
     },
     "output_type": "display_data"
    }
   ],
   "source": [
    "plt.plot(total_records_num)"
   ]
  },
  {
   "cell_type": "code",
   "execution_count": 10,
   "id": "2cd0a54c",
   "metadata": {},
   "outputs": [],
   "source": [
    "sum_df = pd.DataFrame(optimized_data_list)"
   ]
  },
  {
   "cell_type": "code",
   "execution_count": 11,
   "id": "3fb426c5",
   "metadata": {},
   "outputs": [],
   "source": [
    "sum_df.to_csv(f\"data_for_{DATEBASE_NAME}.csv\", encoding='utf-8', index=False, header='true')"
   ]
  },
  {
   "cell_type": "code",
   "execution_count": null,
   "id": "79e30762",
   "metadata": {},
   "outputs": [],
   "source": []
  },
  {
   "cell_type": "code",
   "execution_count": 12,
   "id": "0213398e",
   "metadata": {},
   "outputs": [
    {
     "data": {
      "text/plain": [
       "355227046638821    5016\n",
       "355227046450946    4328\n",
       "355227045539921    4174\n",
       "355227046504098    4052\n",
       "355227045600871    3920\n",
       "355227046447371    3870\n",
       "355227046451290    3833\n",
       "355227045600988    3829\n",
       "355227045540192    3800\n",
       "355227046451530    3591\n",
       "Name: imei, dtype: int64"
      ]
     },
     "execution_count": 12,
     "metadata": {},
     "output_type": "execute_result"
    }
   ],
   "source": [
    "sum_df['imei'].value_counts()[:10]"
   ]
  },
  {
   "cell_type": "code",
   "execution_count": 173,
   "id": "693261aa",
   "metadata": {},
   "outputs": [
    {
     "data": {
      "text/plain": [
       "355227045371655    554\n",
       "355227046451464    461\n",
       "355227046505244    390\n",
       "355227046283032    312\n",
       "355227045600830    301\n",
       "355227045369527    298\n",
       "355227046451332    290\n",
       "355227046507810    230\n",
       "355227045540127    185\n",
       "355227045540234    102\n",
       "Name: imei, dtype: int64"
      ]
     },
     "execution_count": 173,
     "metadata": {},
     "output_type": "execute_result"
    }
   ],
   "source": [
    "sum_df['imei'].value_counts()[-20:-10]"
   ]
  },
  {
   "cell_type": "code",
   "execution_count": 13,
   "id": "763788fb",
   "metadata": {},
   "outputs": [
    {
     "data": {
      "text/html": [
       "<div>\n",
       "<style scoped>\n",
       "    .dataframe tbody tr th:only-of-type {\n",
       "        vertical-align: middle;\n",
       "    }\n",
       "\n",
       "    .dataframe tbody tr th {\n",
       "        vertical-align: top;\n",
       "    }\n",
       "\n",
       "    .dataframe thead th {\n",
       "        text-align: right;\n",
       "    }\n",
       "</style>\n",
       "<table border=\"1\" class=\"dataframe\">\n",
       "  <thead>\n",
       "    <tr style=\"text-align: right;\">\n",
       "      <th></th>\n",
       "      <th>id</th>\n",
       "      <th>imei</th>\n",
       "      <th>name</th>\n",
       "      <th>stateCode</th>\n",
       "      <th>stateName</th>\n",
       "      <th>lat</th>\n",
       "      <th>lng</th>\n",
       "      <th>speed</th>\n",
       "      <th>orientation</th>\n",
       "      <th>gpstime</th>\n",
       "      <th>routeId</th>\n",
       "      <th>routeName</th>\n",
       "      <th>routeColour</th>\n",
       "      <th>inDepo</th>\n",
       "      <th>busNumber</th>\n",
       "      <th>perevId</th>\n",
       "      <th>perevName</th>\n",
       "      <th>remark</th>\n",
       "      <th>online</th>\n",
       "      <th>idBusTypes</th>\n",
       "    </tr>\n",
       "  </thead>\n",
       "  <tbody>\n",
       "    <tr>\n",
       "      <th>251</th>\n",
       "      <td>243</td>\n",
       "      <td>355227045600988</td>\n",
       "      <td>A158</td>\n",
       "      <td>used</td>\n",
       "      <td>used</td>\n",
       "      <td>48.251615</td>\n",
       "      <td>25.940343</td>\n",
       "      <td>000.0</td>\n",
       "      <td>000.00</td>\n",
       "      <td>2022-09-17 22:37:58</td>\n",
       "      <td>33</td>\n",
       "      <td>8T</td>\n",
       "      <td>coral</td>\n",
       "      <td>False</td>\n",
       "      <td>324</td>\n",
       "      <td>6</td>\n",
       "      <td>ЧТУ</td>\n",
       "      <td>Тролейбус 324 DNSNK</td>\n",
       "      <td>True</td>\n",
       "      <td>2</td>\n",
       "    </tr>\n",
       "    <tr>\n",
       "      <th>542</th>\n",
       "      <td>243</td>\n",
       "      <td>355227045600988</td>\n",
       "      <td>A158</td>\n",
       "      <td>used</td>\n",
       "      <td>used</td>\n",
       "      <td>48.251615</td>\n",
       "      <td>25.940343</td>\n",
       "      <td>000.0</td>\n",
       "      <td>000.00</td>\n",
       "      <td>2022-09-18 03:19:08</td>\n",
       "      <td>33</td>\n",
       "      <td>8T</td>\n",
       "      <td>coral</td>\n",
       "      <td>False</td>\n",
       "      <td>324</td>\n",
       "      <td>6</td>\n",
       "      <td>ЧТУ</td>\n",
       "      <td>Тролейбус 324 DNSNK</td>\n",
       "      <td>True</td>\n",
       "      <td>2</td>\n",
       "    </tr>\n",
       "    <tr>\n",
       "      <th>549</th>\n",
       "      <td>243</td>\n",
       "      <td>355227045600988</td>\n",
       "      <td>A158</td>\n",
       "      <td>used</td>\n",
       "      <td>used</td>\n",
       "      <td>48.251575</td>\n",
       "      <td>25.940482</td>\n",
       "      <td>003.5</td>\n",
       "      <td>000.00</td>\n",
       "      <td>2022-09-18 03:22:00</td>\n",
       "      <td>33</td>\n",
       "      <td>8T</td>\n",
       "      <td>coral</td>\n",
       "      <td>False</td>\n",
       "      <td>324</td>\n",
       "      <td>6</td>\n",
       "      <td>ЧТУ</td>\n",
       "      <td>Тролейбус 324 DNSNK</td>\n",
       "      <td>True</td>\n",
       "      <td>2</td>\n",
       "    </tr>\n",
       "    <tr>\n",
       "      <th>550</th>\n",
       "      <td>243</td>\n",
       "      <td>355227045600988</td>\n",
       "      <td>A158</td>\n",
       "      <td>used</td>\n",
       "      <td>used</td>\n",
       "      <td>48.251613</td>\n",
       "      <td>25.940728</td>\n",
       "      <td>002.3</td>\n",
       "      <td>000.00</td>\n",
       "      <td>2022-09-18 03:22:18</td>\n",
       "      <td>33</td>\n",
       "      <td>8T</td>\n",
       "      <td>coral</td>\n",
       "      <td>False</td>\n",
       "      <td>324</td>\n",
       "      <td>6</td>\n",
       "      <td>ЧТУ</td>\n",
       "      <td>Тролейбус 324 DNSNK</td>\n",
       "      <td>True</td>\n",
       "      <td>2</td>\n",
       "    </tr>\n",
       "    <tr>\n",
       "      <th>554</th>\n",
       "      <td>243</td>\n",
       "      <td>355227045600988</td>\n",
       "      <td>A158</td>\n",
       "      <td>used</td>\n",
       "      <td>used</td>\n",
       "      <td>48.251658</td>\n",
       "      <td>25.940742</td>\n",
       "      <td>000.0</td>\n",
       "      <td>000.00</td>\n",
       "      <td>2022-09-18 03:22:39</td>\n",
       "      <td>33</td>\n",
       "      <td>8T</td>\n",
       "      <td>coral</td>\n",
       "      <td>False</td>\n",
       "      <td>324</td>\n",
       "      <td>6</td>\n",
       "      <td>ЧТУ</td>\n",
       "      <td>Тролейбус 324 DNSNK</td>\n",
       "      <td>True</td>\n",
       "      <td>2</td>\n",
       "    </tr>\n",
       "  </tbody>\n",
       "</table>\n",
       "</div>"
      ],
      "text/plain": [
       "      id             imei  name stateCode stateName        lat        lng  \\\n",
       "251  243  355227045600988  A158      used      used  48.251615  25.940343   \n",
       "542  243  355227045600988  A158      used      used  48.251615  25.940343   \n",
       "549  243  355227045600988  A158      used      used  48.251575  25.940482   \n",
       "550  243  355227045600988  A158      used      used  48.251613  25.940728   \n",
       "554  243  355227045600988  A158      used      used  48.251658  25.940742   \n",
       "\n",
       "     speed orientation              gpstime  routeId routeName routeColour  \\\n",
       "251  000.0      000.00  2022-09-17 22:37:58       33        8T       coral   \n",
       "542  000.0      000.00  2022-09-18 03:19:08       33        8T       coral   \n",
       "549  003.5      000.00  2022-09-18 03:22:00       33        8T       coral   \n",
       "550  002.3      000.00  2022-09-18 03:22:18       33        8T       coral   \n",
       "554  000.0      000.00  2022-09-18 03:22:39       33        8T       coral   \n",
       "\n",
       "     inDepo busNumber  perevId perevName               remark  online  \\\n",
       "251   False       324        6       ЧТУ  Тролейбус 324 DNSNK    True   \n",
       "542   False       324        6       ЧТУ  Тролейбус 324 DNSNK    True   \n",
       "549   False       324        6       ЧТУ  Тролейбус 324 DNSNK    True   \n",
       "550   False       324        6       ЧТУ  Тролейбус 324 DNSNK    True   \n",
       "554   False       324        6       ЧТУ  Тролейбус 324 DNSNK    True   \n",
       "\n",
       "     idBusTypes  \n",
       "251           2  \n",
       "542           2  \n",
       "549           2  \n",
       "550           2  \n",
       "554           2  "
      ]
     },
     "execution_count": 13,
     "metadata": {},
     "output_type": "execute_result"
    }
   ],
   "source": [
    "vehicle_df = sum_df[sum_df['imei'] == '355227045600988']\n",
    "# vehicle_df = sum_df[sum_df['imei'] == '355227045369527']\n",
    "\n",
    "vehicle_df.head(5)"
   ]
  },
  {
   "cell_type": "code",
   "execution_count": 14,
   "id": "73dba12d",
   "metadata": {},
   "outputs": [
    {
     "data": {
      "text/html": [
       "<div>\n",
       "<style scoped>\n",
       "    .dataframe tbody tr th:only-of-type {\n",
       "        vertical-align: middle;\n",
       "    }\n",
       "\n",
       "    .dataframe tbody tr th {\n",
       "        vertical-align: top;\n",
       "    }\n",
       "\n",
       "    .dataframe thead th {\n",
       "        text-align: right;\n",
       "    }\n",
       "</style>\n",
       "<table border=\"1\" class=\"dataframe\">\n",
       "  <thead>\n",
       "    <tr style=\"text-align: right;\">\n",
       "      <th></th>\n",
       "      <th>id</th>\n",
       "      <th>imei</th>\n",
       "      <th>name</th>\n",
       "      <th>stateCode</th>\n",
       "      <th>stateName</th>\n",
       "      <th>lat</th>\n",
       "      <th>lng</th>\n",
       "      <th>speed</th>\n",
       "      <th>orientation</th>\n",
       "      <th>gpstime</th>\n",
       "      <th>routeId</th>\n",
       "      <th>routeName</th>\n",
       "      <th>routeColour</th>\n",
       "      <th>inDepo</th>\n",
       "      <th>busNumber</th>\n",
       "      <th>perevId</th>\n",
       "      <th>perevName</th>\n",
       "      <th>remark</th>\n",
       "      <th>online</th>\n",
       "      <th>idBusTypes</th>\n",
       "    </tr>\n",
       "  </thead>\n",
       "  <tbody>\n",
       "    <tr>\n",
       "      <th>251</th>\n",
       "      <td>243</td>\n",
       "      <td>355227045600988</td>\n",
       "      <td>A158</td>\n",
       "      <td>used</td>\n",
       "      <td>used</td>\n",
       "      <td>48.251615</td>\n",
       "      <td>25.940343</td>\n",
       "      <td>000.0</td>\n",
       "      <td>000.00</td>\n",
       "      <td>2022-09-17 22:37:58</td>\n",
       "      <td>33</td>\n",
       "      <td>8T</td>\n",
       "      <td>coral</td>\n",
       "      <td>False</td>\n",
       "      <td>324</td>\n",
       "      <td>6</td>\n",
       "      <td>ЧТУ</td>\n",
       "      <td>Тролейбус 324 DNSNK</td>\n",
       "      <td>True</td>\n",
       "      <td>2</td>\n",
       "    </tr>\n",
       "    <tr>\n",
       "      <th>542</th>\n",
       "      <td>243</td>\n",
       "      <td>355227045600988</td>\n",
       "      <td>A158</td>\n",
       "      <td>used</td>\n",
       "      <td>used</td>\n",
       "      <td>48.251615</td>\n",
       "      <td>25.940343</td>\n",
       "      <td>000.0</td>\n",
       "      <td>000.00</td>\n",
       "      <td>2022-09-18 03:19:08</td>\n",
       "      <td>33</td>\n",
       "      <td>8T</td>\n",
       "      <td>coral</td>\n",
       "      <td>False</td>\n",
       "      <td>324</td>\n",
       "      <td>6</td>\n",
       "      <td>ЧТУ</td>\n",
       "      <td>Тролейбус 324 DNSNK</td>\n",
       "      <td>True</td>\n",
       "      <td>2</td>\n",
       "    </tr>\n",
       "    <tr>\n",
       "      <th>549</th>\n",
       "      <td>243</td>\n",
       "      <td>355227045600988</td>\n",
       "      <td>A158</td>\n",
       "      <td>used</td>\n",
       "      <td>used</td>\n",
       "      <td>48.251575</td>\n",
       "      <td>25.940482</td>\n",
       "      <td>003.5</td>\n",
       "      <td>000.00</td>\n",
       "      <td>2022-09-18 03:22:00</td>\n",
       "      <td>33</td>\n",
       "      <td>8T</td>\n",
       "      <td>coral</td>\n",
       "      <td>False</td>\n",
       "      <td>324</td>\n",
       "      <td>6</td>\n",
       "      <td>ЧТУ</td>\n",
       "      <td>Тролейбус 324 DNSNK</td>\n",
       "      <td>True</td>\n",
       "      <td>2</td>\n",
       "    </tr>\n",
       "    <tr>\n",
       "      <th>550</th>\n",
       "      <td>243</td>\n",
       "      <td>355227045600988</td>\n",
       "      <td>A158</td>\n",
       "      <td>used</td>\n",
       "      <td>used</td>\n",
       "      <td>48.251613</td>\n",
       "      <td>25.940728</td>\n",
       "      <td>002.3</td>\n",
       "      <td>000.00</td>\n",
       "      <td>2022-09-18 03:22:18</td>\n",
       "      <td>33</td>\n",
       "      <td>8T</td>\n",
       "      <td>coral</td>\n",
       "      <td>False</td>\n",
       "      <td>324</td>\n",
       "      <td>6</td>\n",
       "      <td>ЧТУ</td>\n",
       "      <td>Тролейбус 324 DNSNK</td>\n",
       "      <td>True</td>\n",
       "      <td>2</td>\n",
       "    </tr>\n",
       "    <tr>\n",
       "      <th>554</th>\n",
       "      <td>243</td>\n",
       "      <td>355227045600988</td>\n",
       "      <td>A158</td>\n",
       "      <td>used</td>\n",
       "      <td>used</td>\n",
       "      <td>48.251658</td>\n",
       "      <td>25.940742</td>\n",
       "      <td>000.0</td>\n",
       "      <td>000.00</td>\n",
       "      <td>2022-09-18 03:22:39</td>\n",
       "      <td>33</td>\n",
       "      <td>8T</td>\n",
       "      <td>coral</td>\n",
       "      <td>False</td>\n",
       "      <td>324</td>\n",
       "      <td>6</td>\n",
       "      <td>ЧТУ</td>\n",
       "      <td>Тролейбус 324 DNSNK</td>\n",
       "      <td>True</td>\n",
       "      <td>2</td>\n",
       "    </tr>\n",
       "    <tr>\n",
       "      <th>...</th>\n",
       "      <td>...</td>\n",
       "      <td>...</td>\n",
       "      <td>...</td>\n",
       "      <td>...</td>\n",
       "      <td>...</td>\n",
       "      <td>...</td>\n",
       "      <td>...</td>\n",
       "      <td>...</td>\n",
       "      <td>...</td>\n",
       "      <td>...</td>\n",
       "      <td>...</td>\n",
       "      <td>...</td>\n",
       "      <td>...</td>\n",
       "      <td>...</td>\n",
       "      <td>...</td>\n",
       "      <td>...</td>\n",
       "      <td>...</td>\n",
       "      <td>...</td>\n",
       "      <td>...</td>\n",
       "      <td>...</td>\n",
       "    </tr>\n",
       "    <tr>\n",
       "      <th>172372</th>\n",
       "      <td>243</td>\n",
       "      <td>355227045600988</td>\n",
       "      <td>A158</td>\n",
       "      <td>used</td>\n",
       "      <td>used</td>\n",
       "      <td>48.251705</td>\n",
       "      <td>25.939603</td>\n",
       "      <td>009.2</td>\n",
       "      <td>119.04</td>\n",
       "      <td>2022-09-18 22:53:34</td>\n",
       "      <td>33</td>\n",
       "      <td>8T</td>\n",
       "      <td>coral</td>\n",
       "      <td>False</td>\n",
       "      <td>324</td>\n",
       "      <td>6</td>\n",
       "      <td>ЧТУ</td>\n",
       "      <td>Тролейбус 324 DNSNK</td>\n",
       "      <td>True</td>\n",
       "      <td>2</td>\n",
       "    </tr>\n",
       "    <tr>\n",
       "      <th>172373</th>\n",
       "      <td>243</td>\n",
       "      <td>355227045600988</td>\n",
       "      <td>A158</td>\n",
       "      <td>used</td>\n",
       "      <td>used</td>\n",
       "      <td>48.251657</td>\n",
       "      <td>25.939993</td>\n",
       "      <td>010.1</td>\n",
       "      <td>088.64</td>\n",
       "      <td>2022-09-18 22:53:37</td>\n",
       "      <td>33</td>\n",
       "      <td>8T</td>\n",
       "      <td>coral</td>\n",
       "      <td>False</td>\n",
       "      <td>324</td>\n",
       "      <td>6</td>\n",
       "      <td>ЧТУ</td>\n",
       "      <td>Тролейбус 324 DNSNK</td>\n",
       "      <td>True</td>\n",
       "      <td>2</td>\n",
       "    </tr>\n",
       "    <tr>\n",
       "      <th>172375</th>\n",
       "      <td>243</td>\n",
       "      <td>355227045600988</td>\n",
       "      <td>A158</td>\n",
       "      <td>used</td>\n",
       "      <td>used</td>\n",
       "      <td>48.251608</td>\n",
       "      <td>25.940352</td>\n",
       "      <td>001.0</td>\n",
       "      <td>000.00</td>\n",
       "      <td>2022-09-18 22:53:56</td>\n",
       "      <td>33</td>\n",
       "      <td>8T</td>\n",
       "      <td>coral</td>\n",
       "      <td>False</td>\n",
       "      <td>324</td>\n",
       "      <td>6</td>\n",
       "      <td>ЧТУ</td>\n",
       "      <td>Тролейбус 324 DNSNK</td>\n",
       "      <td>True</td>\n",
       "      <td>2</td>\n",
       "    </tr>\n",
       "    <tr>\n",
       "      <th>172377</th>\n",
       "      <td>243</td>\n",
       "      <td>355227045600988</td>\n",
       "      <td>A158</td>\n",
       "      <td>used</td>\n",
       "      <td>used</td>\n",
       "      <td>48.251597</td>\n",
       "      <td>25.940370</td>\n",
       "      <td>000.0</td>\n",
       "      <td>000.00</td>\n",
       "      <td>2022-09-18 22:54:16</td>\n",
       "      <td>33</td>\n",
       "      <td>8T</td>\n",
       "      <td>coral</td>\n",
       "      <td>False</td>\n",
       "      <td>324</td>\n",
       "      <td>6</td>\n",
       "      <td>ЧТУ</td>\n",
       "      <td>Тролейбус 324 DNSNK</td>\n",
       "      <td>True</td>\n",
       "      <td>2</td>\n",
       "    </tr>\n",
       "    <tr>\n",
       "      <th>172404</th>\n",
       "      <td>243</td>\n",
       "      <td>355227045600988</td>\n",
       "      <td>A158</td>\n",
       "      <td>used</td>\n",
       "      <td>used</td>\n",
       "      <td>48.289417</td>\n",
       "      <td>25.933453</td>\n",
       "      <td>014.9</td>\n",
       "      <td>016.52</td>\n",
       "      <td>2022-09-18 16:35:11</td>\n",
       "      <td>33</td>\n",
       "      <td>8T</td>\n",
       "      <td>coral</td>\n",
       "      <td>False</td>\n",
       "      <td>324</td>\n",
       "      <td>6</td>\n",
       "      <td>ЧТУ</td>\n",
       "      <td>Тролейбус 324 DNSNK</td>\n",
       "      <td>True</td>\n",
       "      <td>2</td>\n",
       "    </tr>\n",
       "  </tbody>\n",
       "</table>\n",
       "<p>3829 rows × 20 columns</p>\n",
       "</div>"
      ],
      "text/plain": [
       "         id             imei  name stateCode stateName        lat        lng  \\\n",
       "251     243  355227045600988  A158      used      used  48.251615  25.940343   \n",
       "542     243  355227045600988  A158      used      used  48.251615  25.940343   \n",
       "549     243  355227045600988  A158      used      used  48.251575  25.940482   \n",
       "550     243  355227045600988  A158      used      used  48.251613  25.940728   \n",
       "554     243  355227045600988  A158      used      used  48.251658  25.940742   \n",
       "...     ...              ...   ...       ...       ...        ...        ...   \n",
       "172372  243  355227045600988  A158      used      used  48.251705  25.939603   \n",
       "172373  243  355227045600988  A158      used      used  48.251657  25.939993   \n",
       "172375  243  355227045600988  A158      used      used  48.251608  25.940352   \n",
       "172377  243  355227045600988  A158      used      used  48.251597  25.940370   \n",
       "172404  243  355227045600988  A158      used      used  48.289417  25.933453   \n",
       "\n",
       "        speed orientation              gpstime  routeId routeName routeColour  \\\n",
       "251     000.0      000.00  2022-09-17 22:37:58       33        8T       coral   \n",
       "542     000.0      000.00  2022-09-18 03:19:08       33        8T       coral   \n",
       "549     003.5      000.00  2022-09-18 03:22:00       33        8T       coral   \n",
       "550     002.3      000.00  2022-09-18 03:22:18       33        8T       coral   \n",
       "554     000.0      000.00  2022-09-18 03:22:39       33        8T       coral   \n",
       "...       ...         ...                  ...      ...       ...         ...   \n",
       "172372  009.2      119.04  2022-09-18 22:53:34       33        8T       coral   \n",
       "172373  010.1      088.64  2022-09-18 22:53:37       33        8T       coral   \n",
       "172375  001.0      000.00  2022-09-18 22:53:56       33        8T       coral   \n",
       "172377  000.0      000.00  2022-09-18 22:54:16       33        8T       coral   \n",
       "172404  014.9      016.52  2022-09-18 16:35:11       33        8T       coral   \n",
       "\n",
       "        inDepo busNumber  perevId perevName               remark  online  \\\n",
       "251      False       324        6       ЧТУ  Тролейбус 324 DNSNK    True   \n",
       "542      False       324        6       ЧТУ  Тролейбус 324 DNSNK    True   \n",
       "549      False       324        6       ЧТУ  Тролейбус 324 DNSNK    True   \n",
       "550      False       324        6       ЧТУ  Тролейбус 324 DNSNK    True   \n",
       "554      False       324        6       ЧТУ  Тролейбус 324 DNSNK    True   \n",
       "...        ...       ...      ...       ...                  ...     ...   \n",
       "172372   False       324        6       ЧТУ  Тролейбус 324 DNSNK    True   \n",
       "172373   False       324        6       ЧТУ  Тролейбус 324 DNSNK    True   \n",
       "172375   False       324        6       ЧТУ  Тролейбус 324 DNSNK    True   \n",
       "172377   False       324        6       ЧТУ  Тролейбус 324 DNSNK    True   \n",
       "172404   False       324        6       ЧТУ  Тролейбус 324 DNSNK    True   \n",
       "\n",
       "        idBusTypes  \n",
       "251              2  \n",
       "542              2  \n",
       "549              2  \n",
       "550              2  \n",
       "554              2  \n",
       "...            ...  \n",
       "172372           2  \n",
       "172373           2  \n",
       "172375           2  \n",
       "172377           2  \n",
       "172404           2  \n",
       "\n",
       "[3829 rows x 20 columns]"
      ]
     },
     "execution_count": 14,
     "metadata": {},
     "output_type": "execute_result"
    }
   ],
   "source": [
    "vehicle_df"
   ]
  },
  {
   "cell_type": "code",
   "execution_count": 15,
   "id": "ee5db220",
   "metadata": {},
   "outputs": [
    {
     "data": {
      "text/plain": [
       "routeName  routeColour\n",
       "8T         coral          3829\n",
       "dtype: int64"
      ]
     },
     "execution_count": 15,
     "metadata": {},
     "output_type": "execute_result"
    }
   ],
   "source": [
    "vehicle_df[['routeName', 'routeColour']].value_counts()"
   ]
  },
  {
   "cell_type": "code",
   "execution_count": 16,
   "id": "fbcc9cf6",
   "metadata": {},
   "outputs": [],
   "source": [
    "import matplotlib as mpl\n",
    "\n",
    "cm = mpl.cm.get_cmap('jet')\n",
    "# viridis = mpl.colormaps['viridis'].resampled(8)"
   ]
  },
  {
   "cell_type": "code",
   "execution_count": 19,
   "id": "907316a9",
   "metadata": {
    "scrolled": true
   },
   "outputs": [
    {
     "data": {
      "text/html": [
       "<div style=\"width:100%;\"><div style=\"position:relative;width:100%;height:0;padding-bottom:60%;\"><span style=\"color:#565656\">Make this Notebook Trusted to load map: File -> Trust Notebook</span><iframe srcdoc=\"&lt;!DOCTYPE html&gt;\n",
       "&lt;head&gt;    \n",
       "    &lt;meta http-equiv=&quot;content-type&quot; content=&quot;text/html; charset=UTF-8&quot; /&gt;\n",
       "    \n",
       "        &lt;script&gt;\n",
       "            L_NO_TOUCH = false;\n",
       "            L_DISABLE_3D = false;\n",
       "        &lt;/script&gt;\n",
       "    \n",
       "    &lt;style&gt;html, body {width: 100%;height: 100%;margin: 0;padding: 0;}&lt;/style&gt;\n",
       "    &lt;style&gt;#map {position:absolute;top:0;bottom:0;right:0;left:0;}&lt;/style&gt;\n",
       "    &lt;script src=&quot;https://cdn.jsdelivr.net/npm/leaflet@1.6.0/dist/leaflet.js&quot;&gt;&lt;/script&gt;\n",
       "    &lt;script src=&quot;https://code.jquery.com/jquery-1.12.4.min.js&quot;&gt;&lt;/script&gt;\n",
       "    &lt;script src=&quot;https://maxcdn.bootstrapcdn.com/bootstrap/3.2.0/js/bootstrap.min.js&quot;&gt;&lt;/script&gt;\n",
       "    &lt;script src=&quot;https://cdnjs.cloudflare.com/ajax/libs/Leaflet.awesome-markers/2.0.2/leaflet.awesome-markers.js&quot;&gt;&lt;/script&gt;\n",
       "    &lt;link rel=&quot;stylesheet&quot; href=&quot;https://cdn.jsdelivr.net/npm/leaflet@1.6.0/dist/leaflet.css&quot;/&gt;\n",
       "    &lt;link rel=&quot;stylesheet&quot; href=&quot;https://maxcdn.bootstrapcdn.com/bootstrap/3.2.0/css/bootstrap.min.css&quot;/&gt;\n",
       "    &lt;link rel=&quot;stylesheet&quot; href=&quot;https://maxcdn.bootstrapcdn.com/bootstrap/3.2.0/css/bootstrap-theme.min.css&quot;/&gt;\n",
       "    &lt;link rel=&quot;stylesheet&quot; href=&quot;https://maxcdn.bootstrapcdn.com/font-awesome/4.6.3/css/font-awesome.min.css&quot;/&gt;\n",
       "    &lt;link rel=&quot;stylesheet&quot; href=&quot;https://cdnjs.cloudflare.com/ajax/libs/Leaflet.awesome-markers/2.0.2/leaflet.awesome-markers.css&quot;/&gt;\n",
       "    &lt;link rel=&quot;stylesheet&quot; href=&quot;https://cdn.jsdelivr.net/gh/python-visualization/folium/folium/templates/leaflet.awesome.rotate.min.css&quot;/&gt;\n",
       "    \n",
       "            &lt;meta name=&quot;viewport&quot; content=&quot;width=device-width,\n",
       "                initial-scale=1.0, maximum-scale=1.0, user-scalable=no&quot; /&gt;\n",
       "            &lt;style&gt;\n",
       "                #map_b5a031f43958885498d1960cc133ab1b {\n",
       "                    position: relative;\n",
       "                    width: 55.0%;\n",
       "                    height: 50.0%;\n",
       "                    left: 0.0%;\n",
       "                    top: 0.0%;\n",
       "                }\n",
       "            &lt;/style&gt;\n",
       "        \n",
       "&lt;/head&gt;\n",
       "&lt;body&gt;    \n",
       "    \n",
       "            &lt;div class=&quot;folium-map&quot; id=&quot;map_b5a031f43958885498d1960cc133ab1b&quot; &gt;&lt;/div&gt;\n",
       "        \n",
       "&lt;/body&gt;\n",
       "&lt;script&gt;    \n",
       "    \n",
       "            var map_b5a031f43958885498d1960cc133ab1b = L.map(\n",
       "                &quot;map_b5a031f43958885498d1960cc133ab1b&quot;,\n",
       "                {\n",
       "                    center: [48.27463626664926, 25.93673722033603],\n",
       "                    crs: L.CRS.EPSG3857,\n",
       "                    zoom: 12,\n",
       "                    zoomControl: true,\n",
       "                    preferCanvas: false,\n",
       "                }\n",
       "            );\n",
       "\n",
       "            \n",
       "\n",
       "        \n",
       "    \n",
       "            var tile_layer_fd28516553777cc3823aa3f878c52865 = L.tileLayer(\n",
       "                &quot;https://{s}.tile.openstreetmap.org/{z}/{x}/{y}.png&quot;,\n",
       "                {&quot;attribution&quot;: &quot;Data by \\u0026copy; \\u003ca href=\\&quot;http://openstreetmap.org\\&quot;\\u003eOpenStreetMap\\u003c/a\\u003e, under \\u003ca href=\\&quot;http://www.openstreetmap.org/copyright\\&quot;\\u003eODbL\\u003c/a\\u003e.&quot;, &quot;detectRetina&quot;: false, &quot;maxNativeZoom&quot;: 18, &quot;maxZoom&quot;: 18, &quot;minZoom&quot;: 0, &quot;noWrap&quot;: false, &quot;opacity&quot;: 1, &quot;subdomains&quot;: &quot;abc&quot;, &quot;tms&quot;: false}\n",
       "            ).addTo(map_b5a031f43958885498d1960cc133ab1b);\n",
       "        \n",
       "    \n",
       "            var poly_line_ff7d92ba51845aa9362b9da68af0754b = L.polyline(\n",
       "                [[48.251615, 25.940343333333335], [48.251615, 25.940343333333335], [48.251575, 25.940481666666667], [48.25161333333333, 25.940728333333333], [48.25165833333333, 25.940741666666668], [48.25175333333333, 25.94069], [48.251821666666665, 25.94015], [48.25185333333334, 25.93977], [48.251875, 25.93926], [48.251895, 25.938766666666666], [48.25196833333333, 25.937695], [48.251995, 25.937195], [48.25202, 25.93677], [48.251936666666666, 25.936611666666668], [48.25196, 25.936475], [48.25199166666667, 25.936278333333334], [48.25205166666667, 25.935775], [48.25211, 25.935143333333333], [48.252245, 25.933835], [48.252305, 25.933230000000002], [48.25235833333333, 25.93266], [48.25239833333333, 25.932063333333332], [48.252465, 25.931521666666665], [48.252523333333336, 25.93107], [48.252676666666666, 25.930801666666667], [48.25313, 25.93040166666667], [48.25365166666667, 25.930103333333335], [48.25429166666667, 25.92968], [48.254846666666666, 25.929343333333332], [48.25517, 25.929146666666668], [48.25560333333333, 25.92892833333333], [48.25675666666667, 25.92829], [48.25728333333333, 25.92817], [48.257733333333334, 25.928065], [48.25808833333333, 25.927991666666667], [48.258255, 25.92798833333333], [48.25844166666667, 25.927971666666668], [48.25893, 25.927856666666667], [48.25951666666667, 25.927763333333335], [48.260126666666665, 25.927648333333334], [48.26067, 25.927436666666665], [48.261268333333334, 25.927331666666667], [48.26189166666666, 25.927278333333334], [48.26248, 25.927258333333334], [48.26301, 25.927196666666667], [48.263526666666664, 25.927151666666667], [48.264071666666666, 25.927061666666667], [48.26428166666667, 25.92705], [48.26457666666666, 25.926988333333334], [48.265135, 25.92683], [48.26565166666666, 25.926743333333334], [48.266185, 25.926663333333334], [48.266641666666665, 25.926661666666668], [48.267265, 25.926883333333333], [48.267763333333335, 25.927053333333333], [48.26808333333334, 25.927173333333332], [48.268341666666664, 25.927411666666668], [48.26868, 25.927768333333333], [48.269041666666666, 25.927708333333335], [48.26907833333333, 25.927711666666667], [48.26915, 25.927363333333332], [48.268973333333335, 25.926903333333332], [48.268635, 25.92697666666667], [48.26823666666667, 25.926996666666668], [48.26785, 25.926846666666666], [48.2677, 25.9268], [48.267178333333334, 25.926655], [48.266981666666666, 25.92657833333333], [48.26663333333333, 25.926433333333332], [48.266215, 25.926455], [48.26558833333333, 25.926555], [48.26502166666667, 25.926613333333332], [48.26441833333333, 25.926678333333335], [48.263885, 25.926766666666666], [48.263133333333336, 25.926968333333335], [48.262475, 25.927113333333335], [48.261845, 25.9272], [48.260625, 25.92743], [48.260016666666665, 25.92753666666667], [48.25935333333334, 25.92764], [48.258795, 25.927751666666666], [48.25843, 25.927826666666668], [48.25801, 25.9279], [48.257686666666665, 25.928008333333334], [48.25766, 25.92866666666667], [48.25770333333333, 25.929013333333334], [48.257705, 25.929146666666668], [48.25774666666667, 25.929933333333334], [48.25777, 25.930631666666667], [48.257798333333334, 25.93078], [48.257873333333336, 25.93135], [48.25792, 25.931991666666665], [48.25797166666667, 25.932481666666668], [48.258046666666665, 25.933013333333335], [48.258131666666664, 25.93361833333333], [48.258285, 25.93429666666667], [48.25848166666667, 25.93509], [48.258743333333335, 25.935891666666667], [48.25888666666667, 25.936346666666665], [48.25924166666667, 25.937028333333334], [48.25951666666667, 25.937608333333333], [48.259793333333334, 25.93823666666667], [48.260223333333336, 25.939281666666666], [48.260578333333335, 25.94032], [48.260868333333335, 25.941258333333334], [48.261156666666665, 25.942153333333334], [48.261445, 25.943106666666665], [48.26153166666667, 25.9436], [48.26179666666667, 25.944181666666665], [48.26213666666666, 25.94521], [48.262435, 25.946191666666667], [48.262735, 25.947173333333332], [48.263025, 25.948161666666667], [48.263333333333335, 25.949155], [48.263595, 25.950088333333333], [48.26386333333333, 25.950878333333332], [48.264003333333335, 25.951316666666667], [48.26406166666667, 25.951545], [48.264068333333334, 25.951698333333333], [48.26383833333333, 25.951983333333335], [48.263155, 25.952476666666666], [48.26256166666667, 25.952908333333333], [48.26200333333333, 25.953278333333333], [48.26143833333333, 25.953668333333333], [48.260915, 25.95402], [48.26031166666667, 25.954445], [48.259725, 25.954823333333334], [48.25923, 25.95516], [48.258805, 25.955401666666667], [48.25815333333333, 25.955873333333333], [48.25792666666667, 25.956041666666668], [48.257533333333335, 25.956321666666668], [48.25696833333333, 25.956736666666668], [48.256405, 25.957088333333335], [48.25583666666667, 25.95747], [48.25528666666666, 25.957841666666667], [48.25481833333333, 25.958198333333332], [48.254595, 25.958381666666668], [48.254225, 25.958621666666666], [48.25392166666666, 25.958821666666665], [48.253688333333336, 25.958961666666667], [48.253346666666665, 25.959181666666666], [48.253008333333334, 25.959098333333333], [48.252901666666666, 25.95868], [48.25274666666667, 25.958185], [48.25266666666667, 25.957995], [48.25260166666666, 25.95782833333333], [48.252425, 25.957228333333333], [48.252195, 25.95648], [48.251963333333336, 25.955711666666666], [48.25172833333333, 25.954943333333333], [48.25150333333333, 25.954185], [48.251286666666665, 25.953491666666668], [48.25112166666667, 25.952928333333332], [48.25109333333333, 25.952455], [48.251115, 25.95201], [48.251153333333335, 25.95193], [48.251176666666666, 25.951905], [48.251308333333334, 25.951533333333334], [48.25129833333333, 25.950941666666665], [48.251243333333335, 25.950835], [48.25104833333334, 25.950956666666666], [48.251025, 25.951786666666667], [48.250993333333334, 25.952395], [48.251218333333334, 25.95364], [48.251506666666664, 25.954591666666666], [48.251825, 25.955671666666667], [48.252163333333336, 25.95667], [48.252435, 25.957643333333333], [48.252676666666666, 25.958498333333335], [48.252941666666665, 25.959215], [48.25335833333333, 25.959305], [48.253755, 25.959025], [48.254055, 25.958796666666668], [48.25442833333334, 25.958546666666667], [48.25537666666666, 25.957893333333335], [48.25572, 25.957668333333334], [48.25615333333333, 25.957381666666667], [48.25671666666667, 25.956921666666666], [48.25734333333333, 25.956476666666667], [48.25796166666667, 25.956043333333334], [48.258498333333335, 25.9557], [48.25893333333333, 25.955403333333333], [48.25935166666667, 25.955101666666668], [48.262123333333335, 25.953253333333333], [48.26233666666667, 25.9531], [48.26269, 25.952826666666667], [48.26316, 25.952508333333334], [48.26367333333334, 25.95215], [48.26391, 25.951985], [48.26445, 25.951593333333335], [48.26488333333333, 25.951323333333335], [48.26538333333333, 25.950988333333335], [48.266485, 25.95037], [48.266565, 25.950295], [48.26659333333333, 25.95017], [48.26679333333333, 25.949983333333332], [48.26721166666667, 25.949691666666666], [48.26768833333333, 25.949371666666668], [48.26810833333333, 25.949065], [48.268555, 25.948761666666666], [48.269035, 25.948465], [48.269355, 25.948238333333332], [48.269713333333335, 25.947963333333334], [48.26998, 25.947801666666667], [48.27028333333333, 25.947603333333333], [48.27043333333334, 25.947498333333332], [48.27063166666667, 25.94734], [48.270806666666665, 25.947196666666667], [48.27111333333333, 25.946933333333334], [48.271391666666666, 25.946681666666667], [48.27166, 25.946513333333332], [48.27194166666666, 25.946285], [48.27227, 25.946063333333335], [48.272595, 25.945876666666667], [48.27392833333333, 25.945045], [48.274355, 25.944765], [48.27480333333333, 25.944490000000002], [48.275195, 25.944245], [48.27534, 25.944141666666667], [48.275465, 25.94404], [48.27594, 25.943735], [48.27648, 25.943358333333332], [48.27697333333333, 25.94302], [48.277431666666665, 25.942695], [48.27784833333333, 25.942425], [48.27832333333333, 25.942088333333334], [48.279425, 25.941396666666666], [48.27997666666667, 25.940968333333334], [48.28057666666667, 25.94053], [48.28116333333333, 25.940113333333333], [48.281756666666666, 25.939685], [48.28234166666667, 25.939305], [48.282795, 25.938993333333332], [48.28325, 25.938683333333334], [48.28360833333333, 25.938383333333334], [48.28441333333333, 25.93785], [48.28483333333333, 25.937536666666666], [48.28521, 25.93727833333333], [48.285318333333336, 25.937170000000002], [48.28542, 25.937085], [48.28564166666666, 25.936941666666666], [48.28599833333333, 25.936653333333332], [48.28641666666667, 25.93635], [48.28686666666667, 25.935975], [48.28737, 25.935695], [48.28774, 25.93545], [48.28812833333333, 25.935151666666666], [48.288295, 25.935023333333334], [48.28865166666667, 25.934715], [48.289001666666664, 25.934496666666668], [48.28933833333333, 25.934465], [48.28994333333333, 25.93460333333333], [48.290281666666665, 25.934653333333333], [48.29069166666667, 25.934798333333333], [48.29105666666667, 25.934965], [48.29186166666667, 25.935321666666667], [48.29226, 25.935481666666668], [48.29244666666666, 25.935631666666666], [48.29243666666667, 25.935665], [48.292325, 25.935556666666667], [48.292245, 25.935953333333334], [48.292035, 25.936406666666667], [48.29197166666667, 25.937015], [48.291805, 25.93766], [48.29156833333333, 25.938336666666668], [48.291381666666666, 25.939051666666668], [48.29121, 25.939743333333332], [48.29112833333333, 25.940225], [48.29116, 25.940691666666666], [48.29099, 25.941428333333334], [48.29082833333333, 25.942421666666668], [48.29067666666667, 25.943436666666667], [48.29070333333333, 25.943823333333334], [48.290596666666666, 25.944565], [48.290483333333334, 25.945465], [48.29034, 25.946468333333332], [48.29013166666667, 25.947476666666667], [48.289895, 25.948541666666667], [48.289435, 25.950783333333334], [48.28924, 25.951713333333334], [48.289181666666664, 25.951998333333332], [48.28910666666667, 25.952353333333335], [48.28901833333333, 25.952766666666665], [48.288916666666665, 25.953285], [48.288808333333336, 25.95377], [48.288725, 25.954171666666667], [48.28863666666667, 25.954771666666666], [48.288315, 25.95632833333333], [48.28819166666667, 25.956703333333333], [48.288035, 25.95725], [48.28776, 25.958111666666667], [48.28741333333333, 25.959225], [48.287075, 25.960326666666667], [48.28673166666667, 25.96145], [48.28642166666667, 25.962548333333334], [48.286141666666666, 25.963508333333333], [48.28583166666667, 25.96443], [48.28556666666667, 25.96533], [48.285091666666666, 25.966871666666666], [48.28481166666667, 25.967901666666666], [48.284526666666665, 25.968896666666666], [48.28428, 25.969753333333333], [48.28404166666667, 25.970505], [48.283805, 25.971291666666666], [48.28355166666667, 25.971915], [48.28323, 25.972688333333334], [48.282875, 25.97346], [48.281933333333335, 25.975515], [48.28144666666667, 25.976568333333333], [48.28100666666667, 25.977605], [48.280615, 25.978546666666666], [48.2803, 25.979396666666666], [48.279915, 25.980203333333332], [48.27954, 25.980878333333333], [48.27934833333333, 25.98108], [48.279185, 25.981438333333333], [48.278815, 25.982168333333334], [48.278398333333335, 25.982931666666666], [48.277998333333336, 25.98372], [48.27751, 25.984558333333332], [48.276988333333335, 25.985501666666668], [48.276536666666665, 25.98639], [48.276105, 25.987236666666668], [48.275681666666664, 25.988053333333333], [48.27527666666667, 25.988858333333333], [48.274863333333336, 25.989623333333334], [48.274425, 25.990463333333334], [48.27397166666667, 25.991323333333334], [48.273203333333335, 25.992735], [48.27281166666667, 25.993438333333334], [48.272425, 25.994146666666666], [48.27214333333333, 25.994728333333335], [48.27196, 25.995098333333335], [48.27170666666667, 25.995588333333334], [48.27135, 25.996275], [48.271073333333334, 25.996755], [48.27084, 25.997151666666667], [48.270606666666666, 25.997185], [48.270345, 25.99691333333333], [48.269933333333334, 25.996491666666667], [48.26953, 25.996051666666666], [48.268501666666666, 25.994958333333333], [48.26794, 25.994315], [48.267383333333335, 25.993698333333334], [48.26687, 25.99316333333333], [48.26669833333333, 25.992803333333335], [48.266848333333336, 25.992436666666666], [48.26694, 25.99221], [48.26696, 25.992125], [48.26717333333333, 25.991731666666666], [48.26742, 25.991145], [48.267691666666664, 25.990641666666665], [48.26788833333333, 25.990215], [48.26789, 25.99009], [48.26775833333333, 25.989888333333333], [48.26768833333333, 25.989811666666668], [48.267558333333334, 25.98971], [48.267401666666665, 25.989638333333332], [48.267201666666665, 25.98956666666667], [48.26699833333333, 25.989448333333332], [48.26686, 25.989291666666666], [48.26654666666666, 25.989085], [48.266405, 25.989003333333333], [48.266245, 25.988893333333333], [48.266126666666665, 25.988808333333335], [48.265895, 25.98902], [48.26580833333333, 25.989176666666665], [48.26571166666667, 25.989333333333335], [48.26564166666667, 25.989483333333332], [48.265566666666665, 25.98964], [48.265395, 25.989971666666666], [48.26527, 25.990243333333332], [48.2651, 25.990601666666667], [48.26512833333334, 25.990778333333335], [48.265321666666665, 25.991083333333332], [48.265433333333334, 25.99123], [48.265496666666664, 25.991285], [48.265565, 25.991315], [48.265726666666666, 25.99144666666667], [48.265773333333335, 25.991533333333333], [48.26580166666667, 25.991536666666665], [48.26580166666667, 25.991536666666665]],\n",
       "                {&quot;bubblingMouseEvents&quot;: true, &quot;color&quot;: &quot;#00007f&quot;, &quot;dashArray&quot;: null, &quot;dashOffset&quot;: null, &quot;fill&quot;: false, &quot;fillColor&quot;: &quot;#00007f&quot;, &quot;fillOpacity&quot;: 0.2, &quot;fillRule&quot;: &quot;evenodd&quot;, &quot;lineCap&quot;: &quot;round&quot;, &quot;lineJoin&quot;: &quot;round&quot;, &quot;noClip&quot;: false, &quot;opacity&quot;: 0.8, &quot;smoothFactor&quot;: 1.0, &quot;stroke&quot;: true, &quot;weight&quot;: 2}\n",
       "            ).addTo(map_b5a031f43958885498d1960cc133ab1b);\n",
       "        \n",
       "    \n",
       "            var poly_line_646c6153ac701571d8a91e9486570cf3 = L.polyline(\n",
       "                [[48.26580166666667, 25.991536666666665], [48.266215, 25.992163333333334], [48.266305, 25.992241666666665], [48.26642666666667, 25.992196666666665], [48.266485, 25.992036666666667], [48.26667, 25.992005], [48.26684, 25.992271666666667], [48.26663166666667, 25.992781666666666], [48.26662833333334, 25.992931666666667], [48.26669, 25.99306], [48.266841666666664, 25.99322], [48.26701833333333, 25.993411666666667], [48.267345, 25.993755], [48.26759166666667, 25.994008333333333], [48.26791, 25.994363333333332], [48.26829333333333, 25.994756666666667], [48.268655, 25.995175], [48.268991666666665, 25.995533333333334], [48.26938333333333, 25.995953333333333], [48.269731666666665, 25.996363333333335], [48.270028333333336, 25.996665], [48.270395, 25.997075], [48.270673333333335, 25.997323333333334], [48.27090666666667, 25.997141666666668], [48.27117666666667, 25.996658333333333], [48.27173666666667, 25.995676666666668], [48.27224833333333, 25.994731666666667], [48.272731666666665, 25.993863333333334], [48.273195, 25.992961666666666], [48.273698333333336, 25.992025], [48.27426166666667, 25.991008333333333], [48.27489, 25.989806666666667], [48.27544666666667, 25.988736666666668], [48.27596666666667, 25.98776], [48.27672666666667, 25.986251666666668], [48.277078333333336, 25.985576666666667], [48.27762, 25.984635], [48.278191666666665, 25.983516666666667], [48.278805, 25.982363333333332], [48.279345, 25.98141], [48.27941, 25.981155], [48.27943166666667, 25.981108333333335], [48.279603333333334, 25.980809999999998], [48.279965, 25.98016833333333], [48.280275, 25.979468333333333], [48.28063, 25.978723333333335], [48.28098166666667, 25.978003333333334], [48.28140833333333, 25.97711333333333], [48.28187166666667, 25.97605666666667], [48.282383333333335, 25.974855], [48.28272166666667, 25.974001666666666], [48.28305833333334, 25.973206666666666], [48.283335, 25.972563333333333], [48.28366333333334, 25.971845], [48.28373, 25.971693333333334], [48.28393333333333, 25.971033333333335], [48.28422, 25.970123333333333], [48.284555, 25.969048333333333], [48.28492333333333, 25.967818333333334], [48.28529666666667, 25.96653], [48.28573, 25.965118333333333], [48.28619833333333, 25.96366666666667], [48.28662166666667, 25.962213333333334], [48.28704, 25.960805], [48.28744833333333, 25.95951833333333], [48.287848333333336, 25.958146666666668], [48.28819333333333, 25.95698], [48.288365, 25.956385], [48.28843833333333, 25.956005], [48.28852166666667, 25.955628333333333], [48.28861833333333, 25.95510833333333], [48.28873, 25.954535], [48.288865, 25.9539], [48.288988333333336, 25.953298333333333], [48.28912666666667, 25.95268], [48.289303333333336, 25.952093333333334], [48.289605, 25.950426666666665], [48.289595, 25.950388333333333], [48.289635, 25.950296666666667], [48.28981, 25.949521666666666], [48.290061666666666, 25.948278333333334], [48.29033, 25.947063333333332], [48.29043333333333, 25.946193333333333], [48.290443333333336, 25.94564], [48.29058833333333, 25.94475], [48.29071833333333, 25.94391], [48.290861666666665, 25.942965], [48.29116333333333, 25.940898333333333], [48.29129666666667, 25.939851666666666], [48.291581666666666, 25.938873333333333], [48.29192, 25.937795], [48.29219833333333, 25.936738333333334], [48.292431666666666, 25.936083333333332], [48.29243, 25.935991666666666], [48.29252666666667, 25.935681666666667], [48.29259166666667, 25.935305], [48.292656666666666, 25.93491], [48.292651666666664, 25.934535], [48.292766666666665, 25.933996666666665], [48.292858333333335, 25.933361666666666], [48.29299666666667, 25.93279], [48.29304166666667, 25.932513333333333], [48.293035, 25.932251666666666], [48.29306666666667, 25.931675], [48.29302166666667, 25.931466666666665], [48.29302833333333, 25.93134], [48.292991666666666, 25.931086666666666], [48.293663333333335, 25.928703333333335], [48.29394, 25.928181666666667], [48.29420666666667, 25.927925], [48.29456, 25.927305], [48.29486833333333, 25.927005], [48.295091666666664, 25.926698333333334], [48.29544166666667, 25.926318333333334], [48.29582166666667, 25.925831666666667], [48.296146666666665, 25.925456666666665], [48.296218333333336, 25.925338333333332], [48.29623, 25.925235], [48.29602833333333, 25.92469], [48.296013333333335, 25.924646666666668], [48.29540166666666, 25.92390333333333], [48.29512833333333, 25.92425], [48.294761666666666, 25.924926666666668], [48.29440666666667, 25.92564], [48.294336666666666, 25.92609], [48.294445, 25.926666666666666], [48.29448333333333, 25.927006666666667], [48.294488333333334, 25.927043333333334], [48.29450333333333, 25.927215], [48.293945, 25.927818333333335], [48.29362666666667, 25.928376666666665], [48.293418333333335, 25.928836666666665], [48.29317, 25.929305], [48.292915, 25.929823333333335], [48.292795, 25.930306666666667], [48.292825, 25.931173333333334], [48.29291333333333, 25.932045], [48.292955, 25.932525], [48.29299666666667, 25.932661666666668], [48.29299666666667, 25.932661666666668], [48.292875, 25.932801666666666], [48.292851666666664, 25.93282], [48.292656666666666, 25.93286], [48.292318333333334, 25.932895], [48.29187666666667, 25.932971666666667], [48.291585, 25.933028333333333], [48.291288333333334, 25.933023333333335], [48.29099166666666, 25.93314833333333], [48.290688333333335, 25.933176666666668], [48.290553333333335, 25.933296666666667], [48.290456666666664, 25.933586666666667], [48.29031, 25.933595], [48.28978, 25.933545], [48.289546666666666, 25.933495], [48.287661666666665, 25.932915], [48.287615, 25.932936666666667], [48.287395, 25.93321], [48.287305, 25.933623333333333], [48.287216666666666, 25.93393], [48.28675666666667, 25.933815], [48.286458333333336, 25.933698333333332], [48.286116666666665, 25.933588333333333], [48.285833333333336, 25.933476666666667], [48.285581666666666, 25.933386666666667], [48.285225, 25.93326666666667], [48.2847, 25.933075], [48.284083333333335, 25.932838333333333], [48.28352833333334, 25.932603333333333], [48.28326333333333, 25.932418333333334], [48.28304, 25.932318333333335], [48.282415, 25.932123333333333], [48.28160166666667, 25.931851666666667], [48.28108666666667, 25.931671666666666], [48.28077833333333, 25.931573333333333], [48.28002166666667, 25.9313], [48.27937333333333, 25.93104], [48.278061666666666, 25.930563333333332], [48.277325, 25.930315], [48.27654, 25.930011666666665], [48.27583833333333, 25.929731666666665], [48.275215, 25.929505], [48.27455666666667, 25.929346666666667], [48.27379, 25.929075], [48.272861666666664, 25.928741666666667], [48.271996666666666, 25.928441666666668], [48.27112, 25.928118333333334], [48.27035, 25.927833333333332], [48.26989, 25.92762], [48.26949333333334, 25.927498333333332], [48.26925166666667, 25.92726], [48.269245, 25.927245], [48.26917, 25.927083333333332], [48.268945, 25.926871666666667], [48.26851, 25.927036666666666], [48.26790333333334, 25.926871666666667], [48.26752333333334, 25.926763333333334], [48.267041666666664, 25.926611666666666], [48.26611, 25.926605], [48.265535, 25.926681666666667], [48.265, 25.926728333333333], [48.26443833333333, 25.926808333333334], [48.263753333333334, 25.926946666666666], [48.26307666666667, 25.927071666666667], [48.262555, 25.927168333333334], [48.262015, 25.92727], [48.26154, 25.927353333333333], [48.26096833333333, 25.927426666666666], [48.260403333333336, 25.927531666666667], [48.259955, 25.927598333333332], [48.259548333333335, 25.92768], [48.25906833333333, 25.927751666666666], [48.25855, 25.927841666666666], [48.257983333333335, 25.927953333333335], [48.257621666666665, 25.927986666666666], [48.25719333333333, 25.928046666666667], [48.25678166666667, 25.928171666666668], [48.256341666666664, 25.9284], [48.255871666666664, 25.92866666666667], [48.254776666666665, 25.929281666666668], [48.25414166666667, 25.92967], [48.25344333333334, 25.930068333333335], [48.25292666666667, 25.930345], [48.25256666666667, 25.930505], [48.25232833333333, 25.930625], [48.25228, 25.93075], [48.252296666666666, 25.930925], [48.25233333333333, 25.931263333333334], [48.252338333333334, 25.931283333333333], [48.252341666666666, 25.931396666666668], [48.252293333333334, 25.931985], [48.252235, 25.932723333333332], [48.252183333333335, 25.933481666666665], [48.252156666666664, 25.934143333333335], [48.25214166666667, 25.934656666666665], [48.25208833333333, 25.935318333333335], [48.25205833333333, 25.93605833333333], [48.252023333333334, 25.936711666666667], [48.25194333333334, 25.937418333333333], [48.2519, 25.937948333333335], [48.251873333333336, 25.938495], [48.251835, 25.938913333333332], [48.25175333333333, 25.93945666666667], [48.25159333333333, 25.939965], [48.25158666666667, 25.939983333333334], [48.251576666666665, 25.940118333333334], [48.25154666666667, 25.94059], [48.251578333333335, 25.94072], [48.251635, 25.940763333333333], [48.25188, 25.939683333333335], [48.251935, 25.938998333333334], [48.251985, 25.938261666666666], [48.25205833333333, 25.937553333333334], [48.25212666666667, 25.936925], [48.252145, 25.93661833333333], [48.25212833333333, 25.9366], [48.25214666666667, 25.9361], [48.252195, 25.935436666666668], [48.252253333333336, 25.934636666666666], [48.252336666666665, 25.93288], [48.252381666666665, 25.93204], [48.252428333333334, 25.931361666666668], [48.25255333333333, 25.930901666666667], [48.25279666666667, 25.930675], [48.25307, 25.930443333333333], [48.253613333333334, 25.930143333333334], [48.25421166666667, 25.929783333333333], [48.25462, 25.92953], [48.25490333333333, 25.929355], [48.25518833333334, 25.929206666666666], [48.25557833333333, 25.928981666666665], [48.25606833333333, 25.92871166666667], [48.256618333333336, 25.92839], [48.257115, 25.928206666666668], [48.25754166666667, 25.92811], [48.257888333333334, 25.92803333333333], [48.25818833333334, 25.927968333333332], [48.25883666666667, 25.927851666666665], [48.25967333333333, 25.927728333333334], [48.2605, 25.927616666666665], [48.26081833333333, 25.927583333333335], [48.26101666666667, 25.927586666666667], [48.26116833333333, 25.92751833333333], [48.263173333333334, 25.927266666666668], [48.264055, 25.927111666666665], [48.26472, 25.926953333333334], [48.264873333333334, 25.926856666666666], [48.26492666666667, 25.926818333333333], [48.265085, 25.92675], [48.26566166666667, 25.926705], [48.266346666666664, 25.926625], [48.26688166666667, 25.926626666666667], [48.2679, 25.927005], [48.26824166666667, 25.927131666666668], [48.268475, 25.927443333333333], [48.26874, 25.92777], [48.26884833333333, 25.927791666666668], [48.26922666666667, 25.927643333333332], [48.269816666666664, 25.927743333333332], [48.27048, 25.92800666666667], [48.27057833333333, 25.928058333333333], [48.27057, 25.928076666666666], [48.2712, 25.928288333333334], [48.27179833333334, 25.928483333333332], [48.27249666666667, 25.92874], [48.27417, 25.929365], [48.274968333333334, 25.92962], [48.275135, 25.92967], [48.27518666666667, 25.929656666666666], [48.275635, 25.92985], [48.27600666666667, 25.929955], [48.27652166666667, 25.930088333333334], [48.27735, 25.930385], [48.278925, 25.930993333333333], [48.27955333333333, 25.931251666666668], [48.279595, 25.931263333333334], [48.280408333333334, 25.931553333333333], [48.281263333333335, 25.93185], [48.281893333333336, 25.932111666666668], [48.282095, 25.932135], [48.282691666666665, 25.932323333333333], [48.2835, 25.932613333333332], [48.28418833333333, 25.9329], [48.28489, 25.933168333333334], [48.28568166666667, 25.93352], [48.285695, 25.933528333333335], [48.285735, 25.933521666666667], [48.28581166666667, 25.933516666666666], [48.286078333333336, 25.933641666666666], [48.286355, 25.93374], [48.286705, 25.933846666666668], [48.28713166666667, 25.934001666666667], [48.287236666666665, 25.933934999999998], [48.287315, 25.933835], [48.287378333333336, 25.933565], [48.28749833333333, 25.933015], [48.287975, 25.933106666666667], [48.288065, 25.933083333333332], [48.28807166666667, 25.93307666666667], [48.28820833333333, 25.933105], [48.28843333333333, 25.93316], [48.28867666666667, 25.933231666666668], [48.28901333333334, 25.93331], [48.289366666666666, 25.93341], [48.28974, 25.933531666666667], [48.290463333333335, 25.933731666666667], [48.29076166666667, 25.933953333333335], [48.291088333333335, 25.93417], [48.29144, 25.934363333333334], [48.291815, 25.93458], [48.292213333333336, 25.934806666666667], [48.29249333333333, 25.934956666666668], [48.29257833333333, 25.934935], [48.29264333333333, 25.93489], [48.292725, 25.934365], [48.292838333333336, 25.933921666666667], [48.29299666666667, 25.93337], [48.293095, 25.932915], [48.29306833333333, 25.932751666666668], [48.293076666666664, 25.932636666666667], [48.29302833333333, 25.932438333333334], [48.293011666666665, 25.932096666666666], [48.29300166666667, 25.93162166666667], [48.292928333333336, 25.930991666666667], [48.292881666666666, 25.930413333333334], [48.292946666666666, 25.929996666666668], [48.29320166666667, 25.929593333333333], [48.293526666666665, 25.92899166666667], [48.29395, 25.928453333333334], [48.29448333333333, 25.927751666666666], [48.29442, 25.927625], [48.294468333333334, 25.92740166666667], [48.29466333333333, 25.927185], [48.294943333333336, 25.926848333333332], [48.295188333333336, 25.92662], [48.295588333333335, 25.926158333333333], [48.29562333333333, 25.926033333333333], [48.29578, 25.925886666666667], [48.29621, 25.925101666666666], [48.295975, 25.92459], [48.29564833333333, 25.923973333333333], [48.29555166666667, 25.923881666666666], [48.29551166666667, 25.923878333333334], [48.29521666666667, 25.924148333333335], [48.29495166666667, 25.924601666666668]],\n",
       "                {&quot;bubblingMouseEvents&quot;: true, &quot;color&quot;: &quot;#0000f1&quot;, &quot;dashArray&quot;: null, &quot;dashOffset&quot;: null, &quot;fill&quot;: false, &quot;fillColor&quot;: &quot;#0000f1&quot;, &quot;fillOpacity&quot;: 0.2, &quot;fillRule&quot;: &quot;evenodd&quot;, &quot;lineCap&quot;: &quot;round&quot;, &quot;lineJoin&quot;: &quot;round&quot;, &quot;noClip&quot;: false, &quot;opacity&quot;: 0.8, &quot;smoothFactor&quot;: 1.0, &quot;stroke&quot;: true, &quot;weight&quot;: 2}\n",
       "            ).addTo(map_b5a031f43958885498d1960cc133ab1b);\n",
       "        \n",
       "    \n",
       "            var poly_line_c07e6640f067282721a05ff9555ca7df = L.polyline(\n",
       "                [[48.29495166666667, 25.924601666666668], [48.29463, 25.925223333333335], [48.29432166666667, 25.925856666666668], [48.29435, 25.926066666666667], [48.294405, 25.926301666666667], [48.29449666666667, 25.926781666666667], [48.2945, 25.926983333333332], [48.29417333333333, 25.927623333333333], [48.293881666666664, 25.927981666666668], [48.293555, 25.928625], [48.29314, 25.92944333333333], [48.29286333333334, 25.929883333333333], [48.29286333333334, 25.93001], [48.29289833333333, 25.930358333333334], [48.29297, 25.93132333333333], [48.293058333333335, 25.932248333333334], [48.29257166666667, 25.93284], [48.29237333333333, 25.932865], [48.29235666666667, 25.932885], [48.291936666666665, 25.932915], [48.291691666666665, 25.932973333333333], [48.29144333333333, 25.933033333333334], [48.29123166666667, 25.93307], [48.29102833333334, 25.933113333333335], [48.29076166666667, 25.933151666666667], [48.290551666666666, 25.933141666666668], [48.29041333333333, 25.933353333333333], [48.290365, 25.9336], [48.29018833333333, 25.93357], [48.289915, 25.933533333333333], [48.289653333333334, 25.933483333333335], [48.289425, 25.933426666666666], [48.28917833333333, 25.933346666666665], [48.288941666666666, 25.933301666666665], [48.2887, 25.93319333333333], [48.288575, 25.93321], [48.288428333333336, 25.933166666666665], [48.28821, 25.933058333333335], [48.28796, 25.932983333333333], [48.28765666666666, 25.932938333333333], [48.287635, 25.93294], [48.28754333333333, 25.932941666666668], [48.287378333333336, 25.933403333333334], [48.287326666666665, 25.93374], [48.28684666666667, 25.933815], [48.286585, 25.933733333333333], [48.28628, 25.933646666666668], [48.28599166666667, 25.933551666666666], [48.285486666666664, 25.93338], [48.28525, 25.933295], [48.28485666666667, 25.93314], [48.284305, 25.932938333333333], [48.28387333333333, 25.93275], [48.283478333333335, 25.932581666666668], [48.28326666666667, 25.932455], [48.283251666666665, 25.932441666666666], [48.283225, 25.93238], [48.28303833333333, 25.932343333333332], [48.28261, 25.932221666666667], [48.28203666666667, 25.932038333333335], [48.281393333333334, 25.931796666666667], [48.28021666666667, 25.9314], [48.28019333333334, 25.931405], [48.27949666666667, 25.931121666666666], [48.279315, 25.931018333333334], [48.27930666666666, 25.931033333333332], [48.27896833333333, 25.930963333333334], [48.278365, 25.930701666666668], [48.277785, 25.930476666666667], [48.27710666666667, 25.930231666666668], [48.276716666666665, 25.93008], [48.276385, 25.930021666666665], [48.27592, 25.929835], [48.27567666666667, 25.929736666666667], [48.27567166666667, 25.92973], [48.27566, 25.929716666666668], [48.275485, 25.929658333333332], [48.27502166666667, 25.929495], [48.274465, 25.929315], [48.273826666666665, 25.929183333333334], [48.273181666666666, 25.928938333333335], [48.272475, 25.928676666666668], [48.27170666666667, 25.928396666666668], [48.27045, 25.927935], [48.270383333333335, 25.927898333333335], [48.27004, 25.927745], [48.26983666666667, 25.927636666666668], [48.269821666666665, 25.927613333333333], [48.26942666666667, 25.92749], [48.269245, 25.92732833333333], [48.268935, 25.926898333333334], [48.268458333333335, 25.927065], [48.26784, 25.92684], [48.267783333333334, 25.926821666666665], [48.26739666666667, 25.926726666666667], [48.267015, 25.926566666666666], [48.266663333333334, 25.926471666666668], [48.266281666666664, 25.926526666666668], [48.265773333333335, 25.9266], [48.26542666666667, 25.926671666666667], [48.26493, 25.926771666666667], [48.264316666666666, 25.926828333333333], [48.26383166666667, 25.926895000000002], [48.26219666666667, 25.927163333333333], [48.26137333333333, 25.927298333333333], [48.260828333333336, 25.927396666666667], [48.260281666666664, 25.92744666666667], [48.25982333333334, 25.927588333333333], [48.259165, 25.927706666666666], [48.258543333333336, 25.92778], [48.258021666666664, 25.927856666666667], [48.258005, 25.927843333333332], [48.25766333333333, 25.92791], [48.25718833333333, 25.927958333333333], [48.25666666666667, 25.928153333333334], [48.25603666666667, 25.928483333333332], [48.254598333333334, 25.929375], [48.253935, 25.929785], [48.25326333333334, 25.930183333333332], [48.25277666666667, 25.930435], [48.25245666666667, 25.930575], [48.25228333333333, 25.930821666666667], [48.25235333333333, 25.93126], [48.252296666666666, 25.931921666666668], [48.252228333333335, 25.932773333333333], [48.25215333333333, 25.934281666666667], [48.25213, 25.93477], [48.25208833333333, 25.935468333333333], [48.252028333333335, 25.936261666666667], [48.25198666666667, 25.936933333333332], [48.25194333333334, 25.937640000000002], [48.25192, 25.938288333333333], [48.25185833333333, 25.938788333333335], [48.2518, 25.939285], [48.25172666666667, 25.939466666666668], [48.251643333333334, 25.93966], [48.25157, 25.940093333333333], [48.251555, 25.940558333333332], [48.25169, 25.940756666666665], [48.251803333333335, 25.94056], [48.251846666666665, 25.940121666666666], [48.25190333333333, 25.939423333333334], [48.251965, 25.938558333333333], [48.25201333333333, 25.937871666666666], [48.252068333333334, 25.937145], [48.25212, 25.93661], [48.25214666666667, 25.935746666666667], [48.252206666666666, 25.934885], [48.25228333333333, 25.933975], [48.25234, 25.933015], [48.25239333333333, 25.932185], [48.252445, 25.931476666666665], [48.25255166666667, 25.930995], [48.25280166666667, 25.93073], [48.25287333333333, 25.930631666666667], [48.253305, 25.93035], [48.25393, 25.929965], [48.25445, 25.929656666666666], [48.255046666666665, 25.929288333333332], [48.25557666666667, 25.92899], [48.25624166666667, 25.92859], [48.25688, 25.928253333333334], [48.257461666666664, 25.928126666666667], [48.257845, 25.928046666666667], [48.2581, 25.92798833333333], [48.258536666666664, 25.927925], [48.25915833333333, 25.927773333333334], [48.25993666666667, 25.927665], [48.261026666666666, 25.927565], [48.26147666666667, 25.927485], [48.261653333333335, 25.927478333333333], [48.261943333333335, 25.927438333333335], [48.26260666666667, 25.92734], [48.263376666666666, 25.927183333333332], [48.264155, 25.92707], [48.26472, 25.926916666666667], [48.26484333333333, 25.926828333333333], [48.26504166666667, 25.92679], [48.26527333333333, 25.926793333333332], [48.26654666666666, 25.92671], [48.267066666666665, 25.926848333333332], [48.26768166666667, 25.927041666666668], [48.26802333333333, 25.92716], [48.268298333333334, 25.92732833333333], [48.26847166666667, 25.927635], [48.26873666666667, 25.92784], [48.26886833333333, 25.92783], [48.26906833333334, 25.92775333333333], [48.269565, 25.927695], [48.27020666666667, 25.927921666666666], [48.27063166666667, 25.928106666666668], [48.270628333333335, 25.928111666666666], [48.270833333333336, 25.928133333333335], [48.271483333333336, 25.928368333333335], [48.27198, 25.92856], [48.27224833333333, 25.92865], [48.272996666666664, 25.92892], [48.27384833333333, 25.929225], [48.279736666666665, 25.931286666666665], [48.27973, 25.931285], [48.27974833333333, 25.931296666666668], [48.280071666666664, 25.931408333333334], [48.280991666666665, 25.931738333333332], [48.281818333333334, 25.932106666666666], [48.28194, 25.932145], [48.282045, 25.93216333333333], [48.28271, 25.932375], [48.28369, 25.932736666666667], [48.28541833333333, 25.933365], [48.285698333333336, 25.933516666666666], [48.28573, 25.933561666666666], [48.28608666666667, 25.933676666666667], [48.28642166666667, 25.9338], [48.28682, 25.933945], [48.287198333333336, 25.933988333333332], [48.28735, 25.933685], [48.28765833333333, 25.933038333333332], [48.287971666666664, 25.933131666666668], [48.287995, 25.93310333333333], [48.2881, 25.93313], [48.28830333333333, 25.93319], [48.288625, 25.933226666666666], [48.288891666666665, 25.933241666666667], [48.289045, 25.933278333333334], [48.28919333333333, 25.933313333333334], [48.28936, 25.933358333333334], [48.28954, 25.933421666666668], [48.28997, 25.93355], [48.290636666666664, 25.93385333333333], [48.290971666666664, 25.934028333333334], [48.291293333333336, 25.934191666666667], [48.29157, 25.934358333333332], [48.291828333333335, 25.934551666666668], [48.292135, 25.934795], [48.29241833333333, 25.935031666666667], [48.292518333333334, 25.935008333333332], [48.292631666666665, 25.934645], [48.292766666666665, 25.93417], [48.29297666666667, 25.933468333333334], [48.293108333333336, 25.932981666666667], [48.293075, 25.932760000000002], [48.293056666666665, 25.932538333333333], [48.29305, 25.932293333333334], [48.29305, 25.931763333333333], [48.29300833333333, 25.931098333333335], [48.29293833333333, 25.930468333333334], [48.29295333333334, 25.930061666666667], [48.293351666666666, 25.929293333333334], [48.29365833333333, 25.92873], [48.29398666666667, 25.92806], [48.294291666666666, 25.927658333333333], [48.294358333333335, 25.92743], [48.29465166666667, 25.927133333333334], [48.295028333333335, 25.926733333333335], [48.295161666666665, 25.926585], [48.29550166666667, 25.92622666666667], [48.29577333333334, 25.925918333333332], [48.296285, 25.925211666666666], [48.2961, 25.92487], [48.296, 25.924551666666666], [48.29597166666667, 25.92453], [48.29571, 25.923993333333332], [48.295495, 25.92378666666667], [48.29512666666667, 25.924265], [48.29486833333333, 25.924795], [48.29454666666667, 25.925458333333335], [48.29434333333333, 25.926031666666667], [48.29441166666667, 25.926631666666665], [48.29445, 25.926833333333335], [48.294486666666664, 25.926881666666667], [48.294505, 25.92699], [48.29454166666667, 25.927126666666666], [48.29452833333333, 25.927313333333334], [48.29433, 25.92756], [48.29369, 25.928398333333334], [48.29346833333334, 25.928845], [48.29315166666667, 25.929503333333333], [48.292955, 25.929985], [48.29286333333334, 25.93027], [48.29279666666667, 25.930656666666668], [48.29273333333333, 25.930905], [48.292768333333335, 25.931346666666666], [48.29282666666667, 25.932048333333334], [48.29295333333334, 25.93265], [48.29295666666667, 25.932763333333334], [48.292905, 25.932813333333332], [48.292875, 25.932826666666667], [48.29257166666667, 25.932853333333334], [48.29234833333334, 25.932906666666668], [48.29216666666667, 25.93303166666667], [48.291873333333335, 25.932968333333335], [48.291755, 25.93298], [48.29157333333333, 25.93301], [48.29137333333333, 25.932973333333333], [48.29094, 25.933121666666665], [48.29081, 25.93319333333333], [48.29067666666667, 25.933166666666665], [48.29051666666667, 25.93329333333333], [48.29049166666667, 25.933483333333335], [48.29036, 25.933623333333333], [48.29018, 25.93365], [48.28994, 25.933616666666666], [48.289665, 25.93357], [48.289388333333335, 25.933471666666666], [48.289105, 25.933351666666667], [48.288578333333334, 25.933108333333333], [48.28825166666667, 25.933016666666667], [48.28790166666667, 25.932983333333333], [48.28765666666666, 25.932938333333333], [48.287436666666665, 25.933143333333334], [48.28735666666667, 25.933498333333333], [48.287255, 25.93389], [48.287083333333335, 25.93387], [48.286805, 25.93378], [48.286453333333334, 25.933668333333333], [48.286155, 25.933553333333332], [48.28579833333333, 25.93345], [48.285453333333336, 25.933315], [48.28324833333333, 25.932413333333333], [48.28324833333333, 25.932413333333333], [48.283195, 25.93237], [48.283163333333334, 25.93237], [48.28299666666667, 25.932321666666667], [48.282315, 25.932098333333332], [48.28145333333333, 25.931756666666665], [48.279603333333334, 25.931088333333335], [48.279311666666665, 25.931013333333333], [48.27879, 25.930886666666666], [48.27813, 25.930631666666667], [48.277385, 25.930331666666667], [48.27672333333334, 25.930106666666667], [48.27625, 25.930018333333333], [48.275668333333336, 25.92976], [48.27502833333333, 25.929485], [48.274315, 25.929248333333334], [48.27330666666667, 25.9289], [48.27256166666667, 25.928641666666667], [48.271545, 25.928326666666667], [48.27072666666667, 25.928018333333334], [48.26994666666667, 25.92769], [48.269835, 25.927598333333332], [48.269346666666664, 25.92737], [48.26907333333333, 25.926971666666667], [48.268791666666665, 25.926886666666668], [48.268526666666666, 25.927025], [48.26785, 25.92683], [48.267801666666664, 25.926798333333334], [48.267536666666665, 25.926746666666666], [48.26697166666667, 25.926568333333332], [48.26642, 25.92656], [48.265723333333334, 25.926628333333333], [48.26490666666667, 25.926766666666666], [48.26462, 25.926766666666666], [48.26419833333333, 25.926788333333334], [48.26411, 25.926855], [48.26345333333333, 25.927005], [48.262535, 25.927143333333333], [48.26155833333333, 25.927305], [48.260825, 25.927425], [48.26045, 25.927483333333335], [48.26017, 25.927506666666666], [48.25976, 25.927633333333333], [48.258963333333334, 25.927766666666667], [48.25841333333333, 25.927843333333332], [48.25818, 25.927851666666665], [48.25772666666667, 25.927913333333333], [48.25716666666667, 25.927996666666665], [48.25660333333333, 25.928246666666666], [48.25588666666667, 25.92866666666667], [48.25444666666667, 25.929516666666668], [48.25396666666666, 25.929811666666666], [48.253526666666666, 25.930083333333332], [48.25313166666667, 25.930301666666665], [48.252788333333335, 25.930435], [48.252653333333335, 25.930486666666667], [48.25237, 25.930596666666666], [48.25228666666667, 25.930693333333334], [48.25227, 25.93078], [48.25230166666667, 25.931783333333332], [48.252246666666665, 25.932586666666666], [48.252201666666664, 25.93333833333333], [48.25215, 25.934096666666665], [48.25212833333333, 25.934596666666668], [48.25208666666666, 25.935358333333333]],\n",
       "                {&quot;bubblingMouseEvents&quot;: true, &quot;color&quot;: &quot;#004cff&quot;, &quot;dashArray&quot;: null, &quot;dashOffset&quot;: null, &quot;fill&quot;: false, &quot;fillColor&quot;: &quot;#004cff&quot;, &quot;fillOpacity&quot;: 0.2, &quot;fillRule&quot;: &quot;evenodd&quot;, &quot;lineCap&quot;: &quot;round&quot;, &quot;lineJoin&quot;: &quot;round&quot;, &quot;noClip&quot;: false, &quot;opacity&quot;: 0.8, &quot;smoothFactor&quot;: 1.0, &quot;stroke&quot;: true, &quot;weight&quot;: 2}\n",
       "            ).addTo(map_b5a031f43958885498d1960cc133ab1b);\n",
       "        \n",
       "    \n",
       "            var poly_line_d9e2fa04c932ab4636834204c14563fa = L.polyline(\n",
       "                [[48.25208666666666, 25.935358333333333], [48.252046666666665, 25.93628], [48.25199166666667, 25.937218333333334], [48.251955, 25.937816666666667], [48.251936666666666, 25.937853333333333], [48.25192833333333, 25.93803], [48.25188, 25.938521666666666], [48.25183666666667, 25.938883333333333], [48.25179833333333, 25.939346666666665], [48.25166, 25.93969166666667], [48.251623333333335, 25.93982], [48.25161166666667, 25.94014], [48.251576666666665, 25.940276666666666], [48.25156833333333, 25.940285], [48.251598333333334, 25.94072], [48.25169, 25.940736666666666], [48.251828333333336, 25.940323333333332], [48.25188166666667, 25.93988166666667], [48.251931666666664, 25.939275], [48.25198833333334, 25.938548333333333], [48.25206166666667, 25.937886666666667], [48.25210333333333, 25.937083333333334], [48.25213333333333, 25.936623333333333], [48.25212166666667, 25.936606666666666], [48.252111666666664, 25.936436666666665], [48.252116666666666, 25.936251666666667], [48.252195, 25.935416666666665], [48.252245, 25.934881666666666], [48.252271666666665, 25.934446666666666], [48.25230333333333, 25.933966666666667], [48.252343333333336, 25.9332], [48.25235, 25.932483333333334], [48.252401666666664, 25.931698333333333], [48.252475, 25.931095], [48.25252833333333, 25.93094333333333], [48.252745, 25.93070833333333], [48.25288333333334, 25.930605], [48.25327333333333, 25.930345], [48.25389166666667, 25.929966666666665], [48.254556666666666, 25.929553333333335], [48.25519, 25.929173333333335], [48.25584333333333, 25.928801666666665], [48.256515, 25.928428333333333], [48.257065, 25.92821], [48.25741166666667, 25.928156666666666], [48.25852166666667, 25.927968333333332], [48.259098333333334, 25.927893333333333], [48.259798333333336, 25.927751666666666], [48.26029833333333, 25.927675], [48.2606, 25.927611666666667], [48.26085833333333, 25.927583333333335], [48.26100666666667, 25.927581666666665], [48.261035, 25.927591666666668], [48.26105833333333, 25.927588333333333], [48.261545, 25.927478333333333], [48.26204833333333, 25.92740166666667], [48.26273, 25.927295], [48.26341166666667, 25.92721], [48.26389, 25.927155], [48.264005, 25.92713], [48.26426, 25.927033333333334], [48.26452166666667, 25.926928333333333], [48.26477333333333, 25.926875], [48.264916666666664, 25.926815], [48.26506333333333, 25.926756666666666], [48.265503333333335, 25.926728333333333], [48.266558333333336, 25.926631666666665], [48.266981666666666, 25.926735], [48.267561666666666, 25.92694], [48.268005, 25.927091666666666], [48.26833833333333, 25.927288333333333], [48.2687, 25.927758333333333], [48.26925166666667, 25.927636666666668], [48.269526666666664, 25.92765], [48.26987, 25.92777], [48.270363333333336, 25.928013333333332], [48.27063, 25.928116666666668], [48.27137666666667, 25.928315], [48.27195833333333, 25.928533333333334], [48.272615, 25.92882], [48.27343666666667, 25.929095], [48.274323333333335, 25.929346666666667], [48.27515833333333, 25.929653333333334], [48.275803333333336, 25.929866666666666], [48.276045, 25.929936666666666], [48.27681, 25.930183333333332], [48.277611666666665, 25.930458333333334], [48.27858666666667, 25.93082], [48.279516666666666, 25.931215], [48.280365, 25.931535], [48.28146, 25.931921666666668], [48.281913333333335, 25.932125], [48.28203833333333, 25.93214], [48.282558333333334, 25.932296666666666], [48.28342333333333, 25.932616666666668], [48.284306666666666, 25.932926666666667], [48.285133333333334, 25.933256666666665], [48.285685, 25.9335], [48.28586333333333, 25.933548333333334], [48.28655, 25.933816666666665], [48.287056666666665, 25.933995], [48.28720333333333, 25.93399], [48.287281666666665, 25.933843333333332], [48.287395, 25.9335], [48.28751333333334, 25.933023333333335], [48.287616666666665, 25.932995], [48.28791, 25.933091666666666], [48.28802, 25.93311], [48.288273333333336, 25.933191666666666], [48.288615, 25.933321666666668], [48.28958333333333, 25.933543333333333], [48.289928333333336, 25.933626666666665], [48.29027333333333, 25.933746666666668], [48.290645, 25.933901666666667], [48.29111, 25.93415], [48.29153, 25.934371666666667], [48.291955, 25.934653333333333], [48.292375, 25.934985], [48.29251333333333, 25.935033333333333], [48.29259833333333, 25.93498], [48.29266333333333, 25.934743333333333], [48.29287, 25.933686666666667], [48.293015, 25.93307666666667], [48.29300333333333, 25.932811666666666], [48.2931, 25.932621666666666], [48.293115, 25.932488333333332], [48.293105, 25.932431666666666], [48.2931, 25.932363333333335], [48.293103333333335, 25.932183333333334], [48.293058333333335, 25.931531666666668], [48.29297833333333, 25.930803333333333], [48.29297, 25.930163333333333], [48.29349666666667, 25.929054999999998], [48.293895, 25.928263333333334], [48.29418166666667, 25.927843333333332], [48.29436166666667, 25.927523333333333], [48.29465, 25.927158333333335], [48.295051666666666, 25.926755], [48.29561833333333, 25.926026666666665], [48.29602833333333, 25.925563333333333], [48.296218333333336, 25.925381666666667], [48.29604166666667, 25.92475], [48.295935, 25.92459], [48.295895, 25.92457], [48.29581, 25.924431666666667], [48.295523333333335, 25.923835], [48.29529, 25.92409], [48.294988333333336, 25.924561666666666], [48.294685, 25.925176666666665], [48.29440666666667, 25.92571], [48.29434166666667, 25.925905], [48.294395, 25.92614], [48.2945, 25.92668], [48.29454, 25.92702], [48.29454166666667, 25.927198333333333], [48.294441666666664, 25.927345], [48.294085, 25.92774], [48.293823333333336, 25.928175], [48.29373, 25.928306666666668], [48.29369666666667, 25.928416666666667], [48.29347, 25.928898333333333], [48.29309, 25.92961], [48.29292, 25.930053333333333], [48.292928333333336, 25.930611666666668], [48.29304833333333, 25.931395], [48.29312, 25.932293333333334], [48.29268666666667, 25.93282333333333], [48.292545, 25.932815], [48.29251333333333, 25.93282], [48.292341666666665, 25.932906666666668], [48.292341666666665, 25.932906666666668], [48.292093333333334, 25.93302], [48.292051666666666, 25.933033333333334], [48.29197666666666, 25.933035], [48.291815, 25.933036666666666], [48.291653333333336, 25.933026666666667], [48.29147, 25.93302], [48.29132666666667, 25.933028333333333], [48.291158333333335, 25.933095], [48.29087, 25.933045], [48.29064, 25.933125], [48.290551666666666, 25.933511666666668], [48.29049166666667, 25.933556666666668], [48.290076666666664, 25.933521666666667], [48.28978166666667, 25.933488333333333], [48.289495, 25.933448333333335], [48.28916666666667, 25.93338], [48.28876666666667, 25.933215], [48.288285, 25.933073333333333], [48.287825, 25.932976666666665], [48.28769, 25.932918333333333], [48.28764, 25.932941666666668], [48.287443333333336, 25.933215], [48.28735666666667, 25.933598333333332], [48.28727166666667, 25.933908333333335], [48.28722666666667, 25.933943333333332], [48.28713333333334, 25.933886666666666], [48.286885, 25.933838333333334], [48.286678333333334, 25.933801666666668], [48.28641833333333, 25.933675], [48.28590666666667, 25.933506666666666], [48.28563, 25.933416666666666], [48.285255, 25.933283333333332], [48.284598333333335, 25.933063333333333], [48.283908333333336, 25.932781666666667], [48.283433333333335, 25.932575], [48.283205, 25.932485], [48.283188333333335, 25.932498333333335], [48.28315333333333, 25.932438333333334], [48.282628333333335, 25.932303333333333], [48.2818, 25.931996666666667], [48.281083333333335, 25.931758333333335], [48.28065, 25.93159], [48.279893333333334, 25.931311666666666], [48.279331666666664, 25.930983333333334], [48.279335, 25.930976666666666], [48.279181666666666, 25.930938333333334], [48.27855, 25.930808333333335], [48.27773333333333, 25.930526666666665], [48.276875, 25.930175], [48.27670666666667, 25.930078333333334], [48.276691666666665, 25.930071666666667], [48.27666833333333, 25.930093333333332], [48.27634333333334, 25.930063333333333], [48.27484666666667, 25.929568333333332], [48.27389333333333, 25.929375], [48.27295, 25.929041666666667], [48.27231166666667, 25.928713333333334], [48.271456666666666, 25.928273333333333], [48.27041833333333, 25.927901666666667], [48.26988, 25.927646666666668], [48.26989, 25.927626666666665], [48.26920666666667, 25.927176666666668], [48.268953333333336, 25.926903333333332], [48.26866, 25.927], [48.268385, 25.927063333333333], [48.26797833333333, 25.92689], [48.267815, 25.926833333333335], [48.26775333333333, 25.926828333333333], [48.267421666666664, 25.926746666666666], [48.267091666666666, 25.926638333333333], [48.26674333333333, 25.926525], [48.26619, 25.926581666666667], [48.264923333333336, 25.926733333333335], [48.26469, 25.926745], [48.264608333333335, 25.926746666666666], [48.26428333333333, 25.926765], [48.264138333333335, 25.926811666666666], [48.264005, 25.926915], [48.2633, 25.927063333333333], [48.26246833333333, 25.927178333333334], [48.2615, 25.92733], [48.260185, 25.92751], [48.25964166666667, 25.927655], [48.258995, 25.927765], [48.258451666666666, 25.927825], [48.25817166666667, 25.927883333333334], [48.257735, 25.927948333333333], [48.257235, 25.92803], [48.25666833333333, 25.928228333333333], [48.25599666666667, 25.928596666666667], [48.25524, 25.929051666666666], [48.25463, 25.929406666666665], [48.25315, 25.930268333333334], [48.25268166666667, 25.93049166666667], [48.252448333333334, 25.93059], [48.252296666666666, 25.930801666666667], [48.25235333333333, 25.931238333333333], [48.25231, 25.931845], [48.252245, 25.93268], [48.252181666666665, 25.933583333333335], [48.25213, 25.934425], [48.252025, 25.936131666666668], [48.25196833333333, 25.936955], [48.25190833333333, 25.937715], [48.25189, 25.93788], [48.251875, 25.938203333333334], [48.25182, 25.938763333333334], [48.25177166666667, 25.939335], [48.251596666666664, 25.939778333333333], [48.25157, 25.93995], [48.25157, 25.93995], [48.25157, 25.93995], [48.25152833333333, 25.94022], [48.251535, 25.940201666666667], [48.251535, 25.940201666666667], [48.251535, 25.940201666666667], [48.251535, 25.940201666666667], [48.251535, 25.940201666666667], [48.251535, 25.940201666666667], [48.251535, 25.940201666666667], [48.251535, 25.940201666666667], [48.251535, 25.940201666666667], [48.25152666666666, 25.940215], [48.25154333333333, 25.940358333333332], [48.251538333333336, 25.940435], [48.251538333333336, 25.940491666666667], [48.25161833333333, 25.940768333333335], [48.251666666666665, 25.94075], [48.251805, 25.940293333333333], [48.25186166666667, 25.93976333333333], [48.251933333333334, 25.938915], [48.25199333333333, 25.938131666666667], [48.252008333333336, 25.937778333333334], [48.251983333333335, 25.93774833333333], [48.251975, 25.937698333333334], [48.252003333333334, 25.937381666666667], [48.25208166666667, 25.936666666666667], [48.252091666666665, 25.936583333333335], [48.2521, 25.936503333333334], [48.25214166666667, 25.935921666666665], [48.252165, 25.935291666666668], [48.252206666666666, 25.934475], [48.25228166666667, 25.933476666666667], [48.25233166666667, 25.932551666666665], [48.252471666666665, 25.93103], [48.25271166666667, 25.930718333333335], [48.25279833333333, 25.930648333333334], [48.25282833333333, 25.930608333333332], [48.253125, 25.930411666666668], [48.25366666666667, 25.930136666666666], [48.254295, 25.92974], [48.255613333333336, 25.928933333333333], [48.25629, 25.92852166666667], [48.25698666666667, 25.928176666666666], [48.257685, 25.928091666666667], [48.257945, 25.928041666666665], [48.258235, 25.928011666666666], [48.25836666666667, 25.928011666666666], [48.258588333333336, 25.927983333333334], [48.259098333333334, 25.92794333333333], [48.25980833333333, 25.92785], [48.260125, 25.927771666666665], [48.26016166666667, 25.927745], [48.260448333333336, 25.927675], [48.26094, 25.927603333333334], [48.26094, 25.927603333333334], [48.26112166666667, 25.927553333333332], [48.26168833333333, 25.927436666666665], [48.262265, 25.927331666666667], [48.262971666666665, 25.927238333333335], [48.263835, 25.927061666666667], [48.264755, 25.926866666666665], [48.26479, 25.926855], [48.26508166666667, 25.926775], [48.265856666666664, 25.92668], [48.266443333333335, 25.926616666666668], [48.26667166666667, 25.926628333333333], [48.26696666666667, 25.926723333333335], [48.26764, 25.926973333333333], [48.26799666666667, 25.927101666666665], [48.26835166666667, 25.927311666666668], [48.26866833333333, 25.927743333333332], [48.268945, 25.92781], [48.269196666666666, 25.927688333333332], [48.26944666666667, 25.927643333333332], [48.26992833333333, 25.927821666666667], [48.27048666666666, 25.928043333333335], [48.270653333333335, 25.928121666666666], [48.270785, 25.928133333333335], [48.271425, 25.92836], [48.27191833333333, 25.928541666666668], [48.27231, 25.928675], [48.27357666666666, 25.929151666666666], [48.27433833333333, 25.929413333333333], [48.27498833333333, 25.929638333333333], [48.27518, 25.929718333333334], [48.275535, 25.929846666666666], [48.275953333333334, 25.930018333333333], [48.276025, 25.930041666666668], [48.27679833333333, 25.930285], [48.277728333333336, 25.930615], [48.278731666666665, 25.930978333333332], [48.27932333333333, 25.931226666666667], [48.280075, 25.931485], [48.28089666666666, 25.931765], [48.28160333333334, 25.93204666666667], [48.281915, 25.93218], [48.282445, 25.932301666666667], [48.28328833333333, 25.932601666666667], [48.28377833333333, 25.932798333333334], [48.28418166666667, 25.932946666666666], [48.28481333333333, 25.933183333333332], [48.285363333333336, 25.933423333333334]],\n",
       "                {&quot;bubblingMouseEvents&quot;: true, &quot;color&quot;: &quot;#00b0ff&quot;, &quot;dashArray&quot;: null, &quot;dashOffset&quot;: null, &quot;fill&quot;: false, &quot;fillColor&quot;: &quot;#00b0ff&quot;, &quot;fillOpacity&quot;: 0.2, &quot;fillRule&quot;: &quot;evenodd&quot;, &quot;lineCap&quot;: &quot;round&quot;, &quot;lineJoin&quot;: &quot;round&quot;, &quot;noClip&quot;: false, &quot;opacity&quot;: 0.8, &quot;smoothFactor&quot;: 1.0, &quot;stroke&quot;: true, &quot;weight&quot;: 2}\n",
       "            ).addTo(map_b5a031f43958885498d1960cc133ab1b);\n",
       "        \n",
       "    \n",
       "            var poly_line_af082005824adf127fd8b06f5c06094d = L.polyline(\n",
       "                [[48.285363333333336, 25.933423333333334], [48.2858, 25.933555], [48.28586166666667, 25.93356], [48.28603666666667, 25.933631666666667], [48.28637666666667, 25.933751666666666], [48.286685, 25.933863333333335], [48.287058333333334, 25.934001666666667], [48.28720833333333, 25.934018333333334], [48.287288333333336, 25.933928333333334], [48.28736333333333, 25.933688333333333], [48.287415, 25.933353333333333], [48.28746, 25.933136666666666], [48.28751833333333, 25.933091666666666], [48.287841666666665, 25.933098333333334], [48.288, 25.933135], [48.28817333333333, 25.933156666666665], [48.28844333333333, 25.933236666666666], [48.28875333333333, 25.933301666666665], [48.28904166666667, 25.933373333333332], [48.289320000000004, 25.933485], [48.28966833333333, 25.933606666666666], [48.290061666666666, 25.93371], [48.29042333333334, 25.933821666666667], [48.29127, 25.93425], [48.29167833333333, 25.934515], [48.292115, 25.93488333333333], [48.29246, 25.935113333333334], [48.29253333333333, 25.935043333333333], [48.29261, 25.934566666666665], [48.292728333333336, 25.93411], [48.292881666666666, 25.933521666666667], [48.293, 25.933045], [48.292988333333334, 25.93298], [48.29300833333333, 25.932845], [48.29306, 25.932473333333334], [48.29300666666666, 25.93181], [48.29293833333333, 25.93115], [48.292895, 25.93056], [48.29293, 25.930041666666668], [48.29307166666667, 25.929926666666667], [48.29320666666667, 25.929588333333335], [48.293555, 25.928876666666667], [48.293953333333334, 25.92813], [48.29427666666667, 25.927783333333334], [48.294293333333336, 25.92759], [48.29505, 25.926748333333332], [48.29535833333333, 25.926325], [48.29589166666667, 25.925773333333332], [48.29626, 25.925278333333335], [48.29622333333333, 25.925141666666665], [48.29611666666667, 25.924906666666665], [48.29602833333333, 25.924736666666668], [48.29601666666667, 25.92472666666667], [48.295856666666666, 25.924416666666666], [48.295615, 25.923893333333332], [48.29552666666667, 25.92385], [48.295465, 25.923868333333335], [48.29506166666667, 25.924411666666668], [48.294665, 25.925211666666666], [48.29433, 25.925918333333332], [48.29438666666667, 25.926375], [48.29443333333333, 25.926673333333333], [48.29443833333333, 25.926773333333333], [48.294485, 25.926988333333334], [48.294525, 25.927088333333334], [48.294515, 25.9274], [48.294515, 25.9274], [48.29431666666667, 25.927583333333335], [48.293945, 25.927978333333332], [48.29363333333333, 25.928438333333332], [48.29358666666667, 25.928576666666668], [48.293283333333335, 25.92908], [48.29294, 25.929703333333332], [48.292881666666666, 25.929885], [48.292855, 25.93011], [48.29290833333334, 25.930895], [48.292993333333335, 25.931771666666666], [48.292795, 25.932835], [48.292425, 25.932838333333333], [48.29232666666667, 25.93287], [48.292251666666665, 25.932885], [48.292078333333336, 25.932903333333332], [48.2918, 25.932943333333334], [48.29155333333333, 25.932953333333334], [48.29136666666667, 25.932996666666668], [48.29099166666666, 25.933016666666667], [48.29062, 25.933138333333332], [48.2905, 25.93367], [48.289728333333336, 25.933536666666665], [48.289295, 25.933426666666666], [48.28885, 25.933296666666667], [48.28840666666667, 25.933131666666668], [48.288048333333336, 25.933018333333333], [48.28770333333333, 25.932916666666667], [48.287655, 25.932916666666667], [48.287616666666665, 25.932946666666666], [48.28735833333333, 25.93338], [48.28731166666667, 25.93379], [48.28725333333333, 25.933911666666667], [48.28722166666667, 25.933936666666668], [48.28695, 25.933885], [48.286608333333334, 25.933761666666665], [48.286275, 25.933648333333334], [48.28588666666667, 25.933523333333333], [48.28557833333333, 25.933411666666668], [48.285088333333334, 25.93322], [48.28440666666667, 25.932949999999998], [48.283768333333335, 25.932688333333335], [48.283181666666664, 25.932441666666666], [48.283073333333334, 25.93247], [48.28254833333333, 25.932258333333333], [48.28190333333333, 25.932023333333333], [48.28118666666667, 25.93175], [48.28100166666667, 25.931688333333334], [48.280565, 25.931494999999998], [48.27971, 25.931186666666665], [48.279331666666664, 25.930985], [48.278958333333335, 25.930951666666665], [48.27829666666667, 25.930718333333335], [48.277483333333336, 25.9304], [48.27676666666667, 25.930115], [48.276648333333334, 25.930058333333335], [48.276106666666664, 25.92984], [48.275725, 25.929675], [48.275663333333334, 25.929746666666666], [48.275216666666665, 25.929603333333333], [48.274528333333336, 25.929333333333332], [48.27351, 25.92897333333333], [48.272488333333335, 25.928636666666666], [48.27155166666667, 25.928361666666667], [48.270563333333335, 25.927976666666666], [48.26990333333333, 25.927633333333333], [48.269843333333334, 25.92761], [48.26961333333333, 25.927578333333333], [48.269346666666664, 25.9274], [48.269151666666666, 25.927095], [48.26882833333333, 25.926878333333335], [48.26842666666667, 25.927055], [48.26786333333333, 25.926833333333335], [48.26775833333333, 25.926811666666666], [48.267723333333336, 25.926826666666667], [48.266985, 25.926595], [48.266506666666665, 25.926518333333334], [48.266018333333335, 25.926576666666666], [48.265703333333335, 25.926598333333335], [48.2652, 25.926614999999998], [48.264698333333335, 25.926698333333334], [48.26427666666667, 25.926723333333335], [48.263846666666666, 25.926911666666665], [48.26331833333333, 25.927], [48.26274333333333, 25.927098333333333], [48.26206166666667, 25.9272], [48.26135166666667, 25.927298333333333], [48.26074333333333, 25.92741], [48.26032, 25.927443333333333], [48.260145, 25.92748], [48.260101666666664, 25.927505], [48.259888333333336, 25.927588333333333], [48.25942833333333, 25.927653333333332], [48.25839333333333, 25.92781], [48.25806166666667, 25.927866666666667], [48.2579, 25.92791], [48.257873333333336, 25.92791], [48.25766, 25.927933333333332], [48.25711166666667, 25.928013333333332], [48.256573333333336, 25.928228333333333], [48.255965, 25.928573333333333], [48.25454833333333, 25.929405], [48.253838333333334, 25.929823333333335], [48.25313166666667, 25.930228333333332], [48.252723333333336, 25.930398333333333], [48.252595, 25.930518333333332], [48.252335, 25.93063666666667], [48.25228333333333, 25.930748333333334], [48.252296666666666, 25.93093], [48.25233, 25.931348333333332], [48.252291666666665, 25.931941666666667], [48.25224166666667, 25.932616666666668], [48.252183333333335, 25.933393333333335], [48.25213333333333, 25.934223333333332], [48.252085, 25.935036666666665], [48.25203, 25.93592], [48.251958333333334, 25.936805], [48.251935, 25.937228333333334], [48.25194333333334, 25.93723], [48.25192166666667, 25.937585], [48.2519, 25.937808333333333], [48.25187, 25.93825], [48.25177333333333, 25.939338333333332], [48.25163166666667, 25.939738333333334], [48.251585, 25.940075], [48.251585, 25.94011], [48.25157, 25.94027833333333], [48.25158, 25.94071], [48.25166333333333, 25.940765], [48.251736666666666, 25.940726666666666], [48.251815, 25.940345], [48.251871666666666, 25.939623333333333], [48.25192166666667, 25.939093333333332], [48.252, 25.938246666666668], [48.252001666666665, 25.93815], [48.25204166666666, 25.937516666666667], [48.25207666666667, 25.937023333333332], [48.25212166666667, 25.936626666666665], [48.25212166666667, 25.936611666666668], [48.252093333333335, 25.936523333333334], [48.25214666666667, 25.935685], [48.25219333333333, 25.93504666666667], [48.252233333333336, 25.934345], [48.25229, 25.933533333333333], [48.25235, 25.932771666666667], [48.25239666666667, 25.932143333333332], [48.25246833333333, 25.931425], [48.252585, 25.930948333333333], [48.25281666666667, 25.93070833333333], [48.252943333333334, 25.93054], [48.25358833333333, 25.930168333333334], [48.25438166666667, 25.929676666666666], [48.25518666666667, 25.929201666666668], [48.25591333333333, 25.928805], [48.25667, 25.928376666666665], [48.257403333333336, 25.928135], [48.25781333333333, 25.92806], [48.258118333333336, 25.927965], [48.25949, 25.927731666666666], [48.260445, 25.927593333333334], [48.26081166666667, 25.927553333333332], [48.26101666666667, 25.927541666666666], [48.26170666666667, 25.927358333333334], [48.262425, 25.927255], [48.26329166666667, 25.927141666666667], [48.264113333333334, 25.927013333333335], [48.26438, 25.926938333333332], [48.264388333333336, 25.926906666666667], [48.26481166666667, 25.926886666666668], [48.264898333333335, 25.926828333333333], [48.26516, 25.926746666666666], [48.26638166666667, 25.92661], [48.266475, 25.926593333333333], [48.26655, 25.926588333333335], [48.26703833333333, 25.926701666666666], [48.267648333333334, 25.92692], [48.268006666666665, 25.927058333333335], [48.26834, 25.927298333333333], [48.26871666666667, 25.92779], [48.268836666666665, 25.92779833333333], [48.269495, 25.92764], [48.26994333333333, 25.927796666666666], [48.270035, 25.927838333333334], [48.270245, 25.927898333333335], [48.27061833333333, 25.928091666666667], [48.270698333333335, 25.928095], [48.27077666666667, 25.92809], [48.27106, 25.928188333333335], [48.271895, 25.92849], [48.27278666666667, 25.928803333333335], [48.273741666666666, 25.929158333333334], [48.27519, 25.929681666666667], [48.275526666666664, 25.929803333333332], [48.275931666666665, 25.929953333333334], [48.276805, 25.930241666666667], [48.277835, 25.930611666666668], [48.27884666666667, 25.931008333333335], [48.279826666666665, 25.931375], [48.280856666666665, 25.931721666666668], [48.28173, 25.932088333333333], [48.281933333333335, 25.932151666666666], [48.28195, 25.93216], [48.282221666666665, 25.932215], [48.282893333333334, 25.932451666666665], [48.2836, 25.93267], [48.28415833333333, 25.932911666666666], [48.28479333333333, 25.93317], [48.28521333333333, 25.933318333333332], [48.285485, 25.93344], [48.28566333333333, 25.93352], [48.28575, 25.933526666666666], [48.285911666666664, 25.933543333333333], [48.286181666666664, 25.93368], [48.286495, 25.933765], [48.286818333333336, 25.933875], [48.287075, 25.933968333333333], [48.28718, 25.934], [48.287281666666665, 25.93391], [48.28738166666667, 25.933583333333335], [48.287531666666666, 25.933073333333333], [48.287616666666665, 25.933023333333335], [48.287953333333334, 25.933125], [48.288068333333335, 25.933135], [48.288273333333336, 25.933191666666666], [48.28845833333333, 25.933255], [48.288685, 25.933345], [48.288965, 25.933341666666667], [48.28928333333333, 25.933416666666666], [48.28962666666666, 25.933508333333332], [48.289973333333336, 25.933561666666666], [48.29032, 25.933661666666666], [48.29064666666667, 25.933731666666667], [48.29096, 25.933925], [48.291235, 25.934176666666666], [48.29182, 25.934476666666665], [48.29214, 25.934676666666668], [48.29244833333333, 25.934955], [48.292543333333334, 25.934996666666667], [48.292635, 25.934948333333335], [48.29266166666667, 25.93472166666667], [48.292723333333335, 25.934331666666665], [48.29288666666667, 25.93378166666667], [48.29301, 25.93326], [48.29304666666667, 25.93291333333333], [48.293058333333335, 25.93269], [48.293076666666664, 25.932133333333333], [48.29306, 25.931535], [48.293036666666666, 25.930918333333334], [48.292948333333335, 25.93022], [48.29299666666667, 25.930045], [48.293075, 25.929805], [48.29337833333334, 25.92916], [48.29379, 25.92844], [48.29407166666667, 25.92797], [48.294486666666664, 25.92740166666667], [48.29484, 25.926991666666666], [48.295026666666665, 25.926765], [48.295245, 25.926476666666666], [48.295748333333336, 25.925878333333333], [48.29625333333333, 25.925348333333332], [48.296075, 25.924821666666666], [48.296075, 25.924798333333335], [48.29587166666666, 25.924326666666666], [48.295678333333335, 25.923971666666667], [48.295316666666665, 25.924013333333335], [48.29506, 25.924405], [48.294775, 25.924978333333332], [48.294468333333334, 25.925613333333335], [48.29434, 25.926051666666666], [48.29441333333333, 25.926475], [48.294491666666666, 25.926911666666665], [48.294535, 25.927055], [48.29453, 25.92703], [48.294485, 25.927368333333334], [48.294205, 25.927676666666667], [48.293751666666665, 25.92833], [48.293308333333336, 25.929205], [48.29291666666666, 25.929935], [48.292865, 25.930338333333335], [48.292955, 25.931241666666665], [48.293011666666665, 25.931885], [48.293031666666664, 25.931955], [48.29304833333333, 25.932255], [48.29306, 25.93249], [48.29237166666667, 25.932926666666667], [48.292265, 25.932945], [48.292213333333336, 25.932976666666665], [48.291981666666665, 25.932955], [48.29175, 25.932956666666666], [48.29148166666667, 25.933006666666667], [48.291255, 25.933043333333334], [48.291183333333336, 25.933033333333334], [48.29108333333333, 25.933091666666666], [48.290825, 25.933256666666665], [48.290535, 25.933230000000002], [48.290463333333335, 25.933478333333333], [48.29042166666667, 25.933641666666666], [48.290306666666666, 25.933626666666665], [48.29002666666667, 25.933593333333334], [48.289735, 25.933623333333333], [48.289141666666666, 25.933498333333333], [48.28875, 25.933281666666666], [48.288345, 25.933178333333334], [48.287998333333334, 25.933073333333333], [48.28767166666667, 25.932978333333335], [48.28764666666667, 25.932986666666668], [48.28762666666667, 25.932998333333334], [48.287485, 25.93301], [48.28742666666667, 25.933113333333335], [48.28740833333333, 25.933271666666666], [48.287321666666664, 25.933676666666667], [48.28720833333333, 25.93393], [48.28698833333333, 25.933891666666668], [48.286653333333334, 25.93379], [48.28628666666667, 25.933668333333333], [48.285743333333336, 25.93343], [48.28539, 25.933346666666665], [48.284906666666664, 25.933151666666667]],\n",
       "                {&quot;bubblingMouseEvents&quot;: true, &quot;color&quot;: &quot;#29ffcd&quot;, &quot;dashArray&quot;: null, &quot;dashOffset&quot;: null, &quot;fill&quot;: false, &quot;fillColor&quot;: &quot;#29ffcd&quot;, &quot;fillOpacity&quot;: 0.2, &quot;fillRule&quot;: &quot;evenodd&quot;, &quot;lineCap&quot;: &quot;round&quot;, &quot;lineJoin&quot;: &quot;round&quot;, &quot;noClip&quot;: false, &quot;opacity&quot;: 0.8, &quot;smoothFactor&quot;: 1.0, &quot;stroke&quot;: true, &quot;weight&quot;: 2}\n",
       "            ).addTo(map_b5a031f43958885498d1960cc133ab1b);\n",
       "        \n",
       "    \n",
       "            var poly_line_68630e4420b7b1b9e25134ede062dd0e = L.polyline(\n",
       "                [[48.284906666666664, 25.933151666666667], [48.28465833333333, 25.93305], [48.284121666666664, 25.932816666666668], [48.283948333333335, 25.932781666666667], [48.28388666666667, 25.93277], [48.28337833333333, 25.932521666666666], [48.28322166666667, 25.932403333333333], [48.28310166666667, 25.93239], [48.282691666666665, 25.932298333333332], [48.28217166666666, 25.93207], [48.281756666666666, 25.931931666666667], [48.28131, 25.931778333333334], [48.28113, 25.931733333333334], [48.28067333333333, 25.93156], [48.27988833333333, 25.931278333333335], [48.279315, 25.931026666666668], [48.279295, 25.931038333333333], [48.279061666666664, 25.931118333333334], [48.278438333333334, 25.93087166666667], [48.27766666666667, 25.93049], [48.276871666666665, 25.930198333333333], [48.27667, 25.930135], [48.276655, 25.930135], [48.27634166666667, 25.930078333333334], [48.27581, 25.92984166666667], [48.27563333333333, 25.929751666666668], [48.27551666666667, 25.929776666666665], [48.274175, 25.929328333333334], [48.27311666666667, 25.929036666666665], [48.272065, 25.92869], [48.271438333333336, 25.92831], [48.270605, 25.927881666666668], [48.26994833333333, 25.927599999999998], [48.26988166666667, 25.927606666666666], [48.269405, 25.927463333333332], [48.26914, 25.927108333333333], [48.26888666666667, 25.92689], [48.268605, 25.927013333333335], [48.26795666666667, 25.926913333333335], [48.267801666666664, 25.92686], [48.267795, 25.926853333333334], [48.267671666666665, 25.92683], [48.26723333333333, 25.92669666666667], [48.26674666666667, 25.926498333333335], [48.266205, 25.92655], [48.265505, 25.926651666666668], [48.26462333333333, 25.926751666666668], [48.26424, 25.926766666666666], [48.26412666666667, 25.926811666666666], [48.263918333333336, 25.92688], [48.26325333333333, 25.926981666666666], [48.262375, 25.927115], [48.26141166666667, 25.92727], [48.26071666666667, 25.927395], [48.260241666666666, 25.927431666666667], [48.26009333333333, 25.92749166666667], [48.25951833333333, 25.927598333333332], [48.258408333333335, 25.927813333333333], [48.25792333333333, 25.92792], [48.257418333333334, 25.92793], [48.25685, 25.928076666666666], [48.25620333333333, 25.928435], [48.255388333333336, 25.92892833333333], [48.25457333333333, 25.929418333333334], [48.25380333333333, 25.929885], [48.253103333333335, 25.930258333333335], [48.25230666666667, 25.930665], [48.252271666666665, 25.93083], [48.25230666666667, 25.931021666666666], [48.25230833333333, 25.931513333333335], [48.252265, 25.932226666666665], [48.25221, 25.93299], [48.25216, 25.933798333333332], [48.25212333333333, 25.9345], [48.25208833333333, 25.935175], [48.25204333333333, 25.93598666666667], [48.251995, 25.936783333333334], [48.25197, 25.93756], [48.251935, 25.93779333333333], [48.25190833333333, 25.93781], [48.251895, 25.937896666666667], [48.25187, 25.938216666666666], [48.25183, 25.938686666666666], [48.251695, 25.9396], [48.25159166666667, 25.940068333333333], [48.25158, 25.94018], [48.25158833333333, 25.940318333333334], [48.251583333333336, 25.940673333333333], [48.25174333333333, 25.940725], [48.25181666666667, 25.940455], [48.251835, 25.940046666666667], [48.251875, 25.939508333333333], [48.251933333333334, 25.93877], [48.251976666666664, 25.938016666666666], [48.252035, 25.937255], [48.252085, 25.93661833333333], [48.25210333333333, 25.936588333333333], [48.252135, 25.936443333333333], [48.252155, 25.93586833333333], [48.25219833333333, 25.9351], [48.25226, 25.93419], [48.252325, 25.93307], [48.25236, 25.932168333333333], [48.25240333333333, 25.931356666666666], [48.25252, 25.930911666666667], [48.25275, 25.93069], [48.25281666666667, 25.930653333333332], [48.253051666666664, 25.930481666666665], [48.25404666666667, 25.929903333333332], [48.254583333333336, 25.929576666666666], [48.25514833333333, 25.929225], [48.25584, 25.928811666666668], [48.25654, 25.928405], [48.25716666666667, 25.928178333333335], [48.25751833333333, 25.928116666666668], [48.257815, 25.928078333333332], [48.25810833333333, 25.928045], [48.258536666666664, 25.92796166666667], [48.25911, 25.927878333333332], [48.259798333333336, 25.927756666666667], [48.26031833333333, 25.927673333333335], [48.26054, 25.927621666666667], [48.26071833333334, 25.927616666666665], [48.260905, 25.927623333333333], [48.261, 25.92763], [48.261025, 25.927616666666665], [48.261405, 25.92749166666667], [48.26392166666667, 25.927096666666667], [48.26462166666666, 25.926998333333334], [48.264768333333336, 25.92697], [48.2648, 25.926923333333335], [48.26483, 25.926901666666666], [48.26495, 25.926803333333332], [48.26520333333333, 25.926735], [48.265526666666666, 25.926683333333333], [48.26591833333333, 25.926671666666667], [48.266405, 25.926623333333332], [48.26649333333334, 25.92662], [48.26768, 25.926971666666667], [48.268075, 25.927118333333333], [48.26840833333333, 25.927398333333333], [48.268771666666666, 25.927808333333335], [48.26888, 25.927821666666667], [48.269075, 25.927745], [48.26938333333333, 25.927628333333335], [48.269575, 25.927703333333334], [48.270298333333336, 25.92798], [48.27058, 25.928146666666667], [48.270581666666665, 25.928165], [48.27077166666667, 25.928221666666666], [48.271226666666664, 25.928381666666667], [48.273516666666666, 25.929176666666667], [48.27433833333333, 25.929451666666665], [48.27482, 25.929655], [48.27503, 25.929753333333334], [48.275603333333336, 25.92995], [48.27587333333334, 25.930033333333334], [48.27600666666667, 25.930066666666665], [48.276761666666665, 25.930271666666666], [48.277590000000004, 25.930533333333333], [48.280316666666664, 25.931573333333333], [48.281235, 25.931891666666665], [48.281845, 25.932166666666667], [48.281908333333334, 25.932183333333334], [48.28196666666667, 25.932213333333333], [48.282545, 25.932363333333335], [48.283375, 25.932675], [48.284205, 25.932973333333333], [48.28494666666667, 25.933251666666667], [48.28556833333333, 25.933528333333335], [48.285665, 25.93358], [48.28570666666667, 25.933585], [48.28578666666667, 25.933581666666665], [48.28597333333333, 25.933638333333334], [48.286276666666666, 25.933743333333332], [48.286608333333334, 25.933845], [48.287038333333335, 25.933983333333334], [48.287173333333335, 25.934006666666665], [48.287288333333336, 25.933895], [48.28738, 25.933575], [48.287525, 25.933108333333333], [48.28760333333334, 25.93305], [48.28796666666667, 25.933153333333333], [48.28799333333333, 25.933133333333334], [48.28817333333333, 25.933165], [48.28841333333333, 25.933226666666666], [48.288695, 25.933285], [48.28899666666667, 25.933305], [48.289343333333335, 25.93342], [48.289683333333336, 25.93354], [48.290035, 25.933675], [48.290805, 25.934101666666667], [48.29128166666667, 25.934358333333332], [48.291785, 25.934658333333335], [48.292201666666664, 25.934961666666666], [48.292415, 25.93507], [48.292543333333334, 25.935013333333334], [48.292606666666664, 25.934736666666666], [48.29267, 25.934363333333334], [48.29283, 25.933846666666668], [48.29295, 25.93319333333333], [48.293031666666664, 25.932923333333335], [48.29304166666667, 25.932875], [48.29306, 25.932333333333332], [48.29302166666667, 25.931491666666666], [48.293025, 25.931158333333332], [48.292905, 25.930343333333333], [48.29300833333333, 25.930058333333335], [48.29320833333333, 25.92963], [48.29354333333333, 25.929011666666668], [48.293855, 25.928428333333333], [48.29424, 25.927935], [48.2944, 25.927666666666667], [48.294641666666664, 25.927256666666665], [48.29503666666667, 25.926806666666668], [48.295161666666665, 25.926621666666666], [48.29546, 25.926296666666666], [48.29576, 25.925851666666667], [48.29611, 25.925553333333333], [48.296186666666664, 25.925103333333333], [48.29600333333333, 25.92465333333333], [48.295966666666665, 25.924526666666665], [48.295768333333335, 25.924125], [48.29568, 25.923925], [48.29562833333333, 25.92383166666667], [48.29552833333333, 25.923773333333333], [48.295123333333336, 25.924228333333332], [48.294866666666664, 25.92472666666667], [48.29459666666666, 25.925303333333332], [48.29439, 25.925808333333332], [48.294475, 25.926536666666667], [48.29452666666667, 25.926873333333333], [48.294511666666665, 25.92689], [48.294536666666666, 25.926941666666668], [48.29457, 25.927138333333332], [48.29452, 25.927285], [48.29413666666667, 25.927688333333332], [48.29383333333333, 25.928128333333333], [48.29373833333333, 25.928288333333334], [48.293725, 25.928305], [48.29369833333333, 25.928335], [48.29357, 25.928606666666667], [48.29346833333334, 25.928798333333333], [48.293231666666664, 25.929335000000002], [48.293015, 25.92965166666667], [48.292943333333334, 25.930198333333333], [48.29295333333334, 25.930593333333334], [48.29300833333333, 25.9313], [48.293078333333334, 25.932098333333332], [48.29304, 25.932588333333335], [48.29289166666667, 25.932838333333333], [48.29237833333333, 25.932906666666668], [48.29231, 25.932938333333333], [48.292143333333335, 25.932916666666667], [48.291956666666664, 25.932945], [48.287555, 25.932933333333335], [48.28741333333333, 25.933045], [48.28738333333333, 25.933221666666668], [48.287306666666666, 25.93369], [48.287128333333335, 25.93393], [48.286836666666666, 25.933825], [48.286458333333336, 25.933686666666667], [48.286073333333334, 25.933556666666668], [48.28568333333333, 25.933403333333334], [48.285355, 25.93327], [48.28485833333333, 25.933096666666668], [48.28422333333334, 25.932863333333334], [48.283516666666664, 25.93256166666667], [48.283215, 25.932441666666666], [48.2832, 25.932451666666665], [48.283166666666666, 25.932373333333334], [48.282878333333336, 25.93230833333333], [48.282268333333334, 25.932123333333333], [48.28146, 25.931828333333332], [48.281126666666665, 25.931718333333333], [48.281121666666664, 25.931726666666666], [48.280948333333335, 25.931663333333333], [48.27938666666667, 25.931043333333335], [48.27921833333333, 25.930995], [48.278615, 25.93086], [48.27791166666667, 25.930601666666668], [48.277115, 25.930295], [48.276695, 25.930151666666667], [48.27670333333333, 25.930143333333334], [48.276666666666664, 25.930125], [48.276135, 25.92992], [48.27585666666667, 25.92981], [48.27554, 25.929681666666667], [48.274921666666664, 25.929468333333332], [48.27409333333333, 25.92918166666667], [48.27304, 25.928815], [48.27192, 25.92841], [48.27074, 25.927998333333335], [48.26996666666667, 25.927668333333333], [48.269843333333334, 25.927623333333333], [48.26936333333333, 25.927478333333333], [48.26911, 25.927133333333334], [48.26885166666667, 25.92691], [48.268323333333335, 25.927056666666665], [48.268, 25.926928333333333], [48.26778, 25.926825], [48.26777166666667, 25.926833333333335], [48.26775833333333, 25.926826666666667], [48.26734666666667, 25.926715], [48.26712, 25.92664], [48.267, 25.926603333333333], [48.266235, 25.926541666666665], [48.265631666666664, 25.9266], [48.265375, 25.926701666666666], [48.264943333333335, 25.926728333333333], [48.264228333333335, 25.926818333333333], [48.264095, 25.926833333333335], [48.26395, 25.9269], [48.26325666666666, 25.927025], [48.258388333333336, 25.92783], [48.258138333333335, 25.927868333333333], [48.25806166666667, 25.927905], [48.25702833333333, 25.928071666666668], [48.25642333333333, 25.928338333333333], [48.255675, 25.928775], [48.25489833333334, 25.929233333333332], [48.254245, 25.92962], [48.253659999999996, 25.929948333333332], [48.25344333333334, 25.930056666666665], [48.253371666666666, 25.930125], [48.25329833333333, 25.930185], [48.25322333333333, 25.930233333333334], [48.253085, 25.930295], [48.25299666666667, 25.930331666666667], [48.25286333333333, 25.93040166666667], [48.25274666666667, 25.930475], [48.25274833333334, 25.930475], [48.252715, 25.93049], [48.25271166666667, 25.930505], [48.25261666666667, 25.93056], [48.25248833333333, 25.93059166666667], [48.25248, 25.930595], [48.252431666666666, 25.930596666666666], [48.252345, 25.930646666666668], [48.25227, 25.930803333333333], [48.25233, 25.93115166666667], [48.252315, 25.9316], [48.25226333333333, 25.932176666666667], [48.25221166666667, 25.932921666666665], [48.252161666666666, 25.933705], [48.252115, 25.93454], [48.25206166666667, 25.935375], [48.25201333333333, 25.936288333333334], [48.25196, 25.937141666666665], [48.25190166666667, 25.93778], [48.25190833333333, 25.937866666666668], [48.25188166666667, 25.938261666666666], [48.251778333333334, 25.939358333333335], [48.25161833333333, 25.939798333333332], [48.25158833333333, 25.940151666666665], [48.25158833333333, 25.94018], [48.25158166666667, 25.94022], [48.251578333333335, 25.940668333333335], [48.251805, 25.940598333333334], [48.251841666666664, 25.940146666666667], [48.25190333333333, 25.939438333333335], [48.25195333333333, 25.938718333333334], [48.251995, 25.93814666666667], [48.252046666666665, 25.937496666666668], [48.25210166666667, 25.93681], [48.252118333333335, 25.936645], [48.252111666666664, 25.936583333333335], [48.252105, 25.936425], [48.252115, 25.936055], [48.252161666666666, 25.935573333333334], [48.25219833333333, 25.935058333333334], [48.252248333333334, 25.934503333333332], [48.2523, 25.93382666666667], [48.25234, 25.933116666666667], [48.252363333333335, 25.932543333333335], [48.252406666666666, 25.931903333333334], [48.25244, 25.931333333333335], [48.25257833333333, 25.930895], [48.25281833333333, 25.930688333333332], [48.25282166666667, 25.930641666666666], [48.253345, 25.930275], [48.25394333333333, 25.929956666666666], [48.25454333333333, 25.929595], [48.25517166666667, 25.929196666666666]],\n",
       "                {&quot;bubblingMouseEvents&quot;: true, &quot;color&quot;: &quot;#7cff79&quot;, &quot;dashArray&quot;: null, &quot;dashOffset&quot;: null, &quot;fill&quot;: false, &quot;fillColor&quot;: &quot;#7cff79&quot;, &quot;fillOpacity&quot;: 0.2, &quot;fillRule&quot;: &quot;evenodd&quot;, &quot;lineCap&quot;: &quot;round&quot;, &quot;lineJoin&quot;: &quot;round&quot;, &quot;noClip&quot;: false, &quot;opacity&quot;: 0.8, &quot;smoothFactor&quot;: 1.0, &quot;stroke&quot;: true, &quot;weight&quot;: 2}\n",
       "            ).addTo(map_b5a031f43958885498d1960cc133ab1b);\n",
       "        \n",
       "    \n",
       "            var poly_line_26ed17192bdaced9bacfcb46949c43f8 = L.polyline(\n",
       "                [[48.25517166666667, 25.929196666666666], [48.255716666666665, 25.92888], [48.256276666666665, 25.92855], [48.25682166666667, 25.928251666666668], [48.25730166666666, 25.928153333333334], [48.257843333333334, 25.928026666666668], [48.2581, 25.927991666666667], [48.25822333333333, 25.928], [48.25841333333333, 25.927978333333332], [48.258871666666664, 25.92793], [48.259495, 25.927823333333333], [48.26014166666667, 25.927695], [48.26072, 25.927595], [48.26094, 25.92759], [48.26097333333333, 25.927586666666667], [48.26097333333333, 25.927593333333334], [48.26110333333333, 25.92756], [48.261536666666665, 25.927483333333335], [48.262031666666665, 25.927418333333332], [48.262726666666666, 25.927295], [48.26347666666667, 25.927178333333334], [48.264225, 25.92706], [48.26472166666667, 25.926886666666668], [48.26482166666667, 25.926851666666668], [48.26488333333333, 25.92682], [48.26490666666667, 25.92682], [48.265436666666666, 25.926725], [48.266086666666666, 25.926636666666667], [48.26668, 25.9266], [48.267116666666666, 25.926755], [48.267646666666664, 25.92695833333333], [48.26797666666667, 25.927076666666668], [48.268316666666664, 25.927288333333333], [48.268663333333336, 25.92774], [48.268925, 25.927805], [48.269191666666664, 25.92768166666667], [48.26990166666667, 25.927815], [48.270583333333335, 25.928088333333335], [48.270665, 25.928091666666667], [48.270765, 25.928118333333334], [48.27123, 25.928291666666667], [48.27205, 25.928565], [48.27294, 25.928805], [48.27381, 25.92914], [48.274696666666664, 25.929353333333335], [48.275326666666665, 25.929626666666667], [48.27583166666667, 25.929846666666666], [48.27619833333333, 25.929923333333335], [48.27683, 25.930198333333333], [48.27774, 25.930548333333334], [48.27865833333333, 25.93091666666667], [48.279363333333336, 25.931198333333334], [48.28001666666667, 25.931441666666668], [48.280615, 25.931656666666665], [48.28134, 25.931915], [48.28178, 25.932113333333334], [48.281805, 25.932108333333332], [48.28200833333333, 25.93214], [48.282673333333335, 25.932361666666665], [48.28349166666667, 25.932658333333332], [48.284168333333334, 25.932923333333335], [48.28463833333333, 25.933093333333332], [48.28519333333333, 25.93332], [48.28553333333333, 25.933478333333333], [48.28557833333333, 25.933496666666667], [48.28576, 25.933558333333334], [48.28606833333333, 25.933645], [48.28635333333333, 25.933746666666668], [48.28708833333334, 25.933998333333335], [48.2872, 25.933998333333335], [48.287281666666665, 25.93383], [48.28737, 25.933473333333332], [48.28748, 25.93307], [48.287515, 25.933006666666667], [48.287635, 25.933001666666666], [48.28791, 25.933118333333333], [48.28801166666667, 25.933133333333334], [48.288273333333336, 25.933203333333335], [48.28854666666667, 25.933301666666665], [48.28924833333333, 25.93350166666667], [48.28955833333333, 25.933643333333332], [48.28988833333333, 25.933675], [48.29022666666667, 25.933766666666667], [48.29056333333333, 25.933963333333335], [48.29101, 25.934098333333335], [48.291396666666664, 25.934235], [48.29168333333333, 25.934518333333333], [48.291965, 25.934736666666666], [48.29222333333333, 25.934918333333332], [48.292496666666665, 25.935038333333335], [48.29259666666667, 25.934885], [48.29259833333333, 25.93458], [48.29273, 25.934021666666666], [48.292885, 25.93333833333333], [48.293031666666664, 25.932993333333332], [48.293055, 25.932878333333335], [48.293095, 25.932553333333335], [48.293076666666664, 25.931951666666667], [48.29303, 25.931183333333333], [48.292975, 25.930538333333335], [48.293078333333334, 25.930065], [48.29362166666667, 25.928976666666667], [48.29395, 25.928256666666666], [48.29430333333333, 25.927783333333334], [48.29463166666667, 25.927278333333334], [48.294935, 25.926956666666666], [48.295065, 25.926818333333333], [48.295065, 25.926816666666667], [48.29511, 25.92675], [48.29528833333333, 25.926525], [48.29608833333333, 25.925578333333334], [48.296231666666664, 25.9252], [48.296033333333334, 25.924748333333334], [48.29595166666667, 25.92458], [48.295946666666666, 25.924521666666667], [48.29593333333333, 25.924498333333332], [48.29570666666667, 25.924016666666667], [48.29547, 25.923853333333334], [48.29517333333333, 25.924166666666668], [48.29496833333334, 25.924541666666666], [48.29473, 25.92505], [48.294403333333335, 25.925763333333332], [48.294375, 25.925818333333332], [48.294395, 25.92607], [48.29451, 25.92663], [48.29454, 25.9268], [48.29449833333334, 25.926951666666668], [48.29450833333333, 25.927016666666667], [48.294531666666664, 25.92715], [48.294488333333334, 25.927293333333335], [48.29436833333333, 25.927443333333333], [48.29398833333333, 25.927853333333335], [48.293706666666665, 25.928286666666665], [48.293663333333335, 25.928358333333332], [48.293353333333336, 25.928956666666668], [48.29302333333333, 25.929593333333333], [48.292855, 25.930101666666665], [48.292915, 25.930336666666665], [48.29295333333334, 25.930723333333333], [48.29304, 25.931735], [48.293105, 25.932321666666667], [48.293055, 25.932451666666665], [48.29300166666667, 25.932518333333334], [48.29249333333333, 25.93282], [48.292296666666665, 25.932966666666665], [48.29212, 25.932946666666666], [48.291866666666664, 25.932973333333333], [48.29164166666666, 25.93301], [48.291425, 25.93301], [48.29111833333333, 25.93309], [48.29078, 25.933226666666666], [48.29067666666667, 25.933225], [48.29056, 25.933291666666666], [48.290488333333336, 25.933518333333332], [48.29031333333333, 25.93355], [48.28970666666667, 25.933505], [48.28933166666667, 25.93348], [48.28893166666667, 25.93336], [48.28841666666667, 25.93317], [48.28801, 25.933035], [48.28771666666667, 25.932941666666668], [48.287688333333335, 25.932945], [48.28760666666667, 25.93293166666667], [48.287506666666665, 25.932955], [48.287436666666665, 25.933073333333333], [48.28735666666667, 25.933455], [48.28724833333333, 25.933823333333333], [48.28712, 25.933846666666668], [48.286791666666666, 25.933748333333334], [48.28637166666667, 25.933626666666665], [48.28602333333333, 25.933533333333333], [48.285718333333335, 25.933423333333334], [48.28523333333333, 25.933278333333334], [48.28455833333334, 25.933038333333332], [48.283975, 25.932793333333333], [48.2839, 25.932801666666666], [48.28349, 25.932635], [48.282945, 25.932388333333332], [48.28243333333333, 25.93221], [48.28163833333333, 25.93191], [48.281175, 25.931745], [48.28098833333333, 25.931701666666665], [48.28039, 25.931485], [48.279588333333336, 25.93117], [48.279313333333334, 25.931043333333335], [48.279285, 25.931056666666667], [48.27912833333333, 25.930978333333332], [48.278546666666664, 25.930798333333332], [48.276916666666665, 25.930225], [48.27665666666667, 25.930161666666667], [48.27639666666666, 25.93015], [48.27581166666667, 25.929883333333333], [48.27561166666667, 25.929906666666668], [48.275148333333334, 25.929666666666666], [48.27450666666667, 25.92952], [48.27352, 25.929255], [48.27238333333333, 25.92889], [48.270471666666666, 25.928081666666667], [48.270428333333335, 25.927981666666668], [48.26989833333333, 25.927675], [48.26987166666667, 25.92764], [48.269506666666665, 25.927523333333333], [48.268613333333334, 25.92701], [48.26835333333333, 25.927081666666666], [48.267806666666665, 25.926841666666668], [48.2678, 25.92683], [48.26759666666667, 25.926791666666666], [48.26703833333333, 25.926595], [48.26652, 25.926528333333334], [48.265835, 25.926628333333333], [48.265325, 25.92671], [48.26506333333333, 25.92668], [48.264606666666666, 25.926748333333332], [48.26414333333334, 25.926826666666667], [48.26406, 25.926885], [48.263925, 25.926955], [48.263533333333335, 25.92704], [48.26273833333333, 25.927145], [48.26177833333333, 25.927276666666668], [48.260955, 25.92743], [48.260695, 25.92747333333333], [48.259366666666665, 25.927695], [48.25863666666667, 25.92781], [48.258313333333334, 25.927871666666668], [48.25789666666667, 25.927931666666666], [48.257308333333334, 25.92800666666667], [48.256771666666666, 25.92816], [48.256098333333334, 25.928525], [48.25527, 25.929016666666666], [48.254605, 25.929381666666668], [48.25397666666667, 25.929765], [48.25327333333333, 25.930158333333335], [48.25271166666667, 25.93044666666667], [48.252605, 25.93052], [48.25232333333334, 25.931481666666667], [48.25226166666667, 25.932238333333334], [48.252206666666666, 25.93309], [48.25215, 25.93399], [48.25210333333333, 25.934716666666667], [48.252053333333336, 25.935555], [48.25200666666667, 25.93644], [48.25194833333333, 25.937298333333334], [48.251916666666666, 25.937763333333333], [48.251916666666666, 25.93777], [48.25189666666667, 25.937966666666668], [48.25189666666667, 25.93814666666667], [48.25185833333333, 25.938558333333333], [48.25181, 25.939258333333335], [48.25161833333333, 25.939813333333333], [48.251585, 25.940158333333333], [48.25157333333333, 25.940176666666666], [48.25157333333333, 25.940176666666666], [48.25157333333333, 25.940176666666666], [48.25157333333333, 25.940176666666666], [48.25157333333333, 25.940176666666666], [48.25157333333333, 25.940176666666666], [48.25157333333333, 25.940176666666666], [48.25157333333333, 25.940176666666666], [48.25157333333333, 25.940176666666666], [48.25157333333333, 25.940176666666666], [48.25157333333333, 25.940176666666666], [48.25157333333333, 25.940176666666666], [48.25157333333333, 25.940176666666666], [48.25157333333333, 25.940176666666666], [48.251538333333336, 25.940433333333335], [48.251545, 25.940495], [48.251628333333336, 25.940778333333334], [48.25169833333333, 25.940758333333335], [48.251713333333335, 25.940746666666666], [48.25183, 25.940333333333335], [48.251905, 25.939451666666667], [48.251978333333334, 25.938695], [48.25203666666667, 25.937953333333333], [48.25201, 25.937786666666668], [48.25203166666667, 25.93772], [48.252075, 25.937263333333334], [48.25212666666667, 25.936613333333334], [48.25212833333333, 25.936591666666665], [48.252156666666664, 25.936548333333334], [48.25224, 25.934563333333333], [48.25230833333333, 25.93338], [48.25237166666667, 25.932258333333333], [48.252435, 25.931288333333335], [48.25251333333333, 25.93099], [48.25253333333333, 25.930948333333333], [48.252655, 25.930765], [48.25274, 25.930688333333332], [48.252718333333334, 25.930651666666666], [48.25297, 25.930509999999998], [48.253631666666664, 25.930118333333333], [48.25443166666667, 25.929661666666668], [48.25521333333333, 25.929191666666668], [48.25595333333333, 25.92874], [48.25673833333333, 25.928306666666668], [48.257525, 25.928115], [48.25787, 25.928045], [48.25818, 25.92798], [48.25880333333333, 25.927928333333334], [48.25975666666667, 25.927763333333335], [48.260731666666665, 25.927636666666668], [48.26094333333333, 25.927625], [48.260995, 25.92761], [48.261065, 25.927593333333334], [48.26134, 25.92749], [48.26148333333333, 25.92749], [48.261786666666666, 25.927471666666666], [48.2624, 25.927403333333334], [48.26271333333333, 25.927386666666667], [48.263225, 25.92729], [48.26415, 25.927135], [48.264655, 25.926903333333332], [48.265433333333334, 25.926688333333335], [48.265433333333334, 25.926688333333335], [48.26621166666666, 25.926608333333334], [48.26654166666667, 25.926605], [48.266801666666666, 25.926678333333335], [48.267448333333334, 25.926898333333334], [48.26786333333333, 25.92706], [48.268271666666664, 25.927276666666668], [48.268865, 25.927811666666667], [48.26918166666667, 25.92768], [48.269835, 25.9278], [48.27018666666667, 25.92792], [48.270453333333336, 25.928043333333335], [48.270473333333335, 25.928038333333333], [48.27108166666667, 25.928258333333332], [48.27189166666667, 25.928565], [48.27278833333333, 25.928876666666667], [48.273756666666664, 25.9292], [48.27466666666667, 25.929421666666666], [48.27502666666667, 25.929543333333335], [48.275165, 25.929618333333334], [48.27579166666666, 25.929893333333332], [48.275998333333334, 25.92993], [48.27665, 25.93015], [48.277611666666665, 25.93049], [48.27856833333333, 25.930855], [48.27957166666667, 25.931281666666667], [48.280588333333334, 25.93165], [48.28145333333333, 25.93196], [48.28174833333333, 25.932105], [48.282761666666666, 25.93241], [48.28333666666666, 25.932613333333332], [48.283501666666666, 25.932666666666666], [48.28411333333333, 25.932901666666666], [48.28469166666667, 25.933136666666666], [48.28534833333333, 25.93336], [48.285646666666665, 25.933513333333334], [48.285891666666664, 25.933551666666666], [48.28619833333333, 25.93368], [48.28662666666666, 25.933828333333334], [48.287061666666666, 25.934003333333333], [48.28743, 25.93338], [48.287465, 25.933201666666665], [48.28754833333333, 25.933015], [48.28764, 25.93303166666667], [48.28798666666667, 25.933131666666668], [48.28805833333333, 25.933138333333332], [48.288318333333336, 25.93319333333333], [48.288578333333334, 25.933230000000002], [48.28873333333333, 25.933303333333335], [48.28922, 25.933486666666667], [48.289645, 25.933643333333332], [48.29008, 25.933728333333335], [48.290506666666666, 25.933911666666667], [48.291035, 25.934156666666667], [48.291441666666664, 25.934416666666667], [48.29192333333334, 25.934788333333334], [48.29234666666667, 25.935003333333334], [48.29243833333334, 25.935063333333332], [48.29252833333334, 25.935023333333334], [48.292638333333336, 25.934746666666666], [48.292745, 25.934171666666668], [48.292925, 25.933335], [48.29302666666667, 25.932855], [48.29299666666667, 25.932766666666666], [48.292995, 25.932718333333334], [48.29295833333333, 25.93228166666667], [48.292965, 25.931683333333332], [48.29291, 25.930785], [48.292921666666665, 25.93007], [48.29301666666667, 25.929911666666666], [48.29325, 25.929455], [48.294111666666666, 25.927941666666666]],\n",
       "                {&quot;bubblingMouseEvents&quot;: true, &quot;color&quot;: &quot;#cdff29&quot;, &quot;dashArray&quot;: null, &quot;dashOffset&quot;: null, &quot;fill&quot;: false, &quot;fillColor&quot;: &quot;#cdff29&quot;, &quot;fillOpacity&quot;: 0.2, &quot;fillRule&quot;: &quot;evenodd&quot;, &quot;lineCap&quot;: &quot;round&quot;, &quot;lineJoin&quot;: &quot;round&quot;, &quot;noClip&quot;: false, &quot;opacity&quot;: 0.8, &quot;smoothFactor&quot;: 1.0, &quot;stroke&quot;: true, &quot;weight&quot;: 2}\n",
       "            ).addTo(map_b5a031f43958885498d1960cc133ab1b);\n",
       "        \n",
       "    \n",
       "            var poly_line_cf6de5d4641f9eff22769e03a966a0a0 = L.polyline(\n",
       "                [[48.294111666666666, 25.927941666666666], [48.294358333333335, 25.92762], [48.29439833333333, 25.927485], [48.29444, 25.927453333333332], [48.29461666666667, 25.927248333333335], [48.29501833333333, 25.926828333333333], [48.295071666666665, 25.92675], [48.29516666666667, 25.926618333333334], [48.295426666666664, 25.92632], [48.295878333333334, 25.925793333333335], [48.29624666666667, 25.92536], [48.29624833333333, 25.925235], [48.29604833333333, 25.92482], [48.296015, 25.924705], [48.295993333333335, 25.92465333333333], [48.29591333333333, 25.924448333333334], [48.29571333333333, 25.924106666666667], [48.295445, 25.923948333333332], [48.29517333333333, 25.924218333333332], [48.29488333333333, 25.924768333333333], [48.29457166666667, 25.925431666666668], [48.29441, 25.925898333333333], [48.294535, 25.92685], [48.29452666666667, 25.926903333333332], [48.29452333333333, 25.927015], [48.29445666666667, 25.9274], [48.29410333333333, 25.927786666666666], [48.29371, 25.92831], [48.29362, 25.928466666666665], [48.293335, 25.929043333333333], [48.292878333333334, 25.929766666666666], [48.29287, 25.93025], [48.29297666666667, 25.931303333333332], [48.292965, 25.932691666666667], [48.292875, 25.93279], [48.292388333333335, 25.93288666666667], [48.292321666666666, 25.932898333333334], [48.29206333333333, 25.932926666666667], [48.29186333333333, 25.932936666666667], [48.291668333333334, 25.932996666666668], [48.291423333333334, 25.933096666666668], [48.29127666666667, 25.933023333333335], [48.29121833333333, 25.933086666666668], [48.291005, 25.933138333333332], [48.290705, 25.933230000000002], [48.29065333333333, 25.93333833333333], [48.290348333333334, 25.933548333333334], [48.290031666666664, 25.933468333333334], [48.289703333333335, 25.93338333333333], [48.28943833333334, 25.933331666666668], [48.289135, 25.93331166666667], [48.288795, 25.93322], [48.288385, 25.933113333333335], [48.28802, 25.933036666666666], [48.287695, 25.932948333333332], [48.287585, 25.932941666666668], [48.28742333333334, 25.933136666666666], [48.287333333333336, 25.933638333333334], [48.286905, 25.933863333333335], [48.286456666666666, 25.933731666666667], [48.28599666666667, 25.93357], [48.2857, 25.933468333333334], [48.285265, 25.933285], [48.284573333333334, 25.933036666666666], [48.284083333333335, 25.932851666666668], [48.28324833333333, 25.932463333333335], [48.28319666666667, 25.93242], [48.28286666666666, 25.932363333333335], [48.28242, 25.932211666666667], [48.281865, 25.932006666666666], [48.28125, 25.93178], [48.280046666666664, 25.931365], [48.27934666666667, 25.931051666666665], [48.27926, 25.93101], [48.278686666666665, 25.93087], [48.27802, 25.93063666666667], [48.277145, 25.930295], [48.27668333333333, 25.930136666666666], [48.275996666666664, 25.929883333333333], [48.27541333333333, 25.929653333333334], [48.274745, 25.929388333333332], [48.27311, 25.928955], [48.27247166666667, 25.928758333333334], [48.272126666666665, 25.928645], [48.27200166666667, 25.928566666666665], [48.27124333333333, 25.928251666666668], [48.270315, 25.927891666666667], [48.26981333333333, 25.927653333333332], [48.26974333333333, 25.92764], [48.269335, 25.927456666666668], [48.26921166666666, 25.927291666666665], [48.26900833333333, 25.926978333333334], [48.26875666666667, 25.926951666666668], [48.26850833333334, 25.92706666666667], [48.267788333333336, 25.926836666666667], [48.267201666666665, 25.926663333333334], [48.267026666666666, 25.926596666666665], [48.26683333333333, 25.92653], [48.266286666666666, 25.926546666666667], [48.26547333333333, 25.92666], [48.264885, 25.926765], [48.264648333333334, 25.926763333333334], [48.26456, 25.926733333333335], [48.264095, 25.92679], [48.264071666666666, 25.926808333333334], [48.263911666666665, 25.926883333333333], [48.263146666666664, 25.927025], [48.26213833333333, 25.927161666666667], [48.261136666666665, 25.927333333333333], [48.260245, 25.927458333333334], [48.259996666666666, 25.92756333333333], [48.259305, 25.92768], [48.258511666666664, 25.927806666666665], [48.25814, 25.927856666666667], [48.257351666666665, 25.927983333333334], [48.256708333333336, 25.928173333333334], [48.25510166666667, 25.929121666666667], [48.254285, 25.929611666666666], [48.253366666666665, 25.93015], [48.252698333333335, 25.930488333333333], [48.25264166666667, 25.930511666666668], [48.25248666666667, 25.93058], [48.25227, 25.930773333333335], [48.25232833333333, 25.931215], [48.252275, 25.93197], [48.25215333333333, 25.934], [48.252085, 25.935051666666666], [48.25201333333333, 25.936243333333334], [48.25196, 25.93722], [48.25192333333333, 25.937625], [48.251913333333334, 25.937833333333334], [48.251905, 25.937851666666667], [48.25188833333333, 25.938161666666666], [48.251835, 25.93875166666667], [48.25178666666667, 25.939263333333333], [48.251645, 25.93973], [48.25164, 25.939895], [48.25156833333333, 25.940466666666666], [48.25168166666667, 25.940738333333332], [48.25168166666667, 25.940738333333332], [48.25171, 25.940738333333332], [48.251805, 25.940486666666665], [48.25183166666667, 25.93992666666667], [48.251895, 25.938918333333334], [48.251955, 25.93796], [48.25202, 25.937106666666665], [48.25208833333333, 25.93657333333333], [48.25221833333333, 25.934448333333332], [48.25227666666667, 25.93362], [48.252318333333335, 25.932965], [48.25234666666667, 25.932495], [48.252401666666664, 25.931603333333335], [48.25275, 25.930715], [48.252743333333335, 25.93070833333333], [48.25275, 25.930678333333333], [48.252871666666664, 25.930576666666667], [48.254225, 25.929771666666667], [48.25490833333333, 25.92935], [48.255581666666664, 25.928961666666666], [48.256258333333335, 25.928576666666668], [48.260351666666665, 25.927583333333335], [48.26083166666667, 25.927535], [48.261025, 25.92754], [48.26103166666667, 25.92756], [48.26107, 25.927565], [48.26130166666667, 25.92747333333333], [48.26208, 25.927351666666667], [48.263016666666665, 25.927215], [48.26363833333333, 25.927073333333333], [48.263938333333336, 25.927041666666668], [48.26427833333333, 25.926953333333334], [48.264355, 25.926886666666668], [48.26435, 25.926865], [48.264525, 25.92684], [48.264765, 25.926843333333334], [48.264845, 25.926766666666666], [48.26506166666667, 25.926691666666667], [48.26549166666667, 25.926665], [48.266351666666665, 25.926573333333334], [48.26671666666667, 25.926568333333332], [48.26694, 25.926625], [48.26784333333333, 25.92697666666667], [48.268316666666664, 25.927193333333335], [48.26847333333333, 25.927413333333334], [48.268675, 25.927721666666667], [48.269195, 25.927676666666667], [48.27005333333334, 25.927841666666666], [48.27059166666667, 25.928069999999998], [48.27063166666667, 25.928106666666668], [48.27133, 25.928353333333334], [48.272058333333334, 25.928598333333333], [48.27280833333333, 25.928846666666665], [48.273581666666665, 25.929128333333335], [48.27447, 25.929393333333334], [48.27527166666667, 25.929663333333334], [48.27585666666667, 25.929873333333333], [48.2762, 25.929975], [48.27704833333333, 25.930276666666668], [48.278038333333335, 25.930638333333334], [48.27916333333334, 25.931095], [48.28036, 25.93155], [48.281483333333334, 25.931951666666667], [48.28266833333333, 25.93236], [48.28333, 25.932603333333333], [48.284076666666664, 25.932881666666667], [48.28487666666667, 25.933165], [48.285565, 25.933448333333335], [48.28573166666666, 25.933545], [48.28577166666667, 25.933551666666666], [48.28607, 25.933623333333333], [48.286471666666664, 25.933761666666665], [48.287321666666664, 25.933641666666666], [48.28747833333333, 25.933163333333333], [48.28756, 25.93304], [48.287663333333334, 25.933043333333334], [48.287976666666665, 25.933138333333332], [48.28802833333334, 25.933128333333332], [48.288288333333334, 25.93317], [48.28861, 25.933276666666668], [48.28887666666667, 25.93335], [48.28928833333333, 25.933466666666668], [48.29016, 25.933625], [48.290555, 25.933785], [48.29079333333333, 25.93383], [48.290905, 25.933863333333335], [48.29099, 25.933943333333332], [48.29127833333333, 25.934076666666666], [48.29173, 25.934438333333333], [48.292476666666666, 25.935026666666666], [48.29264666666667, 25.93483833333333], [48.29269333333333, 25.934475], [48.292845, 25.933785], [48.29297833333333, 25.933121666666665], [48.29309333333333, 25.932918333333333], [48.293083333333335, 25.932828333333333], [48.293076666666664, 25.932453333333335], [48.293085, 25.93212], [48.293038333333335, 25.931606666666667], [48.29295666666667, 25.93095], [48.292901666666666, 25.930203333333335], [48.292955, 25.929988333333334], [48.29304333333333, 25.9298], [48.29387333333333, 25.928288333333334], [48.294246666666666, 25.927778333333332], [48.29468333333333, 25.927178333333334], [48.294938333333334, 25.926851666666668], [48.295008333333335, 25.926698333333334], [48.29502, 25.926683333333333], [48.29552833333333, 25.926141666666666], [48.29611166666667, 25.92548], [48.296005, 25.924671666666665], [48.295945, 25.92453666666667], [48.295806666666664, 25.924225], [48.29549166666666, 25.923816666666667], [48.29521833333333, 25.92411], [48.29488, 25.924725], [48.294466666666665, 25.925618333333333], [48.294376666666665, 25.926168333333333], [48.294495, 25.926841666666668], [48.29449666666667, 25.92693], [48.29450166666667, 25.92729], [48.293915, 25.927983333333334], [48.29364833333333, 25.9284], [48.29363166666667, 25.928418333333333], [48.29360666666667, 25.928473333333333], [48.29343, 25.928851666666667], [48.29302, 25.929616666666668], [48.292793333333336, 25.930143333333334], [48.292785, 25.93082666666667], [48.292855, 25.931753333333333], [48.29298, 25.93251], [48.292665, 25.932788333333335], [48.292415, 25.932793333333333], [48.292305, 25.932866666666666], [48.292215, 25.932896666666668], [48.291845, 25.93293], [48.291435, 25.933016666666667], [48.291095, 25.93303166666667], [48.290395, 25.933588333333333], [48.290395, 25.933588333333333], [48.290175, 25.933573333333335], [48.289813333333335, 25.933558333333334], [48.28968166666667, 25.93349], [48.289456666666666, 25.933456666666668], [48.289095, 25.933361666666666], [48.28876666666667, 25.93322], [48.28836833333333, 25.933115], [48.28793, 25.932955], [48.287805, 25.932966666666665], [48.28769166666667, 25.93293166666667], [48.28746833333334, 25.932985], [48.28743166666667, 25.933085], [48.28738166666667, 25.933271666666666], [48.28721, 25.933753333333332], [48.28714166666666, 25.933875], [48.28713666666667, 25.93389833333333], [48.286851666666664, 25.933785], [48.28645, 25.933696666666666], [48.28528333333333, 25.933315], [48.284636666666664, 25.933083333333332], [48.28405166666667, 25.932851666666668], [48.28354, 25.932613333333332], [48.283318333333334, 25.932473333333334], [48.28283166666667, 25.932331666666666], [48.28212, 25.932066666666667], [48.28154166666667, 25.931863333333332], [48.281198333333336, 25.931745], [48.280786666666664, 25.931606666666667], [48.28015166666667, 25.931376666666665], [48.279428333333335, 25.93106], [48.27941833333333, 25.93105], [48.27937166666667, 25.931075], [48.27921166666667, 25.931023333333332], [48.278585, 25.930751666666666], [48.27778166666667, 25.930448333333334], [48.27693333333333, 25.93019333333333], [48.276696666666666, 25.930138333333332], [48.2759, 25.929808333333334], [48.27579333333333, 25.92978], [48.27532333333333, 25.929566666666666], [48.274631666666664, 25.92934], [48.273595, 25.929006666666666], [48.27260666666667, 25.928723333333334], [48.272268333333336, 25.928703333333335], [48.27137666666667, 25.928350000000002], [48.270383333333335, 25.927965], [48.26981833333333, 25.92768166666667], [48.269796666666664, 25.927638333333334], [48.26923333333333, 25.927325], [48.269108333333335, 25.927101666666665], [48.26882166666667, 25.926913333333335], [48.26857, 25.927033333333334], [48.26828166666667, 25.92703], [48.26784833333333, 25.926835], [48.267225, 25.926678333333335], [48.266555, 25.926503333333333], [48.26594333333333, 25.926568333333332], [48.265373333333336, 25.92669], [48.26461666666667, 25.926785], [48.264205, 25.926806666666668], [48.263578333333335, 25.926981666666666], [48.262645, 25.927123333333334], [48.2617, 25.927206666666667], [48.26076666666667, 25.92737], [48.260285, 25.927426666666666], [48.26021166666666, 25.927481666666665], [48.260083333333334, 25.927533333333333], [48.25951, 25.927646666666668], [48.258766666666666, 25.92779833333333], [48.258388333333336, 25.92784], [48.258015, 25.927868333333333], [48.257605, 25.927953333333335], [48.25695833333333, 25.928085], [48.25624833333333, 25.92845], [48.255395, 25.928948333333334], [48.254511666666666, 25.929468333333332], [48.2537, 25.929935], [48.252916666666664, 25.930353333333333], [48.25265666666667, 25.930475], [48.252631666666666, 25.9305], [48.252316666666665, 25.930638333333334], [48.25230333333333, 25.93097], [48.25231, 25.931558333333335], [48.252228333333335, 25.932616666666668], [48.25214666666667, 25.933755], [48.25207833333333, 25.934758333333335], [48.25203, 25.935811666666666], [48.25199, 25.93679], [48.25193, 25.937636666666666], [48.25190666666666, 25.937828333333332], [48.25183833333333, 25.938523333333332], [48.2518, 25.939065], [48.25165333333333, 25.939655], [48.251603333333335, 25.939845], [48.251603333333335, 25.939845], [48.251603333333335, 25.939845], [48.251666666666665, 25.940741666666668], [48.25167666666667, 25.940733333333334], [48.251803333333335, 25.940266666666666], [48.25186, 25.939635], [48.252025, 25.937505], [48.25208666666666, 25.936606666666666], [48.252075, 25.936563333333332], [48.25208333333333, 25.93631]],\n",
       "                {&quot;bubblingMouseEvents&quot;: true, &quot;color&quot;: &quot;#ffc400&quot;, &quot;dashArray&quot;: null, &quot;dashOffset&quot;: null, &quot;fill&quot;: false, &quot;fillColor&quot;: &quot;#ffc400&quot;, &quot;fillOpacity&quot;: 0.2, &quot;fillRule&quot;: &quot;evenodd&quot;, &quot;lineCap&quot;: &quot;round&quot;, &quot;lineJoin&quot;: &quot;round&quot;, &quot;noClip&quot;: false, &quot;opacity&quot;: 0.8, &quot;smoothFactor&quot;: 1.0, &quot;stroke&quot;: true, &quot;weight&quot;: 2}\n",
       "            ).addTo(map_b5a031f43958885498d1960cc133ab1b);\n",
       "        \n",
       "    \n",
       "            var poly_line_b904e5b1330f509ce84ea705db74cfbc = L.polyline(\n",
       "                [[48.25208333333333, 25.93631], [48.252135, 25.935535], [48.25219, 25.934733333333334], [48.252245, 25.93388], [48.252296666666666, 25.933028333333333], [48.252343333333336, 25.932263333333335], [48.252388333333336, 25.931578333333334], [48.252433333333336, 25.931198333333334], [48.25282166666667, 25.93066], [48.25286666666667, 25.930625], [48.25288666666667, 25.93057], [48.253168333333335, 25.93035], [48.25376333333333, 25.929996666666668], [48.25449166666667, 25.929578333333332], [48.25519833333333, 25.92915], [48.25580333333333, 25.928805], [48.256475, 25.928425], [48.257108333333335, 25.928186666666665], [48.257675, 25.928085], [48.25796666666667, 25.928016666666668], [48.25816833333333, 25.927985], [48.25857333333333, 25.927925], [48.25857333333333, 25.927925], [48.25922666666666, 25.927813333333333], [48.26039, 25.927631666666667], [48.260415, 25.92763], [48.26069666666667, 25.927571666666665], [48.26098, 25.927573333333335], [48.26101833333333, 25.927565], [48.26106, 25.927561666666666], [48.26141166666667, 25.927445], [48.262323333333335, 25.927303333333334], [48.263445, 25.927126666666666], [48.26445, 25.92697], [48.264833333333335, 25.92686], [48.264833333333335, 25.92686], [48.26504, 25.926693333333333], [48.26510833333333, 25.926698333333334], [48.26537833333333, 25.926685], [48.26620166666667, 25.92658], [48.26687166666667, 25.926613333333332], [48.267541666666666, 25.926873333333333], [48.26803833333334, 25.927058333333335], [48.26840833333333, 25.927368333333334], [48.268683333333335, 25.927748333333334], [48.26883, 25.927781666666668], [48.26898833333333, 25.927745], [48.26954166666667, 25.927653333333332], [48.269998333333334, 25.927826666666668], [48.270055, 25.927845], [48.270286666666664, 25.927928333333334], [48.270626666666665, 25.928095], [48.270625, 25.928136666666667], [48.27075333333333, 25.928146666666667], [48.27118333333333, 25.928278333333335], [48.272108333333335, 25.928601666666665], [48.274045, 25.929266666666667], [48.275, 25.92960666666667], [48.275636666666664, 25.929895], [48.275863333333334, 25.929975], [48.27659166666667, 25.93016], [48.277555, 25.93048], [48.278505, 25.93086], [48.279468333333334, 25.931255], [48.28019333333334, 25.931515], [48.28046833333333, 25.93162], [48.28048666666667, 25.931615], [48.28104, 25.931801666666665], [48.28178166666667, 25.93211], [48.281895, 25.932151666666666], [48.281996666666664, 25.932178333333333], [48.28243166666667, 25.932293333333334], [48.283233333333335, 25.932576666666666], [48.28409166666667, 25.932903333333332], [48.284935, 25.933215], [48.28563166666667, 25.933483333333335], [48.2861, 25.933613333333334], [48.28651333333333, 25.933768333333333], [48.28709833333333, 25.933953333333335], [48.28725, 25.933963333333335], [48.28731333333333, 25.933851666666666], [48.28736833333333, 25.93359166666667], [48.28746833333334, 25.93316], [48.28752333333333, 25.93308], [48.287643333333335, 25.93305], [48.287715, 25.933045], [48.28774666666666, 25.933043333333334], [48.28798166666667, 25.933118333333333], [48.28819333333333, 25.933145], [48.28850833333333, 25.933208333333333], [48.28875, 25.933288333333333], [48.288873333333335, 25.93328], [48.289078333333336, 25.93333833333333], [48.28985, 25.933506666666666], [48.290245, 25.93361], [48.290615, 25.933755], [48.290888333333335, 25.933911666666667], [48.29118166666667, 25.934145], [48.29202166666666, 25.93466], [48.292368333333336, 25.934956666666668], [48.29246, 25.935], [48.292568333333335, 25.934925], [48.29258333333333, 25.934855], [48.29258166666666, 25.934698333333333], [48.29271166666667, 25.93415], [48.29291833333333, 25.933258333333335], [48.29302, 25.932845], [48.29302, 25.93169], [48.292946666666666, 25.930833333333332], [48.292901666666666, 25.930165], [48.292946666666666, 25.93], [48.293075, 25.929771666666667], [48.29351833333333, 25.928951666666666], [48.29399333333333, 25.928081666666667], [48.29454833333333, 25.92738], [48.29454833333333, 25.92738], [48.29494, 25.92687], [48.29535166666667, 25.926365], [48.2959, 25.925755], [48.29625333333333, 25.925255], [48.29609333333333, 25.924856666666667], [48.29607333333333, 25.92477], [48.296033333333334, 25.924706666666665], [48.29591833333333, 25.924475], [48.295833333333334, 25.924416666666666], [48.295833333333334, 25.924416666666666], [48.29580833333333, 25.924398333333333], [48.295755, 25.924266666666668], [48.295563333333334, 25.923843333333334], [48.29549166666666, 25.923796666666668], [48.29516666666667, 25.9242], [48.29473333333333, 25.925], [48.29432333333333, 25.92592], [48.294306666666664, 25.926125], [48.29438, 25.926365], [48.29449, 25.926871666666667], [48.294486666666664, 25.926936666666666], [48.294495, 25.92722], [48.29414, 25.927636666666668], [48.293765, 25.928201666666666], [48.29369833333333, 25.928341666666668], [48.293315, 25.92914], [48.292993333333335, 25.92991], [48.292885, 25.9303], [48.292786666666665, 25.93064], [48.292813333333335, 25.931086666666666], [48.292876666666665, 25.932135], [48.29273333333333, 25.932726666666667], [48.292426666666664, 25.932818333333334], [48.292316666666665, 25.932881666666667], [48.29203166666667, 25.933003333333332], [48.29189, 25.932998333333334], [48.291511666666665, 25.933005], [48.29107, 25.933056666666666], [48.29071166666667, 25.933165], [48.290618333333335, 25.933418333333332], [48.29051666666667, 25.933566666666668], [48.290416666666665, 25.933578333333333], [48.290123333333334, 25.93354666666667], [48.289698333333334, 25.933538333333335], [48.289341666666665, 25.933415], [48.28854666666667, 25.933178333333334], [48.288155, 25.933071666666667], [48.28771833333333, 25.932965], [48.287636666666664, 25.932943333333334], [48.287615, 25.93293], [48.28743166666667, 25.933055], [48.287305, 25.933521666666667], [48.28713333333334, 25.933855], [48.286945, 25.933841666666666], [48.286588333333334, 25.933675], [48.28614666666667, 25.933536666666665], [48.28530166666667, 25.933305], [48.28464666666667, 25.933066666666665], [48.283685, 25.9327], [48.28319666666667, 25.932483333333334], [48.28314, 25.932455], [48.282835, 25.932365], [48.28205333333333, 25.932098333333332], [48.281528333333334, 25.93190166666667], [48.28096333333333, 25.931661666666667], [48.280155, 25.931415], [48.280141666666665, 25.931408333333334], [48.28, 25.931356666666666], [48.279355, 25.931048333333333], [48.27925333333334, 25.931041666666665], [48.27907, 25.930995], [48.278345, 25.930711666666667], [48.27745, 25.930366666666668], [48.276696666666666, 25.930125], [48.27653333333333, 25.930091666666666], [48.27629833333334, 25.93001], [48.27578666666667, 25.92986833333333], [48.275145, 25.929656666666666], [48.27451833333333, 25.929385], [48.27359166666667, 25.929051666666666], [48.272681666666664, 25.928821666666668], [48.271861666666666, 25.928466666666665], [48.27088166666667, 25.928103333333333], [48.27001333333333, 25.927745], [48.26983666666667, 25.927678333333333], [48.269243333333335, 25.927363333333332], [48.268425, 25.92709], [48.268076666666666, 25.926975], [48.26779833333333, 25.92685], [48.266945, 25.926568333333332], [48.26632, 25.926573333333334], [48.26565166666666, 25.926668333333332], [48.265296666666664, 25.926683333333333], [48.26489333333333, 25.92676], [48.26453166666667, 25.926726666666667], [48.26432833333333, 25.926736666666667], [48.264026666666666, 25.926903333333332], [48.26258333333333, 25.927103333333335], [48.26150666666667, 25.92727], [48.26048333333333, 25.927431666666667], [48.26020333333334, 25.927461666666666], [48.25962, 25.927606666666666], [48.25884, 25.927743333333332], [48.258365, 25.927823333333333], [48.25801, 25.927885], [48.25787833333333, 25.927913333333333], [48.25637833333333, 25.92836], [48.25550666666667, 25.928831666666667], [48.25454666666667, 25.92941], [48.25356166666667, 25.930011666666665], [48.25279333333334, 25.930423333333334], [48.25246166666667, 25.930581666666665], [48.252316666666665, 25.930828333333334], [48.252345, 25.931261666666668], [48.25226333333333, 25.93192], [48.252203333333334, 25.932813333333332], [48.25215, 25.933785], [48.25215, 25.933785], [48.25208333333333, 25.934798333333333], [48.25208333333333, 25.934798333333333], [48.25199666666666, 25.935931666666665], [48.25199666666666, 25.935931666666665], [48.251931666666664, 25.93707], [48.251895, 25.9378], [48.25187833333333, 25.93825], [48.25181333333333, 25.938773333333334], [48.25174833333333, 25.939448333333335], [48.251603333333335, 25.94], [48.25158, 25.940175], [48.25158166666667, 25.9402], [48.25156333333333, 25.940246666666667], [48.251551666666664, 25.940505], [48.25156333333333, 25.940698333333334], [48.251733333333334, 25.94072166666667], [48.25181333333333, 25.940326666666667], [48.25187833333333, 25.939655], [48.25195, 25.93857], [48.25198833333334, 25.93793], [48.25199333333333, 25.937836666666666], [48.252008333333336, 25.937666666666665], [48.25208, 25.936833333333333], [48.252111666666664, 25.936448333333335], [48.252175, 25.934978333333333], [48.252215, 25.934331666666665], [48.25226, 25.933743333333332], [48.25226, 25.933743333333332], [48.252295, 25.933116666666667], [48.252338333333334, 25.932481666666668], [48.252386666666666, 25.93157666666667], [48.25248, 25.93106], [48.25248, 25.93106], [48.25272666666667, 25.930733333333333], [48.25272666666667, 25.930733333333333], [48.25281666666667, 25.930666666666667], [48.25281666666667, 25.930666666666667], [48.25289, 25.93059], [48.25324666666667, 25.930348333333335], [48.25403, 25.929891666666666], [48.254911666666665, 25.92936], [48.25628833333333, 25.928571666666667], [48.25628833333333, 25.928571666666667], [48.257065, 25.928215], [48.25777333333333, 25.92808], [48.25815, 25.927998333333335], [48.258275, 25.927985], [48.258275, 25.927985], [48.258646666666664, 25.927905], [48.258646666666664, 25.927905], [48.25909, 25.927845], [48.259571666666666, 25.927763333333335], [48.26001, 25.927693333333334], [48.26099166666667, 25.927605], [48.26099166666667, 25.927605], [48.26116833333333, 25.92756333333333], [48.26116833333333, 25.92756333333333], [48.26189333333333, 25.927458333333334], [48.26295, 25.927313333333334], [48.26394, 25.927116666666667], [48.264466666666664, 25.926986666666668], [48.26484166666667, 25.926895000000002], [48.26486666666667, 25.926895000000002], [48.26486666666667, 25.926895000000002], [48.26504, 25.926808333333334], [48.26504, 25.926808333333334], [48.26569333333333, 25.92673], [48.26569333333333, 25.92673], [48.26649, 25.926651666666668], [48.267035, 25.926763333333334], [48.267035, 25.926763333333334], [48.26768666666667, 25.927], [48.268348333333336, 25.927373333333332], [48.268571666666666, 25.927685], [48.268845, 25.927805], [48.269133333333336, 25.927666666666667], [48.26938666666667, 25.927628333333335], [48.269935, 25.927838333333334], [48.269935, 25.927838333333334], [48.27057666666666, 25.928113333333332], [48.27057666666666, 25.928113333333332], [48.27057666666666, 25.928113333333332], [48.270581666666665, 25.928138333333333], [48.27099, 25.928286666666665], [48.27213, 25.928658333333335], [48.27296333333334, 25.92894], [48.27296333333334, 25.92894], [48.27296333333334, 25.92894], [48.27399833333333, 25.929281666666668], [48.27399833333333, 25.929281666666668], [48.27399833333333, 25.929281666666668], [48.274906666666666, 25.929616666666668], [48.274906666666666, 25.929616666666668], [48.275706666666665, 25.929893333333332], [48.275706666666665, 25.929893333333332], [48.275706666666665, 25.929893333333332], [48.27587833333333, 25.929943333333334], [48.276335, 25.929983333333332], [48.277253333333334, 25.930333333333333], [48.278373333333334, 25.930735], [48.27916333333334, 25.931125], [48.27933, 25.9312], [48.27958, 25.931285], [48.28020166666667, 25.931494999999998], [48.28100333333333, 25.931763333333333], [48.28100333333333, 25.931763333333333], [48.28100333333333, 25.931763333333333], [48.28173833333334, 25.932073333333335], [48.28173833333334, 25.932073333333335], [48.28173833333334, 25.932073333333335], [48.28192333333333, 25.932168333333333], [48.28194, 25.93221], [48.28194, 25.93221], [48.28194, 25.93221], [48.28227666666667, 25.932265], [48.28227666666667, 25.932265], [48.28227666666667, 25.932265], [48.28227666666667, 25.932265], [48.28297333333333, 25.932513333333333], [48.28297333333333, 25.932513333333333], [48.28297333333333, 25.932513333333333], [48.283361666666664, 25.932636666666667], [48.283361666666664, 25.932636666666667], [48.284625, 25.933095], [48.284625, 25.933095], [48.28537166666667, 25.933363333333332], [48.285668333333334, 25.93352], [48.28582333333333, 25.933523333333333], [48.28604333333333, 25.933601666666668], [48.286355, 25.933765], [48.28664666666667, 25.933896666666666], [48.286975, 25.934015], [48.287108333333336, 25.933998333333335], [48.28723333333333, 25.933833333333332], [48.287326666666665, 25.933443333333333], [48.2875, 25.933001666666666], [48.28771166666667, 25.933033333333334], [48.28774166666667, 25.933045], [48.287976666666665, 25.933108333333333], [48.28821166666667, 25.933156666666665], [48.28855166666666, 25.933241666666667], [48.28885, 25.933326666666666], [48.289005, 25.933323333333334], [48.28921833333333, 25.933413333333334], [48.289521666666666, 25.933531666666667], [48.28991833333333, 25.933635], [48.29075, 25.933926666666668], [48.29110166666667, 25.934081666666668], [48.29151, 25.934398333333334], [48.291988333333336, 25.934703333333335]],\n",
       "                {&quot;bubblingMouseEvents&quot;: true, &quot;color&quot;: &quot;#ff6700&quot;, &quot;dashArray&quot;: null, &quot;dashOffset&quot;: null, &quot;fill&quot;: false, &quot;fillColor&quot;: &quot;#ff6700&quot;, &quot;fillOpacity&quot;: 0.2, &quot;fillRule&quot;: &quot;evenodd&quot;, &quot;lineCap&quot;: &quot;round&quot;, &quot;lineJoin&quot;: &quot;round&quot;, &quot;noClip&quot;: false, &quot;opacity&quot;: 0.8, &quot;smoothFactor&quot;: 1.0, &quot;stroke&quot;: true, &quot;weight&quot;: 2}\n",
       "            ).addTo(map_b5a031f43958885498d1960cc133ab1b);\n",
       "        \n",
       "    \n",
       "            var poly_line_f5a5e65f6bd05a744a16b6364e94e06b = L.polyline(\n",
       "                [[48.291988333333336, 25.934703333333335], [48.29236, 25.93497], [48.292593333333336, 25.934986666666667], [48.292651666666664, 25.93474833333333], [48.29273333333333, 25.934298333333334], [48.29289, 25.933313333333334], [48.29298, 25.932855], [48.292995, 25.932795], [48.292995, 25.932795], [48.29302333333333, 25.932701666666667], [48.293035, 25.932479999999998], [48.29300333333333, 25.932143333333332], [48.29299833333334, 25.931551666666667], [48.292923333333334, 25.930783333333334], [48.292903333333335, 25.930146666666666], [48.293081666666666, 25.929738333333333], [48.29347333333333, 25.929053333333332], [48.293875, 25.928308333333334], [48.294176666666665, 25.92796166666667], [48.294675, 25.927306666666667], [48.29507666666667, 25.926835], [48.29599833333333, 25.92575666666667], [48.29629, 25.925311666666666], [48.296058333333335, 25.924768333333333], [48.29596, 25.92456], [48.29595166666667, 25.924541666666666], [48.295831666666665, 25.924225], [48.29557166666667, 25.923806666666668], [48.29512, 25.924326666666666], [48.2945, 25.925586666666668], [48.29441, 25.925848333333334], [48.29440833333334, 25.926053333333332], [48.29447666666667, 25.926458333333333], [48.29447166666667, 25.92653], [48.294425, 25.926726666666667], [48.29448333333333, 25.926973333333333], [48.294495, 25.927], [48.29450666666666, 25.927126666666666], [48.294435, 25.927405], [48.294185, 25.927668333333333], [48.29381333333333, 25.928085], [48.29339, 25.928951666666666], [48.29297666666667, 25.929801666666666], [48.292925, 25.930273333333332], [48.292966666666665, 25.931241666666665], [48.292991666666666, 25.931848333333335], [48.29307, 25.931933333333333], [48.29307, 25.931933333333333], [48.293081666666666, 25.932188333333333], [48.29306166666667, 25.932361666666665], [48.292986666666664, 25.932776666666665], [48.292903333333335, 25.933205], [48.292831666666665, 25.93377], [48.292755, 25.933993333333333], [48.292685, 25.934343333333334], [48.292593333333336, 25.934903333333335], [48.29252833333334, 25.935261666666666], [48.29247, 25.935453333333335], [48.29241666666667, 25.93578], [48.292381666666664, 25.935901666666666], [48.29229333333333, 25.93612], [48.292125, 25.936918333333335], [48.291943333333336, 25.937386666666665], [48.29185666666667, 25.937673333333333], [48.29183333333334, 25.937808333333333], [48.291576666666664, 25.938525], [48.29125333333333, 25.939491666666665], [48.29113, 25.94033], [48.29104, 25.941061666666666], [48.29091833333333, 25.941918333333334], [48.290225, 25.946938333333332], [48.289965, 25.948126666666667], [48.289735, 25.949266666666666], [48.28955166666667, 25.950181666666666], [48.28935, 25.950985], [48.28915166666667, 25.952015], [48.289031666666666, 25.952635], [48.288936666666665, 25.953118333333332], [48.28883666666667, 25.953631666666666], [48.288623333333334, 25.95456666666667], [48.288505, 25.955098333333332], [48.28843666666667, 25.955518333333334], [48.28846, 25.955693333333333], [48.28845666666667, 25.955733333333335], [48.288331666666664, 25.956336666666665], [48.28820666666667, 25.95677], [48.288046666666666, 25.95724166666667], [48.287836666666664, 25.957926666666665], [48.287598333333335, 25.958663333333334], [48.287353333333336, 25.959481666666665], [48.286788333333334, 25.961385], [48.28648166666667, 25.96237], [48.286208333333335, 25.963281666666667], [48.285943333333336, 25.964106666666666], [48.285695, 25.96494], [48.28547666666667, 25.965671666666665], [48.28525833333333, 25.96643], [48.28502666666667, 25.967218333333335], [48.284765, 25.968078333333334], [48.28428, 25.969698333333334], [48.284061666666666, 25.97040833333333], [48.28392, 25.970916666666668], [48.283896666666664, 25.970961666666668], [48.283683333333336, 25.971481666666666], [48.28343, 25.972071666666668], [48.283145, 25.97269], [48.283075, 25.972883333333332], [48.283046666666664, 25.972981666666666], [48.282885, 25.973335], [48.28252666666667, 25.974113333333335], [48.28172, 25.975921666666668], [48.28153666666667, 25.976306666666666], [48.28022166666667, 25.979618333333335], [48.27985833333334, 25.980321666666665], [48.279695, 25.980571666666666], [48.279271666666666, 25.981345], [48.27879166666666, 25.98223], [48.27822166666667, 25.983301666666666], [48.27753666666667, 25.984576666666666], [48.27630833333333, 25.986868333333334], [48.275643333333335, 25.988101666666665], [48.27500333333333, 25.989273333333333], [48.27467, 25.989913333333334], [48.274415, 25.990403333333333], [48.273935, 25.991356666666668], [48.27345, 25.992283333333333], [48.27294166666667, 25.99321], [48.27250166666666, 25.994011666666665], [48.27209, 25.994805], [48.271816666666666, 25.99536833333333], [48.271411666666665, 25.9961], [48.271026666666664, 25.996808333333334], [48.270515, 25.99710333333333], [48.27050833333333, 25.99710333333333], [48.27039333333333, 25.996988333333334], [48.27003833333333, 25.996615], [48.26965, 25.996201666666668], [48.26916, 25.995673333333333], [48.268575, 25.995035], [48.267955, 25.994378333333334], [48.267343333333336, 25.993728333333333], [48.26667, 25.992846666666665], [48.26681833333333, 25.992539999999998], [48.267118333333336, 25.991951666666665], [48.26750333333333, 25.991145], [48.26782166666667, 25.990406666666665], [48.267885, 25.990033333333333], [48.26741, 25.989705], [48.2671, 25.989563333333333], [48.26698833333333, 25.98952166666667], [48.266835, 25.989365], [48.26679333333333, 25.989303333333332], [48.26679333333333, 25.989303333333332], [48.26679333333333, 25.989303333333332], [48.26679333333333, 25.989303333333332], [48.26679333333333, 25.989303333333332], [48.26679333333333, 25.989303333333332], [48.26679333333333, 25.989303333333332], [48.266756666666666, 25.98927], [48.266623333333335, 25.989076666666666], [48.26636166666667, 25.988775], [48.266351666666665, 25.988705], [48.266351666666665, 25.988705], [48.266351666666665, 25.988705], [48.26633666666667, 25.988601666666668], [48.26626666666667, 25.988616666666665], [48.26623333333333, 25.988621666666667], [48.26598166666667, 25.98835], [48.26580166666667, 25.988318333333332], [48.26572, 25.98846], [48.265618333333336, 25.988663333333335], [48.26545333333333, 25.98905], [48.26531833333333, 25.98934], [48.265215, 25.989543333333334], [48.264943333333335, 25.990096666666666], [48.26486833333333, 25.99053333333333], [48.26512666666667, 25.99089], [48.265275, 25.991083333333332], [48.265451666666664, 25.991285], [48.26566, 25.99149], [48.26587833333333, 25.99171], [48.26602833333333, 25.99184], [48.26603333333333, 25.991828333333334], [48.266056666666664, 25.991836666666668], [48.266055, 25.991831666666666], [48.26609333333333, 25.99196166666667], [48.26622666666667, 25.992186666666665], [48.26622166666667, 25.992203333333332], [48.26622166666667, 25.992203333333332], [48.26634333333333, 25.9921], [48.26634166666667, 25.992123333333332], [48.26637, 25.992218333333334], [48.26652166666667, 25.991965], [48.26659166666666, 25.991908333333335], [48.26661333333333, 25.991906666666665], [48.266688333333335, 25.992003333333333], [48.266758333333335, 25.992061666666668], [48.26681, 25.992115], [48.266816666666664, 25.992136666666667], [48.266816666666664, 25.992136666666667], [48.266816666666664, 25.992136666666667], [48.266816666666664, 25.992136666666667], [48.266816666666664, 25.992136666666667], [48.266816666666664, 25.992136666666667], [48.266816666666664, 25.992136666666667], [48.266816666666664, 25.992136666666667], [48.266816666666664, 25.992136666666667], [48.266816666666664, 25.992136666666667], [48.266816666666664, 25.992136666666667], [48.266821666666665, 25.99241333333333], [48.266675, 25.992868333333334], [48.266913333333335, 25.993243333333332], [48.26719833333333, 25.99357], [48.267655, 25.994078333333334], [48.26821, 25.994685], [48.26878833333333, 25.99531], [48.269333333333336, 25.995885], [48.26974333333333, 25.99630833333333], [48.27005, 25.996641666666665], [48.27047833333334, 25.9971], [48.27071, 25.997301666666665], [48.271011666666666, 25.996956666666666], [48.27179, 25.995518333333333], [48.27227166666667, 25.994595], [48.272735, 25.993756666666666], [48.27322, 25.992848333333335], [48.273646666666664, 25.991998333333335], [48.27411166666667, 25.99115], [48.27462833333333, 25.990175], [48.275125, 25.989266666666666], [48.27560166666667, 25.98838], [48.276158333333335, 25.987335], [48.27671, 25.986258333333332], [48.27730833333333, 25.985116666666666], [48.277903333333335, 25.983986666666667], [48.27908, 25.981791666666666], [48.27965, 25.98078], [48.28007, 25.979895], [48.28051333333333, 25.978938333333332], [48.280995, 25.977873333333335], [48.281533333333336, 25.976741666666666], [48.28205333333333, 25.975646666666666], [48.28247666666667, 25.974635], [48.282865, 25.973770000000002], [48.28395666666667, 25.971025], [48.284243333333336, 25.970115], [48.284553333333335, 25.96906166666667], [48.284893333333336, 25.96793], [48.285241666666664, 25.966751666666667], [48.285601666666665, 25.965531666666667], [48.28597833333333, 25.96432], [48.286366666666666, 25.963038333333333], [48.286743333333334, 25.96179], [48.28711333333333, 25.960571666666667], [48.287486666666666, 25.959328333333332], [48.28787, 25.958016666666666], [48.28819, 25.95692], [48.28842, 25.956018333333333], [48.28848166666667, 25.955695], [48.28857166666667, 25.95525333333333], [48.288713333333334, 25.954715], [48.288826666666665, 25.954151666666668], [48.28893166666667, 25.953648333333334], [48.289026666666665, 25.953101666666665], [48.28912666666667, 25.952588333333335], [48.289265, 25.952055], [48.289743333333334, 25.949671666666667], [48.29000666666666, 25.948401666666665], [48.290258333333334, 25.94713], [48.29044666666667, 25.94595], [48.290625, 25.944688333333332], [48.29083166666667, 25.943476666666665], [48.290985, 25.942253333333333], [48.29114333333333, 25.941175], [48.291225, 25.940311666666666], [48.29137333333333, 25.939555], [48.291625, 25.938655], [48.291713333333334, 25.938396666666666], [48.291725, 25.938293333333334], [48.29208166666667, 25.93714], [48.29233333333333, 25.936383333333332], [48.29241, 25.93601], [48.292505, 25.935605], [48.29257666666667, 25.93523], [48.29266333333333, 25.934825], [48.292746666666666, 25.93434], [48.292995, 25.93373], [48.29311333333333, 25.933408333333333], [48.29317666666667, 25.93306], [48.29311166666667, 25.932926666666667], [48.292903333333335, 25.932881666666667], [48.29257666666667, 25.932896666666668], [48.29215166666667, 25.932943333333334], [48.291905, 25.932948333333332], [48.29168833333333, 25.93297], [48.291628333333335, 25.932958333333332], [48.291455, 25.93292], [48.291115, 25.933096666666668], [48.29072333333333, 25.933233333333334], [48.290526666666665, 25.93336], [48.290438333333334, 25.93362], [48.29022833333333, 25.933593333333334], [48.289945, 25.933561666666666], [48.289655, 25.933488333333333], [48.28932666666667, 25.933421666666668], [48.289028333333334, 25.933371666666666], [48.28861, 25.933305], [48.28820666666667, 25.933146666666666], [48.287911666666666, 25.933043333333334], [48.28767, 25.932955], [48.28740166666667, 25.933408333333333], [48.287333333333336, 25.933805], [48.28716333333333, 25.933915], [48.28676, 25.933791666666668], [48.286341666666665, 25.93365], [48.28601666666667, 25.933551666666666], [48.285803333333334, 25.933468333333334], [48.28547666666667, 25.933366666666668], [48.284953333333334, 25.933205], [48.284265, 25.932941666666668], [48.28362666666666, 25.932675], [48.282246666666666, 25.932176666666667], [48.281378333333336, 25.931843333333333], [48.28053, 25.931528333333333], [48.279725, 25.93122333333333], [48.278975, 25.93095], [48.27819, 25.930678333333333], [48.27737166666667, 25.930353333333333], [48.276565, 25.930056666666665], [48.27586, 25.929771666666667], [48.27568, 25.929806666666668], [48.27554166666667, 25.929726666666667], [48.274991666666665, 25.92953], [48.274325, 25.929365], [48.272710000000004, 25.92881], [48.27215666666667, 25.92862], [48.271635, 25.92831333333333], [48.27091, 25.928038333333333], [48.27016666666667, 25.92778], [48.270003333333335, 25.927688333333332], [48.26958, 25.927558333333334], [48.26924833333333, 25.927263333333332], [48.268925, 25.9269], [48.268388333333334, 25.927058333333335], [48.26798333333333, 25.926915], [48.267365, 25.926703333333332], [48.26676333333333, 25.92651], [48.26630166666666, 25.92656], [48.265613333333334, 25.926681666666667], [48.265123333333335, 25.926753333333334], [48.26450166666667, 25.926883333333333], [48.263725, 25.927013333333335], [48.262836666666665, 25.927161666666667], [48.26192833333333, 25.927316666666666], [48.26101833333333, 25.927435], [48.260395, 25.927498333333332], [48.25748, 25.928005], [48.25696666666666, 25.928098333333335], [48.256385, 25.928381666666667], [48.25566833333333, 25.928815], [48.25488166666667, 25.92926], [48.25405166666667, 25.92976], [48.25333833333333, 25.930168333333334], [48.25279166666667, 25.93046], [48.25248166666667, 25.930576666666667], [48.25230833333333, 25.93070833333333], [48.25228666666667, 25.930825], [48.25232833333333, 25.931046666666667], [48.252343333333336, 25.931496666666668], [48.25224, 25.933093333333332], [48.252175, 25.9338], [48.25213, 25.934716666666667], [48.252065, 25.935536666666668], [48.252015, 25.936458333333334], [48.251981666666666, 25.937215], [48.25195333333333, 25.937903333333335], [48.251925, 25.938318333333335], [48.25186333333333, 25.938755], [48.251705, 25.939603333333334], [48.25165666666667, 25.939993333333334], [48.25160833333333, 25.94035166666667], [48.251596666666664, 25.94037], [48.28941666666667, 25.933453333333333]],\n",
       "                {&quot;bubblingMouseEvents&quot;: true, &quot;color&quot;: &quot;#f10700&quot;, &quot;dashArray&quot;: null, &quot;dashOffset&quot;: null, &quot;fill&quot;: false, &quot;fillColor&quot;: &quot;#f10700&quot;, &quot;fillOpacity&quot;: 0.2, &quot;fillRule&quot;: &quot;evenodd&quot;, &quot;lineCap&quot;: &quot;round&quot;, &quot;lineJoin&quot;: &quot;round&quot;, &quot;noClip&quot;: false, &quot;opacity&quot;: 0.8, &quot;smoothFactor&quot;: 1.0, &quot;stroke&quot;: true, &quot;weight&quot;: 2}\n",
       "            ).addTo(map_b5a031f43958885498d1960cc133ab1b);\n",
       "        \n",
       "&lt;/script&gt;\" style=\"position:absolute;width:100%;height:100%;left:0;top:0;border:none !important;\" allowfullscreen webkitallowfullscreen mozallowfullscreen></iframe></div></div>"
      ],
      "text/plain": [
       "<folium.folium.Map at 0x19af5e14460>"
      ]
     },
     "execution_count": 19,
     "metadata": {},
     "output_type": "execute_result"
    }
   ],
   "source": [
    "trace = vehicle_df[['lat', 'lng']].values\n",
    "\n",
    "m = folium.Map(\n",
    "    location=np.mean(trace, axis=0), \n",
    "    zoom_start=12, height='50%', width='55%'\n",
    "    )\n",
    "\n",
    "plot_coloured_route(trace, m)\n",
    "\n",
    "m"
   ]
  },
  {
   "cell_type": "code",
   "execution_count": 18,
   "id": "7dc93c5a",
   "metadata": {},
   "outputs": [],
   "source": [
    "def rgb_to_hex(r, g, b):\n",
    "    return f'{r:02x}{g:02x}{b:02x}'\n",
    "\n",
    "\n",
    "def plot_coloured_route(route, folium_map, color_map=mpl.cm.get_cmap('jet'), bins=10):\n",
    "    bins = min(bins, len(route))\n",
    "    \n",
    "    lspace = np.linspace(0, len(route), num=bins+1, dtype=int)\n",
    "    \n",
    "    for i, (lb, rb) in enumerate(zip(lspace[:-1], lspace[1:]) ):\n",
    "        clr = rgb_to_hex(*tuple(map(lambda x : int(x*255), cm(i/bins) ))[:3])\n",
    "        folium.PolyLine(\n",
    "            route[lb:rb+1, :],\n",
    "            color=f\"#{clr}\", weight=2,\n",
    "            opacity=0.8\n",
    "        ).add_to(folium_map)"
   ]
  },
  {
   "cell_type": "code",
   "execution_count": null,
   "id": "64dafe41",
   "metadata": {},
   "outputs": [],
   "source": []
  },
  {
   "cell_type": "code",
   "execution_count": null,
   "id": "63bde5ad",
   "metadata": {},
   "outputs": [],
   "source": []
  },
  {
   "cell_type": "code",
   "execution_count": null,
   "id": "ffa6d621",
   "metadata": {},
   "outputs": [],
   "source": []
  },
  {
   "cell_type": "code",
   "execution_count": 16,
   "id": "56490aa9",
   "metadata": {},
   "outputs": [],
   "source": [
    "# result_list"
   ]
  },
  {
   "cell_type": "code",
   "execution_count": 20,
   "id": "c8898831",
   "metadata": {},
   "outputs": [
    {
     "data": {
      "text/plain": [
       "Index(['id', 'imei', 'name', 'stateCode', 'stateName', 'lat', 'lng', 'speed',\n",
       "       'orientation', 'gpstime', 'routeId', 'routeName', 'routeColour',\n",
       "       'inDepo', 'busNumber', 'perevId', 'perevName', 'remark', 'online',\n",
       "       'idBusTypes'],\n",
       "      dtype='object')"
      ]
     },
     "execution_count": 20,
     "metadata": {},
     "output_type": "execute_result"
    }
   ],
   "source": [
    "# df.value_counts()\n",
    "'id', 'imei', 'name', 'stateCode', 'stateName', 'lat', 'lng', 'speed',\n",
    "       'orientation', 'gpstime', 'routeId', 'routeName', 'routeColour',\n",
    "       'inDepo', 'busNumber', 'perevId', 'perevName', 'remark', 'online',\n",
    "       'idBusTypes'\n",
    "df.keys()"
   ]
  },
  {
   "cell_type": "code",
   "execution_count": 29,
   "id": "ba1e2709",
   "metadata": {},
   "outputs": [
    {
     "data": {
      "text/plain": [
       "('2022-09-09 22:59:57', '2022-09-08 19:36:01')"
      ]
     },
     "execution_count": 29,
     "metadata": {},
     "output_type": "execute_result"
    }
   ],
   "source": [
    "# df['gpstime'].value_counts()\n",
    "max(sum_df['gpstime']), min(sum_df['gpstime'])"
   ]
  },
  {
   "cell_type": "code",
   "execution_count": 31,
   "id": "0c463da7",
   "metadata": {},
   "outputs": [
    {
     "data": {
      "text/plain": [
       "(49461, 224505)"
      ]
     },
     "execution_count": 31,
     "metadata": {},
     "output_type": "execute_result"
    }
   ],
   "source": [
    "len(sum_df['gpstime'].unique()), len(sum_df['gpstime'])"
   ]
  },
  {
   "cell_type": "code",
   "execution_count": 32,
   "id": "ec9994d6",
   "metadata": {},
   "outputs": [],
   "source": [
    "updata_tm = [datetime.strptime(dt, '%Y-%m-%d %H:%M:%S').timestamp() for dt in sum_df['gpstime'].unique() ]\n",
    "updata_tm_np = np.array(updata_tm)"
   ]
  },
  {
   "cell_type": "code",
   "execution_count": 33,
   "id": "ce5ee466",
   "metadata": {},
   "outputs": [
    {
     "data": {
      "text/plain": [
       "15462.0"
      ]
     },
     "execution_count": 33,
     "metadata": {},
     "output_type": "execute_result"
    }
   ],
   "source": [
    "max(updata_tm_np[1:] - updata_tm_np[:-1])"
   ]
  },
  {
   "cell_type": "code",
   "execution_count": 34,
   "id": "f168b0d4",
   "metadata": {},
   "outputs": [
    {
     "data": {
      "text/plain": [
       "array([ 1.1000e+01,  3.0000e+00,  7.0000e+00, ...,  7.0000e+00,\n",
       "       -2.7304e+04,  1.1349e+04])"
      ]
     },
     "execution_count": 34,
     "metadata": {},
     "output_type": "execute_result"
    }
   ],
   "source": [
    "updata_tm_np[1:] - updata_tm_np[:-1]"
   ]
  },
  {
   "cell_type": "code",
   "execution_count": 35,
   "id": "b359fed6",
   "metadata": {
    "collapsed": true,
    "jupyter": {
     "outputs_hidden": true
    }
   },
   "outputs": [
    {
     "data": {
      "image/png": "[encoded data removed]",
      "text/plain": [
       "<Figure size 1080x360 with 1 Axes>"
      ]
     },
     "metadata": {
      "needs_background": "light"
     },
     "output_type": "display_data"
    }
   ],
   "source": [
    "plt.figure(figsize=(15, 5))\n",
    "plt.hist(updata_tm_np[1:] - updata_tm_np[:-1], bins=391)\n",
    "plt.xlim(0, 60)\n",
    "plt.show()"
   ]
  },
  {
   "cell_type": "code",
   "execution_count": 36,
   "id": "f363c7a8",
   "metadata": {},
   "outputs": [
    {
     "ename": "NameError",
     "evalue": "name 'df' is not defined",
     "output_type": "error",
     "traceback": [
      "\u001b[1;31m---------------------------------------------------------------------------\u001b[0m",
      "\u001b[1;31mNameError\u001b[0m                                 Traceback (most recent call last)",
      "\u001b[1;32m<ipython-input-36-844b92ecfe0f>\u001b[0m in \u001b[0;36m<module>\u001b[1;34m\u001b[0m\n\u001b[1;32m----> 1\u001b[1;33m \u001b[0mdf\u001b[0m\u001b[1;33m.\u001b[0m\u001b[0mkeys\u001b[0m\u001b[1;33m(\u001b[0m\u001b[1;33m)\u001b[0m\u001b[1;33m\u001b[0m\u001b[1;33m\u001b[0m\u001b[0m\n\u001b[0m",
      "\u001b[1;31mNameError\u001b[0m: name 'df' is not defined"
     ]
    }
   ],
   "source": [
    "df.keys()"
   ]
  },
  {
   "cell_type": "code",
   "execution_count": 119,
   "id": "4dc85ff5",
   "metadata": {},
   "outputs": [],
   "source": [
    "d = datetime.now()"
   ]
  },
  {
   "cell_type": "code",
   "execution_count": 121,
   "id": "2258feb6",
   "metadata": {},
   "outputs": [
    {
     "data": {
      "text/plain": [
       "343015"
      ]
     },
     "execution_count": 121,
     "metadata": {},
     "output_type": "execute_result"
    }
   ],
   "source": [
    "d.microsecond > 1_000"
   ]
  },
  {
   "cell_type": "code",
   "execution_count": 90,
   "id": "10425b57",
   "metadata": {},
   "outputs": [],
   "source": []
  },
  {
   "cell_type": "code",
   "execution_count": 37,
   "id": "6b7c3673",
   "metadata": {},
   "outputs": [
    {
     "data": {
      "image/png": "[encoded data removed]",
      "text/plain": [
       "<Figure size 1080x360 with 1 Axes>"
      ]
     },
     "metadata": {
      "needs_background": "light"
     },
     "output_type": "display_data"
    }
   ],
   "source": [
    "plt.figure(figsize=(15, 5))\n",
    "plt.plot(updata_tm_np[1:] - updata_tm_np[:-1])\n",
    "plt.ylim(0, 20)\n",
    "plt.show()"
   ]
  },
  {
   "cell_type": "code",
   "execution_count": 38,
   "id": "858a3c00",
   "metadata": {},
   "outputs": [
    {
     "data": {
      "text/plain": [
       "(array([    1,     0,     0,     0,     0,     0,     0,     0,     0,\n",
       "            0,     0,     0,     0,     0,     0,     0,     0,     0,\n",
       "            0,     0,     0,     0,     0,     0,     0,     0,     0,\n",
       "            0,     0,     0,     0,     0,     0,     0,     0,     0,\n",
       "            0,     0,     0,     0,     0,     0,     0,     0,     0,\n",
       "            0,     0,     0,     0,     0,     0,     0,     0,     0,\n",
       "            0,     0,     0,     0,     0,     0,     0,     0,     0,\n",
       "            0,     0,     0,     0,     0,     0,     0,     0,     0,\n",
       "            0,     0,     0,     0,     0,     0,     0,     0,     0,\n",
       "            0,     0,     0,     0,     0,     0,     0,     0,     0,\n",
       "            0,     0,     0,     0,     0,     0,     0,     0,     0,\n",
       "            0,     0,     0,     0,     0,     0,     0,     0,     0,\n",
       "            0,     0,     0,     0,     0,     0,     0,     0,     0,\n",
       "            0,     0,     0,     0,     0,     0,     0,     0,     0,\n",
       "            0,     0,     0,     0,     0,     0,     0,     0,     0,\n",
       "            0,     0,     0,     0,     0,     1,     0,     0,     0,\n",
       "            0,     0,     0,     0,     0,     0,     0,     0,     0,\n",
       "            0,     0,     0,     0,     0,     0,     0,     0,     0,\n",
       "            0,     0,     2,     0,     0,     0,     0,     1,     0,\n",
       "            0,     1,     0,     0,     1,     0,     0,     0,     0,\n",
       "            0,     0,     0,     0,     0,     0,     0,     0,     0,\n",
       "            1,     0,     0,     0,     0,     1,     0,     0,     0,\n",
       "            0,     0,     0,     0,     0,     1,     1,     0,     0,\n",
       "            0,     0,     0,     0,     1,     0,     0,     1,     0,\n",
       "            0,     0,     1,     1,     1,     0,     0,     0,     0,\n",
       "            1,     0,     1,     0,     0,     0,     1,     0,     0,\n",
       "            1,     2,     1,     0,     0,     1,     3,     1,     0,\n",
       "            1,     1,     2,     1,     4,     7, 49213,   161,     4,\n",
       "            2,     2,     1,     1,     0,     3,     0,     1,     0,\n",
       "            0,     0,     1,     1,     2,     1,     0,     1,     0,\n",
       "            1,     0,     0,     1,     1,     0,     0,     0,     1,\n",
       "            1,     0,     1,     0,     1,     0,     1,     2,     1,\n",
       "            1,     0,     2,     0,     1,     0,     0,     0,     1,\n",
       "            1,     0,     0,     0,     0,     0,     0,     0,     0,\n",
       "            0,     0,     0,     0,     0,     0,     0,     0,     0,\n",
       "            0,     0,     0,     0,     1,     0,     0,     0,     0,\n",
       "            0,     0,     0,     0,     0,     0,     0,     0,     0,\n",
       "            0,     0,     0,     0,     0,     0,     0,     1,     0,\n",
       "            0,     0,     0,     0,     0,     0,     0,     0,     0,\n",
       "            0,     0,     1,     0,     0,     0,     0,     0,     0,\n",
       "            0,     0,     0,     0,     0,     1,     0,     0,     0,\n",
       "            0,     0,     0,     0,     0,     0,     0,     0,     0,\n",
       "            0,     0,     0,     0,     0,     0,     0,     0,     0,\n",
       "            0,     0,     0,     1], dtype=int64),\n",
       " array([-27304.        , -27194.62404092, -27085.24808184, -26975.87212276,\n",
       "        -26866.49616368, -26757.1202046 , -26647.74424552, -26538.36828645,\n",
       "        -26428.99232737, -26319.61636829, -26210.24040921, -26100.86445013,\n",
       "        -25991.48849105, -25882.11253197, -25772.73657289, -25663.36061381,\n",
       "        -25553.98465473, -25444.60869565, -25335.23273657, -25225.85677749,\n",
       "        -25116.48081841, -25007.10485934, -24897.72890026, -24788.35294118,\n",
       "        -24678.9769821 , -24569.60102302, -24460.22506394, -24350.84910486,\n",
       "        -24241.47314578, -24132.0971867 , -24022.72122762, -23913.34526854,\n",
       "        -23803.96930946, -23694.59335038, -23585.2173913 , -23475.84143223,\n",
       "        -23366.46547315, -23257.08951407, -23147.71355499, -23038.33759591,\n",
       "        -22928.96163683, -22819.58567775, -22710.20971867, -22600.83375959,\n",
       "        -22491.45780051, -22382.08184143, -22272.70588235, -22163.32992327,\n",
       "        -22053.95396419, -21944.57800512, -21835.20204604, -21725.82608696,\n",
       "        -21616.45012788, -21507.0741688 , -21397.69820972, -21288.32225064,\n",
       "        -21178.94629156, -21069.57033248, -20960.1943734 , -20850.81841432,\n",
       "        -20741.44245524, -20632.06649616, -20522.69053708, -20413.31457801,\n",
       "        -20303.93861893, -20194.56265985, -20085.18670077, -19975.81074169,\n",
       "        -19866.43478261, -19757.05882353, -19647.68286445, -19538.30690537,\n",
       "        -19428.93094629, -19319.55498721, -19210.17902813, -19100.80306905,\n",
       "        -18991.42710997, -18882.0511509 , -18772.67519182, -18663.29923274,\n",
       "        -18553.92327366, -18444.54731458, -18335.1713555 , -18225.79539642,\n",
       "        -18116.41943734, -18007.04347826, -17897.66751918, -17788.2915601 ,\n",
       "        -17678.91560102, -17569.53964194, -17460.16368286, -17350.78772379,\n",
       "        -17241.41176471, -17132.03580563, -17022.65984655, -16913.28388747,\n",
       "        -16803.90792839, -16694.53196931, -16585.15601023, -16475.78005115,\n",
       "        -16366.40409207, -16257.02813299, -16147.65217391, -16038.27621483,\n",
       "        -15928.90025575, -15819.52429668, -15710.1483376 , -15600.77237852,\n",
       "        -15491.39641944, -15382.02046036, -15272.64450128, -15163.2685422 ,\n",
       "        -15053.89258312, -14944.51662404, -14835.14066496, -14725.76470588,\n",
       "        -14616.3887468 , -14507.01278772, -14397.63682864, -14288.26086957,\n",
       "        -14178.88491049, -14069.50895141, -13960.13299233, -13850.75703325,\n",
       "        -13741.38107417, -13632.00511509, -13522.62915601, -13413.25319693,\n",
       "        -13303.87723785, -13194.50127877, -13085.12531969, -12975.74936061,\n",
       "        -12866.37340153, -12756.99744246, -12647.62148338, -12538.2455243 ,\n",
       "        -12428.86956522, -12319.49360614, -12210.11764706, -12100.74168798,\n",
       "        -11991.3657289 , -11881.98976982, -11772.61381074, -11663.23785166,\n",
       "        -11553.86189258, -11444.4859335 , -11335.10997442, -11225.73401535,\n",
       "        -11116.35805627, -11006.98209719, -10897.60613811, -10788.23017903,\n",
       "        -10678.85421995, -10569.47826087, -10460.10230179, -10350.72634271,\n",
       "        -10241.35038363, -10131.97442455, -10022.59846547,  -9913.22250639,\n",
       "         -9803.84654731,  -9694.47058824,  -9585.09462916,  -9475.71867008,\n",
       "         -9366.342711  ,  -9256.96675192,  -9147.59079284,  -9038.21483376,\n",
       "         -8928.83887468,  -8819.4629156 ,  -8710.08695652,  -8600.71099744,\n",
       "         -8491.33503836,  -8381.95907928,  -8272.5831202 ,  -8163.20716113,\n",
       "         -8053.83120205,  -7944.45524297,  -7835.07928389,  -7725.70332481,\n",
       "         -7616.32736573,  -7506.95140665,  -7397.57544757,  -7288.19948849,\n",
       "         -7178.82352941,  -7069.44757033,  -6960.07161125,  -6850.69565217,\n",
       "         -6741.31969309,  -6631.94373402,  -6522.56777494,  -6413.19181586,\n",
       "         -6303.81585678,  -6194.4398977 ,  -6085.06393862,  -5975.68797954,\n",
       "         -5866.31202046,  -5756.93606138,  -5647.5601023 ,  -5538.18414322,\n",
       "         -5428.80818414,  -5319.43222506,  -5210.05626598,  -5100.68030691,\n",
       "         -4991.30434783,  -4881.92838875,  -4772.55242967,  -4663.17647059,\n",
       "         -4553.80051151,  -4444.42455243,  -4335.04859335,  -4225.67263427,\n",
       "         -4116.29667519,  -4006.92071611,  -3897.54475703,  -3788.16879795,\n",
       "         -3678.79283887,  -3569.4168798 ,  -3460.04092072,  -3350.66496164,\n",
       "         -3241.28900256,  -3131.91304348,  -3022.5370844 ,  -2913.16112532,\n",
       "         -2803.78516624,  -2694.40920716,  -2585.03324808,  -2475.657289  ,\n",
       "         -2366.28132992,  -2256.90537084,  -2147.52941176,  -2038.15345269,\n",
       "         -1928.77749361,  -1819.40153453,  -1710.02557545,  -1600.64961637,\n",
       "         -1491.27365729,  -1381.89769821,  -1272.52173913,  -1163.14578005,\n",
       "         -1053.76982097,   -944.39386189,   -835.01790281,   -725.64194373,\n",
       "          -616.26598465,   -506.89002558,   -397.5140665 ,   -288.13810742,\n",
       "          -178.76214834,    -69.38618926,     39.98976982,    149.3657289 ,\n",
       "           258.74168798,    368.11764706,    477.49360614,    586.86956522,\n",
       "           696.2455243 ,    805.62148338,    914.99744246,   1024.37340153,\n",
       "          1133.74936061,   1243.12531969,   1352.50127877,   1461.87723785,\n",
       "          1571.25319693,   1680.62915601,   1790.00511509,   1899.38107417,\n",
       "          2008.75703325,   2118.13299233,   2227.50895141,   2336.88491049,\n",
       "          2446.26086957,   2555.63682864,   2665.01278772,   2774.3887468 ,\n",
       "          2883.76470588,   2993.14066496,   3102.51662404,   3211.89258312,\n",
       "          3321.2685422 ,   3430.64450128,   3540.02046036,   3649.39641944,\n",
       "          3758.77237852,   3868.1483376 ,   3977.52429668,   4086.90025575,\n",
       "          4196.27621483,   4305.65217391,   4415.02813299,   4524.40409207,\n",
       "          4633.78005115,   4743.15601023,   4852.53196931,   4961.90792839,\n",
       "          5071.28388747,   5180.65984655,   5290.03580563,   5399.41176471,\n",
       "          5508.78772379,   5618.16368286,   5727.53964194,   5836.91560102,\n",
       "          5946.2915601 ,   6055.66751918,   6165.04347826,   6274.41943734,\n",
       "          6383.79539642,   6493.1713555 ,   6602.54731458,   6711.92327366,\n",
       "          6821.29923274,   6930.67519182,   7040.0511509 ,   7149.42710997,\n",
       "          7258.80306905,   7368.17902813,   7477.55498721,   7586.93094629,\n",
       "          7696.30690537,   7805.68286445,   7915.05882353,   8024.43478261,\n",
       "          8133.81074169,   8243.18670077,   8352.56265985,   8461.93861893,\n",
       "          8571.31457801,   8680.69053708,   8790.06649616,   8899.44245524,\n",
       "          9008.81841432,   9118.1943734 ,   9227.57033248,   9336.94629156,\n",
       "          9446.32225064,   9555.69820972,   9665.0741688 ,   9774.45012788,\n",
       "          9883.82608696,   9993.20204604,  10102.57800512,  10211.95396419,\n",
       "         10321.32992327,  10430.70588235,  10540.08184143,  10649.45780051,\n",
       "         10758.83375959,  10868.20971867,  10977.58567775,  11086.96163683,\n",
       "         11196.33759591,  11305.71355499,  11415.08951407,  11524.46547315,\n",
       "         11633.84143223,  11743.2173913 ,  11852.59335038,  11961.96930946,\n",
       "         12071.34526854,  12180.72122762,  12290.0971867 ,  12399.47314578,\n",
       "         12508.84910486,  12618.22506394,  12727.60102302,  12836.9769821 ,\n",
       "         12946.35294118,  13055.72890026,  13165.10485934,  13274.48081841,\n",
       "         13383.85677749,  13493.23273657,  13602.60869565,  13711.98465473,\n",
       "         13821.36061381,  13930.73657289,  14040.11253197,  14149.48849105,\n",
       "         14258.86445013,  14368.24040921,  14477.61636829,  14586.99232737,\n",
       "         14696.36828645,  14805.74424552,  14915.1202046 ,  15024.49616368,\n",
       "         15133.87212276,  15243.24808184,  15352.62404092,  15462.        ]))"
      ]
     },
     "execution_count": 38,
     "metadata": {},
     "output_type": "execute_result"
    }
   ],
   "source": [
    "np.histogram(updata_tm_np[1:] - updata_tm_np[:-1], bins=391)"
   ]
  },
  {
   "cell_type": "code",
   "execution_count": null,
   "id": "dc493ae5",
   "metadata": {},
   "outputs": [],
   "source": [
    "datetime.strftime('%Y-%m-%d %H;%M;%S')"
   ]
  },
  {
   "cell_type": "code",
   "execution_count": 54,
   "id": "c5b560b2",
   "metadata": {},
   "outputs": [
    {
     "data": {
      "text/plain": [
       "1662404998.0"
      ]
     },
     "execution_count": 54,
     "metadata": {},
     "output_type": "execute_result"
    }
   ],
   "source": [
    "datetime.strptime('2022-09-05 22:09:58', '%Y-%m-%d %H:%M:%S').timestamp()"
   ]
  },
  {
   "cell_type": "code",
   "execution_count": 35,
   "id": "58e797b5",
   "metadata": {},
   "outputs": [
    {
     "data": {
      "text/plain": [
       "id                              75\n",
       "imei               355227045369527\n",
       "name                            A6\n",
       "stateCode                     used\n",
       "stateName                     used\n",
       "lat                      48.326433\n",
       "lng                      25.930175\n",
       "speed                        000.0\n",
       "orientation                 000.00\n",
       "gpstime        2022-09-05 22:09:58\n",
       "routeId                         17\n",
       "routeName                       23\n",
       "routeColour                    red\n",
       "inDepo                       False\n",
       "busNumber                     3557\n",
       "perevId                         12\n",
       "perevName              Vitaliy2019\n",
       "remark                 3557 DNSNK \n",
       "online                        True\n",
       "idBusTypes                       1\n",
       "Name: 47737, dtype: object"
      ]
     },
     "execution_count": 35,
     "metadata": {},
     "output_type": "execute_result"
    }
   ],
   "source": [
    "df.iloc[-1]"
   ]
  },
  {
   "cell_type": "code",
   "execution_count": 109,
   "id": "cbedb5fb",
   "metadata": {},
   "outputs": [],
   "source": [
    "# for f_path in files_list[:1]:\n",
    "#     with open(f_path, 'r', encoding = 'utf-8') as file: \n",
    "#         response = json.load(file)\n",
    "        \n",
    "# for _ in range(5):\n",
    "#     with open(\"test_mult_w.json\", 'a') as out_f: \n",
    "#         json.dump(response, out_f, ensure_ascii=False)\n",
    "#         out_f.write('\\n')"
   ]
  },
  {
   "cell_type": "code",
   "execution_count": 41,
   "id": "bc8cb58b",
   "metadata": {},
   "outputs": [],
   "source": [
    "for _ in range(5):\n",
    "    with open(\"test_mult_w.json\", 'a') as out_f: \n",
    "        json.dump(response, out_f, ensure_ascii=False)\n",
    "        out_f.write('\\n')"
   ]
  }
 ],
 "metadata": {
  "kernelspec": {
   "display_name": "Python 3",
   "language": "python",
   "name": "python3"
  },
  "language_info": {
   "codemirror_mode": {
    "name": "ipython",
    "version": 3
   },
   "file_extension": ".py",
   "mimetype": "text/x-python",
   "name": "python",
   "nbconvert_exporter": "python",
   "pygments_lexer": "ipython3",
   "version": "3.8.9"
  }
 },
 "nbformat": 4,
 "nbformat_minor": 5
}
