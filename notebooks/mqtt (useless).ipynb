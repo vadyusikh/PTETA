{
 "cells": [
  {
   "cell_type": "code",
   "execution_count": 1,
   "id": "f2ad2c97-bb7a-4b71-93c7-91425158e68a",
   "metadata": {},
   "outputs": [
    {
     "name": "stdout",
     "output_type": "stream",
     "text": [
      "Defaulting to user installation because normal site-packages is not writeable\n",
      "Requirement already satisfied: pip in c:\\users\\вадим\\appdata\\roaming\\python\\python38\\site-packages (22.3)\n",
      "Collecting install\n",
      "  Downloading install-1.3.5-py3-none-any.whl (3.2 kB)\n",
      "Collecting paho-mqtt\n",
      "  Downloading paho-mqtt-1.6.1.tar.gz (99 kB)\n",
      "     -------------------------------------- 99.4/99.4 kB 817.7 kB/s eta 0:00:00\n",
      "  Preparing metadata (setup.py): started\n",
      "  Preparing metadata (setup.py): finished with status 'done'\n",
      "Building wheels for collected packages: paho-mqtt\n",
      "  Building wheel for paho-mqtt (setup.py): started\n",
      "  Building wheel for paho-mqtt (setup.py): finished with status 'done'\n",
      "  Created wheel for paho-mqtt: filename=paho_mqtt-1.6.1-py3-none-any.whl size=65423 sha256=c758af99e12d6223a2d0acf1415e51cfd21fff3930a8db9c7b350a3fd618ca59\n",
      "  Stored in directory: c:\\users\\вадим\\appdata\\local\\pip\\cache\\wheels\\b8\\8c\\d7\\8575ee7002108c2e1cd15cdfbfe9d139efe0438865ec24f22a\n",
      "Successfully built paho-mqtt\n",
      "Installing collected packages: paho-mqtt, install\n",
      "Successfully installed install-1.3.5 paho-mqtt-1.6.1\n"
     ]
    },
    {
     "name": "stderr",
     "output_type": "stream",
     "text": [
      "\n",
      "[notice] A new release of pip available: 22.3 -> 23.0.1\n",
      "[notice] To update, run: python.exe -m pip install --upgrade pip\n"
     ]
    }
   ],
   "source": [
    "!pip install pip install paho-mqtt"
   ]
  },
  {
   "cell_type": "code",
   "execution_count": null,
   "id": "883e7ecd-2b95-4863-b9b3-be533424e1d3",
   "metadata": {},
   "outputs": [],
   "source": [
    "import random\n",
    "\n",
    "from paho.mqtt import client as mqtt_client\n",
    "\n",
    "\n",
    "broker = 'broker.emqx.io'\n",
    "port = 1883\n",
    "topic = \"python/mqtt\"\n",
    "token = \"Q0XapMU2BS8oB+UeF8mUoQ==\"\n",
    "fbclid=\"IwAR16a6jWKFtcijUtLccCjYIBb9i0deYMM1xsfeEjjF09lJPpPCnKQNWyK1E\"\n",
    "# generate client ID with pub prefix randomly\n",
    "# client_id = f'python-mqtt-{random.randint(0, 100)}'\n",
    "client_id = fbclid\n",
    "# username = 'emqx'\n",
    "# password = 'public'\n",
    "\n",
    "\n",
    "def connect_mqtt() -> mqtt_client:\n",
    "    def on_connect(client, userdata, flags, rc):\n",
    "        if rc == 0:\n",
    "            print(\"Connected to MQTT Broker!\")\n",
    "        else:\n",
    "            print(\"Failed to connect, return code %d\\n\", rc)\n",
    "\n",
    "    client = mqtt_client.Client(client_id)\n",
    "    client.username_pw_set(username, password)\n",
    "    client.on_connect = on_connect\n",
    "    client.connect(broker, port)\n",
    "    return client\n",
    "\n",
    "\n",
    "def subscribe(client: mqtt_client):\n",
    "    def on_message(client, userdata, msg):\n",
    "        print(f\"Received `{msg.payload.decode()}` from `{msg.topic}` topic\")\n",
    "\n",
    "    client.subscribe(topic)\n",
    "    client.on_message = on_message\n",
    "\n",
    "\n",
    "def run():\n",
    "    client = connect_mqtt()\n",
    "    subscribe(client)\n",
    "    client.loop_forever()\n",
    "\n",
    "\n",
    "if __name__ == '__main__':\n",
    "    run()"
   ]
  },
  {
   "cell_type": "code",
   "execution_count": null,
   "id": "27e5aa68-b79e-41f6-896e-3271e32f2816",
   "metadata": {},
   "outputs": [],
   "source": [
    "keepalive: 60,\n",
    "reschedulePings: !0,\n",
    "protocolId: \"MQTT\",\n",
    "protocolVersion: 4,\n",
    "reconnectPeriod: 1e3,\n",
    "connectTimeout: 3e4,\n",
    "clean: !0,\n",
    "resubscribe: !0\n",
    "                                            \n",
    "_(\"MqttClient :: options.protocol\", t.protocol),\n",
    "_(\"MqttClient :: options.protocolVersion\", t.protocolVersion),\n",
    "_(\"MqttClient :: options.username\", t.username),\n",
    "_(\"MqttClient :: options.keepalive\", t.keepalive),\n",
    "_(\"MqttClient :: options.reconnectPeriod\", t.reconnectPeriod),\n",
    "_(\"MqttClient :: options.rejectUnauthorized\", t.rejectUnauthorized),\n",
    "_(\"MqttClient :: options.topicAliasMaximum\", t.topicAliasMaximum),\n",
    "this.options.clientId = \"string\" == typeof t.clientId ? t.clientId : k(),\n",
    "_(\"MqttClient :: clientId\", this.options.clientId),\n",
    "\n",
    "(t, {\n",
    "    username: n,\n",
    "    password: \"\",\n",
    "    clientId: \"nimbus_locator_\" + (new Date).getTime(),\n",
    "    clean: !0\n",
    "})"
   ]
  },
  {
   "cell_type": "code",
   "execution_count": 4,
   "id": "f1a3b5a6-6df8-4546-8123-0391ec5bb5a7",
   "metadata": {},
   "outputs": [],
   "source": [
    "import json\n",
    "import requests"
   ]
  },
  {
   "cell_type": "code",
   "execution_count": 2,
   "id": "424121c6-dace-4a88-8c0d-e6506f2cbc87",
   "metadata": {},
   "outputs": [],
   "source": [
    "REQUEST_URI=\"https://transport.cv.ua/DTM/routescheme/findPositionExtsByUser.action\""
   ]
  },
  {
   "cell_type": "code",
   "execution_count": 5,
   "id": "e9da9da3-857b-4bdd-951c-b1cdb9da6f89",
   "metadata": {},
   "outputs": [],
   "source": [
    "request = requests.get(REQUEST_URI)"
   ]
  },
  {
   "cell_type": "code",
   "execution_count": 7,
   "id": "6ff56bc9-7208-4bcf-9064-21abc1fc67f6",
   "metadata": {},
   "outputs": [
    {
     "data": {
      "text/plain": [
       "'\\r\\n\\r\\n\\r\\n\\r\\n<!DOCTYPE HTML PUBLIC \"-//W3C//DTD HTML 4.01//EN\" \"http://www.w3.org/TR/html4/strict.dtd\">\\r\\n<html>\\r\\n\\t<head>\\r\\n\\t\\t<meta http-equiv=\"X-UA-Compatible\" content=\"IE=8\" />\\r\\n\\t\\t<meta http-equiv=\"Pragma\" content=\"no-cache\">\\r\\n\\t\\t<meta http-equiv=\"Cache-control\" content=\"no-cache\">\\r\\n\\t\\t<meta http-equiv=\"Cache-control\" content=\"must-revalidate\">\\r\\n\\t\\t<meta http-equiv=\"Cache-control\" content=\"max-age=0\">\\r\\n\\t\\t<meta http-equiv=\"Expires\" content=\"-1\">\\r\\n\\t\\t<link rel=\"icon\" type=\"image/vnd.microsoft.icon\" href=\"/DTM/favicon.ico\" />\\r\\n\\r\\n\\t\\t<link rel=\"stylesheet\" type=\"text/css\" media=\"all\" href=\"/DTM/gzip_N1800244034/css/bundles/yui.css\" />\\n<link rel=\"stylesheet\" type=\"text/css\" media=\"all\" href=\"/DTM/gzip_1084540143/css/bundles/layout.css\" />\\n\\r\\n\\t\\t<link rel=\"stylesheet\" type=\"text/css\" media=\"all\" href=\"/DTM/gzip_374610834/css/bundles/oldbrowser.css\" />\\n\\r\\n\\t\\t\\r\\n\\t\\t<title>DTM</title>\\r\\n\\t</head>\\r\\n\\r\\n<body>\\r\\n\\t<div id=\"oldversion\">\\r\\n\\t\\t<div id=\"errormsg\">\\r\\n\\t\\t\\t<div id=\"attention\">\\r\\n\\t\\t\\t\\t<img mce_src=\"img/warning.png\" src=\"img/warning.png\" />\\r\\n\\t\\t\\t</div>\\r\\n\\t\\t\\t<div id=\"oldversionText\">\\r\\n\\t\\t\\t\\t<h1>Вимоги до програмного забезпечення</h1>\\r\\n\\t\\t\\t\\t<p>\\r\\n\\t\\t\\t\\t\\t<h4>встановлений Інтернет броузер (Internet Explorer 7,8, Mozilla Firefox 3.5 або вище, Google Chrome 5 або вище,Opera 10 або вище)</h4>\\r\\n\\t\\t\\t\\t</p>\\r\\n\\t\\t\\t\\t<a href=\"http://www.firefox.com\" mce_href=\"http://www.firefox.com\"\\r\\n\\t\\t\\t\\t\\ttarget=\"_blank\"> \\r\\n\\t\\t\\t\\t\\t<img mce_src=\"img/firefox.png\" src=\"img/firefox.png\" />\\r\\n\\t\\t\\t\\t</a> \\r\\n\\t\\t\\t\\t<a href=\"http://www.google.com/chrome\" mce_href=\"http://www.google.com/chrome\" target=\"_blank\"> \\r\\n\\t\\t\\t\\t\\t<img mce_src=\"img/chrome.jpg\" src=\"img/chrome.jpg\" />\\r\\n\\t\\t\\t\\t</a> \\r\\n\\t\\t\\t\\t<a href=\"http://www.browserforthebetter.com/download.html\" \\r\\n\\t\\t\\t\\t\\tmce_href=\"http://www.browserforthebetter.com/download.html\"\\ttarget=\"_blank\"> \\r\\n\\t\\t\\t\\t\\t<img mce_src=\"img/IE.jpg\" src=\"img/IE.jpg\" />\\r\\n\\t\\t\\t\\t</a> \\r\\n\\t\\t\\t\\t<a href=\"http://www.opera.com/\" mce_href=\"http://www.opera.com/\" target=\"_blank\"> \\r\\n\\t\\t\\t\\t\\t<img mce_src=\"img/opera.jpg\" src=\"img/opera.jpg\" />\\r\\n\\t\\t\\t\\t</a>\\r\\n\\t\\t\\t</div>\\r\\n\\t\\t</div>\\r\\n\\t</div>\\r\\n\\t<div id=\"footer\">\\r\\n\\t\\t<a href=\"http://promo.gpstracker.cv.ua/content/dopomoga\" target=\"_blank\">Допомога</a> |\\r\\n\\t\\t<a href=\"http://promo.gpstracker.cv.ua/sites/all/themes/tracker/license.pdf\" target=\"_blank\">Умови використання</a> |\\r\\n\\t\\t<a href=\"http://www.desyde.com.ua\">© 2010 Дісайд</a>\\r\\n\\t</div>\\r\\n</body>\\r\\n</html>'"
      ]
     },
     "execution_count": 7,
     "metadata": {},
     "output_type": "execute_result"
    }
   ],
   "source": [
    "request.text"
   ]
  }
 ],
 "metadata": {
  "kernelspec": {
   "display_name": "Python 3",
   "language": "python",
   "name": "python3"
  },
  "language_info": {
   "codemirror_mode": {
    "name": "ipython",
    "version": 3
   },
   "file_extension": ".py",
   "mimetype": "text/x-python",
   "name": "python",
   "nbconvert_exporter": "python",
   "pygments_lexer": "ipython3",
   "version": "3.8.9"
  }
 },
 "nbformat": 4,
 "nbformat_minor": 5
}
